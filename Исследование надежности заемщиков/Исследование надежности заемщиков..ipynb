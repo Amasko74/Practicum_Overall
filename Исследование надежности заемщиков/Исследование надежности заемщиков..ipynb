{
 "cells": [
  {
   "cell_type": "markdown",
   "id": "ab1eabef",
   "metadata": {},
   "source": [
    "# Исследование надежности заемщиков."
   ]
  },
  {
   "cell_type": "markdown",
   "id": "9a8e8bb0",
   "metadata": {},
   "source": [
    "Заказчик — кредитный отдел банка. Нужно разобраться, влияет ли семейное положение и количество детей клиента на факт погашения кредита в срок. Входные данные от банка — статистика о платёжеспособности клиентов.\n",
    "\n",
    "Результаты исследования будут учтены при построении модели кредитного скоринга — специальной системы, которая оценивает способность потенциального заёмщика вернуть кредит банку."
   ]
  },
  {
   "cell_type": "markdown",
   "id": "19ef6b8e",
   "metadata": {},
   "source": [
    "# Шаг 1. Обзор данных"
   ]
  },
  {
   "cell_type": "markdown",
   "id": "547a967f",
   "metadata": {},
   "source": [
    "Получим начальное представление о имеющейся у нас БД:"
   ]
  },
  {
   "cell_type": "code",
   "execution_count": 1,
   "id": "84e0f68d",
   "metadata": {},
   "outputs": [],
   "source": [
    "import pandas as pd # импорт библиотеки pandas\n",
    "data = pd.read_csv('/datasets/data.csv') # чтение файла с данными и сохранение в data"
   ]
  },
  {
   "cell_type": "code",
   "execution_count": 2,
   "id": "81ac2c1c",
   "metadata": {},
   "outputs": [
    {
     "data": {
      "text/html": [
       "<div>\n",
       "<style scoped>\n",
       "    .dataframe tbody tr th:only-of-type {\n",
       "        vertical-align: middle;\n",
       "    }\n",
       "\n",
       "    .dataframe tbody tr th {\n",
       "        vertical-align: top;\n",
       "    }\n",
       "\n",
       "    .dataframe thead th {\n",
       "        text-align: right;\n",
       "    }\n",
       "</style>\n",
       "<table border=\"1\" class=\"dataframe\">\n",
       "  <thead>\n",
       "    <tr style=\"text-align: right;\">\n",
       "      <th></th>\n",
       "      <th>children</th>\n",
       "      <th>days_employed</th>\n",
       "      <th>dob_years</th>\n",
       "      <th>education</th>\n",
       "      <th>education_id</th>\n",
       "      <th>family_status</th>\n",
       "      <th>family_status_id</th>\n",
       "      <th>gender</th>\n",
       "      <th>income_type</th>\n",
       "      <th>debt</th>\n",
       "      <th>total_income</th>\n",
       "      <th>purpose</th>\n",
       "    </tr>\n",
       "  </thead>\n",
       "  <tbody>\n",
       "    <tr>\n",
       "      <th>0</th>\n",
       "      <td>1</td>\n",
       "      <td>-8437.673028</td>\n",
       "      <td>42</td>\n",
       "      <td>высшее</td>\n",
       "      <td>0</td>\n",
       "      <td>женат / замужем</td>\n",
       "      <td>0</td>\n",
       "      <td>F</td>\n",
       "      <td>сотрудник</td>\n",
       "      <td>0</td>\n",
       "      <td>253875.639453</td>\n",
       "      <td>покупка жилья</td>\n",
       "    </tr>\n",
       "    <tr>\n",
       "      <th>1</th>\n",
       "      <td>1</td>\n",
       "      <td>-4024.803754</td>\n",
       "      <td>36</td>\n",
       "      <td>среднее</td>\n",
       "      <td>1</td>\n",
       "      <td>женат / замужем</td>\n",
       "      <td>0</td>\n",
       "      <td>F</td>\n",
       "      <td>сотрудник</td>\n",
       "      <td>0</td>\n",
       "      <td>112080.014102</td>\n",
       "      <td>приобретение автомобиля</td>\n",
       "    </tr>\n",
       "    <tr>\n",
       "      <th>2</th>\n",
       "      <td>0</td>\n",
       "      <td>-5623.422610</td>\n",
       "      <td>33</td>\n",
       "      <td>Среднее</td>\n",
       "      <td>1</td>\n",
       "      <td>женат / замужем</td>\n",
       "      <td>0</td>\n",
       "      <td>M</td>\n",
       "      <td>сотрудник</td>\n",
       "      <td>0</td>\n",
       "      <td>145885.952297</td>\n",
       "      <td>покупка жилья</td>\n",
       "    </tr>\n",
       "    <tr>\n",
       "      <th>3</th>\n",
       "      <td>3</td>\n",
       "      <td>-4124.747207</td>\n",
       "      <td>32</td>\n",
       "      <td>среднее</td>\n",
       "      <td>1</td>\n",
       "      <td>женат / замужем</td>\n",
       "      <td>0</td>\n",
       "      <td>M</td>\n",
       "      <td>сотрудник</td>\n",
       "      <td>0</td>\n",
       "      <td>267628.550329</td>\n",
       "      <td>дополнительное образование</td>\n",
       "    </tr>\n",
       "    <tr>\n",
       "      <th>4</th>\n",
       "      <td>0</td>\n",
       "      <td>340266.072047</td>\n",
       "      <td>53</td>\n",
       "      <td>среднее</td>\n",
       "      <td>1</td>\n",
       "      <td>гражданский брак</td>\n",
       "      <td>1</td>\n",
       "      <td>F</td>\n",
       "      <td>пенсионер</td>\n",
       "      <td>0</td>\n",
       "      <td>158616.077870</td>\n",
       "      <td>сыграть свадьбу</td>\n",
       "    </tr>\n",
       "    <tr>\n",
       "      <th>5</th>\n",
       "      <td>0</td>\n",
       "      <td>-926.185831</td>\n",
       "      <td>27</td>\n",
       "      <td>высшее</td>\n",
       "      <td>0</td>\n",
       "      <td>гражданский брак</td>\n",
       "      <td>1</td>\n",
       "      <td>M</td>\n",
       "      <td>компаньон</td>\n",
       "      <td>0</td>\n",
       "      <td>255763.565419</td>\n",
       "      <td>покупка жилья</td>\n",
       "    </tr>\n",
       "    <tr>\n",
       "      <th>6</th>\n",
       "      <td>0</td>\n",
       "      <td>-2879.202052</td>\n",
       "      <td>43</td>\n",
       "      <td>высшее</td>\n",
       "      <td>0</td>\n",
       "      <td>женат / замужем</td>\n",
       "      <td>0</td>\n",
       "      <td>F</td>\n",
       "      <td>компаньон</td>\n",
       "      <td>0</td>\n",
       "      <td>240525.971920</td>\n",
       "      <td>операции с жильем</td>\n",
       "    </tr>\n",
       "    <tr>\n",
       "      <th>7</th>\n",
       "      <td>0</td>\n",
       "      <td>-152.779569</td>\n",
       "      <td>50</td>\n",
       "      <td>СРЕДНЕЕ</td>\n",
       "      <td>1</td>\n",
       "      <td>женат / замужем</td>\n",
       "      <td>0</td>\n",
       "      <td>M</td>\n",
       "      <td>сотрудник</td>\n",
       "      <td>0</td>\n",
       "      <td>135823.934197</td>\n",
       "      <td>образование</td>\n",
       "    </tr>\n",
       "    <tr>\n",
       "      <th>8</th>\n",
       "      <td>2</td>\n",
       "      <td>-6929.865299</td>\n",
       "      <td>35</td>\n",
       "      <td>ВЫСШЕЕ</td>\n",
       "      <td>0</td>\n",
       "      <td>гражданский брак</td>\n",
       "      <td>1</td>\n",
       "      <td>F</td>\n",
       "      <td>сотрудник</td>\n",
       "      <td>0</td>\n",
       "      <td>95856.832424</td>\n",
       "      <td>на проведение свадьбы</td>\n",
       "    </tr>\n",
       "    <tr>\n",
       "      <th>9</th>\n",
       "      <td>0</td>\n",
       "      <td>-2188.756445</td>\n",
       "      <td>41</td>\n",
       "      <td>среднее</td>\n",
       "      <td>1</td>\n",
       "      <td>женат / замужем</td>\n",
       "      <td>0</td>\n",
       "      <td>M</td>\n",
       "      <td>сотрудник</td>\n",
       "      <td>0</td>\n",
       "      <td>144425.938277</td>\n",
       "      <td>покупка жилья для семьи</td>\n",
       "    </tr>\n",
       "  </tbody>\n",
       "</table>\n",
       "</div>"
      ],
      "text/plain": [
       "   children  days_employed  dob_years education  education_id  \\\n",
       "0         1   -8437.673028         42    высшее             0   \n",
       "1         1   -4024.803754         36   среднее             1   \n",
       "2         0   -5623.422610         33   Среднее             1   \n",
       "3         3   -4124.747207         32   среднее             1   \n",
       "4         0  340266.072047         53   среднее             1   \n",
       "5         0    -926.185831         27    высшее             0   \n",
       "6         0   -2879.202052         43    высшее             0   \n",
       "7         0    -152.779569         50   СРЕДНЕЕ             1   \n",
       "8         2   -6929.865299         35    ВЫСШЕЕ             0   \n",
       "9         0   -2188.756445         41   среднее             1   \n",
       "\n",
       "      family_status  family_status_id gender income_type  debt   total_income  \\\n",
       "0   женат / замужем                 0      F   сотрудник     0  253875.639453   \n",
       "1   женат / замужем                 0      F   сотрудник     0  112080.014102   \n",
       "2   женат / замужем                 0      M   сотрудник     0  145885.952297   \n",
       "3   женат / замужем                 0      M   сотрудник     0  267628.550329   \n",
       "4  гражданский брак                 1      F   пенсионер     0  158616.077870   \n",
       "5  гражданский брак                 1      M   компаньон     0  255763.565419   \n",
       "6   женат / замужем                 0      F   компаньон     0  240525.971920   \n",
       "7   женат / замужем                 0      M   сотрудник     0  135823.934197   \n",
       "8  гражданский брак                 1      F   сотрудник     0   95856.832424   \n",
       "9   женат / замужем                 0      M   сотрудник     0  144425.938277   \n",
       "\n",
       "                      purpose  \n",
       "0               покупка жилья  \n",
       "1     приобретение автомобиля  \n",
       "2               покупка жилья  \n",
       "3  дополнительное образование  \n",
       "4             сыграть свадьбу  \n",
       "5               покупка жилья  \n",
       "6           операции с жильем  \n",
       "7                 образование  \n",
       "8       на проведение свадьбы  \n",
       "9     покупка жилья для семьи  "
      ]
     },
     "metadata": {},
     "output_type": "display_data"
    }
   ],
   "source": [
    "display(data.head(10)) # получение первых 10 строк таблицы df"
   ]
  },
  {
   "cell_type": "code",
   "execution_count": 3,
   "id": "94f06cd7",
   "metadata": {},
   "outputs": [
    {
     "name": "stdout",
     "output_type": "stream",
     "text": [
      "<class 'pandas.core.frame.DataFrame'>\n",
      "RangeIndex: 21525 entries, 0 to 21524\n",
      "Data columns (total 12 columns):\n",
      " #   Column            Non-Null Count  Dtype  \n",
      "---  ------            --------------  -----  \n",
      " 0   children          21525 non-null  int64  \n",
      " 1   days_employed     19351 non-null  float64\n",
      " 2   dob_years         21525 non-null  int64  \n",
      " 3   education         21525 non-null  object \n",
      " 4   education_id      21525 non-null  int64  \n",
      " 5   family_status     21525 non-null  object \n",
      " 6   family_status_id  21525 non-null  int64  \n",
      " 7   gender            21525 non-null  object \n",
      " 8   income_type       21525 non-null  object \n",
      " 9   debt              21525 non-null  int64  \n",
      " 10  total_income      19351 non-null  float64\n",
      " 11  purpose           21525 non-null  object \n",
      "dtypes: float64(2), int64(5), object(5)\n",
      "memory usage: 2.0+ MB\n"
     ]
    }
   ],
   "source": [
    "data.info() # получение общей информации о данных в таблице data"
   ]
  },
  {
   "cell_type": "markdown",
   "id": "5a0336b6",
   "metadata": {},
   "source": [
    "**Во-первых**, наблюдаем явную проблему с колонкой `days_employed`.\n",
    "\n",
    "* Дни не могут быть вещественным числом.\n",
    "* Дни не могут быть отрицательными.\n",
    "\n",
    "Тут похоже есть проблема с выгрузкой или самим заполнением таблицы. Следовало бы задать пару вопросов человеку, который эти данные формировал. Предварительно можно решить эту проблему, взяв числа по модулю и перевести их в целочисленные значения.\n",
    "\n",
    "\n",
    "**Во-вторых**, заметны дубликаты в столбце `education`.\n",
    "\n",
    "* Одни и те же слова записаны в разном регистре\n",
    "\n",
    "Не беда, приведем их к нижнему регистру!\n",
    "\n",
    "**В-третьих**, по общей информации видим большое количестов пропусков в стобцах `days_employed` и `total_income`."
   ]
  },
  {
   "cell_type": "markdown",
   "id": "3e298d14",
   "metadata": {},
   "source": [
    "# Шаг 2.1 Заполнение пропусков "
   ]
  },
  {
   "cell_type": "markdown",
   "id": "56de83ae",
   "metadata": {},
   "source": [
    "Имеем большое количество пропусков в двух стобцах. Для начала посчитаем их количество, и удостоверимся, что в других стобцах пропусков нет."
   ]
  },
  {
   "cell_type": "code",
   "execution_count": 4,
   "id": "2e2ac4d0",
   "metadata": {},
   "outputs": [
    {
     "data": {
      "text/plain": [
       "children               0\n",
       "days_employed       2174\n",
       "dob_years              0\n",
       "education              0\n",
       "education_id           0\n",
       "family_status          0\n",
       "family_status_id       0\n",
       "gender                 0\n",
       "income_type            0\n",
       "debt                   0\n",
       "total_income        2174\n",
       "purpose                0\n",
       "dtype: int64"
      ]
     },
     "execution_count": 4,
     "metadata": {},
     "output_type": "execute_result"
    }
   ],
   "source": [
    "empty_values = data.isna().sum() # подсчёт пропусков\n",
    "empty_values"
   ]
  },
  {
   "cell_type": "markdown",
   "id": "d49bac0c",
   "metadata": {},
   "source": [
    "Можем подсчитать, какую долю составляют пропущенные значения в каждом из столбцов с пропусками."
   ]
  },
  {
   "cell_type": "code",
   "execution_count": 5,
   "id": "023dd276",
   "metadata": {},
   "outputs": [
    {
     "name": "stdout",
     "output_type": "stream",
     "text": [
      "10.10%\n"
     ]
    }
   ],
   "source": [
    "column = 'days_employed'\n",
    "percent_miss_values = data[column].isna().sum() / data[column].shape[0] # количество пропусков делим на общее количество строк в стобце\n",
    "print(f'{percent_miss_values:.2%}')"
   ]
  },
  {
   "cell_type": "code",
   "execution_count": 6,
   "id": "5e50d7b9",
   "metadata": {},
   "outputs": [
    {
     "name": "stdout",
     "output_type": "stream",
     "text": [
      "10.10%\n"
     ]
    }
   ],
   "source": [
    "column = 'total_income'\n",
    "percent_miss_values = data[column].isna().sum() / data[column].shape[0] # количество пропусков делим на общее количество строк в стобце\n",
    "print(f'{percent_miss_values:.2%}')"
   ]
  },
  {
   "cell_type": "markdown",
   "id": "4b4f6612",
   "metadata": {},
   "source": [
    "Видим, что в двух колонках процент пустых значений одинаков и составляет 10%. Не такое уж и маленькое значение, \n",
    "когда речь идет об анализе платёжеспособности клиентов. Так что лучше будет обработать эти пропуски и заполнить их медианными \n",
    "значениями, ведь они адекватно отражают среднюю тенденцию для ассимитричных распределений.\n",
    "\n",
    "Однако, для того, чтобы вычислить медиану адекватно, сначала избавимся от отрицательных значений в стобце `days_employed` и\n",
    ", на всякий случай, в `total_income`, а так же переведем дни в целочисленное значение."
   ]
  },
  {
   "cell_type": "code",
   "execution_count": 7,
   "id": "931a6d71",
   "metadata": {},
   "outputs": [],
   "source": [
    "data['days_employed'] = abs(data['days_employed']) # берем значения по модулю\n",
    "data['total_income'] = abs(data['total_income'])"
   ]
  },
  {
   "cell_type": "markdown",
   "id": "fb44814b",
   "metadata": {},
   "source": [
    "Теперь имеем \"нормальные\" значения"
   ]
  },
  {
   "cell_type": "code",
   "execution_count": 8,
   "id": "bed4528c",
   "metadata": {},
   "outputs": [],
   "source": [
    "data['days_employed'] = data['days_employed'].fillna(data['days_employed'].median()) # заполняем пропуски медианами\n",
    "data['total_income'] = data['total_income'].fillna(data['total_income'].median())"
   ]
  },
  {
   "cell_type": "markdown",
   "id": "2401d38d",
   "metadata": {},
   "source": [
    "Готово! Осталось проверить, пропали ли пропуски?"
   ]
  },
  {
   "cell_type": "code",
   "execution_count": 9,
   "id": "be9f2bcc",
   "metadata": {},
   "outputs": [
    {
     "data": {
      "text/plain": [
       "children            0\n",
       "days_employed       0\n",
       "dob_years           0\n",
       "education           0\n",
       "education_id        0\n",
       "family_status       0\n",
       "family_status_id    0\n",
       "gender              0\n",
       "income_type         0\n",
       "debt                0\n",
       "total_income        0\n",
       "purpose             0\n",
       "dtype: int64"
      ]
     },
     "execution_count": 9,
     "metadata": {},
     "output_type": "execute_result"
    }
   ],
   "source": [
    "empty_values = data.isna().sum() # подсчёт пропусков\n",
    "empty_values"
   ]
  },
  {
   "cell_type": "code",
   "execution_count": 10,
   "id": "bb2310d4",
   "metadata": {},
   "outputs": [
    {
     "data": {
      "text/html": [
       "<div>\n",
       "<style scoped>\n",
       "    .dataframe tbody tr th:only-of-type {\n",
       "        vertical-align: middle;\n",
       "    }\n",
       "\n",
       "    .dataframe tbody tr th {\n",
       "        vertical-align: top;\n",
       "    }\n",
       "\n",
       "    .dataframe thead th {\n",
       "        text-align: right;\n",
       "    }\n",
       "</style>\n",
       "<table border=\"1\" class=\"dataframe\">\n",
       "  <thead>\n",
       "    <tr style=\"text-align: right;\">\n",
       "      <th></th>\n",
       "      <th>children</th>\n",
       "      <th>days_employed</th>\n",
       "      <th>dob_years</th>\n",
       "      <th>education</th>\n",
       "      <th>education_id</th>\n",
       "      <th>family_status</th>\n",
       "      <th>family_status_id</th>\n",
       "      <th>gender</th>\n",
       "      <th>income_type</th>\n",
       "      <th>debt</th>\n",
       "      <th>total_income</th>\n",
       "      <th>purpose</th>\n",
       "    </tr>\n",
       "  </thead>\n",
       "  <tbody>\n",
       "    <tr>\n",
       "      <th>0</th>\n",
       "      <td>1</td>\n",
       "      <td>8437.673028</td>\n",
       "      <td>42</td>\n",
       "      <td>высшее</td>\n",
       "      <td>0</td>\n",
       "      <td>женат / замужем</td>\n",
       "      <td>0</td>\n",
       "      <td>F</td>\n",
       "      <td>сотрудник</td>\n",
       "      <td>0</td>\n",
       "      <td>253875.639453</td>\n",
       "      <td>покупка жилья</td>\n",
       "    </tr>\n",
       "    <tr>\n",
       "      <th>1</th>\n",
       "      <td>1</td>\n",
       "      <td>4024.803754</td>\n",
       "      <td>36</td>\n",
       "      <td>среднее</td>\n",
       "      <td>1</td>\n",
       "      <td>женат / замужем</td>\n",
       "      <td>0</td>\n",
       "      <td>F</td>\n",
       "      <td>сотрудник</td>\n",
       "      <td>0</td>\n",
       "      <td>112080.014102</td>\n",
       "      <td>приобретение автомобиля</td>\n",
       "    </tr>\n",
       "    <tr>\n",
       "      <th>2</th>\n",
       "      <td>0</td>\n",
       "      <td>5623.422610</td>\n",
       "      <td>33</td>\n",
       "      <td>Среднее</td>\n",
       "      <td>1</td>\n",
       "      <td>женат / замужем</td>\n",
       "      <td>0</td>\n",
       "      <td>M</td>\n",
       "      <td>сотрудник</td>\n",
       "      <td>0</td>\n",
       "      <td>145885.952297</td>\n",
       "      <td>покупка жилья</td>\n",
       "    </tr>\n",
       "    <tr>\n",
       "      <th>3</th>\n",
       "      <td>3</td>\n",
       "      <td>4124.747207</td>\n",
       "      <td>32</td>\n",
       "      <td>среднее</td>\n",
       "      <td>1</td>\n",
       "      <td>женат / замужем</td>\n",
       "      <td>0</td>\n",
       "      <td>M</td>\n",
       "      <td>сотрудник</td>\n",
       "      <td>0</td>\n",
       "      <td>267628.550329</td>\n",
       "      <td>дополнительное образование</td>\n",
       "    </tr>\n",
       "    <tr>\n",
       "      <th>4</th>\n",
       "      <td>0</td>\n",
       "      <td>340266.072047</td>\n",
       "      <td>53</td>\n",
       "      <td>среднее</td>\n",
       "      <td>1</td>\n",
       "      <td>гражданский брак</td>\n",
       "      <td>1</td>\n",
       "      <td>F</td>\n",
       "      <td>пенсионер</td>\n",
       "      <td>0</td>\n",
       "      <td>158616.077870</td>\n",
       "      <td>сыграть свадьбу</td>\n",
       "    </tr>\n",
       "    <tr>\n",
       "      <th>5</th>\n",
       "      <td>0</td>\n",
       "      <td>926.185831</td>\n",
       "      <td>27</td>\n",
       "      <td>высшее</td>\n",
       "      <td>0</td>\n",
       "      <td>гражданский брак</td>\n",
       "      <td>1</td>\n",
       "      <td>M</td>\n",
       "      <td>компаньон</td>\n",
       "      <td>0</td>\n",
       "      <td>255763.565419</td>\n",
       "      <td>покупка жилья</td>\n",
       "    </tr>\n",
       "    <tr>\n",
       "      <th>6</th>\n",
       "      <td>0</td>\n",
       "      <td>2879.202052</td>\n",
       "      <td>43</td>\n",
       "      <td>высшее</td>\n",
       "      <td>0</td>\n",
       "      <td>женат / замужем</td>\n",
       "      <td>0</td>\n",
       "      <td>F</td>\n",
       "      <td>компаньон</td>\n",
       "      <td>0</td>\n",
       "      <td>240525.971920</td>\n",
       "      <td>операции с жильем</td>\n",
       "    </tr>\n",
       "    <tr>\n",
       "      <th>7</th>\n",
       "      <td>0</td>\n",
       "      <td>152.779569</td>\n",
       "      <td>50</td>\n",
       "      <td>СРЕДНЕЕ</td>\n",
       "      <td>1</td>\n",
       "      <td>женат / замужем</td>\n",
       "      <td>0</td>\n",
       "      <td>M</td>\n",
       "      <td>сотрудник</td>\n",
       "      <td>0</td>\n",
       "      <td>135823.934197</td>\n",
       "      <td>образование</td>\n",
       "    </tr>\n",
       "    <tr>\n",
       "      <th>8</th>\n",
       "      <td>2</td>\n",
       "      <td>6929.865299</td>\n",
       "      <td>35</td>\n",
       "      <td>ВЫСШЕЕ</td>\n",
       "      <td>0</td>\n",
       "      <td>гражданский брак</td>\n",
       "      <td>1</td>\n",
       "      <td>F</td>\n",
       "      <td>сотрудник</td>\n",
       "      <td>0</td>\n",
       "      <td>95856.832424</td>\n",
       "      <td>на проведение свадьбы</td>\n",
       "    </tr>\n",
       "    <tr>\n",
       "      <th>9</th>\n",
       "      <td>0</td>\n",
       "      <td>2188.756445</td>\n",
       "      <td>41</td>\n",
       "      <td>среднее</td>\n",
       "      <td>1</td>\n",
       "      <td>женат / замужем</td>\n",
       "      <td>0</td>\n",
       "      <td>M</td>\n",
       "      <td>сотрудник</td>\n",
       "      <td>0</td>\n",
       "      <td>144425.938277</td>\n",
       "      <td>покупка жилья для семьи</td>\n",
       "    </tr>\n",
       "  </tbody>\n",
       "</table>\n",
       "</div>"
      ],
      "text/plain": [
       "   children  days_employed  dob_years education  education_id  \\\n",
       "0         1    8437.673028         42    высшее             0   \n",
       "1         1    4024.803754         36   среднее             1   \n",
       "2         0    5623.422610         33   Среднее             1   \n",
       "3         3    4124.747207         32   среднее             1   \n",
       "4         0  340266.072047         53   среднее             1   \n",
       "5         0     926.185831         27    высшее             0   \n",
       "6         0    2879.202052         43    высшее             0   \n",
       "7         0     152.779569         50   СРЕДНЕЕ             1   \n",
       "8         2    6929.865299         35    ВЫСШЕЕ             0   \n",
       "9         0    2188.756445         41   среднее             1   \n",
       "\n",
       "      family_status  family_status_id gender income_type  debt   total_income  \\\n",
       "0   женат / замужем                 0      F   сотрудник     0  253875.639453   \n",
       "1   женат / замужем                 0      F   сотрудник     0  112080.014102   \n",
       "2   женат / замужем                 0      M   сотрудник     0  145885.952297   \n",
       "3   женат / замужем                 0      M   сотрудник     0  267628.550329   \n",
       "4  гражданский брак                 1      F   пенсионер     0  158616.077870   \n",
       "5  гражданский брак                 1      M   компаньон     0  255763.565419   \n",
       "6   женат / замужем                 0      F   компаньон     0  240525.971920   \n",
       "7   женат / замужем                 0      M   сотрудник     0  135823.934197   \n",
       "8  гражданский брак                 1      F   сотрудник     0   95856.832424   \n",
       "9   женат / замужем                 0      M   сотрудник     0  144425.938277   \n",
       "\n",
       "                      purpose  \n",
       "0               покупка жилья  \n",
       "1     приобретение автомобиля  \n",
       "2               покупка жилья  \n",
       "3  дополнительное образование  \n",
       "4             сыграть свадьбу  \n",
       "5               покупка жилья  \n",
       "6           операции с жильем  \n",
       "7                 образование  \n",
       "8       на проведение свадьбы  \n",
       "9     покупка жилья для семьи  "
      ]
     },
     "metadata": {},
     "output_type": "display_data"
    }
   ],
   "source": [
    "display(data.head(10)) # посмотрим, что все красиво"
   ]
  },
  {
   "cell_type": "markdown",
   "id": "192fbbc7",
   "metadata": {},
   "source": [
    "С этим разобрались! Что дальше?"
   ]
  },
  {
   "cell_type": "markdown",
   "id": "fb3aa406",
   "metadata": {},
   "source": [
    " # Шаг 2.2 Проверка данных на аномалии и исправления."
   ]
  },
  {
   "cell_type": "markdown",
   "id": "6fee95ad",
   "metadata": {},
   "source": [
    "Самое время разобраться с другими столбцами и поискать еще нелепости...\n",
    "Будем использовать функцию `value_counts()`"
   ]
  },
  {
   "cell_type": "markdown",
   "id": "d4f2313a",
   "metadata": {},
   "source": [
    "**Проблемы, которые были выявлены:**\n",
    "* `data['children']` → Отрицательное количесвто детей. Неправдоподобно большое количество детей (20). \n",
    "* `data['dob_years']` → 101 сторока с показателем возраста в \"0\" лет. К счастью, нам возраст и не важен!\n",
    "* `data['education']` → Огромное количесвто одинаковых строк, вот только регистр разный.\n",
    "* `data['family_status']` → \"Не женат / не замужем\" немного режет глаз заглавная \"Н\", но проблем сданными это не вызывает.\n",
    "* `data['gender']` →  ̶X̶N̶A̶ ̶-̶ ̶Е̶щ̶е̶ ̶о̶д̶и̶н̶ ̶н̶о̶в̶ы̶й̶ ̶г̶е̶н̶д̶е̶р̶?̶  Для этого анализа гендер не имеет значения. XNA не повлияет на него.\n",
    "* `data['purpose']` → \"ремонт жилью\" - очевидная опечатка.\n",
    "\n",
    "И того, нам нужно обработать 3 столбца: \n",
    "* `data['children']` Скорее всего 20 детей - это 2, просто с лишним ноликом. А -1 возьмем за 1 ребенка."
   ]
  },
  {
   "cell_type": "code",
   "execution_count": 11,
   "id": "f376b671",
   "metadata": {},
   "outputs": [
    {
     "data": {
      "text/plain": [
       "0    14149\n",
       "1     4865\n",
       "2     2131\n",
       "3      330\n",
       "4       41\n",
       "5        9\n",
       "Name: children, dtype: int64"
      ]
     },
     "execution_count": 11,
     "metadata": {},
     "output_type": "execute_result"
    }
   ],
   "source": [
    "# исправим значения 20 для возраста, согласно нашей гипотезе\n",
    "data.loc[data['children'] == 20, 'children'] = 2\n",
    "# исправим значение -1 для количества детей, согласно нашей гипотезы \n",
    "data.loc[data['children'] == -1, 'children'] = 1\n",
    "# и сразу проверим\n",
    "data['children'].value_counts()\n"
   ]
  },
  {
   "cell_type": "markdown",
   "id": "d2604d0e",
   "metadata": {},
   "source": [
    "* `data['education']` Приведем все строки в нижний регистр."
   ]
  },
  {
   "cell_type": "code",
   "execution_count": 12,
   "id": "ea50f4a9",
   "metadata": {},
   "outputs": [
    {
     "data": {
      "text/plain": [
       "среднее                15233\n",
       "высшее                  5260\n",
       "неоконченное высшее      744\n",
       "начальное                282\n",
       "ученая степень             6\n",
       "Name: education, dtype: int64"
      ]
     },
     "execution_count": 12,
     "metadata": {},
     "output_type": "execute_result"
    }
   ],
   "source": [
    "data['education'] = data['education'].str.lower()\n",
    "# заодно и надоедливую \"Н\" прировняем ко всем!\n",
    "data['family_status'] = data['family_status'].str.lower()\n",
    "# так же проверяем\n",
    "data['education'].value_counts()"
   ]
  },
  {
   "cell_type": "markdown",
   "id": "12bc9774",
   "metadata": {},
   "source": [
    "* `data['purpose']` Правильно не \"ремонт жилью\", а \"ремонт жилья\"."
   ]
  },
  {
   "cell_type": "code",
   "execution_count": 13,
   "id": "ca54b062",
   "metadata": {},
   "outputs": [
    {
     "data": {
      "text/plain": [
       "свадьба                                   797\n",
       "на проведение свадьбы                     777\n",
       "сыграть свадьбу                           774\n",
       "операции с недвижимостью                  676\n",
       "покупка коммерческой недвижимости         664\n",
       "операции с жильем                         653\n",
       "покупка жилья для сдачи                   653\n",
       "операции с коммерческой недвижимостью     651\n",
       "жилье                                     647\n",
       "покупка жилья                             647\n",
       "покупка жилья для семьи                   641\n",
       "строительство собственной недвижимости    635\n",
       "недвижимость                              634\n",
       "операции со своей недвижимостью           630\n",
       "строительство жилой недвижимости          626\n",
       "покупка недвижимости                      624\n",
       "строительство недвижимости                620\n",
       "покупка своего жилья                      620\n",
       "ремонт жилья                              612\n",
       "покупка жилой недвижимости                607\n",
       "на покупку своего автомобиля              505\n",
       "заняться высшим образованием              496\n",
       "автомобиль                                495\n",
       "сделка с подержанным автомобилем          489\n",
       "свой автомобиль                           480\n",
       "на покупку подержанного автомобиля        479\n",
       "автомобили                                478\n",
       "на покупку автомобиля                     472\n",
       "приобретение автомобиля                   462\n",
       "дополнительное образование                462\n",
       "сделка с автомобилем                      455\n",
       "высшее образование                        453\n",
       "получение дополнительного образования     447\n",
       "образование                               447\n",
       "получение образования                     443\n",
       "профильное образование                    436\n",
       "получение высшего образования             426\n",
       "заняться образованием                     412\n",
       "Name: purpose, dtype: int64"
      ]
     },
     "execution_count": 13,
     "metadata": {},
     "output_type": "execute_result"
    }
   ],
   "source": [
    "# исправим опечатку в purpose\n",
    "data.loc[data['purpose'] == 'ремонт жилью', 'purpose'] = 'ремонт жилья'\n",
    "# проверим, что все хорошо\n",
    "data['purpose'].sort_values().value_counts()"
   ]
  },
  {
   "cell_type": "markdown",
   "id": "d7c3b85b",
   "metadata": {},
   "source": [
    "# Шаг 2.3. Изменение типов данных."
   ]
  },
  {
   "cell_type": "markdown",
   "id": "ba46fdca",
   "metadata": {},
   "source": [
    "Заменим тип `total_income` на int, т.к. точность до копеек нам сейчас не интересна, поскольку нам нужно конкретный целочисленный тип, а не вещественный, используем именно `astype`. Вместе с этим поправим и вещественное количество дней. "
   ]
  },
  {
   "cell_type": "code",
   "execution_count": 14,
   "id": "d1290479",
   "metadata": {},
   "outputs": [
    {
     "name": "stdout",
     "output_type": "stream",
     "text": [
      "<class 'pandas.core.frame.DataFrame'>\n",
      "RangeIndex: 21525 entries, 0 to 21524\n",
      "Data columns (total 12 columns):\n",
      " #   Column            Non-Null Count  Dtype \n",
      "---  ------            --------------  ----- \n",
      " 0   children          21525 non-null  int64 \n",
      " 1   days_employed     21525 non-null  int64 \n",
      " 2   dob_years         21525 non-null  int64 \n",
      " 3   education         21525 non-null  object\n",
      " 4   education_id      21525 non-null  int64 \n",
      " 5   family_status     21525 non-null  object\n",
      " 6   family_status_id  21525 non-null  int64 \n",
      " 7   gender            21525 non-null  object\n",
      " 8   income_type       21525 non-null  object\n",
      " 9   debt              21525 non-null  int64 \n",
      " 10  total_income      21525 non-null  int64 \n",
      " 11  purpose           21525 non-null  object\n",
      "dtypes: int64(7), object(5)\n",
      "memory usage: 2.0+ MB\n"
     ]
    }
   ],
   "source": [
    "data['total_income'] = data['total_income'].astype('int')\n",
    "data['days_employed'] = data['days_employed'].astype('int')\n",
    "\n",
    "# проверим, что все сделали верно\n",
    "data.info()"
   ]
  },
  {
   "cell_type": "markdown",
   "id": "c8f4b0e2",
   "metadata": {},
   "source": [
    "# Шаг 2.4. Удаление дубликатов."
   ]
  },
  {
   "cell_type": "markdown",
   "id": "1242e1d0",
   "metadata": {},
   "source": [
    "Проверим, есть ли дубликаты в таблице с помощью метода `duplicated` и избавимся от всего лишнего."
   ]
  },
  {
   "cell_type": "code",
   "execution_count": 15,
   "id": "45b98c83",
   "metadata": {},
   "outputs": [
    {
     "data": {
      "text/plain": [
       "71"
      ]
     },
     "execution_count": 15,
     "metadata": {},
     "output_type": "execute_result"
    }
   ],
   "source": [
    "data.duplicated().sum()"
   ]
  },
  {
   "cell_type": "code",
   "execution_count": 16,
   "id": "7381a60a",
   "metadata": {},
   "outputs": [
    {
     "data": {
      "text/plain": [
       "0"
      ]
     },
     "execution_count": 16,
     "metadata": {},
     "output_type": "execute_result"
    }
   ],
   "source": [
    "# удаляем дубликаты\n",
    "data.drop_duplicates(subset=None, keep=\"first\", inplace=True)\n",
    "# и проверим, что все хорошо\n",
    "data.duplicated().sum()"
   ]
  },
  {
   "cell_type": "markdown",
   "id": "6a023c45",
   "metadata": {},
   "source": [
    "# Шаг 2.5. Формирование дополнительных датафреймов словарей, декомпозиция исходного датафрейма."
   ]
  },
  {
   "cell_type": "markdown",
   "id": "80d4861c",
   "metadata": {},
   "source": [
    "Имеет сымысл создать два новыйх датафрейма для того, чтобы разгрузить нашу основную таблицу, и при этом все еще иметь доступ к тем данным, которые мы уберем. По сути создаем словари. Уберем два стобца `education` и `family_status` т.к. имеем их индификаторы."
   ]
  },
  {
   "cell_type": "code",
   "execution_count": 17,
   "id": "565116e7",
   "metadata": {},
   "outputs": [
    {
     "data": {
      "text/plain": [
       "education            education_id\n",
       "среднее              1               15172\n",
       "высшее               0                5250\n",
       "неоконченное высшее  2                 744\n",
       "начальное            3                 282\n",
       "ученая степень       4                   6\n",
       "dtype: int64"
      ]
     },
     "execution_count": 17,
     "metadata": {},
     "output_type": "execute_result"
    }
   ],
   "source": [
    "# создаем новый датафрейм\n",
    "education_df = data[['education', 'education_id']]\n",
    "education_df.value_counts()"
   ]
  },
  {
   "cell_type": "code",
   "execution_count": 18,
   "id": "1bdc4333",
   "metadata": {},
   "outputs": [
    {
     "data": {
      "text/plain": [
       "family_status          family_status_id\n",
       "женат / замужем        0                   12339\n",
       "гражданский брак       1                    4151\n",
       "не женат / не замужем  4                    2810\n",
       "в разводе              3                    1195\n",
       "вдовец / вдова         2                     959\n",
       "dtype: int64"
      ]
     },
     "execution_count": 18,
     "metadata": {},
     "output_type": "execute_result"
    }
   ],
   "source": [
    "# создаем новый датафрейм\n",
    "family_df = data[['family_status', 'family_status_id']]\n",
    "family_df.value_counts()"
   ]
  },
  {
   "cell_type": "code",
   "execution_count": 19,
   "id": "bd7e92fe",
   "metadata": {},
   "outputs": [
    {
     "name": "stdout",
     "output_type": "stream",
     "text": [
      "<class 'pandas.core.frame.DataFrame'>\n",
      "Int64Index: 21454 entries, 0 to 21524\n",
      "Data columns (total 10 columns):\n",
      " #   Column            Non-Null Count  Dtype \n",
      "---  ------            --------------  ----- \n",
      " 0   children          21454 non-null  int64 \n",
      " 1   days_employed     21454 non-null  int64 \n",
      " 2   dob_years         21454 non-null  int64 \n",
      " 3   education_id      21454 non-null  int64 \n",
      " 4   family_status_id  21454 non-null  int64 \n",
      " 5   gender            21454 non-null  object\n",
      " 6   income_type       21454 non-null  object\n",
      " 7   debt              21454 non-null  int64 \n",
      " 8   total_income      21454 non-null  int64 \n",
      " 9   purpose           21454 non-null  object\n",
      "dtypes: int64(7), object(3)\n",
      "memory usage: 1.8+ MB\n"
     ]
    }
   ],
   "source": [
    "# убираем уже не нужные столбцы\n",
    "data = data.drop(columns='family_status')\n",
    "data = data.drop(columns='education')\n",
    "# проверка \n",
    "data.info()"
   ]
  },
  {
   "cell_type": "markdown",
   "id": "60d8917b",
   "metadata": {},
   "source": [
    "Визульно разгрузили нашу основную таблицу и не потеряли ни капли информации!"
   ]
  },
  {
   "cell_type": "markdown",
   "id": "8374450e",
   "metadata": {},
   "source": [
    "# Шаг 2.6. Категоризация дохода."
   ]
  },
  {
   "cell_type": "markdown",
   "id": "f3c2c4d4",
   "metadata": {},
   "source": [
    "Для облегчтения работы с доходами клинтов банка следует создать новый столбец, где клиенты будут делиться на 5 групп по количеству зароботной платы. "
   ]
  },
  {
   "cell_type": "code",
   "execution_count": 20,
   "id": "2982a588",
   "metadata": {},
   "outputs": [
    {
     "data": {
      "text/html": [
       "<div>\n",
       "<style scoped>\n",
       "    .dataframe tbody tr th:only-of-type {\n",
       "        vertical-align: middle;\n",
       "    }\n",
       "\n",
       "    .dataframe tbody tr th {\n",
       "        vertical-align: top;\n",
       "    }\n",
       "\n",
       "    .dataframe thead th {\n",
       "        text-align: right;\n",
       "    }\n",
       "</style>\n",
       "<table border=\"1\" class=\"dataframe\">\n",
       "  <thead>\n",
       "    <tr style=\"text-align: right;\">\n",
       "      <th></th>\n",
       "      <th>children</th>\n",
       "      <th>days_employed</th>\n",
       "      <th>dob_years</th>\n",
       "      <th>education_id</th>\n",
       "      <th>family_status_id</th>\n",
       "      <th>gender</th>\n",
       "      <th>income_type</th>\n",
       "      <th>debt</th>\n",
       "      <th>total_income</th>\n",
       "      <th>total_income_category</th>\n",
       "      <th>purpose</th>\n",
       "    </tr>\n",
       "  </thead>\n",
       "  <tbody>\n",
       "    <tr>\n",
       "      <th>0</th>\n",
       "      <td>1</td>\n",
       "      <td>8437</td>\n",
       "      <td>42</td>\n",
       "      <td>0</td>\n",
       "      <td>0</td>\n",
       "      <td>F</td>\n",
       "      <td>сотрудник</td>\n",
       "      <td>0</td>\n",
       "      <td>253875</td>\n",
       "      <td>B</td>\n",
       "      <td>покупка жилья</td>\n",
       "    </tr>\n",
       "    <tr>\n",
       "      <th>1</th>\n",
       "      <td>1</td>\n",
       "      <td>4024</td>\n",
       "      <td>36</td>\n",
       "      <td>1</td>\n",
       "      <td>0</td>\n",
       "      <td>F</td>\n",
       "      <td>сотрудник</td>\n",
       "      <td>0</td>\n",
       "      <td>112080</td>\n",
       "      <td>C</td>\n",
       "      <td>приобретение автомобиля</td>\n",
       "    </tr>\n",
       "    <tr>\n",
       "      <th>2</th>\n",
       "      <td>0</td>\n",
       "      <td>5623</td>\n",
       "      <td>33</td>\n",
       "      <td>1</td>\n",
       "      <td>0</td>\n",
       "      <td>M</td>\n",
       "      <td>сотрудник</td>\n",
       "      <td>0</td>\n",
       "      <td>145885</td>\n",
       "      <td>C</td>\n",
       "      <td>покупка жилья</td>\n",
       "    </tr>\n",
       "    <tr>\n",
       "      <th>3</th>\n",
       "      <td>3</td>\n",
       "      <td>4124</td>\n",
       "      <td>32</td>\n",
       "      <td>1</td>\n",
       "      <td>0</td>\n",
       "      <td>M</td>\n",
       "      <td>сотрудник</td>\n",
       "      <td>0</td>\n",
       "      <td>267628</td>\n",
       "      <td>B</td>\n",
       "      <td>дополнительное образование</td>\n",
       "    </tr>\n",
       "    <tr>\n",
       "      <th>4</th>\n",
       "      <td>0</td>\n",
       "      <td>340266</td>\n",
       "      <td>53</td>\n",
       "      <td>1</td>\n",
       "      <td>1</td>\n",
       "      <td>F</td>\n",
       "      <td>пенсионер</td>\n",
       "      <td>0</td>\n",
       "      <td>158616</td>\n",
       "      <td>C</td>\n",
       "      <td>сыграть свадьбу</td>\n",
       "    </tr>\n",
       "    <tr>\n",
       "      <th>5</th>\n",
       "      <td>0</td>\n",
       "      <td>926</td>\n",
       "      <td>27</td>\n",
       "      <td>0</td>\n",
       "      <td>1</td>\n",
       "      <td>M</td>\n",
       "      <td>компаньон</td>\n",
       "      <td>0</td>\n",
       "      <td>255763</td>\n",
       "      <td>B</td>\n",
       "      <td>покупка жилья</td>\n",
       "    </tr>\n",
       "    <tr>\n",
       "      <th>6</th>\n",
       "      <td>0</td>\n",
       "      <td>2879</td>\n",
       "      <td>43</td>\n",
       "      <td>0</td>\n",
       "      <td>0</td>\n",
       "      <td>F</td>\n",
       "      <td>компаньон</td>\n",
       "      <td>0</td>\n",
       "      <td>240525</td>\n",
       "      <td>B</td>\n",
       "      <td>операции с жильем</td>\n",
       "    </tr>\n",
       "    <tr>\n",
       "      <th>7</th>\n",
       "      <td>0</td>\n",
       "      <td>152</td>\n",
       "      <td>50</td>\n",
       "      <td>1</td>\n",
       "      <td>0</td>\n",
       "      <td>M</td>\n",
       "      <td>сотрудник</td>\n",
       "      <td>0</td>\n",
       "      <td>135823</td>\n",
       "      <td>C</td>\n",
       "      <td>образование</td>\n",
       "    </tr>\n",
       "    <tr>\n",
       "      <th>8</th>\n",
       "      <td>2</td>\n",
       "      <td>6929</td>\n",
       "      <td>35</td>\n",
       "      <td>0</td>\n",
       "      <td>1</td>\n",
       "      <td>F</td>\n",
       "      <td>сотрудник</td>\n",
       "      <td>0</td>\n",
       "      <td>95856</td>\n",
       "      <td>C</td>\n",
       "      <td>на проведение свадьбы</td>\n",
       "    </tr>\n",
       "    <tr>\n",
       "      <th>9</th>\n",
       "      <td>0</td>\n",
       "      <td>2188</td>\n",
       "      <td>41</td>\n",
       "      <td>1</td>\n",
       "      <td>0</td>\n",
       "      <td>M</td>\n",
       "      <td>сотрудник</td>\n",
       "      <td>0</td>\n",
       "      <td>144425</td>\n",
       "      <td>C</td>\n",
       "      <td>покупка жилья для семьи</td>\n",
       "    </tr>\n",
       "  </tbody>\n",
       "</table>\n",
       "</div>"
      ],
      "text/plain": [
       "   children  days_employed  dob_years  education_id  family_status_id gender  \\\n",
       "0         1           8437         42             0                 0      F   \n",
       "1         1           4024         36             1                 0      F   \n",
       "2         0           5623         33             1                 0      M   \n",
       "3         3           4124         32             1                 0      M   \n",
       "4         0         340266         53             1                 1      F   \n",
       "5         0            926         27             0                 1      M   \n",
       "6         0           2879         43             0                 0      F   \n",
       "7         0            152         50             1                 0      M   \n",
       "8         2           6929         35             0                 1      F   \n",
       "9         0           2188         41             1                 0      M   \n",
       "\n",
       "  income_type  debt  total_income total_income_category  \\\n",
       "0   сотрудник     0        253875                     B   \n",
       "1   сотрудник     0        112080                     C   \n",
       "2   сотрудник     0        145885                     C   \n",
       "3   сотрудник     0        267628                     B   \n",
       "4   пенсионер     0        158616                     C   \n",
       "5   компаньон     0        255763                     B   \n",
       "6   компаньон     0        240525                     B   \n",
       "7   сотрудник     0        135823                     C   \n",
       "8   сотрудник     0         95856                     C   \n",
       "9   сотрудник     0        144425                     C   \n",
       "\n",
       "                      purpose  \n",
       "0               покупка жилья  \n",
       "1     приобретение автомобиля  \n",
       "2               покупка жилья  \n",
       "3  дополнительное образование  \n",
       "4             сыграть свадьбу  \n",
       "5               покупка жилья  \n",
       "6           операции с жильем  \n",
       "7                 образование  \n",
       "8       на проведение свадьбы  \n",
       "9     покупка жилья для семьи  "
      ]
     },
     "metadata": {},
     "output_type": "display_data"
    },
    {
     "data": {
      "text/plain": [
       "C    16016\n",
       "B     5041\n",
       "D      350\n",
       "A       25\n",
       "E       22\n",
       "Name: total_income_category, dtype: int64"
      ]
     },
     "metadata": {},
     "output_type": "display_data"
    }
   ],
   "source": [
    "# Создаем функцию для сортировки прибыли на группы\n",
    "def income_level(income):\n",
    "    if income <=30000: \n",
    "        return 'E'\n",
    "    elif income <= 50000: \n",
    "        return 'D'\n",
    "    elif income <= 200000:\n",
    "        return 'C'\n",
    "    elif income <= 1000000:\n",
    "        return 'B'\n",
    "    elif income >= 1000001:\n",
    "        return 'A'\n",
    " \n",
    "# создаем список отсортированных групп для последущего превращения его в колонку\n",
    "list_income_level = []\n",
    "for income in data['total_income']:\n",
    "    list_income_level.append(income_level(income))\n",
    "\n",
    "data.insert(9, 'total_income_category', list_income_level) # используя метод 'insert', вставляем столбец в нужное нам место\n",
    "display(data.head(10)) # проверка\n",
    "display(data['total_income_category'].value_counts()) # посмотрим каких клиентов, с каким уровнем зарпалты больше всего"
   ]
  },
  {
   "cell_type": "markdown",
   "id": "e6952f9f",
   "metadata": {},
   "source": [
    "Выполнив все действия, можем заметить, что клинтов категории \"С\", то есть зарабатывающих от 50001 до 200000, больше всего."
   ]
  },
  {
   "cell_type": "markdown",
   "id": "0b455d0c",
   "metadata": {},
   "source": [
    "# Шаг 2.7. Категоризация целей кредита."
   ]
  },
  {
   "cell_type": "markdown",
   "id": "7f9cfc17",
   "metadata": {},
   "source": [
    "Создадим бОльшие группы для работы со столбцом `purpose` и его категоризации."
   ]
  },
  {
   "cell_type": "code",
   "execution_count": 21,
   "id": "2f21fcbd",
   "metadata": {},
   "outputs": [],
   "source": [
    "data['purpose'] = data['purpose'].astype('string') # переведем значения сталбца в строки, для последущей обработки"
   ]
  },
  {
   "cell_type": "code",
   "execution_count": 22,
   "id": "ad7597b6",
   "metadata": {},
   "outputs": [
    {
     "data": {
      "text/plain": [
       "операции с недвижимостью    10811\n",
       "операции с автомобилем       4306\n",
       "получение образования        4013\n",
       "проведение свадьбы           2324\n",
       "Name: purpose_category, dtype: int64"
      ]
     },
     "execution_count": 22,
     "metadata": {},
     "output_type": "execute_result"
    }
   ],
   "source": [
    "# создаем фунцию, которая возвращает нужную нам строку в зависимости от наличя подстроки в строке столбца purpose\n",
    "def category_purpose(row):\n",
    "    purpose = row['purpose']\n",
    "    if 'недвижим' in purpose:\n",
    "        return 'операции с недвижимостью'\n",
    "    elif 'жил' in purpose:\n",
    "        return 'операции с недвижимостью'\n",
    "    elif 'свадьб' in purpose:\n",
    "        return 'проведение свадьбы'\n",
    "    elif 'автомоб' in purpose:\n",
    "        return 'операции с автомобилем'\n",
    "    elif 'образова' in purpose:\n",
    "        return 'получение образования'\n",
    "    else:\n",
    "        return 'неопределено'\n",
    "\n",
    "data['purpose_category'] = data.apply(category_purpose, axis=1) # создаем столбец\n",
    "data['purpose_category'].value_counts() # проверяем\n"
   ]
  },
  {
   "cell_type": "markdown",
   "id": "e40b1ffe",
   "metadata": {},
   "source": [
    "Наблюдаем, что операций с недвижимостью больше всего, в то время как кредиты на свадьбу берут меньше всего. Кредиты на образование и операции с автомобилем примерно одинаковое значение. "
   ]
  },
  {
   "cell_type": "markdown",
   "id": "7d6613e1",
   "metadata": {},
   "source": [
    "# Шаг 3. Ответы на вопросы."
   ]
  },
  {
   "cell_type": "markdown",
   "id": "cbbe1d95",
   "metadata": {},
   "source": [
    "**Вопрос 1:** Есть ли зависимость между количеством детей и возвратом кредита в срок?"
   ]
  },
  {
   "cell_type": "code",
   "execution_count": 23,
   "id": "eaf5c08e",
   "metadata": {},
   "outputs": [
    {
     "data": {
      "text/html": [
       "<div>\n",
       "<style scoped>\n",
       "    .dataframe tbody tr th:only-of-type {\n",
       "        vertical-align: middle;\n",
       "    }\n",
       "\n",
       "    .dataframe tbody tr th {\n",
       "        vertical-align: top;\n",
       "    }\n",
       "\n",
       "    .dataframe thead th {\n",
       "        text-align: right;\n",
       "    }\n",
       "</style>\n",
       "<table border=\"1\" class=\"dataframe\">\n",
       "  <thead>\n",
       "    <tr style=\"text-align: right;\">\n",
       "      <th></th>\n",
       "      <th>count_children</th>\n",
       "      <th>sum_children</th>\n",
       "      <th>result_children</th>\n",
       "    </tr>\n",
       "    <tr>\n",
       "      <th>children</th>\n",
       "      <th></th>\n",
       "      <th></th>\n",
       "      <th></th>\n",
       "    </tr>\n",
       "  </thead>\n",
       "  <tbody>\n",
       "    <tr>\n",
       "      <th>4</th>\n",
       "      <td>41</td>\n",
       "      <td>4</td>\n",
       "      <td>0.097561</td>\n",
       "    </tr>\n",
       "    <tr>\n",
       "      <th>2</th>\n",
       "      <td>2128</td>\n",
       "      <td>202</td>\n",
       "      <td>0.094925</td>\n",
       "    </tr>\n",
       "    <tr>\n",
       "      <th>1</th>\n",
       "      <td>4855</td>\n",
       "      <td>445</td>\n",
       "      <td>0.091658</td>\n",
       "    </tr>\n",
       "    <tr>\n",
       "      <th>3</th>\n",
       "      <td>330</td>\n",
       "      <td>27</td>\n",
       "      <td>0.081818</td>\n",
       "    </tr>\n",
       "    <tr>\n",
       "      <th>0</th>\n",
       "      <td>14091</td>\n",
       "      <td>1063</td>\n",
       "      <td>0.075438</td>\n",
       "    </tr>\n",
       "    <tr>\n",
       "      <th>5</th>\n",
       "      <td>9</td>\n",
       "      <td>0</td>\n",
       "      <td>0.000000</td>\n",
       "    </tr>\n",
       "  </tbody>\n",
       "</table>\n",
       "</div>"
      ],
      "text/plain": [
       "          count_children  sum_children  result_children\n",
       "children                                               \n",
       "4                     41             4         0.097561\n",
       "2                   2128           202         0.094925\n",
       "1                   4855           445         0.091658\n",
       "3                    330            27         0.081818\n",
       "0                  14091          1063         0.075438\n",
       "5                      9             0         0.000000"
      ]
     },
     "execution_count": 23,
     "metadata": {},
     "output_type": "execute_result"
    }
   ],
   "source": [
    "debt_from_children = pd.DataFrame()\n",
    "debt_from_children['count_children'] = data.groupby('children')['debt'].count()\n",
    "debt_from_children['sum_children'] = data.groupby('children')['debt'].sum()\n",
    "debt_from_children['result_children'] = debt_from_children['sum_children'] / debt_from_children['count_children'] \n",
    "debt_from_children.sort_values(by='result_children', ascending = False)"
   ]
  },
  {
   "cell_type": "markdown",
   "id": "098e274f",
   "metadata": {},
   "source": [
    "**Вывод 1:** С увеличением количества детей мы видим увеличение количества просроченных задолженностей, хотя люди с 3 детьми чаще платят в срок чем люди с 1 ребенком. Бездетные, как правило реже просрачивают оплату по кредиту, чем люди с детьми."
   ]
  },
  {
   "cell_type": "markdown",
   "id": "6eab039a",
   "metadata": {},
   "source": [
    "**Вопрос 2:** Есть ли зависимость между семейным положением и возвратом кредита в срок?"
   ]
  },
  {
   "cell_type": "code",
   "execution_count": 24,
   "id": "480e07ae",
   "metadata": {},
   "outputs": [
    {
     "data": {
      "text/html": [
       "<div>\n",
       "<style scoped>\n",
       "    .dataframe tbody tr th:only-of-type {\n",
       "        vertical-align: middle;\n",
       "    }\n",
       "\n",
       "    .dataframe tbody tr th {\n",
       "        vertical-align: top;\n",
       "    }\n",
       "\n",
       "    .dataframe thead th {\n",
       "        text-align: right;\n",
       "    }\n",
       "</style>\n",
       "<table border=\"1\" class=\"dataframe\">\n",
       "  <thead>\n",
       "    <tr style=\"text-align: right;\">\n",
       "      <th></th>\n",
       "      <th>count_family_status</th>\n",
       "      <th>sum_family_status</th>\n",
       "      <th>result_family_status</th>\n",
       "    </tr>\n",
       "    <tr>\n",
       "      <th>family_status_id</th>\n",
       "      <th></th>\n",
       "      <th></th>\n",
       "      <th></th>\n",
       "    </tr>\n",
       "  </thead>\n",
       "  <tbody>\n",
       "    <tr>\n",
       "      <th>4</th>\n",
       "      <td>2810</td>\n",
       "      <td>274</td>\n",
       "      <td>0.097509</td>\n",
       "    </tr>\n",
       "    <tr>\n",
       "      <th>1</th>\n",
       "      <td>4151</td>\n",
       "      <td>388</td>\n",
       "      <td>0.093471</td>\n",
       "    </tr>\n",
       "    <tr>\n",
       "      <th>0</th>\n",
       "      <td>12339</td>\n",
       "      <td>931</td>\n",
       "      <td>0.075452</td>\n",
       "    </tr>\n",
       "    <tr>\n",
       "      <th>3</th>\n",
       "      <td>1195</td>\n",
       "      <td>85</td>\n",
       "      <td>0.071130</td>\n",
       "    </tr>\n",
       "    <tr>\n",
       "      <th>2</th>\n",
       "      <td>959</td>\n",
       "      <td>63</td>\n",
       "      <td>0.065693</td>\n",
       "    </tr>\n",
       "  </tbody>\n",
       "</table>\n",
       "</div>"
      ],
      "text/plain": [
       "                  count_family_status  sum_family_status  result_family_status\n",
       "family_status_id                                                              \n",
       "4                                2810                274              0.097509\n",
       "1                                4151                388              0.093471\n",
       "0                               12339                931              0.075452\n",
       "3                                1195                 85              0.071130\n",
       "2                                 959                 63              0.065693"
      ]
     },
     "execution_count": 24,
     "metadata": {},
     "output_type": "execute_result"
    }
   ],
   "source": [
    "debt_from_family_status = pd.DataFrame()\n",
    "debt_from_family_status['count_family_status'] = data.groupby('family_status_id')['debt'].count()\n",
    "debt_from_family_status['sum_family_status'] = data.groupby('family_status_id')['debt'].sum()\n",
    "debt_from_family_status['result_family_status'] = debt_from_family_status['sum_family_status'] / debt_from_family_status['count_family_status'] \n",
    "debt_from_family_status.sort_values('result_family_status', ascending = False)"
   ]
  },
  {
   "cell_type": "markdown",
   "id": "ce9b6fe8",
   "metadata": {},
   "source": [
    "**Вывод 2:** Да, зависимость есть. Люди не в браке и не бывавшие в браке имеют больший процент невозвратов в срок. Но, те кто развелись или овдовели чаще платят в срок, чем люди в браке."
   ]
  },
  {
   "cell_type": "markdown",
   "id": "44016255",
   "metadata": {},
   "source": [
    "**Вопрос 3:** Есть ли зависимость между уровнем дохода и возвратом кредита в срок?"
   ]
  },
  {
   "cell_type": "code",
   "execution_count": 25,
   "id": "01542c48",
   "metadata": {},
   "outputs": [
    {
     "data": {
      "text/html": [
       "<div>\n",
       "<style scoped>\n",
       "    .dataframe tbody tr th:only-of-type {\n",
       "        vertical-align: middle;\n",
       "    }\n",
       "\n",
       "    .dataframe tbody tr th {\n",
       "        vertical-align: top;\n",
       "    }\n",
       "\n",
       "    .dataframe thead th {\n",
       "        text-align: right;\n",
       "    }\n",
       "</style>\n",
       "<table border=\"1\" class=\"dataframe\">\n",
       "  <thead>\n",
       "    <tr style=\"text-align: right;\">\n",
       "      <th></th>\n",
       "      <th>count</th>\n",
       "      <th>sum</th>\n",
       "      <th>conversion</th>\n",
       "    </tr>\n",
       "    <tr>\n",
       "      <th>total_income_category</th>\n",
       "      <th></th>\n",
       "      <th></th>\n",
       "      <th></th>\n",
       "    </tr>\n",
       "  </thead>\n",
       "  <tbody>\n",
       "    <tr>\n",
       "      <th>E</th>\n",
       "      <td>22</td>\n",
       "      <td>2</td>\n",
       "      <td>0.090909</td>\n",
       "    </tr>\n",
       "    <tr>\n",
       "      <th>C</th>\n",
       "      <td>16016</td>\n",
       "      <td>1360</td>\n",
       "      <td>0.084915</td>\n",
       "    </tr>\n",
       "    <tr>\n",
       "      <th>A</th>\n",
       "      <td>25</td>\n",
       "      <td>2</td>\n",
       "      <td>0.080000</td>\n",
       "    </tr>\n",
       "    <tr>\n",
       "      <th>B</th>\n",
       "      <td>5041</td>\n",
       "      <td>356</td>\n",
       "      <td>0.070621</td>\n",
       "    </tr>\n",
       "    <tr>\n",
       "      <th>D</th>\n",
       "      <td>350</td>\n",
       "      <td>21</td>\n",
       "      <td>0.060000</td>\n",
       "    </tr>\n",
       "  </tbody>\n",
       "</table>\n",
       "</div>"
      ],
      "text/plain": [
       "                       count   sum  conversion\n",
       "total_income_category                         \n",
       "E                         22     2    0.090909\n",
       "C                      16016  1360    0.084915\n",
       "A                         25     2    0.080000\n",
       "B                       5041   356    0.070621\n",
       "D                        350    21    0.060000"
      ]
     },
     "execution_count": 25,
     "metadata": {},
     "output_type": "execute_result"
    }
   ],
   "source": [
    "debt_from_total_income = pd.DataFrame()\n",
    "debt_from_total_income['count'] = data.groupby('total_income_category')['debt'].count()\n",
    "debt_from_total_income['sum'] = data.groupby('total_income_category')['debt'].sum()\n",
    "debt_from_total_income['conversion'] = debt_from_total_income['sum'] / debt_from_total_income['count']\n",
    "debt_from_total_income.sort_values('conversion', ascending = False)"
   ]
  },
  {
   "cell_type": "markdown",
   "id": "d11867e9",
   "metadata": {},
   "source": [
    "**Вывод 3:** На самом деле в данном случае будет несправедливо сравнить результаты, ибо основную часть людей представляют доход \"С\" категории, однако в целом видим, что те, кто зарабатывают от 30000 до 50000 имеют меньше проскрочек по платежам."
   ]
  },
  {
   "cell_type": "markdown",
   "id": "f350aa67",
   "metadata": {},
   "source": [
    "**Вопрос 4:** Как разные цели кредита влияют на его возврат в срок?"
   ]
  },
  {
   "cell_type": "code",
   "execution_count": 27,
   "id": "9c276a7c",
   "metadata": {},
   "outputs": [
    {
     "data": {
      "text/html": [
       "<div>\n",
       "<style scoped>\n",
       "    .dataframe tbody tr th:only-of-type {\n",
       "        vertical-align: middle;\n",
       "    }\n",
       "\n",
       "    .dataframe tbody tr th {\n",
       "        vertical-align: top;\n",
       "    }\n",
       "\n",
       "    .dataframe thead th {\n",
       "        text-align: right;\n",
       "    }\n",
       "</style>\n",
       "<table border=\"1\" class=\"dataframe\">\n",
       "  <thead>\n",
       "    <tr style=\"text-align: right;\">\n",
       "      <th></th>\n",
       "      <th>count_purpose_category</th>\n",
       "      <th>sum_purpose_category</th>\n",
       "      <th>result_purpose_category</th>\n",
       "    </tr>\n",
       "    <tr>\n",
       "      <th>purpose_category</th>\n",
       "      <th></th>\n",
       "      <th></th>\n",
       "      <th></th>\n",
       "    </tr>\n",
       "  </thead>\n",
       "  <tbody>\n",
       "    <tr>\n",
       "      <th>операции с автомобилем</th>\n",
       "      <td>4306</td>\n",
       "      <td>403</td>\n",
       "      <td>0.093590</td>\n",
       "    </tr>\n",
       "    <tr>\n",
       "      <th>получение образования</th>\n",
       "      <td>4013</td>\n",
       "      <td>370</td>\n",
       "      <td>0.092200</td>\n",
       "    </tr>\n",
       "    <tr>\n",
       "      <th>проведение свадьбы</th>\n",
       "      <td>2324</td>\n",
       "      <td>186</td>\n",
       "      <td>0.080034</td>\n",
       "    </tr>\n",
       "    <tr>\n",
       "      <th>операции с недвижимостью</th>\n",
       "      <td>10811</td>\n",
       "      <td>782</td>\n",
       "      <td>0.072334</td>\n",
       "    </tr>\n",
       "  </tbody>\n",
       "</table>\n",
       "</div>"
      ],
      "text/plain": [
       "                          count_purpose_category  sum_purpose_category  \\\n",
       "purpose_category                                                         \n",
       "операции с автомобилем                      4306                   403   \n",
       "получение образования                       4013                   370   \n",
       "проведение свадьбы                          2324                   186   \n",
       "операции с недвижимостью                   10811                   782   \n",
       "\n",
       "                          result_purpose_category  \n",
       "purpose_category                                   \n",
       "операции с автомобилем                   0.093590  \n",
       "получение образования                    0.092200  \n",
       "проведение свадьбы                       0.080034  \n",
       "операции с недвижимостью                 0.072334  "
      ]
     },
     "execution_count": 27,
     "metadata": {},
     "output_type": "execute_result"
    }
   ],
   "source": [
    "debt_from_purpose_category = pd.DataFrame()\n",
    "debt_from_purpose_category['count_purpose_category'] = data.groupby('purpose_category')['debt'].count()\n",
    "debt_from_purpose_category['sum_purpose_category'] = data.groupby('purpose_category')['debt'].sum()\n",
    "debt_from_purpose_category['result_purpose_category'] = debt_from_purpose_category['sum_purpose_category'] / debt_from_purpose_category['count_purpose_category'] \n",
    "debt_from_purpose_category.sort_values('result_purpose_category', ascending = False)"
   ]
  },
  {
   "cell_type": "markdown",
   "id": "07a898a0",
   "metadata": {},
   "source": [
    "**Вывод 4:** Как мы видим, чаще всего платят в срок с целью кредита недвижимость, просрочка у тех кому нужен кредит на авто и образование. Кредиты на свадьбу просрачивают реже - примерно как и в случае недвижимости."
   ]
  },
  {
   "cell_type": "markdown",
   "id": "94682751",
   "metadata": {},
   "source": [
    "# Общий вывод:"
   ]
  },
  {
   "cell_type": "markdown",
   "id": "fce0bd70",
   "metadata": {},
   "source": [
    "Проанализировав полученные данные, мы исправили некорректные строки в базе данных, отредактировали неточности и опечатки, приведя таблицу в читаемый вид. Проработав все эти нюансы, стало возможно проверить гипотезы. Результаты проверки следующие:\n",
    "1. Семейный статус влияет на вероятность платежей по кредиту в срок - люди, бывавшие в браке чаще плятят в срок чем те, кто не бывали в браке, причем разведенные и овдовевшие платят в срок чаще, чем люди в браке. \n",
    "2. Чем больше детей, тем чаще платят не в срок, бездетные реже просрочивают оплату."
   ]
  }
 ],
 "metadata": {
  "ExecuteTimeLog": [
   {
    "duration": 585,
    "start_time": "2022-03-25T08:46:47.067Z"
   },
   {
    "duration": 97,
    "start_time": "2022-03-25T08:46:50.023Z"
   },
   {
    "duration": 27,
    "start_time": "2022-03-25T08:47:16.553Z"
   },
   {
    "duration": 33,
    "start_time": "2022-03-25T08:48:12.396Z"
   },
   {
    "duration": 17,
    "start_time": "2022-03-25T08:50:39.856Z"
   },
   {
    "duration": 8,
    "start_time": "2022-03-25T08:51:00.060Z"
   },
   {
    "duration": 5,
    "start_time": "2022-03-25T08:51:38.991Z"
   },
   {
    "duration": 6,
    "start_time": "2022-03-25T08:51:55.457Z"
   },
   {
    "duration": 6,
    "start_time": "2022-03-25T08:52:10.968Z"
   },
   {
    "duration": 385,
    "start_time": "2022-03-28T10:49:15.333Z"
   },
   {
    "duration": 63,
    "start_time": "2022-03-28T10:49:24.571Z"
   },
   {
    "duration": 16,
    "start_time": "2022-03-28T10:49:59.852Z"
   },
   {
    "duration": 9,
    "start_time": "2022-03-28T10:54:24.585Z"
   },
   {
    "duration": 6,
    "start_time": "2022-03-28T10:54:51.143Z"
   },
   {
    "duration": 4,
    "start_time": "2022-03-28T10:55:42.899Z"
   },
   {
    "duration": 6,
    "start_time": "2022-03-28T10:56:46.331Z"
   },
   {
    "duration": 5,
    "start_time": "2022-03-28T10:56:54.873Z"
   },
   {
    "duration": 3,
    "start_time": "2022-03-28T11:01:39.007Z"
   },
   {
    "duration": 61,
    "start_time": "2022-03-28T11:02:12.454Z"
   },
   {
    "duration": 3,
    "start_time": "2022-03-28T11:07:07.253Z"
   },
   {
    "duration": 8,
    "start_time": "2022-03-28T11:07:10.826Z"
   },
   {
    "duration": 309,
    "start_time": "2022-03-28T11:08:17.344Z"
   },
   {
    "duration": 2,
    "start_time": "2022-03-28T11:08:24.637Z"
   },
   {
    "duration": 3,
    "start_time": "2022-03-28T11:08:57.839Z"
   },
   {
    "duration": 6,
    "start_time": "2022-03-28T11:08:59.204Z"
   },
   {
    "duration": 7,
    "start_time": "2022-03-28T11:09:19.190Z"
   },
   {
    "duration": 7,
    "start_time": "2022-03-28T11:12:15.805Z"
   },
   {
    "duration": 3,
    "start_time": "2022-03-28T11:12:37.574Z"
   },
   {
    "duration": 7,
    "start_time": "2022-03-28T11:12:40.123Z"
   },
   {
    "duration": 2,
    "start_time": "2022-03-28T11:13:53.974Z"
   },
   {
    "duration": 6,
    "start_time": "2022-03-28T11:13:55.423Z"
   },
   {
    "duration": 7,
    "start_time": "2022-03-28T11:14:05.798Z"
   },
   {
    "duration": 3,
    "start_time": "2022-03-28T11:14:15.336Z"
   },
   {
    "duration": 4,
    "start_time": "2022-03-28T11:14:37.342Z"
   },
   {
    "duration": 3487,
    "start_time": "2022-03-28T11:14:38.959Z"
   },
   {
    "duration": 3,
    "start_time": "2022-03-28T11:15:10.929Z"
   },
   {
    "duration": 4,
    "start_time": "2022-03-28T11:15:14.465Z"
   },
   {
    "duration": 4,
    "start_time": "2022-03-28T11:15:32.195Z"
   },
   {
    "duration": 5,
    "start_time": "2022-03-28T11:15:45.049Z"
   },
   {
    "duration": 4,
    "start_time": "2022-03-28T11:16:56.355Z"
   },
   {
    "duration": 6,
    "start_time": "2022-03-28T11:16:59.026Z"
   },
   {
    "duration": 4,
    "start_time": "2022-03-28T11:17:18.468Z"
   },
   {
    "duration": 3,
    "start_time": "2022-03-28T11:17:48.293Z"
   },
   {
    "duration": 4,
    "start_time": "2022-03-28T11:19:11.031Z"
   },
   {
    "duration": 4,
    "start_time": "2022-03-28T11:19:12.537Z"
   },
   {
    "duration": 4,
    "start_time": "2022-03-28T11:20:16.836Z"
   },
   {
    "duration": 4,
    "start_time": "2022-03-28T11:20:18.372Z"
   },
   {
    "duration": 4,
    "start_time": "2022-03-28T11:20:27.638Z"
   },
   {
    "duration": 3,
    "start_time": "2022-03-28T11:22:38.561Z"
   },
   {
    "duration": 3485,
    "start_time": "2022-03-28T11:22:44.464Z"
   },
   {
    "duration": 3,
    "start_time": "2022-03-28T11:24:16.510Z"
   },
   {
    "duration": 3,
    "start_time": "2022-03-28T11:24:28.383Z"
   },
   {
    "duration": 15,
    "start_time": "2022-03-28T11:24:31.352Z"
   },
   {
    "duration": 4,
    "start_time": "2022-03-28T11:28:29.756Z"
   },
   {
    "duration": 4166,
    "start_time": "2022-03-28T11:28:32.434Z"
   },
   {
    "duration": 3,
    "start_time": "2022-03-28T11:30:01.830Z"
   },
   {
    "duration": 15,
    "start_time": "2022-03-28T11:30:05.023Z"
   },
   {
    "duration": 3,
    "start_time": "2022-03-28T11:30:21.512Z"
   },
   {
    "duration": 3248,
    "start_time": "2022-03-28T11:30:24.530Z"
   },
   {
    "duration": 3,
    "start_time": "2022-03-28T11:30:48.943Z"
   },
   {
    "duration": 14,
    "start_time": "2022-03-28T11:30:54.493Z"
   },
   {
    "duration": 4,
    "start_time": "2022-03-28T11:31:43.648Z"
   },
   {
    "duration": 16,
    "start_time": "2022-03-28T11:31:46.744Z"
   },
   {
    "duration": 4,
    "start_time": "2022-03-28T11:33:04.806Z"
   },
   {
    "duration": 14,
    "start_time": "2022-03-28T11:33:10.538Z"
   },
   {
    "duration": 4,
    "start_time": "2022-03-28T11:33:29.134Z"
   },
   {
    "duration": 14,
    "start_time": "2022-03-28T11:33:31.622Z"
   },
   {
    "duration": 7,
    "start_time": "2022-03-28T11:42:57.151Z"
   },
   {
    "duration": 9,
    "start_time": "2022-03-28T11:43:04.382Z"
   },
   {
    "duration": 215,
    "start_time": "2022-03-28T11:43:10.097Z"
   },
   {
    "duration": 3,
    "start_time": "2022-03-28T11:43:16.512Z"
   },
   {
    "duration": 3,
    "start_time": "2022-03-28T11:44:03.583Z"
   },
   {
    "duration": 3,
    "start_time": "2022-03-28T11:44:52.650Z"
   },
   {
    "duration": 3,
    "start_time": "2022-03-28T11:44:57.183Z"
   },
   {
    "duration": 5,
    "start_time": "2022-03-28T11:45:11.130Z"
   },
   {
    "duration": 4,
    "start_time": "2022-03-28T11:45:26.741Z"
   },
   {
    "duration": 7,
    "start_time": "2022-03-28T11:55:32.331Z"
   },
   {
    "duration": 5,
    "start_time": "2022-03-28T11:57:17.637Z"
   },
   {
    "duration": 6,
    "start_time": "2022-03-28T11:57:30.592Z"
   },
   {
    "duration": 5,
    "start_time": "2022-03-28T11:57:32.602Z"
   },
   {
    "duration": 6,
    "start_time": "2022-03-28T12:01:02.071Z"
   },
   {
    "duration": 5,
    "start_time": "2022-03-28T12:01:09.794Z"
   },
   {
    "duration": 4,
    "start_time": "2022-03-28T12:01:18.671Z"
   },
   {
    "duration": 4,
    "start_time": "2022-03-28T12:01:21.999Z"
   },
   {
    "duration": 5,
    "start_time": "2022-03-28T12:02:05.950Z"
   },
   {
    "duration": 498,
    "start_time": "2022-03-28T13:01:07.952Z"
   },
   {
    "duration": 103,
    "start_time": "2022-03-28T13:01:08.453Z"
   },
   {
    "duration": 26,
    "start_time": "2022-03-28T13:01:08.559Z"
   },
   {
    "duration": 7,
    "start_time": "2022-03-28T13:01:08.588Z"
   },
   {
    "duration": 22,
    "start_time": "2022-03-28T13:01:08.597Z"
   },
   {
    "duration": 8,
    "start_time": "2022-03-28T13:01:08.620Z"
   },
   {
    "duration": 6,
    "start_time": "2022-03-28T13:01:08.630Z"
   },
   {
    "duration": 7,
    "start_time": "2022-03-28T13:01:08.637Z"
   },
   {
    "duration": 43,
    "start_time": "2022-03-28T13:01:08.646Z"
   },
   {
    "duration": 10,
    "start_time": "2022-03-28T13:01:08.692Z"
   },
   {
    "duration": 4,
    "start_time": "2022-03-28T13:06:24.969Z"
   },
   {
    "duration": 3,
    "start_time": "2022-03-28T13:06:56.677Z"
   },
   {
    "duration": 5,
    "start_time": "2022-03-28T13:06:57.994Z"
   },
   {
    "duration": 6,
    "start_time": "2022-03-28T13:10:47.470Z"
   },
   {
    "duration": 4,
    "start_time": "2022-03-28T13:10:52.974Z"
   },
   {
    "duration": 7,
    "start_time": "2022-03-28T13:17:54.610Z"
   },
   {
    "duration": 5,
    "start_time": "2022-03-28T13:18:50.151Z"
   },
   {
    "duration": 5,
    "start_time": "2022-03-28T13:18:56.767Z"
   },
   {
    "duration": 4,
    "start_time": "2022-03-28T13:19:04.855Z"
   },
   {
    "duration": 4,
    "start_time": "2022-03-28T13:19:15.333Z"
   },
   {
    "duration": 6,
    "start_time": "2022-03-28T13:19:44.680Z"
   },
   {
    "duration": 7,
    "start_time": "2022-03-28T13:20:51.381Z"
   },
   {
    "duration": 5,
    "start_time": "2022-03-28T13:20:59.566Z"
   },
   {
    "duration": 5,
    "start_time": "2022-03-28T13:21:05.129Z"
   },
   {
    "duration": 5,
    "start_time": "2022-03-28T13:21:09.291Z"
   },
   {
    "duration": 7,
    "start_time": "2022-03-28T13:21:21.146Z"
   },
   {
    "duration": 20,
    "start_time": "2022-03-28T13:31:58.448Z"
   },
   {
    "duration": 13,
    "start_time": "2022-03-28T13:32:13.597Z"
   },
   {
    "duration": 4,
    "start_time": "2022-03-28T13:33:08.381Z"
   },
   {
    "duration": 5,
    "start_time": "2022-03-28T13:33:13.653Z"
   },
   {
    "duration": 59,
    "start_time": "2022-03-28T13:40:58.130Z"
   },
   {
    "duration": 4,
    "start_time": "2022-03-28T13:42:17.233Z"
   },
   {
    "duration": 7,
    "start_time": "2022-03-28T13:42:19.688Z"
   },
   {
    "duration": 409,
    "start_time": "2022-03-28T13:45:43.553Z"
   },
   {
    "duration": 64,
    "start_time": "2022-03-28T13:45:43.964Z"
   },
   {
    "duration": 15,
    "start_time": "2022-03-28T13:45:44.029Z"
   },
   {
    "duration": 3,
    "start_time": "2022-03-28T13:45:44.046Z"
   },
   {
    "duration": 32,
    "start_time": "2022-03-28T13:45:44.051Z"
   },
   {
    "duration": 12,
    "start_time": "2022-03-28T13:45:44.085Z"
   },
   {
    "duration": 8,
    "start_time": "2022-03-28T13:45:44.099Z"
   },
   {
    "duration": 7,
    "start_time": "2022-03-28T13:45:44.109Z"
   },
   {
    "duration": 7,
    "start_time": "2022-03-28T13:45:44.117Z"
   },
   {
    "duration": 6,
    "start_time": "2022-03-28T13:45:44.126Z"
   },
   {
    "duration": 7,
    "start_time": "2022-03-28T13:45:44.133Z"
   },
   {
    "duration": 6,
    "start_time": "2022-03-28T13:45:44.141Z"
   },
   {
    "duration": 7,
    "start_time": "2022-03-28T13:45:44.148Z"
   },
   {
    "duration": 27,
    "start_time": "2022-03-28T13:45:44.156Z"
   },
   {
    "duration": 7,
    "start_time": "2022-03-28T13:45:44.185Z"
   },
   {
    "duration": 7,
    "start_time": "2022-03-28T13:45:44.194Z"
   },
   {
    "duration": 7,
    "start_time": "2022-03-28T13:45:44.202Z"
   },
   {
    "duration": 6,
    "start_time": "2022-03-28T13:45:44.211Z"
   },
   {
    "duration": 7,
    "start_time": "2022-03-28T13:45:44.218Z"
   },
   {
    "duration": 7,
    "start_time": "2022-03-28T13:45:44.226Z"
   },
   {
    "duration": 7,
    "start_time": "2022-03-28T13:45:44.234Z"
   },
   {
    "duration": 5,
    "start_time": "2022-03-28T13:45:44.243Z"
   },
   {
    "duration": 6,
    "start_time": "2022-03-28T13:45:44.249Z"
   },
   {
    "duration": 6,
    "start_time": "2022-03-28T13:45:44.280Z"
   },
   {
    "duration": 16,
    "start_time": "2022-03-28T13:45:44.288Z"
   },
   {
    "duration": 17,
    "start_time": "2022-03-28T13:45:44.305Z"
   },
   {
    "duration": 13,
    "start_time": "2022-03-28T13:45:44.324Z"
   },
   {
    "duration": 3,
    "start_time": "2022-03-28T13:45:44.341Z"
   },
   {
    "duration": 5,
    "start_time": "2022-03-28T13:45:44.346Z"
   },
   {
    "duration": 88,
    "start_time": "2022-03-28T13:45:44.352Z"
   },
   {
    "duration": 7,
    "start_time": "2022-03-28T13:47:19.279Z"
   },
   {
    "duration": 7,
    "start_time": "2022-03-28T13:47:46.305Z"
   },
   {
    "duration": 8,
    "start_time": "2022-03-28T13:47:48.841Z"
   },
   {
    "duration": 6,
    "start_time": "2022-03-28T13:48:30.535Z"
   },
   {
    "duration": 4,
    "start_time": "2022-03-28T13:49:05.503Z"
   },
   {
    "duration": 4,
    "start_time": "2022-03-28T13:49:14.588Z"
   },
   {
    "duration": 5,
    "start_time": "2022-03-28T13:49:17.514Z"
   },
   {
    "duration": 10,
    "start_time": "2022-03-28T13:49:48.155Z"
   },
   {
    "duration": 8,
    "start_time": "2022-03-28T13:49:59.403Z"
   },
   {
    "duration": 9,
    "start_time": "2022-03-28T13:50:01.710Z"
   },
   {
    "duration": 397,
    "start_time": "2022-03-28T13:50:11.067Z"
   },
   {
    "duration": 57,
    "start_time": "2022-03-28T13:50:11.466Z"
   },
   {
    "duration": 14,
    "start_time": "2022-03-28T13:50:11.524Z"
   },
   {
    "duration": 3,
    "start_time": "2022-03-28T13:50:11.540Z"
   },
   {
    "duration": 16,
    "start_time": "2022-03-28T13:50:11.544Z"
   },
   {
    "duration": 24,
    "start_time": "2022-03-28T13:50:11.561Z"
   },
   {
    "duration": 5,
    "start_time": "2022-03-28T13:50:11.587Z"
   },
   {
    "duration": 16,
    "start_time": "2022-03-28T13:50:11.594Z"
   },
   {
    "duration": 5,
    "start_time": "2022-03-28T13:50:11.612Z"
   },
   {
    "duration": 4,
    "start_time": "2022-03-28T13:50:11.619Z"
   },
   {
    "duration": 5,
    "start_time": "2022-03-28T13:50:11.625Z"
   },
   {
    "duration": 4,
    "start_time": "2022-03-28T13:50:11.632Z"
   },
   {
    "duration": 6,
    "start_time": "2022-03-28T13:50:11.637Z"
   },
   {
    "duration": 5,
    "start_time": "2022-03-28T13:50:11.645Z"
   },
   {
    "duration": 6,
    "start_time": "2022-03-28T13:50:11.651Z"
   },
   {
    "duration": 24,
    "start_time": "2022-03-28T13:50:11.658Z"
   },
   {
    "duration": 6,
    "start_time": "2022-03-28T13:50:11.683Z"
   },
   {
    "duration": 5,
    "start_time": "2022-03-28T13:50:11.690Z"
   },
   {
    "duration": 8,
    "start_time": "2022-03-28T13:50:11.696Z"
   },
   {
    "duration": 7,
    "start_time": "2022-03-28T13:50:11.705Z"
   },
   {
    "duration": 11,
    "start_time": "2022-03-28T13:50:11.714Z"
   },
   {
    "duration": 6,
    "start_time": "2022-03-28T13:50:11.726Z"
   },
   {
    "duration": 6,
    "start_time": "2022-03-28T13:50:11.733Z"
   },
   {
    "duration": 6,
    "start_time": "2022-03-28T13:50:11.740Z"
   },
   {
    "duration": 10,
    "start_time": "2022-03-28T13:50:11.748Z"
   },
   {
    "duration": 39,
    "start_time": "2022-03-28T13:50:11.759Z"
   },
   {
    "duration": 12,
    "start_time": "2022-03-28T13:50:11.800Z"
   },
   {
    "duration": 3,
    "start_time": "2022-03-28T13:50:11.815Z"
   },
   {
    "duration": 9,
    "start_time": "2022-03-28T13:50:11.820Z"
   },
   {
    "duration": 7,
    "start_time": "2022-03-28T13:50:11.830Z"
   },
   {
    "duration": 6,
    "start_time": "2022-03-28T13:50:11.839Z"
   },
   {
    "duration": 8,
    "start_time": "2022-03-28T13:54:00.211Z"
   },
   {
    "duration": 5,
    "start_time": "2022-03-28T13:54:08.017Z"
   },
   {
    "duration": 4,
    "start_time": "2022-03-28T13:54:17.409Z"
   },
   {
    "duration": 5,
    "start_time": "2022-03-28T13:54:17.936Z"
   },
   {
    "duration": 5,
    "start_time": "2022-03-28T13:54:30.412Z"
   },
   {
    "duration": 6,
    "start_time": "2022-03-28T13:54:31.414Z"
   },
   {
    "duration": 4,
    "start_time": "2022-03-28T13:54:33.998Z"
   },
   {
    "duration": 427,
    "start_time": "2022-03-29T09:02:06.726Z"
   },
   {
    "duration": 57,
    "start_time": "2022-03-29T09:02:07.155Z"
   },
   {
    "duration": 15,
    "start_time": "2022-03-29T09:02:07.214Z"
   },
   {
    "duration": 4,
    "start_time": "2022-03-29T09:02:07.238Z"
   },
   {
    "duration": 17,
    "start_time": "2022-03-29T09:02:07.243Z"
   },
   {
    "duration": 8,
    "start_time": "2022-03-29T09:02:07.262Z"
   },
   {
    "duration": 6,
    "start_time": "2022-03-29T09:02:07.272Z"
   },
   {
    "duration": 9,
    "start_time": "2022-03-29T09:02:07.279Z"
   },
   {
    "duration": 8,
    "start_time": "2022-03-29T09:02:07.289Z"
   },
   {
    "duration": 5,
    "start_time": "2022-03-29T09:02:07.299Z"
   },
   {
    "duration": 5,
    "start_time": "2022-03-29T09:02:07.338Z"
   },
   {
    "duration": 18,
    "start_time": "2022-03-29T09:02:07.345Z"
   },
   {
    "duration": 9,
    "start_time": "2022-03-29T09:02:07.364Z"
   },
   {
    "duration": 9,
    "start_time": "2022-03-29T09:02:07.374Z"
   },
   {
    "duration": 8,
    "start_time": "2022-03-29T09:02:07.384Z"
   },
   {
    "duration": 5,
    "start_time": "2022-03-29T09:02:07.393Z"
   },
   {
    "duration": 9,
    "start_time": "2022-03-29T09:02:07.400Z"
   },
   {
    "duration": 7,
    "start_time": "2022-03-29T09:02:07.411Z"
   },
   {
    "duration": 19,
    "start_time": "2022-03-29T09:02:07.419Z"
   },
   {
    "duration": 10,
    "start_time": "2022-03-29T09:02:07.440Z"
   },
   {
    "duration": 8,
    "start_time": "2022-03-29T09:02:07.451Z"
   },
   {
    "duration": 4,
    "start_time": "2022-03-29T09:02:07.461Z"
   },
   {
    "duration": 7,
    "start_time": "2022-03-29T09:02:07.466Z"
   },
   {
    "duration": 14,
    "start_time": "2022-03-29T09:02:07.474Z"
   },
   {
    "duration": 14,
    "start_time": "2022-03-29T09:02:07.490Z"
   },
   {
    "duration": 47,
    "start_time": "2022-03-29T09:02:07.505Z"
   },
   {
    "duration": 15,
    "start_time": "2022-03-29T09:02:07.554Z"
   },
   {
    "duration": 6,
    "start_time": "2022-03-29T09:02:07.572Z"
   },
   {
    "duration": 12,
    "start_time": "2022-03-29T09:02:07.580Z"
   },
   {
    "duration": 9,
    "start_time": "2022-03-29T09:02:07.593Z"
   },
   {
    "duration": 36,
    "start_time": "2022-03-29T09:02:07.603Z"
   },
   {
    "duration": 47,
    "start_time": "2022-03-29T09:06:21.605Z"
   },
   {
    "duration": 384,
    "start_time": "2022-03-29T09:06:23.947Z"
   },
   {
    "duration": 60,
    "start_time": "2022-03-29T09:06:25.778Z"
   },
   {
    "duration": 19,
    "start_time": "2022-03-29T09:06:27.372Z"
   },
   {
    "duration": 15,
    "start_time": "2022-03-29T09:07:24.650Z"
   },
   {
    "duration": 15,
    "start_time": "2022-03-29T09:07:38.660Z"
   },
   {
    "duration": 28,
    "start_time": "2022-03-29T09:08:58.199Z"
   },
   {
    "duration": 12,
    "start_time": "2022-03-29T09:09:10.733Z"
   },
   {
    "duration": 4,
    "start_time": "2022-03-29T09:09:14.985Z"
   },
   {
    "duration": 16,
    "start_time": "2022-03-29T09:09:18.515Z"
   },
   {
    "duration": 5,
    "start_time": "2022-03-29T09:13:10.063Z"
   },
   {
    "duration": 6,
    "start_time": "2022-03-29T09:14:04.938Z"
   },
   {
    "duration": 4,
    "start_time": "2022-03-29T09:14:10.242Z"
   },
   {
    "duration": 4,
    "start_time": "2022-03-29T09:15:14.622Z"
   },
   {
    "duration": 10,
    "start_time": "2022-03-29T09:15:29.836Z"
   },
   {
    "duration": 6,
    "start_time": "2022-03-29T09:15:33.789Z"
   },
   {
    "duration": 11,
    "start_time": "2022-03-29T09:15:35.080Z"
   },
   {
    "duration": 4,
    "start_time": "2022-03-29T09:16:32.378Z"
   },
   {
    "duration": 9,
    "start_time": "2022-03-29T09:18:12.125Z"
   },
   {
    "duration": 4,
    "start_time": "2022-03-29T09:20:13.274Z"
   },
   {
    "duration": 10,
    "start_time": "2022-03-29T09:20:33.644Z"
   },
   {
    "duration": 3,
    "start_time": "2022-03-29T09:20:53.064Z"
   },
   {
    "duration": 64,
    "start_time": "2022-03-29T09:39:36.360Z"
   },
   {
    "duration": 78,
    "start_time": "2022-03-29T09:43:29.885Z"
   },
   {
    "duration": 15,
    "start_time": "2022-03-29T09:43:41.333Z"
   },
   {
    "duration": 44,
    "start_time": "2022-03-29T10:17:03.027Z"
   },
   {
    "duration": 458,
    "start_time": "2022-03-29T10:17:11.843Z"
   },
   {
    "duration": 20,
    "start_time": "2022-03-29T10:17:12.303Z"
   },
   {
    "duration": 15,
    "start_time": "2022-03-29T10:17:12.324Z"
   },
   {
    "duration": 24,
    "start_time": "2022-03-29T10:17:12.342Z"
   },
   {
    "duration": 3227,
    "start_time": "2022-03-29T10:17:12.368Z"
   },
   {
    "duration": 0,
    "start_time": "2022-03-29T10:17:15.598Z"
   },
   {
    "duration": 0,
    "start_time": "2022-03-29T10:17:15.599Z"
   },
   {
    "duration": 0,
    "start_time": "2022-03-29T10:17:15.601Z"
   },
   {
    "duration": 0,
    "start_time": "2022-03-29T10:17:15.602Z"
   },
   {
    "duration": 0,
    "start_time": "2022-03-29T10:17:15.603Z"
   },
   {
    "duration": 0,
    "start_time": "2022-03-29T10:17:15.607Z"
   },
   {
    "duration": 0,
    "start_time": "2022-03-29T10:17:15.608Z"
   },
   {
    "duration": 0,
    "start_time": "2022-03-29T10:17:15.610Z"
   },
   {
    "duration": 0,
    "start_time": "2022-03-29T10:17:15.611Z"
   },
   {
    "duration": 0,
    "start_time": "2022-03-29T10:17:15.613Z"
   },
   {
    "duration": 0,
    "start_time": "2022-03-29T10:17:15.614Z"
   },
   {
    "duration": 0,
    "start_time": "2022-03-29T10:17:15.615Z"
   },
   {
    "duration": 0,
    "start_time": "2022-03-29T10:17:15.616Z"
   },
   {
    "duration": 0,
    "start_time": "2022-03-29T10:17:15.617Z"
   },
   {
    "duration": 0,
    "start_time": "2022-03-29T10:17:15.618Z"
   },
   {
    "duration": 0,
    "start_time": "2022-03-29T10:17:15.619Z"
   },
   {
    "duration": 0,
    "start_time": "2022-03-29T10:17:15.621Z"
   },
   {
    "duration": 0,
    "start_time": "2022-03-29T10:17:15.621Z"
   },
   {
    "duration": 0,
    "start_time": "2022-03-29T10:17:15.622Z"
   },
   {
    "duration": 0,
    "start_time": "2022-03-29T10:17:15.623Z"
   },
   {
    "duration": 0,
    "start_time": "2022-03-29T10:17:15.624Z"
   },
   {
    "duration": 0,
    "start_time": "2022-03-29T10:17:15.625Z"
   },
   {
    "duration": 0,
    "start_time": "2022-03-29T10:17:15.626Z"
   },
   {
    "duration": 0,
    "start_time": "2022-03-29T10:17:15.627Z"
   },
   {
    "duration": 0,
    "start_time": "2022-03-29T10:17:15.628Z"
   },
   {
    "duration": 7,
    "start_time": "2022-03-29T10:18:07.782Z"
   },
   {
    "duration": 2331,
    "start_time": "2022-03-29T10:18:26.680Z"
   },
   {
    "duration": 4,
    "start_time": "2022-03-29T10:18:37.554Z"
   },
   {
    "duration": 3,
    "start_time": "2022-03-29T10:19:12.321Z"
   },
   {
    "duration": 4,
    "start_time": "2022-03-29T10:21:57.445Z"
   },
   {
    "duration": 157,
    "start_time": "2022-03-29T10:33:31.332Z"
   },
   {
    "duration": 10,
    "start_time": "2022-03-29T10:39:55.076Z"
   },
   {
    "duration": 7,
    "start_time": "2022-03-29T10:40:55.938Z"
   },
   {
    "duration": 9,
    "start_time": "2022-03-29T10:40:57.928Z"
   },
   {
    "duration": 477,
    "start_time": "2022-03-29T10:41:24.231Z"
   },
   {
    "duration": 18,
    "start_time": "2022-03-29T10:41:24.710Z"
   },
   {
    "duration": 14,
    "start_time": "2022-03-29T10:41:24.730Z"
   },
   {
    "duration": 19,
    "start_time": "2022-03-29T10:41:24.746Z"
   },
   {
    "duration": 4,
    "start_time": "2022-03-29T10:41:24.767Z"
   },
   {
    "duration": 16,
    "start_time": "2022-03-29T10:41:24.772Z"
   },
   {
    "duration": 8,
    "start_time": "2022-03-29T10:41:24.789Z"
   },
   {
    "duration": 6,
    "start_time": "2022-03-29T10:41:24.799Z"
   },
   {
    "duration": 12,
    "start_time": "2022-03-29T10:41:24.806Z"
   },
   {
    "duration": 4,
    "start_time": "2022-03-29T10:41:24.820Z"
   },
   {
    "duration": 9,
    "start_time": "2022-03-29T10:41:24.825Z"
   },
   {
    "duration": 7,
    "start_time": "2022-03-29T10:41:24.835Z"
   },
   {
    "duration": 22,
    "start_time": "2022-03-29T10:41:24.843Z"
   },
   {
    "duration": 9,
    "start_time": "2022-03-29T10:41:24.866Z"
   },
   {
    "duration": 6,
    "start_time": "2022-03-29T10:41:24.876Z"
   },
   {
    "duration": 7,
    "start_time": "2022-03-29T10:41:24.883Z"
   },
   {
    "duration": 6,
    "start_time": "2022-03-29T10:41:24.892Z"
   },
   {
    "duration": 11,
    "start_time": "2022-03-29T10:41:24.899Z"
   },
   {
    "duration": 7,
    "start_time": "2022-03-29T10:41:24.911Z"
   },
   {
    "duration": 6,
    "start_time": "2022-03-29T10:41:24.920Z"
   },
   {
    "duration": 7,
    "start_time": "2022-03-29T10:41:24.927Z"
   },
   {
    "duration": 6,
    "start_time": "2022-03-29T10:41:24.936Z"
   },
   {
    "duration": 5,
    "start_time": "2022-03-29T10:41:24.963Z"
   },
   {
    "duration": 9,
    "start_time": "2022-03-29T10:41:24.969Z"
   },
   {
    "duration": 20,
    "start_time": "2022-03-29T10:41:24.979Z"
   },
   {
    "duration": 16,
    "start_time": "2022-03-29T10:41:25.001Z"
   },
   {
    "duration": 9,
    "start_time": "2022-03-29T10:41:25.019Z"
   },
   {
    "duration": 33,
    "start_time": "2022-03-29T10:41:25.032Z"
   },
   {
    "duration": 7,
    "start_time": "2022-03-29T10:41:25.067Z"
   },
   {
    "duration": 6,
    "start_time": "2022-03-29T10:41:25.076Z"
   },
   {
    "duration": 16,
    "start_time": "2022-03-29T10:52:25.114Z"
   },
   {
    "duration": 6,
    "start_time": "2022-03-29T10:52:40.747Z"
   },
   {
    "duration": 6,
    "start_time": "2022-03-29T10:52:43.101Z"
   },
   {
    "duration": 12,
    "start_time": "2022-03-29T10:52:44.866Z"
   },
   {
    "duration": 12,
    "start_time": "2022-03-29T10:52:47.093Z"
   },
   {
    "duration": 6,
    "start_time": "2022-03-29T11:04:23.619Z"
   },
   {
    "duration": 7,
    "start_time": "2022-03-29T11:09:36.182Z"
   },
   {
    "duration": 7,
    "start_time": "2022-03-29T11:13:04.838Z"
   },
   {
    "duration": 7,
    "start_time": "2022-03-29T11:14:43.656Z"
   },
   {
    "duration": 6,
    "start_time": "2022-03-29T11:17:19.062Z"
   },
   {
    "duration": 7,
    "start_time": "2022-03-29T11:17:30.985Z"
   },
   {
    "duration": 8,
    "start_time": "2022-03-29T11:23:07.658Z"
   },
   {
    "duration": 6,
    "start_time": "2022-03-29T11:23:22.410Z"
   },
   {
    "duration": 9,
    "start_time": "2022-03-29T11:23:36.019Z"
   },
   {
    "duration": 67,
    "start_time": "2022-03-29T11:32:56.009Z"
   },
   {
    "duration": 2360,
    "start_time": "2022-03-29T11:33:37.992Z"
   },
   {
    "duration": 15,
    "start_time": "2022-03-29T11:34:11.184Z"
   },
   {
    "duration": 9,
    "start_time": "2022-03-29T11:34:14.233Z"
   },
   {
    "duration": 13,
    "start_time": "2022-03-29T11:36:10.057Z"
   },
   {
    "duration": 8,
    "start_time": "2022-03-29T11:36:24.066Z"
   },
   {
    "duration": 10,
    "start_time": "2022-03-29T11:44:29.170Z"
   },
   {
    "duration": 2401,
    "start_time": "2022-03-29T11:44:47.820Z"
   },
   {
    "duration": 27,
    "start_time": "2022-03-29T11:45:12.093Z"
   },
   {
    "duration": 8,
    "start_time": "2022-03-29T11:48:02.224Z"
   },
   {
    "duration": 11,
    "start_time": "2022-03-29T11:48:21.727Z"
   },
   {
    "duration": 21,
    "start_time": "2022-03-29T11:49:17.244Z"
   },
   {
    "duration": 580,
    "start_time": "2022-03-30T10:18:54.258Z"
   },
   {
    "duration": 29,
    "start_time": "2022-03-30T10:18:54.841Z"
   },
   {
    "duration": 27,
    "start_time": "2022-03-30T10:18:54.872Z"
   },
   {
    "duration": 12,
    "start_time": "2022-03-30T10:18:54.902Z"
   },
   {
    "duration": 19,
    "start_time": "2022-03-30T10:18:54.916Z"
   },
   {
    "duration": 11,
    "start_time": "2022-03-30T10:18:54.938Z"
   },
   {
    "duration": 133,
    "start_time": "2022-03-30T10:18:54.951Z"
   },
   {
    "duration": 0,
    "start_time": "2022-03-30T10:18:55.087Z"
   },
   {
    "duration": 0,
    "start_time": "2022-03-30T10:18:55.088Z"
   },
   {
    "duration": 0,
    "start_time": "2022-03-30T10:18:55.091Z"
   },
   {
    "duration": 0,
    "start_time": "2022-03-30T10:18:55.092Z"
   },
   {
    "duration": 0,
    "start_time": "2022-03-30T10:18:55.094Z"
   },
   {
    "duration": 0,
    "start_time": "2022-03-30T10:18:55.095Z"
   },
   {
    "duration": 0,
    "start_time": "2022-03-30T10:18:55.096Z"
   },
   {
    "duration": 0,
    "start_time": "2022-03-30T10:18:55.097Z"
   },
   {
    "duration": 0,
    "start_time": "2022-03-30T10:18:55.099Z"
   },
   {
    "duration": 0,
    "start_time": "2022-03-30T10:18:55.100Z"
   },
   {
    "duration": 0,
    "start_time": "2022-03-30T10:18:55.102Z"
   },
   {
    "duration": 0,
    "start_time": "2022-03-30T10:18:55.103Z"
   },
   {
    "duration": 0,
    "start_time": "2022-03-30T10:18:55.104Z"
   },
   {
    "duration": 0,
    "start_time": "2022-03-30T10:18:55.106Z"
   },
   {
    "duration": 0,
    "start_time": "2022-03-30T10:18:55.107Z"
   },
   {
    "duration": 0,
    "start_time": "2022-03-30T10:18:55.108Z"
   },
   {
    "duration": 0,
    "start_time": "2022-03-30T10:18:55.110Z"
   },
   {
    "duration": 0,
    "start_time": "2022-03-30T10:18:55.111Z"
   },
   {
    "duration": 0,
    "start_time": "2022-03-30T10:18:55.112Z"
   },
   {
    "duration": 0,
    "start_time": "2022-03-30T10:18:55.114Z"
   },
   {
    "duration": 0,
    "start_time": "2022-03-30T10:18:55.115Z"
   },
   {
    "duration": 0,
    "start_time": "2022-03-30T10:18:55.117Z"
   },
   {
    "duration": 0,
    "start_time": "2022-03-30T10:18:55.118Z"
   },
   {
    "duration": 0,
    "start_time": "2022-03-30T10:18:55.119Z"
   },
   {
    "duration": 0,
    "start_time": "2022-03-30T10:18:55.121Z"
   },
   {
    "duration": 0,
    "start_time": "2022-03-30T10:18:55.123Z"
   },
   {
    "duration": 0,
    "start_time": "2022-03-30T10:18:55.181Z"
   },
   {
    "duration": 14,
    "start_time": "2022-03-30T10:29:09.596Z"
   },
   {
    "duration": 12,
    "start_time": "2022-03-30T10:29:16.921Z"
   },
   {
    "duration": 19,
    "start_time": "2022-03-30T10:30:37.764Z"
   },
   {
    "duration": 603,
    "start_time": "2022-03-30T10:30:55.343Z"
   },
   {
    "duration": 36,
    "start_time": "2022-03-30T10:30:55.948Z"
   },
   {
    "duration": 22,
    "start_time": "2022-03-30T10:30:55.986Z"
   },
   {
    "duration": 17,
    "start_time": "2022-03-30T10:30:56.012Z"
   },
   {
    "duration": 19,
    "start_time": "2022-03-30T10:30:56.031Z"
   },
   {
    "duration": 29,
    "start_time": "2022-03-30T10:30:56.053Z"
   },
   {
    "duration": 112,
    "start_time": "2022-03-30T10:30:56.085Z"
   },
   {
    "duration": 0,
    "start_time": "2022-03-30T10:30:56.202Z"
   },
   {
    "duration": 0,
    "start_time": "2022-03-30T10:30:56.204Z"
   },
   {
    "duration": 0,
    "start_time": "2022-03-30T10:30:56.207Z"
   },
   {
    "duration": 0,
    "start_time": "2022-03-30T10:30:56.209Z"
   },
   {
    "duration": 0,
    "start_time": "2022-03-30T10:30:56.211Z"
   },
   {
    "duration": 0,
    "start_time": "2022-03-30T10:30:56.214Z"
   },
   {
    "duration": 0,
    "start_time": "2022-03-30T10:30:56.218Z"
   },
   {
    "duration": 0,
    "start_time": "2022-03-30T10:30:56.219Z"
   },
   {
    "duration": 0,
    "start_time": "2022-03-30T10:30:56.221Z"
   },
   {
    "duration": 0,
    "start_time": "2022-03-30T10:30:56.223Z"
   },
   {
    "duration": 0,
    "start_time": "2022-03-30T10:30:56.226Z"
   },
   {
    "duration": 0,
    "start_time": "2022-03-30T10:30:56.228Z"
   },
   {
    "duration": 0,
    "start_time": "2022-03-30T10:30:56.230Z"
   },
   {
    "duration": 0,
    "start_time": "2022-03-30T10:30:56.232Z"
   },
   {
    "duration": 0,
    "start_time": "2022-03-30T10:30:56.234Z"
   },
   {
    "duration": 0,
    "start_time": "2022-03-30T10:30:56.283Z"
   },
   {
    "duration": 0,
    "start_time": "2022-03-30T10:30:56.286Z"
   },
   {
    "duration": 1,
    "start_time": "2022-03-30T10:30:56.287Z"
   },
   {
    "duration": 0,
    "start_time": "2022-03-30T10:30:56.290Z"
   },
   {
    "duration": 0,
    "start_time": "2022-03-30T10:30:56.292Z"
   },
   {
    "duration": 0,
    "start_time": "2022-03-30T10:30:56.295Z"
   },
   {
    "duration": 0,
    "start_time": "2022-03-30T10:30:56.296Z"
   },
   {
    "duration": 0,
    "start_time": "2022-03-30T10:30:56.297Z"
   },
   {
    "duration": 0,
    "start_time": "2022-03-30T10:30:56.299Z"
   },
   {
    "duration": 0,
    "start_time": "2022-03-30T10:30:56.300Z"
   },
   {
    "duration": 0,
    "start_time": "2022-03-30T10:30:56.301Z"
   },
   {
    "duration": 0,
    "start_time": "2022-03-30T10:30:56.302Z"
   },
   {
    "duration": 14,
    "start_time": "2022-03-30T10:31:15.831Z"
   },
   {
    "duration": 8,
    "start_time": "2022-03-30T10:31:20.071Z"
   },
   {
    "duration": 13,
    "start_time": "2022-03-30T10:31:26.934Z"
   },
   {
    "duration": 76,
    "start_time": "2022-03-30T10:31:43.919Z"
   },
   {
    "duration": 730,
    "start_time": "2022-03-30T10:31:45.747Z"
   },
   {
    "duration": 40,
    "start_time": "2022-03-30T10:31:47.076Z"
   },
   {
    "duration": 22,
    "start_time": "2022-03-30T10:31:49.504Z"
   },
   {
    "duration": 20,
    "start_time": "2022-03-30T10:31:52.915Z"
   },
   {
    "duration": 13,
    "start_time": "2022-03-30T10:31:55.872Z"
   },
   {
    "duration": 6,
    "start_time": "2022-03-30T10:31:58.473Z"
   },
   {
    "duration": 6,
    "start_time": "2022-03-30T10:32:00.169Z"
   },
   {
    "duration": 48,
    "start_time": "2022-03-30T10:32:02.448Z"
   },
   {
    "duration": 19,
    "start_time": "2022-03-30T10:34:43.790Z"
   },
   {
    "duration": 6,
    "start_time": "2022-03-30T10:35:15.614Z"
   },
   {
    "duration": 14,
    "start_time": "2022-03-30T10:38:06.424Z"
   },
   {
    "duration": 46,
    "start_time": "2022-03-30T10:38:10.435Z"
   },
   {
    "duration": 27,
    "start_time": "2022-03-30T10:38:14.369Z"
   },
   {
    "duration": 7,
    "start_time": "2022-03-30T10:38:29.634Z"
   },
   {
    "duration": 12,
    "start_time": "2022-03-30T10:43:33.923Z"
   },
   {
    "duration": 17,
    "start_time": "2022-03-30T10:43:43.767Z"
   },
   {
    "duration": 17,
    "start_time": "2022-03-30T10:46:12.320Z"
   },
   {
    "duration": 23,
    "start_time": "2022-03-30T10:46:50.870Z"
   },
   {
    "duration": 8,
    "start_time": "2022-03-30T10:47:02.474Z"
   },
   {
    "duration": 16,
    "start_time": "2022-03-30T10:47:04.817Z"
   },
   {
    "duration": 25,
    "start_time": "2022-03-30T10:47:07.237Z"
   },
   {
    "duration": 22,
    "start_time": "2022-03-30T10:47:15.374Z"
   },
   {
    "duration": 28,
    "start_time": "2022-03-30T10:52:02.589Z"
   },
   {
    "duration": 9,
    "start_time": "2022-03-30T10:52:48.061Z"
   },
   {
    "duration": 44,
    "start_time": "2022-03-30T10:53:00.212Z"
   },
   {
    "duration": 141,
    "start_time": "2022-03-30T12:19:34.274Z"
   },
   {
    "duration": 46,
    "start_time": "2022-03-30T12:19:59.943Z"
   },
   {
    "duration": 476,
    "start_time": "2022-03-30T12:20:11.207Z"
   },
   {
    "duration": 21,
    "start_time": "2022-03-30T12:20:12.261Z"
   },
   {
    "duration": 17,
    "start_time": "2022-03-30T12:20:14.064Z"
   },
   {
    "duration": 13,
    "start_time": "2022-03-30T12:20:16.858Z"
   },
   {
    "duration": 5,
    "start_time": "2022-03-30T12:20:19.151Z"
   },
   {
    "duration": 5,
    "start_time": "2022-03-30T12:20:20.991Z"
   },
   {
    "duration": 5,
    "start_time": "2022-03-30T12:20:27.514Z"
   },
   {
    "duration": 9,
    "start_time": "2022-03-30T12:20:30.143Z"
   },
   {
    "duration": 12,
    "start_time": "2022-03-30T12:20:32.206Z"
   },
   {
    "duration": 11,
    "start_time": "2022-03-30T12:20:41.593Z"
   },
   {
    "duration": 31,
    "start_time": "2022-03-30T12:20:43.967Z"
   },
   {
    "duration": 24,
    "start_time": "2022-03-30T12:20:46.038Z"
   },
   {
    "duration": 17,
    "start_time": "2022-03-30T12:20:48.522Z"
   },
   {
    "duration": 22,
    "start_time": "2022-03-30T12:20:50.836Z"
   },
   {
    "duration": 40,
    "start_time": "2022-03-30T12:20:52.324Z"
   },
   {
    "duration": 14,
    "start_time": "2022-03-30T12:20:54.474Z"
   },
   {
    "duration": 15,
    "start_time": "2022-03-30T12:21:37.275Z"
   },
   {
    "duration": 14,
    "start_time": "2022-03-30T12:24:40.622Z"
   },
   {
    "duration": 12,
    "start_time": "2022-03-30T12:25:15.222Z"
   },
   {
    "duration": 34,
    "start_time": "2022-03-30T12:43:37.490Z"
   },
   {
    "duration": 13,
    "start_time": "2022-03-30T12:44:21.473Z"
   },
   {
    "duration": 7863,
    "start_time": "2022-03-30T12:44:37.568Z"
   },
   {
    "duration": 7769,
    "start_time": "2022-03-30T12:45:20.411Z"
   },
   {
    "duration": 8,
    "start_time": "2022-03-30T12:50:48.241Z"
   },
   {
    "duration": 31,
    "start_time": "2022-03-30T12:51:26.955Z"
   },
   {
    "duration": 7985,
    "start_time": "2022-03-30T12:51:51.496Z"
   },
   {
    "duration": 8090,
    "start_time": "2022-03-30T12:51:59.734Z"
   },
   {
    "duration": 17,
    "start_time": "2022-03-30T12:53:32.188Z"
   },
   {
    "duration": 10,
    "start_time": "2022-03-30T12:54:06.769Z"
   },
   {
    "duration": 15,
    "start_time": "2022-03-30T12:54:32.283Z"
   },
   {
    "duration": 15,
    "start_time": "2022-03-30T12:57:06.677Z"
   },
   {
    "duration": 22,
    "start_time": "2022-03-30T12:57:09.355Z"
   },
   {
    "duration": 30,
    "start_time": "2022-03-30T12:57:12.080Z"
   },
   {
    "duration": 18,
    "start_time": "2022-03-30T12:57:14.798Z"
   },
   {
    "duration": 49,
    "start_time": "2022-03-31T13:01:15.103Z"
   },
   {
    "duration": 419,
    "start_time": "2022-03-31T13:01:17.787Z"
   },
   {
    "duration": 18,
    "start_time": "2022-03-31T13:01:20.904Z"
   },
   {
    "duration": 16,
    "start_time": "2022-03-31T13:01:23.534Z"
   },
   {
    "duration": 11,
    "start_time": "2022-03-31T13:01:31.693Z"
   },
   {
    "duration": 4,
    "start_time": "2022-03-31T13:01:35.827Z"
   },
   {
    "duration": 4,
    "start_time": "2022-03-31T13:01:39.420Z"
   },
   {
    "duration": 4,
    "start_time": "2022-03-31T13:01:46.581Z"
   },
   {
    "duration": 6,
    "start_time": "2022-03-31T13:01:49.017Z"
   },
   {
    "duration": 10,
    "start_time": "2022-03-31T13:01:50.989Z"
   },
   {
    "duration": 13,
    "start_time": "2022-03-31T13:01:55.439Z"
   },
   {
    "duration": 10,
    "start_time": "2022-03-31T13:02:00.209Z"
   },
   {
    "duration": 25,
    "start_time": "2022-03-31T13:02:06.551Z"
   },
   {
    "duration": 19,
    "start_time": "2022-03-31T13:02:13.254Z"
   },
   {
    "duration": 18,
    "start_time": "2022-03-31T13:02:29.254Z"
   },
   {
    "duration": 20,
    "start_time": "2022-03-31T13:03:14.525Z"
   },
   {
    "duration": 35,
    "start_time": "2022-03-31T13:03:16.179Z"
   },
   {
    "duration": 12,
    "start_time": "2022-03-31T13:03:40.408Z"
   },
   {
    "duration": 14,
    "start_time": "2022-03-31T13:04:46.850Z"
   },
   {
    "duration": 8,
    "start_time": "2022-03-31T13:04:56.584Z"
   },
   {
    "duration": 10,
    "start_time": "2022-03-31T13:06:00.064Z"
   },
   {
    "duration": 7,
    "start_time": "2022-03-31T13:09:31.783Z"
   },
   {
    "duration": 34,
    "start_time": "2022-03-31T13:09:44.839Z"
   },
   {
    "duration": 10,
    "start_time": "2022-03-31T13:10:15.172Z"
   },
   {
    "duration": 10,
    "start_time": "2022-03-31T13:10:23.598Z"
   },
   {
    "duration": 12,
    "start_time": "2022-03-31T13:10:34.288Z"
   },
   {
    "duration": 11,
    "start_time": "2022-03-31T13:11:40.089Z"
   },
   {
    "duration": 1809,
    "start_time": "2022-03-31T13:12:35.074Z"
   },
   {
    "duration": 9,
    "start_time": "2022-03-31T13:13:33.977Z"
   },
   {
    "duration": 11,
    "start_time": "2022-03-31T13:15:01.101Z"
   },
   {
    "duration": 10,
    "start_time": "2022-03-31T13:15:29.494Z"
   },
   {
    "duration": 10,
    "start_time": "2022-03-31T13:15:36.033Z"
   },
   {
    "duration": 13,
    "start_time": "2022-03-31T13:15:39.066Z"
   },
   {
    "duration": 10,
    "start_time": "2022-03-31T13:17:54.797Z"
   },
   {
    "duration": 5,
    "start_time": "2022-03-31T13:23:15.373Z"
   },
   {
    "duration": 5,
    "start_time": "2022-03-31T13:23:26.612Z"
   },
   {
    "duration": 4,
    "start_time": "2022-03-31T13:23:34.821Z"
   },
   {
    "duration": 4,
    "start_time": "2022-03-31T13:23:49.306Z"
   },
   {
    "duration": 17,
    "start_time": "2022-03-31T13:25:18.659Z"
   },
   {
    "duration": 9,
    "start_time": "2022-03-31T13:25:33.408Z"
   },
   {
    "duration": 17,
    "start_time": "2022-03-31T13:25:46.679Z"
   },
   {
    "duration": 8,
    "start_time": "2022-03-31T13:28:21.652Z"
   },
   {
    "duration": 21,
    "start_time": "2022-03-31T13:28:32.601Z"
   },
   {
    "duration": 28,
    "start_time": "2022-03-31T13:28:59.734Z"
   },
   {
    "duration": 30,
    "start_time": "2022-03-31T13:31:35.365Z"
   },
   {
    "duration": 26,
    "start_time": "2022-03-31T13:31:57.170Z"
   },
   {
    "duration": 15,
    "start_time": "2022-03-31T13:32:09.630Z"
   },
   {
    "duration": 14,
    "start_time": "2022-03-31T13:32:34.039Z"
   },
   {
    "duration": 474,
    "start_time": "2022-03-31T13:32:59.779Z"
   },
   {
    "duration": 30,
    "start_time": "2022-03-31T13:33:01.537Z"
   },
   {
    "duration": 15,
    "start_time": "2022-03-31T13:33:03.579Z"
   },
   {
    "duration": 10,
    "start_time": "2022-03-31T13:33:06.725Z"
   },
   {
    "duration": 4,
    "start_time": "2022-03-31T13:33:10.052Z"
   },
   {
    "duration": 4,
    "start_time": "2022-03-31T13:33:10.977Z"
   },
   {
    "duration": 5,
    "start_time": "2022-03-31T13:33:12.552Z"
   },
   {
    "duration": 8,
    "start_time": "2022-03-31T13:33:14.243Z"
   },
   {
    "duration": 10,
    "start_time": "2022-03-31T13:33:15.745Z"
   },
   {
    "duration": 13,
    "start_time": "2022-03-31T13:33:17.035Z"
   },
   {
    "duration": 10,
    "start_time": "2022-03-31T13:33:19.767Z"
   },
   {
    "duration": 27,
    "start_time": "2022-03-31T13:33:21.407Z"
   },
   {
    "duration": 20,
    "start_time": "2022-03-31T13:33:22.870Z"
   },
   {
    "duration": 18,
    "start_time": "2022-03-31T13:33:24.955Z"
   },
   {
    "duration": 20,
    "start_time": "2022-03-31T13:33:27.353Z"
   },
   {
    "duration": 33,
    "start_time": "2022-03-31T13:33:28.286Z"
   },
   {
    "duration": 11,
    "start_time": "2022-03-31T13:33:29.798Z"
   },
   {
    "duration": 9,
    "start_time": "2022-03-31T13:33:32.253Z"
   },
   {
    "duration": 13,
    "start_time": "2022-03-31T13:33:33.949Z"
   },
   {
    "duration": 21,
    "start_time": "2022-03-31T13:33:40.820Z"
   },
   {
    "duration": 18,
    "start_time": "2022-03-31T13:33:45.040Z"
   },
   {
    "duration": 70,
    "start_time": "2022-03-31T13:34:08.872Z"
   },
   {
    "duration": 33,
    "start_time": "2022-03-31T13:35:01.169Z"
   },
   {
    "duration": 11,
    "start_time": "2022-03-31T13:38:53.677Z"
   },
   {
    "duration": 569,
    "start_time": "2022-03-31T13:39:15.868Z"
   },
   {
    "duration": 29,
    "start_time": "2022-03-31T13:39:16.440Z"
   },
   {
    "duration": 23,
    "start_time": "2022-03-31T13:39:16.472Z"
   },
   {
    "duration": 40,
    "start_time": "2022-03-31T13:39:16.497Z"
   },
   {
    "duration": 5,
    "start_time": "2022-03-31T13:39:16.539Z"
   },
   {
    "duration": 10,
    "start_time": "2022-03-31T13:39:16.546Z"
   },
   {
    "duration": 12,
    "start_time": "2022-03-31T13:39:16.558Z"
   },
   {
    "duration": 10,
    "start_time": "2022-03-31T13:39:16.572Z"
   },
   {
    "duration": 15,
    "start_time": "2022-03-31T13:39:16.584Z"
   },
   {
    "duration": 41,
    "start_time": "2022-03-31T13:39:16.603Z"
   },
   {
    "duration": 16,
    "start_time": "2022-03-31T13:39:16.646Z"
   },
   {
    "duration": 27,
    "start_time": "2022-03-31T13:39:16.663Z"
   },
   {
    "duration": 20,
    "start_time": "2022-03-31T13:39:16.692Z"
   },
   {
    "duration": 17,
    "start_time": "2022-03-31T13:39:16.733Z"
   },
   {
    "duration": 19,
    "start_time": "2022-03-31T13:39:16.752Z"
   },
   {
    "duration": 34,
    "start_time": "2022-03-31T13:39:16.773Z"
   },
   {
    "duration": 9,
    "start_time": "2022-03-31T13:39:16.832Z"
   },
   {
    "duration": 12,
    "start_time": "2022-03-31T13:39:16.843Z"
   },
   {
    "duration": 17,
    "start_time": "2022-03-31T13:39:16.857Z"
   },
   {
    "duration": 89,
    "start_time": "2022-03-31T13:39:16.875Z"
   },
   {
    "duration": 0,
    "start_time": "2022-03-31T13:39:16.966Z"
   },
   {
    "duration": 1,
    "start_time": "2022-03-31T13:39:16.966Z"
   },
   {
    "duration": 0,
    "start_time": "2022-03-31T13:39:16.967Z"
   },
   {
    "duration": 0,
    "start_time": "2022-03-31T13:39:16.969Z"
   },
   {
    "duration": 0,
    "start_time": "2022-03-31T13:39:16.970Z"
   },
   {
    "duration": 0,
    "start_time": "2022-03-31T13:39:16.971Z"
   },
   {
    "duration": 0,
    "start_time": "2022-03-31T13:39:16.972Z"
   },
   {
    "duration": 13,
    "start_time": "2022-03-31T13:42:34.373Z"
   },
   {
    "duration": 464,
    "start_time": "2022-03-31T13:42:45.933Z"
   },
   {
    "duration": 19,
    "start_time": "2022-03-31T13:42:46.399Z"
   },
   {
    "duration": 20,
    "start_time": "2022-03-31T13:42:46.420Z"
   },
   {
    "duration": 9,
    "start_time": "2022-03-31T13:42:46.442Z"
   },
   {
    "duration": 14,
    "start_time": "2022-03-31T13:42:46.453Z"
   },
   {
    "duration": 8,
    "start_time": "2022-03-31T13:42:46.469Z"
   },
   {
    "duration": 12,
    "start_time": "2022-03-31T13:42:46.479Z"
   },
   {
    "duration": 14,
    "start_time": "2022-03-31T13:42:46.493Z"
   },
   {
    "duration": 33,
    "start_time": "2022-03-31T13:42:46.508Z"
   },
   {
    "duration": 22,
    "start_time": "2022-03-31T13:42:46.544Z"
   },
   {
    "duration": 19,
    "start_time": "2022-03-31T13:42:46.568Z"
   },
   {
    "duration": 30,
    "start_time": "2022-03-31T13:42:46.590Z"
   },
   {
    "duration": 21,
    "start_time": "2022-03-31T13:42:46.634Z"
   },
   {
    "duration": 35,
    "start_time": "2022-03-31T13:42:46.657Z"
   },
   {
    "duration": 24,
    "start_time": "2022-03-31T13:42:46.694Z"
   },
   {
    "duration": 41,
    "start_time": "2022-03-31T13:42:46.720Z"
   },
   {
    "duration": 9,
    "start_time": "2022-03-31T13:42:46.763Z"
   },
   {
    "duration": 17,
    "start_time": "2022-03-31T13:42:46.774Z"
   },
   {
    "duration": 37,
    "start_time": "2022-03-31T13:42:46.793Z"
   },
   {
    "duration": 85,
    "start_time": "2022-03-31T13:42:46.832Z"
   },
   {
    "duration": 0,
    "start_time": "2022-03-31T13:42:46.920Z"
   },
   {
    "duration": 0,
    "start_time": "2022-03-31T13:42:46.921Z"
   },
   {
    "duration": 0,
    "start_time": "2022-03-31T13:42:46.922Z"
   },
   {
    "duration": 0,
    "start_time": "2022-03-31T13:42:46.923Z"
   },
   {
    "duration": 0,
    "start_time": "2022-03-31T13:42:46.923Z"
   },
   {
    "duration": 1,
    "start_time": "2022-03-31T13:42:46.933Z"
   },
   {
    "duration": 0,
    "start_time": "2022-03-31T13:42:46.935Z"
   },
   {
    "duration": 27,
    "start_time": "2022-03-31T13:43:49.162Z"
   },
   {
    "duration": 20,
    "start_time": "2022-03-31T13:44:02.686Z"
   },
   {
    "duration": 18,
    "start_time": "2022-03-31T13:44:24.135Z"
   },
   {
    "duration": 498,
    "start_time": "2022-03-31T13:44:31.833Z"
   },
   {
    "duration": 20,
    "start_time": "2022-03-31T13:44:32.333Z"
   },
   {
    "duration": 31,
    "start_time": "2022-03-31T13:44:32.354Z"
   },
   {
    "duration": 38,
    "start_time": "2022-03-31T13:44:32.387Z"
   },
   {
    "duration": 5,
    "start_time": "2022-03-31T13:44:32.427Z"
   },
   {
    "duration": 6,
    "start_time": "2022-03-31T13:44:32.433Z"
   },
   {
    "duration": 10,
    "start_time": "2022-03-31T13:44:32.440Z"
   },
   {
    "duration": 11,
    "start_time": "2022-03-31T13:44:32.452Z"
   },
   {
    "duration": 16,
    "start_time": "2022-03-31T13:44:32.465Z"
   },
   {
    "duration": 21,
    "start_time": "2022-03-31T13:44:32.484Z"
   },
   {
    "duration": 34,
    "start_time": "2022-03-31T13:44:32.506Z"
   },
   {
    "duration": 44,
    "start_time": "2022-03-31T13:44:32.542Z"
   },
   {
    "duration": 51,
    "start_time": "2022-03-31T13:44:32.588Z"
   },
   {
    "duration": 25,
    "start_time": "2022-03-31T13:44:32.641Z"
   },
   {
    "duration": 30,
    "start_time": "2022-03-31T13:44:32.668Z"
   },
   {
    "duration": 73,
    "start_time": "2022-03-31T13:44:32.700Z"
   },
   {
    "duration": 10,
    "start_time": "2022-03-31T13:44:32.775Z"
   },
   {
    "duration": 16,
    "start_time": "2022-03-31T13:44:32.788Z"
   },
   {
    "duration": 39,
    "start_time": "2022-03-31T13:44:32.806Z"
   },
   {
    "duration": 47,
    "start_time": "2022-03-31T13:44:32.847Z"
   },
   {
    "duration": 8,
    "start_time": "2022-03-31T13:44:32.896Z"
   },
   {
    "duration": 11578,
    "start_time": "2022-03-31T13:44:32.906Z"
   },
   {
    "duration": 17,
    "start_time": "2022-03-31T13:44:44.486Z"
   },
   {
    "duration": 35,
    "start_time": "2022-03-31T13:44:44.505Z"
   },
   {
    "duration": 113,
    "start_time": "2022-03-31T13:44:44.542Z"
   },
   {
    "duration": 0,
    "start_time": "2022-03-31T13:44:44.657Z"
   },
   {
    "duration": 0,
    "start_time": "2022-03-31T13:44:44.659Z"
   },
   {
    "duration": 463,
    "start_time": "2022-03-31T13:50:37.146Z"
   },
   {
    "duration": 22,
    "start_time": "2022-03-31T13:50:37.611Z"
   },
   {
    "duration": 16,
    "start_time": "2022-03-31T13:50:37.635Z"
   },
   {
    "duration": 10,
    "start_time": "2022-03-31T13:50:37.653Z"
   },
   {
    "duration": 5,
    "start_time": "2022-03-31T13:50:37.664Z"
   },
   {
    "duration": 6,
    "start_time": "2022-03-31T13:50:37.671Z"
   },
   {
    "duration": 6,
    "start_time": "2022-03-31T13:50:37.679Z"
   },
   {
    "duration": 47,
    "start_time": "2022-03-31T13:50:37.686Z"
   },
   {
    "duration": 9,
    "start_time": "2022-03-31T13:50:37.735Z"
   },
   {
    "duration": 13,
    "start_time": "2022-03-31T13:50:37.747Z"
   },
   {
    "duration": 11,
    "start_time": "2022-03-31T13:50:37.761Z"
   },
   {
    "duration": 60,
    "start_time": "2022-03-31T13:50:37.774Z"
   },
   {
    "duration": 21,
    "start_time": "2022-03-31T13:50:37.835Z"
   },
   {
    "duration": 16,
    "start_time": "2022-03-31T13:50:37.857Z"
   },
   {
    "duration": 21,
    "start_time": "2022-03-31T13:50:37.875Z"
   },
   {
    "duration": 66,
    "start_time": "2022-03-31T13:50:37.897Z"
   },
   {
    "duration": 8,
    "start_time": "2022-03-31T13:50:37.965Z"
   },
   {
    "duration": 12,
    "start_time": "2022-03-31T13:50:37.975Z"
   },
   {
    "duration": 18,
    "start_time": "2022-03-31T13:50:37.989Z"
   },
   {
    "duration": 30,
    "start_time": "2022-03-31T13:50:38.032Z"
   },
   {
    "duration": 2771,
    "start_time": "2022-03-31T14:09:16.316Z"
   },
   {
    "duration": 154,
    "start_time": "2022-03-31T14:09:57.030Z"
   },
   {
    "duration": 149,
    "start_time": "2022-03-31T14:10:22.325Z"
   },
   {
    "duration": 173,
    "start_time": "2022-03-31T14:11:18.998Z"
   },
   {
    "duration": 135,
    "start_time": "2022-03-31T14:12:57.526Z"
   },
   {
    "duration": 121,
    "start_time": "2022-03-31T14:18:53.357Z"
   },
   {
    "duration": 4,
    "start_time": "2022-03-31T14:19:19.089Z"
   },
   {
    "duration": 125,
    "start_time": "2022-03-31T14:21:09.453Z"
   },
   {
    "duration": 20,
    "start_time": "2022-03-31T14:24:48.367Z"
   },
   {
    "duration": 141,
    "start_time": "2022-03-31T14:25:42.520Z"
   },
   {
    "duration": 116,
    "start_time": "2022-03-31T14:28:42.367Z"
   },
   {
    "duration": 239,
    "start_time": "2022-03-31T14:28:59.914Z"
   },
   {
    "duration": 6,
    "start_time": "2022-03-31T14:46:29.329Z"
   },
   {
    "duration": 6,
    "start_time": "2022-03-31T14:47:13.620Z"
   },
   {
    "duration": 14,
    "start_time": "2022-03-31T14:48:14.754Z"
   },
   {
    "duration": 495,
    "start_time": "2022-03-31T21:47:31.518Z"
   },
   {
    "duration": 20,
    "start_time": "2022-03-31T21:47:32.015Z"
   },
   {
    "duration": 16,
    "start_time": "2022-03-31T21:47:32.036Z"
   },
   {
    "duration": 10,
    "start_time": "2022-03-31T21:47:32.053Z"
   },
   {
    "duration": 5,
    "start_time": "2022-03-31T21:47:32.065Z"
   },
   {
    "duration": 6,
    "start_time": "2022-03-31T21:47:32.072Z"
   },
   {
    "duration": 11,
    "start_time": "2022-03-31T21:47:32.079Z"
   },
   {
    "duration": 9,
    "start_time": "2022-03-31T21:47:32.092Z"
   },
   {
    "duration": 37,
    "start_time": "2022-03-31T21:47:32.102Z"
   },
   {
    "duration": 15,
    "start_time": "2022-03-31T21:47:32.141Z"
   },
   {
    "duration": 13,
    "start_time": "2022-03-31T21:47:32.158Z"
   },
   {
    "duration": 27,
    "start_time": "2022-03-31T21:47:32.173Z"
   },
   {
    "duration": 41,
    "start_time": "2022-03-31T21:47:32.202Z"
   },
   {
    "duration": 17,
    "start_time": "2022-03-31T21:47:32.245Z"
   },
   {
    "duration": 20,
    "start_time": "2022-03-31T21:47:32.264Z"
   },
   {
    "duration": 58,
    "start_time": "2022-03-31T21:47:32.285Z"
   },
   {
    "duration": 8,
    "start_time": "2022-03-31T21:47:32.345Z"
   },
   {
    "duration": 10,
    "start_time": "2022-03-31T21:47:32.354Z"
   },
   {
    "duration": 19,
    "start_time": "2022-03-31T21:47:32.365Z"
   },
   {
    "duration": 55,
    "start_time": "2022-03-31T21:47:32.386Z"
   },
   {
    "duration": 71,
    "start_time": "2022-03-31T21:47:32.443Z"
   },
   {
    "duration": 0,
    "start_time": "2022-03-31T21:47:32.516Z"
   },
   {
    "duration": 0,
    "start_time": "2022-03-31T21:47:32.533Z"
   },
   {
    "duration": 12,
    "start_time": "2022-03-31T21:50:05.123Z"
   },
   {
    "duration": 13,
    "start_time": "2022-03-31T21:50:41.518Z"
   },
   {
    "duration": 136,
    "start_time": "2022-03-31T21:52:57.146Z"
   },
   {
    "duration": 146,
    "start_time": "2022-03-31T21:53:08.933Z"
   },
   {
    "duration": 150,
    "start_time": "2022-03-31T21:54:19.211Z"
   },
   {
    "duration": 15,
    "start_time": "2022-03-31T21:55:02.650Z"
   },
   {
    "duration": 140,
    "start_time": "2022-03-31T21:55:11.856Z"
   },
   {
    "duration": 14,
    "start_time": "2022-03-31T21:55:30.779Z"
   },
   {
    "duration": 6,
    "start_time": "2022-03-31T21:55:36.827Z"
   },
   {
    "duration": 7,
    "start_time": "2022-03-31T21:55:43.777Z"
   },
   {
    "duration": 10,
    "start_time": "2022-03-31T21:55:51.629Z"
   },
   {
    "duration": 13,
    "start_time": "2022-03-31T21:55:56.078Z"
   },
   {
    "duration": 11,
    "start_time": "2022-03-31T21:57:21.762Z"
   },
   {
    "duration": 9,
    "start_time": "2022-03-31T21:58:22.825Z"
   },
   {
    "duration": 9,
    "start_time": "2022-03-31T21:58:29.850Z"
   },
   {
    "duration": 9,
    "start_time": "2022-03-31T22:00:50.088Z"
   },
   {
    "duration": 8,
    "start_time": "2022-03-31T22:00:53.304Z"
   },
   {
    "duration": 505,
    "start_time": "2022-03-31T22:00:57.302Z"
   },
   {
    "duration": 22,
    "start_time": "2022-03-31T22:00:57.809Z"
   },
   {
    "duration": 17,
    "start_time": "2022-03-31T22:00:57.833Z"
   },
   {
    "duration": 11,
    "start_time": "2022-03-31T22:00:57.852Z"
   },
   {
    "duration": 4,
    "start_time": "2022-03-31T22:00:57.866Z"
   },
   {
    "duration": 11,
    "start_time": "2022-03-31T22:00:57.872Z"
   },
   {
    "duration": 8,
    "start_time": "2022-03-31T22:00:57.885Z"
   },
   {
    "duration": 12,
    "start_time": "2022-03-31T22:00:57.895Z"
   },
   {
    "duration": 10,
    "start_time": "2022-03-31T22:00:57.933Z"
   },
   {
    "duration": 16,
    "start_time": "2022-03-31T22:00:57.944Z"
   },
   {
    "duration": 15,
    "start_time": "2022-03-31T22:00:57.962Z"
   },
   {
    "duration": 30,
    "start_time": "2022-03-31T22:00:57.978Z"
   },
   {
    "duration": 37,
    "start_time": "2022-03-31T22:00:58.010Z"
   },
   {
    "duration": 15,
    "start_time": "2022-03-31T22:00:58.050Z"
   },
   {
    "duration": 20,
    "start_time": "2022-03-31T22:00:58.067Z"
   },
   {
    "duration": 58,
    "start_time": "2022-03-31T22:00:58.089Z"
   },
   {
    "duration": 9,
    "start_time": "2022-03-31T22:00:58.149Z"
   },
   {
    "duration": 14,
    "start_time": "2022-03-31T22:00:58.159Z"
   },
   {
    "duration": 18,
    "start_time": "2022-03-31T22:00:58.175Z"
   },
   {
    "duration": 52,
    "start_time": "2022-03-31T22:00:58.195Z"
   },
   {
    "duration": 94,
    "start_time": "2022-03-31T22:00:58.249Z"
   },
   {
    "duration": 0,
    "start_time": "2022-03-31T22:00:58.345Z"
   },
   {
    "duration": 0,
    "start_time": "2022-03-31T22:00:58.346Z"
   },
   {
    "duration": 10,
    "start_time": "2022-03-31T22:01:48.930Z"
   },
   {
    "duration": 4,
    "start_time": "2022-03-31T22:02:01.723Z"
   },
   {
    "duration": 11,
    "start_time": "2022-03-31T22:02:18.410Z"
   },
   {
    "duration": 24,
    "start_time": "2022-03-31T22:02:24.416Z"
   },
   {
    "duration": 24,
    "start_time": "2022-03-31T22:02:41.105Z"
   },
   {
    "duration": 24,
    "start_time": "2022-03-31T22:06:01.910Z"
   },
   {
    "duration": 22,
    "start_time": "2022-03-31T22:07:17.172Z"
   },
   {
    "duration": 20,
    "start_time": "2022-03-31T22:07:39.940Z"
   },
   {
    "duration": 148,
    "start_time": "2022-03-31T22:08:01.505Z"
   },
   {
    "duration": 147,
    "start_time": "2022-03-31T22:08:06.857Z"
   },
   {
    "duration": 134,
    "start_time": "2022-03-31T22:08:30.168Z"
   },
   {
    "duration": 134,
    "start_time": "2022-03-31T22:08:49.687Z"
   },
   {
    "duration": 132,
    "start_time": "2022-03-31T22:09:13.368Z"
   },
   {
    "duration": 131,
    "start_time": "2022-03-31T22:10:06.285Z"
   },
   {
    "duration": 135,
    "start_time": "2022-03-31T22:10:36.506Z"
   },
   {
    "duration": 1793,
    "start_time": "2022-03-31T22:15:59.457Z"
   },
   {
    "duration": 135,
    "start_time": "2022-03-31T22:16:05.561Z"
   },
   {
    "duration": 136,
    "start_time": "2022-03-31T22:18:00.367Z"
   },
   {
    "duration": 134,
    "start_time": "2022-03-31T22:18:36.107Z"
   },
   {
    "duration": 435,
    "start_time": "2022-03-31T22:20:24.364Z"
   },
   {
    "duration": 20,
    "start_time": "2022-03-31T22:20:24.801Z"
   },
   {
    "duration": 21,
    "start_time": "2022-03-31T22:20:24.822Z"
   },
   {
    "duration": 10,
    "start_time": "2022-03-31T22:20:24.845Z"
   },
   {
    "duration": 4,
    "start_time": "2022-03-31T22:20:24.858Z"
   },
   {
    "duration": 13,
    "start_time": "2022-03-31T22:20:24.864Z"
   },
   {
    "duration": 8,
    "start_time": "2022-03-31T22:20:24.879Z"
   },
   {
    "duration": 8,
    "start_time": "2022-03-31T22:20:24.889Z"
   },
   {
    "duration": 38,
    "start_time": "2022-03-31T22:20:24.899Z"
   },
   {
    "duration": 13,
    "start_time": "2022-03-31T22:20:24.938Z"
   },
   {
    "duration": 12,
    "start_time": "2022-03-31T22:20:24.953Z"
   },
   {
    "duration": 34,
    "start_time": "2022-03-31T22:20:24.966Z"
   },
   {
    "duration": 42,
    "start_time": "2022-03-31T22:20:25.002Z"
   },
   {
    "duration": 16,
    "start_time": "2022-03-31T22:20:25.046Z"
   },
   {
    "duration": 20,
    "start_time": "2022-03-31T22:20:25.064Z"
   },
   {
    "duration": 54,
    "start_time": "2022-03-31T22:20:25.086Z"
   },
   {
    "duration": 8,
    "start_time": "2022-03-31T22:20:25.141Z"
   },
   {
    "duration": 14,
    "start_time": "2022-03-31T22:20:25.151Z"
   },
   {
    "duration": 21,
    "start_time": "2022-03-31T22:20:25.166Z"
   },
   {
    "duration": 52,
    "start_time": "2022-03-31T22:20:25.188Z"
   },
   {
    "duration": 146,
    "start_time": "2022-03-31T22:20:25.242Z"
   },
   {
    "duration": 4,
    "start_time": "2022-03-31T22:20:25.389Z"
   },
   {
    "duration": 10,
    "start_time": "2022-03-31T22:20:25.395Z"
   },
   {
    "duration": 10,
    "start_time": "2022-03-31T22:20:25.407Z"
   },
   {
    "duration": 141,
    "start_time": "2022-03-31T22:21:32.234Z"
   },
   {
    "duration": 76,
    "start_time": "2022-03-31T22:22:18.772Z"
   },
   {
    "duration": 20,
    "start_time": "2022-03-31T22:23:04.487Z"
   },
   {
    "duration": 420,
    "start_time": "2022-03-31T22:23:12.680Z"
   },
   {
    "duration": 19,
    "start_time": "2022-03-31T22:23:13.103Z"
   },
   {
    "duration": 23,
    "start_time": "2022-03-31T22:23:13.124Z"
   },
   {
    "duration": 11,
    "start_time": "2022-03-31T22:23:13.149Z"
   },
   {
    "duration": 5,
    "start_time": "2022-03-31T22:23:13.162Z"
   },
   {
    "duration": 5,
    "start_time": "2022-03-31T22:23:13.168Z"
   },
   {
    "duration": 8,
    "start_time": "2022-03-31T22:23:13.174Z"
   },
   {
    "duration": 6,
    "start_time": "2022-03-31T22:23:13.184Z"
   },
   {
    "duration": 9,
    "start_time": "2022-03-31T22:23:13.192Z"
   },
   {
    "duration": 13,
    "start_time": "2022-03-31T22:23:13.233Z"
   },
   {
    "duration": 11,
    "start_time": "2022-03-31T22:23:13.247Z"
   },
   {
    "duration": 28,
    "start_time": "2022-03-31T22:23:13.259Z"
   },
   {
    "duration": 49,
    "start_time": "2022-03-31T22:23:13.288Z"
   },
   {
    "duration": 16,
    "start_time": "2022-03-31T22:23:13.340Z"
   },
   {
    "duration": 19,
    "start_time": "2022-03-31T22:23:13.358Z"
   },
   {
    "duration": 54,
    "start_time": "2022-03-31T22:23:13.378Z"
   },
   {
    "duration": 9,
    "start_time": "2022-03-31T22:23:13.434Z"
   },
   {
    "duration": 11,
    "start_time": "2022-03-31T22:23:13.444Z"
   },
   {
    "duration": 22,
    "start_time": "2022-03-31T22:23:13.456Z"
   },
   {
    "duration": 57,
    "start_time": "2022-03-31T22:23:13.479Z"
   },
   {
    "duration": 78,
    "start_time": "2022-03-31T22:23:13.537Z"
   },
   {
    "duration": 0,
    "start_time": "2022-03-31T22:23:13.617Z"
   },
   {
    "duration": 0,
    "start_time": "2022-03-31T22:23:13.618Z"
   },
   {
    "duration": 0,
    "start_time": "2022-03-31T22:23:13.619Z"
   },
   {
    "duration": 18,
    "start_time": "2022-03-31T22:23:25.209Z"
   },
   {
    "duration": 416,
    "start_time": "2022-03-31T22:23:46.382Z"
   },
   {
    "duration": 19,
    "start_time": "2022-03-31T22:23:46.800Z"
   },
   {
    "duration": 21,
    "start_time": "2022-03-31T22:23:46.821Z"
   },
   {
    "duration": 10,
    "start_time": "2022-03-31T22:23:46.844Z"
   },
   {
    "duration": 3,
    "start_time": "2022-03-31T22:23:46.856Z"
   },
   {
    "duration": 6,
    "start_time": "2022-03-31T22:23:46.861Z"
   },
   {
    "duration": 7,
    "start_time": "2022-03-31T22:23:46.868Z"
   },
   {
    "duration": 8,
    "start_time": "2022-03-31T22:23:46.876Z"
   },
   {
    "duration": 9,
    "start_time": "2022-03-31T22:23:46.886Z"
   },
   {
    "duration": 41,
    "start_time": "2022-03-31T22:23:46.898Z"
   },
   {
    "duration": 12,
    "start_time": "2022-03-31T22:23:46.941Z"
   },
   {
    "duration": 26,
    "start_time": "2022-03-31T22:23:46.955Z"
   },
   {
    "duration": 22,
    "start_time": "2022-03-31T22:23:46.983Z"
   },
   {
    "duration": 42,
    "start_time": "2022-03-31T22:23:47.006Z"
   },
   {
    "duration": 21,
    "start_time": "2022-03-31T22:23:47.049Z"
   },
   {
    "duration": 33,
    "start_time": "2022-03-31T22:23:47.071Z"
   },
   {
    "duration": 34,
    "start_time": "2022-03-31T22:23:47.106Z"
   },
   {
    "duration": 9,
    "start_time": "2022-03-31T22:23:47.142Z"
   },
   {
    "duration": 19,
    "start_time": "2022-03-31T22:23:47.152Z"
   },
   {
    "duration": 29,
    "start_time": "2022-03-31T22:23:47.172Z"
   },
   {
    "duration": 106,
    "start_time": "2022-03-31T22:23:47.202Z"
   },
   {
    "duration": 0,
    "start_time": "2022-03-31T22:23:47.309Z"
   },
   {
    "duration": 0,
    "start_time": "2022-03-31T22:23:47.311Z"
   },
   {
    "duration": 0,
    "start_time": "2022-03-31T22:23:47.312Z"
   },
   {
    "duration": 20,
    "start_time": "2022-03-31T22:24:19.710Z"
   },
   {
    "duration": 4,
    "start_time": "2022-03-31T22:24:26.242Z"
   },
   {
    "duration": 20,
    "start_time": "2022-03-31T22:24:32.113Z"
   },
   {
    "duration": 50,
    "start_time": "2022-03-31T22:24:47.013Z"
   },
   {
    "duration": 477,
    "start_time": "2022-03-31T22:24:53.412Z"
   },
   {
    "duration": 20,
    "start_time": "2022-03-31T22:24:54.342Z"
   },
   {
    "duration": 15,
    "start_time": "2022-03-31T22:24:56.303Z"
   },
   {
    "duration": 11,
    "start_time": "2022-03-31T22:24:58.536Z"
   },
   {
    "duration": 4,
    "start_time": "2022-03-31T22:25:00.141Z"
   },
   {
    "duration": 5,
    "start_time": "2022-03-31T22:25:01.134Z"
   },
   {
    "duration": 4,
    "start_time": "2022-03-31T22:25:02.451Z"
   },
   {
    "duration": 6,
    "start_time": "2022-03-31T22:25:03.465Z"
   },
   {
    "duration": 10,
    "start_time": "2022-03-31T22:25:04.740Z"
   },
   {
    "duration": 13,
    "start_time": "2022-03-31T22:25:05.951Z"
   },
   {
    "duration": 9,
    "start_time": "2022-03-31T22:25:08.474Z"
   },
   {
    "duration": 28,
    "start_time": "2022-03-31T22:25:09.701Z"
   },
   {
    "duration": 21,
    "start_time": "2022-03-31T22:25:10.936Z"
   },
   {
    "duration": 18,
    "start_time": "2022-03-31T22:25:12.993Z"
   },
   {
    "duration": 23,
    "start_time": "2022-03-31T22:25:14.622Z"
   },
   {
    "duration": 37,
    "start_time": "2022-03-31T22:25:16.117Z"
   },
   {
    "duration": 9,
    "start_time": "2022-03-31T22:25:19.031Z"
   },
   {
    "duration": 8,
    "start_time": "2022-03-31T22:25:20.427Z"
   },
   {
    "duration": 19,
    "start_time": "2022-03-31T22:25:25.988Z"
   },
   {
    "duration": 32,
    "start_time": "2022-03-31T22:25:28.631Z"
   },
   {
    "duration": 44,
    "start_time": "2022-03-31T22:25:32.240Z"
   },
   {
    "duration": 139,
    "start_time": "2022-03-31T22:25:55.479Z"
   },
   {
    "duration": 198,
    "start_time": "2022-03-31T22:27:03.147Z"
   },
   {
    "duration": 139,
    "start_time": "2022-03-31T22:28:23.787Z"
   },
   {
    "duration": 140,
    "start_time": "2022-03-31T22:29:36.776Z"
   },
   {
    "duration": 20,
    "start_time": "2022-03-31T22:44:34.441Z"
   },
   {
    "duration": 14,
    "start_time": "2022-03-31T22:44:50.278Z"
   },
   {
    "duration": 4,
    "start_time": "2022-03-31T22:52:46.689Z"
   },
   {
    "duration": 19,
    "start_time": "2022-03-31T22:52:57.855Z"
   },
   {
    "duration": 21,
    "start_time": "2022-03-31T22:53:24.442Z"
   },
   {
    "duration": 4,
    "start_time": "2022-03-31T22:53:42.070Z"
   },
   {
    "duration": 5,
    "start_time": "2022-03-31T22:54:06.215Z"
   },
   {
    "duration": 66,
    "start_time": "2022-03-31T22:54:10.935Z"
   },
   {
    "duration": 9,
    "start_time": "2022-03-31T22:54:42.800Z"
   },
   {
    "duration": 9,
    "start_time": "2022-03-31T22:54:47.809Z"
   },
   {
    "duration": 466,
    "start_time": "2022-03-31T22:54:54.626Z"
   },
   {
    "duration": 21,
    "start_time": "2022-03-31T22:54:55.094Z"
   },
   {
    "duration": 21,
    "start_time": "2022-03-31T22:54:55.117Z"
   },
   {
    "duration": 13,
    "start_time": "2022-03-31T22:54:55.140Z"
   },
   {
    "duration": 4,
    "start_time": "2022-03-31T22:54:55.156Z"
   },
   {
    "duration": 9,
    "start_time": "2022-03-31T22:54:55.162Z"
   },
   {
    "duration": 6,
    "start_time": "2022-03-31T22:54:55.173Z"
   },
   {
    "duration": 17,
    "start_time": "2022-03-31T22:54:55.181Z"
   },
   {
    "duration": 37,
    "start_time": "2022-03-31T22:54:55.200Z"
   },
   {
    "duration": 17,
    "start_time": "2022-03-31T22:54:55.239Z"
   },
   {
    "duration": 13,
    "start_time": "2022-03-31T22:54:55.258Z"
   },
   {
    "duration": 27,
    "start_time": "2022-03-31T22:54:55.273Z"
   },
   {
    "duration": 47,
    "start_time": "2022-03-31T22:54:55.302Z"
   },
   {
    "duration": 18,
    "start_time": "2022-03-31T22:54:55.352Z"
   },
   {
    "duration": 20,
    "start_time": "2022-03-31T22:54:55.372Z"
   },
   {
    "duration": 63,
    "start_time": "2022-03-31T22:54:55.394Z"
   },
   {
    "duration": 10,
    "start_time": "2022-03-31T22:54:55.459Z"
   },
   {
    "duration": 10,
    "start_time": "2022-03-31T22:54:55.470Z"
   },
   {
    "duration": 22,
    "start_time": "2022-03-31T22:54:55.481Z"
   },
   {
    "duration": 51,
    "start_time": "2022-03-31T22:54:55.504Z"
   },
   {
    "duration": 4,
    "start_time": "2022-03-31T22:54:55.557Z"
   },
   {
    "duration": 1799,
    "start_time": "2022-03-31T22:54:55.563Z"
   },
   {
    "duration": 0,
    "start_time": "2022-03-31T22:54:57.363Z"
   },
   {
    "duration": 0,
    "start_time": "2022-03-31T22:54:57.365Z"
   },
   {
    "duration": 0,
    "start_time": "2022-03-31T22:54:57.366Z"
   },
   {
    "duration": 0,
    "start_time": "2022-03-31T22:54:57.367Z"
   },
   {
    "duration": 22,
    "start_time": "2022-03-31T22:55:02.240Z"
   },
   {
    "duration": 134,
    "start_time": "2022-03-31T22:55:39.463Z"
   },
   {
    "duration": 148,
    "start_time": "2022-03-31T22:56:01.006Z"
   },
   {
    "duration": 140,
    "start_time": "2022-03-31T22:56:22.721Z"
   },
   {
    "duration": 137,
    "start_time": "2022-03-31T22:56:52.848Z"
   },
   {
    "duration": 416,
    "start_time": "2022-03-31T22:58:18.678Z"
   },
   {
    "duration": 21,
    "start_time": "2022-03-31T22:58:19.095Z"
   },
   {
    "duration": 23,
    "start_time": "2022-03-31T22:58:19.117Z"
   },
   {
    "duration": 10,
    "start_time": "2022-03-31T22:58:19.142Z"
   },
   {
    "duration": 4,
    "start_time": "2022-03-31T22:58:19.155Z"
   },
   {
    "duration": 9,
    "start_time": "2022-03-31T22:58:19.160Z"
   },
   {
    "duration": 6,
    "start_time": "2022-03-31T22:58:19.171Z"
   },
   {
    "duration": 9,
    "start_time": "2022-03-31T22:58:19.178Z"
   },
   {
    "duration": 10,
    "start_time": "2022-03-31T22:58:19.189Z"
   },
   {
    "duration": 43,
    "start_time": "2022-03-31T22:58:19.200Z"
   },
   {
    "duration": 12,
    "start_time": "2022-03-31T22:58:19.245Z"
   },
   {
    "duration": 28,
    "start_time": "2022-03-31T22:58:19.258Z"
   },
   {
    "duration": 47,
    "start_time": "2022-03-31T22:58:19.287Z"
   },
   {
    "duration": 17,
    "start_time": "2022-03-31T22:58:19.336Z"
   },
   {
    "duration": 20,
    "start_time": "2022-03-31T22:58:19.355Z"
   },
   {
    "duration": 58,
    "start_time": "2022-03-31T22:58:19.376Z"
   },
   {
    "duration": 9,
    "start_time": "2022-03-31T22:58:19.435Z"
   },
   {
    "duration": 10,
    "start_time": "2022-03-31T22:58:19.445Z"
   },
   {
    "duration": 21,
    "start_time": "2022-03-31T22:58:19.456Z"
   },
   {
    "duration": 31,
    "start_time": "2022-03-31T22:58:19.479Z"
   },
   {
    "duration": 5,
    "start_time": "2022-03-31T22:58:19.533Z"
   },
   {
    "duration": 155,
    "start_time": "2022-03-31T22:58:19.539Z"
   },
   {
    "duration": 4,
    "start_time": "2022-03-31T22:58:19.696Z"
   },
   {
    "duration": 8,
    "start_time": "2022-03-31T22:58:19.702Z"
   },
   {
    "duration": 26,
    "start_time": "2022-03-31T22:58:19.711Z"
   },
   {
    "duration": 7,
    "start_time": "2022-03-31T22:58:19.739Z"
   },
   {
    "duration": 566,
    "start_time": "2022-03-31T22:59:29.678Z"
   },
   {
    "duration": 143,
    "start_time": "2022-03-31T22:59:39.584Z"
   },
   {
    "duration": 149,
    "start_time": "2022-03-31T23:01:12.749Z"
   },
   {
    "duration": 137,
    "start_time": "2022-03-31T23:02:21.856Z"
   },
   {
    "duration": 129,
    "start_time": "2022-03-31T23:02:35.332Z"
   },
   {
    "duration": 20,
    "start_time": "2022-03-31T23:03:12.413Z"
   },
   {
    "duration": 141,
    "start_time": "2022-03-31T23:03:29.923Z"
   },
   {
    "duration": 112,
    "start_time": "2022-03-31T23:08:00.243Z"
   },
   {
    "duration": 11,
    "start_time": "2022-03-31T23:08:06.061Z"
   },
   {
    "duration": 18,
    "start_time": "2022-03-31T23:08:32.595Z"
   },
   {
    "duration": 16,
    "start_time": "2022-03-31T23:08:40.439Z"
   },
   {
    "duration": 10,
    "start_time": "2022-03-31T23:09:20.967Z"
   },
   {
    "duration": 443,
    "start_time": "2022-03-31T23:09:29.659Z"
   },
   {
    "duration": 21,
    "start_time": "2022-03-31T23:09:30.104Z"
   },
   {
    "duration": 21,
    "start_time": "2022-03-31T23:09:30.127Z"
   },
   {
    "duration": 12,
    "start_time": "2022-03-31T23:09:30.151Z"
   },
   {
    "duration": 7,
    "start_time": "2022-03-31T23:09:30.165Z"
   },
   {
    "duration": 11,
    "start_time": "2022-03-31T23:09:30.174Z"
   },
   {
    "duration": 9,
    "start_time": "2022-03-31T23:09:30.187Z"
   },
   {
    "duration": 37,
    "start_time": "2022-03-31T23:09:30.198Z"
   },
   {
    "duration": 17,
    "start_time": "2022-03-31T23:09:30.237Z"
   },
   {
    "duration": 14,
    "start_time": "2022-03-31T23:09:30.257Z"
   },
   {
    "duration": 12,
    "start_time": "2022-03-31T23:09:30.273Z"
   },
   {
    "duration": 55,
    "start_time": "2022-03-31T23:09:30.287Z"
   },
   {
    "duration": 21,
    "start_time": "2022-03-31T23:09:30.344Z"
   },
   {
    "duration": 17,
    "start_time": "2022-03-31T23:09:30.367Z"
   },
   {
    "duration": 54,
    "start_time": "2022-03-31T23:09:30.386Z"
   },
   {
    "duration": 33,
    "start_time": "2022-03-31T23:09:30.442Z"
   },
   {
    "duration": 10,
    "start_time": "2022-03-31T23:09:30.477Z"
   },
   {
    "duration": 17,
    "start_time": "2022-03-31T23:09:30.489Z"
   },
   {
    "duration": 46,
    "start_time": "2022-03-31T23:09:30.508Z"
   },
   {
    "duration": 32,
    "start_time": "2022-03-31T23:09:30.555Z"
   },
   {
    "duration": 4,
    "start_time": "2022-03-31T23:09:30.589Z"
   },
   {
    "duration": 83,
    "start_time": "2022-03-31T23:09:30.595Z"
   },
   {
    "duration": 0,
    "start_time": "2022-03-31T23:09:30.679Z"
   },
   {
    "duration": 0,
    "start_time": "2022-03-31T23:09:30.681Z"
   },
   {
    "duration": 0,
    "start_time": "2022-03-31T23:09:30.682Z"
   },
   {
    "duration": 0,
    "start_time": "2022-03-31T23:09:30.683Z"
   },
   {
    "duration": 29,
    "start_time": "2022-03-31T23:10:30.550Z"
   },
   {
    "duration": 28,
    "start_time": "2022-03-31T23:10:54.322Z"
   },
   {
    "duration": 29,
    "start_time": "2022-03-31T23:14:56.136Z"
   },
   {
    "duration": 146,
    "start_time": "2022-03-31T23:16:52.730Z"
   },
   {
    "duration": 146,
    "start_time": "2022-03-31T23:17:08.065Z"
   },
   {
    "duration": 140,
    "start_time": "2022-03-31T23:17:51.616Z"
   },
   {
    "duration": 139,
    "start_time": "2022-03-31T23:19:22.943Z"
   },
   {
    "duration": 142,
    "start_time": "2022-03-31T23:19:40.028Z"
   },
   {
    "duration": 135,
    "start_time": "2022-03-31T23:19:44.225Z"
   },
   {
    "duration": 144,
    "start_time": "2022-03-31T23:20:08.541Z"
   },
   {
    "duration": 19,
    "start_time": "2022-03-31T23:21:23.773Z"
   },
   {
    "duration": 140,
    "start_time": "2022-03-31T23:22:38.016Z"
   },
   {
    "duration": 143,
    "start_time": "2022-03-31T23:22:52.863Z"
   },
   {
    "duration": 81,
    "start_time": "2022-04-01T10:16:48.634Z"
   },
   {
    "duration": 601,
    "start_time": "2022-04-01T10:16:57.435Z"
   },
   {
    "duration": 38,
    "start_time": "2022-04-01T10:16:58.038Z"
   },
   {
    "duration": 21,
    "start_time": "2022-04-01T10:16:58.078Z"
   },
   {
    "duration": 13,
    "start_time": "2022-04-01T10:16:58.102Z"
   },
   {
    "duration": 6,
    "start_time": "2022-04-01T10:16:58.117Z"
   },
   {
    "duration": 49,
    "start_time": "2022-04-01T10:16:58.124Z"
   },
   {
    "duration": 5,
    "start_time": "2022-04-01T10:16:58.175Z"
   },
   {
    "duration": 9,
    "start_time": "2022-04-01T10:16:58.182Z"
   },
   {
    "duration": 13,
    "start_time": "2022-04-01T10:16:58.193Z"
   },
   {
    "duration": 64,
    "start_time": "2022-04-01T10:16:58.210Z"
   },
   {
    "duration": 13,
    "start_time": "2022-04-01T10:16:58.276Z"
   },
   {
    "duration": 34,
    "start_time": "2022-04-01T10:16:58.291Z"
   },
   {
    "duration": 64,
    "start_time": "2022-04-01T10:16:58.327Z"
   },
   {
    "duration": 22,
    "start_time": "2022-04-01T10:16:58.393Z"
   },
   {
    "duration": 63,
    "start_time": "2022-04-01T10:16:58.417Z"
   },
   {
    "duration": 46,
    "start_time": "2022-04-01T10:16:58.482Z"
   },
   {
    "duration": 12,
    "start_time": "2022-04-01T10:16:58.530Z"
   },
   {
    "duration": 41,
    "start_time": "2022-04-01T10:16:58.544Z"
   },
   {
    "duration": 23,
    "start_time": "2022-04-01T10:16:58.587Z"
   },
   {
    "duration": 91,
    "start_time": "2022-04-01T10:16:58.613Z"
   },
   {
    "duration": 6,
    "start_time": "2022-04-01T10:16:58.706Z"
   },
   {
    "duration": 284,
    "start_time": "2022-04-01T10:16:58.714Z"
   },
   {
    "duration": 6,
    "start_time": "2022-04-01T10:16:59.000Z"
   },
   {
    "duration": 8,
    "start_time": "2022-04-01T10:16:59.008Z"
   },
   {
    "duration": 56,
    "start_time": "2022-04-01T10:16:59.018Z"
   },
   {
    "duration": 5,
    "start_time": "2022-04-01T10:16:59.076Z"
   },
   {
    "duration": 244,
    "start_time": "2022-04-01T10:17:34.245Z"
   },
   {
    "duration": 280,
    "start_time": "2022-04-01T10:18:26.160Z"
   },
   {
    "duration": 7,
    "start_time": "2022-04-01T10:34:16.988Z"
   },
   {
    "duration": 7,
    "start_time": "2022-04-01T10:34:26.137Z"
   },
   {
    "duration": 8,
    "start_time": "2022-04-01T10:34:53.388Z"
   },
   {
    "duration": 9,
    "start_time": "2022-04-01T10:35:17.917Z"
   },
   {
    "duration": 117,
    "start_time": "2022-04-01T10:37:16.701Z"
   },
   {
    "duration": 27,
    "start_time": "2022-04-01T10:37:35.362Z"
   },
   {
    "duration": 21,
    "start_time": "2022-04-01T10:42:02.161Z"
   },
   {
    "duration": 19,
    "start_time": "2022-04-01T10:44:13.909Z"
   },
   {
    "duration": 20,
    "start_time": "2022-04-01T10:48:20.717Z"
   },
   {
    "duration": 22,
    "start_time": "2022-04-01T10:50:20.709Z"
   },
   {
    "duration": 18,
    "start_time": "2022-04-01T10:50:35.946Z"
   },
   {
    "duration": 35,
    "start_time": "2022-04-01T11:03:38.972Z"
   },
   {
    "duration": 32,
    "start_time": "2022-04-01T11:06:31.407Z"
   },
   {
    "duration": 22,
    "start_time": "2022-04-01T11:07:35.897Z"
   },
   {
    "duration": 626,
    "start_time": "2022-04-01T11:08:07.581Z"
   },
   {
    "duration": 32,
    "start_time": "2022-04-01T11:08:08.210Z"
   },
   {
    "duration": 42,
    "start_time": "2022-04-01T11:08:08.244Z"
   },
   {
    "duration": 13,
    "start_time": "2022-04-01T11:08:08.289Z"
   },
   {
    "duration": 6,
    "start_time": "2022-04-01T11:08:08.304Z"
   },
   {
    "duration": 9,
    "start_time": "2022-04-01T11:08:08.313Z"
   },
   {
    "duration": 6,
    "start_time": "2022-04-01T11:08:08.375Z"
   },
   {
    "duration": 8,
    "start_time": "2022-04-01T11:08:08.383Z"
   },
   {
    "duration": 14,
    "start_time": "2022-04-01T11:08:08.394Z"
   },
   {
    "duration": 72,
    "start_time": "2022-04-01T11:08:08.411Z"
   },
   {
    "duration": 14,
    "start_time": "2022-04-01T11:08:08.485Z"
   },
   {
    "duration": 74,
    "start_time": "2022-04-01T11:08:08.501Z"
   },
   {
    "duration": 29,
    "start_time": "2022-04-01T11:08:08.577Z"
   },
   {
    "duration": 23,
    "start_time": "2022-04-01T11:08:08.608Z"
   },
   {
    "duration": 29,
    "start_time": "2022-04-01T11:08:08.674Z"
   },
   {
    "duration": 79,
    "start_time": "2022-04-01T11:08:08.705Z"
   },
   {
    "duration": 11,
    "start_time": "2022-04-01T11:08:08.786Z"
   },
   {
    "duration": 16,
    "start_time": "2022-04-01T11:08:08.799Z"
   },
   {
    "duration": 57,
    "start_time": "2022-04-01T11:08:08.817Z"
   },
   {
    "duration": 49,
    "start_time": "2022-04-01T11:08:08.876Z"
   },
   {
    "duration": 7,
    "start_time": "2022-04-01T11:08:08.927Z"
   },
   {
    "duration": 281,
    "start_time": "2022-04-01T11:08:08.936Z"
   },
   {
    "duration": 19,
    "start_time": "2022-04-01T11:08:09.219Z"
   },
   {
    "duration": 44,
    "start_time": "2022-04-01T11:08:09.240Z"
   },
   {
    "duration": 21,
    "start_time": "2022-04-01T11:08:09.286Z"
   },
   {
    "duration": 65,
    "start_time": "2022-04-01T11:08:09.310Z"
   },
   {
    "duration": 97,
    "start_time": "2022-04-01T11:26:44.769Z"
   },
   {
    "duration": 538,
    "start_time": "2022-04-01T11:27:13.793Z"
   },
   {
    "duration": 31,
    "start_time": "2022-04-01T11:27:14.334Z"
   },
   {
    "duration": 21,
    "start_time": "2022-04-01T11:27:14.375Z"
   },
   {
    "duration": 14,
    "start_time": "2022-04-01T11:27:14.399Z"
   },
   {
    "duration": 6,
    "start_time": "2022-04-01T11:27:14.415Z"
   },
   {
    "duration": 51,
    "start_time": "2022-04-01T11:27:14.423Z"
   },
   {
    "duration": 5,
    "start_time": "2022-04-01T11:27:14.477Z"
   },
   {
    "duration": 8,
    "start_time": "2022-04-01T11:27:14.485Z"
   },
   {
    "duration": 12,
    "start_time": "2022-04-01T11:27:14.495Z"
   },
   {
    "duration": 64,
    "start_time": "2022-04-01T11:27:14.511Z"
   },
   {
    "duration": 14,
    "start_time": "2022-04-01T11:27:14.577Z"
   },
   {
    "duration": 36,
    "start_time": "2022-04-01T11:27:14.593Z"
   },
   {
    "duration": 68,
    "start_time": "2022-04-01T11:27:14.631Z"
   },
   {
    "duration": 22,
    "start_time": "2022-04-01T11:27:14.701Z"
   },
   {
    "duration": 65,
    "start_time": "2022-04-01T11:27:14.725Z"
   },
   {
    "duration": 47,
    "start_time": "2022-04-01T11:27:14.792Z"
   },
   {
    "duration": 35,
    "start_time": "2022-04-01T11:27:14.841Z"
   },
   {
    "duration": 11,
    "start_time": "2022-04-01T11:27:14.878Z"
   },
   {
    "duration": 25,
    "start_time": "2022-04-01T11:27:14.891Z"
   },
   {
    "duration": 83,
    "start_time": "2022-04-01T11:27:14.918Z"
   },
   {
    "duration": 6,
    "start_time": "2022-04-01T11:27:15.003Z"
   },
   {
    "duration": 278,
    "start_time": "2022-04-01T11:27:15.012Z"
   },
   {
    "duration": 18,
    "start_time": "2022-04-01T11:27:15.293Z"
   },
   {
    "duration": 18,
    "start_time": "2022-04-01T11:27:15.313Z"
   },
   {
    "duration": 57,
    "start_time": "2022-04-01T11:27:15.333Z"
   },
   {
    "duration": 23,
    "start_time": "2022-04-01T11:27:15.393Z"
   },
   {
    "duration": 109,
    "start_time": "2022-04-01T11:27:30.369Z"
   },
   {
    "duration": 610,
    "start_time": "2022-04-01T11:27:33.846Z"
   },
   {
    "duration": 30,
    "start_time": "2022-04-01T11:27:34.459Z"
   },
   {
    "duration": 21,
    "start_time": "2022-04-01T11:27:34.491Z"
   },
   {
    "duration": 13,
    "start_time": "2022-04-01T11:27:34.515Z"
   },
   {
    "duration": 46,
    "start_time": "2022-04-01T11:27:34.530Z"
   },
   {
    "duration": 12,
    "start_time": "2022-04-01T11:27:34.579Z"
   },
   {
    "duration": 11,
    "start_time": "2022-04-01T11:27:34.593Z"
   },
   {
    "duration": 10,
    "start_time": "2022-04-01T11:27:34.606Z"
   },
   {
    "duration": 49,
    "start_time": "2022-04-01T11:27:34.618Z"
   },
   {
    "duration": 20,
    "start_time": "2022-04-01T11:27:34.670Z"
   },
   {
    "duration": 14,
    "start_time": "2022-04-01T11:27:34.692Z"
   },
   {
    "duration": 70,
    "start_time": "2022-04-01T11:27:34.708Z"
   },
   {
    "duration": 28,
    "start_time": "2022-04-01T11:27:34.780Z"
   },
   {
    "duration": 22,
    "start_time": "2022-04-01T11:27:34.810Z"
   },
   {
    "duration": 60,
    "start_time": "2022-04-01T11:27:34.834Z"
   },
   {
    "duration": 48,
    "start_time": "2022-04-01T11:27:34.896Z"
   },
   {
    "duration": 39,
    "start_time": "2022-04-01T11:27:34.946Z"
   },
   {
    "duration": 14,
    "start_time": "2022-04-01T11:27:34.987Z"
   },
   {
    "duration": 22,
    "start_time": "2022-04-01T11:27:35.004Z"
   },
   {
    "duration": 83,
    "start_time": "2022-04-01T11:27:35.028Z"
   },
   {
    "duration": 7,
    "start_time": "2022-04-01T11:27:35.113Z"
   },
   {
    "duration": 275,
    "start_time": "2022-04-01T11:27:35.122Z"
   },
   {
    "duration": 19,
    "start_time": "2022-04-01T11:27:35.399Z"
   },
   {
    "duration": 20,
    "start_time": "2022-04-01T11:27:35.420Z"
   },
   {
    "duration": 23,
    "start_time": "2022-04-01T11:27:35.473Z"
   },
   {
    "duration": 23,
    "start_time": "2022-04-01T11:27:35.498Z"
   },
   {
    "duration": 94,
    "start_time": "2022-04-01T11:30:54.583Z"
   },
   {
    "duration": 115,
    "start_time": "2022-04-01T11:39:53.986Z"
   },
   {
    "duration": 577,
    "start_time": "2022-04-01T11:40:37.182Z"
   },
   {
    "duration": 32,
    "start_time": "2022-04-01T11:40:37.761Z"
   },
   {
    "duration": 21,
    "start_time": "2022-04-01T11:40:37.795Z"
   },
   {
    "duration": 13,
    "start_time": "2022-04-01T11:40:37.819Z"
   },
   {
    "duration": 40,
    "start_time": "2022-04-01T11:40:37.835Z"
   },
   {
    "duration": 10,
    "start_time": "2022-04-01T11:40:37.877Z"
   },
   {
    "duration": 7,
    "start_time": "2022-04-01T11:40:37.889Z"
   },
   {
    "duration": 8,
    "start_time": "2022-04-01T11:40:37.898Z"
   },
   {
    "duration": 14,
    "start_time": "2022-04-01T11:40:37.908Z"
   },
   {
    "duration": 66,
    "start_time": "2022-04-01T11:40:37.927Z"
   },
   {
    "duration": 13,
    "start_time": "2022-04-01T11:40:37.996Z"
   },
   {
    "duration": 64,
    "start_time": "2022-04-01T11:40:38.011Z"
   },
   {
    "duration": 28,
    "start_time": "2022-04-01T11:40:38.077Z"
   },
   {
    "duration": 25,
    "start_time": "2022-04-01T11:40:38.107Z"
   },
   {
    "duration": 67,
    "start_time": "2022-04-01T11:40:38.134Z"
   },
   {
    "duration": 72,
    "start_time": "2022-04-01T11:40:38.203Z"
   },
   {
    "duration": 14,
    "start_time": "2022-04-01T11:40:38.277Z"
   },
   {
    "duration": 15,
    "start_time": "2022-04-01T11:40:38.293Z"
   },
   {
    "duration": 64,
    "start_time": "2022-04-01T11:40:38.311Z"
   },
   {
    "duration": 48,
    "start_time": "2022-04-01T11:40:38.377Z"
   },
   {
    "duration": 6,
    "start_time": "2022-04-01T11:40:38.427Z"
   },
   {
    "duration": 276,
    "start_time": "2022-04-01T11:40:38.435Z"
   },
   {
    "duration": 19,
    "start_time": "2022-04-01T11:40:38.713Z"
   },
   {
    "duration": 47,
    "start_time": "2022-04-01T11:40:38.734Z"
   },
   {
    "duration": 22,
    "start_time": "2022-04-01T11:40:38.783Z"
   },
   {
    "duration": 23,
    "start_time": "2022-04-01T11:40:38.807Z"
   },
   {
    "duration": 24,
    "start_time": "2022-04-01T11:42:00.621Z"
   },
   {
    "duration": 23,
    "start_time": "2022-04-01T11:42:14.606Z"
   },
   {
    "duration": 36,
    "start_time": "2022-04-01T11:42:29.117Z"
   },
   {
    "duration": 104,
    "start_time": "2022-04-01T11:47:40.167Z"
   },
   {
    "duration": 597,
    "start_time": "2022-04-01T12:17:46.654Z"
   },
   {
    "duration": 30,
    "start_time": "2022-04-01T12:17:47.254Z"
   },
   {
    "duration": 33,
    "start_time": "2022-04-01T12:17:47.286Z"
   },
   {
    "duration": 29,
    "start_time": "2022-04-01T12:17:47.322Z"
   },
   {
    "duration": 26,
    "start_time": "2022-04-01T12:17:47.353Z"
   },
   {
    "duration": 22,
    "start_time": "2022-04-01T12:17:47.381Z"
   },
   {
    "duration": 23,
    "start_time": "2022-04-01T12:17:47.405Z"
   },
   {
    "duration": 51,
    "start_time": "2022-04-01T12:17:47.430Z"
   },
   {
    "duration": 43,
    "start_time": "2022-04-01T12:17:47.483Z"
   },
   {
    "duration": 21,
    "start_time": "2022-04-01T12:17:47.529Z"
   },
   {
    "duration": 27,
    "start_time": "2022-04-01T12:17:47.552Z"
   },
   {
    "duration": 45,
    "start_time": "2022-04-01T12:17:47.581Z"
   },
   {
    "duration": 47,
    "start_time": "2022-04-01T12:17:47.628Z"
   },
   {
    "duration": 23,
    "start_time": "2022-04-01T12:17:47.677Z"
   },
   {
    "duration": 37,
    "start_time": "2022-04-01T12:17:47.702Z"
   },
   {
    "duration": 73,
    "start_time": "2022-04-01T12:17:47.742Z"
   },
   {
    "duration": 15,
    "start_time": "2022-04-01T12:17:47.817Z"
   },
   {
    "duration": 45,
    "start_time": "2022-04-01T12:17:47.834Z"
   },
   {
    "duration": 47,
    "start_time": "2022-04-01T12:17:47.881Z"
   },
   {
    "duration": 49,
    "start_time": "2022-04-01T12:17:47.930Z"
   },
   {
    "duration": 25,
    "start_time": "2022-04-01T12:17:47.981Z"
   },
   {
    "duration": 266,
    "start_time": "2022-04-01T12:17:48.009Z"
   },
   {
    "duration": 19,
    "start_time": "2022-04-01T12:17:48.277Z"
   },
   {
    "duration": 21,
    "start_time": "2022-04-01T12:17:48.299Z"
   },
   {
    "duration": 56,
    "start_time": "2022-04-01T12:17:48.322Z"
   },
   {
    "duration": 23,
    "start_time": "2022-04-01T12:17:48.381Z"
   },
   {
    "duration": 461,
    "start_time": "2022-04-12T08:36:21.051Z"
   },
   {
    "duration": 28,
    "start_time": "2022-04-12T08:36:21.514Z"
   },
   {
    "duration": 16,
    "start_time": "2022-04-12T08:36:21.545Z"
   },
   {
    "duration": 12,
    "start_time": "2022-04-12T08:36:21.562Z"
   },
   {
    "duration": 4,
    "start_time": "2022-04-12T08:36:21.576Z"
   },
   {
    "duration": 5,
    "start_time": "2022-04-12T08:36:21.582Z"
   },
   {
    "duration": 7,
    "start_time": "2022-04-12T08:36:21.625Z"
   },
   {
    "duration": 7,
    "start_time": "2022-04-12T08:36:21.634Z"
   },
   {
    "duration": 15,
    "start_time": "2022-04-12T08:36:21.670Z"
   },
   {
    "duration": 62,
    "start_time": "2022-04-12T08:36:21.686Z"
   },
   {
    "duration": 20,
    "start_time": "2022-04-12T08:36:21.750Z"
   },
   {
    "duration": 17,
    "start_time": "2022-04-12T08:36:21.772Z"
   },
   {
    "duration": 19,
    "start_time": "2022-04-12T08:36:21.790Z"
   },
   {
    "duration": 50,
    "start_time": "2022-04-12T08:36:21.811Z"
   },
   {
    "duration": 10,
    "start_time": "2022-04-12T08:36:21.863Z"
   },
   {
    "duration": 11,
    "start_time": "2022-04-12T08:36:21.875Z"
   },
   {
    "duration": 14,
    "start_time": "2022-04-12T08:36:21.888Z"
   },
   {
    "duration": 34,
    "start_time": "2022-04-12T08:36:21.904Z"
   },
   {
    "duration": 5,
    "start_time": "2022-04-12T08:36:21.939Z"
   },
   {
    "duration": 146,
    "start_time": "2022-04-12T08:36:21.946Z"
   },
   {
    "duration": 13,
    "start_time": "2022-04-12T08:36:22.094Z"
   },
   {
    "duration": 23,
    "start_time": "2022-04-12T08:36:22.108Z"
   },
   {
    "duration": 16,
    "start_time": "2022-04-12T08:36:22.133Z"
   },
   {
    "duration": 16,
    "start_time": "2022-04-12T08:36:22.151Z"
   },
   {
    "duration": 424,
    "start_time": "2022-04-12T08:36:35.175Z"
   },
   {
    "duration": 17,
    "start_time": "2022-04-12T08:36:35.602Z"
   },
   {
    "duration": 24,
    "start_time": "2022-04-12T08:36:35.621Z"
   },
   {
    "duration": 24,
    "start_time": "2022-04-12T08:36:35.647Z"
   },
   {
    "duration": 17,
    "start_time": "2022-04-12T08:36:35.674Z"
   },
   {
    "duration": 15,
    "start_time": "2022-04-12T08:36:35.693Z"
   },
   {
    "duration": 10,
    "start_time": "2022-04-12T08:36:35.709Z"
   },
   {
    "duration": 17,
    "start_time": "2022-04-12T08:36:35.720Z"
   },
   {
    "duration": 13,
    "start_time": "2022-04-12T08:36:35.739Z"
   },
   {
    "duration": 12,
    "start_time": "2022-04-12T08:36:35.754Z"
   },
   {
    "duration": 12,
    "start_time": "2022-04-12T08:36:35.767Z"
   },
   {
    "duration": 51,
    "start_time": "2022-04-12T08:36:35.780Z"
   },
   {
    "duration": 22,
    "start_time": "2022-04-12T08:36:35.834Z"
   },
   {
    "duration": 16,
    "start_time": "2022-04-12T08:36:35.858Z"
   },
   {
    "duration": 18,
    "start_time": "2022-04-12T08:36:35.876Z"
   },
   {
    "duration": 59,
    "start_time": "2022-04-12T08:36:35.896Z"
   },
   {
    "duration": 9,
    "start_time": "2022-04-12T08:36:35.957Z"
   },
   {
    "duration": 11,
    "start_time": "2022-04-12T08:36:35.967Z"
   },
   {
    "duration": 14,
    "start_time": "2022-04-12T08:36:35.979Z"
   },
   {
    "duration": 55,
    "start_time": "2022-04-12T08:36:35.995Z"
   },
   {
    "duration": 4,
    "start_time": "2022-04-12T08:36:36.052Z"
   },
   {
    "duration": 165,
    "start_time": "2022-04-12T08:36:36.058Z"
   },
   {
    "duration": 19,
    "start_time": "2022-04-12T08:36:36.225Z"
   },
   {
    "duration": 12,
    "start_time": "2022-04-12T08:36:36.245Z"
   },
   {
    "duration": 13,
    "start_time": "2022-04-12T08:36:36.259Z"
   },
   {
    "duration": 50,
    "start_time": "2022-04-12T08:36:36.274Z"
   },
   {
    "duration": 447,
    "start_time": "2022-04-12T08:43:31.258Z"
   },
   {
    "duration": 23,
    "start_time": "2022-04-12T08:43:31.707Z"
   },
   {
    "duration": 18,
    "start_time": "2022-04-12T08:43:31.732Z"
   },
   {
    "duration": 9,
    "start_time": "2022-04-12T08:43:31.752Z"
   },
   {
    "duration": 4,
    "start_time": "2022-04-12T08:43:31.763Z"
   },
   {
    "duration": 7,
    "start_time": "2022-04-12T08:43:31.768Z"
   },
   {
    "duration": 5,
    "start_time": "2022-04-12T08:43:31.776Z"
   },
   {
    "duration": 6,
    "start_time": "2022-04-12T08:43:31.782Z"
   },
   {
    "duration": 39,
    "start_time": "2022-04-12T08:43:31.789Z"
   },
   {
    "duration": 14,
    "start_time": "2022-04-12T08:43:31.834Z"
   },
   {
    "duration": 9,
    "start_time": "2022-04-12T08:43:31.850Z"
   },
   {
    "duration": 26,
    "start_time": "2022-04-12T08:43:31.861Z"
   },
   {
    "duration": 54,
    "start_time": "2022-04-12T08:43:31.888Z"
   },
   {
    "duration": 16,
    "start_time": "2022-04-12T08:43:31.944Z"
   },
   {
    "duration": 20,
    "start_time": "2022-04-12T08:43:31.961Z"
   },
   {
    "duration": 65,
    "start_time": "2022-04-12T08:43:31.982Z"
   },
   {
    "duration": 10,
    "start_time": "2022-04-12T08:43:32.049Z"
   },
   {
    "duration": 10,
    "start_time": "2022-04-12T08:43:32.061Z"
   },
   {
    "duration": 21,
    "start_time": "2022-04-12T08:43:32.072Z"
   },
   {
    "duration": 56,
    "start_time": "2022-04-12T08:43:32.095Z"
   },
   {
    "duration": 4,
    "start_time": "2022-04-12T08:43:32.153Z"
   },
   {
    "duration": 158,
    "start_time": "2022-04-12T08:43:32.159Z"
   },
   {
    "duration": 17,
    "start_time": "2022-04-12T08:43:32.319Z"
   },
   {
    "duration": 15,
    "start_time": "2022-04-12T08:43:32.343Z"
   },
   {
    "duration": 14,
    "start_time": "2022-04-12T08:43:32.359Z"
   },
   {
    "duration": 49,
    "start_time": "2022-04-12T08:43:32.375Z"
   },
   {
    "duration": 589,
    "start_time": "2022-04-18T11:14:05.543Z"
   },
   {
    "duration": 31,
    "start_time": "2022-04-18T11:14:06.135Z"
   },
   {
    "duration": 22,
    "start_time": "2022-04-18T11:14:06.168Z"
   },
   {
    "duration": 14,
    "start_time": "2022-04-18T11:14:06.193Z"
   },
   {
    "duration": 8,
    "start_time": "2022-04-18T11:14:06.210Z"
   },
   {
    "duration": 6,
    "start_time": "2022-04-18T11:14:06.253Z"
   },
   {
    "duration": 9,
    "start_time": "2022-04-18T11:14:06.261Z"
   },
   {
    "duration": 21,
    "start_time": "2022-04-18T11:14:06.273Z"
   },
   {
    "duration": 17,
    "start_time": "2022-04-18T11:14:06.296Z"
   },
   {
    "duration": 38,
    "start_time": "2022-04-18T11:14:06.315Z"
   },
   {
    "duration": 25,
    "start_time": "2022-04-18T11:14:06.355Z"
   },
   {
    "duration": 42,
    "start_time": "2022-04-18T11:14:06.383Z"
   },
   {
    "duration": 40,
    "start_time": "2022-04-18T11:14:06.427Z"
   },
   {
    "duration": 23,
    "start_time": "2022-04-18T11:14:06.471Z"
   },
   {
    "duration": 56,
    "start_time": "2022-04-18T11:14:06.496Z"
   },
   {
    "duration": 48,
    "start_time": "2022-04-18T11:14:06.554Z"
   },
   {
    "duration": 13,
    "start_time": "2022-04-18T11:14:06.605Z"
   },
   {
    "duration": 45,
    "start_time": "2022-04-18T11:14:06.620Z"
   },
   {
    "duration": 23,
    "start_time": "2022-04-18T11:14:06.667Z"
   },
   {
    "duration": 59,
    "start_time": "2022-04-18T11:14:06.693Z"
   },
   {
    "duration": 7,
    "start_time": "2022-04-18T11:14:06.754Z"
   },
   {
    "duration": 264,
    "start_time": "2022-04-18T11:14:06.763Z"
   },
   {
    "duration": 28,
    "start_time": "2022-04-18T11:14:07.029Z"
   },
   {
    "duration": 19,
    "start_time": "2022-04-18T11:14:07.059Z"
   },
   {
    "duration": 22,
    "start_time": "2022-04-18T11:14:07.080Z"
   },
   {
    "duration": 57,
    "start_time": "2022-04-18T11:14:07.104Z"
   },
   {
    "duration": 537,
    "start_time": "2022-04-18T11:15:02.981Z"
   },
   {
    "duration": 33,
    "start_time": "2022-04-18T11:15:03.522Z"
   },
   {
    "duration": 21,
    "start_time": "2022-04-18T11:15:03.558Z"
   },
   {
    "duration": 14,
    "start_time": "2022-04-18T11:15:03.582Z"
   },
   {
    "duration": 7,
    "start_time": "2022-04-18T11:15:03.599Z"
   },
   {
    "duration": 44,
    "start_time": "2022-04-18T11:15:03.608Z"
   },
   {
    "duration": 9,
    "start_time": "2022-04-18T11:15:03.655Z"
   },
   {
    "duration": 10,
    "start_time": "2022-04-18T11:15:03.666Z"
   },
   {
    "duration": 18,
    "start_time": "2022-04-18T11:15:03.678Z"
   },
   {
    "duration": 51,
    "start_time": "2022-04-18T11:15:03.701Z"
   },
   {
    "duration": 13,
    "start_time": "2022-04-18T11:15:03.754Z"
   },
   {
    "duration": 37,
    "start_time": "2022-04-18T11:15:03.769Z"
   },
   {
    "duration": 57,
    "start_time": "2022-04-18T11:15:03.808Z"
   },
   {
    "duration": 23,
    "start_time": "2022-04-18T11:15:03.867Z"
   },
   {
    "duration": 29,
    "start_time": "2022-04-18T11:15:03.893Z"
   },
   {
    "duration": 47,
    "start_time": "2022-04-18T11:15:03.951Z"
   },
   {
    "duration": 14,
    "start_time": "2022-04-18T11:15:04.000Z"
   },
   {
    "duration": 39,
    "start_time": "2022-04-18T11:15:04.016Z"
   },
   {
    "duration": 24,
    "start_time": "2022-04-18T11:15:04.058Z"
   },
   {
    "duration": 68,
    "start_time": "2022-04-18T11:15:04.084Z"
   },
   {
    "duration": 7,
    "start_time": "2022-04-18T11:15:04.154Z"
   },
   {
    "duration": 259,
    "start_time": "2022-04-18T11:15:04.163Z"
   },
   {
    "duration": 32,
    "start_time": "2022-04-18T11:15:04.424Z"
   },
   {
    "duration": 18,
    "start_time": "2022-04-18T11:15:04.458Z"
   },
   {
    "duration": 22,
    "start_time": "2022-04-18T11:15:04.478Z"
   },
   {
    "duration": 51,
    "start_time": "2022-04-18T11:15:04.502Z"
   },
   {
    "duration": 732,
    "start_time": "2023-06-22T12:52:08.213Z"
   },
   {
    "duration": 18,
    "start_time": "2023-06-22T12:52:08.947Z"
   },
   {
    "duration": 68,
    "start_time": "2023-06-22T12:52:08.966Z"
   },
   {
    "duration": 36,
    "start_time": "2023-06-22T12:52:09.036Z"
   },
   {
    "duration": 29,
    "start_time": "2023-06-22T12:52:09.074Z"
   },
   {
    "duration": 22,
    "start_time": "2023-06-22T12:52:09.105Z"
   },
   {
    "duration": 14,
    "start_time": "2023-06-22T12:52:09.129Z"
   },
   {
    "duration": 53,
    "start_time": "2023-06-22T12:52:09.144Z"
   },
   {
    "duration": 72,
    "start_time": "2023-06-22T12:52:09.198Z"
   },
   {
    "duration": 16,
    "start_time": "2023-06-22T12:52:09.272Z"
   },
   {
    "duration": 35,
    "start_time": "2023-06-22T12:52:09.289Z"
   },
   {
    "duration": 32,
    "start_time": "2023-06-22T12:52:09.326Z"
   },
   {
    "duration": 19,
    "start_time": "2023-06-22T12:52:09.360Z"
   },
   {
    "duration": 16,
    "start_time": "2023-06-22T12:52:09.381Z"
   },
   {
    "duration": 17,
    "start_time": "2023-06-22T12:52:09.399Z"
   },
   {
    "duration": 57,
    "start_time": "2023-06-22T12:52:09.417Z"
   },
   {
    "duration": 9,
    "start_time": "2023-06-22T12:52:09.476Z"
   },
   {
    "duration": 14,
    "start_time": "2023-06-22T12:52:09.486Z"
   },
   {
    "duration": 39,
    "start_time": "2023-06-22T12:52:09.502Z"
   },
   {
    "duration": 27,
    "start_time": "2023-06-22T12:52:09.543Z"
   },
   {
    "duration": 12,
    "start_time": "2023-06-22T12:52:09.572Z"
   },
   {
    "duration": 149,
    "start_time": "2023-06-22T12:52:09.586Z"
   },
   {
    "duration": 13,
    "start_time": "2023-06-22T12:52:09.736Z"
   },
   {
    "duration": 14,
    "start_time": "2023-06-22T12:52:09.750Z"
   },
   {
    "duration": 36,
    "start_time": "2023-06-22T12:52:09.766Z"
   },
   {
    "duration": 34,
    "start_time": "2023-06-22T12:52:09.804Z"
   },
   {
    "duration": 15,
    "start_time": "2023-06-22T12:52:18.114Z"
   }
  ],
  "kernelspec": {
   "display_name": "Python 3 (ipykernel)",
   "language": "python",
   "name": "python3"
  },
  "language_info": {
   "codemirror_mode": {
    "name": "ipython",
    "version": 3
   },
   "file_extension": ".py",
   "mimetype": "text/x-python",
   "name": "python",
   "nbconvert_exporter": "python",
   "pygments_lexer": "ipython3",
   "version": "3.9.5"
  },
  "toc": {
   "base_numbering": 1,
   "nav_menu": {},
   "number_sections": true,
   "sideBar": true,
   "skip_h1_title": true,
   "title_cell": "Table of Contents",
   "title_sidebar": "Contents",
   "toc_cell": false,
   "toc_position": {
    "height": "calc(100% - 180px)",
    "left": "10px",
    "top": "150px",
    "width": "407.188px"
   },
   "toc_section_display": true,
   "toc_window_display": false
  }
 },
 "nbformat": 4,
 "nbformat_minor": 5
}
