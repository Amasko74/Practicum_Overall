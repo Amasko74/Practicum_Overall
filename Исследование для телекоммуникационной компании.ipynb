{
 "cells": [
  {
   "cell_type": "code",
   "execution_count": 1,
   "id": "b7414dc3",
   "metadata": {
    "tags": [
     "aa81075c-062f-4de0-b5fe-14c73dc7468e"
    ]
   },
   "outputs": [],
   "source": [
    "import pandas as pd\n",
    "import numpy as np\n",
    "\n",
    "from sqlalchemy import create_engine"
   ]
  },
  {
   "cell_type": "code",
   "execution_count": 2,
   "id": "544c38f9",
   "metadata": {},
   "outputs": [],
   "source": [
    "path_to_db = '/datasets/telecomm_csi.db'\n",
    "engine = create_engine(f'sqlite:///{path_to_db}', echo = False)"
   ]
  },
  {
   "cell_type": "code",
   "execution_count": 3,
   "id": "989d71f0",
   "metadata": {},
   "outputs": [],
   "source": [
    "query = \"\"\"\n",
    "SELECT u.user_id,\n",
    "       u.lt_day,\n",
    "       CASE \n",
    "           WHEN u.lt_day <= 365 THEN 'Новый'\n",
    "           ELSE 'Старый'\n",
    "           END AS is_new,\n",
    "       u.age,\n",
    "       CASE \n",
    "           WHEN u.gender_segment == 1 THEN 'Женщина'\n",
    "           WHEN u.gender_segment == 0 THEN 'Мужчина'\n",
    "           ELSE 'z'\n",
    "           END AS gender_segment,\n",
    "       u.os_name,\n",
    "       u.cpe_type_name,\n",
    "       location.country,\n",
    "       location.city,\n",
    "       SUBSTR(age_segment.title, 4) AS age_segment,\n",
    "       SUBSTR(traffic_segment.title, 4) AS traffic_segment,\n",
    "       SUBSTR(lifetime_segment.title, 4) AS lifetime_segment,\n",
    "       u.nps_score,\n",
    "       CASE \n",
    "           WHEN u.nps_score >= 9 THEN 'Cторонник'\n",
    "           WHEN u.nps_score >= 7 THEN 'Нейтрал'\n",
    "           ELSE 'Критик'\n",
    "           END AS nps_group\n",
    "FROM user AS u\n",
    "JOIN location ON u.location_id = location.location_id\n",
    "JOIN age_segment ON u.age_gr_id = age_segment.age_gr_id\n",
    "JOIN traffic_segment ON u.tr_gr_id = traffic_segment.tr_gr_id\n",
    "JOIN lifetime_segment ON u.lt_gr_id = lifetime_segment.lt_gr_id;\n",
    "\"\"\""
   ]
  },
  {
   "cell_type": "code",
   "execution_count": 4,
   "id": "51179da1",
   "metadata": {},
   "outputs": [
    {
     "data": {
      "text/html": [
       "<div>\n",
       "<style scoped>\n",
       "    .dataframe tbody tr th:only-of-type {\n",
       "        vertical-align: middle;\n",
       "    }\n",
       "\n",
       "    .dataframe tbody tr th {\n",
       "        vertical-align: top;\n",
       "    }\n",
       "\n",
       "    .dataframe thead th {\n",
       "        text-align: right;\n",
       "    }\n",
       "</style>\n",
       "<table border=\"1\" class=\"dataframe\">\n",
       "  <thead>\n",
       "    <tr style=\"text-align: right;\">\n",
       "      <th></th>\n",
       "      <th>user_id</th>\n",
       "      <th>lt_day</th>\n",
       "      <th>is_new</th>\n",
       "      <th>age</th>\n",
       "      <th>gender_segment</th>\n",
       "      <th>os_name</th>\n",
       "      <th>cpe_type_name</th>\n",
       "      <th>country</th>\n",
       "      <th>city</th>\n",
       "      <th>age_segment</th>\n",
       "      <th>traffic_segment</th>\n",
       "      <th>lifetime_segment</th>\n",
       "      <th>nps_score</th>\n",
       "      <th>nps_group</th>\n",
       "    </tr>\n",
       "  </thead>\n",
       "  <tbody>\n",
       "    <tr>\n",
       "      <th>16998</th>\n",
       "      <td>AVHDET</td>\n",
       "      <td>2022</td>\n",
       "      <td>Старый</td>\n",
       "      <td>45.0</td>\n",
       "      <td>Мужчина</td>\n",
       "      <td>ANDROID</td>\n",
       "      <td>SMARTPHONE</td>\n",
       "      <td>Россия</td>\n",
       "      <td>СанктПетербург</td>\n",
       "      <td>45-54</td>\n",
       "      <td>25-30</td>\n",
       "      <td>36+</td>\n",
       "      <td>10</td>\n",
       "      <td>Cторонник</td>\n",
       "    </tr>\n",
       "    <tr>\n",
       "      <th>39387</th>\n",
       "      <td>C18TEP</td>\n",
       "      <td>1089</td>\n",
       "      <td>Старый</td>\n",
       "      <td>46.0</td>\n",
       "      <td>Женщина</td>\n",
       "      <td>PROPRIETARY</td>\n",
       "      <td>PHONE</td>\n",
       "      <td>Россия</td>\n",
       "      <td>Архангельск</td>\n",
       "      <td>45-54</td>\n",
       "      <td>25-30</td>\n",
       "      <td>36+</td>\n",
       "      <td>10</td>\n",
       "      <td>Cторонник</td>\n",
       "    </tr>\n",
       "    <tr>\n",
       "      <th>74258</th>\n",
       "      <td>DTRA0Y</td>\n",
       "      <td>485</td>\n",
       "      <td>Старый</td>\n",
       "      <td>40.0</td>\n",
       "      <td>Мужчина</td>\n",
       "      <td>ANDROID</td>\n",
       "      <td>SMARTPHONE</td>\n",
       "      <td>Россия</td>\n",
       "      <td>Ярославль</td>\n",
       "      <td>35-44</td>\n",
       "      <td>1-5</td>\n",
       "      <td>13-24</td>\n",
       "      <td>10</td>\n",
       "      <td>Cторонник</td>\n",
       "    </tr>\n",
       "    <tr>\n",
       "      <th>378885</th>\n",
       "      <td>TLQT6Y</td>\n",
       "      <td>233</td>\n",
       "      <td>Новый</td>\n",
       "      <td>25.0</td>\n",
       "      <td>Женщина</td>\n",
       "      <td>ANDROID</td>\n",
       "      <td>SMARTPHONE</td>\n",
       "      <td>Россия</td>\n",
       "      <td>Москва</td>\n",
       "      <td>25-34</td>\n",
       "      <td>1-5</td>\n",
       "      <td>7-12</td>\n",
       "      <td>1</td>\n",
       "      <td>Критик</td>\n",
       "    </tr>\n",
       "    <tr>\n",
       "      <th>289895</th>\n",
       "      <td>OZRRLO</td>\n",
       "      <td>4124</td>\n",
       "      <td>Старый</td>\n",
       "      <td>47.0</td>\n",
       "      <td>Мужчина</td>\n",
       "      <td>ANDROID</td>\n",
       "      <td>SMARTPHONE</td>\n",
       "      <td>Россия</td>\n",
       "      <td>Ульяновск</td>\n",
       "      <td>45-54</td>\n",
       "      <td>5-10</td>\n",
       "      <td>36+</td>\n",
       "      <td>9</td>\n",
       "      <td>Cторонник</td>\n",
       "    </tr>\n",
       "    <tr>\n",
       "      <th>443148</th>\n",
       "      <td>WXL6ZG</td>\n",
       "      <td>1225</td>\n",
       "      <td>Старый</td>\n",
       "      <td>26.0</td>\n",
       "      <td>Мужчина</td>\n",
       "      <td>IOS</td>\n",
       "      <td>SMARTPHONE</td>\n",
       "      <td>Россия</td>\n",
       "      <td>Пенза</td>\n",
       "      <td>25-34</td>\n",
       "      <td>20-25</td>\n",
       "      <td>36+</td>\n",
       "      <td>7</td>\n",
       "      <td>Нейтрал</td>\n",
       "    </tr>\n",
       "    <tr>\n",
       "      <th>305443</th>\n",
       "      <td>PSWFEV</td>\n",
       "      <td>263</td>\n",
       "      <td>Новый</td>\n",
       "      <td>55.0</td>\n",
       "      <td>Мужчина</td>\n",
       "      <td>ANDROID</td>\n",
       "      <td>SMARTPHONE</td>\n",
       "      <td>Россия</td>\n",
       "      <td>Курск</td>\n",
       "      <td>55-64</td>\n",
       "      <td>1-5</td>\n",
       "      <td>7-12</td>\n",
       "      <td>10</td>\n",
       "      <td>Cторонник</td>\n",
       "    </tr>\n",
       "    <tr>\n",
       "      <th>374655</th>\n",
       "      <td>TDQJ9G</td>\n",
       "      <td>1548</td>\n",
       "      <td>Старый</td>\n",
       "      <td>50.0</td>\n",
       "      <td>Женщина</td>\n",
       "      <td>ANDROID</td>\n",
       "      <td>SMARTPHONE</td>\n",
       "      <td>Россия</td>\n",
       "      <td>Москва</td>\n",
       "      <td>45-54</td>\n",
       "      <td>1-5</td>\n",
       "      <td>36+</td>\n",
       "      <td>1</td>\n",
       "      <td>Критик</td>\n",
       "    </tr>\n",
       "    <tr>\n",
       "      <th>410763</th>\n",
       "      <td>V8X7ZF</td>\n",
       "      <td>5069</td>\n",
       "      <td>Старый</td>\n",
       "      <td>51.0</td>\n",
       "      <td>Женщина</td>\n",
       "      <td>ANDROID</td>\n",
       "      <td>SMARTPHONE</td>\n",
       "      <td>Россия</td>\n",
       "      <td>Казань</td>\n",
       "      <td>45-54</td>\n",
       "      <td>0.1-1</td>\n",
       "      <td>36+</td>\n",
       "      <td>10</td>\n",
       "      <td>Cторонник</td>\n",
       "    </tr>\n",
       "    <tr>\n",
       "      <th>182438</th>\n",
       "      <td>JFE0VI</td>\n",
       "      <td>342</td>\n",
       "      <td>Новый</td>\n",
       "      <td>22.0</td>\n",
       "      <td>Мужчина</td>\n",
       "      <td>ANDROID</td>\n",
       "      <td>SMARTPHONE</td>\n",
       "      <td>Россия</td>\n",
       "      <td>Калининград</td>\n",
       "      <td>16-24</td>\n",
       "      <td>100+</td>\n",
       "      <td>7-12</td>\n",
       "      <td>10</td>\n",
       "      <td>Cторонник</td>\n",
       "    </tr>\n",
       "  </tbody>\n",
       "</table>\n",
       "</div>"
      ],
      "text/plain": [
       "       user_id  lt_day  is_new   age gender_segment      os_name  \\\n",
       "16998   AVHDET    2022  Старый  45.0        Мужчина      ANDROID   \n",
       "39387   C18TEP    1089  Старый  46.0        Женщина  PROPRIETARY   \n",
       "74258   DTRA0Y     485  Старый  40.0        Мужчина      ANDROID   \n",
       "378885  TLQT6Y     233   Новый  25.0        Женщина      ANDROID   \n",
       "289895  OZRRLO    4124  Старый  47.0        Мужчина      ANDROID   \n",
       "443148  WXL6ZG    1225  Старый  26.0        Мужчина          IOS   \n",
       "305443  PSWFEV     263   Новый  55.0        Мужчина      ANDROID   \n",
       "374655  TDQJ9G    1548  Старый  50.0        Женщина      ANDROID   \n",
       "410763  V8X7ZF    5069  Старый  51.0        Женщина      ANDROID   \n",
       "182438  JFE0VI     342   Новый  22.0        Мужчина      ANDROID   \n",
       "\n",
       "       cpe_type_name country            city age_segment traffic_segment  \\\n",
       "16998     SMARTPHONE  Россия  СанктПетербург       45-54           25-30   \n",
       "39387          PHONE  Россия     Архангельск       45-54           25-30   \n",
       "74258     SMARTPHONE  Россия       Ярославль       35-44             1-5   \n",
       "378885    SMARTPHONE  Россия          Москва       25-34             1-5   \n",
       "289895    SMARTPHONE  Россия       Ульяновск       45-54            5-10   \n",
       "443148    SMARTPHONE  Россия           Пенза       25-34           20-25   \n",
       "305443    SMARTPHONE  Россия           Курск       55-64             1-5   \n",
       "374655    SMARTPHONE  Россия          Москва       45-54             1-5   \n",
       "410763    SMARTPHONE  Россия          Казань       45-54           0.1-1   \n",
       "182438    SMARTPHONE  Россия     Калининград       16-24            100+   \n",
       "\n",
       "       lifetime_segment  nps_score  nps_group  \n",
       "16998               36+         10  Cторонник  \n",
       "39387               36+         10  Cторонник  \n",
       "74258             13-24         10  Cторонник  \n",
       "378885             7-12          1     Критик  \n",
       "289895              36+          9  Cторонник  \n",
       "443148              36+          7    Нейтрал  \n",
       "305443             7-12         10  Cторонник  \n",
       "374655              36+          1     Критик  \n",
       "410763              36+         10  Cторонник  \n",
       "182438             7-12         10  Cторонник  "
      ]
     },
     "execution_count": 4,
     "metadata": {},
     "output_type": "execute_result"
    }
   ],
   "source": [
    "df = pd.read_sql(query, engine)\n",
    "df.sample(10)"
   ]
  },
  {
   "cell_type": "code",
   "execution_count": 5,
   "id": "fdfd4843",
   "metadata": {},
   "outputs": [
    {
     "name": "stdout",
     "output_type": "stream",
     "text": [
      "<class 'pandas.core.frame.DataFrame'>\n",
      "RangeIndex: 502493 entries, 0 to 502492\n",
      "Data columns (total 14 columns):\n",
      " #   Column            Non-Null Count   Dtype  \n",
      "---  ------            --------------   -----  \n",
      " 0   user_id           502493 non-null  object \n",
      " 1   lt_day            502493 non-null  int64  \n",
      " 2   is_new            502493 non-null  object \n",
      " 3   age               501939 non-null  float64\n",
      " 4   gender_segment    502493 non-null  object \n",
      " 5   os_name           502493 non-null  object \n",
      " 6   cpe_type_name     502493 non-null  object \n",
      " 7   country           502493 non-null  object \n",
      " 8   city              502493 non-null  object \n",
      " 9   age_segment       502493 non-null  object \n",
      " 10  traffic_segment   502493 non-null  object \n",
      " 11  lifetime_segment  502493 non-null  object \n",
      " 12  nps_score         502493 non-null  int64  \n",
      " 13  nps_group         502493 non-null  object \n",
      "dtypes: float64(1), int64(2), object(11)\n",
      "memory usage: 53.7+ MB\n"
     ]
    }
   ],
   "source": [
    "df.info()"
   ]
  },
  {
   "cell_type": "code",
   "execution_count": 6,
   "id": "72154f9e",
   "metadata": {},
   "outputs": [],
   "source": [
    "df.to_csv('telecomm_csi_tableau.csv', index=False)"
   ]
  },
  {
   "cell_type": "markdown",
   "id": "ff62d7ea",
   "metadata": {},
   "source": [
    "### Укажите ссылку на дашборд на сайте Tableau Public:"
   ]
  },
  {
   "cell_type": "markdown",
   "id": "4db2eb8f",
   "metadata": {},
   "source": [
    "https://public.tableau.com/app/profile/nick5546/viz/Telecomm_project_mk3_MaskoN_/gender?publish=yes"
   ]
  },
  {
   "cell_type": "markdown",
   "id": "58994d53",
   "metadata": {},
   "source": [
    "### Укажите ссылку на pdf-файл с презентацией:"
   ]
  },
  {
   "cell_type": "markdown",
   "id": "46d26acd",
   "metadata": {},
   "source": [
    "https://disk.yandex.ru/i/bKdUeaO-_B95uA"
   ]
  }
 ],
 "metadata": {
  "ExecuteTimeLog": [
   {
    "duration": 752,
    "start_time": "2021-10-03T17:40:52.731Z"
   },
   {
    "duration": 20,
    "start_time": "2021-10-03T17:40:53.486Z"
   },
   {
    "duration": 4,
    "start_time": "2021-10-03T17:41:04.638Z"
   },
   {
    "duration": 461,
    "start_time": "2021-10-03T17:41:04.912Z"
   },
   {
    "duration": 284,
    "start_time": "2021-10-03T17:41:05.376Z"
   },
   {
    "duration": 574,
    "start_time": "2021-10-06T07:55:05.029Z"
   },
   {
    "duration": 6,
    "start_time": "2021-10-06T07:55:05.605Z"
   },
   {
    "duration": 3,
    "start_time": "2021-10-06T07:55:14.685Z"
   },
   {
    "duration": 406,
    "start_time": "2021-10-06T07:55:15.522Z"
   },
   {
    "duration": 67,
    "start_time": "2021-10-06T07:55:15.929Z"
   },
   {
    "duration": 840,
    "start_time": "2021-10-07T07:54:04.647Z"
   },
   {
    "duration": 10,
    "start_time": "2021-10-07T07:54:05.490Z"
   },
   {
    "duration": 4,
    "start_time": "2021-10-07T07:54:05.544Z"
   },
   {
    "duration": 391,
    "start_time": "2021-10-07T07:54:06.237Z"
   },
   {
    "duration": 293,
    "start_time": "2021-10-07T07:54:06.654Z"
   },
   {
    "duration": 501,
    "start_time": "2022-10-07T09:36:50.989Z"
   },
   {
    "duration": 8,
    "start_time": "2022-10-07T09:37:02.397Z"
   },
   {
    "duration": 3,
    "start_time": "2022-10-07T09:37:05.974Z"
   },
   {
    "duration": 5423,
    "start_time": "2022-10-07T09:37:09.663Z"
   },
   {
    "duration": 583,
    "start_time": "2022-10-07T09:37:37.065Z"
   },
   {
    "duration": 4248,
    "start_time": "2022-10-07T09:55:56.091Z"
   },
   {
    "duration": 494,
    "start_time": "2022-10-07T13:01:17.481Z"
   },
   {
    "duration": 9,
    "start_time": "2022-10-07T13:01:17.977Z"
   },
   {
    "duration": 20,
    "start_time": "2022-10-07T13:01:17.988Z"
   },
   {
    "duration": 5159,
    "start_time": "2022-10-07T13:01:18.009Z"
   },
   {
    "duration": 539,
    "start_time": "2022-10-07T13:01:23.171Z"
   },
   {
    "duration": 3512,
    "start_time": "2022-10-07T13:01:23.712Z"
   },
   {
    "duration": 500,
    "start_time": "2023-06-22T13:14:54.501Z"
   },
   {
    "duration": 9,
    "start_time": "2023-06-22T13:14:55.003Z"
   },
   {
    "duration": 18,
    "start_time": "2023-06-22T13:14:55.014Z"
   },
   {
    "duration": 5892,
    "start_time": "2023-06-22T13:14:55.033Z"
   },
   {
    "duration": 609,
    "start_time": "2023-06-22T13:15:00.927Z"
   },
   {
    "duration": 5111,
    "start_time": "2023-06-22T13:15:01.538Z"
   }
  ],
  "kernelspec": {
   "display_name": "Python 3 (ipykernel)",
   "language": "python",
   "name": "python3"
  },
  "language_info": {
   "codemirror_mode": {
    "name": "ipython",
    "version": 3
   },
   "file_extension": ".py",
   "mimetype": "text/x-python",
   "name": "python",
   "nbconvert_exporter": "python",
   "pygments_lexer": "ipython3",
   "version": "3.9.5"
  },
  "toc": {
   "base_numbering": 1,
   "nav_menu": {},
   "number_sections": true,
   "sideBar": true,
   "skip_h1_title": true,
   "title_cell": "Table of Contents",
   "title_sidebar": "Contents",
   "toc_cell": false,
   "toc_position": {},
   "toc_section_display": true,
   "toc_window_display": false
  }
 },
 "nbformat": 4,
 "nbformat_minor": 5
}
