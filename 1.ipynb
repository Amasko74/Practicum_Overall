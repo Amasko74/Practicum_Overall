{
 "cells": [
  {
   "cell_type": "markdown",
   "metadata": {},
   "source": [
    "<font color='blue' size=5><b>Комментарий ревьюера</b></font>\n",
    "\n",
    "<font color='blue'>Привет, Никита ! Меня зовут Павел Григорьев, и я буду проверять этот проект. Спасибо за проделанную работу! Предлагаю общаться на «ты».</font>\n",
    "\n",
    "<font color='blue'>Я буду использовать различные цвета, чтобы было удобнее воспринимать мои комментарии:</font>\n",
    "\n",
    "\n",
    "---\n",
    "\n",
    "\n",
    "<font color='blue'>синий текст - просто текст комментария</font>\n",
    "\n",
    "<font color='green'>✔️ и зеленый текст - все отлично</font>\n",
    "\n",
    "<font color='orange'>⚠️ и оранжевый текст - сделано все правильно, однако есть рекомендации, на что стоит обратить внимание</font>\n",
    "\n",
    "<font color='red'>❌ и красный текст - есть недочеты</font>\n",
    "\n",
    "\n",
    "---\n",
    "\n",
    "<font color='blue'>Пожалуйста, не удаляй мои комментарии в случае возврата работы, так будет проще разобраться, какие были недочеты, а также сразу увидеть исправленное. </font>\n",
    "\n",
    "Ответы на мои комментарии лучше тоже помечать.\n",
    "Например: <font color='purple'><b>Комментарий студента</b></font>\n",
    "\n",
    "<font color='blue'><b>Давай смотреть, что получилось!</b></font>"
   ]
  },
  {
   "cell_type": "markdown",
   "metadata": {},
   "source": [
    "<font color='blue' size=3><b>Комментарий ревьюера 2</b></font>\n",
    "\n",
    "<font color='blue'>Привет еще раз. Спасибо, за исправления. Оформление комментариев по работе сохраняется. Только обозначим, что это вторая итерация. "
   ]
  },
  {
   "cell_type": "markdown",
   "metadata": {
    "id": "E0vqbgi9ay0H"
   },
   "source": [
    "# Яндекс.Музыка"
   ]
  },
  {
   "cell_type": "markdown",
   "metadata": {
    "id": "VUC88oWjTJw2"
   },
   "source": [
    "Сравнение Москвы и Петербурга окружено мифами. Например:\n",
    " * Москва — мегаполис, подчинённый жёсткому ритму рабочей недели;\n",
    " * Петербург — культурная столица, со своими вкусами.\n",
    "\n",
    "На данных Яндекс.Музыки вы сравните поведение пользователей двух столиц.\n",
    "\n",
    "**Цель исследования** — проверьте три гипотезы:\n",
    "1. Активность пользователей зависит от дня недели. Причём в Москве и Петербурге это проявляется по-разному.\n",
    "2. В понедельник утром в Москве преобладают одни жанры, а в Петербурге — другие. Так же и вечером пятницы преобладают разные жанры — в зависимости от города. \n",
    "3. Москва и Петербург предпочитают разные жанры музыки. В Москве чаще слушают поп-музыку, в Петербурге — русский рэп.\n",
    "\n",
    "**Ход исследования**\n",
    "\n",
    "Данные о поведении пользователей вы получите из файла `yandex_music_project.csv`. О качестве данных ничего не известно. Поэтому перед проверкой гипотез понадобится обзор данных. \n",
    "\n",
    "Вы проверите данные на ошибки и оцените их влияние на исследование. Затем, на этапе предобработки вы поищете возможность исправить самые критичные ошибки данных.\n",
    " \n",
    "Таким образом, исследование пройдёт в три этапа:\n",
    " 1. Обзор данных.\n",
    " 2. Предобработка данных.\n",
    " 3. Проверка гипотез.\n",
    "\n"
   ]
  },
  {
   "cell_type": "markdown",
   "metadata": {},
   "source": [
    "<font color='blue'><b>Комментарий ревьюера: </b></font> ⚠️\\\n",
    "<font color='green'> Обрати внимание на оформление проекта:\n",
    "<ul><font color='green'>Вступительный блок где есть цель, описание данных и Этапы исследования.</font></ul>\n",
    "<ul><font color='green'>Проект разбит на блоки и подблоки заголовками разного уровня</font></ul>\n",
    "<ul><font color='green'>Есть выводы по каждому из этапов, а также общий вывод!</font></ul> \n",
    "Придерживайся такой структуры в дальнейшем :)"
   ]
  },
  {
   "cell_type": "markdown",
   "metadata": {
    "id": "Ml1hmfXC_Zcs"
   },
   "source": [
    "## Обзор данных\n",
    "\n",
    "Составьте первое представление о данных Яндекс.Музыки.\n",
    "\n",
    "\n"
   ]
  },
  {
   "cell_type": "markdown",
   "metadata": {
    "id": "57eAOGIz_Zcs"
   },
   "source": [
    "Основной инструмент аналитика — `pandas`. Импортируйте эту библиотеку."
   ]
  },
  {
   "cell_type": "code",
   "execution_count": 1,
   "metadata": {
    "id": "AXN7PHPN_Zcs"
   },
   "outputs": [],
   "source": [
    "import pandas as pd# импорт библиотеки pandas"
   ]
  },
  {
   "cell_type": "markdown",
   "metadata": {},
   "source": [
    "<font color='blue'><b>Комментарий ревьюера: </b></font> ✔️\\\n",
    "<font color='green'>Очень здорово, что ты используешь сокращение pd для Pandas, это общепринятое сокращение для этой библиотеки для удобной дальнейшей работы."
   ]
  },
  {
   "cell_type": "markdown",
   "metadata": {
    "id": "SG23P8tt_Zcs"
   },
   "source": [
    "Прочитайте файл `yandex_music_project.csv` из папки `/datasets` и сохраните его в переменной `df`:"
   ]
  },
  {
   "cell_type": "code",
   "execution_count": 2,
   "metadata": {
    "id": "fFVu7vqh_Zct"
   },
   "outputs": [],
   "source": [
    "df = pd.read_csv('/datasets/yandex_music_project.csv') # чтение файла с данными и сохранение в df"
   ]
  },
  {
   "cell_type": "markdown",
   "metadata": {},
   "source": [
    "<font color='blue'><b>Комментарий ревьюера: </b></font> ✔️\\\n",
    "<font color='green'>Указан правильный путь к файлу: слэш в начале пути очень важен, так как указывает, что нужно искать файл в корневой папке."
   ]
  },
  {
   "cell_type": "markdown",
   "metadata": {
    "id": "rDoOMd3uTqnZ"
   },
   "source": [
    "Выведите на экран первые десять строк таблицы:"
   ]
  },
  {
   "cell_type": "code",
   "execution_count": 3,
   "metadata": {
    "id": "oWTVX3gW_Zct"
   },
   "outputs": [
    {
     "data": {
      "text/html": [
       "<div>\n",
       "<style scoped>\n",
       "    .dataframe tbody tr th:only-of-type {\n",
       "        vertical-align: middle;\n",
       "    }\n",
       "\n",
       "    .dataframe tbody tr th {\n",
       "        vertical-align: top;\n",
       "    }\n",
       "\n",
       "    .dataframe thead th {\n",
       "        text-align: right;\n",
       "    }\n",
       "</style>\n",
       "<table border=\"1\" class=\"dataframe\">\n",
       "  <thead>\n",
       "    <tr style=\"text-align: right;\">\n",
       "      <th></th>\n",
       "      <th>userID</th>\n",
       "      <th>Track</th>\n",
       "      <th>artist</th>\n",
       "      <th>genre</th>\n",
       "      <th>City</th>\n",
       "      <th>time</th>\n",
       "      <th>Day</th>\n",
       "    </tr>\n",
       "  </thead>\n",
       "  <tbody>\n",
       "    <tr>\n",
       "      <td>0</td>\n",
       "      <td>FFB692EC</td>\n",
       "      <td>Kamigata To Boots</td>\n",
       "      <td>The Mass Missile</td>\n",
       "      <td>rock</td>\n",
       "      <td>Saint-Petersburg</td>\n",
       "      <td>20:28:33</td>\n",
       "      <td>Wednesday</td>\n",
       "    </tr>\n",
       "    <tr>\n",
       "      <td>1</td>\n",
       "      <td>55204538</td>\n",
       "      <td>Delayed Because of Accident</td>\n",
       "      <td>Andreas Rönnberg</td>\n",
       "      <td>rock</td>\n",
       "      <td>Moscow</td>\n",
       "      <td>14:07:09</td>\n",
       "      <td>Friday</td>\n",
       "    </tr>\n",
       "    <tr>\n",
       "      <td>2</td>\n",
       "      <td>20EC38</td>\n",
       "      <td>Funiculì funiculà</td>\n",
       "      <td>Mario Lanza</td>\n",
       "      <td>pop</td>\n",
       "      <td>Saint-Petersburg</td>\n",
       "      <td>20:58:07</td>\n",
       "      <td>Wednesday</td>\n",
       "    </tr>\n",
       "    <tr>\n",
       "      <td>3</td>\n",
       "      <td>A3DD03C9</td>\n",
       "      <td>Dragons in the Sunset</td>\n",
       "      <td>Fire + Ice</td>\n",
       "      <td>folk</td>\n",
       "      <td>Saint-Petersburg</td>\n",
       "      <td>08:37:09</td>\n",
       "      <td>Monday</td>\n",
       "    </tr>\n",
       "    <tr>\n",
       "      <td>4</td>\n",
       "      <td>E2DC1FAE</td>\n",
       "      <td>Soul People</td>\n",
       "      <td>Space Echo</td>\n",
       "      <td>dance</td>\n",
       "      <td>Moscow</td>\n",
       "      <td>08:34:34</td>\n",
       "      <td>Monday</td>\n",
       "    </tr>\n",
       "    <tr>\n",
       "      <td>5</td>\n",
       "      <td>842029A1</td>\n",
       "      <td>Преданная</td>\n",
       "      <td>IMPERVTOR</td>\n",
       "      <td>rusrap</td>\n",
       "      <td>Saint-Petersburg</td>\n",
       "      <td>13:09:41</td>\n",
       "      <td>Friday</td>\n",
       "    </tr>\n",
       "    <tr>\n",
       "      <td>6</td>\n",
       "      <td>4CB90AA5</td>\n",
       "      <td>True</td>\n",
       "      <td>Roman Messer</td>\n",
       "      <td>dance</td>\n",
       "      <td>Moscow</td>\n",
       "      <td>13:00:07</td>\n",
       "      <td>Wednesday</td>\n",
       "    </tr>\n",
       "    <tr>\n",
       "      <td>7</td>\n",
       "      <td>F03E1C1F</td>\n",
       "      <td>Feeling This Way</td>\n",
       "      <td>Polina Griffith</td>\n",
       "      <td>dance</td>\n",
       "      <td>Moscow</td>\n",
       "      <td>20:47:49</td>\n",
       "      <td>Wednesday</td>\n",
       "    </tr>\n",
       "    <tr>\n",
       "      <td>8</td>\n",
       "      <td>8FA1D3BE</td>\n",
       "      <td>И вновь продолжается бой</td>\n",
       "      <td>NaN</td>\n",
       "      <td>ruspop</td>\n",
       "      <td>Moscow</td>\n",
       "      <td>09:17:40</td>\n",
       "      <td>Friday</td>\n",
       "    </tr>\n",
       "    <tr>\n",
       "      <td>9</td>\n",
       "      <td>E772D5C0</td>\n",
       "      <td>Pessimist</td>\n",
       "      <td>NaN</td>\n",
       "      <td>dance</td>\n",
       "      <td>Saint-Petersburg</td>\n",
       "      <td>21:20:49</td>\n",
       "      <td>Wednesday</td>\n",
       "    </tr>\n",
       "  </tbody>\n",
       "</table>\n",
       "</div>"
      ],
      "text/plain": [
       "     userID                        Track            artist   genre  \\\n",
       "0  FFB692EC            Kamigata To Boots  The Mass Missile    rock   \n",
       "1  55204538  Delayed Because of Accident  Andreas Rönnberg    rock   \n",
       "2    20EC38            Funiculì funiculà       Mario Lanza     pop   \n",
       "3  A3DD03C9        Dragons in the Sunset        Fire + Ice    folk   \n",
       "4  E2DC1FAE                  Soul People        Space Echo   dance   \n",
       "5  842029A1                    Преданная         IMPERVTOR  rusrap   \n",
       "6  4CB90AA5                         True      Roman Messer   dance   \n",
       "7  F03E1C1F             Feeling This Way   Polina Griffith   dance   \n",
       "8  8FA1D3BE     И вновь продолжается бой               NaN  ruspop   \n",
       "9  E772D5C0                    Pessimist               NaN   dance   \n",
       "\n",
       "             City        time        Day  \n",
       "0  Saint-Petersburg  20:28:33  Wednesday  \n",
       "1            Moscow  14:07:09     Friday  \n",
       "2  Saint-Petersburg  20:58:07  Wednesday  \n",
       "3  Saint-Petersburg  08:37:09     Monday  \n",
       "4            Moscow  08:34:34     Monday  \n",
       "5  Saint-Petersburg  13:09:41     Friday  \n",
       "6            Moscow  13:00:07  Wednesday  \n",
       "7            Moscow  20:47:49  Wednesday  \n",
       "8            Moscow  09:17:40     Friday  \n",
       "9  Saint-Petersburg  21:20:49  Wednesday  "
      ]
     },
     "execution_count": 3,
     "metadata": {},
     "output_type": "execute_result"
    }
   ],
   "source": [
    "df.head(10) # получение первых 10 строк таблицы df"
   ]
  },
  {
   "cell_type": "markdown",
   "metadata": {},
   "source": [
    "<font color='blue'><b>Комментарий ревьюера: </b></font> ✔️\\\n",
    "<font color='green'>.head(10) 👍"
   ]
  },
  {
   "cell_type": "markdown",
   "metadata": {
    "id": "EO73Kwic_Zct"
   },
   "source": [
    "Одной командой получить общую информацию о таблице:"
   ]
  },
  {
   "cell_type": "code",
   "execution_count": 4,
   "metadata": {
    "id": "DSf2kIb-_Zct"
   },
   "outputs": [
    {
     "name": "stdout",
     "output_type": "stream",
     "text": [
      "<class 'pandas.core.frame.DataFrame'>\n",
      "RangeIndex: 65079 entries, 0 to 65078\n",
      "Data columns (total 7 columns):\n",
      "  userID    65079 non-null object\n",
      "Track       63848 non-null object\n",
      "artist      57876 non-null object\n",
      "genre       63881 non-null object\n",
      "  City      65079 non-null object\n",
      "time        65079 non-null object\n",
      "Day         65079 non-null object\n",
      "dtypes: object(7)\n",
      "memory usage: 3.5+ MB\n"
     ]
    }
   ],
   "source": [
    "df.info() # получение общей информации о данных в таблице df"
   ]
  },
  {
   "cell_type": "markdown",
   "metadata": {},
   "source": [
    "<font color='blue'><b>Комментарий ревьюера: </b></font> ✔️\\\n",
    "<font color='green'>Отличный выбор метода - info действительно показывает много информации о датафрейме."
   ]
  },
  {
   "cell_type": "markdown",
   "metadata": {
    "id": "TaQ2Iwbr_Zct"
   },
   "source": [
    "Итак, в таблице семь столбцов. Тип данных во всех столбцах — `object`.\n",
    "\n",
    "Согласно документации к данным:\n",
    "* `userID` — идентификатор пользователя;\n",
    "* `Track` — название трека;  \n",
    "* `artist` — имя исполнителя;\n",
    "* `genre` — название жанра;\n",
    "* `City` — город пользователя;\n",
    "* `time` — время начала прослушивания;\n",
    "* `Day` — день недели.\n",
    "\n",
    "В названиях колонок видны три нарушения стиля:\n",
    "1. Строчные буквы сочетаются с прописными.\n",
    "2. Встречаются пробелы.\n",
    "3. Нарушение \"змеиного\" регистра.\n",
    "\n",
    "\n",
    "\n",
    "Количество значений в столбцах различается. Значит, в данных есть пропущенные значения.\n"
   ]
  },
  {
   "cell_type": "markdown",
   "metadata": {},
   "source": [
    "<font color='blue'><b>Комментарий ревьюера: </b></font> ✔️\\\n",
    "<font color='green'>Абсолютно правильный ответ на вопрос задания! Отличная работа!"
   ]
  },
  {
   "cell_type": "markdown",
   "metadata": {
    "id": "MCB6-dXG_Zct"
   },
   "source": [
    "**Выводы**\n",
    "\n",
    "В каждой строке таблицы — данные о прослушанном треке. Часть колонок описывает саму композицию: название, исполнителя и жанр. Остальные данные рассказывают о пользователе: из какого он города, когда он слушал музыку. \n",
    "\n",
    "Предварительно можно утверждать, что, данных достаточно для проверки гипотез. Но встречаются пропуски в данных, а в названиях колонок — расхождения с хорошим стилем.\n",
    "\n",
    "Чтобы двигаться дальше, нужно устранить проблемы в данных."
   ]
  },
  {
   "cell_type": "markdown",
   "metadata": {
    "id": "SjYF6Ub9_Zct"
   },
   "source": [
    "## Предобработка данных\n",
    "Исправьте стиль в заголовках столбцов, исключите пропуски. Затем проверьте данные на дубликаты."
   ]
  },
  {
   "cell_type": "markdown",
   "metadata": {
    "id": "dIaKXr29_Zct"
   },
   "source": [
    "### Стиль заголовков\n",
    "Выведите на экран названия столбцов:"
   ]
  },
  {
   "cell_type": "code",
   "execution_count": 5,
   "metadata": {
    "id": "oKOTdF_Q_Zct"
   },
   "outputs": [
    {
     "data": {
      "text/plain": [
       "Index(['  userID', 'Track', 'artist', 'genre', '  City  ', 'time', 'Day'], dtype='object')"
      ]
     },
     "execution_count": 5,
     "metadata": {},
     "output_type": "execute_result"
    }
   ],
   "source": [
    "df.columns # перечень названий столбцов таблицы df"
   ]
  },
  {
   "cell_type": "markdown",
   "metadata": {},
   "source": [
    "<font color='blue'><b>Комментарий ревьюера: </b></font> ✔️\\\n",
    "<font color='green'>.columns 👍"
   ]
  },
  {
   "cell_type": "markdown",
   "metadata": {
    "id": "zj5534cv_Zct"
   },
   "source": [
    "Приведите названия в соответствие с хорошим стилем:\n",
    "* несколько слов в названии запишите в «змеином_регистре»,\n",
    "* все символы сделайте строчными,\n",
    "* устраните пробелы.\n",
    "\n",
    "Для этого переименуйте колонки так:\n",
    "* `'  userID'` → `'user_id'`;\n",
    "* `'Track'` → `'track'`;\n",
    "* `'  City  '` → `'city'`;\n",
    "* `'Day'` → `'day'`."
   ]
  },
  {
   "cell_type": "code",
   "execution_count": 6,
   "metadata": {
    "id": "ISlFqs5y_Zct"
   },
   "outputs": [],
   "source": [
    "df = df.rename(               # переименование столбцов\n",
    "    columns = {\n",
    "        '  userID': 'user_id',\n",
    "        'Track': 'track',\n",
    "        '  City  ': 'city',\n",
    "        'Day': 'day'\n",
    "    }\n",
    ") "
   ]
  },
  {
   "cell_type": "markdown",
   "metadata": {},
   "source": [
    "<font color='blue'><b>Комментарий ревьюера: </b></font> ✔️\\\n",
    "<font color='green'>Хороший выбор метода - rename сработает без ошибок, даже если изменится порядок столбцов."
   ]
  },
  {
   "cell_type": "markdown",
   "metadata": {
    "id": "1dqbh00J_Zct"
   },
   "source": [
    "Проверьте результат. Для этого ещё раз выведите на экран названия столбцов:"
   ]
  },
  {
   "cell_type": "code",
   "execution_count": 7,
   "metadata": {
    "id": "d4NOAmTW_Zct"
   },
   "outputs": [
    {
     "data": {
      "text/plain": [
       "Index(['user_id', 'track', 'artist', 'genre', 'city', 'time', 'day'], dtype='object')"
      ]
     },
     "execution_count": 7,
     "metadata": {},
     "output_type": "execute_result"
    }
   ],
   "source": [
    "df.columns # проверка результатов - перечень названий столбцов"
   ]
  },
  {
   "cell_type": "markdown",
   "metadata": {
    "id": "5ISfbcfY_Zct"
   },
   "source": [
    "### Пропуски значений\n",
    "Сначала посчитайте, сколько в таблице пропущенных значений. Для этого достаточно двух методов `pandas`:"
   ]
  },
  {
   "cell_type": "code",
   "execution_count": 8,
   "metadata": {
    "id": "RskX29qr_Zct"
   },
   "outputs": [
    {
     "data": {
      "text/plain": [
       "user_id       0\n",
       "track      1231\n",
       "artist     7203\n",
       "genre      1198\n",
       "city          0\n",
       "time          0\n",
       "day           0\n",
       "dtype: int64"
      ]
     },
     "metadata": {},
     "output_type": "display_data"
    }
   ],
   "source": [
    "empty_values = df.isna().sum() # подсчёт пропусков\n",
    "display(empty_values)"
   ]
  },
  {
   "cell_type": "markdown",
   "metadata": {},
   "source": [
    "<font color='blue'><b>Комментарий ревьюера: </b></font> ✔️\\\n",
    "<font color='green'>Выбран метод isna() для нахождения пропущенных значений, это отлично! На самом деле, isnull() и isna() делают одно и то же, но использование isna() предпочтительнее."
   ]
  },
  {
   "cell_type": "markdown",
   "metadata": {
    "id": "qubhgnlO_Zct"
   },
   "source": [
    "Не все пропущенные значения влияют на исследование. Так в `track` и `artist` пропуски не важны для вашей работы. Достаточно заменить их явными обозначениями.\n",
    "\n",
    "Но пропуски в `genre` могут помешать сравнению музыкальных вкусов в Москве и Санкт-Петербурге. На практике было бы правильно установить причину пропусков и восстановить данные. Такой возможности нет в учебном проекте. Придётся:\n",
    "* заполнить и эти пропуски явными обозначениями,\n",
    "* оценить, насколько они повредят расчётам. "
   ]
  },
  {
   "cell_type": "markdown",
   "metadata": {
    "id": "fSv2laPA_Zct"
   },
   "source": [
    "Замените пропущенные значения в столбцах `track`, `artist` и `genre` на строку `'unknown'`. Для этого создайте список `columns_to_replace`, переберите его элементы циклом `for` и для каждого столбца выполните замену пропущенных значений:"
   ]
  },
  {
   "cell_type": "code",
   "execution_count": 9,
   "metadata": {
    "id": "KplB5qWs_Zct"
   },
   "outputs": [],
   "source": [
    "columns_to_replace = ['track', 'artist', 'genre']\n",
    "for column in columns_to_replace:\n",
    "    df[column] = df[column].fillna('unknown') # перебор названий столбцов в цикле и замена пропущенных значений на 'unknown'\n"
   ]
  },
  {
   "cell_type": "markdown",
   "metadata": {},
   "source": [
    "<font color='blue'><b>Комментарий ревьюера: </b></font> ✔️\\\n",
    "<font color='green'>Список columns_to_replace сформирован верно, цикл отработал без ошибок."
   ]
  },
  {
   "cell_type": "markdown",
   "metadata": {
    "id": "Ilsm-MZo_Zct"
   },
   "source": [
    "Убедитесь, что в таблице не осталось пропусков. Для этого ещё раз посчитайте пропущенные значения."
   ]
  },
  {
   "cell_type": "code",
   "execution_count": 10,
   "metadata": {
    "id": "Tq4nYRX4_Zct"
   },
   "outputs": [
    {
     "data": {
      "text/plain": [
       "user_id    0\n",
       "track      0\n",
       "artist     0\n",
       "genre      0\n",
       "city       0\n",
       "time       0\n",
       "day        0\n",
       "dtype: int64"
      ]
     },
     "metadata": {},
     "output_type": "display_data"
    }
   ],
   "source": [
    "empty_values = df.isna().sum() # подсчёт пропусков\n",
    "display(empty_values)"
   ]
  },
  {
   "cell_type": "markdown",
   "metadata": {},
   "source": [
    "<font color='blue'><b>Комментарий ревьюера: </b></font> ✔️\\\n",
    "<font color='green'>Пропусков нет!"
   ]
  },
  {
   "cell_type": "markdown",
   "metadata": {
    "id": "BWKRtBJ3_Zct"
   },
   "source": [
    "### Дубликаты\n",
    "Посчитайте явные дубликаты в таблице одной командой:"
   ]
  },
  {
   "cell_type": "code",
   "execution_count": 11,
   "metadata": {
    "id": "36eES_S0_Zct"
   },
   "outputs": [
    {
     "data": {
      "text/plain": [
       "3826"
      ]
     },
     "execution_count": 11,
     "metadata": {},
     "output_type": "execute_result"
    }
   ],
   "source": [
    "df.duplicated().sum() # подсчёт явных дубликатов"
   ]
  },
  {
   "cell_type": "markdown",
   "metadata": {},
   "source": [
    "<font color='blue'><b>Комментарий ревьюера: </b></font> ✔️\\\n",
    "<font color='green'>Дубликаты верно найдены и посчитаны оптимальными методами."
   ]
  },
  {
   "cell_type": "markdown",
   "metadata": {
    "id": "Ot25h6XR_Zct"
   },
   "source": [
    "Вызовите специальный метод `pandas`, чтобы удалить явные дубликаты:"
   ]
  },
  {
   "cell_type": "code",
   "execution_count": 12,
   "metadata": {
    "id": "exFHq6tt_Zct"
   },
   "outputs": [],
   "source": [
    "df = df.drop_duplicates().reset_index(drop=True) # удаление явных дубликатов (с удалением старых индексов и формированием новых)"
   ]
  },
  {
   "cell_type": "markdown",
   "metadata": {},
   "source": [
    "<font color='blue'><b>Комментарий ревьюера: </b></font> ✔️\\\n",
    "<font color='green'>Отлично! И индексы обновились!"
   ]
  },
  {
   "cell_type": "markdown",
   "metadata": {
    "id": "Im2YwBEG_Zct"
   },
   "source": [
    "Ещё раз посчитайте явные дубликаты в таблице — убедитесь, что полностью от них избавились:"
   ]
  },
  {
   "cell_type": "code",
   "execution_count": 13,
   "metadata": {
    "id": "-8PuNWQ0_Zct"
   },
   "outputs": [
    {
     "data": {
      "text/plain": [
       "0"
      ]
     },
     "execution_count": 13,
     "metadata": {},
     "output_type": "execute_result"
    }
   ],
   "source": [
    "df.duplicated().sum() # проверка на отсутствие дубликатов"
   ]
  },
  {
   "cell_type": "markdown",
   "metadata": {},
   "source": [
    "<font color='blue'><b>Комментарий ревьюера: </b></font> ✔️\\\n",
    "<font color='green'>Нет явных дубликатов."
   ]
  },
  {
   "cell_type": "markdown",
   "metadata": {
    "id": "QlFBsxAr_Zct"
   },
   "source": [
    "Теперь избавьтесь от неявных дубликатов в колонке `genre`. Например, название одного и того же жанра может быть записано немного по-разному. Такие ошибки тоже повлияют на результат исследования."
   ]
  },
  {
   "cell_type": "markdown",
   "metadata": {
    "id": "eSjWwsOh_Zct"
   },
   "source": [
    "Выведите на экран список уникальных названий жанров, отсортированный в алфавитном порядке. Для этого:\n",
    "* извлеките нужный столбец датафрейма, \n",
    "* примените к нему метод сортировки,\n",
    "* для отсортированного столбца вызовите метод, который вернёт уникальные значения из столбца."
   ]
  },
  {
   "cell_type": "code",
   "execution_count": 14,
   "metadata": {
    "id": "JIUcqzZN_Zct"
   },
   "outputs": [
    {
     "data": {
      "text/plain": [
       "array(['acid', 'acoustic', 'action', 'adult', 'africa', 'afrikaans',\n",
       "       'alternative', 'alternativepunk', 'ambient', 'americana',\n",
       "       'animated', 'anime', 'arabesk', 'arabic', 'arena',\n",
       "       'argentinetango', 'art', 'audiobook', 'author', 'avantgarde',\n",
       "       'axé', 'baile', 'balkan', 'beats', 'bigroom', 'black', 'bluegrass',\n",
       "       'blues', 'bollywood', 'bossa', 'brazilian', 'breakbeat', 'breaks',\n",
       "       'broadway', 'cantautori', 'cantopop', 'canzone', 'caribbean',\n",
       "       'caucasian', 'celtic', 'chamber', 'chanson', 'children', 'chill',\n",
       "       'chinese', 'choral', 'christian', 'christmas', 'classical',\n",
       "       'classicmetal', 'club', 'colombian', 'comedy', 'conjazz',\n",
       "       'contemporary', 'country', 'cuban', 'dance', 'dancehall',\n",
       "       'dancepop', 'dark', 'death', 'deep', 'deutschrock', 'deutschspr',\n",
       "       'dirty', 'disco', 'dnb', 'documentary', 'downbeat', 'downtempo',\n",
       "       'drum', 'dub', 'dubstep', 'eastern', 'easy', 'electronic',\n",
       "       'electropop', 'emo', 'entehno', 'epicmetal', 'estrada', 'ethnic',\n",
       "       'eurofolk', 'european', 'experimental', 'extrememetal', 'fado',\n",
       "       'fairytail', 'film', 'fitness', 'flamenco', 'folk', 'folklore',\n",
       "       'folkmetal', 'folkrock', 'folktronica', 'forró', 'frankreich',\n",
       "       'französisch', 'french', 'funk', 'future', 'gangsta', 'garage',\n",
       "       'german', 'ghazal', 'gitarre', 'glitch', 'gospel', 'gothic',\n",
       "       'grime', 'grunge', 'gypsy', 'handsup', \"hard'n'heavy\", 'hardcore',\n",
       "       'hardstyle', 'hardtechno', 'hip', 'hip-hop', 'hiphop',\n",
       "       'historisch', 'holiday', 'hop', 'horror', 'house', 'hymn', 'idm',\n",
       "       'independent', 'indian', 'indie', 'indipop', 'industrial',\n",
       "       'inspirational', 'instrumental', 'international', 'irish', 'jam',\n",
       "       'japanese', 'jazz', 'jewish', 'jpop', 'jungle', 'k-pop',\n",
       "       'karadeniz', 'karaoke', 'kayokyoku', 'korean', 'laiko', 'latin',\n",
       "       'latino', 'leftfield', 'local', 'lounge', 'loungeelectronic',\n",
       "       'lovers', 'malaysian', 'mandopop', 'marschmusik', 'meditative',\n",
       "       'mediterranean', 'melodic', 'metal', 'metalcore', 'mexican',\n",
       "       'middle', 'minimal', 'miscellaneous', 'modern', 'mood', 'mpb',\n",
       "       'muslim', 'native', 'neoklassik', 'neue', 'new', 'newage',\n",
       "       'newwave', 'nu', 'nujazz', 'numetal', 'oceania', 'old', 'opera',\n",
       "       'orchestral', 'other', 'piano', 'podcasts', 'pop', 'popdance',\n",
       "       'popelectronic', 'popeurodance', 'poprussian', 'post',\n",
       "       'posthardcore', 'postrock', 'power', 'progmetal', 'progressive',\n",
       "       'psychedelic', 'punjabi', 'punk', 'quebecois', 'ragga', 'ram',\n",
       "       'rancheras', 'rap', 'rave', 'reggae', 'reggaeton', 'regional',\n",
       "       'relax', 'religious', 'retro', 'rhythm', 'rnb', 'rnr', 'rock',\n",
       "       'rockabilly', 'rockalternative', 'rockindie', 'rockother',\n",
       "       'romance', 'roots', 'ruspop', 'rusrap', 'rusrock', 'russian',\n",
       "       'salsa', 'samba', 'scenic', 'schlager', 'self', 'sertanejo',\n",
       "       'shanson', 'shoegazing', 'showtunes', 'singer', 'ska', 'skarock',\n",
       "       'slow', 'smooth', 'soft', 'soul', 'soulful', 'sound', 'soundtrack',\n",
       "       'southern', 'specialty', 'speech', 'spiritual', 'sport',\n",
       "       'stonerrock', 'surf', 'swing', 'synthpop', 'synthrock',\n",
       "       'sängerportrait', 'tango', 'tanzorchester', 'taraftar', 'tatar',\n",
       "       'tech', 'techno', 'teen', 'thrash', 'top', 'traditional',\n",
       "       'tradjazz', 'trance', 'tribal', 'trip', 'triphop', 'tropical',\n",
       "       'türk', 'türkçe', 'ukrrock', 'unknown', 'urban', 'uzbek',\n",
       "       'variété', 'vi', 'videogame', 'vocal', 'western', 'world',\n",
       "       'worldbeat', 'ïîï', 'электроника'], dtype=object)"
      ]
     },
     "execution_count": 14,
     "metadata": {},
     "output_type": "execute_result"
    }
   ],
   "source": [
    "# Просмотр уникальных названий жанров \n",
    "df['genre'] = df['genre'].sort_values()\n",
    "df['genre'].sort_values().unique()"
   ]
  },
  {
   "cell_type": "markdown",
   "metadata": {},
   "source": [
    "<font color='blue'><b>Комментарий ревьюера: </b></font>  ❌\\\n",
    "<font color='red'>\n",
    "По заданию нужно было отсортировать массив с названиями жанров: ведь так намного удобнее искать потенциальные неявные дубликаты.\\\n",
    "<font color='orange'>Не забывай про скобки - .unique() , Тогда будет вызываться метод, а не информация о методе."
   ]
  },
  {
   "cell_type": "markdown",
   "metadata": {},
   "source": [
    "<font color='blue'><b>Комментарий ревьюера 2: </b></font> ✔️\\\n",
    "<font color='green'>Всё верно, с датафреймами эффективней работать методами Пандас."
   ]
  },
  {
   "cell_type": "markdown",
   "metadata": {
    "id": "qej-Qmuo_Zct"
   },
   "source": [
    "Просмотрите список и найдите неявные дубликаты названия `hiphop`. Это могут быть названия с ошибками или альтернативные названия того же жанра.\n",
    "\n",
    "Вы увидите следующие неявные дубликаты:\n",
    "* *hip*,\n",
    "* *hop*,\n",
    "* *hip-hop*.\n",
    "\n",
    "Чтобы очистить от них таблицу, напишите функцию `replace_wrong_genres()` с двумя параметрами: \n",
    "* `wrong_genres` — список дубликатов,\n",
    "* `correct_genre` — строка с правильным значением.\n",
    "\n",
    "Функция должна исправить колонку `genre` в таблице `df`: заменить каждое значение из списка `wrong_genres` на значение из `correct_genre`."
   ]
  },
  {
   "cell_type": "code",
   "execution_count": 15,
   "metadata": {
    "id": "ErNDkmns_Zct"
   },
   "outputs": [],
   "source": [
    "def replace_wrong_genres(wrong_genres, correct_genre): #создание функции с двумя параментрами\n",
    "    for index in wrong_genres: # перебираем список с неправильными значениями\n",
    "        df['genre'] = df['genre'].replace(index, correct_genre) # replace для каждого неправильного наименования"
   ]
  },
  {
   "cell_type": "markdown",
   "metadata": {},
   "source": [
    "<font color='blue'><b>Комментарий ревьюера: </b></font> ✔️\\\n",
    "<font color='green'>Функция написана верно! Метод replace оптимален."
   ]
  },
  {
   "cell_type": "markdown",
   "metadata": {
    "id": "aDoBJxbA_Zct"
   },
   "source": [
    "Вызовите `replace_wrong_genres()` и передайте ей такие аргументы, чтобы она устранила неявные дубликаты: вместо `hip`, `hop` и `hip-hop` в таблице должно быть значение `hiphop`:"
   ]
  },
  {
   "cell_type": "code",
   "execution_count": 16,
   "metadata": {
    "id": "YN5i2hpmSo09"
   },
   "outputs": [],
   "source": [
    "first_name = ['hip', 'hop', 'hip-hop'] # переменная с неправильным списком\n",
    "two_name = 'hiphop' # переменная с правильным значением\n",
    "replace_wrong_genres(first_name, two_name) # Устранение неявных дубликатов"
   ]
  },
  {
   "cell_type": "markdown",
   "metadata": {
    "id": "zQKF16_RG15m"
   },
   "source": [
    "Проверьте, что заменили неправильные названия:\n",
    "\n",
    "*   hip\n",
    "*   hop\n",
    "*   hip-hop\n",
    "\n",
    "Выведите отсортированный список уникальных значений столбца `genre`:"
   ]
  },
  {
   "cell_type": "code",
   "execution_count": 17,
   "metadata": {
    "id": "wvixALnFG15m"
   },
   "outputs": [
    {
     "data": {
      "text/plain": [
       "array(['acid', 'acoustic', 'action', 'adult', 'africa', 'afrikaans',\n",
       "       'alternative', 'alternativepunk', 'ambient', 'americana',\n",
       "       'animated', 'anime', 'arabesk', 'arabic', 'arena',\n",
       "       'argentinetango', 'art', 'audiobook', 'author', 'avantgarde',\n",
       "       'axé', 'baile', 'balkan', 'beats', 'bigroom', 'black', 'bluegrass',\n",
       "       'blues', 'bollywood', 'bossa', 'brazilian', 'breakbeat', 'breaks',\n",
       "       'broadway', 'cantautori', 'cantopop', 'canzone', 'caribbean',\n",
       "       'caucasian', 'celtic', 'chamber', 'chanson', 'children', 'chill',\n",
       "       'chinese', 'choral', 'christian', 'christmas', 'classical',\n",
       "       'classicmetal', 'club', 'colombian', 'comedy', 'conjazz',\n",
       "       'contemporary', 'country', 'cuban', 'dance', 'dancehall',\n",
       "       'dancepop', 'dark', 'death', 'deep', 'deutschrock', 'deutschspr',\n",
       "       'dirty', 'disco', 'dnb', 'documentary', 'downbeat', 'downtempo',\n",
       "       'drum', 'dub', 'dubstep', 'eastern', 'easy', 'electronic',\n",
       "       'electropop', 'emo', 'entehno', 'epicmetal', 'estrada', 'ethnic',\n",
       "       'eurofolk', 'european', 'experimental', 'extrememetal', 'fado',\n",
       "       'fairytail', 'film', 'fitness', 'flamenco', 'folk', 'folklore',\n",
       "       'folkmetal', 'folkrock', 'folktronica', 'forró', 'frankreich',\n",
       "       'französisch', 'french', 'funk', 'future', 'gangsta', 'garage',\n",
       "       'german', 'ghazal', 'gitarre', 'glitch', 'gospel', 'gothic',\n",
       "       'grime', 'grunge', 'gypsy', 'handsup', \"hard'n'heavy\", 'hardcore',\n",
       "       'hardstyle', 'hardtechno', 'hiphop', 'historisch', 'holiday',\n",
       "       'horror', 'house', 'hymn', 'idm', 'independent', 'indian', 'indie',\n",
       "       'indipop', 'industrial', 'inspirational', 'instrumental',\n",
       "       'international', 'irish', 'jam', 'japanese', 'jazz', 'jewish',\n",
       "       'jpop', 'jungle', 'k-pop', 'karadeniz', 'karaoke', 'kayokyoku',\n",
       "       'korean', 'laiko', 'latin', 'latino', 'leftfield', 'local',\n",
       "       'lounge', 'loungeelectronic', 'lovers', 'malaysian', 'mandopop',\n",
       "       'marschmusik', 'meditative', 'mediterranean', 'melodic', 'metal',\n",
       "       'metalcore', 'mexican', 'middle', 'minimal', 'miscellaneous',\n",
       "       'modern', 'mood', 'mpb', 'muslim', 'native', 'neoklassik', 'neue',\n",
       "       'new', 'newage', 'newwave', 'nu', 'nujazz', 'numetal', 'oceania',\n",
       "       'old', 'opera', 'orchestral', 'other', 'piano', 'podcasts', 'pop',\n",
       "       'popdance', 'popelectronic', 'popeurodance', 'poprussian', 'post',\n",
       "       'posthardcore', 'postrock', 'power', 'progmetal', 'progressive',\n",
       "       'psychedelic', 'punjabi', 'punk', 'quebecois', 'ragga', 'ram',\n",
       "       'rancheras', 'rap', 'rave', 'reggae', 'reggaeton', 'regional',\n",
       "       'relax', 'religious', 'retro', 'rhythm', 'rnb', 'rnr', 'rock',\n",
       "       'rockabilly', 'rockalternative', 'rockindie', 'rockother',\n",
       "       'romance', 'roots', 'ruspop', 'rusrap', 'rusrock', 'russian',\n",
       "       'salsa', 'samba', 'scenic', 'schlager', 'self', 'sertanejo',\n",
       "       'shanson', 'shoegazing', 'showtunes', 'singer', 'ska', 'skarock',\n",
       "       'slow', 'smooth', 'soft', 'soul', 'soulful', 'sound', 'soundtrack',\n",
       "       'southern', 'specialty', 'speech', 'spiritual', 'sport',\n",
       "       'stonerrock', 'surf', 'swing', 'synthpop', 'synthrock',\n",
       "       'sängerportrait', 'tango', 'tanzorchester', 'taraftar', 'tatar',\n",
       "       'tech', 'techno', 'teen', 'thrash', 'top', 'traditional',\n",
       "       'tradjazz', 'trance', 'tribal', 'trip', 'triphop', 'tropical',\n",
       "       'türk', 'türkçe', 'ukrrock', 'unknown', 'urban', 'uzbek',\n",
       "       'variété', 'vi', 'videogame', 'vocal', 'western', 'world',\n",
       "       'worldbeat', 'ïîï', 'электроника'], dtype=object)"
      ]
     },
     "execution_count": 17,
     "metadata": {},
     "output_type": "execute_result"
    }
   ],
   "source": [
    "# Проверка на неявные дубликаты\n",
    "df['genre'] = df['genre'].sort_values()\n",
    "df['genre'].sort_values().unique()"
   ]
  },
  {
   "cell_type": "markdown",
   "metadata": {},
   "source": [
    "<font color='blue'><b>Комментарий ревьюера: </b></font> ❌\\\n",
    "<font color='red'> Массив не отсортирован.Искать дубликаты очень сложно."
   ]
  },
  {
   "cell_type": "markdown",
   "metadata": {},
   "source": [
    "<font color='blue'><b>Комментарий ревьюера 2: </b></font> ✔️\\\n",
    "<font color='green'> 👍"
   ]
  },
  {
   "cell_type": "markdown",
   "metadata": {
    "id": "jz6a9-7HQUDd"
   },
   "source": [
    "**Выводы**\n",
    "\n",
    "Предобработка обнаружила три проблемы в данных:\n",
    "\n",
    "- нарушения в стиле заголовков,\n",
    "- пропущенные значения,\n",
    "- дубликаты — явные и неявные.\n",
    "\n",
    "Вы исправили заголовки, чтобы упростить работу с таблицей. Без дубликатов исследование станет более точным.\n",
    "\n",
    "Пропущенные значения вы заменили на `'unknown'`. Ещё предстоит увидеть, не повредят ли исследованию пропуски в колонке `genre`.\n",
    "\n",
    "Теперь можно перейти к проверке гипотез. "
   ]
  },
  {
   "cell_type": "markdown",
   "metadata": {
    "id": "WttZHXH0SqKk"
   },
   "source": [
    "## Проверка гипотез"
   ]
  },
  {
   "cell_type": "markdown",
   "metadata": {
    "id": "Im936VVi_Zcu"
   },
   "source": [
    "### Сравнение поведения пользователей двух столиц"
   ]
  },
  {
   "cell_type": "markdown",
   "metadata": {
    "id": "nwt_MuaL_Zcu"
   },
   "source": [
    "Первая гипотеза утверждает, что пользователи по-разному слушают музыку в Москве и Санкт-Петербурге. Проверьте это предположение по данным о трёх днях недели — понедельнике, среде и пятнице. Для этого:\n",
    "\n",
    "* Разделите пользователей Москвы и Санкт-Петербурга\n",
    "* Сравните, сколько треков послушала каждая группа пользователей в понедельник, среду и пятницу.\n"
   ]
  },
  {
   "cell_type": "markdown",
   "metadata": {
    "id": "8Dw_YMmT_Zcu"
   },
   "source": [
    "Для тренировки сначала выполните каждый из расчётов по отдельности. \n",
    "\n",
    "Оцените активность пользователей в каждом городе. Сгруппируйте данные по городу и посчитайте прослушивания в каждой группе.\n",
    "\n"
   ]
  },
  {
   "cell_type": "code",
   "execution_count": 18,
   "metadata": {
    "id": "0_Qs96oh_Zcu"
   },
   "outputs": [
    {
     "data": {
      "text/plain": [
       "city\n",
       "Moscow              42741\n",
       "Saint-Petersburg    18512\n",
       "Name: city, dtype: int64"
      ]
     },
     "execution_count": 18,
     "metadata": {},
     "output_type": "execute_result"
    }
   ],
   "source": [
    "df.groupby('city')['city'].count() # Подсчёт прослушиваний в каждом городе"
   ]
  },
  {
   "cell_type": "markdown",
   "metadata": {},
   "source": [
    "<font color='blue'><b>Комментарий ревьюера: </b></font> ❌\\\n",
    "<font color='red'> Между группировкой по столбцу city и вызовом метода count() нужно выбрать какой-нибудь из столбцов получившегося сгруппированного объекта, иначе в итоговой таблице будет несколько одинаковых столбцов."
   ]
  },
  {
   "cell_type": "markdown",
   "metadata": {
    "id": "dzli3w8o_Zcu"
   },
   "source": [
    "В Москве прослушиваний больше, чем в Петербурге. Из этого не следует, что московские пользователи чаще слушают музыку. Просто самих пользователей в Москве больше.\n",
    "\n",
    "Теперь сгруппируйте данные по дню недели и подсчитайте прослушивания в понедельник, среду и пятницу. Учтите, что в данных есть информация только о прослушиваниях только за эти дни.\n"
   ]
  },
  {
   "cell_type": "code",
   "execution_count": 19,
   "metadata": {
    "id": "uZMKjiJz_Zcu"
   },
   "outputs": [
    {
     "data": {
      "text/plain": [
       "day\n",
       "Friday       21840\n",
       "Monday       21354\n",
       "Wednesday    18059\n",
       "Name: day, dtype: int64"
      ]
     },
     "execution_count": 19,
     "metadata": {},
     "output_type": "execute_result"
    }
   ],
   "source": [
    "df.groupby('day')['day'].count() # Подсчёт прослушиваний в каждый из трёх дней"
   ]
  },
  {
   "cell_type": "markdown",
   "metadata": {},
   "source": [
    "<font color='blue'><b>Комментарий ревьюера: </b></font> ❌\\\n",
    "<font color='red'> Та же ошибка что и в группировке по городам"
   ]
  },
  {
   "cell_type": "markdown",
   "metadata": {},
   "source": [
    "<font color='blue'><b>Комментарий ревьюера 2: </b></font> ✔️\\\n",
    "<font color='green'>Избавлись от лишних цифр на экране!"
   ]
  },
  {
   "cell_type": "markdown",
   "metadata": {
    "id": "cC2tNrlL_Zcu"
   },
   "source": [
    "В среднем пользователи из двух городов менее активны по средам. Но картина может измениться, если рассмотреть каждый город в отдельности."
   ]
  },
  {
   "cell_type": "markdown",
   "metadata": {
    "id": "POzs8bGa_Zcu"
   },
   "source": [
    "Вы видели, как работает группировка по городу и по дням недели. Теперь напишите функцию, которая объединит два эти расчёта.\n",
    "\n",
    "Создайте функцию `number_tracks()`, которая посчитает прослушивания для заданного дня и города. Ей понадобятся два параметра:\n",
    "* день недели,\n",
    "* название города.\n",
    "\n",
    "В функции сохраните в переменную строки исходной таблицы, у которых значение:\n",
    "  * в колонке `day` равно параметру `day`,\n",
    "  * в колонке `city` равно параметру `city`.\n",
    "\n",
    "Для этого примените последовательную фильтрацию с логической индексацией.\n",
    "\n",
    "Затем посчитайте значения в столбце `user_id` получившейся таблицы. Результат сохраните в новую переменную. Верните эту переменную из функции."
   ]
  },
  {
   "cell_type": "code",
   "execution_count": 20,
   "metadata": {
    "id": "Nz3GdQB1_Zcu"
   },
   "outputs": [],
   "source": [
    "# <создание функции number_tracks()>\n",
    "# Объявляется функция с двумя параметрами: day, city.\n",
    "def number_tracks(day, city):\n",
    "# В переменной track_list сохраняются те строки таблицы df, для которых \n",
    "# значение в столбце 'day' равно параметру day и одновременно значение\n",
    "# в столбце 'city' равно параметру city (используйте последовательную фильтрацию\n",
    "# с помощью логической индексации).\n",
    "    track_list=df[(df['day']==day) & (df['city']==city)]\n",
    "# В переменной track_list_count сохраняется число значений столбца 'user_id',\n",
    "# рассчитанное методом count() для таблицы track_list.\n",
    "    track_list_count = track_list['user_id'].count()\n",
    "# Функция возвращает число - значение track_list_count.\n",
    "    return track_list_count\n",
    "# Функция для подсчёта прослушиваний для конкретного города и дня.\n",
    "# С помощью последовательной фильтрации с логической индексацией она \n",
    "# сначала получит из исходной таблицы строки с нужным днём,\n",
    "# затем из результата отфильтрует строки с нужным городом,\n",
    "# методом count() посчитает количество значений в колонке user_id. \n",
    "# Это количество функция вернёт в качестве результата"
   ]
  },
  {
   "cell_type": "markdown",
   "metadata": {},
   "source": [
    "<font color='blue'><b>Комментарий ревьюера: </b></font> ✔️\\\n",
    "<font color='green'>Твоя функция полностью выполняет свои задачи."
   ]
  },
  {
   "cell_type": "markdown",
   "metadata": {
    "id": "ytf7xFrFJQ2r"
   },
   "source": [
    "Вызовите `number_tracks()` шесть раз, меняя значение параметров — так, чтобы получить данные для каждого города в каждый из трёх дней."
   ]
  },
  {
   "cell_type": "code",
   "execution_count": 21,
   "metadata": {
    "id": "rJcRATNQ_Zcu"
   },
   "outputs": [
    {
     "data": {
      "text/plain": [
       "15740"
      ]
     },
     "execution_count": 21,
     "metadata": {},
     "output_type": "execute_result"
    }
   ],
   "source": [
    "number_tracks('Monday', 'Moscow') # количество прослушиваний в Москве по понедельникам"
   ]
  },
  {
   "cell_type": "code",
   "execution_count": 22,
   "metadata": {
    "id": "hq_ncZ5T_Zcu"
   },
   "outputs": [
    {
     "data": {
      "text/plain": [
       "5614"
      ]
     },
     "execution_count": 22,
     "metadata": {},
     "output_type": "execute_result"
    }
   ],
   "source": [
    "number_tracks('Monday', 'Saint-Petersburg') # количество прослушиваний в Санкт-Петербурге по понедельникам"
   ]
  },
  {
   "cell_type": "code",
   "execution_count": 23,
   "metadata": {
    "id": "_NTy2VPU_Zcu"
   },
   "outputs": [
    {
     "data": {
      "text/plain": [
       "11056"
      ]
     },
     "execution_count": 23,
     "metadata": {},
     "output_type": "execute_result"
    }
   ],
   "source": [
    "number_tracks('Wednesday', 'Moscow') # количество прослушиваний в Москве по средам"
   ]
  },
  {
   "cell_type": "code",
   "execution_count": 24,
   "metadata": {
    "id": "j2y3TAwo_Zcu"
   },
   "outputs": [
    {
     "data": {
      "text/plain": [
       "7003"
      ]
     },
     "execution_count": 24,
     "metadata": {},
     "output_type": "execute_result"
    }
   ],
   "source": [
    "number_tracks('Wednesday', 'Saint-Petersburg') # количество прослушиваний в Санкт-Петербурге по средам"
   ]
  },
  {
   "cell_type": "code",
   "execution_count": 25,
   "metadata": {
    "id": "vYDw5u_K_Zcu"
   },
   "outputs": [
    {
     "data": {
      "text/plain": [
       "15945"
      ]
     },
     "execution_count": 25,
     "metadata": {},
     "output_type": "execute_result"
    }
   ],
   "source": [
    "number_tracks('Friday', 'Moscow') # количество прослушиваний в Москве по пятницам"
   ]
  },
  {
   "cell_type": "code",
   "execution_count": 26,
   "metadata": {
    "id": "8_yzFtW3_Zcu"
   },
   "outputs": [
    {
     "data": {
      "text/plain": [
       "5895"
      ]
     },
     "execution_count": 26,
     "metadata": {},
     "output_type": "execute_result"
    }
   ],
   "source": [
    "number_tracks('Friday', 'Saint-Petersburg') # количество прослушиваний в Санкт-Петербурге по пятницам"
   ]
  },
  {
   "cell_type": "markdown",
   "metadata": {
    "id": "7QXffbO-_Zcu"
   },
   "source": [
    "Создайте c помощью конструктора `pd.DataFrame` таблицу, где\n",
    "* названия колонок — `['city', 'monday', 'wednesday', 'friday']`;\n",
    "* данные — результаты, которые вы получили с помощью `number_tracks`."
   ]
  },
  {
   "cell_type": "code",
   "execution_count": 27,
   "metadata": {
    "id": "APAcLpOr_Zcu"
   },
   "outputs": [
    {
     "data": {
      "text/html": [
       "<div>\n",
       "<style scoped>\n",
       "    .dataframe tbody tr th:only-of-type {\n",
       "        vertical-align: middle;\n",
       "    }\n",
       "\n",
       "    .dataframe tbody tr th {\n",
       "        vertical-align: top;\n",
       "    }\n",
       "\n",
       "    .dataframe thead th {\n",
       "        text-align: right;\n",
       "    }\n",
       "</style>\n",
       "<table border=\"1\" class=\"dataframe\">\n",
       "  <thead>\n",
       "    <tr style=\"text-align: right;\">\n",
       "      <th></th>\n",
       "      <th>city</th>\n",
       "      <th>monday</th>\n",
       "      <th>wednesday</th>\n",
       "      <th>friday</th>\n",
       "    </tr>\n",
       "  </thead>\n",
       "  <tbody>\n",
       "    <tr>\n",
       "      <td>0</td>\n",
       "      <td>Moscow</td>\n",
       "      <td>15740</td>\n",
       "      <td>11056</td>\n",
       "      <td>15945</td>\n",
       "    </tr>\n",
       "    <tr>\n",
       "      <td>1</td>\n",
       "      <td>Saint-Petersburg</td>\n",
       "      <td>5614</td>\n",
       "      <td>7003</td>\n",
       "      <td>5895</td>\n",
       "    </tr>\n",
       "  </tbody>\n",
       "</table>\n",
       "</div>"
      ],
      "text/plain": [
       "               city  monday  wednesday  friday\n",
       "0            Moscow   15740      11056   15945\n",
       "1  Saint-Petersburg    5614       7003    5895"
      ]
     },
     "metadata": {},
     "output_type": "display_data"
    }
   ],
   "source": [
    "data = [['Moscow', 15740, 11056, 15945],\n",
    "        ['Saint-Petersburg', 5614, 7003, 5895]] \n",
    "columns = ['city', 'monday', 'wednesday', 'friday'] \n",
    "table = pd.DataFrame(data = data, columns = columns) \n",
    "display(table) # Таблица с результатами"
   ]
  },
  {
   "cell_type": "markdown",
   "metadata": {},
   "source": [
    "<font color='blue'><b>Комментарий ревьюера: </b></font> ✔️\\\n",
    "<font color='green'>В таблице наглядней!"
   ]
  },
  {
   "cell_type": "markdown",
   "metadata": {
    "id": "-EgPIHYu_Zcu"
   },
   "source": [
    "**Выводы**\n",
    "\n",
    "Данные показывают разницу поведения пользователей:\n",
    "\n",
    "- В Москве пик прослушиваний приходится на понедельник и пятницу, а в среду заметен спад.\n",
    "- В Петербурге, наоборот, больше слушают музыку по средам. Активность в понедельник и пятницу здесь почти в равной мере уступает среде.\n",
    "\n",
    "Значит, данные говорят в пользу первой гипотезы."
   ]
  },
  {
   "cell_type": "markdown",
   "metadata": {
    "id": "atZAxtq4_Zcu"
   },
   "source": [
    "### Музыка в начале и в конце недели"
   ]
  },
  {
   "cell_type": "markdown",
   "metadata": {
    "id": "eXrQqXFH_Zcu"
   },
   "source": [
    "Согласно второй гипотезе, утром в понедельник в Москве преобладают одни жанры, а в Петербурге — другие. Так же и вечером пятницы преобладают разные жанры — в зависимости от города."
   ]
  },
  {
   "cell_type": "markdown",
   "metadata": {
    "id": "S8UcW6Hw_Zcu"
   },
   "source": [
    "Сохраните таблицы с данными в две переменные:\n",
    "* по Москве — в `moscow_general`;\n",
    "* по Санкт-Петербургу — в `spb_general`."
   ]
  },
  {
   "cell_type": "code",
   "execution_count": 28,
   "metadata": {
    "id": "qeaFfM_P_Zcu"
   },
   "outputs": [
    {
     "data": {
      "text/html": [
       "<div>\n",
       "<style scoped>\n",
       "    .dataframe tbody tr th:only-of-type {\n",
       "        vertical-align: middle;\n",
       "    }\n",
       "\n",
       "    .dataframe tbody tr th {\n",
       "        vertical-align: top;\n",
       "    }\n",
       "\n",
       "    .dataframe thead th {\n",
       "        text-align: right;\n",
       "    }\n",
       "</style>\n",
       "<table border=\"1\" class=\"dataframe\">\n",
       "  <thead>\n",
       "    <tr style=\"text-align: right;\">\n",
       "      <th></th>\n",
       "      <th>user_id</th>\n",
       "      <th>track</th>\n",
       "      <th>artist</th>\n",
       "      <th>genre</th>\n",
       "      <th>city</th>\n",
       "      <th>time</th>\n",
       "      <th>day</th>\n",
       "    </tr>\n",
       "  </thead>\n",
       "  <tbody>\n",
       "    <tr>\n",
       "      <td>1</td>\n",
       "      <td>55204538</td>\n",
       "      <td>Delayed Because of Accident</td>\n",
       "      <td>Andreas Rönnberg</td>\n",
       "      <td>rock</td>\n",
       "      <td>Moscow</td>\n",
       "      <td>14:07:09</td>\n",
       "      <td>Friday</td>\n",
       "    </tr>\n",
       "    <tr>\n",
       "      <td>4</td>\n",
       "      <td>E2DC1FAE</td>\n",
       "      <td>Soul People</td>\n",
       "      <td>Space Echo</td>\n",
       "      <td>dance</td>\n",
       "      <td>Moscow</td>\n",
       "      <td>08:34:34</td>\n",
       "      <td>Monday</td>\n",
       "    </tr>\n",
       "    <tr>\n",
       "      <td>6</td>\n",
       "      <td>4CB90AA5</td>\n",
       "      <td>True</td>\n",
       "      <td>Roman Messer</td>\n",
       "      <td>dance</td>\n",
       "      <td>Moscow</td>\n",
       "      <td>13:00:07</td>\n",
       "      <td>Wednesday</td>\n",
       "    </tr>\n",
       "    <tr>\n",
       "      <td>7</td>\n",
       "      <td>F03E1C1F</td>\n",
       "      <td>Feeling This Way</td>\n",
       "      <td>Polina Griffith</td>\n",
       "      <td>dance</td>\n",
       "      <td>Moscow</td>\n",
       "      <td>20:47:49</td>\n",
       "      <td>Wednesday</td>\n",
       "    </tr>\n",
       "    <tr>\n",
       "      <td>8</td>\n",
       "      <td>8FA1D3BE</td>\n",
       "      <td>И вновь продолжается бой</td>\n",
       "      <td>unknown</td>\n",
       "      <td>ruspop</td>\n",
       "      <td>Moscow</td>\n",
       "      <td>09:17:40</td>\n",
       "      <td>Friday</td>\n",
       "    </tr>\n",
       "    <tr>\n",
       "      <td>...</td>\n",
       "      <td>...</td>\n",
       "      <td>...</td>\n",
       "      <td>...</td>\n",
       "      <td>...</td>\n",
       "      <td>...</td>\n",
       "      <td>...</td>\n",
       "      <td>...</td>\n",
       "    </tr>\n",
       "    <tr>\n",
       "      <td>61247</td>\n",
       "      <td>83A474E7</td>\n",
       "      <td>I Worship Only What You Bleed</td>\n",
       "      <td>The Black Dahlia Murder</td>\n",
       "      <td>extrememetal</td>\n",
       "      <td>Moscow</td>\n",
       "      <td>21:07:12</td>\n",
       "      <td>Monday</td>\n",
       "    </tr>\n",
       "    <tr>\n",
       "      <td>61248</td>\n",
       "      <td>729CBB09</td>\n",
       "      <td>My Name</td>\n",
       "      <td>McLean</td>\n",
       "      <td>rnb</td>\n",
       "      <td>Moscow</td>\n",
       "      <td>13:32:28</td>\n",
       "      <td>Wednesday</td>\n",
       "    </tr>\n",
       "    <tr>\n",
       "      <td>61250</td>\n",
       "      <td>C5E3A0D5</td>\n",
       "      <td>Jalopiina</td>\n",
       "      <td>unknown</td>\n",
       "      <td>industrial</td>\n",
       "      <td>Moscow</td>\n",
       "      <td>20:09:26</td>\n",
       "      <td>Friday</td>\n",
       "    </tr>\n",
       "    <tr>\n",
       "      <td>61251</td>\n",
       "      <td>321D0506</td>\n",
       "      <td>Freight Train</td>\n",
       "      <td>Chas McDevitt</td>\n",
       "      <td>rock</td>\n",
       "      <td>Moscow</td>\n",
       "      <td>21:43:59</td>\n",
       "      <td>Friday</td>\n",
       "    </tr>\n",
       "    <tr>\n",
       "      <td>61252</td>\n",
       "      <td>3A64EF84</td>\n",
       "      <td>Tell Me Sweet Little Lies</td>\n",
       "      <td>Monica Lopez</td>\n",
       "      <td>country</td>\n",
       "      <td>Moscow</td>\n",
       "      <td>21:59:46</td>\n",
       "      <td>Friday</td>\n",
       "    </tr>\n",
       "  </tbody>\n",
       "</table>\n",
       "<p>42741 rows × 7 columns</p>\n",
       "</div>"
      ],
      "text/plain": [
       "        user_id                          track                   artist  \\\n",
       "1      55204538    Delayed Because of Accident         Andreas Rönnberg   \n",
       "4      E2DC1FAE                    Soul People               Space Echo   \n",
       "6      4CB90AA5                           True             Roman Messer   \n",
       "7      F03E1C1F               Feeling This Way          Polina Griffith   \n",
       "8      8FA1D3BE       И вновь продолжается бой                  unknown   \n",
       "...         ...                            ...                      ...   \n",
       "61247  83A474E7  I Worship Only What You Bleed  The Black Dahlia Murder   \n",
       "61248  729CBB09                        My Name                   McLean   \n",
       "61250  C5E3A0D5                      Jalopiina                  unknown   \n",
       "61251  321D0506                  Freight Train            Chas McDevitt   \n",
       "61252  3A64EF84      Tell Me Sweet Little Lies             Monica Lopez   \n",
       "\n",
       "              genre    city      time        day  \n",
       "1              rock  Moscow  14:07:09     Friday  \n",
       "4             dance  Moscow  08:34:34     Monday  \n",
       "6             dance  Moscow  13:00:07  Wednesday  \n",
       "7             dance  Moscow  20:47:49  Wednesday  \n",
       "8            ruspop  Moscow  09:17:40     Friday  \n",
       "...             ...     ...       ...        ...  \n",
       "61247  extrememetal  Moscow  21:07:12     Monday  \n",
       "61248           rnb  Moscow  13:32:28  Wednesday  \n",
       "61250    industrial  Moscow  20:09:26     Friday  \n",
       "61251          rock  Moscow  21:43:59     Friday  \n",
       "61252       country  Moscow  21:59:46     Friday  \n",
       "\n",
       "[42741 rows x 7 columns]"
      ]
     },
     "metadata": {},
     "output_type": "display_data"
    }
   ],
   "source": [
    "moscow_general = df[df['city'] == 'Moscow']\n",
    "display(moscow_general)\n",
    "# получение таблицы moscow_general из тех строк таблицы df, \n",
    "# для которых значение в столбце 'city' равно 'Moscow'\n"
   ]
  },
  {
   "cell_type": "code",
   "execution_count": 29,
   "metadata": {
    "id": "ORaVRKto_Zcu"
   },
   "outputs": [
    {
     "data": {
      "text/html": [
       "<div>\n",
       "<style scoped>\n",
       "    .dataframe tbody tr th:only-of-type {\n",
       "        vertical-align: middle;\n",
       "    }\n",
       "\n",
       "    .dataframe tbody tr th {\n",
       "        vertical-align: top;\n",
       "    }\n",
       "\n",
       "    .dataframe thead th {\n",
       "        text-align: right;\n",
       "    }\n",
       "</style>\n",
       "<table border=\"1\" class=\"dataframe\">\n",
       "  <thead>\n",
       "    <tr style=\"text-align: right;\">\n",
       "      <th></th>\n",
       "      <th>user_id</th>\n",
       "      <th>track</th>\n",
       "      <th>artist</th>\n",
       "      <th>genre</th>\n",
       "      <th>city</th>\n",
       "      <th>time</th>\n",
       "      <th>day</th>\n",
       "    </tr>\n",
       "  </thead>\n",
       "  <tbody>\n",
       "    <tr>\n",
       "      <td>0</td>\n",
       "      <td>FFB692EC</td>\n",
       "      <td>Kamigata To Boots</td>\n",
       "      <td>The Mass Missile</td>\n",
       "      <td>rock</td>\n",
       "      <td>Saint-Petersburg</td>\n",
       "      <td>20:28:33</td>\n",
       "      <td>Wednesday</td>\n",
       "    </tr>\n",
       "    <tr>\n",
       "      <td>2</td>\n",
       "      <td>20EC38</td>\n",
       "      <td>Funiculì funiculà</td>\n",
       "      <td>Mario Lanza</td>\n",
       "      <td>pop</td>\n",
       "      <td>Saint-Petersburg</td>\n",
       "      <td>20:58:07</td>\n",
       "      <td>Wednesday</td>\n",
       "    </tr>\n",
       "    <tr>\n",
       "      <td>3</td>\n",
       "      <td>A3DD03C9</td>\n",
       "      <td>Dragons in the Sunset</td>\n",
       "      <td>Fire + Ice</td>\n",
       "      <td>folk</td>\n",
       "      <td>Saint-Petersburg</td>\n",
       "      <td>08:37:09</td>\n",
       "      <td>Monday</td>\n",
       "    </tr>\n",
       "    <tr>\n",
       "      <td>5</td>\n",
       "      <td>842029A1</td>\n",
       "      <td>Преданная</td>\n",
       "      <td>IMPERVTOR</td>\n",
       "      <td>rusrap</td>\n",
       "      <td>Saint-Petersburg</td>\n",
       "      <td>13:09:41</td>\n",
       "      <td>Friday</td>\n",
       "    </tr>\n",
       "    <tr>\n",
       "      <td>9</td>\n",
       "      <td>E772D5C0</td>\n",
       "      <td>Pessimist</td>\n",
       "      <td>unknown</td>\n",
       "      <td>dance</td>\n",
       "      <td>Saint-Petersburg</td>\n",
       "      <td>21:20:49</td>\n",
       "      <td>Wednesday</td>\n",
       "    </tr>\n",
       "    <tr>\n",
       "      <td>...</td>\n",
       "      <td>...</td>\n",
       "      <td>...</td>\n",
       "      <td>...</td>\n",
       "      <td>...</td>\n",
       "      <td>...</td>\n",
       "      <td>...</td>\n",
       "      <td>...</td>\n",
       "    </tr>\n",
       "    <tr>\n",
       "      <td>61239</td>\n",
       "      <td>D94F810B</td>\n",
       "      <td>Theme from the Walking Dead</td>\n",
       "      <td>Proyecto Halloween</td>\n",
       "      <td>film</td>\n",
       "      <td>Saint-Petersburg</td>\n",
       "      <td>21:14:40</td>\n",
       "      <td>Monday</td>\n",
       "    </tr>\n",
       "    <tr>\n",
       "      <td>61240</td>\n",
       "      <td>BC8EC5CF</td>\n",
       "      <td>Red Lips: Gta (Rover Rework)</td>\n",
       "      <td>Rover</td>\n",
       "      <td>electronic</td>\n",
       "      <td>Saint-Petersburg</td>\n",
       "      <td>21:06:50</td>\n",
       "      <td>Monday</td>\n",
       "    </tr>\n",
       "    <tr>\n",
       "      <td>61241</td>\n",
       "      <td>29E04611</td>\n",
       "      <td>Bre Petrunko</td>\n",
       "      <td>Perunika Trio</td>\n",
       "      <td>world</td>\n",
       "      <td>Saint-Petersburg</td>\n",
       "      <td>13:56:00</td>\n",
       "      <td>Monday</td>\n",
       "    </tr>\n",
       "    <tr>\n",
       "      <td>61242</td>\n",
       "      <td>1B91C621</td>\n",
       "      <td>(Hello) Cloud Mountain</td>\n",
       "      <td>sleepmakeswaves</td>\n",
       "      <td>postrock</td>\n",
       "      <td>Saint-Petersburg</td>\n",
       "      <td>09:22:13</td>\n",
       "      <td>Monday</td>\n",
       "    </tr>\n",
       "    <tr>\n",
       "      <td>61249</td>\n",
       "      <td>D08D4A55</td>\n",
       "      <td>Maybe One Day (feat. Black Spade)</td>\n",
       "      <td>Blu &amp; Exile</td>\n",
       "      <td>hiphop</td>\n",
       "      <td>Saint-Petersburg</td>\n",
       "      <td>10:00:00</td>\n",
       "      <td>Monday</td>\n",
       "    </tr>\n",
       "  </tbody>\n",
       "</table>\n",
       "<p>18512 rows × 7 columns</p>\n",
       "</div>"
      ],
      "text/plain": [
       "        user_id                              track              artist  \\\n",
       "0      FFB692EC                  Kamigata To Boots    The Mass Missile   \n",
       "2        20EC38                  Funiculì funiculà         Mario Lanza   \n",
       "3      A3DD03C9              Dragons in the Sunset          Fire + Ice   \n",
       "5      842029A1                          Преданная           IMPERVTOR   \n",
       "9      E772D5C0                          Pessimist             unknown   \n",
       "...         ...                                ...                 ...   \n",
       "61239  D94F810B        Theme from the Walking Dead  Proyecto Halloween   \n",
       "61240  BC8EC5CF       Red Lips: Gta (Rover Rework)               Rover   \n",
       "61241  29E04611                       Bre Petrunko       Perunika Trio   \n",
       "61242  1B91C621             (Hello) Cloud Mountain     sleepmakeswaves   \n",
       "61249  D08D4A55  Maybe One Day (feat. Black Spade)         Blu & Exile   \n",
       "\n",
       "            genre              city      time        day  \n",
       "0            rock  Saint-Petersburg  20:28:33  Wednesday  \n",
       "2             pop  Saint-Petersburg  20:58:07  Wednesday  \n",
       "3            folk  Saint-Petersburg  08:37:09     Monday  \n",
       "5          rusrap  Saint-Petersburg  13:09:41     Friday  \n",
       "9           dance  Saint-Petersburg  21:20:49  Wednesday  \n",
       "...           ...               ...       ...        ...  \n",
       "61239        film  Saint-Petersburg  21:14:40     Monday  \n",
       "61240  electronic  Saint-Petersburg  21:06:50     Monday  \n",
       "61241       world  Saint-Petersburg  13:56:00     Monday  \n",
       "61242    postrock  Saint-Petersburg  09:22:13     Monday  \n",
       "61249      hiphop  Saint-Petersburg  10:00:00     Monday  \n",
       "\n",
       "[18512 rows x 7 columns]"
      ]
     },
     "metadata": {},
     "output_type": "display_data"
    }
   ],
   "source": [
    "spb_general = df[df['city'] == 'Saint-Petersburg']\n",
    "display(spb_general)\n",
    "# получение таблицы spb_general из тех строк таблицы df,\n",
    "# для которых значение в столбце 'city' равно 'Saint-Petersburg'\n"
   ]
  },
  {
   "cell_type": "markdown",
   "metadata": {},
   "source": [
    "<font color='blue'><b>Комментарий ревьюера: </b></font> ✔️\\\n",
    "<font color='green'>Срезы подготовлены!"
   ]
  },
  {
   "cell_type": "markdown",
   "metadata": {
    "id": "MEJV-CX2_Zcu"
   },
   "source": [
    "Создайте функцию `genre_weekday()` с четырьмя параметрами:\n",
    "* таблица (датафрейм) с данными,\n",
    "* день недели,\n",
    "* начальная временная метка в формате 'hh:mm', \n",
    "* последняя временная метка в формате 'hh:mm'.\n",
    "\n",
    "Функция должна вернуть информацию о топ-10 жанров тех треков, которые прослушивали в указанный день, в промежутке между двумя отметками времени."
   ]
  },
  {
   "cell_type": "code",
   "execution_count": 30,
   "metadata": {
    "id": "laJT9BYl_Zcu"
   },
   "outputs": [],
   "source": [
    "# Объявление функции genre_weekday() с параметрами table, day, time1, time2,\n",
    "# которая возвращает информацию о самых популярных жанрах в указанный день в\n",
    "# заданное время:\n",
    "def genre_weekday(table, day, time1, time2):\n",
    "# 1) в переменную genre_df сохраняются те строки переданного датафрейма table, для\n",
    "#    которых одновременно:\n",
    "#    - значение в столбце day равно значению аргумента day\n",
    "#    - значение в столбце time больше значения аргумента time1\n",
    "#    - значение в столбце time меньше значения аргумента time2\n",
    "#    Используйте последовательную фильтрацию с помощью логической индексации.\n",
    "    genre_df = table[table['day'] == day]\n",
    "    genre_df = genre_df[genre_df['time'] > time1]\n",
    "    genre_df = genre_df[genre_df['time'] < time2]\n",
    "# 2) сгруппировать датафрейм genre_df по столбцу genre, взять один из его\n",
    "#    столбцов и посчитать методом count() количество записей для каждого из\n",
    "#    присутствующих жанров, получившийся Series записать в переменную\n",
    "#    genre_df_count\n",
    "    genre_df_count = genre_df.groupby('genre')['genre'].count()\n",
    "# 3) отсортировать genre_df_count по убыванию встречаемости и сохранить\n",
    "#    в переменную genre_df_sorted\n",
    "    genre_df_sorted = genre_df_count.sort_values(ascending=False)\n",
    "# 4) вернуть Series из 10 первых значений genre_df_sorted, это будут топ-10\n",
    "#    популярных жанров (в указанный день, в заданное время)\n",
    "    return genre_df_sorted.head(10)"
   ]
  },
  {
   "cell_type": "markdown",
   "metadata": {},
   "source": [
    "<font color='blue'><b>Комментарий ревьюера: </b></font> ✔️\\\n",
    "<font color='green'> Класс! 👍 \\\n",
    "Обрати внимание как сгруппированы и посчитаны значения в п.2) \\\n",
    "В блоке 3.1 надо сделать так же )) "
   ]
  },
  {
   "cell_type": "markdown",
   "metadata": {
    "id": "la2s2_PF_Zcu"
   },
   "source": [
    "Cравните результаты функции `genre_weekday()` для Москвы и Санкт-Петербурга в понедельник утром (с 7:00 до 11:00) и в пятницу вечером (с 17:00 до 23:00):"
   ]
  },
  {
   "cell_type": "code",
   "execution_count": 31,
   "metadata": {
    "id": "yz7itPUQ_Zcu"
   },
   "outputs": [
    {
     "data": {
      "text/plain": [
       "genre\n",
       "pop            781\n",
       "dance          549\n",
       "electronic     480\n",
       "rock           474\n",
       "hiphop         286\n",
       "ruspop         186\n",
       "world          181\n",
       "rusrap         175\n",
       "alternative    164\n",
       "unknown        161\n",
       "Name: genre, dtype: int64"
      ]
     },
     "execution_count": 31,
     "metadata": {},
     "output_type": "execute_result"
    }
   ],
   "source": [
    "genre_weekday(moscow_general, 'Monday', '07:00', '11:00') # вызов функции для утра понедельника в Москве"
   ]
  },
  {
   "cell_type": "code",
   "execution_count": 32,
   "metadata": {
    "id": "kwUcHPdy_Zcu"
   },
   "outputs": [
    {
     "data": {
      "text/plain": [
       "genre\n",
       "pop            218\n",
       "dance          182\n",
       "rock           162\n",
       "electronic     147\n",
       "hiphop          80\n",
       "ruspop          64\n",
       "alternative     58\n",
       "rusrap          55\n",
       "jazz            44\n",
       "classical       40\n",
       "Name: genre, dtype: int64"
      ]
     },
     "execution_count": 32,
     "metadata": {},
     "output_type": "execute_result"
    }
   ],
   "source": [
    "genre_weekday(spb_general, 'Monday', '07:00', '11:00') # вызов функции для утра понедельника в Петербурге"
   ]
  },
  {
   "cell_type": "code",
   "execution_count": 33,
   "metadata": {
    "id": "EzXVRE1o_Zcu"
   },
   "outputs": [
    {
     "data": {
      "text/plain": [
       "genre\n",
       "pop            713\n",
       "rock           517\n",
       "dance          495\n",
       "electronic     482\n",
       "hiphop         273\n",
       "world          208\n",
       "ruspop         170\n",
       "alternative    163\n",
       "classical      163\n",
       "rusrap         142\n",
       "Name: genre, dtype: int64"
      ]
     },
     "execution_count": 33,
     "metadata": {},
     "output_type": "execute_result"
    }
   ],
   "source": [
    "genre_weekday(moscow_general, 'Friday', '17:00', '23:00') # вызов функции для вечера пятницы в Москве"
   ]
  },
  {
   "cell_type": "code",
   "execution_count": 34,
   "metadata": {
    "id": "JZaEKu5v_Zcu"
   },
   "outputs": [
    {
     "data": {
      "text/plain": [
       "genre\n",
       "pop            256\n",
       "rock           216\n",
       "electronic     216\n",
       "dance          210\n",
       "hiphop          97\n",
       "alternative     63\n",
       "jazz            61\n",
       "classical       60\n",
       "rusrap          59\n",
       "world           54\n",
       "Name: genre, dtype: int64"
      ]
     },
     "execution_count": 34,
     "metadata": {},
     "output_type": "execute_result"
    }
   ],
   "source": [
    "genre_weekday(spb_general, 'Friday', '17:00', '23:00') # вызов функции для вечера пятницы в Петербурге"
   ]
  },
  {
   "cell_type": "markdown",
   "metadata": {},
   "source": [
    "<font color='blue'><b>Комментарий ревьюера: </b></font> ✔️\\\n",
    "<font color='green'>С помощью функции мы получили всю нужную информацию!"
   ]
  },
  {
   "cell_type": "markdown",
   "metadata": {
    "id": "wrCe4MNX_Zcu"
   },
   "source": [
    "**Выводы**\n",
    "\n",
    "Если сравнить топ-10 жанров в понедельник утром, можно сделать такие выводы:\n",
    "\n",
    "1. В Москве и Петербурге слушают похожую музыку. Единственное отличие — в московский рейтинг вошёл жанр “world”, а в петербургский — джаз и классика.\n",
    "\n",
    "2. В Москве пропущенных значений оказалось так много, что значение `'unknown'` заняло десятое место среди самых популярных жанров. Значит, пропущенные значения занимают существенную долю в данных и угрожают достоверности исследования.\n",
    "\n",
    "Вечер пятницы не меняет эту картину. Некоторые жанры поднимаются немного выше, другие спускаются, но в целом топ-10 остаётся тем же самым.\n",
    "\n",
    "Таким образом, вторая гипотеза подтвердилась лишь частично:\n",
    "* Пользователи слушают похожую музыку в начале недели и в конце.\n",
    "* Разница между Москвой и Петербургом не слишком выражена. В Москве чаще слушают русскую популярную музыку, в Петербурге — джаз.\n",
    "\n",
    "Однако пропуски в данных ставят под сомнение этот результат. В Москве их так много, что рейтинг топ-10 мог бы выглядеть иначе, если бы не утерянные  данные о жанрах."
   ]
  },
  {
   "cell_type": "markdown",
   "metadata": {
    "id": "JolODAqr_Zcu"
   },
   "source": [
    "### Жанровые предпочтения в Москве и Петербурге\n",
    "\n",
    "Гипотеза: Петербург — столица рэпа, музыку этого жанра там слушают чаще, чем в Москве.  А Москва — город контрастов, в котором, тем не менее, преобладает поп-музыка."
   ]
  },
  {
   "cell_type": "markdown",
   "metadata": {
    "id": "DlegSvaT_Zcu"
   },
   "source": [
    "Сгруппируйте таблицу `moscow_general` по жанру и посчитайте прослушивания треков каждого жанра методом `count()`. Затем отсортируйте результат в порядке убывания и сохраните его в таблице `moscow_genres`."
   ]
  },
  {
   "cell_type": "code",
   "execution_count": 35,
   "metadata": {
    "id": "r19lIPke_Zcu"
   },
   "outputs": [],
   "source": [
    "# одной строкой: группировка таблицы moscow_general по столбцу 'genre', \n",
    "# подсчёт числа значений 'genre' в этой группировке методом count(), \n",
    "# сортировка получившегося Series в порядке убывания и сохранение в moscow_genres\n",
    "moscow_genres = moscow_general.groupby('genre').count().sort_values(by='track', ascending=False)"
   ]
  },
  {
   "cell_type": "markdown",
   "metadata": {
    "id": "6kMuomxTiIr8"
   },
   "source": [
    "Выведите на экран первые десять строк `moscow_genres`:"
   ]
  },
  {
   "cell_type": "code",
   "execution_count": 36,
   "metadata": {
    "id": "WhCSooF8_Zcv"
   },
   "outputs": [
    {
     "data": {
      "text/plain": [
       "genre\n",
       "pop            5892\n",
       "dance          4435\n",
       "rock           3965\n",
       "electronic     3786\n",
       "hiphop         2096\n",
       "classical      1616\n",
       "world          1432\n",
       "alternative    1379\n",
       "ruspop         1372\n",
       "rusrap         1161\n",
       "Name: track, dtype: int64"
      ]
     },
     "execution_count": 36,
     "metadata": {},
     "output_type": "execute_result"
    }
   ],
   "source": [
    "#moscow_genres.head(10) # просмотр первых 10 строк moscow_genres\n",
    "moscow_genres['track'].head(10)"
   ]
  },
  {
   "cell_type": "markdown",
   "metadata": {},
   "source": [
    "<font color='blue'><b>Комментарий ревьюера: </b></font> ❌\\\n",
    "<font color='red'>Здесь тоже нужно оставить только один столбец. "
   ]
  },
  {
   "cell_type": "markdown",
   "metadata": {},
   "source": [
    "<font color='blue'><b>Комментарий ревьюера 2: </b></font> ✔️\\\n",
    "<font color='green'> Отлично!"
   ]
  },
  {
   "cell_type": "markdown",
   "metadata": {
    "id": "cnPG2vnN_Zcv"
   },
   "source": [
    "Теперь повторите то же и для Петербурга.\n",
    "\n",
    "Сгруппируйте таблицу `spb_general` по жанру. Посчитайте прослушивания треков каждого жанра. Результат отсортируйте в порядке убывания и сохраните в таблице `spb_genres`:\n"
   ]
  },
  {
   "cell_type": "code",
   "execution_count": 37,
   "metadata": {
    "id": "gluLIpE7_Zcv"
   },
   "outputs": [],
   "source": [
    "# одной строкой: группировка таблицы spb_general по столбцу 'genre', \n",
    "# подсчёт числа значений 'genre' в этой группировке методом count(), \n",
    "# сортировка получившегося Series в порядке убывания и сохранение в spb_genres\n",
    "spb_genres = spb_general.groupby('genre').count().sort_values(by='track', ascending=False)"
   ]
  },
  {
   "cell_type": "markdown",
   "metadata": {
    "id": "5Doha_ODgyQ8"
   },
   "source": [
    "Выведите на экран первые десять строк `spb_genres`:"
   ]
  },
  {
   "cell_type": "code",
   "execution_count": 38,
   "metadata": {
    "id": "uaGJHjVU_Zcv"
   },
   "outputs": [
    {
     "data": {
      "text/plain": [
       "genre\n",
       "pop            2431\n",
       "dance          1932\n",
       "rock           1879\n",
       "electronic     1736\n",
       "hiphop          960\n",
       "alternative     649\n",
       "classical       646\n",
       "rusrap          564\n",
       "ruspop          538\n",
       "world           515\n",
       "Name: track, dtype: int64"
      ]
     },
     "execution_count": 38,
     "metadata": {},
     "output_type": "execute_result"
    }
   ],
   "source": [
    "spb_genres['track'].head(10) # просмотр первых 10 строк spb_genres"
   ]
  },
  {
   "cell_type": "markdown",
   "metadata": {},
   "source": [
    "<font color='blue'><b>Комментарий ревьюера: </b></font> ❌\\\n",
    "<font color='red'> То же замечание."
   ]
  },
  {
   "cell_type": "markdown",
   "metadata": {},
   "source": [
    "<font color='blue'><b>Комментарий ревьюера 2: </b></font> ✔️\\\n",
    "<font color='green'>  👍"
   ]
  },
  {
   "cell_type": "markdown",
   "metadata": {
    "id": "RY51YJYu_Zcv"
   },
   "source": [
    "**Выводы**"
   ]
  },
  {
   "cell_type": "markdown",
   "metadata": {
    "id": "nVhnJEm__Zcv"
   },
   "source": [
    "Гипотеза частично подтвердилась:\n",
    "* Поп-музыка — самый популярный жанр в Москве, как и предполагала гипотеза. Более того, в топ-10 жанров встречается близкий жанр — русская популярная музыка.\n",
    "* Вопреки ожиданиям, рэп одинаково популярен в Москве и Петербурге. \n"
   ]
  },
  {
   "cell_type": "markdown",
   "metadata": {
    "id": "ykKQ0N65_Zcv"
   },
   "source": [
    "## Итоги исследования"
   ]
  },
  {
   "cell_type": "markdown",
   "metadata": {
    "id": "tjUwbHb3_Zcv"
   },
   "source": [
    "Вы проверили три гипотезы и установили:\n",
    "\n",
    "1. День недели по-разному влияет на активность пользователей в Москве и Петербурге. \n",
    "\n",
    "Первая гипотеза полностью подтвердилась.\n",
    "\n",
    "2. Музыкальные предпочтения не сильно меняются в течение недели — будь то Москва или Петербург. Небольшие различия заметны в начале недели, по понедельникам:\n",
    "* в Москве слушают музыку жанра “world”,\n",
    "* в Петербурге — джаз и классику.\n",
    "\n",
    "Таким образом, вторая гипотеза подтвердилась лишь отчасти. Этот результат мог оказаться иным, если бы не пропуски в данных.\n",
    "\n",
    "3. Во вкусах пользователей Москвы и Петербурга больше общего чем различий. Вопреки ожиданиям, предпочтения жанров в Петербурге напоминают московские.\n",
    "\n",
    "Третья гипотеза не подтвердилась. Если различия в предпочтениях и существуют, на основной массе пользователей они незаметны.\n",
    "\n",
    "**На практике исследования содержат проверки статистических гипотез.**\n",
    "Из данных одного сервиса не всегда можно сделать вывод о всех жителях города.\n",
    "Проверки статистических гипотез покажут, насколько они достоверны, исходя из имеющихся данных. \n",
    "С методами проверок гипотез вы ещё познакомитесь в следующих темах."
   ]
  },
  {
   "cell_type": "markdown",
   "metadata": {},
   "source": [
    "<font color='blue'><b>Итоговый комментарий ревьюера</b></font>\\\n",
    "<font color='green'>Никита, хороший проект получился! \\\n",
    "Код исполняется, заменены пропуски, удалены дубликаты, сделаны групировки данных и срезы. Есть циклы и функции. ты получаешь верные значения!</font>\n",
    "\n",
    "<font color='blue'>Что нужно исправить:</font>\n",
    "<ul><font color='red'>Сортировка уникальных жанров.</font></ul>\n",
    "<ul><font color='red'>Индексация по одному столбцу между методами groupby и count в блоках 3.1 и 3.3.</font></ul>\n",
    "\n",
    "<font color='blue'>Что можно сделать лучше:</font>\n",
    "<font color='orange'>Рекомендации отмечены оранжевым цветом.</font></ul>\n",
    "\n",
    "<font color='blue'><b>Спасибо, удачи :)</b></font>"
   ]
  },
  {
   "cell_type": "markdown",
   "metadata": {},
   "source": [
    "<font color='blue'><b>Итоговый комментарий ревьюера 2</b></font>\\\n",
    "<font color='green'>Никита, проект принят! \\\n",
    "Все рекомендации учтены.</font> \\\n",
    "<font color='blue'><b>Успеха в обучении!</b></font> "
   ]
  }
 ],
 "metadata": {
  "ExecuteTimeLog": [
   {
    "duration": 2323,
    "start_time": "2022-03-04T10:12:53.637Z"
   },
   {
    "duration": 1543,
    "start_time": "2022-03-04T10:12:56.670Z"
   },
   {
    "duration": 1563,
    "start_time": "2022-03-04T10:13:15.582Z"
   },
   {
    "duration": 240,
    "start_time": "2022-03-04T10:13:42.285Z"
   },
   {
    "duration": 2149,
    "start_time": "2022-03-04T10:16:13.447Z"
   },
   {
    "duration": 143,
    "start_time": "2022-03-04T10:16:34.061Z"
   },
   {
    "duration": 7,
    "start_time": "2022-03-04T10:16:41.080Z"
   },
   {
    "duration": 7,
    "start_time": "2022-03-04T10:16:54.923Z"
   },
   {
    "duration": 25,
    "start_time": "2022-03-04T10:18:13.803Z"
   },
   {
    "duration": 9,
    "start_time": "2022-03-04T10:23:14.620Z"
   },
   {
    "duration": 12,
    "start_time": "2022-03-04T10:32:19.036Z"
   },
   {
    "duration": 4,
    "start_time": "2022-03-04T10:32:23.560Z"
   },
   {
    "duration": 11,
    "start_time": "2022-03-04T10:32:49.709Z"
   },
   {
    "duration": 22,
    "start_time": "2022-03-04T10:35:17.061Z"
   },
   {
    "duration": 5018,
    "start_time": "2022-03-04T10:40:35.865Z"
   },
   {
    "duration": 22,
    "start_time": "2022-03-04T10:41:10.427Z"
   },
   {
    "duration": 5,
    "start_time": "2022-03-04T10:41:53.324Z"
   },
   {
    "duration": 16,
    "start_time": "2022-03-04T10:42:03.652Z"
   },
   {
    "duration": 14,
    "start_time": "2022-03-04T10:42:49.138Z"
   },
   {
    "duration": 14,
    "start_time": "2022-03-04T10:43:44.552Z"
   },
   {
    "duration": 302,
    "start_time": "2022-03-04T10:45:03.063Z"
   },
   {
    "duration": 576,
    "start_time": "2022-03-04T10:45:13.910Z"
   },
   {
    "duration": 141,
    "start_time": "2022-03-04T10:46:03.371Z"
   },
   {
    "duration": 10,
    "start_time": "2022-03-04T10:46:03.513Z"
   },
   {
    "duration": 31,
    "start_time": "2022-03-04T10:46:03.525Z"
   },
   {
    "duration": 5,
    "start_time": "2022-03-04T10:46:13.910Z"
   },
   {
    "duration": 22,
    "start_time": "2022-03-04T10:46:19.861Z"
   },
   {
    "duration": 4,
    "start_time": "2022-03-04T10:46:25.357Z"
   },
   {
    "duration": 24,
    "start_time": "2022-03-04T10:46:30.708Z"
   },
   {
    "duration": 26,
    "start_time": "2022-03-04T10:46:39.121Z"
   },
   {
    "duration": 13,
    "start_time": "2022-03-04T10:46:45.203Z"
   },
   {
    "duration": 617,
    "start_time": "2022-03-07T12:58:11.573Z"
   },
   {
    "duration": 147,
    "start_time": "2022-03-07T12:58:12.192Z"
   },
   {
    "duration": 19,
    "start_time": "2022-03-07T12:58:12.341Z"
   },
   {
    "duration": 42,
    "start_time": "2022-03-07T12:58:12.362Z"
   },
   {
    "duration": 4,
    "start_time": "2022-03-07T12:58:12.406Z"
   },
   {
    "duration": 25,
    "start_time": "2022-03-07T12:58:12.412Z"
   },
   {
    "duration": 4,
    "start_time": "2022-03-07T12:58:12.439Z"
   },
   {
    "duration": 27,
    "start_time": "2022-03-07T12:58:12.446Z"
   },
   {
    "duration": 52,
    "start_time": "2022-03-07T12:58:12.476Z"
   },
   {
    "duration": 14,
    "start_time": "2022-03-07T12:58:12.530Z"
   },
   {
    "duration": 5,
    "start_time": "2022-03-07T12:58:12.546Z"
   },
   {
    "duration": 10,
    "start_time": "2022-03-07T12:58:12.553Z"
   },
   {
    "duration": 11,
    "start_time": "2022-03-07T12:58:12.565Z"
   },
   {
    "duration": 23,
    "start_time": "2022-03-07T12:58:12.578Z"
   },
   {
    "duration": 9,
    "start_time": "2022-03-07T12:58:12.603Z"
   },
   {
    "duration": 5,
    "start_time": "2022-03-07T12:58:12.614Z"
   },
   {
    "duration": 7,
    "start_time": "2022-03-07T12:58:12.621Z"
   },
   {
    "duration": 6,
    "start_time": "2022-03-07T12:58:12.630Z"
   },
   {
    "duration": 7,
    "start_time": "2022-03-07T12:58:12.638Z"
   },
   {
    "duration": 7,
    "start_time": "2022-03-07T12:58:12.648Z"
   },
   {
    "duration": 17,
    "start_time": "2022-03-07T12:58:12.656Z"
   },
   {
    "duration": 15,
    "start_time": "2022-03-07T12:58:12.675Z"
   },
   {
    "duration": 10,
    "start_time": "2022-03-07T12:58:12.693Z"
   },
   {
    "duration": 9,
    "start_time": "2022-03-07T12:58:12.705Z"
   },
   {
    "duration": 12,
    "start_time": "2022-03-07T12:58:12.716Z"
   },
   {
    "duration": 12,
    "start_time": "2022-03-07T12:58:12.730Z"
   },
   {
    "duration": 14,
    "start_time": "2022-03-07T12:58:12.744Z"
   },
   {
    "duration": 11,
    "start_time": "2022-03-07T12:58:12.760Z"
   },
   {
    "duration": 13,
    "start_time": "2022-03-07T12:58:12.773Z"
   },
   {
    "duration": 14,
    "start_time": "2022-03-07T12:58:12.788Z"
   },
   {
    "duration": 16,
    "start_time": "2022-03-07T12:58:12.804Z"
   },
   {
    "duration": 11,
    "start_time": "2022-03-07T12:58:12.821Z"
   },
   {
    "duration": 12,
    "start_time": "2022-03-07T12:58:12.834Z"
   },
   {
    "duration": 9,
    "start_time": "2022-03-07T12:58:12.849Z"
   },
   {
    "duration": 11,
    "start_time": "2022-03-07T12:58:12.859Z"
   },
   {
    "duration": 10,
    "start_time": "2022-03-07T12:58:12.872Z"
   },
   {
    "duration": 8,
    "start_time": "2022-03-07T12:58:12.884Z"
   },
   {
    "duration": 14,
    "start_time": "2022-03-07T12:58:12.894Z"
   },
   {
    "duration": 14,
    "start_time": "2022-03-07T12:59:54.129Z"
   },
   {
    "duration": 14,
    "start_time": "2022-03-07T13:00:56.830Z"
   },
   {
    "duration": 102,
    "start_time": "2022-03-07T13:02:28.071Z"
   },
   {
    "duration": 34,
    "start_time": "2022-03-07T13:02:34.882Z"
   },
   {
    "duration": 39,
    "start_time": "2022-03-07T13:04:43.933Z"
   },
   {
    "duration": 28,
    "start_time": "2022-03-07T13:05:21.540Z"
   },
   {
    "duration": 6,
    "start_time": "2022-03-07T13:07:58.836Z"
   },
   {
    "duration": 4,
    "start_time": "2022-03-07T13:19:51.907Z"
   },
   {
    "duration": 466,
    "start_time": "2022-03-07T13:20:03.455Z"
   },
   {
    "duration": 622,
    "start_time": "2022-03-07T13:20:18.967Z"
   },
   {
    "duration": 141,
    "start_time": "2022-03-07T13:20:19.591Z"
   },
   {
    "duration": 18,
    "start_time": "2022-03-07T13:20:19.734Z"
   },
   {
    "duration": 28,
    "start_time": "2022-03-07T13:20:19.754Z"
   },
   {
    "duration": 5,
    "start_time": "2022-03-07T13:20:19.800Z"
   },
   {
    "duration": 30,
    "start_time": "2022-03-07T13:20:19.807Z"
   },
   {
    "duration": 8,
    "start_time": "2022-03-07T13:20:19.839Z"
   },
   {
    "duration": 27,
    "start_time": "2022-03-07T13:20:19.850Z"
   },
   {
    "duration": 43,
    "start_time": "2022-03-07T13:20:19.879Z"
   },
   {
    "duration": 15,
    "start_time": "2022-03-07T13:20:19.924Z"
   },
   {
    "duration": 37,
    "start_time": "2022-03-07T13:20:19.941Z"
   },
   {
    "duration": 55,
    "start_time": "2022-03-07T13:20:19.980Z"
   },
   {
    "duration": 30,
    "start_time": "2022-03-07T13:20:20.037Z"
   },
   {
    "duration": 5,
    "start_time": "2022-03-07T13:20:20.069Z"
   },
   {
    "duration": 26,
    "start_time": "2022-03-07T13:20:20.076Z"
   },
   {
    "duration": 279,
    "start_time": "2022-03-07T13:20:20.105Z"
   },
   {
    "duration": -4720,
    "start_time": "2022-03-07T13:20:25.106Z"
   },
   {
    "duration": -4723,
    "start_time": "2022-03-07T13:20:25.110Z"
   },
   {
    "duration": -4725,
    "start_time": "2022-03-07T13:20:25.114Z"
   },
   {
    "duration": -4728,
    "start_time": "2022-03-07T13:20:25.118Z"
   },
   {
    "duration": -4732,
    "start_time": "2022-03-07T13:20:25.123Z"
   },
   {
    "duration": -4734,
    "start_time": "2022-03-07T13:20:25.126Z"
   },
   {
    "duration": -4736,
    "start_time": "2022-03-07T13:20:25.129Z"
   },
   {
    "duration": -4739,
    "start_time": "2022-03-07T13:20:25.133Z"
   },
   {
    "duration": -4742,
    "start_time": "2022-03-07T13:20:25.137Z"
   },
   {
    "duration": -4743,
    "start_time": "2022-03-07T13:20:25.140Z"
   },
   {
    "duration": -4745,
    "start_time": "2022-03-07T13:20:25.143Z"
   },
   {
    "duration": -4748,
    "start_time": "2022-03-07T13:20:25.147Z"
   },
   {
    "duration": -4750,
    "start_time": "2022-03-07T13:20:25.150Z"
   },
   {
    "duration": -4753,
    "start_time": "2022-03-07T13:20:25.154Z"
   },
   {
    "duration": -4754,
    "start_time": "2022-03-07T13:20:25.157Z"
   },
   {
    "duration": -4756,
    "start_time": "2022-03-07T13:20:25.160Z"
   },
   {
    "duration": -4758,
    "start_time": "2022-03-07T13:20:25.163Z"
   },
   {
    "duration": -4761,
    "start_time": "2022-03-07T13:20:25.167Z"
   },
   {
    "duration": -4763,
    "start_time": "2022-03-07T13:20:25.170Z"
   },
   {
    "duration": -4765,
    "start_time": "2022-03-07T13:20:25.173Z"
   },
   {
    "duration": -4776,
    "start_time": "2022-03-07T13:20:25.186Z"
   },
   {
    "duration": -4779,
    "start_time": "2022-03-07T13:20:25.189Z"
   },
   {
    "duration": 790,
    "start_time": "2022-03-09T09:40:01.938Z"
   },
   {
    "duration": 188,
    "start_time": "2022-03-09T09:40:02.730Z"
   },
   {
    "duration": 26,
    "start_time": "2022-03-09T09:40:02.921Z"
   },
   {
    "duration": 51,
    "start_time": "2022-03-09T09:40:02.949Z"
   },
   {
    "duration": 6,
    "start_time": "2022-03-09T09:40:03.003Z"
   },
   {
    "duration": 32,
    "start_time": "2022-03-09T09:40:03.012Z"
   },
   {
    "duration": 6,
    "start_time": "2022-03-09T09:40:03.074Z"
   },
   {
    "duration": 34,
    "start_time": "2022-03-09T09:40:03.084Z"
   },
   {
    "duration": 62,
    "start_time": "2022-03-09T09:40:03.121Z"
   },
   {
    "duration": 18,
    "start_time": "2022-03-09T09:40:03.186Z"
   },
   {
    "duration": 68,
    "start_time": "2022-03-09T09:40:03.206Z"
   },
   {
    "duration": 53,
    "start_time": "2022-03-09T09:40:03.276Z"
   },
   {
    "duration": 68,
    "start_time": "2022-03-09T09:40:03.331Z"
   },
   {
    "duration": 7,
    "start_time": "2022-03-09T09:40:03.402Z"
   },
   {
    "duration": 38,
    "start_time": "2022-03-09T09:40:03.412Z"
   },
   {
    "duration": 444,
    "start_time": "2022-03-09T09:40:03.452Z"
   },
   {
    "duration": -7731,
    "start_time": "2022-03-09T09:40:11.631Z"
   },
   {
    "duration": -7735,
    "start_time": "2022-03-09T09:40:11.637Z"
   },
   {
    "duration": -7740,
    "start_time": "2022-03-09T09:40:11.644Z"
   },
   {
    "duration": -7745,
    "start_time": "2022-03-09T09:40:11.651Z"
   },
   {
    "duration": -7750,
    "start_time": "2022-03-09T09:40:11.658Z"
   },
   {
    "duration": -7754,
    "start_time": "2022-03-09T09:40:11.664Z"
   },
   {
    "duration": -7758,
    "start_time": "2022-03-09T09:40:11.670Z"
   },
   {
    "duration": -7763,
    "start_time": "2022-03-09T09:40:11.678Z"
   },
   {
    "duration": -7767,
    "start_time": "2022-03-09T09:40:11.684Z"
   },
   {
    "duration": -7772,
    "start_time": "2022-03-09T09:40:11.691Z"
   },
   {
    "duration": -7785,
    "start_time": "2022-03-09T09:40:11.706Z"
   },
   {
    "duration": -7789,
    "start_time": "2022-03-09T09:40:11.712Z"
   },
   {
    "duration": -7793,
    "start_time": "2022-03-09T09:40:11.718Z"
   },
   {
    "duration": -7797,
    "start_time": "2022-03-09T09:40:11.724Z"
   },
   {
    "duration": -7801,
    "start_time": "2022-03-09T09:40:11.730Z"
   },
   {
    "duration": -7805,
    "start_time": "2022-03-09T09:40:11.736Z"
   },
   {
    "duration": -7807,
    "start_time": "2022-03-09T09:40:11.741Z"
   },
   {
    "duration": -7812,
    "start_time": "2022-03-09T09:40:11.749Z"
   },
   {
    "duration": -7817,
    "start_time": "2022-03-09T09:40:11.755Z"
   },
   {
    "duration": -7822,
    "start_time": "2022-03-09T09:40:11.761Z"
   },
   {
    "duration": -7793,
    "start_time": "2022-03-09T09:40:11.767Z"
   },
   {
    "duration": -7799,
    "start_time": "2022-03-09T09:40:11.774Z"
   },
   {
    "duration": 263,
    "start_time": "2022-03-09T09:43:08.349Z"
   },
   {
    "duration": 19,
    "start_time": "2022-03-09T09:44:03.012Z"
   },
   {
    "duration": 8,
    "start_time": "2022-03-09T09:44:46.188Z"
   },
   {
    "duration": 263,
    "start_time": "2022-03-09T09:47:42.178Z"
   },
   {
    "duration": 7,
    "start_time": "2022-03-09T09:47:54.261Z"
   },
   {
    "duration": 4,
    "start_time": "2022-03-09T09:55:52.589Z"
   },
   {
    "duration": 21,
    "start_time": "2022-03-09T09:55:55.976Z"
   },
   {
    "duration": 7,
    "start_time": "2022-03-09T09:56:02.845Z"
   },
   {
    "duration": 8,
    "start_time": "2022-03-09T09:56:44.101Z"
   },
   {
    "duration": 17,
    "start_time": "2022-03-09T09:57:03.070Z"
   },
   {
    "duration": 5,
    "start_time": "2022-03-09T09:57:17.425Z"
   },
   {
    "duration": 17,
    "start_time": "2022-03-09T09:57:33.331Z"
   },
   {
    "duration": 11,
    "start_time": "2022-03-09T09:57:46.625Z"
   },
   {
    "duration": 798,
    "start_time": "2022-03-09T09:58:03.676Z"
   },
   {
    "duration": 202,
    "start_time": "2022-03-09T09:58:04.478Z"
   },
   {
    "duration": 27,
    "start_time": "2022-03-09T09:58:04.683Z"
   },
   {
    "duration": 43,
    "start_time": "2022-03-09T09:58:04.713Z"
   },
   {
    "duration": 6,
    "start_time": "2022-03-09T09:58:04.774Z"
   },
   {
    "duration": 47,
    "start_time": "2022-03-09T09:58:04.782Z"
   },
   {
    "duration": 9,
    "start_time": "2022-03-09T09:58:04.832Z"
   },
   {
    "duration": 44,
    "start_time": "2022-03-09T09:58:04.846Z"
   },
   {
    "duration": 48,
    "start_time": "2022-03-09T09:58:04.894Z"
   },
   {
    "duration": 29,
    "start_time": "2022-03-09T09:58:04.944Z"
   },
   {
    "duration": 51,
    "start_time": "2022-03-09T09:58:04.975Z"
   },
   {
    "duration": 74,
    "start_time": "2022-03-09T09:58:05.028Z"
   },
   {
    "duration": 44,
    "start_time": "2022-03-09T09:58:05.105Z"
   },
   {
    "duration": 25,
    "start_time": "2022-03-09T09:58:05.152Z"
   },
   {
    "duration": 12,
    "start_time": "2022-03-09T09:58:05.180Z"
   },
   {
    "duration": 20,
    "start_time": "2022-03-09T09:58:05.194Z"
   },
   {
    "duration": 10,
    "start_time": "2022-03-09T09:58:05.216Z"
   },
   {
    "duration": 8,
    "start_time": "2022-03-09T09:58:05.228Z"
   },
   {
    "duration": 10,
    "start_time": "2022-03-09T09:58:05.238Z"
   },
   {
    "duration": 3,
    "start_time": "2022-03-09T09:58:05.274Z"
   },
   {
    "duration": 17,
    "start_time": "2022-03-09T09:58:05.280Z"
   },
   {
    "duration": 13,
    "start_time": "2022-03-09T09:58:05.300Z"
   },
   {
    "duration": 21,
    "start_time": "2022-03-09T09:58:05.318Z"
   },
   {
    "duration": 15,
    "start_time": "2022-03-09T09:58:05.342Z"
   },
   {
    "duration": 8,
    "start_time": "2022-03-09T09:58:05.360Z"
   },
   {
    "duration": 15,
    "start_time": "2022-03-09T09:58:05.371Z"
   },
   {
    "duration": 15,
    "start_time": "2022-03-09T09:58:05.389Z"
   },
   {
    "duration": 11,
    "start_time": "2022-03-09T09:58:05.406Z"
   },
   {
    "duration": 14,
    "start_time": "2022-03-09T09:58:05.420Z"
   },
   {
    "duration": 18,
    "start_time": "2022-03-09T09:58:05.436Z"
   },
   {
    "duration": 23,
    "start_time": "2022-03-09T09:58:05.456Z"
   },
   {
    "duration": 18,
    "start_time": "2022-03-09T09:58:05.481Z"
   },
   {
    "duration": 20,
    "start_time": "2022-03-09T09:58:05.501Z"
   },
   {
    "duration": 16,
    "start_time": "2022-03-09T09:58:05.524Z"
   },
   {
    "duration": 23,
    "start_time": "2022-03-09T09:58:05.542Z"
   },
   {
    "duration": 10,
    "start_time": "2022-03-09T09:58:05.567Z"
   },
   {
    "duration": 30,
    "start_time": "2022-03-09T09:58:05.579Z"
   },
   {
    "duration": 26,
    "start_time": "2022-03-09T09:58:05.611Z"
   },
   {
    "duration": 11,
    "start_time": "2022-03-09T09:58:47.834Z"
   },
   {
    "duration": 788,
    "start_time": "2022-03-09T10:00:07.395Z"
   },
   {
    "duration": 203,
    "start_time": "2022-03-09T10:00:08.186Z"
   },
   {
    "duration": 27,
    "start_time": "2022-03-09T10:00:08.391Z"
   },
   {
    "duration": 65,
    "start_time": "2022-03-09T10:00:08.422Z"
   },
   {
    "duration": 5,
    "start_time": "2022-03-09T10:00:08.490Z"
   },
   {
    "duration": 41,
    "start_time": "2022-03-09T10:00:08.497Z"
   },
   {
    "duration": 10,
    "start_time": "2022-03-09T10:00:08.540Z"
   },
   {
    "duration": 48,
    "start_time": "2022-03-09T10:00:08.554Z"
   },
   {
    "duration": 37,
    "start_time": "2022-03-09T10:00:08.605Z"
   },
   {
    "duration": 40,
    "start_time": "2022-03-09T10:00:08.644Z"
   },
   {
    "duration": 51,
    "start_time": "2022-03-09T10:00:08.686Z"
   },
   {
    "duration": 73,
    "start_time": "2022-03-09T10:00:08.739Z"
   },
   {
    "duration": 60,
    "start_time": "2022-03-09T10:00:08.815Z"
   },
   {
    "duration": 7,
    "start_time": "2022-03-09T10:00:08.878Z"
   },
   {
    "duration": 6,
    "start_time": "2022-03-09T10:00:08.887Z"
   },
   {
    "duration": 16,
    "start_time": "2022-03-09T10:00:08.895Z"
   },
   {
    "duration": 11,
    "start_time": "2022-03-09T10:00:08.914Z"
   },
   {
    "duration": 4,
    "start_time": "2022-03-09T10:00:08.927Z"
   },
   {
    "duration": 8,
    "start_time": "2022-03-09T10:00:08.934Z"
   },
   {
    "duration": 7,
    "start_time": "2022-03-09T10:00:08.975Z"
   },
   {
    "duration": 8,
    "start_time": "2022-03-09T10:00:08.985Z"
   },
   {
    "duration": 6,
    "start_time": "2022-03-09T10:00:08.995Z"
   },
   {
    "duration": 4,
    "start_time": "2022-03-09T10:00:09.006Z"
   },
   {
    "duration": 8,
    "start_time": "2022-03-09T10:00:09.013Z"
   },
   {
    "duration": 6,
    "start_time": "2022-03-09T10:00:09.024Z"
   },
   {
    "duration": 11,
    "start_time": "2022-03-09T10:00:09.032Z"
   },
   {
    "duration": 29,
    "start_time": "2022-03-09T10:00:09.045Z"
   },
   {
    "duration": 16,
    "start_time": "2022-03-09T10:00:09.077Z"
   },
   {
    "duration": 11,
    "start_time": "2022-03-09T10:00:09.096Z"
   },
   {
    "duration": 14,
    "start_time": "2022-03-09T10:00:09.109Z"
   },
   {
    "duration": 11,
    "start_time": "2022-03-09T10:00:09.125Z"
   },
   {
    "duration": 13,
    "start_time": "2022-03-09T10:00:09.139Z"
   },
   {
    "duration": 9,
    "start_time": "2022-03-09T10:00:09.155Z"
   },
   {
    "duration": 7,
    "start_time": "2022-03-09T10:00:09.167Z"
   },
   {
    "duration": 6,
    "start_time": "2022-03-09T10:00:09.176Z"
   },
   {
    "duration": 6,
    "start_time": "2022-03-09T10:00:09.184Z"
   },
   {
    "duration": 8,
    "start_time": "2022-03-09T10:00:09.192Z"
   },
   {
    "duration": 7,
    "start_time": "2022-03-09T10:00:09.203Z"
   },
   {
    "duration": 750,
    "start_time": "2022-03-09T10:02:13.882Z"
   },
   {
    "duration": 195,
    "start_time": "2022-03-09T10:02:14.635Z"
   },
   {
    "duration": 42,
    "start_time": "2022-03-09T10:02:14.833Z"
   },
   {
    "duration": 34,
    "start_time": "2022-03-09T10:02:14.878Z"
   },
   {
    "duration": 6,
    "start_time": "2022-03-09T10:02:14.915Z"
   },
   {
    "duration": 67,
    "start_time": "2022-03-09T10:02:14.923Z"
   },
   {
    "duration": 6,
    "start_time": "2022-03-09T10:02:14.993Z"
   },
   {
    "duration": 33,
    "start_time": "2022-03-09T10:02:15.005Z"
   },
   {
    "duration": 110,
    "start_time": "2022-03-09T10:02:15.042Z"
   },
   {
    "duration": -7727,
    "start_time": "2022-03-09T10:02:22.883Z"
   },
   {
    "duration": -7742,
    "start_time": "2022-03-09T10:02:22.900Z"
   },
   {
    "duration": -7747,
    "start_time": "2022-03-09T10:02:22.908Z"
   },
   {
    "duration": -7759,
    "start_time": "2022-03-09T10:02:22.921Z"
   },
   {
    "duration": -7770,
    "start_time": "2022-03-09T10:02:22.935Z"
   },
   {
    "duration": -7784,
    "start_time": "2022-03-09T10:02:22.951Z"
   },
   {
    "duration": -7801,
    "start_time": "2022-03-09T10:02:22.970Z"
   },
   {
    "duration": -7819,
    "start_time": "2022-03-09T10:02:22.991Z"
   },
   {
    "duration": -7839,
    "start_time": "2022-03-09T10:02:23.013Z"
   },
   {
    "duration": -7847,
    "start_time": "2022-03-09T10:02:23.023Z"
   },
   {
    "duration": -7882,
    "start_time": "2022-03-09T10:02:23.060Z"
   },
   {
    "duration": -7902,
    "start_time": "2022-03-09T10:02:23.082Z"
   },
   {
    "duration": -7914,
    "start_time": "2022-03-09T10:02:23.096Z"
   },
   {
    "duration": -7917,
    "start_time": "2022-03-09T10:02:23.101Z"
   },
   {
    "duration": -7930,
    "start_time": "2022-03-09T10:02:23.116Z"
   },
   {
    "duration": -7936,
    "start_time": "2022-03-09T10:02:23.124Z"
   },
   {
    "duration": -7944,
    "start_time": "2022-03-09T10:02:23.134Z"
   },
   {
    "duration": -7958,
    "start_time": "2022-03-09T10:02:23.150Z"
   },
   {
    "duration": -7969,
    "start_time": "2022-03-09T10:02:23.163Z"
   },
   {
    "duration": -7974,
    "start_time": "2022-03-09T10:02:23.172Z"
   },
   {
    "duration": -7984,
    "start_time": "2022-03-09T10:02:23.184Z"
   },
   {
    "duration": -8004,
    "start_time": "2022-03-09T10:02:23.206Z"
   },
   {
    "duration": -8014,
    "start_time": "2022-03-09T10:02:23.218Z"
   },
   {
    "duration": -8026,
    "start_time": "2022-03-09T10:02:23.232Z"
   },
   {
    "duration": -8032,
    "start_time": "2022-03-09T10:02:23.240Z"
   },
   {
    "duration": -8040,
    "start_time": "2022-03-09T10:02:23.250Z"
   },
   {
    "duration": -8043,
    "start_time": "2022-03-09T10:02:23.255Z"
   },
   {
    "duration": -8058,
    "start_time": "2022-03-09T10:02:23.272Z"
   },
   {
    "duration": -8071,
    "start_time": "2022-03-09T10:02:23.287Z"
   },
   {
    "duration": 714,
    "start_time": "2022-03-09T10:02:34.216Z"
   },
   {
    "duration": 192,
    "start_time": "2022-03-09T10:02:34.933Z"
   },
   {
    "duration": 26,
    "start_time": "2022-03-09T10:02:35.128Z"
   },
   {
    "duration": 47,
    "start_time": "2022-03-09T10:02:35.157Z"
   },
   {
    "duration": 7,
    "start_time": "2022-03-09T10:02:35.207Z"
   },
   {
    "duration": 57,
    "start_time": "2022-03-09T10:02:35.217Z"
   },
   {
    "duration": 6,
    "start_time": "2022-03-09T10:02:35.276Z"
   },
   {
    "duration": 35,
    "start_time": "2022-03-09T10:02:35.286Z"
   },
   {
    "duration": 107,
    "start_time": "2022-03-09T10:02:35.324Z"
   },
   {
    "duration": -7795,
    "start_time": "2022-03-09T10:02:43.229Z"
   },
   {
    "duration": -7806,
    "start_time": "2022-03-09T10:02:43.242Z"
   },
   {
    "duration": -7813,
    "start_time": "2022-03-09T10:02:43.250Z"
   },
   {
    "duration": -7823,
    "start_time": "2022-03-09T10:02:43.261Z"
   },
   {
    "duration": -7840,
    "start_time": "2022-03-09T10:02:43.279Z"
   },
   {
    "duration": -7852,
    "start_time": "2022-03-09T10:02:43.293Z"
   },
   {
    "duration": -7867,
    "start_time": "2022-03-09T10:02:43.309Z"
   },
   {
    "duration": -7874,
    "start_time": "2022-03-09T10:02:43.317Z"
   },
   {
    "duration": -7885,
    "start_time": "2022-03-09T10:02:43.330Z"
   },
   {
    "duration": -7898,
    "start_time": "2022-03-09T10:02:43.344Z"
   },
   {
    "duration": -7912,
    "start_time": "2022-03-09T10:02:43.359Z"
   },
   {
    "duration": -7925,
    "start_time": "2022-03-09T10:02:43.374Z"
   },
   {
    "duration": -7931,
    "start_time": "2022-03-09T10:02:43.382Z"
   },
   {
    "duration": -7941,
    "start_time": "2022-03-09T10:02:43.393Z"
   },
   {
    "duration": -7955,
    "start_time": "2022-03-09T10:02:43.408Z"
   },
   {
    "duration": -7963,
    "start_time": "2022-03-09T10:02:43.417Z"
   },
   {
    "duration": -7975,
    "start_time": "2022-03-09T10:02:43.431Z"
   },
   {
    "duration": -7989,
    "start_time": "2022-03-09T10:02:43.446Z"
   },
   {
    "duration": -8005,
    "start_time": "2022-03-09T10:02:43.464Z"
   },
   {
    "duration": -8018,
    "start_time": "2022-03-09T10:02:43.478Z"
   },
   {
    "duration": -8032,
    "start_time": "2022-03-09T10:02:43.493Z"
   },
   {
    "duration": -8045,
    "start_time": "2022-03-09T10:02:43.508Z"
   },
   {
    "duration": -8053,
    "start_time": "2022-03-09T10:02:43.517Z"
   },
   {
    "duration": -8077,
    "start_time": "2022-03-09T10:02:43.542Z"
   },
   {
    "duration": -8085,
    "start_time": "2022-03-09T10:02:43.551Z"
   },
   {
    "duration": -8095,
    "start_time": "2022-03-09T10:02:43.563Z"
   },
   {
    "duration": -8100,
    "start_time": "2022-03-09T10:02:43.569Z"
   },
   {
    "duration": -8105,
    "start_time": "2022-03-09T10:02:43.575Z"
   },
   {
    "duration": -8109,
    "start_time": "2022-03-09T10:02:43.580Z"
   },
   {
    "duration": 760,
    "start_time": "2022-03-09T10:05:31.532Z"
   },
   {
    "duration": 199,
    "start_time": "2022-03-09T10:05:32.294Z"
   },
   {
    "duration": 26,
    "start_time": "2022-03-09T10:05:32.495Z"
   },
   {
    "duration": 54,
    "start_time": "2022-03-09T10:05:32.524Z"
   },
   {
    "duration": 5,
    "start_time": "2022-03-09T10:05:32.581Z"
   },
   {
    "duration": 35,
    "start_time": "2022-03-09T10:05:32.588Z"
   },
   {
    "duration": 5,
    "start_time": "2022-03-09T10:05:32.625Z"
   },
   {
    "duration": 60,
    "start_time": "2022-03-09T10:05:32.634Z"
   },
   {
    "duration": 6793,
    "start_time": "2022-03-09T10:05:32.697Z"
   },
   {
    "duration": -7715,
    "start_time": "2022-03-09T10:05:47.208Z"
   },
   {
    "duration": -7742,
    "start_time": "2022-03-09T10:05:47.237Z"
   },
   {
    "duration": -7785,
    "start_time": "2022-03-09T10:05:47.281Z"
   },
   {
    "duration": -7808,
    "start_time": "2022-03-09T10:05:47.305Z"
   },
   {
    "duration": -7833,
    "start_time": "2022-03-09T10:05:47.331Z"
   },
   {
    "duration": -7845,
    "start_time": "2022-03-09T10:05:47.345Z"
   },
   {
    "duration": -7851,
    "start_time": "2022-03-09T10:05:47.352Z"
   },
   {
    "duration": -7860,
    "start_time": "2022-03-09T10:05:47.363Z"
   },
   {
    "duration": -7876,
    "start_time": "2022-03-09T10:05:47.380Z"
   },
   {
    "duration": -7890,
    "start_time": "2022-03-09T10:05:47.395Z"
   },
   {
    "duration": -7896,
    "start_time": "2022-03-09T10:05:47.403Z"
   },
   {
    "duration": -7910,
    "start_time": "2022-03-09T10:05:47.418Z"
   },
   {
    "duration": -7921,
    "start_time": "2022-03-09T10:05:47.430Z"
   },
   {
    "duration": -7927,
    "start_time": "2022-03-09T10:05:47.438Z"
   },
   {
    "duration": -7931,
    "start_time": "2022-03-09T10:05:47.443Z"
   },
   {
    "duration": -7932,
    "start_time": "2022-03-09T10:05:47.446Z"
   },
   {
    "duration": -7937,
    "start_time": "2022-03-09T10:05:47.452Z"
   },
   {
    "duration": -7939,
    "start_time": "2022-03-09T10:05:47.456Z"
   },
   {
    "duration": -7941,
    "start_time": "2022-03-09T10:05:47.459Z"
   },
   {
    "duration": -7942,
    "start_time": "2022-03-09T10:05:47.463Z"
   },
   {
    "duration": -7947,
    "start_time": "2022-03-09T10:05:47.469Z"
   },
   {
    "duration": -7950,
    "start_time": "2022-03-09T10:05:47.473Z"
   },
   {
    "duration": -7952,
    "start_time": "2022-03-09T10:05:47.477Z"
   },
   {
    "duration": -7955,
    "start_time": "2022-03-09T10:05:47.481Z"
   },
   {
    "duration": -7957,
    "start_time": "2022-03-09T10:05:47.485Z"
   },
   {
    "duration": -7916,
    "start_time": "2022-03-09T10:05:47.489Z"
   },
   {
    "duration": -7917,
    "start_time": "2022-03-09T10:05:47.492Z"
   },
   {
    "duration": -7919,
    "start_time": "2022-03-09T10:05:47.495Z"
   },
   {
    "duration": -7921,
    "start_time": "2022-03-09T10:05:47.499Z"
   },
   {
    "duration": 770,
    "start_time": "2022-03-09T10:06:13.692Z"
   },
   {
    "duration": 202,
    "start_time": "2022-03-09T10:06:14.465Z"
   },
   {
    "duration": 28,
    "start_time": "2022-03-09T10:06:14.671Z"
   },
   {
    "duration": 36,
    "start_time": "2022-03-09T10:06:14.702Z"
   },
   {
    "duration": 34,
    "start_time": "2022-03-09T10:06:14.741Z"
   },
   {
    "duration": 37,
    "start_time": "2022-03-09T10:06:14.778Z"
   },
   {
    "duration": 6,
    "start_time": "2022-03-09T10:06:14.818Z"
   },
   {
    "duration": 64,
    "start_time": "2022-03-09T10:06:14.830Z"
   },
   {
    "duration": 23,
    "start_time": "2022-03-09T10:06:14.898Z"
   },
   {
    "duration": 52,
    "start_time": "2022-03-09T10:06:14.923Z"
   },
   {
    "duration": 108,
    "start_time": "2022-03-09T10:06:14.977Z"
   },
   {
    "duration": 123,
    "start_time": "2022-03-09T10:06:15.088Z"
   },
   {
    "duration": 97,
    "start_time": "2022-03-09T10:06:15.214Z"
   },
   {
    "duration": 11,
    "start_time": "2022-03-09T10:06:15.319Z"
   },
   {
    "duration": 13,
    "start_time": "2022-03-09T10:06:15.333Z"
   },
   {
    "duration": 29,
    "start_time": "2022-03-09T10:06:15.349Z"
   },
   {
    "duration": 8,
    "start_time": "2022-03-09T10:06:15.381Z"
   },
   {
    "duration": 6,
    "start_time": "2022-03-09T10:06:15.392Z"
   },
   {
    "duration": 6,
    "start_time": "2022-03-09T10:06:15.401Z"
   },
   {
    "duration": 6,
    "start_time": "2022-03-09T10:06:15.410Z"
   },
   {
    "duration": 12,
    "start_time": "2022-03-09T10:06:15.418Z"
   },
   {
    "duration": 39,
    "start_time": "2022-03-09T10:06:15.434Z"
   },
   {
    "duration": 4,
    "start_time": "2022-03-09T10:06:15.480Z"
   },
   {
    "duration": 10,
    "start_time": "2022-03-09T10:06:15.486Z"
   },
   {
    "duration": 5,
    "start_time": "2022-03-09T10:06:15.499Z"
   },
   {
    "duration": 8,
    "start_time": "2022-03-09T10:06:15.507Z"
   },
   {
    "duration": 11,
    "start_time": "2022-03-09T10:06:15.518Z"
   },
   {
    "duration": 6,
    "start_time": "2022-03-09T10:06:15.532Z"
   },
   {
    "duration": 34,
    "start_time": "2022-03-09T10:06:15.540Z"
   },
   {
    "duration": 6,
    "start_time": "2022-03-09T10:06:15.577Z"
   },
   {
    "duration": 11,
    "start_time": "2022-03-09T10:06:15.585Z"
   },
   {
    "duration": 10,
    "start_time": "2022-03-09T10:06:15.598Z"
   },
   {
    "duration": 13,
    "start_time": "2022-03-09T10:06:15.610Z"
   },
   {
    "duration": 9,
    "start_time": "2022-03-09T10:06:15.625Z"
   },
   {
    "duration": 7,
    "start_time": "2022-03-09T10:06:15.637Z"
   },
   {
    "duration": 9,
    "start_time": "2022-03-09T10:06:15.647Z"
   },
   {
    "duration": 3,
    "start_time": "2022-03-09T10:06:15.674Z"
   },
   {
    "duration": 22,
    "start_time": "2022-03-09T10:06:15.680Z"
   },
   {
    "duration": 18,
    "start_time": "2022-03-09T10:06:39.141Z"
   },
   {
    "duration": 46,
    "start_time": "2022-03-09T10:08:29.578Z"
   },
   {
    "duration": 46,
    "start_time": "2022-03-09T10:10:34.491Z"
   },
   {
    "duration": 5,
    "start_time": "2022-03-09T10:16:24.567Z"
   },
   {
    "duration": 22,
    "start_time": "2022-03-09T10:16:29.538Z"
   },
   {
    "duration": 19,
    "start_time": "2022-03-09T10:17:59.028Z"
   },
   {
    "duration": 20,
    "start_time": "2022-03-09T10:18:43.998Z"
   },
   {
    "duration": 20,
    "start_time": "2022-03-09T10:18:46.398Z"
   },
   {
    "duration": 22,
    "start_time": "2022-03-09T10:18:48.073Z"
   },
   {
    "duration": 18,
    "start_time": "2022-03-09T10:18:49.322Z"
   },
   {
    "duration": 13,
    "start_time": "2022-03-09T10:20:28.561Z"
   },
   {
    "duration": 27,
    "start_time": "2022-03-09T10:23:53.329Z"
   },
   {
    "duration": 25,
    "start_time": "2022-03-09T10:24:06.946Z"
   },
   {
    "duration": 33,
    "start_time": "2022-03-09T10:24:25.312Z"
   },
   {
    "duration": 28,
    "start_time": "2022-03-09T10:24:45.265Z"
   },
   {
    "duration": 5,
    "start_time": "2022-03-09T10:30:42.774Z"
   },
   {
    "duration": 30,
    "start_time": "2022-03-09T10:32:00.269Z"
   },
   {
    "duration": 24,
    "start_time": "2022-03-09T10:33:59.531Z"
   },
   {
    "duration": 26,
    "start_time": "2022-03-09T10:34:06.059Z"
   },
   {
    "duration": 18,
    "start_time": "2022-03-09T10:34:09.826Z"
   },
   {
    "duration": 432,
    "start_time": "2022-03-09T10:41:13.862Z"
   },
   {
    "duration": 316,
    "start_time": "2022-03-09T10:42:12.728Z"
   },
   {
    "duration": 90,
    "start_time": "2022-03-09T10:42:52.357Z"
   },
   {
    "duration": 324,
    "start_time": "2022-03-09T10:43:00.370Z"
   },
   {
    "duration": 32,
    "start_time": "2022-03-09T10:43:18.502Z"
   },
   {
    "duration": 13,
    "start_time": "2022-03-09T10:43:52.329Z"
   },
   {
    "duration": 21,
    "start_time": "2022-03-09T10:45:41.529Z"
   },
   {
    "duration": 12,
    "start_time": "2022-03-09T10:45:45.738Z"
   },
   {
    "duration": 4,
    "start_time": "2022-03-09T10:47:13.046Z"
   },
   {
    "duration": 25,
    "start_time": "2022-03-09T10:47:17.634Z"
   },
   {
    "duration": 4,
    "start_time": "2022-03-09T10:47:36.469Z"
   },
   {
    "duration": 24,
    "start_time": "2022-03-09T10:47:49.500Z"
   },
   {
    "duration": 832,
    "start_time": "2022-03-09T10:48:01.047Z"
   },
   {
    "duration": 210,
    "start_time": "2022-03-09T10:48:01.882Z"
   },
   {
    "duration": 26,
    "start_time": "2022-03-09T10:48:02.095Z"
   },
   {
    "duration": 54,
    "start_time": "2022-03-09T10:48:02.124Z"
   },
   {
    "duration": 7,
    "start_time": "2022-03-09T10:48:02.181Z"
   },
   {
    "duration": 50,
    "start_time": "2022-03-09T10:48:02.191Z"
   },
   {
    "duration": 5,
    "start_time": "2022-03-09T10:48:02.243Z"
   },
   {
    "duration": 54,
    "start_time": "2022-03-09T10:48:02.252Z"
   },
   {
    "duration": 40,
    "start_time": "2022-03-09T10:48:02.309Z"
   },
   {
    "duration": 45,
    "start_time": "2022-03-09T10:48:02.352Z"
   },
   {
    "duration": 102,
    "start_time": "2022-03-09T10:48:02.400Z"
   },
   {
    "duration": 119,
    "start_time": "2022-03-09T10:48:02.505Z"
   },
   {
    "duration": 98,
    "start_time": "2022-03-09T10:48:02.626Z"
   },
   {
    "duration": 7,
    "start_time": "2022-03-09T10:48:02.726Z"
   },
   {
    "duration": 40,
    "start_time": "2022-03-09T10:48:02.735Z"
   },
   {
    "duration": 24,
    "start_time": "2022-03-09T10:48:02.778Z"
   },
   {
    "duration": 24,
    "start_time": "2022-03-09T10:48:02.805Z"
   },
   {
    "duration": 87,
    "start_time": "2022-03-09T10:48:02.831Z"
   },
   {
    "duration": 56,
    "start_time": "2022-03-09T10:48:02.920Z"
   },
   {
    "duration": 5,
    "start_time": "2022-03-09T10:48:02.979Z"
   },
   {
    "duration": 58,
    "start_time": "2022-03-09T10:48:02.986Z"
   },
   {
    "duration": 22,
    "start_time": "2022-03-09T10:48:03.046Z"
   },
   {
    "duration": 31,
    "start_time": "2022-03-09T10:48:03.073Z"
   },
   {
    "duration": 33,
    "start_time": "2022-03-09T10:48:03.107Z"
   },
   {
    "duration": 38,
    "start_time": "2022-03-09T10:48:03.142Z"
   },
   {
    "duration": 30,
    "start_time": "2022-03-09T10:48:03.183Z"
   },
   {
    "duration": 33,
    "start_time": "2022-03-09T10:48:03.216Z"
   },
   {
    "duration": 38,
    "start_time": "2022-03-09T10:48:03.252Z"
   },
   {
    "duration": 27,
    "start_time": "2022-03-09T10:48:03.294Z"
   },
   {
    "duration": 10,
    "start_time": "2022-03-09T10:48:03.324Z"
   },
   {
    "duration": 58,
    "start_time": "2022-03-09T10:48:03.337Z"
   },
   {
    "duration": 36,
    "start_time": "2022-03-09T10:48:03.398Z"
   },
   {
    "duration": 42,
    "start_time": "2022-03-09T10:48:03.437Z"
   },
   {
    "duration": 17,
    "start_time": "2022-03-09T10:48:03.482Z"
   },
   {
    "duration": 3,
    "start_time": "2022-03-09T10:48:03.502Z"
   },
   {
    "duration": 32,
    "start_time": "2022-03-09T10:48:03.508Z"
   },
   {
    "duration": 47,
    "start_time": "2022-03-09T10:48:03.542Z"
   },
   {
    "duration": 13,
    "start_time": "2022-03-09T10:48:03.592Z"
   },
   {
    "duration": 22,
    "start_time": "2022-03-09T10:50:56.899Z"
   },
   {
    "duration": 31,
    "start_time": "2022-03-09T10:52:26.697Z"
   },
   {
    "duration": 14,
    "start_time": "2022-03-09T10:52:30.731Z"
   },
   {
    "duration": 423,
    "start_time": "2022-03-09T10:53:32.170Z"
   },
   {
    "duration": 34,
    "start_time": "2022-03-09T10:53:49.044Z"
   },
   {
    "duration": 14,
    "start_time": "2022-03-09T10:53:53.487Z"
   },
   {
    "duration": 34,
    "start_time": "2022-03-09T10:54:22.683Z"
   },
   {
    "duration": 12,
    "start_time": "2022-03-09T10:54:25.889Z"
   },
   {
    "duration": 28,
    "start_time": "2022-03-09T10:55:00.163Z"
   },
   {
    "duration": 18,
    "start_time": "2022-03-09T10:55:04.480Z"
   },
   {
    "duration": 32,
    "start_time": "2022-03-09T10:56:14.112Z"
   },
   {
    "duration": 13,
    "start_time": "2022-03-09T10:56:18.034Z"
   },
   {
    "duration": 808,
    "start_time": "2022-03-09T10:56:34.270Z"
   },
   {
    "duration": 204,
    "start_time": "2022-03-09T10:56:35.082Z"
   },
   {
    "duration": 29,
    "start_time": "2022-03-09T10:56:35.289Z"
   },
   {
    "duration": 55,
    "start_time": "2022-03-09T10:56:35.321Z"
   },
   {
    "duration": 6,
    "start_time": "2022-03-09T10:56:35.378Z"
   },
   {
    "duration": 33,
    "start_time": "2022-03-09T10:56:35.387Z"
   },
   {
    "duration": 9,
    "start_time": "2022-03-09T10:56:35.422Z"
   },
   {
    "duration": 63,
    "start_time": "2022-03-09T10:56:35.433Z"
   },
   {
    "duration": 24,
    "start_time": "2022-03-09T10:56:35.501Z"
   },
   {
    "duration": 53,
    "start_time": "2022-03-09T10:56:35.528Z"
   },
   {
    "duration": 105,
    "start_time": "2022-03-09T10:56:35.584Z"
   },
   {
    "duration": 125,
    "start_time": "2022-03-09T10:56:35.692Z"
   },
   {
    "duration": 96,
    "start_time": "2022-03-09T10:56:35.819Z"
   },
   {
    "duration": 8,
    "start_time": "2022-03-09T10:56:35.918Z"
   },
   {
    "duration": 5,
    "start_time": "2022-03-09T10:56:35.928Z"
   },
   {
    "duration": 41,
    "start_time": "2022-03-09T10:56:35.935Z"
   },
   {
    "duration": 13,
    "start_time": "2022-03-09T10:56:35.979Z"
   },
   {
    "duration": 61,
    "start_time": "2022-03-09T10:56:35.995Z"
   },
   {
    "duration": 52,
    "start_time": "2022-03-09T10:56:36.058Z"
   },
   {
    "duration": 5,
    "start_time": "2022-03-09T10:56:36.112Z"
   },
   {
    "duration": 29,
    "start_time": "2022-03-09T10:56:36.120Z"
   },
   {
    "duration": 20,
    "start_time": "2022-03-09T10:56:36.173Z"
   },
   {
    "duration": 30,
    "start_time": "2022-03-09T10:56:36.196Z"
   },
   {
    "duration": 46,
    "start_time": "2022-03-09T10:56:36.228Z"
   },
   {
    "duration": 27,
    "start_time": "2022-03-09T10:56:36.278Z"
   },
   {
    "duration": 19,
    "start_time": "2022-03-09T10:56:36.307Z"
   },
   {
    "duration": 44,
    "start_time": "2022-03-09T10:56:36.331Z"
   },
   {
    "duration": 35,
    "start_time": "2022-03-09T10:56:36.378Z"
   },
   {
    "duration": 59,
    "start_time": "2022-03-09T10:56:36.416Z"
   },
   {
    "duration": 9,
    "start_time": "2022-03-09T10:56:36.479Z"
   },
   {
    "duration": 39,
    "start_time": "2022-03-09T10:56:36.491Z"
   },
   {
    "duration": 42,
    "start_time": "2022-03-09T10:56:36.533Z"
   },
   {
    "duration": 33,
    "start_time": "2022-03-09T10:56:36.578Z"
   },
   {
    "duration": 18,
    "start_time": "2022-03-09T10:56:36.614Z"
   },
   {
    "duration": 61,
    "start_time": "2022-03-09T10:56:36.635Z"
   },
   {
    "duration": 13,
    "start_time": "2022-03-09T10:56:36.699Z"
   },
   {
    "duration": 25,
    "start_time": "2022-03-09T10:56:36.715Z"
   },
   {
    "duration": 34,
    "start_time": "2022-03-09T10:56:36.742Z"
   },
   {
    "duration": 16,
    "start_time": "2022-03-09T11:28:48.622Z"
   },
   {
    "duration": 5,
    "start_time": "2022-03-09T11:29:43.692Z"
   },
   {
    "duration": 5,
    "start_time": "2022-03-09T11:29:55.356Z"
   },
   {
    "duration": 24,
    "start_time": "2022-03-09T11:32:53.113Z"
   },
   {
    "duration": 17,
    "start_time": "2022-03-09T11:32:57.857Z"
   },
   {
    "duration": 863,
    "start_time": "2022-03-09T11:33:34.483Z"
   },
   {
    "duration": 232,
    "start_time": "2022-03-09T11:33:35.349Z"
   },
   {
    "duration": 31,
    "start_time": "2022-03-09T11:33:35.585Z"
   },
   {
    "duration": 54,
    "start_time": "2022-03-09T11:33:35.619Z"
   },
   {
    "duration": 8,
    "start_time": "2022-03-09T11:33:35.676Z"
   },
   {
    "duration": 40,
    "start_time": "2022-03-09T11:33:35.687Z"
   },
   {
    "duration": 15,
    "start_time": "2022-03-09T11:33:35.730Z"
   },
   {
    "duration": 54,
    "start_time": "2022-03-09T11:33:35.758Z"
   },
   {
    "duration": 25,
    "start_time": "2022-03-09T11:33:35.817Z"
   },
   {
    "duration": 59,
    "start_time": "2022-03-09T11:33:35.845Z"
   },
   {
    "duration": 112,
    "start_time": "2022-03-09T11:33:35.907Z"
   },
   {
    "duration": 116,
    "start_time": "2022-03-09T11:33:36.022Z"
   },
   {
    "duration": 101,
    "start_time": "2022-03-09T11:33:36.141Z"
   },
   {
    "duration": 7,
    "start_time": "2022-03-09T11:33:36.245Z"
   },
   {
    "duration": 20,
    "start_time": "2022-03-09T11:33:36.254Z"
   },
   {
    "duration": 46,
    "start_time": "2022-03-09T11:33:36.277Z"
   },
   {
    "duration": 22,
    "start_time": "2022-03-09T11:33:36.326Z"
   },
   {
    "duration": 75,
    "start_time": "2022-03-09T11:33:36.350Z"
   },
   {
    "duration": 52,
    "start_time": "2022-03-09T11:33:36.427Z"
   },
   {
    "duration": 5,
    "start_time": "2022-03-09T11:33:36.482Z"
   },
   {
    "duration": 34,
    "start_time": "2022-03-09T11:33:36.491Z"
   },
   {
    "duration": 45,
    "start_time": "2022-03-09T11:33:36.528Z"
   },
   {
    "duration": 21,
    "start_time": "2022-03-09T11:33:36.578Z"
   },
   {
    "duration": 23,
    "start_time": "2022-03-09T11:33:36.603Z"
   },
   {
    "duration": 53,
    "start_time": "2022-03-09T11:33:36.628Z"
   },
   {
    "duration": 18,
    "start_time": "2022-03-09T11:33:36.684Z"
   },
   {
    "duration": 13,
    "start_time": "2022-03-09T11:33:36.705Z"
   },
   {
    "duration": 71,
    "start_time": "2022-03-09T11:33:36.721Z"
   },
   {
    "duration": 33,
    "start_time": "2022-03-09T11:33:36.795Z"
   },
   {
    "duration": 6,
    "start_time": "2022-03-09T11:33:36.830Z"
   },
   {
    "duration": 58,
    "start_time": "2022-03-09T11:33:36.838Z"
   },
   {
    "duration": 20,
    "start_time": "2022-03-09T11:33:36.899Z"
   },
   {
    "duration": 56,
    "start_time": "2022-03-09T11:33:36.922Z"
   },
   {
    "duration": 17,
    "start_time": "2022-03-09T11:33:36.981Z"
   },
   {
    "duration": 36,
    "start_time": "2022-03-09T11:33:37.001Z"
   },
   {
    "duration": 35,
    "start_time": "2022-03-09T11:33:37.040Z"
   },
   {
    "duration": 27,
    "start_time": "2022-03-09T11:33:37.077Z"
   },
   {
    "duration": 13,
    "start_time": "2022-03-09T11:33:37.106Z"
   },
   {
    "duration": 357,
    "start_time": "2022-03-16T10:24:01.612Z"
   },
   {
    "duration": 719,
    "start_time": "2022-03-16T10:24:09.807Z"
   },
   {
    "duration": 264,
    "start_time": "2022-03-16T10:24:12.325Z"
   },
   {
    "duration": 32,
    "start_time": "2022-03-16T10:24:14.840Z"
   },
   {
    "duration": 33,
    "start_time": "2022-03-16T10:24:17.791Z"
   },
   {
    "duration": 6,
    "start_time": "2022-03-16T10:24:23.209Z"
   },
   {
    "duration": 33,
    "start_time": "2022-03-16T10:24:27.113Z"
   },
   {
    "duration": 7,
    "start_time": "2022-03-16T10:24:41.864Z"
   },
   {
    "duration": 51,
    "start_time": "2022-03-16T10:24:44.197Z"
   },
   {
    "duration": 35,
    "start_time": "2022-03-16T10:24:48.246Z"
   },
   {
    "duration": 49,
    "start_time": "2022-03-16T10:24:50.745Z"
   },
   {
    "duration": 78,
    "start_time": "2022-03-16T10:24:53.637Z"
   },
   {
    "duration": 94,
    "start_time": "2022-03-16T10:24:55.865Z"
   },
   {
    "duration": 73,
    "start_time": "2022-03-16T10:24:58.140Z"
   },
   {
    "duration": 10,
    "start_time": "2022-03-16T10:25:21.702Z"
   },
   {
    "duration": 119,
    "start_time": "2022-03-16T10:26:29.049Z"
   },
   {
    "duration": 267,
    "start_time": "2022-03-16T10:27:12.872Z"
   },
   {
    "duration": 291,
    "start_time": "2022-03-16T10:29:07.811Z"
   },
   {
    "duration": 296,
    "start_time": "2022-03-16T10:29:43.231Z"
   },
   {
    "duration": 7,
    "start_time": "2022-03-16T10:30:26.807Z"
   },
   {
    "duration": 392,
    "start_time": "2022-03-16T10:31:54.608Z"
   },
   {
    "duration": 53,
    "start_time": "2022-03-16T10:32:29.173Z"
   },
   {
    "duration": 57,
    "start_time": "2022-03-16T10:33:05.988Z"
   },
   {
    "duration": 53,
    "start_time": "2022-03-16T10:33:14.286Z"
   },
   {
    "duration": 56,
    "start_time": "2022-03-16T10:33:22.996Z"
   },
   {
    "duration": 3156,
    "start_time": "2022-03-16T10:33:57.761Z"
   },
   {
    "duration": 298,
    "start_time": "2022-03-16T10:34:52.664Z"
   },
   {
    "duration": 59,
    "start_time": "2022-03-16T10:34:58.580Z"
   },
   {
    "duration": 10,
    "start_time": "2022-03-16T10:35:22.892Z"
   },
   {
    "duration": 57,
    "start_time": "2022-03-16T11:15:08.001Z"
   },
   {
    "duration": 58,
    "start_time": "2022-03-16T11:16:13.073Z"
   },
   {
    "duration": 4,
    "start_time": "2022-03-16T11:16:26.068Z"
   },
   {
    "duration": 15,
    "start_time": "2022-03-16T11:16:28.705Z"
   },
   {
    "duration": 9,
    "start_time": "2022-03-16T11:16:31.345Z"
   },
   {
    "duration": 5,
    "start_time": "2022-03-16T11:17:46.598Z"
   },
   {
    "duration": 559,
    "start_time": "2022-03-16T11:17:48.681Z"
   },
   {
    "duration": 4,
    "start_time": "2022-03-16T11:19:47.315Z"
   },
   {
    "duration": 13,
    "start_time": "2022-03-16T11:19:49.498Z"
   },
   {
    "duration": 4,
    "start_time": "2022-03-16T11:20:14.189Z"
   },
   {
    "duration": 25,
    "start_time": "2022-03-16T11:20:16.350Z"
   },
   {
    "duration": 9,
    "start_time": "2022-03-16T11:20:19.813Z"
   },
   {
    "duration": 9,
    "start_time": "2022-03-16T11:20:46.452Z"
   },
   {
    "duration": 769,
    "start_time": "2022-03-16T11:21:39.968Z"
   },
   {
    "duration": 171,
    "start_time": "2022-03-16T11:21:41.797Z"
   },
   {
    "duration": 27,
    "start_time": "2022-03-16T11:21:43.312Z"
   },
   {
    "duration": 31,
    "start_time": "2022-03-16T11:21:45.396Z"
   },
   {
    "duration": 6,
    "start_time": "2022-03-16T11:21:48.766Z"
   },
   {
    "duration": 25,
    "start_time": "2022-03-16T11:21:51.072Z"
   },
   {
    "duration": 5,
    "start_time": "2022-03-16T11:21:52.932Z"
   },
   {
    "duration": 37,
    "start_time": "2022-03-16T11:21:54.936Z"
   },
   {
    "duration": 23,
    "start_time": "2022-03-16T11:21:57.068Z"
   },
   {
    "duration": 30,
    "start_time": "2022-03-16T11:21:59.228Z"
   },
   {
    "duration": 80,
    "start_time": "2022-03-16T11:22:01.497Z"
   },
   {
    "duration": 97,
    "start_time": "2022-03-16T11:22:03.359Z"
   },
   {
    "duration": 71,
    "start_time": "2022-03-16T11:22:05.130Z"
   },
   {
    "duration": 67,
    "start_time": "2022-03-16T11:22:26.116Z"
   },
   {
    "duration": 56,
    "start_time": "2022-03-16T11:23:05.292Z"
   },
   {
    "duration": 64,
    "start_time": "2022-03-16T11:23:18.758Z"
   },
   {
    "duration": 112,
    "start_time": "2022-03-16T11:23:44.490Z"
   },
   {
    "duration": 436,
    "start_time": "2022-03-16T11:24:14.562Z"
   },
   {
    "duration": 236,
    "start_time": "2022-03-16T11:24:26.585Z"
   },
   {
    "duration": 110,
    "start_time": "2022-03-16T11:24:42.659Z"
   },
   {
    "duration": 124,
    "start_time": "2022-03-16T11:25:00.642Z"
   },
   {
    "duration": 112,
    "start_time": "2022-03-16T11:25:11.172Z"
   },
   {
    "duration": 4,
    "start_time": "2022-03-16T11:25:58.334Z"
   },
   {
    "duration": 15,
    "start_time": "2022-03-16T11:26:01.663Z"
   },
   {
    "duration": 10,
    "start_time": "2022-03-16T11:26:06.817Z"
   },
   {
    "duration": 108,
    "start_time": "2022-03-16T11:26:46.913Z"
   },
   {
    "duration": 138,
    "start_time": "2022-03-16T11:27:54.532Z"
   },
   {
    "duration": 111,
    "start_time": "2022-03-16T11:28:40.063Z"
   },
   {
    "duration": 15,
    "start_time": "2022-03-16T11:30:13.587Z"
   },
   {
    "duration": 15,
    "start_time": "2022-03-16T11:30:55.071Z"
   },
   {
    "duration": 13,
    "start_time": "2022-03-16T11:31:06.182Z"
   },
   {
    "duration": 14,
    "start_time": "2022-03-16T11:31:38.309Z"
   },
   {
    "duration": 4,
    "start_time": "2022-03-16T11:31:46.721Z"
   },
   {
    "duration": 22,
    "start_time": "2022-03-16T11:31:49.485Z"
   },
   {
    "duration": 18,
    "start_time": "2022-03-16T11:31:51.298Z"
   },
   {
    "duration": 18,
    "start_time": "2022-03-16T11:31:52.090Z"
   },
   {
    "duration": 19,
    "start_time": "2022-03-16T11:31:52.660Z"
   },
   {
    "duration": 21,
    "start_time": "2022-03-16T11:31:53.204Z"
   },
   {
    "duration": 19,
    "start_time": "2022-03-16T11:31:53.746Z"
   },
   {
    "duration": 13,
    "start_time": "2022-03-16T11:31:57.066Z"
   },
   {
    "duration": 45,
    "start_time": "2022-03-16T11:32:04.619Z"
   },
   {
    "duration": 27,
    "start_time": "2022-03-16T11:32:08.719Z"
   },
   {
    "duration": 6,
    "start_time": "2022-03-16T11:32:13.871Z"
   },
   {
    "duration": 25,
    "start_time": "2022-03-16T11:32:17.523Z"
   },
   {
    "duration": 18,
    "start_time": "2022-03-16T11:32:19.664Z"
   },
   {
    "duration": 23,
    "start_time": "2022-03-16T11:32:21.497Z"
   },
   {
    "duration": 17,
    "start_time": "2022-03-16T11:32:23.145Z"
   },
   {
    "duration": 33,
    "start_time": "2022-03-16T11:33:22.336Z"
   },
   {
    "duration": 81,
    "start_time": "2022-03-16T11:33:26.942Z"
   },
   {
    "duration": 13,
    "start_time": "2022-03-16T11:33:40.475Z"
   },
   {
    "duration": 6,
    "start_time": "2022-03-16T11:33:48.837Z"
   },
   {
    "duration": 271,
    "start_time": "2022-03-16T11:35:00.689Z"
   },
   {
    "duration": 18,
    "start_time": "2022-03-16T11:35:07.824Z"
   },
   {
    "duration": 7,
    "start_time": "2022-03-16T11:35:09.533Z"
   },
   {
    "duration": 736,
    "start_time": "2022-03-16T11:35:57.568Z"
   },
   {
    "duration": 178,
    "start_time": "2022-03-16T11:35:58.307Z"
   },
   {
    "duration": 25,
    "start_time": "2022-03-16T11:35:58.489Z"
   },
   {
    "duration": 35,
    "start_time": "2022-03-16T11:35:58.517Z"
   },
   {
    "duration": 29,
    "start_time": "2022-03-16T11:35:58.555Z"
   },
   {
    "duration": 25,
    "start_time": "2022-03-16T11:35:58.586Z"
   },
   {
    "duration": 8,
    "start_time": "2022-03-16T11:35:58.613Z"
   },
   {
    "duration": 58,
    "start_time": "2022-03-16T11:35:58.624Z"
   },
   {
    "duration": 21,
    "start_time": "2022-03-16T11:35:58.685Z"
   },
   {
    "duration": 32,
    "start_time": "2022-03-16T11:35:58.708Z"
   },
   {
    "duration": 106,
    "start_time": "2022-03-16T11:35:58.742Z"
   },
   {
    "duration": 106,
    "start_time": "2022-03-16T11:35:58.851Z"
   },
   {
    "duration": 84,
    "start_time": "2022-03-16T11:35:58.960Z"
   },
   {
    "duration": 116,
    "start_time": "2022-03-16T11:35:59.047Z"
   },
   {
    "duration": 18,
    "start_time": "2022-03-16T11:35:59.165Z"
   },
   {
    "duration": 20,
    "start_time": "2022-03-16T11:35:59.185Z"
   },
   {
    "duration": 127,
    "start_time": "2022-03-16T11:35:59.207Z"
   },
   {
    "duration": 15,
    "start_time": "2022-03-16T11:35:59.337Z"
   },
   {
    "duration": 30,
    "start_time": "2022-03-16T11:35:59.355Z"
   },
   {
    "duration": 5,
    "start_time": "2022-03-16T11:35:59.388Z"
   },
   {
    "duration": 27,
    "start_time": "2022-03-16T11:35:59.396Z"
   },
   {
    "duration": 18,
    "start_time": "2022-03-16T11:35:59.426Z"
   },
   {
    "duration": 19,
    "start_time": "2022-03-16T11:35:59.485Z"
   },
   {
    "duration": 18,
    "start_time": "2022-03-16T11:35:59.507Z"
   },
   {
    "duration": 20,
    "start_time": "2022-03-16T11:35:59.527Z"
   },
   {
    "duration": 46,
    "start_time": "2022-03-16T11:35:59.549Z"
   },
   {
    "duration": 11,
    "start_time": "2022-03-16T11:35:59.598Z"
   },
   {
    "duration": 29,
    "start_time": "2022-03-16T11:35:59.611Z"
   },
   {
    "duration": 60,
    "start_time": "2022-03-16T11:35:59.642Z"
   },
   {
    "duration": 5,
    "start_time": "2022-03-16T11:35:59.704Z"
   },
   {
    "duration": 33,
    "start_time": "2022-03-16T11:35:59.712Z"
   },
   {
    "duration": 45,
    "start_time": "2022-03-16T11:35:59.748Z"
   },
   {
    "duration": 22,
    "start_time": "2022-03-16T11:35:59.795Z"
   },
   {
    "duration": 16,
    "start_time": "2022-03-16T11:35:59.820Z"
   },
   {
    "duration": 60,
    "start_time": "2022-03-16T11:35:59.839Z"
   },
   {
    "duration": 6,
    "start_time": "2022-03-16T11:35:59.901Z"
   },
   {
    "duration": 27,
    "start_time": "2022-03-16T11:35:59.909Z"
   },
   {
    "duration": 6,
    "start_time": "2022-03-16T11:35:59.939Z"
   },
   {
    "duration": 750,
    "start_time": "2022-03-16T11:59:55.323Z"
   },
   {
    "duration": 193,
    "start_time": "2022-03-16T11:59:56.076Z"
   },
   {
    "duration": 26,
    "start_time": "2022-03-16T11:59:56.273Z"
   },
   {
    "duration": 43,
    "start_time": "2022-03-16T11:59:56.302Z"
   },
   {
    "duration": 31,
    "start_time": "2022-03-16T11:59:56.348Z"
   },
   {
    "duration": 36,
    "start_time": "2022-03-16T11:59:56.382Z"
   },
   {
    "duration": 21,
    "start_time": "2022-03-16T11:59:56.421Z"
   },
   {
    "duration": 51,
    "start_time": "2022-03-16T11:59:56.444Z"
   },
   {
    "duration": 41,
    "start_time": "2022-03-16T11:59:56.500Z"
   },
   {
    "duration": 29,
    "start_time": "2022-03-16T11:59:56.545Z"
   },
   {
    "duration": 83,
    "start_time": "2022-03-16T11:59:56.583Z"
   },
   {
    "duration": 101,
    "start_time": "2022-03-16T11:59:56.681Z"
   },
   {
    "duration": 78,
    "start_time": "2022-03-16T11:59:56.784Z"
   },
   {
    "duration": 134,
    "start_time": "2022-03-16T11:59:56.864Z"
   },
   {
    "duration": 5,
    "start_time": "2022-03-16T11:59:57.001Z"
   },
   {
    "duration": 23,
    "start_time": "2022-03-16T11:59:57.009Z"
   },
   {
    "duration": 162,
    "start_time": "2022-03-16T11:59:57.034Z"
   },
   {
    "duration": 19,
    "start_time": "2022-03-16T11:59:57.199Z"
   },
   {
    "duration": 44,
    "start_time": "2022-03-16T11:59:57.222Z"
   },
   {
    "duration": 13,
    "start_time": "2022-03-16T11:59:57.269Z"
   },
   {
    "duration": 48,
    "start_time": "2022-03-16T11:59:57.285Z"
   },
   {
    "duration": 45,
    "start_time": "2022-03-16T11:59:57.336Z"
   },
   {
    "duration": 32,
    "start_time": "2022-03-16T11:59:57.384Z"
   },
   {
    "duration": 25,
    "start_time": "2022-03-16T11:59:57.419Z"
   },
   {
    "duration": 20,
    "start_time": "2022-03-16T11:59:57.446Z"
   },
   {
    "duration": 19,
    "start_time": "2022-03-16T11:59:57.483Z"
   },
   {
    "duration": 12,
    "start_time": "2022-03-16T11:59:57.507Z"
   },
   {
    "duration": 35,
    "start_time": "2022-03-16T11:59:57.521Z"
   },
   {
    "duration": 29,
    "start_time": "2022-03-16T11:59:57.583Z"
   },
   {
    "duration": 5,
    "start_time": "2022-03-16T11:59:57.615Z"
   },
   {
    "duration": 33,
    "start_time": "2022-03-16T11:59:57.623Z"
   },
   {
    "duration": 38,
    "start_time": "2022-03-16T11:59:57.658Z"
   },
   {
    "duration": 26,
    "start_time": "2022-03-16T11:59:57.699Z"
   },
   {
    "duration": 56,
    "start_time": "2022-03-16T11:59:57.728Z"
   },
   {
    "duration": 41,
    "start_time": "2022-03-16T11:59:57.787Z"
   },
   {
    "duration": 7,
    "start_time": "2022-03-16T11:59:57.831Z"
   },
   {
    "duration": 47,
    "start_time": "2022-03-16T11:59:57.840Z"
   },
   {
    "duration": 6,
    "start_time": "2022-03-16T11:59:57.889Z"
   },
   {
    "duration": 624,
    "start_time": "2022-03-16T15:42:17.534Z"
   },
   {
    "duration": 138,
    "start_time": "2022-03-16T15:42:18.160Z"
   },
   {
    "duration": 16,
    "start_time": "2022-03-16T15:42:18.300Z"
   },
   {
    "duration": 28,
    "start_time": "2022-03-16T15:42:18.318Z"
   },
   {
    "duration": 17,
    "start_time": "2022-03-16T15:42:18.348Z"
   },
   {
    "duration": 22,
    "start_time": "2022-03-16T15:42:18.367Z"
   },
   {
    "duration": 4,
    "start_time": "2022-03-16T15:42:18.390Z"
   },
   {
    "duration": 27,
    "start_time": "2022-03-16T15:42:18.397Z"
   },
   {
    "duration": 41,
    "start_time": "2022-03-16T15:42:18.426Z"
   },
   {
    "duration": 23,
    "start_time": "2022-03-16T15:42:18.470Z"
   },
   {
    "duration": 80,
    "start_time": "2022-03-16T15:42:18.495Z"
   },
   {
    "duration": 66,
    "start_time": "2022-03-16T15:42:18.577Z"
   },
   {
    "duration": 67,
    "start_time": "2022-03-16T15:42:18.645Z"
   },
   {
    "duration": 117,
    "start_time": "2022-03-16T15:42:18.714Z"
   },
   {
    "duration": 4,
    "start_time": "2022-03-16T15:42:18.833Z"
   },
   {
    "duration": 27,
    "start_time": "2022-03-16T15:42:18.839Z"
   },
   {
    "duration": 130,
    "start_time": "2022-03-16T15:42:18.868Z"
   },
   {
    "duration": 17,
    "start_time": "2022-03-16T15:42:19.000Z"
   },
   {
    "duration": 16,
    "start_time": "2022-03-16T15:42:19.019Z"
   },
   {
    "duration": 5,
    "start_time": "2022-03-16T15:42:19.037Z"
   },
   {
    "duration": 17,
    "start_time": "2022-03-16T15:42:19.063Z"
   },
   {
    "duration": 14,
    "start_time": "2022-03-16T15:42:19.081Z"
   },
   {
    "duration": 14,
    "start_time": "2022-03-16T15:42:19.098Z"
   },
   {
    "duration": 15,
    "start_time": "2022-03-16T15:42:19.114Z"
   },
   {
    "duration": 52,
    "start_time": "2022-03-16T15:42:19.131Z"
   },
   {
    "duration": 19,
    "start_time": "2022-03-16T15:42:19.186Z"
   },
   {
    "duration": 12,
    "start_time": "2022-03-16T15:42:19.207Z"
   },
   {
    "duration": 50,
    "start_time": "2022-03-16T15:42:19.221Z"
   },
   {
    "duration": 19,
    "start_time": "2022-03-16T15:42:19.273Z"
   },
   {
    "duration": 5,
    "start_time": "2022-03-16T15:42:19.294Z"
   },
   {
    "duration": 28,
    "start_time": "2022-03-16T15:42:19.301Z"
   },
   {
    "duration": 40,
    "start_time": "2022-03-16T15:42:19.331Z"
   },
   {
    "duration": 21,
    "start_time": "2022-03-16T15:42:19.373Z"
   },
   {
    "duration": 15,
    "start_time": "2022-03-16T15:42:19.396Z"
   },
   {
    "duration": 52,
    "start_time": "2022-03-16T15:42:19.413Z"
   },
   {
    "duration": 5,
    "start_time": "2022-03-16T15:42:19.467Z"
   },
   {
    "duration": 19,
    "start_time": "2022-03-16T15:42:19.473Z"
   },
   {
    "duration": 5,
    "start_time": "2022-03-16T15:42:19.493Z"
   }
  ],
  "colab": {
   "collapsed_sections": [
    "E0vqbgi9ay0H",
    "VUC88oWjTJw2"
   ],
   "name": "yandex_music_project_2021.2.ipynb",
   "provenance": []
  },
  "kernelspec": {
   "display_name": "Python 3 (ipykernel)",
   "language": "python",
   "name": "python3"
  },
  "language_info": {
   "codemirror_mode": {
    "name": "ipython",
    "version": 3
   },
   "file_extension": ".py",
   "mimetype": "text/x-python",
   "name": "python",
   "nbconvert_exporter": "python",
   "pygments_lexer": "ipython3",
   "version": "3.9.5"
  },
  "toc": {
   "base_numbering": 1,
   "nav_menu": {},
   "number_sections": true,
   "sideBar": true,
   "skip_h1_title": true,
   "title_cell": "Table of Contents",
   "title_sidebar": "Contents",
   "toc_cell": false,
   "toc_position": {
    "height": "calc(100% - 180px)",
    "left": "10px",
    "top": "150px",
    "width": "301.188px"
   },
   "toc_section_display": true,
   "toc_window_display": true
  }
 },
 "nbformat": 4,
 "nbformat_minor": 1
}
