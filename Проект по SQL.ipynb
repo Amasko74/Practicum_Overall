{
 "cells": [
  {
   "cell_type": "markdown",
   "metadata": {},
   "source": [
    "# Проект по SQL"
   ]
  },
  {
   "cell_type": "markdown",
   "metadata": {},
   "source": [
    "**Описание проекта:**\n",
    "\n",
    "Коронавирус застал мир врасплох, изменив привычный порядок вещей. В свободное время жители городов больше не выходят на улицу, не посещают кафе и торговые центры. Зато стало больше времени для книг. Это заметили стартаперы — и бросились создавать приложения для тех, кто любит читать. Ваша компания решила быть на волне и купила крупный сервис для чтения книг по подписке. Ваша первая задача как аналитика — проанализировать базу данных. В ней — информация о книгах, издательствах, авторах, а также пользовательские обзоры книг. Эти данные помогут сформулировать ценностное предложение для нового продукта.\n",
    "\n",
    "**Задания:**\n",
    "\n",
    "    - Посчитайте, сколько книг вышло после 1 января 2000 года;\n",
    "    - Для каждой книги посчитайте количество обзоров и среднюю оценку;\n",
    "    - Определите издательство, которое выпустило наибольшее число книг толще 50 страниц — так вы исключите из анализа          брошюры;\n",
    "    - Определите автора с самой высокой средней оценкой книг — учитывайте только книги с 50 и более оценками;\n",
    "    - Посчитайте среднее количество обзоров от пользователей, которые поставили больше 48 оценок.\n",
    "\n",
    "**План:**\n",
    "\n",
    "    - Получаем доступ к базе данных;\n",
    "    - Исследование таблиц;\n",
    "    - Считаем, сколько книг вышло после 1 января 2000 года;\n",
    "    - Для каждой книги считаем количество обзоров и среднюю оценку;\n",
    "    - Определяем издательство, которое выпустило наибольшее число книг толще 50 страниц — так вы исключите из анализа            брошюры;\n",
    "    - Определяем автора с самой высокой средней оценкой книг — учитывайте только книги с 50 и более оценками;\n",
    "    - Считаем среднее количество обзоров от пользователей, которые поставили больше 48 оценок;\n",
    "    - Общий вывод.\n",
    "\n",
    "**Описание данных:**\n",
    "\n",
    "Таблица books - Содержит данные о книгах:\n",
    "\n",
    "    - book_id — идентификатор книги;\n",
    "    - author_id — идентификатор автора;\n",
    "    - title — название книги;\n",
    "    - num_pages — количество страниц;\n",
    "    - publication_date — дата публикации книги;\n",
    "    - publisher_id — идентификатор издателя.\n",
    "  \n",
    "Таблица authors - Содержит данные об авторах:\n",
    "\n",
    "    - author_id — идентификатор автора;\n",
    "    - author — имя автора.\n",
    "   \n",
    "Таблица publishers - Содержит данные об издательствах:\n",
    "\n",
    "    - publisher_id — идентификатор издательства;\n",
    "    - publisher — название издательства;\n",
    "\n",
    "Таблица ratings - Содержит данные о пользовательских оценках книг:\n",
    "\n",
    "    - rating_id — идентификатор оценки;\n",
    "    - book_id — идентификатор книги;\n",
    "    - username — имя пользователя, оставившего оценку;\n",
    "    - rating — оценка книги.\n",
    "    \n",
    "Таблица reviews - Содержит данные о пользовательских обзорах на книги:\n",
    "\n",
    "    - review_id — идентификатор обзора;\n",
    "    - book_id — идентификатор книги;\n",
    "    - username — имя пользователя, написавшего обзор;\n",
    "    - text — текст обзора."
   ]
  },
  {
   "cell_type": "markdown",
   "metadata": {},
   "source": [
    "## Получаем доступ к базе данных."
   ]
  },
  {
   "cell_type": "code",
   "execution_count": 1,
   "metadata": {},
   "outputs": [],
   "source": [
    "# импортируем библиотеки\n",
    "import pandas as pd\n",
    "from sqlalchemy import text, create_engine"
   ]
  },
  {
   "cell_type": "code",
   "execution_count": 2,
   "metadata": {},
   "outputs": [],
   "source": [
    "# устанавливаем параметры\n",
    "db_config = {'user': 'praktikum_student', # имя пользователя\n",
    "             'pwd': 'Sdf4$2;d-d30pp', # пароль\n",
    "             'host': 'rc1b-wcoijxj3yxfsf3fs.mdb.yandexcloud.net',\n",
    "             'port': 6432, # порт подключения\n",
    "             'db': 'data-analyst-final-project-db'} # название базы данных\n",
    "\n",
    "connection_string = 'postgresql://{user}:{pwd}@{host}:{port}/{db}'.format(**db_config)\n",
    "\n",
    "# сохраняем коннектор\n",
    "engine = create_engine(connection_string, connect_args={'sslmode':'require'})"
   ]
  },
  {
   "cell_type": "markdown",
   "metadata": {},
   "source": [
    "## Исследование таблиц.\n",
    "Отобразим первые строки каждой таблицы.\n",
    "\n",
    "Таблица `books`:"
   ]
  },
  {
   "cell_type": "code",
   "execution_count": 3,
   "metadata": {},
   "outputs": [
    {
     "data": {
      "text/html": [
       "<div>\n",
       "<style scoped>\n",
       "    .dataframe tbody tr th:only-of-type {\n",
       "        vertical-align: middle;\n",
       "    }\n",
       "\n",
       "    .dataframe tbody tr th {\n",
       "        vertical-align: top;\n",
       "    }\n",
       "\n",
       "    .dataframe thead th {\n",
       "        text-align: right;\n",
       "    }\n",
       "</style>\n",
       "<table border=\"1\" class=\"dataframe\">\n",
       "  <thead>\n",
       "    <tr style=\"text-align: right;\">\n",
       "      <th></th>\n",
       "      <th>book_id</th>\n",
       "      <th>author_id</th>\n",
       "      <th>title</th>\n",
       "      <th>num_pages</th>\n",
       "      <th>publication_date</th>\n",
       "      <th>publisher_id</th>\n",
       "    </tr>\n",
       "  </thead>\n",
       "  <tbody>\n",
       "    <tr>\n",
       "      <th>0</th>\n",
       "      <td>1</td>\n",
       "      <td>546</td>\n",
       "      <td>'Salem's Lot</td>\n",
       "      <td>594</td>\n",
       "      <td>2005-11-01</td>\n",
       "      <td>93</td>\n",
       "    </tr>\n",
       "    <tr>\n",
       "      <th>1</th>\n",
       "      <td>2</td>\n",
       "      <td>465</td>\n",
       "      <td>1 000 Places to See Before You Die</td>\n",
       "      <td>992</td>\n",
       "      <td>2003-05-22</td>\n",
       "      <td>336</td>\n",
       "    </tr>\n",
       "    <tr>\n",
       "      <th>2</th>\n",
       "      <td>3</td>\n",
       "      <td>407</td>\n",
       "      <td>13 Little Blue Envelopes (Little Blue Envelope...</td>\n",
       "      <td>322</td>\n",
       "      <td>2010-12-21</td>\n",
       "      <td>135</td>\n",
       "    </tr>\n",
       "    <tr>\n",
       "      <th>3</th>\n",
       "      <td>4</td>\n",
       "      <td>82</td>\n",
       "      <td>1491: New Revelations of the Americas Before C...</td>\n",
       "      <td>541</td>\n",
       "      <td>2006-10-10</td>\n",
       "      <td>309</td>\n",
       "    </tr>\n",
       "    <tr>\n",
       "      <th>4</th>\n",
       "      <td>5</td>\n",
       "      <td>125</td>\n",
       "      <td>1776</td>\n",
       "      <td>386</td>\n",
       "      <td>2006-07-04</td>\n",
       "      <td>268</td>\n",
       "    </tr>\n",
       "    <tr>\n",
       "      <th>5</th>\n",
       "      <td>6</td>\n",
       "      <td>257</td>\n",
       "      <td>1st to Die (Women's Murder Club  #1)</td>\n",
       "      <td>424</td>\n",
       "      <td>2005-05-20</td>\n",
       "      <td>116</td>\n",
       "    </tr>\n",
       "    <tr>\n",
       "      <th>6</th>\n",
       "      <td>7</td>\n",
       "      <td>258</td>\n",
       "      <td>2nd Chance (Women's Murder Club  #2)</td>\n",
       "      <td>400</td>\n",
       "      <td>2005-05-20</td>\n",
       "      <td>116</td>\n",
       "    </tr>\n",
       "    <tr>\n",
       "      <th>7</th>\n",
       "      <td>8</td>\n",
       "      <td>260</td>\n",
       "      <td>4th of July (Women's Murder Club  #4)</td>\n",
       "      <td>448</td>\n",
       "      <td>2006-06-01</td>\n",
       "      <td>318</td>\n",
       "    </tr>\n",
       "    <tr>\n",
       "      <th>8</th>\n",
       "      <td>9</td>\n",
       "      <td>563</td>\n",
       "      <td>A Beautiful Mind</td>\n",
       "      <td>461</td>\n",
       "      <td>2002-02-04</td>\n",
       "      <td>104</td>\n",
       "    </tr>\n",
       "    <tr>\n",
       "      <th>9</th>\n",
       "      <td>10</td>\n",
       "      <td>445</td>\n",
       "      <td>A Bend in the Road</td>\n",
       "      <td>341</td>\n",
       "      <td>2005-04-01</td>\n",
       "      <td>116</td>\n",
       "    </tr>\n",
       "  </tbody>\n",
       "</table>\n",
       "</div>"
      ],
      "text/plain": [
       "   book_id  author_id                                              title  \\\n",
       "0        1        546                                       'Salem's Lot   \n",
       "1        2        465                 1 000 Places to See Before You Die   \n",
       "2        3        407  13 Little Blue Envelopes (Little Blue Envelope...   \n",
       "3        4         82  1491: New Revelations of the Americas Before C...   \n",
       "4        5        125                                               1776   \n",
       "5        6        257               1st to Die (Women's Murder Club  #1)   \n",
       "6        7        258               2nd Chance (Women's Murder Club  #2)   \n",
       "7        8        260              4th of July (Women's Murder Club  #4)   \n",
       "8        9        563                                   A Beautiful Mind   \n",
       "9       10        445                                 A Bend in the Road   \n",
       "\n",
       "   num_pages publication_date  publisher_id  \n",
       "0        594       2005-11-01            93  \n",
       "1        992       2003-05-22           336  \n",
       "2        322       2010-12-21           135  \n",
       "3        541       2006-10-10           309  \n",
       "4        386       2006-07-04           268  \n",
       "5        424       2005-05-20           116  \n",
       "6        400       2005-05-20           116  \n",
       "7        448       2006-06-01           318  \n",
       "8        461       2002-02-04           104  \n",
       "9        341       2005-04-01           116  "
      ]
     },
     "execution_count": 3,
     "metadata": {},
     "output_type": "execute_result"
    }
   ],
   "source": [
    "query = '''\n",
    "\n",
    "SELECT * \n",
    "FROM books \n",
    "LIMIT 10\n",
    "\n",
    "'''\n",
    "\n",
    "pd.io.sql.read_sql(sql=text(query), con = engine)"
   ]
  },
  {
   "cell_type": "markdown",
   "metadata": {},
   "source": [
    "Таблица `authors`:"
   ]
  },
  {
   "cell_type": "code",
   "execution_count": 4,
   "metadata": {},
   "outputs": [
    {
     "data": {
      "text/html": [
       "<div>\n",
       "<style scoped>\n",
       "    .dataframe tbody tr th:only-of-type {\n",
       "        vertical-align: middle;\n",
       "    }\n",
       "\n",
       "    .dataframe tbody tr th {\n",
       "        vertical-align: top;\n",
       "    }\n",
       "\n",
       "    .dataframe thead th {\n",
       "        text-align: right;\n",
       "    }\n",
       "</style>\n",
       "<table border=\"1\" class=\"dataframe\">\n",
       "  <thead>\n",
       "    <tr style=\"text-align: right;\">\n",
       "      <th></th>\n",
       "      <th>author_id</th>\n",
       "      <th>author</th>\n",
       "    </tr>\n",
       "  </thead>\n",
       "  <tbody>\n",
       "    <tr>\n",
       "      <th>0</th>\n",
       "      <td>1</td>\n",
       "      <td>A.S. Byatt</td>\n",
       "    </tr>\n",
       "    <tr>\n",
       "      <th>1</th>\n",
       "      <td>2</td>\n",
       "      <td>Aesop/Laura Harris/Laura Gibbs</td>\n",
       "    </tr>\n",
       "    <tr>\n",
       "      <th>2</th>\n",
       "      <td>3</td>\n",
       "      <td>Agatha Christie</td>\n",
       "    </tr>\n",
       "    <tr>\n",
       "      <th>3</th>\n",
       "      <td>4</td>\n",
       "      <td>Alan Brennert</td>\n",
       "    </tr>\n",
       "    <tr>\n",
       "      <th>4</th>\n",
       "      <td>5</td>\n",
       "      <td>Alan Moore/David   Lloyd</td>\n",
       "    </tr>\n",
       "    <tr>\n",
       "      <th>5</th>\n",
       "      <td>6</td>\n",
       "      <td>Alan Paton</td>\n",
       "    </tr>\n",
       "    <tr>\n",
       "      <th>6</th>\n",
       "      <td>7</td>\n",
       "      <td>Albert Camus/Justin O'Brien</td>\n",
       "    </tr>\n",
       "    <tr>\n",
       "      <th>7</th>\n",
       "      <td>8</td>\n",
       "      <td>Aldous Huxley</td>\n",
       "    </tr>\n",
       "    <tr>\n",
       "      <th>8</th>\n",
       "      <td>9</td>\n",
       "      <td>Aldous Huxley/Christopher Hitchens</td>\n",
       "    </tr>\n",
       "    <tr>\n",
       "      <th>9</th>\n",
       "      <td>10</td>\n",
       "      <td>Aleksandr Solzhenitsyn/H.T. Willetts</td>\n",
       "    </tr>\n",
       "  </tbody>\n",
       "</table>\n",
       "</div>"
      ],
      "text/plain": [
       "   author_id                                author\n",
       "0          1                            A.S. Byatt\n",
       "1          2        Aesop/Laura Harris/Laura Gibbs\n",
       "2          3                       Agatha Christie\n",
       "3          4                         Alan Brennert\n",
       "4          5              Alan Moore/David   Lloyd\n",
       "5          6                            Alan Paton\n",
       "6          7           Albert Camus/Justin O'Brien\n",
       "7          8                         Aldous Huxley\n",
       "8          9    Aldous Huxley/Christopher Hitchens\n",
       "9         10  Aleksandr Solzhenitsyn/H.T. Willetts"
      ]
     },
     "execution_count": 4,
     "metadata": {},
     "output_type": "execute_result"
    }
   ],
   "source": [
    "query = '''\n",
    "\n",
    "SELECT * \n",
    "FROM authors \n",
    "LIMIT 10\n",
    "\n",
    "'''\n",
    "\n",
    "pd.io.sql.read_sql(sql=text(query), con = engine)"
   ]
  },
  {
   "cell_type": "markdown",
   "metadata": {},
   "source": [
    "Таблица `publishers`:"
   ]
  },
  {
   "cell_type": "code",
   "execution_count": 5,
   "metadata": {},
   "outputs": [
    {
     "data": {
      "text/html": [
       "<div>\n",
       "<style scoped>\n",
       "    .dataframe tbody tr th:only-of-type {\n",
       "        vertical-align: middle;\n",
       "    }\n",
       "\n",
       "    .dataframe tbody tr th {\n",
       "        vertical-align: top;\n",
       "    }\n",
       "\n",
       "    .dataframe thead th {\n",
       "        text-align: right;\n",
       "    }\n",
       "</style>\n",
       "<table border=\"1\" class=\"dataframe\">\n",
       "  <thead>\n",
       "    <tr style=\"text-align: right;\">\n",
       "      <th></th>\n",
       "      <th>publisher_id</th>\n",
       "      <th>publisher</th>\n",
       "    </tr>\n",
       "  </thead>\n",
       "  <tbody>\n",
       "    <tr>\n",
       "      <th>0</th>\n",
       "      <td>1</td>\n",
       "      <td>Ace</td>\n",
       "    </tr>\n",
       "    <tr>\n",
       "      <th>1</th>\n",
       "      <td>2</td>\n",
       "      <td>Ace Book</td>\n",
       "    </tr>\n",
       "    <tr>\n",
       "      <th>2</th>\n",
       "      <td>3</td>\n",
       "      <td>Ace Books</td>\n",
       "    </tr>\n",
       "    <tr>\n",
       "      <th>3</th>\n",
       "      <td>4</td>\n",
       "      <td>Ace Hardcover</td>\n",
       "    </tr>\n",
       "    <tr>\n",
       "      <th>4</th>\n",
       "      <td>5</td>\n",
       "      <td>Addison Wesley Publishing Company</td>\n",
       "    </tr>\n",
       "    <tr>\n",
       "      <th>5</th>\n",
       "      <td>6</td>\n",
       "      <td>Aladdin</td>\n",
       "    </tr>\n",
       "    <tr>\n",
       "      <th>6</th>\n",
       "      <td>7</td>\n",
       "      <td>Aladdin Paperbacks</td>\n",
       "    </tr>\n",
       "    <tr>\n",
       "      <th>7</th>\n",
       "      <td>8</td>\n",
       "      <td>Albin Michel</td>\n",
       "    </tr>\n",
       "    <tr>\n",
       "      <th>8</th>\n",
       "      <td>9</td>\n",
       "      <td>Alfred A. Knopf</td>\n",
       "    </tr>\n",
       "    <tr>\n",
       "      <th>9</th>\n",
       "      <td>10</td>\n",
       "      <td>Alfred A. Knopf Books for Young Readers</td>\n",
       "    </tr>\n",
       "  </tbody>\n",
       "</table>\n",
       "</div>"
      ],
      "text/plain": [
       "   publisher_id                                publisher\n",
       "0             1                                      Ace\n",
       "1             2                                 Ace Book\n",
       "2             3                                Ace Books\n",
       "3             4                            Ace Hardcover\n",
       "4             5        Addison Wesley Publishing Company\n",
       "5             6                                  Aladdin\n",
       "6             7                       Aladdin Paperbacks\n",
       "7             8                             Albin Michel\n",
       "8             9                          Alfred A. Knopf\n",
       "9            10  Alfred A. Knopf Books for Young Readers"
      ]
     },
     "execution_count": 5,
     "metadata": {},
     "output_type": "execute_result"
    }
   ],
   "source": [
    "query = '''\n",
    "\n",
    "SELECT * \n",
    "FROM publishers \n",
    "LIMIT 10\n",
    "\n",
    "'''\n",
    "\n",
    "pd.io.sql.read_sql(sql=text(query), con = engine)"
   ]
  },
  {
   "cell_type": "markdown",
   "metadata": {},
   "source": [
    "Таблица `ratings`:"
   ]
  },
  {
   "cell_type": "code",
   "execution_count": 6,
   "metadata": {},
   "outputs": [
    {
     "data": {
      "text/html": [
       "<div>\n",
       "<style scoped>\n",
       "    .dataframe tbody tr th:only-of-type {\n",
       "        vertical-align: middle;\n",
       "    }\n",
       "\n",
       "    .dataframe tbody tr th {\n",
       "        vertical-align: top;\n",
       "    }\n",
       "\n",
       "    .dataframe thead th {\n",
       "        text-align: right;\n",
       "    }\n",
       "</style>\n",
       "<table border=\"1\" class=\"dataframe\">\n",
       "  <thead>\n",
       "    <tr style=\"text-align: right;\">\n",
       "      <th></th>\n",
       "      <th>rating_id</th>\n",
       "      <th>book_id</th>\n",
       "      <th>username</th>\n",
       "      <th>rating</th>\n",
       "    </tr>\n",
       "  </thead>\n",
       "  <tbody>\n",
       "    <tr>\n",
       "      <th>0</th>\n",
       "      <td>1</td>\n",
       "      <td>1</td>\n",
       "      <td>ryanfranco</td>\n",
       "      <td>4</td>\n",
       "    </tr>\n",
       "    <tr>\n",
       "      <th>1</th>\n",
       "      <td>2</td>\n",
       "      <td>1</td>\n",
       "      <td>grantpatricia</td>\n",
       "      <td>2</td>\n",
       "    </tr>\n",
       "    <tr>\n",
       "      <th>2</th>\n",
       "      <td>3</td>\n",
       "      <td>1</td>\n",
       "      <td>brandtandrea</td>\n",
       "      <td>5</td>\n",
       "    </tr>\n",
       "    <tr>\n",
       "      <th>3</th>\n",
       "      <td>4</td>\n",
       "      <td>2</td>\n",
       "      <td>lorichen</td>\n",
       "      <td>3</td>\n",
       "    </tr>\n",
       "    <tr>\n",
       "      <th>4</th>\n",
       "      <td>5</td>\n",
       "      <td>2</td>\n",
       "      <td>mariokeller</td>\n",
       "      <td>2</td>\n",
       "    </tr>\n",
       "    <tr>\n",
       "      <th>5</th>\n",
       "      <td>6</td>\n",
       "      <td>3</td>\n",
       "      <td>johnsonamanda</td>\n",
       "      <td>4</td>\n",
       "    </tr>\n",
       "    <tr>\n",
       "      <th>6</th>\n",
       "      <td>7</td>\n",
       "      <td>3</td>\n",
       "      <td>scotttamara</td>\n",
       "      <td>5</td>\n",
       "    </tr>\n",
       "    <tr>\n",
       "      <th>7</th>\n",
       "      <td>8</td>\n",
       "      <td>3</td>\n",
       "      <td>lesliegibbs</td>\n",
       "      <td>5</td>\n",
       "    </tr>\n",
       "    <tr>\n",
       "      <th>8</th>\n",
       "      <td>9</td>\n",
       "      <td>4</td>\n",
       "      <td>abbottjames</td>\n",
       "      <td>5</td>\n",
       "    </tr>\n",
       "    <tr>\n",
       "      <th>9</th>\n",
       "      <td>10</td>\n",
       "      <td>4</td>\n",
       "      <td>valenciaanne</td>\n",
       "      <td>4</td>\n",
       "    </tr>\n",
       "  </tbody>\n",
       "</table>\n",
       "</div>"
      ],
      "text/plain": [
       "   rating_id  book_id       username  rating\n",
       "0          1        1     ryanfranco       4\n",
       "1          2        1  grantpatricia       2\n",
       "2          3        1   brandtandrea       5\n",
       "3          4        2       lorichen       3\n",
       "4          5        2    mariokeller       2\n",
       "5          6        3  johnsonamanda       4\n",
       "6          7        3    scotttamara       5\n",
       "7          8        3    lesliegibbs       5\n",
       "8          9        4    abbottjames       5\n",
       "9         10        4   valenciaanne       4"
      ]
     },
     "execution_count": 6,
     "metadata": {},
     "output_type": "execute_result"
    }
   ],
   "source": [
    "query = '''\n",
    "\n",
    "SELECT * \n",
    "FROM ratings \n",
    "LIMIT 10\n",
    "\n",
    "'''\n",
    "\n",
    "pd.io.sql.read_sql(sql=text(query), con = engine)"
   ]
  },
  {
   "cell_type": "markdown",
   "metadata": {},
   "source": [
    "Таблица `reviews`:"
   ]
  },
  {
   "cell_type": "code",
   "execution_count": 7,
   "metadata": {},
   "outputs": [
    {
     "data": {
      "text/html": [
       "<div>\n",
       "<style scoped>\n",
       "    .dataframe tbody tr th:only-of-type {\n",
       "        vertical-align: middle;\n",
       "    }\n",
       "\n",
       "    .dataframe tbody tr th {\n",
       "        vertical-align: top;\n",
       "    }\n",
       "\n",
       "    .dataframe thead th {\n",
       "        text-align: right;\n",
       "    }\n",
       "</style>\n",
       "<table border=\"1\" class=\"dataframe\">\n",
       "  <thead>\n",
       "    <tr style=\"text-align: right;\">\n",
       "      <th></th>\n",
       "      <th>review_id</th>\n",
       "      <th>book_id</th>\n",
       "      <th>username</th>\n",
       "      <th>text</th>\n",
       "    </tr>\n",
       "  </thead>\n",
       "  <tbody>\n",
       "    <tr>\n",
       "      <th>0</th>\n",
       "      <td>1</td>\n",
       "      <td>1</td>\n",
       "      <td>brandtandrea</td>\n",
       "      <td>Mention society tell send professor analysis. ...</td>\n",
       "    </tr>\n",
       "    <tr>\n",
       "      <th>1</th>\n",
       "      <td>2</td>\n",
       "      <td>1</td>\n",
       "      <td>ryanfranco</td>\n",
       "      <td>Foot glass pretty audience hit themselves. Amo...</td>\n",
       "    </tr>\n",
       "    <tr>\n",
       "      <th>2</th>\n",
       "      <td>3</td>\n",
       "      <td>2</td>\n",
       "      <td>lorichen</td>\n",
       "      <td>Listen treat keep worry. Miss husband tax but ...</td>\n",
       "    </tr>\n",
       "    <tr>\n",
       "      <th>3</th>\n",
       "      <td>4</td>\n",
       "      <td>3</td>\n",
       "      <td>johnsonamanda</td>\n",
       "      <td>Finally month interesting blue could nature cu...</td>\n",
       "    </tr>\n",
       "    <tr>\n",
       "      <th>4</th>\n",
       "      <td>5</td>\n",
       "      <td>3</td>\n",
       "      <td>scotttamara</td>\n",
       "      <td>Nation purpose heavy give wait song will. List...</td>\n",
       "    </tr>\n",
       "    <tr>\n",
       "      <th>5</th>\n",
       "      <td>6</td>\n",
       "      <td>3</td>\n",
       "      <td>lesliegibbs</td>\n",
       "      <td>Analysis no several cause international.</td>\n",
       "    </tr>\n",
       "    <tr>\n",
       "      <th>6</th>\n",
       "      <td>7</td>\n",
       "      <td>4</td>\n",
       "      <td>valenciaanne</td>\n",
       "      <td>One there cost another. Say type save. With pe...</td>\n",
       "    </tr>\n",
       "    <tr>\n",
       "      <th>7</th>\n",
       "      <td>8</td>\n",
       "      <td>4</td>\n",
       "      <td>abbottjames</td>\n",
       "      <td>Within enough mother. There at system full rec...</td>\n",
       "    </tr>\n",
       "    <tr>\n",
       "      <th>8</th>\n",
       "      <td>9</td>\n",
       "      <td>5</td>\n",
       "      <td>npowers</td>\n",
       "      <td>Thank now focus realize economy focus fly. Ite...</td>\n",
       "    </tr>\n",
       "    <tr>\n",
       "      <th>9</th>\n",
       "      <td>10</td>\n",
       "      <td>5</td>\n",
       "      <td>staylor</td>\n",
       "      <td>Game push lot reduce where remember. Including...</td>\n",
       "    </tr>\n",
       "  </tbody>\n",
       "</table>\n",
       "</div>"
      ],
      "text/plain": [
       "   review_id  book_id       username  \\\n",
       "0          1        1   brandtandrea   \n",
       "1          2        1     ryanfranco   \n",
       "2          3        2       lorichen   \n",
       "3          4        3  johnsonamanda   \n",
       "4          5        3    scotttamara   \n",
       "5          6        3    lesliegibbs   \n",
       "6          7        4   valenciaanne   \n",
       "7          8        4    abbottjames   \n",
       "8          9        5        npowers   \n",
       "9         10        5        staylor   \n",
       "\n",
       "                                                text  \n",
       "0  Mention society tell send professor analysis. ...  \n",
       "1  Foot glass pretty audience hit themselves. Amo...  \n",
       "2  Listen treat keep worry. Miss husband tax but ...  \n",
       "3  Finally month interesting blue could nature cu...  \n",
       "4  Nation purpose heavy give wait song will. List...  \n",
       "5           Analysis no several cause international.  \n",
       "6  One there cost another. Say type save. With pe...  \n",
       "7  Within enough mother. There at system full rec...  \n",
       "8  Thank now focus realize economy focus fly. Ite...  \n",
       "9  Game push lot reduce where remember. Including...  "
      ]
     },
     "execution_count": 7,
     "metadata": {},
     "output_type": "execute_result"
    }
   ],
   "source": [
    "query = '''\n",
    "\n",
    "SELECT * \n",
    "FROM reviews \n",
    "LIMIT 10\n",
    "\n",
    "'''\n",
    "\n",
    "pd.io.sql.read_sql(sql=text(query), con = engine)"
   ]
  },
  {
   "cell_type": "markdown",
   "metadata": {},
   "source": [
    "## Считаем, сколько книг вышло после 1 января 2000 года."
   ]
  },
  {
   "cell_type": "code",
   "execution_count": 8,
   "metadata": {},
   "outputs": [
    {
     "data": {
      "text/html": [
       "<div>\n",
       "<style scoped>\n",
       "    .dataframe tbody tr th:only-of-type {\n",
       "        vertical-align: middle;\n",
       "    }\n",
       "\n",
       "    .dataframe tbody tr th {\n",
       "        vertical-align: top;\n",
       "    }\n",
       "\n",
       "    .dataframe thead th {\n",
       "        text-align: right;\n",
       "    }\n",
       "</style>\n",
       "<table border=\"1\" class=\"dataframe\">\n",
       "  <thead>\n",
       "    <tr style=\"text-align: right;\">\n",
       "      <th></th>\n",
       "      <th>amount_of_books</th>\n",
       "    </tr>\n",
       "  </thead>\n",
       "  <tbody>\n",
       "    <tr>\n",
       "      <th>0</th>\n",
       "      <td>818</td>\n",
       "    </tr>\n",
       "  </tbody>\n",
       "</table>\n",
       "</div>"
      ],
      "text/plain": [
       "   amount_of_books\n",
       "0              818"
      ]
     },
     "execution_count": 8,
     "metadata": {},
     "output_type": "execute_result"
    }
   ],
   "source": [
    "query = '''\n",
    "\n",
    "SELECT COUNT(DISTINCT title) AS amount_of_books\n",
    "FROM books\n",
    "WHERE CAST(publication_date AS date) > '2000-01-01' \n",
    "\n",
    "'''\n",
    "\n",
    "pd.io.sql.read_sql(query, con = engine)"
   ]
  },
  {
   "cell_type": "markdown",
   "metadata": {},
   "source": [
    "**Вывод:**\n",
    "\n",
    "После 1 января 2000 года вышло 818 книг."
   ]
  },
  {
   "cell_type": "markdown",
   "metadata": {},
   "source": [
    "## Для каждой книги считаем количество обзоров и среднюю оценку."
   ]
  },
  {
   "cell_type": "code",
   "execution_count": 9,
   "metadata": {},
   "outputs": [
    {
     "data": {
      "text/html": [
       "<div>\n",
       "<style scoped>\n",
       "    .dataframe tbody tr th:only-of-type {\n",
       "        vertical-align: middle;\n",
       "    }\n",
       "\n",
       "    .dataframe tbody tr th {\n",
       "        vertical-align: top;\n",
       "    }\n",
       "\n",
       "    .dataframe thead th {\n",
       "        text-align: right;\n",
       "    }\n",
       "</style>\n",
       "<table border=\"1\" class=\"dataframe\">\n",
       "  <thead>\n",
       "    <tr style=\"text-align: right;\">\n",
       "      <th></th>\n",
       "      <th>title</th>\n",
       "      <th>avg_rating</th>\n",
       "      <th>amount_of_reviews</th>\n",
       "    </tr>\n",
       "  </thead>\n",
       "  <tbody>\n",
       "    <tr>\n",
       "      <th>0</th>\n",
       "      <td>'Salem's Lot</td>\n",
       "      <td>3.666667</td>\n",
       "      <td>2</td>\n",
       "    </tr>\n",
       "    <tr>\n",
       "      <th>1</th>\n",
       "      <td>1 000 Places to See Before You Die</td>\n",
       "      <td>2.500000</td>\n",
       "      <td>1</td>\n",
       "    </tr>\n",
       "    <tr>\n",
       "      <th>2</th>\n",
       "      <td>13 Little Blue Envelopes (Little Blue Envelope...</td>\n",
       "      <td>4.666667</td>\n",
       "      <td>3</td>\n",
       "    </tr>\n",
       "    <tr>\n",
       "      <th>3</th>\n",
       "      <td>1491: New Revelations of the Americas Before C...</td>\n",
       "      <td>4.500000</td>\n",
       "      <td>2</td>\n",
       "    </tr>\n",
       "    <tr>\n",
       "      <th>4</th>\n",
       "      <td>1776</td>\n",
       "      <td>4.000000</td>\n",
       "      <td>4</td>\n",
       "    </tr>\n",
       "    <tr>\n",
       "      <th>...</th>\n",
       "      <td>...</td>\n",
       "      <td>...</td>\n",
       "      <td>...</td>\n",
       "    </tr>\n",
       "    <tr>\n",
       "      <th>994</th>\n",
       "      <td>Wyrd Sisters (Discworld  #6; Witches #2)</td>\n",
       "      <td>3.666667</td>\n",
       "      <td>3</td>\n",
       "    </tr>\n",
       "    <tr>\n",
       "      <th>995</th>\n",
       "      <td>Xenocide (Ender's Saga  #3)</td>\n",
       "      <td>3.400000</td>\n",
       "      <td>3</td>\n",
       "    </tr>\n",
       "    <tr>\n",
       "      <th>996</th>\n",
       "      <td>Year of Wonders</td>\n",
       "      <td>3.200000</td>\n",
       "      <td>4</td>\n",
       "    </tr>\n",
       "    <tr>\n",
       "      <th>997</th>\n",
       "      <td>You Suck (A Love Story  #2)</td>\n",
       "      <td>4.500000</td>\n",
       "      <td>2</td>\n",
       "    </tr>\n",
       "    <tr>\n",
       "      <th>998</th>\n",
       "      <td>Zen and the Art of Motorcycle Maintenance: An ...</td>\n",
       "      <td>3.833333</td>\n",
       "      <td>4</td>\n",
       "    </tr>\n",
       "  </tbody>\n",
       "</table>\n",
       "<p>999 rows × 3 columns</p>\n",
       "</div>"
      ],
      "text/plain": [
       "                                                 title  avg_rating  \\\n",
       "0                                         'Salem's Lot    3.666667   \n",
       "1                   1 000 Places to See Before You Die    2.500000   \n",
       "2    13 Little Blue Envelopes (Little Blue Envelope...    4.666667   \n",
       "3    1491: New Revelations of the Americas Before C...    4.500000   \n",
       "4                                                 1776    4.000000   \n",
       "..                                                 ...         ...   \n",
       "994           Wyrd Sisters (Discworld  #6; Witches #2)    3.666667   \n",
       "995                        Xenocide (Ender's Saga  #3)    3.400000   \n",
       "996                                    Year of Wonders    3.200000   \n",
       "997                        You Suck (A Love Story  #2)    4.500000   \n",
       "998  Zen and the Art of Motorcycle Maintenance: An ...    3.833333   \n",
       "\n",
       "     amount_of_reviews  \n",
       "0                    2  \n",
       "1                    1  \n",
       "2                    3  \n",
       "3                    2  \n",
       "4                    4  \n",
       "..                 ...  \n",
       "994                  3  \n",
       "995                  3  \n",
       "996                  4  \n",
       "997                  2  \n",
       "998                  4  \n",
       "\n",
       "[999 rows x 3 columns]"
      ]
     },
     "execution_count": 9,
     "metadata": {},
     "output_type": "execute_result"
    }
   ],
   "source": [
    "query = '''\n",
    "\n",
    "SELECT b.title,\n",
    "       AVG(ra.rating) AS avg_rating,\n",
    "       COUNT(DISTINCT(re.review_id)) AS amount_of_reviews\n",
    "FROM books AS b\n",
    "LEFT JOIN ratings AS ra ON b.book_id=ra.book_id\n",
    "LEFT JOIN reviews AS re ON b.book_id=re.book_id\n",
    "GROUP BY b.title\n",
    "            \n",
    "'''\n",
    "\n",
    "pd.io.sql.read_sql(query, con = engine)"
   ]
  },
  {
   "cell_type": "markdown",
   "metadata": {},
   "source": [
    "**Вывод:**\n",
    "\n",
    "Для каждой книги посчтиали количество обзоров и среднюю оценку."
   ]
  },
  {
   "cell_type": "markdown",
   "metadata": {},
   "source": [
    "## Определяем издательство, которое выпустило наибольшее число книг толще 50 страниц — так вы исключите из анализа брошюры."
   ]
  },
  {
   "cell_type": "code",
   "execution_count": 10,
   "metadata": {},
   "outputs": [
    {
     "data": {
      "text/html": [
       "<div>\n",
       "<style scoped>\n",
       "    .dataframe tbody tr th:only-of-type {\n",
       "        vertical-align: middle;\n",
       "    }\n",
       "\n",
       "    .dataframe tbody tr th {\n",
       "        vertical-align: top;\n",
       "    }\n",
       "\n",
       "    .dataframe thead th {\n",
       "        text-align: right;\n",
       "    }\n",
       "</style>\n",
       "<table border=\"1\" class=\"dataframe\">\n",
       "  <thead>\n",
       "    <tr style=\"text-align: right;\">\n",
       "      <th></th>\n",
       "      <th>publisher</th>\n",
       "      <th>published_books</th>\n",
       "    </tr>\n",
       "  </thead>\n",
       "  <tbody>\n",
       "    <tr>\n",
       "      <th>0</th>\n",
       "      <td>Penguin Books</td>\n",
       "      <td>42</td>\n",
       "    </tr>\n",
       "  </tbody>\n",
       "</table>\n",
       "</div>"
      ],
      "text/plain": [
       "       publisher  published_books\n",
       "0  Penguin Books               42"
      ]
     },
     "execution_count": 10,
     "metadata": {},
     "output_type": "execute_result"
    }
   ],
   "source": [
    "query = '''\n",
    "            \n",
    "SELECT p.publisher,\n",
    "       COUNT(DISTINCT b.title) AS published_books\n",
    "FROM books AS b\n",
    "LEFT JOIN publishers AS p ON b.publisher_id = p.publisher_id\n",
    "WHERE b.num_pages > 50\n",
    "GROUP BY p.publisher\n",
    "ORDER BY published_books DESC\n",
    "LIMIT 1           \n",
    "      \n",
    "'''\n",
    "\n",
    "pd.io.sql.read_sql(query, con = engine)"
   ]
  },
  {
   "cell_type": "markdown",
   "metadata": {},
   "source": [
    "**Вывод:**\n",
    "\n",
    "Выяснили, что издательство `Penguin Books` выпустило 42 книги, что является наибольшим числом среди других издательств."
   ]
  },
  {
   "cell_type": "markdown",
   "metadata": {},
   "source": [
    "## Определяем автора с самой высокой средней оценкой книг — учитывайте только книги с 50 и более оценками."
   ]
  },
  {
   "cell_type": "code",
   "execution_count": 11,
   "metadata": {},
   "outputs": [
    {
     "data": {
      "text/html": [
       "<div>\n",
       "<style scoped>\n",
       "    .dataframe tbody tr th:only-of-type {\n",
       "        vertical-align: middle;\n",
       "    }\n",
       "\n",
       "    .dataframe tbody tr th {\n",
       "        vertical-align: top;\n",
       "    }\n",
       "\n",
       "    .dataframe thead th {\n",
       "        text-align: right;\n",
       "    }\n",
       "</style>\n",
       "<table border=\"1\" class=\"dataframe\">\n",
       "  <thead>\n",
       "    <tr style=\"text-align: right;\">\n",
       "      <th></th>\n",
       "      <th>author</th>\n",
       "      <th>avg_rating</th>\n",
       "    </tr>\n",
       "  </thead>\n",
       "  <tbody>\n",
       "    <tr>\n",
       "      <th>0</th>\n",
       "      <td>J.K. Rowling/Mary GrandPré</td>\n",
       "      <td>4.283844</td>\n",
       "    </tr>\n",
       "  </tbody>\n",
       "</table>\n",
       "</div>"
      ],
      "text/plain": [
       "                       author  avg_rating\n",
       "0  J.K. Rowling/Mary GrandPré    4.283844"
      ]
     },
     "execution_count": 11,
     "metadata": {},
     "output_type": "execute_result"
    }
   ],
   "source": [
    "query = '''\n",
    "\n",
    "WITH first AS \n",
    "    (SELECT book_id,\n",
    "            AVG(rating) AS avg_rating\n",
    "    FROM ratings\n",
    "    GROUP BY book_id\n",
    "    HAVING COUNT(rating) >= 50)\n",
    "\n",
    "SELECT author,\n",
    "       AVG(avg_rating) AS avg_rating\n",
    "FROM first\n",
    "JOIN books AS b ON first.book_id=b.book_id\n",
    "JOIN authors AS a ON b.author_id=a.author_id\n",
    "GROUP BY author\n",
    "ORDER BY avg_rating DESC\n",
    "LIMIT 1\n",
    "\n",
    "'''\n",
    "\n",
    "pd.io.sql.read_sql(query, con = engine)"
   ]
  },
  {
   "cell_type": "markdown",
   "metadata": {},
   "source": [
    "**Вывод:**\n",
    "\n",
    "Выяснили, что у автора `J.K. Rowling/Mary GrandPré` -  самая высокой средняя оценка книг (4.28)."
   ]
  },
  {
   "cell_type": "markdown",
   "metadata": {},
   "source": [
    "## Считаем среднее количество обзоров от пользователей, которые поставили больше 48 оценок."
   ]
  },
  {
   "cell_type": "code",
   "execution_count": 13,
   "metadata": {},
   "outputs": [
    {
     "data": {
      "text/html": [
       "<div>\n",
       "<style scoped>\n",
       "    .dataframe tbody tr th:only-of-type {\n",
       "        vertical-align: middle;\n",
       "    }\n",
       "\n",
       "    .dataframe tbody tr th {\n",
       "        vertical-align: top;\n",
       "    }\n",
       "\n",
       "    .dataframe thead th {\n",
       "        text-align: right;\n",
       "    }\n",
       "</style>\n",
       "<table border=\"1\" class=\"dataframe\">\n",
       "  <thead>\n",
       "    <tr style=\"text-align: right;\">\n",
       "      <th></th>\n",
       "      <th>avg_of_reviews</th>\n",
       "    </tr>\n",
       "  </thead>\n",
       "  <tbody>\n",
       "    <tr>\n",
       "      <th>0</th>\n",
       "      <td>24.0</td>\n",
       "    </tr>\n",
       "  </tbody>\n",
       "</table>\n",
       "</div>"
      ],
      "text/plain": [
       "   avg_of_reviews\n",
       "0            24.0"
      ]
     },
     "execution_count": 13,
     "metadata": {},
     "output_type": "execute_result"
    }
   ],
   "source": [
    "query = ''' \n",
    "\n",
    "WITH first AS \n",
    "    (SELECT username       \n",
    "     FROM ratings\n",
    "     GROUP BY username\n",
    "     HAVING COUNT(rating) > 48),\n",
    "    \n",
    "     second AS \n",
    "    (SELECT username,\n",
    "            COUNT(review_id) AS amount_of_reviews\n",
    "     FROM reviews\n",
    "     GROUP BY username )\n",
    "\n",
    "SELECT AVG(amount_of_reviews) AS avg_of_reviews\n",
    "FROM first\n",
    "LEFT JOIN second ON second.username = first.username\n",
    "\n",
    "'''\n",
    "\n",
    "pd.io.sql.read_sql(query, con = engine)"
   ]
  },
  {
   "cell_type": "markdown",
   "metadata": {},
   "source": [
    "**Вывод:**\n",
    "\n",
    "Вычислили, что среднее количество обзоров от пользователей, которые поставили больше 48 оценок,  24 обзора."
   ]
  },
  {
   "cell_type": "markdown",
   "metadata": {},
   "source": [
    "## Общий вывод:"
   ]
  },
  {
   "cell_type": "markdown",
   "metadata": {},
   "source": [
    "В ходе проведенной работы, вывели следующие данные:\n",
    "\n",
    "    После 1 января 2000 года вышло 818 книг.\n",
    "    Для каждой книги посчтиали количество обзоров и среднюю оценку.\n",
    "    Издательство Penguin Books выпустило 42 книги, что является наибольшим числом среди других издательств.\n",
    "    У автора J.K. Rowling/Mary GrandPré -  самая высокой средняя оценка книг (4.28).\n",
    "    Среднее количество обзоров от пользователей, которые поставили больше 48 оценок, 24 обзора."
   ]
  }
 ],
 "metadata": {
  "ExecuteTimeLog": [
   {
    "duration": 54,
    "start_time": "2023-06-02T16:36:08.105Z"
   },
   {
    "duration": 5945,
    "start_time": "2023-06-02T16:36:30.645Z"
   },
   {
    "duration": 243,
    "start_time": "2023-06-02T16:38:25.588Z"
   },
   {
    "duration": 112,
    "start_time": "2023-06-02T16:38:27.374Z"
   },
   {
    "duration": 73,
    "start_time": "2023-06-02T16:38:29.140Z"
   },
   {
    "duration": 75,
    "start_time": "2023-06-02T16:38:30.458Z"
   },
   {
    "duration": 85,
    "start_time": "2023-06-02T16:38:31.767Z"
   },
   {
    "duration": 4,
    "start_time": "2023-06-02T16:39:56.847Z"
   },
   {
    "duration": 263,
    "start_time": "2023-06-02T16:39:59.175Z"
   },
   {
    "duration": 6989,
    "start_time": "2023-06-02T16:41:31.172Z"
   },
   {
    "duration": 257,
    "start_time": "2023-06-02T16:41:38.162Z"
   },
   {
    "duration": 107,
    "start_time": "2023-06-02T16:41:38.421Z"
   },
   {
    "duration": 71,
    "start_time": "2023-06-02T16:41:38.530Z"
   },
   {
    "duration": 73,
    "start_time": "2023-06-02T16:41:38.602Z"
   },
   {
    "duration": 82,
    "start_time": "2023-06-02T16:41:38.677Z"
   },
   {
    "duration": 75,
    "start_time": "2023-06-02T16:53:29.686Z"
   },
   {
    "duration": 97,
    "start_time": "2023-06-02T16:53:39.447Z"
   },
   {
    "duration": 73,
    "start_time": "2023-06-02T16:53:54.714Z"
   },
   {
    "duration": 3,
    "start_time": "2023-06-02T17:08:55.499Z"
   },
   {
    "duration": 2,
    "start_time": "2023-06-02T17:08:58.698Z"
   },
   {
    "duration": 72,
    "start_time": "2023-06-02T17:09:04.626Z"
   },
   {
    "duration": 71,
    "start_time": "2023-06-02T17:10:39.252Z"
   },
   {
    "duration": 6647,
    "start_time": "2023-06-02T17:17:20.114Z"
   },
   {
    "duration": 230,
    "start_time": "2023-06-02T17:17:26.764Z"
   },
   {
    "duration": 69,
    "start_time": "2023-06-02T17:17:26.995Z"
   },
   {
    "duration": 70,
    "start_time": "2023-06-02T17:17:27.066Z"
   },
   {
    "duration": 71,
    "start_time": "2023-06-02T17:17:27.139Z"
   },
   {
    "duration": 71,
    "start_time": "2023-06-02T17:17:27.212Z"
   },
   {
    "duration": 69,
    "start_time": "2023-06-02T17:17:27.284Z"
   },
   {
    "duration": 106,
    "start_time": "2023-06-02T17:17:27.354Z"
   },
   {
    "duration": 70,
    "start_time": "2023-06-02T17:17:27.462Z"
   },
   {
    "duration": 73,
    "start_time": "2023-06-02T17:17:27.534Z"
   },
   {
    "duration": 84,
    "start_time": "2023-06-02T17:17:27.608Z"
   },
   {
    "duration": 511,
    "start_time": "2023-06-02T18:22:00.443Z"
   },
   {
    "duration": 4876,
    "start_time": "2023-06-02T18:22:00.956Z"
   },
   {
    "duration": 251,
    "start_time": "2023-06-02T18:22:05.833Z"
   },
   {
    "duration": 77,
    "start_time": "2023-06-02T18:22:06.086Z"
   },
   {
    "duration": 70,
    "start_time": "2023-06-02T18:22:06.164Z"
   },
   {
    "duration": 71,
    "start_time": "2023-06-02T18:22:06.235Z"
   },
   {
    "duration": 70,
    "start_time": "2023-06-02T18:22:06.307Z"
   },
   {
    "duration": 69,
    "start_time": "2023-06-02T18:22:06.379Z"
   },
   {
    "duration": 107,
    "start_time": "2023-06-02T18:22:06.449Z"
   },
   {
    "duration": 70,
    "start_time": "2023-06-02T18:22:06.558Z"
   },
   {
    "duration": 73,
    "start_time": "2023-06-02T18:22:06.630Z"
   },
   {
    "duration": 84,
    "start_time": "2023-06-02T18:22:06.704Z"
   },
   {
    "duration": 3,
    "start_time": "2023-06-02T18:25:40.803Z"
   },
   {
    "duration": 76,
    "start_time": "2023-06-02T18:25:49.719Z"
   },
   {
    "duration": 97,
    "start_time": "2023-06-02T18:26:28.698Z"
   },
   {
    "duration": 208,
    "start_time": "2023-06-02T18:27:30.575Z"
   },
   {
    "duration": 134,
    "start_time": "2023-06-02T18:27:34.531Z"
   },
   {
    "duration": 128,
    "start_time": "2023-06-02T18:27:45.587Z"
   },
   {
    "duration": 125,
    "start_time": "2023-06-02T18:27:48.921Z"
   },
   {
    "duration": 98,
    "start_time": "2023-06-02T18:27:51.119Z"
   },
   {
    "duration": 120,
    "start_time": "2023-06-02T18:28:04.158Z"
   },
   {
    "duration": 89,
    "start_time": "2023-06-02T18:28:08.302Z"
   },
   {
    "duration": 128,
    "start_time": "2023-06-02T18:28:28.602Z"
   },
   {
    "duration": 120,
    "start_time": "2023-06-02T18:28:33.676Z"
   },
   {
    "duration": 124,
    "start_time": "2023-06-02T18:28:39.620Z"
   },
   {
    "duration": 122,
    "start_time": "2023-06-02T18:28:46.065Z"
   },
   {
    "duration": 125,
    "start_time": "2023-06-02T18:28:58.818Z"
   },
   {
    "duration": 75,
    "start_time": "2023-06-02T18:29:17.307Z"
   },
   {
    "duration": 74,
    "start_time": "2023-06-02T18:33:25.825Z"
   },
   {
    "duration": 73,
    "start_time": "2023-06-02T18:33:59.141Z"
   },
   {
    "duration": 135,
    "start_time": "2023-06-02T18:35:38.272Z"
   },
   {
    "duration": 70,
    "start_time": "2023-06-02T18:36:11.487Z"
   },
   {
    "duration": 70,
    "start_time": "2023-06-02T18:37:48.997Z"
   },
   {
    "duration": 76,
    "start_time": "2023-06-02T18:39:54.442Z"
   },
   {
    "duration": 79,
    "start_time": "2023-06-02T18:40:53.139Z"
   },
   {
    "duration": 78,
    "start_time": "2023-06-02T18:42:04.161Z"
   },
   {
    "duration": 72,
    "start_time": "2023-06-02T18:42:41.582Z"
   },
   {
    "duration": 129,
    "start_time": "2023-06-02T18:42:54.061Z"
   },
   {
    "duration": 72,
    "start_time": "2023-06-02T18:42:57.376Z"
   },
   {
    "duration": 72,
    "start_time": "2023-06-02T18:43:06.343Z"
   },
   {
    "duration": 73,
    "start_time": "2023-06-02T18:43:21.781Z"
   },
   {
    "duration": 74,
    "start_time": "2023-06-02T18:44:00.366Z"
   },
   {
    "duration": 80,
    "start_time": "2023-06-02T18:44:26.600Z"
   },
   {
    "duration": 77,
    "start_time": "2023-06-02T18:44:32.438Z"
   },
   {
    "duration": 73,
    "start_time": "2023-06-02T18:44:54.452Z"
   },
   {
    "duration": 78,
    "start_time": "2023-06-02T18:45:38.694Z"
   },
   {
    "duration": 127,
    "start_time": "2023-06-02T18:46:13.569Z"
   },
   {
    "duration": 73,
    "start_time": "2023-06-02T18:46:42.979Z"
   },
   {
    "duration": 133,
    "start_time": "2023-06-02T18:47:16.812Z"
   },
   {
    "duration": 73,
    "start_time": "2023-06-02T18:47:20.816Z"
   },
   {
    "duration": 72,
    "start_time": "2023-06-02T18:48:22.344Z"
   },
   {
    "duration": 72,
    "start_time": "2023-06-02T18:48:29.454Z"
   },
   {
    "duration": 72,
    "start_time": "2023-06-02T18:49:28.105Z"
   },
   {
    "duration": 72,
    "start_time": "2023-06-02T18:49:36.529Z"
   },
   {
    "duration": 71,
    "start_time": "2023-06-02T18:49:50.058Z"
   },
   {
    "duration": 108,
    "start_time": "2023-06-02T18:54:42.463Z"
   },
   {
    "duration": 126,
    "start_time": "2023-06-02T18:54:52.956Z"
   },
   {
    "duration": 130,
    "start_time": "2023-06-02T18:55:01.313Z"
   },
   {
    "duration": 137,
    "start_time": "2023-06-02T18:55:06.917Z"
   },
   {
    "duration": 73,
    "start_time": "2023-06-02T18:55:27.941Z"
   },
   {
    "duration": 122,
    "start_time": "2023-06-02T18:55:30.552Z"
   },
   {
    "duration": 126,
    "start_time": "2023-06-02T18:55:41.871Z"
   },
   {
    "duration": 149,
    "start_time": "2023-06-02T18:59:06.735Z"
   },
   {
    "duration": 73,
    "start_time": "2023-06-02T18:59:23.515Z"
   },
   {
    "duration": 124,
    "start_time": "2023-06-02T19:00:21.846Z"
   },
   {
    "duration": 131,
    "start_time": "2023-06-02T19:00:26.073Z"
   },
   {
    "duration": 74,
    "start_time": "2023-06-02T19:00:52.987Z"
   },
   {
    "duration": 72,
    "start_time": "2023-06-02T19:01:07.359Z"
   },
   {
    "duration": 72,
    "start_time": "2023-06-02T19:02:17.040Z"
   },
   {
    "duration": 72,
    "start_time": "2023-06-02T19:02:28.036Z"
   },
   {
    "duration": 7,
    "start_time": "2023-06-02T19:04:25.734Z"
   },
   {
    "duration": 135,
    "start_time": "2023-06-02T19:04:35.582Z"
   },
   {
    "duration": 133,
    "start_time": "2023-06-02T19:04:39.622Z"
   },
   {
    "duration": 71,
    "start_time": "2023-06-02T19:04:47.968Z"
   },
   {
    "duration": 519,
    "start_time": "2023-06-02T19:08:04.887Z"
   },
   {
    "duration": 5259,
    "start_time": "2023-06-02T19:08:05.407Z"
   },
   {
    "duration": 243,
    "start_time": "2023-06-02T19:08:10.667Z"
   },
   {
    "duration": 69,
    "start_time": "2023-06-02T19:08:10.911Z"
   },
   {
    "duration": 70,
    "start_time": "2023-06-02T19:08:10.982Z"
   },
   {
    "duration": 70,
    "start_time": "2023-06-02T19:08:11.053Z"
   },
   {
    "duration": 71,
    "start_time": "2023-06-02T19:08:11.125Z"
   },
   {
    "duration": 68,
    "start_time": "2023-06-02T19:08:11.197Z"
   },
   {
    "duration": 104,
    "start_time": "2023-06-02T19:08:11.267Z"
   },
   {
    "duration": 70,
    "start_time": "2023-06-02T19:08:11.372Z"
   },
   {
    "duration": 71,
    "start_time": "2023-06-02T19:08:11.443Z"
   },
   {
    "duration": 84,
    "start_time": "2023-06-02T19:08:11.516Z"
   },
   {
    "duration": 71,
    "start_time": "2023-06-02T19:08:11.601Z"
   }
  ],
  "kernelspec": {
   "display_name": "Python 3 (ipykernel)",
   "language": "python",
   "name": "python3"
  },
  "language_info": {
   "codemirror_mode": {
    "name": "ipython",
    "version": 3
   },
   "file_extension": ".py",
   "mimetype": "text/x-python",
   "name": "python",
   "nbconvert_exporter": "python",
   "pygments_lexer": "ipython3",
   "version": "3.9.5"
  },
  "toc": {
   "base_numbering": 1,
   "nav_menu": {},
   "number_sections": true,
   "sideBar": true,
   "skip_h1_title": true,
   "title_cell": "Table of Contents",
   "title_sidebar": "Contents",
   "toc_cell": false,
   "toc_position": {
    "height": "calc(100% - 180px)",
    "left": "10px",
    "top": "150px",
    "width": "491px"
   },
   "toc_section_display": true,
   "toc_window_display": true
  }
 },
 "nbformat": 4,
 "nbformat_minor": 2
}
