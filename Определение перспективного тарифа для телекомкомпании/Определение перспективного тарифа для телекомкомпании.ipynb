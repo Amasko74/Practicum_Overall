{
 "cells": [
  {
   "cell_type": "markdown",
   "metadata": {},
   "source": [
    "# Определение перспективного тарифа для телекомкомпании\n",
    "Пользователям предлагают два тарифных плана: «Смарт» и «Ультра». Чтобы скорректировать рекламный бюджет, коммерческий департамент хочет понять, какой тариф приносит больше денег. Предстоит сделать предварительный анализ тарифов на небольшой выборке клиентов. Есть данные 500 пользователей «Мегалайна»: кто они, откуда, каким тарифом пользуются, сколько звонков и сообщений каждый отправил за 2018 год. Нужно проанализировать поведение клиентов и сделать вывод — какой тариф лучше."
   ]
  },
  {
   "cell_type": "markdown",
   "metadata": {},
   "source": [
    "## План анализа:\n",
    "\n",
    "- Загрузить таблицы\n",
    "- Провести анализ этих таблиц, определить проблемы с данными.\n",
    "- Провести предобработку данных\n",
    "- Поменять типы данных\n",
    "- Согласно условиям оператора округляем время звонков и интернета за большего целого\n",
    "- Добавить столбец с месяцем, когда производился звонок, отправлялась смс и был выход в интернет\n",
    "- Формируем единую таблицу по месяцам и звонков, интернета и смс\n",
    "- Пишем функцию, которая считаем прибыль по месяцам\n",
    "- Формируем таблицы с тарифами\n",
    "- Считаем дисперсию, стандартное отклонение, среднее по каждому показателю\n",
    "- Строим графики зависимости двух тарифов по всем показателям\n",
    "- Анализ графиков\n",
    "- Строим гипотезу различия двух тарифов\n",
    "- Строим гипотезу различия среднего в Москве и в других районах\n",
    "- Итоговый вывод"
   ]
  },
  {
   "cell_type": "markdown",
   "metadata": {},
   "source": [
    "## Общая информация о данных"
   ]
  },
  {
   "cell_type": "code",
   "execution_count": 1,
   "metadata": {},
   "outputs": [],
   "source": [
    "import pandas as pd\n",
    "import numpy as np\n",
    "from scipy import stats as st\n",
    "import matplotlib.pyplot as plt \n",
    "import seaborn as sns\n",
    "import math\n",
    "pd.set_option('display.max_columns', None)"
   ]
  },
  {
   "cell_type": "code",
   "execution_count": 2,
   "metadata": {},
   "outputs": [],
   "source": [
    "# прочитаем файлы:\n",
    "\n",
    "data_tariffs = pd.read_csv('/datasets/tariffs.csv')\n",
    "data_users = pd.read_csv('/datasets/users.csv')\n",
    "data_calls = pd.read_csv('/datasets/calls.csv')\n",
    "data_messages = pd.read_csv('/datasets/messages.csv')\n",
    "data_internet = pd.read_csv('/datasets/internet.csv')"
   ]
  },
  {
   "cell_type": "markdown",
   "metadata": {},
   "source": [
    "Поверхностно изучим данные таблиц."
   ]
  },
  {
   "cell_type": "code",
   "execution_count": 3,
   "metadata": {},
   "outputs": [],
   "source": [
    "# небольшая функция, которой обычно пользуюсь...\n",
    "def df_info(df_name):\n",
    "    display(df_name.head())\n",
    "    display(df_name.info())\n",
    "    display(df_name.duplicated().sum())"
   ]
  },
  {
   "cell_type": "code",
   "execution_count": 4,
   "metadata": {},
   "outputs": [
    {
     "data": {
      "text/html": [
       "<div>\n",
       "<style scoped>\n",
       "    .dataframe tbody tr th:only-of-type {\n",
       "        vertical-align: middle;\n",
       "    }\n",
       "\n",
       "    .dataframe tbody tr th {\n",
       "        vertical-align: top;\n",
       "    }\n",
       "\n",
       "    .dataframe thead th {\n",
       "        text-align: right;\n",
       "    }\n",
       "</style>\n",
       "<table border=\"1\" class=\"dataframe\">\n",
       "  <thead>\n",
       "    <tr style=\"text-align: right;\">\n",
       "      <th></th>\n",
       "      <th>messages_included</th>\n",
       "      <th>mb_per_month_included</th>\n",
       "      <th>minutes_included</th>\n",
       "      <th>rub_monthly_fee</th>\n",
       "      <th>rub_per_gb</th>\n",
       "      <th>rub_per_message</th>\n",
       "      <th>rub_per_minute</th>\n",
       "      <th>tariff_name</th>\n",
       "    </tr>\n",
       "  </thead>\n",
       "  <tbody>\n",
       "    <tr>\n",
       "      <th>0</th>\n",
       "      <td>50</td>\n",
       "      <td>15360</td>\n",
       "      <td>500</td>\n",
       "      <td>550</td>\n",
       "      <td>200</td>\n",
       "      <td>3</td>\n",
       "      <td>3</td>\n",
       "      <td>smart</td>\n",
       "    </tr>\n",
       "    <tr>\n",
       "      <th>1</th>\n",
       "      <td>1000</td>\n",
       "      <td>30720</td>\n",
       "      <td>3000</td>\n",
       "      <td>1950</td>\n",
       "      <td>150</td>\n",
       "      <td>1</td>\n",
       "      <td>1</td>\n",
       "      <td>ultra</td>\n",
       "    </tr>\n",
       "  </tbody>\n",
       "</table>\n",
       "</div>"
      ],
      "text/plain": [
       "   messages_included  mb_per_month_included  minutes_included  \\\n",
       "0                 50                  15360               500   \n",
       "1               1000                  30720              3000   \n",
       "\n",
       "   rub_monthly_fee  rub_per_gb  rub_per_message  rub_per_minute tariff_name  \n",
       "0              550         200                3               3       smart  \n",
       "1             1950         150                1               1       ultra  "
      ]
     },
     "metadata": {},
     "output_type": "display_data"
    },
    {
     "name": "stdout",
     "output_type": "stream",
     "text": [
      "<class 'pandas.core.frame.DataFrame'>\n",
      "RangeIndex: 2 entries, 0 to 1\n",
      "Data columns (total 8 columns):\n",
      " #   Column                 Non-Null Count  Dtype \n",
      "---  ------                 --------------  ----- \n",
      " 0   messages_included      2 non-null      int64 \n",
      " 1   mb_per_month_included  2 non-null      int64 \n",
      " 2   minutes_included       2 non-null      int64 \n",
      " 3   rub_monthly_fee        2 non-null      int64 \n",
      " 4   rub_per_gb             2 non-null      int64 \n",
      " 5   rub_per_message        2 non-null      int64 \n",
      " 6   rub_per_minute         2 non-null      int64 \n",
      " 7   tariff_name            2 non-null      object\n",
      "dtypes: int64(7), object(1)\n",
      "memory usage: 256.0+ bytes\n"
     ]
    },
    {
     "data": {
      "text/plain": [
       "None"
      ]
     },
     "metadata": {},
     "output_type": "display_data"
    },
    {
     "data": {
      "text/plain": [
       "0"
      ]
     },
     "metadata": {},
     "output_type": "display_data"
    }
   ],
   "source": [
    "df_info(data_tariffs)"
   ]
  },
  {
   "cell_type": "markdown",
   "metadata": {},
   "source": [
    "`Data_tariffs` - это база с информацией о тарифах. Состоит из 8 столбцов и 2 строк. Пропущенных значений нет."
   ]
  },
  {
   "cell_type": "code",
   "execution_count": 5,
   "metadata": {},
   "outputs": [
    {
     "data": {
      "text/html": [
       "<div>\n",
       "<style scoped>\n",
       "    .dataframe tbody tr th:only-of-type {\n",
       "        vertical-align: middle;\n",
       "    }\n",
       "\n",
       "    .dataframe tbody tr th {\n",
       "        vertical-align: top;\n",
       "    }\n",
       "\n",
       "    .dataframe thead th {\n",
       "        text-align: right;\n",
       "    }\n",
       "</style>\n",
       "<table border=\"1\" class=\"dataframe\">\n",
       "  <thead>\n",
       "    <tr style=\"text-align: right;\">\n",
       "      <th></th>\n",
       "      <th>user_id</th>\n",
       "      <th>age</th>\n",
       "      <th>churn_date</th>\n",
       "      <th>city</th>\n",
       "      <th>first_name</th>\n",
       "      <th>last_name</th>\n",
       "      <th>reg_date</th>\n",
       "      <th>tariff</th>\n",
       "    </tr>\n",
       "  </thead>\n",
       "  <tbody>\n",
       "    <tr>\n",
       "      <th>0</th>\n",
       "      <td>1000</td>\n",
       "      <td>52</td>\n",
       "      <td>NaN</td>\n",
       "      <td>Краснодар</td>\n",
       "      <td>Рафаил</td>\n",
       "      <td>Верещагин</td>\n",
       "      <td>2018-05-25</td>\n",
       "      <td>ultra</td>\n",
       "    </tr>\n",
       "    <tr>\n",
       "      <th>1</th>\n",
       "      <td>1001</td>\n",
       "      <td>41</td>\n",
       "      <td>NaN</td>\n",
       "      <td>Москва</td>\n",
       "      <td>Иван</td>\n",
       "      <td>Ежов</td>\n",
       "      <td>2018-11-01</td>\n",
       "      <td>smart</td>\n",
       "    </tr>\n",
       "    <tr>\n",
       "      <th>2</th>\n",
       "      <td>1002</td>\n",
       "      <td>59</td>\n",
       "      <td>NaN</td>\n",
       "      <td>Стерлитамак</td>\n",
       "      <td>Евгений</td>\n",
       "      <td>Абрамович</td>\n",
       "      <td>2018-06-17</td>\n",
       "      <td>smart</td>\n",
       "    </tr>\n",
       "    <tr>\n",
       "      <th>3</th>\n",
       "      <td>1003</td>\n",
       "      <td>23</td>\n",
       "      <td>NaN</td>\n",
       "      <td>Москва</td>\n",
       "      <td>Белла</td>\n",
       "      <td>Белякова</td>\n",
       "      <td>2018-08-17</td>\n",
       "      <td>ultra</td>\n",
       "    </tr>\n",
       "    <tr>\n",
       "      <th>4</th>\n",
       "      <td>1004</td>\n",
       "      <td>68</td>\n",
       "      <td>NaN</td>\n",
       "      <td>Новокузнецк</td>\n",
       "      <td>Татьяна</td>\n",
       "      <td>Авдеенко</td>\n",
       "      <td>2018-05-14</td>\n",
       "      <td>ultra</td>\n",
       "    </tr>\n",
       "  </tbody>\n",
       "</table>\n",
       "</div>"
      ],
      "text/plain": [
       "   user_id  age churn_date         city first_name  last_name    reg_date  \\\n",
       "0     1000   52        NaN    Краснодар     Рафаил  Верещагин  2018-05-25   \n",
       "1     1001   41        NaN       Москва       Иван       Ежов  2018-11-01   \n",
       "2     1002   59        NaN  Стерлитамак    Евгений  Абрамович  2018-06-17   \n",
       "3     1003   23        NaN       Москва      Белла   Белякова  2018-08-17   \n",
       "4     1004   68        NaN  Новокузнецк    Татьяна   Авдеенко  2018-05-14   \n",
       "\n",
       "  tariff  \n",
       "0  ultra  \n",
       "1  smart  \n",
       "2  smart  \n",
       "3  ultra  \n",
       "4  ultra  "
      ]
     },
     "metadata": {},
     "output_type": "display_data"
    },
    {
     "name": "stdout",
     "output_type": "stream",
     "text": [
      "<class 'pandas.core.frame.DataFrame'>\n",
      "RangeIndex: 500 entries, 0 to 499\n",
      "Data columns (total 8 columns):\n",
      " #   Column      Non-Null Count  Dtype \n",
      "---  ------      --------------  ----- \n",
      " 0   user_id     500 non-null    int64 \n",
      " 1   age         500 non-null    int64 \n",
      " 2   churn_date  38 non-null     object\n",
      " 3   city        500 non-null    object\n",
      " 4   first_name  500 non-null    object\n",
      " 5   last_name   500 non-null    object\n",
      " 6   reg_date    500 non-null    object\n",
      " 7   tariff      500 non-null    object\n",
      "dtypes: int64(2), object(6)\n",
      "memory usage: 31.4+ KB\n"
     ]
    },
    {
     "data": {
      "text/plain": [
       "None"
      ]
     },
     "metadata": {},
     "output_type": "display_data"
    },
    {
     "data": {
      "text/plain": [
       "0"
      ]
     },
     "metadata": {},
     "output_type": "display_data"
    }
   ],
   "source": [
    "df_info(data_users)"
   ]
  },
  {
   "cell_type": "markdown",
   "metadata": {},
   "source": [
    "`Data_users` - это база с информацией о пользователях. Состоит из 8 столбцов и 500 строк. Пропущенные значения есть. У столбца churn_date есть 462 пропуска.Это столбец с датой прекращения пользования тарифом (если значение пропущено, то тариф ещё действовал на момент выгрузки данных). В полследствии можно заменить на 0."
   ]
  },
  {
   "cell_type": "code",
   "execution_count": 6,
   "metadata": {},
   "outputs": [
    {
     "data": {
      "text/html": [
       "<div>\n",
       "<style scoped>\n",
       "    .dataframe tbody tr th:only-of-type {\n",
       "        vertical-align: middle;\n",
       "    }\n",
       "\n",
       "    .dataframe tbody tr th {\n",
       "        vertical-align: top;\n",
       "    }\n",
       "\n",
       "    .dataframe thead th {\n",
       "        text-align: right;\n",
       "    }\n",
       "</style>\n",
       "<table border=\"1\" class=\"dataframe\">\n",
       "  <thead>\n",
       "    <tr style=\"text-align: right;\">\n",
       "      <th></th>\n",
       "      <th>id</th>\n",
       "      <th>call_date</th>\n",
       "      <th>duration</th>\n",
       "      <th>user_id</th>\n",
       "    </tr>\n",
       "  </thead>\n",
       "  <tbody>\n",
       "    <tr>\n",
       "      <th>0</th>\n",
       "      <td>1000_0</td>\n",
       "      <td>2018-07-25</td>\n",
       "      <td>0.00</td>\n",
       "      <td>1000</td>\n",
       "    </tr>\n",
       "    <tr>\n",
       "      <th>1</th>\n",
       "      <td>1000_1</td>\n",
       "      <td>2018-08-17</td>\n",
       "      <td>0.00</td>\n",
       "      <td>1000</td>\n",
       "    </tr>\n",
       "    <tr>\n",
       "      <th>2</th>\n",
       "      <td>1000_2</td>\n",
       "      <td>2018-06-11</td>\n",
       "      <td>2.85</td>\n",
       "      <td>1000</td>\n",
       "    </tr>\n",
       "    <tr>\n",
       "      <th>3</th>\n",
       "      <td>1000_3</td>\n",
       "      <td>2018-09-21</td>\n",
       "      <td>13.80</td>\n",
       "      <td>1000</td>\n",
       "    </tr>\n",
       "    <tr>\n",
       "      <th>4</th>\n",
       "      <td>1000_4</td>\n",
       "      <td>2018-12-15</td>\n",
       "      <td>5.18</td>\n",
       "      <td>1000</td>\n",
       "    </tr>\n",
       "  </tbody>\n",
       "</table>\n",
       "</div>"
      ],
      "text/plain": [
       "       id   call_date  duration  user_id\n",
       "0  1000_0  2018-07-25      0.00     1000\n",
       "1  1000_1  2018-08-17      0.00     1000\n",
       "2  1000_2  2018-06-11      2.85     1000\n",
       "3  1000_3  2018-09-21     13.80     1000\n",
       "4  1000_4  2018-12-15      5.18     1000"
      ]
     },
     "metadata": {},
     "output_type": "display_data"
    },
    {
     "name": "stdout",
     "output_type": "stream",
     "text": [
      "<class 'pandas.core.frame.DataFrame'>\n",
      "RangeIndex: 202607 entries, 0 to 202606\n",
      "Data columns (total 4 columns):\n",
      " #   Column     Non-Null Count   Dtype  \n",
      "---  ------     --------------   -----  \n",
      " 0   id         202607 non-null  object \n",
      " 1   call_date  202607 non-null  object \n",
      " 2   duration   202607 non-null  float64\n",
      " 3   user_id    202607 non-null  int64  \n",
      "dtypes: float64(1), int64(1), object(2)\n",
      "memory usage: 6.2+ MB\n"
     ]
    },
    {
     "data": {
      "text/plain": [
       "None"
      ]
     },
     "metadata": {},
     "output_type": "display_data"
    },
    {
     "data": {
      "text/plain": [
       "0"
      ]
     },
     "metadata": {},
     "output_type": "display_data"
    }
   ],
   "source": [
    "df_info(data_calls)"
   ]
  },
  {
   "cell_type": "markdown",
   "metadata": {},
   "source": [
    "`Data_call` - это база с звонками всех пользователей. Состоит из 4 столбцов и 202607 строк. Пропущенных значений нет."
   ]
  },
  {
   "cell_type": "code",
   "execution_count": 7,
   "metadata": {},
   "outputs": [
    {
     "data": {
      "text/html": [
       "<div>\n",
       "<style scoped>\n",
       "    .dataframe tbody tr th:only-of-type {\n",
       "        vertical-align: middle;\n",
       "    }\n",
       "\n",
       "    .dataframe tbody tr th {\n",
       "        vertical-align: top;\n",
       "    }\n",
       "\n",
       "    .dataframe thead th {\n",
       "        text-align: right;\n",
       "    }\n",
       "</style>\n",
       "<table border=\"1\" class=\"dataframe\">\n",
       "  <thead>\n",
       "    <tr style=\"text-align: right;\">\n",
       "      <th></th>\n",
       "      <th>id</th>\n",
       "      <th>message_date</th>\n",
       "      <th>user_id</th>\n",
       "    </tr>\n",
       "  </thead>\n",
       "  <tbody>\n",
       "    <tr>\n",
       "      <th>0</th>\n",
       "      <td>1000_0</td>\n",
       "      <td>2018-06-27</td>\n",
       "      <td>1000</td>\n",
       "    </tr>\n",
       "    <tr>\n",
       "      <th>1</th>\n",
       "      <td>1000_1</td>\n",
       "      <td>2018-10-08</td>\n",
       "      <td>1000</td>\n",
       "    </tr>\n",
       "    <tr>\n",
       "      <th>2</th>\n",
       "      <td>1000_2</td>\n",
       "      <td>2018-08-04</td>\n",
       "      <td>1000</td>\n",
       "    </tr>\n",
       "    <tr>\n",
       "      <th>3</th>\n",
       "      <td>1000_3</td>\n",
       "      <td>2018-06-16</td>\n",
       "      <td>1000</td>\n",
       "    </tr>\n",
       "    <tr>\n",
       "      <th>4</th>\n",
       "      <td>1000_4</td>\n",
       "      <td>2018-12-05</td>\n",
       "      <td>1000</td>\n",
       "    </tr>\n",
       "  </tbody>\n",
       "</table>\n",
       "</div>"
      ],
      "text/plain": [
       "       id message_date  user_id\n",
       "0  1000_0   2018-06-27     1000\n",
       "1  1000_1   2018-10-08     1000\n",
       "2  1000_2   2018-08-04     1000\n",
       "3  1000_3   2018-06-16     1000\n",
       "4  1000_4   2018-12-05     1000"
      ]
     },
     "metadata": {},
     "output_type": "display_data"
    },
    {
     "name": "stdout",
     "output_type": "stream",
     "text": [
      "<class 'pandas.core.frame.DataFrame'>\n",
      "RangeIndex: 123036 entries, 0 to 123035\n",
      "Data columns (total 3 columns):\n",
      " #   Column        Non-Null Count   Dtype \n",
      "---  ------        --------------   ----- \n",
      " 0   id            123036 non-null  object\n",
      " 1   message_date  123036 non-null  object\n",
      " 2   user_id       123036 non-null  int64 \n",
      "dtypes: int64(1), object(2)\n",
      "memory usage: 2.8+ MB\n"
     ]
    },
    {
     "data": {
      "text/plain": [
       "None"
      ]
     },
     "metadata": {},
     "output_type": "display_data"
    },
    {
     "data": {
      "text/plain": [
       "0"
      ]
     },
     "metadata": {},
     "output_type": "display_data"
    }
   ],
   "source": [
    "df_info(data_messages)"
   ]
  },
  {
   "cell_type": "markdown",
   "metadata": {},
   "source": [
    "`Data_messages` - это база с использованными сообщениями всех пользователей. Состоит из 3 столбцов и 123036 строк. Пропущенных значений нет."
   ]
  },
  {
   "cell_type": "code",
   "execution_count": 8,
   "metadata": {},
   "outputs": [
    {
     "data": {
      "text/html": [
       "<div>\n",
       "<style scoped>\n",
       "    .dataframe tbody tr th:only-of-type {\n",
       "        vertical-align: middle;\n",
       "    }\n",
       "\n",
       "    .dataframe tbody tr th {\n",
       "        vertical-align: top;\n",
       "    }\n",
       "\n",
       "    .dataframe thead th {\n",
       "        text-align: right;\n",
       "    }\n",
       "</style>\n",
       "<table border=\"1\" class=\"dataframe\">\n",
       "  <thead>\n",
       "    <tr style=\"text-align: right;\">\n",
       "      <th></th>\n",
       "      <th>Unnamed: 0</th>\n",
       "      <th>id</th>\n",
       "      <th>mb_used</th>\n",
       "      <th>session_date</th>\n",
       "      <th>user_id</th>\n",
       "    </tr>\n",
       "  </thead>\n",
       "  <tbody>\n",
       "    <tr>\n",
       "      <th>0</th>\n",
       "      <td>0</td>\n",
       "      <td>1000_0</td>\n",
       "      <td>112.95</td>\n",
       "      <td>2018-11-25</td>\n",
       "      <td>1000</td>\n",
       "    </tr>\n",
       "    <tr>\n",
       "      <th>1</th>\n",
       "      <td>1</td>\n",
       "      <td>1000_1</td>\n",
       "      <td>1052.81</td>\n",
       "      <td>2018-09-07</td>\n",
       "      <td>1000</td>\n",
       "    </tr>\n",
       "    <tr>\n",
       "      <th>2</th>\n",
       "      <td>2</td>\n",
       "      <td>1000_2</td>\n",
       "      <td>1197.26</td>\n",
       "      <td>2018-06-25</td>\n",
       "      <td>1000</td>\n",
       "    </tr>\n",
       "    <tr>\n",
       "      <th>3</th>\n",
       "      <td>3</td>\n",
       "      <td>1000_3</td>\n",
       "      <td>550.27</td>\n",
       "      <td>2018-08-22</td>\n",
       "      <td>1000</td>\n",
       "    </tr>\n",
       "    <tr>\n",
       "      <th>4</th>\n",
       "      <td>4</td>\n",
       "      <td>1000_4</td>\n",
       "      <td>302.56</td>\n",
       "      <td>2018-09-24</td>\n",
       "      <td>1000</td>\n",
       "    </tr>\n",
       "  </tbody>\n",
       "</table>\n",
       "</div>"
      ],
      "text/plain": [
       "   Unnamed: 0      id  mb_used session_date  user_id\n",
       "0           0  1000_0   112.95   2018-11-25     1000\n",
       "1           1  1000_1  1052.81   2018-09-07     1000\n",
       "2           2  1000_2  1197.26   2018-06-25     1000\n",
       "3           3  1000_3   550.27   2018-08-22     1000\n",
       "4           4  1000_4   302.56   2018-09-24     1000"
      ]
     },
     "metadata": {},
     "output_type": "display_data"
    },
    {
     "name": "stdout",
     "output_type": "stream",
     "text": [
      "<class 'pandas.core.frame.DataFrame'>\n",
      "RangeIndex: 149396 entries, 0 to 149395\n",
      "Data columns (total 5 columns):\n",
      " #   Column        Non-Null Count   Dtype  \n",
      "---  ------        --------------   -----  \n",
      " 0   Unnamed: 0    149396 non-null  int64  \n",
      " 1   id            149396 non-null  object \n",
      " 2   mb_used       149396 non-null  float64\n",
      " 3   session_date  149396 non-null  object \n",
      " 4   user_id       149396 non-null  int64  \n",
      "dtypes: float64(1), int64(2), object(2)\n",
      "memory usage: 5.7+ MB\n"
     ]
    },
    {
     "data": {
      "text/plain": [
       "None"
      ]
     },
     "metadata": {},
     "output_type": "display_data"
    },
    {
     "data": {
      "text/plain": [
       "0"
      ]
     },
     "metadata": {},
     "output_type": "display_data"
    }
   ],
   "source": [
    "df_info(data_internet)"
   ]
  },
  {
   "cell_type": "markdown",
   "metadata": {},
   "source": [
    "`Data_internet` - это база с звонками всех пользователей. Состоит из 4 столбцов и 149396 строк. Пропущенных значений нет."
   ]
  },
  {
   "cell_type": "markdown",
   "metadata": {},
   "source": [
    "**Вывод:**\n",
    "\n",
    "Есть проблемы в данных. Надо менять типы данных в бд. Присутствуют пропуски в churn_date. Возможно, есть смысл их просто поменять на 0(значит смены оператора не было). Ничего необычного."
   ]
  },
  {
   "cell_type": "markdown",
   "metadata": {},
   "source": [
    "## Предобработка данных\n",
    "Во всех столбцах где есть дата меняем тип на date_time"
   ]
  },
  {
   "cell_type": "code",
   "execution_count": 9,
   "metadata": {},
   "outputs": [],
   "source": [
    "# в data_tariffs все в порядке\n",
    "data_users['churn_date'] = pd.to_datetime(data_users['churn_date'],format='%Y-%m-%d')\n",
    "data_users['reg_date'] = pd.to_datetime(data_users['reg_date'], format='%Y-%m-%d')\n",
    "data_calls['call_date'] = pd.to_datetime(data_calls['call_date'], format='%Y-%m-%d')\n",
    "data_messages['message_date'] = pd.to_datetime(data_messages['message_date'], format='%Y-%m-%d')\n",
    "data_internet['session_date'] = pd.to_datetime(data_internet['session_date'], format='%Y-%m-%d')"
   ]
  },
  {
   "cell_type": "markdown",
   "metadata": {},
   "source": [
    "В таблице df_internet есть столбец `Unnamed: 0`, который повторяет индексы строк. Его можно удалить."
   ]
  },
  {
   "cell_type": "code",
   "execution_count": 10,
   "metadata": {},
   "outputs": [],
   "source": [
    "del data_internet['Unnamed: 0']"
   ]
  },
  {
   "cell_type": "markdown",
   "metadata": {},
   "source": [
    "### Вычисление параметров для каждого пользователя"
   ]
  },
  {
   "cell_type": "markdown",
   "metadata": {},
   "source": [
    "Начнем с того, что добавим к каждой таблице колонку month, в которой будет отображен месяц совершения действия, чтобы потом можно было группировать по месяцам."
   ]
  },
  {
   "cell_type": "code",
   "execution_count": 40,
   "metadata": {},
   "outputs": [],
   "source": [
    "# список с таблицами где есть числовые значения\n",
    "list_tables = [data_tariffs, data_users, data_calls, data_messages, data_internet]\n",
    "\n",
    "# определим переменную как список, в которм будет хранится название таблицы и колонки в ней, содержащей дату совершения действия\n",
    "date_list = []\n",
    "\n",
    "# нам нужны только три столбца со звонками, сообщениями и трафиком\n",
    "# поэтому начинаем двигаться со второго индекса в списке таблиц\n",
    "for i in range(2, len(list_tables)):\n",
    "    \n",
    "    # в списке колонок таблицы будем искать ту, у которой название заканчивается на 'date'\n",
    "    # методом включения определенных символов в срез строки\n",
    "    for j in range(0, len(list_tables[i].columns)):\n",
    "        if 'date' in list_tables[i].columns[j][-4:]:\n",
    "            date_list.append(list_tables[i].columns[j])\n",
    "            \n",
    "    # с помощью метода dt.month добавляем месяц в новую колонку 'month'\n",
    "    list_tables[i]['month'] = list_tables[i][date_list[i-2]].dt.month"
   ]
  },
  {
   "cell_type": "markdown",
   "metadata": {},
   "source": [
    "#### Количество сделанных звонков и израсходованных минут разговора по месяцам:"
   ]
  },
  {
   "cell_type": "code",
   "execution_count": 13,
   "metadata": {},
   "outputs": [
    {
     "data": {
      "text/html": [
       "<div>\n",
       "<style scoped>\n",
       "    .dataframe tbody tr th:only-of-type {\n",
       "        vertical-align: middle;\n",
       "    }\n",
       "\n",
       "    .dataframe tbody tr th {\n",
       "        vertical-align: top;\n",
       "    }\n",
       "\n",
       "    .dataframe thead th {\n",
       "        text-align: right;\n",
       "    }\n",
       "</style>\n",
       "<table border=\"1\" class=\"dataframe\">\n",
       "  <thead>\n",
       "    <tr style=\"text-align: right;\">\n",
       "      <th></th>\n",
       "      <th></th>\n",
       "      <th>calls_count</th>\n",
       "      <th>calls_duration</th>\n",
       "    </tr>\n",
       "    <tr>\n",
       "      <th>user_id</th>\n",
       "      <th>month</th>\n",
       "      <th></th>\n",
       "      <th></th>\n",
       "    </tr>\n",
       "  </thead>\n",
       "  <tbody>\n",
       "    <tr>\n",
       "      <th rowspan=\"5\" valign=\"top\">1000</th>\n",
       "      <th>5</th>\n",
       "      <td>22</td>\n",
       "      <td>159</td>\n",
       "    </tr>\n",
       "    <tr>\n",
       "      <th>6</th>\n",
       "      <td>43</td>\n",
       "      <td>172</td>\n",
       "    </tr>\n",
       "    <tr>\n",
       "      <th>7</th>\n",
       "      <td>47</td>\n",
       "      <td>340</td>\n",
       "    </tr>\n",
       "    <tr>\n",
       "      <th>8</th>\n",
       "      <td>52</td>\n",
       "      <td>408</td>\n",
       "    </tr>\n",
       "    <tr>\n",
       "      <th>9</th>\n",
       "      <td>58</td>\n",
       "      <td>466</td>\n",
       "    </tr>\n",
       "  </tbody>\n",
       "</table>\n",
       "</div>"
      ],
      "text/plain": [
       "               calls_count  calls_duration\n",
       "user_id month                             \n",
       "1000    5               22             159\n",
       "        6               43             172\n",
       "        7               47             340\n",
       "        8               52             408\n",
       "        9               58             466"
      ]
     },
     "execution_count": 13,
     "metadata": {},
     "output_type": "execute_result"
    }
   ],
   "source": [
    "def ceil_value(value):\n",
    "    return math.ceil(value)\n",
    "data_calls['duration'] = data_calls['duration'].apply(ceil_value)\n",
    "\n",
    "\n",
    "data_calls_pivot = data_calls.pivot_table(index=['user_id', 'month'], aggfunc={'call_date':'count', 'duration':sum}) \n",
    "data_calls_pivot.columns = ['calls_count', 'calls_duration']\n",
    "data_calls_pivot.head()"
   ]
  },
  {
   "cell_type": "markdown",
   "metadata": {},
   "source": [
    "#### Количество отправленных сообщений по месяцам:"
   ]
  },
  {
   "cell_type": "code",
   "execution_count": 14,
   "metadata": {},
   "outputs": [
    {
     "data": {
      "text/html": [
       "<div>\n",
       "<style scoped>\n",
       "    .dataframe tbody tr th:only-of-type {\n",
       "        vertical-align: middle;\n",
       "    }\n",
       "\n",
       "    .dataframe tbody tr th {\n",
       "        vertical-align: top;\n",
       "    }\n",
       "\n",
       "    .dataframe thead th {\n",
       "        text-align: right;\n",
       "    }\n",
       "</style>\n",
       "<table border=\"1\" class=\"dataframe\">\n",
       "  <thead>\n",
       "    <tr style=\"text-align: right;\">\n",
       "      <th></th>\n",
       "      <th></th>\n",
       "      <th>messages_count</th>\n",
       "    </tr>\n",
       "    <tr>\n",
       "      <th>user_id</th>\n",
       "      <th>month</th>\n",
       "      <th></th>\n",
       "    </tr>\n",
       "  </thead>\n",
       "  <tbody>\n",
       "    <tr>\n",
       "      <th rowspan=\"5\" valign=\"top\">1000</th>\n",
       "      <th>5</th>\n",
       "      <td>22</td>\n",
       "    </tr>\n",
       "    <tr>\n",
       "      <th>6</th>\n",
       "      <td>60</td>\n",
       "    </tr>\n",
       "    <tr>\n",
       "      <th>7</th>\n",
       "      <td>75</td>\n",
       "    </tr>\n",
       "    <tr>\n",
       "      <th>8</th>\n",
       "      <td>81</td>\n",
       "    </tr>\n",
       "    <tr>\n",
       "      <th>9</th>\n",
       "      <td>57</td>\n",
       "    </tr>\n",
       "  </tbody>\n",
       "</table>\n",
       "</div>"
      ],
      "text/plain": [
       "               messages_count\n",
       "user_id month                \n",
       "1000    5                  22\n",
       "        6                  60\n",
       "        7                  75\n",
       "        8                  81\n",
       "        9                  57"
      ]
     },
     "execution_count": 14,
     "metadata": {},
     "output_type": "execute_result"
    }
   ],
   "source": [
    "data_messages_pivot = data_messages.pivot_table(index=['user_id', 'month'], aggfunc={'id':'count'})\n",
    "data_messages_pivot.columns = ['messages_count']\n",
    "data_messages_pivot.head()"
   ]
  },
  {
   "cell_type": "markdown",
   "metadata": {},
   "source": [
    "#### Объем израсходованного интернет-трафика по месяцам:"
   ]
  },
  {
   "cell_type": "code",
   "execution_count": 15,
   "metadata": {},
   "outputs": [
    {
     "data": {
      "text/html": [
       "<div>\n",
       "<style scoped>\n",
       "    .dataframe tbody tr th:only-of-type {\n",
       "        vertical-align: middle;\n",
       "    }\n",
       "\n",
       "    .dataframe tbody tr th {\n",
       "        vertical-align: top;\n",
       "    }\n",
       "\n",
       "    .dataframe thead th {\n",
       "        text-align: right;\n",
       "    }\n",
       "</style>\n",
       "<table border=\"1\" class=\"dataframe\">\n",
       "  <thead>\n",
       "    <tr style=\"text-align: right;\">\n",
       "      <th></th>\n",
       "      <th></th>\n",
       "      <th>traffic_volume</th>\n",
       "    </tr>\n",
       "    <tr>\n",
       "      <th>user_id</th>\n",
       "      <th>month</th>\n",
       "      <th></th>\n",
       "    </tr>\n",
       "  </thead>\n",
       "  <tbody>\n",
       "    <tr>\n",
       "      <th rowspan=\"5\" valign=\"top\">1000</th>\n",
       "      <th>5</th>\n",
       "      <td>2253.49</td>\n",
       "    </tr>\n",
       "    <tr>\n",
       "      <th>6</th>\n",
       "      <td>23233.77</td>\n",
       "    </tr>\n",
       "    <tr>\n",
       "      <th>7</th>\n",
       "      <td>14003.64</td>\n",
       "    </tr>\n",
       "    <tr>\n",
       "      <th>8</th>\n",
       "      <td>14055.93</td>\n",
       "    </tr>\n",
       "    <tr>\n",
       "      <th>9</th>\n",
       "      <td>14568.91</td>\n",
       "    </tr>\n",
       "  </tbody>\n",
       "</table>\n",
       "</div>"
      ],
      "text/plain": [
       "               traffic_volume\n",
       "user_id month                \n",
       "1000    5             2253.49\n",
       "        6            23233.77\n",
       "        7            14003.64\n",
       "        8            14055.93\n",
       "        9            14568.91"
      ]
     },
     "execution_count": 15,
     "metadata": {},
     "output_type": "execute_result"
    }
   ],
   "source": [
    "data_internet_pivot = data_internet.pivot_table(index=['user_id', 'month'], aggfunc={'mb_used':sum})\n",
    "data_internet_pivot.columns = ['traffic_volume']\n",
    "data_internet_pivot.head()"
   ]
  },
  {
   "cell_type": "markdown",
   "metadata": {},
   "source": [
    "Объеденим все имеющиеся таблицы."
   ]
  },
  {
   "cell_type": "code",
   "execution_count": 16,
   "metadata": {},
   "outputs": [
    {
     "data": {
      "text/html": [
       "<div>\n",
       "<style scoped>\n",
       "    .dataframe tbody tr th:only-of-type {\n",
       "        vertical-align: middle;\n",
       "    }\n",
       "\n",
       "    .dataframe tbody tr th {\n",
       "        vertical-align: top;\n",
       "    }\n",
       "\n",
       "    .dataframe thead th {\n",
       "        text-align: right;\n",
       "    }\n",
       "</style>\n",
       "<table border=\"1\" class=\"dataframe\">\n",
       "  <thead>\n",
       "    <tr style=\"text-align: right;\">\n",
       "      <th></th>\n",
       "      <th>month</th>\n",
       "      <th>traffic_volume</th>\n",
       "      <th>calls_count</th>\n",
       "      <th>calls_duration</th>\n",
       "      <th>messages_count</th>\n",
       "    </tr>\n",
       "    <tr>\n",
       "      <th>user_id</th>\n",
       "      <th></th>\n",
       "      <th></th>\n",
       "      <th></th>\n",
       "      <th></th>\n",
       "      <th></th>\n",
       "    </tr>\n",
       "  </thead>\n",
       "  <tbody>\n",
       "    <tr>\n",
       "      <th>1000</th>\n",
       "      <td>5</td>\n",
       "      <td>2253.49</td>\n",
       "      <td>22.0</td>\n",
       "      <td>159.0</td>\n",
       "      <td>22.0</td>\n",
       "    </tr>\n",
       "    <tr>\n",
       "      <th>1000</th>\n",
       "      <td>6</td>\n",
       "      <td>23233.77</td>\n",
       "      <td>43.0</td>\n",
       "      <td>172.0</td>\n",
       "      <td>60.0</td>\n",
       "    </tr>\n",
       "    <tr>\n",
       "      <th>1000</th>\n",
       "      <td>7</td>\n",
       "      <td>14003.64</td>\n",
       "      <td>47.0</td>\n",
       "      <td>340.0</td>\n",
       "      <td>75.0</td>\n",
       "    </tr>\n",
       "    <tr>\n",
       "      <th>1000</th>\n",
       "      <td>8</td>\n",
       "      <td>14055.93</td>\n",
       "      <td>52.0</td>\n",
       "      <td>408.0</td>\n",
       "      <td>81.0</td>\n",
       "    </tr>\n",
       "    <tr>\n",
       "      <th>1000</th>\n",
       "      <td>9</td>\n",
       "      <td>14568.91</td>\n",
       "      <td>58.0</td>\n",
       "      <td>466.0</td>\n",
       "      <td>57.0</td>\n",
       "    </tr>\n",
       "  </tbody>\n",
       "</table>\n",
       "</div>"
      ],
      "text/plain": [
       "         month  traffic_volume  calls_count  calls_duration  messages_count\n",
       "user_id                                                                    \n",
       "1000         5         2253.49         22.0           159.0            22.0\n",
       "1000         6        23233.77         43.0           172.0            60.0\n",
       "1000         7        14003.64         47.0           340.0            75.0\n",
       "1000         8        14055.93         52.0           408.0            81.0\n",
       "1000         9        14568.91         58.0           466.0            57.0"
      ]
     },
     "execution_count": 16,
     "metadata": {},
     "output_type": "execute_result"
    }
   ],
   "source": [
    "pre_data = data_internet_pivot.join([data_calls_pivot, data_messages_pivot]).reset_index(level='month')\n",
    "pre_data.head()"
   ]
  },
  {
   "cell_type": "markdown",
   "metadata": {},
   "source": [
    "Для дальнейшего рассчета помесячной выручки, объеденим все сводные таблицы и таблицу data_users."
   ]
  },
  {
   "cell_type": "code",
   "execution_count": 17,
   "metadata": {},
   "outputs": [
    {
     "data": {
      "text/html": [
       "<div>\n",
       "<style scoped>\n",
       "    .dataframe tbody tr th:only-of-type {\n",
       "        vertical-align: middle;\n",
       "    }\n",
       "\n",
       "    .dataframe tbody tr th {\n",
       "        vertical-align: top;\n",
       "    }\n",
       "\n",
       "    .dataframe thead th {\n",
       "        text-align: right;\n",
       "    }\n",
       "</style>\n",
       "<table border=\"1\" class=\"dataframe\">\n",
       "  <thead>\n",
       "    <tr style=\"text-align: right;\">\n",
       "      <th></th>\n",
       "      <th>user_id</th>\n",
       "      <th>age</th>\n",
       "      <th>churn_date</th>\n",
       "      <th>city</th>\n",
       "      <th>first_name</th>\n",
       "      <th>last_name</th>\n",
       "      <th>reg_date</th>\n",
       "      <th>tariff</th>\n",
       "      <th>month</th>\n",
       "      <th>traffic_volume</th>\n",
       "      <th>calls_count</th>\n",
       "      <th>calls_duration</th>\n",
       "      <th>messages_count</th>\n",
       "    </tr>\n",
       "  </thead>\n",
       "  <tbody>\n",
       "    <tr>\n",
       "      <th>0</th>\n",
       "      <td>1000</td>\n",
       "      <td>52</td>\n",
       "      <td>NaT</td>\n",
       "      <td>Краснодар</td>\n",
       "      <td>Рафаил</td>\n",
       "      <td>Верещагин</td>\n",
       "      <td>2018-05-25</td>\n",
       "      <td>ultra</td>\n",
       "      <td>5.0</td>\n",
       "      <td>2253.49</td>\n",
       "      <td>22.0</td>\n",
       "      <td>159.0</td>\n",
       "      <td>22.0</td>\n",
       "    </tr>\n",
       "    <tr>\n",
       "      <th>0</th>\n",
       "      <td>1000</td>\n",
       "      <td>52</td>\n",
       "      <td>NaT</td>\n",
       "      <td>Краснодар</td>\n",
       "      <td>Рафаил</td>\n",
       "      <td>Верещагин</td>\n",
       "      <td>2018-05-25</td>\n",
       "      <td>ultra</td>\n",
       "      <td>6.0</td>\n",
       "      <td>23233.77</td>\n",
       "      <td>43.0</td>\n",
       "      <td>172.0</td>\n",
       "      <td>60.0</td>\n",
       "    </tr>\n",
       "    <tr>\n",
       "      <th>0</th>\n",
       "      <td>1000</td>\n",
       "      <td>52</td>\n",
       "      <td>NaT</td>\n",
       "      <td>Краснодар</td>\n",
       "      <td>Рафаил</td>\n",
       "      <td>Верещагин</td>\n",
       "      <td>2018-05-25</td>\n",
       "      <td>ultra</td>\n",
       "      <td>7.0</td>\n",
       "      <td>14003.64</td>\n",
       "      <td>47.0</td>\n",
       "      <td>340.0</td>\n",
       "      <td>75.0</td>\n",
       "    </tr>\n",
       "    <tr>\n",
       "      <th>0</th>\n",
       "      <td>1000</td>\n",
       "      <td>52</td>\n",
       "      <td>NaT</td>\n",
       "      <td>Краснодар</td>\n",
       "      <td>Рафаил</td>\n",
       "      <td>Верещагин</td>\n",
       "      <td>2018-05-25</td>\n",
       "      <td>ultra</td>\n",
       "      <td>8.0</td>\n",
       "      <td>14055.93</td>\n",
       "      <td>52.0</td>\n",
       "      <td>408.0</td>\n",
       "      <td>81.0</td>\n",
       "    </tr>\n",
       "    <tr>\n",
       "      <th>0</th>\n",
       "      <td>1000</td>\n",
       "      <td>52</td>\n",
       "      <td>NaT</td>\n",
       "      <td>Краснодар</td>\n",
       "      <td>Рафаил</td>\n",
       "      <td>Верещагин</td>\n",
       "      <td>2018-05-25</td>\n",
       "      <td>ultra</td>\n",
       "      <td>9.0</td>\n",
       "      <td>14568.91</td>\n",
       "      <td>58.0</td>\n",
       "      <td>466.0</td>\n",
       "      <td>57.0</td>\n",
       "    </tr>\n",
       "  </tbody>\n",
       "</table>\n",
       "</div>"
      ],
      "text/plain": [
       "   user_id  age churn_date       city first_name  last_name   reg_date tariff  \\\n",
       "0     1000   52        NaT  Краснодар     Рафаил  Верещагин 2018-05-25  ultra   \n",
       "0     1000   52        NaT  Краснодар     Рафаил  Верещагин 2018-05-25  ultra   \n",
       "0     1000   52        NaT  Краснодар     Рафаил  Верещагин 2018-05-25  ultra   \n",
       "0     1000   52        NaT  Краснодар     Рафаил  Верещагин 2018-05-25  ultra   \n",
       "0     1000   52        NaT  Краснодар     Рафаил  Верещагин 2018-05-25  ultra   \n",
       "\n",
       "   month  traffic_volume  calls_count  calls_duration  messages_count  \n",
       "0    5.0         2253.49         22.0           159.0            22.0  \n",
       "0    6.0        23233.77         43.0           172.0            60.0  \n",
       "0    7.0        14003.64         47.0           340.0            75.0  \n",
       "0    8.0        14055.93         52.0           408.0            81.0  \n",
       "0    9.0        14568.91         58.0           466.0            57.0  "
      ]
     },
     "execution_count": 17,
     "metadata": {},
     "output_type": "execute_result"
    }
   ],
   "source": [
    "data = data_users.join(pre_data, on='user_id')\n",
    "data.head()"
   ]
  },
  {
   "cell_type": "markdown",
   "metadata": {},
   "source": [
    "Удалим те столбцы, с которыми мы точно работать не будем. "
   ]
  },
  {
   "cell_type": "code",
   "execution_count": 18,
   "metadata": {},
   "outputs": [],
   "source": [
    "del data['churn_date']\n",
    "del data['first_name']\n",
    "del data['last_name']\n",
    "del data['reg_date']"
   ]
  },
  {
   "cell_type": "markdown",
   "metadata": {},
   "source": [
    "Округлим значения трафика в мб, и добавим столбец с трафиком в гб."
   ]
  },
  {
   "cell_type": "code",
   "execution_count": 19,
   "metadata": {},
   "outputs": [
    {
     "data": {
      "text/html": [
       "<div>\n",
       "<style scoped>\n",
       "    .dataframe tbody tr th:only-of-type {\n",
       "        vertical-align: middle;\n",
       "    }\n",
       "\n",
       "    .dataframe tbody tr th {\n",
       "        vertical-align: top;\n",
       "    }\n",
       "\n",
       "    .dataframe thead th {\n",
       "        text-align: right;\n",
       "    }\n",
       "</style>\n",
       "<table border=\"1\" class=\"dataframe\">\n",
       "  <thead>\n",
       "    <tr style=\"text-align: right;\">\n",
       "      <th></th>\n",
       "      <th>user_id</th>\n",
       "      <th>age</th>\n",
       "      <th>city</th>\n",
       "      <th>tariff</th>\n",
       "      <th>month</th>\n",
       "      <th>traffic_volume</th>\n",
       "      <th>calls_count</th>\n",
       "      <th>calls_duration</th>\n",
       "      <th>messages_count</th>\n",
       "      <th>traffic_volume_gb</th>\n",
       "    </tr>\n",
       "  </thead>\n",
       "  <tbody>\n",
       "    <tr>\n",
       "      <th>0</th>\n",
       "      <td>1000</td>\n",
       "      <td>52</td>\n",
       "      <td>Краснодар</td>\n",
       "      <td>ultra</td>\n",
       "      <td>5.0</td>\n",
       "      <td>2254.0</td>\n",
       "      <td>22.0</td>\n",
       "      <td>159.0</td>\n",
       "      <td>22.0</td>\n",
       "      <td>3.0</td>\n",
       "    </tr>\n",
       "    <tr>\n",
       "      <th>0</th>\n",
       "      <td>1000</td>\n",
       "      <td>52</td>\n",
       "      <td>Краснодар</td>\n",
       "      <td>ultra</td>\n",
       "      <td>6.0</td>\n",
       "      <td>23234.0</td>\n",
       "      <td>43.0</td>\n",
       "      <td>172.0</td>\n",
       "      <td>60.0</td>\n",
       "      <td>23.0</td>\n",
       "    </tr>\n",
       "    <tr>\n",
       "      <th>0</th>\n",
       "      <td>1000</td>\n",
       "      <td>52</td>\n",
       "      <td>Краснодар</td>\n",
       "      <td>ultra</td>\n",
       "      <td>7.0</td>\n",
       "      <td>14004.0</td>\n",
       "      <td>47.0</td>\n",
       "      <td>340.0</td>\n",
       "      <td>75.0</td>\n",
       "      <td>14.0</td>\n",
       "    </tr>\n",
       "    <tr>\n",
       "      <th>0</th>\n",
       "      <td>1000</td>\n",
       "      <td>52</td>\n",
       "      <td>Краснодар</td>\n",
       "      <td>ultra</td>\n",
       "      <td>8.0</td>\n",
       "      <td>14056.0</td>\n",
       "      <td>52.0</td>\n",
       "      <td>408.0</td>\n",
       "      <td>81.0</td>\n",
       "      <td>14.0</td>\n",
       "    </tr>\n",
       "    <tr>\n",
       "      <th>0</th>\n",
       "      <td>1000</td>\n",
       "      <td>52</td>\n",
       "      <td>Краснодар</td>\n",
       "      <td>ultra</td>\n",
       "      <td>9.0</td>\n",
       "      <td>14569.0</td>\n",
       "      <td>58.0</td>\n",
       "      <td>466.0</td>\n",
       "      <td>57.0</td>\n",
       "      <td>15.0</td>\n",
       "    </tr>\n",
       "    <tr>\n",
       "      <th>0</th>\n",
       "      <td>1000</td>\n",
       "      <td>52</td>\n",
       "      <td>Краснодар</td>\n",
       "      <td>ultra</td>\n",
       "      <td>10.0</td>\n",
       "      <td>14703.0</td>\n",
       "      <td>57.0</td>\n",
       "      <td>350.0</td>\n",
       "      <td>73.0</td>\n",
       "      <td>15.0</td>\n",
       "    </tr>\n",
       "    <tr>\n",
       "      <th>0</th>\n",
       "      <td>1000</td>\n",
       "      <td>52</td>\n",
       "      <td>Краснодар</td>\n",
       "      <td>ultra</td>\n",
       "      <td>11.0</td>\n",
       "      <td>14757.0</td>\n",
       "      <td>43.0</td>\n",
       "      <td>338.0</td>\n",
       "      <td>58.0</td>\n",
       "      <td>15.0</td>\n",
       "    </tr>\n",
       "    <tr>\n",
       "      <th>0</th>\n",
       "      <td>1000</td>\n",
       "      <td>52</td>\n",
       "      <td>Краснодар</td>\n",
       "      <td>ultra</td>\n",
       "      <td>12.0</td>\n",
       "      <td>9818.0</td>\n",
       "      <td>46.0</td>\n",
       "      <td>333.0</td>\n",
       "      <td>70.0</td>\n",
       "      <td>10.0</td>\n",
       "    </tr>\n",
       "    <tr>\n",
       "      <th>1</th>\n",
       "      <td>1001</td>\n",
       "      <td>41</td>\n",
       "      <td>Москва</td>\n",
       "      <td>smart</td>\n",
       "      <td>11.0</td>\n",
       "      <td>18430.0</td>\n",
       "      <td>59.0</td>\n",
       "      <td>430.0</td>\n",
       "      <td>NaN</td>\n",
       "      <td>18.0</td>\n",
       "    </tr>\n",
       "    <tr>\n",
       "      <th>1</th>\n",
       "      <td>1001</td>\n",
       "      <td>41</td>\n",
       "      <td>Москва</td>\n",
       "      <td>smart</td>\n",
       "      <td>12.0</td>\n",
       "      <td>14037.0</td>\n",
       "      <td>63.0</td>\n",
       "      <td>414.0</td>\n",
       "      <td>NaN</td>\n",
       "      <td>14.0</td>\n",
       "    </tr>\n",
       "  </tbody>\n",
       "</table>\n",
       "</div>"
      ],
      "text/plain": [
       "   user_id  age       city tariff  month  traffic_volume  calls_count  \\\n",
       "0     1000   52  Краснодар  ultra    5.0          2254.0         22.0   \n",
       "0     1000   52  Краснодар  ultra    6.0         23234.0         43.0   \n",
       "0     1000   52  Краснодар  ultra    7.0         14004.0         47.0   \n",
       "0     1000   52  Краснодар  ultra    8.0         14056.0         52.0   \n",
       "0     1000   52  Краснодар  ultra    9.0         14569.0         58.0   \n",
       "0     1000   52  Краснодар  ultra   10.0         14703.0         57.0   \n",
       "0     1000   52  Краснодар  ultra   11.0         14757.0         43.0   \n",
       "0     1000   52  Краснодар  ultra   12.0          9818.0         46.0   \n",
       "1     1001   41     Москва  smart   11.0         18430.0         59.0   \n",
       "1     1001   41     Москва  smart   12.0         14037.0         63.0   \n",
       "\n",
       "   calls_duration  messages_count  traffic_volume_gb  \n",
       "0           159.0            22.0                3.0  \n",
       "0           172.0            60.0               23.0  \n",
       "0           340.0            75.0               14.0  \n",
       "0           408.0            81.0               14.0  \n",
       "0           466.0            57.0               15.0  \n",
       "0           350.0            73.0               15.0  \n",
       "0           338.0            58.0               15.0  \n",
       "0           333.0            70.0               10.0  \n",
       "1           430.0             NaN               18.0  \n",
       "1           414.0             NaN               14.0  "
      ]
     },
     "execution_count": 19,
     "metadata": {},
     "output_type": "execute_result"
    }
   ],
   "source": [
    "data['traffic_volume'] = np.ceil(data['traffic_volume'])\n",
    "\n",
    "data['traffic_volume_gb'] = np.ceil(data['traffic_volume'] / 1024 )\n",
    "data.head(10)"
   ]
  },
  {
   "cell_type": "markdown",
   "metadata": {},
   "source": [
    "#### Помесячная выручка с каждого пользователя:"
   ]
  },
  {
   "cell_type": "markdown",
   "metadata": {},
   "source": [
    "Добавим к df_cmiu_pivot информацию о тарифах из таблицы data_tariffs, для этого сначала поменяем название нужного столбца на tariff\n"
   ]
  },
  {
   "cell_type": "code",
   "execution_count": 20,
   "metadata": {},
   "outputs": [
    {
     "data": {
      "text/html": [
       "<div>\n",
       "<style scoped>\n",
       "    .dataframe tbody tr th:only-of-type {\n",
       "        vertical-align: middle;\n",
       "    }\n",
       "\n",
       "    .dataframe tbody tr th {\n",
       "        vertical-align: top;\n",
       "    }\n",
       "\n",
       "    .dataframe thead th {\n",
       "        text-align: right;\n",
       "    }\n",
       "</style>\n",
       "<table border=\"1\" class=\"dataframe\">\n",
       "  <thead>\n",
       "    <tr style=\"text-align: right;\">\n",
       "      <th></th>\n",
       "      <th>user_id</th>\n",
       "      <th>age</th>\n",
       "      <th>city</th>\n",
       "      <th>tariff</th>\n",
       "      <th>month</th>\n",
       "      <th>traffic_volume</th>\n",
       "      <th>calls_count</th>\n",
       "      <th>calls_duration</th>\n",
       "      <th>messages_count</th>\n",
       "      <th>traffic_volume_gb</th>\n",
       "      <th>messages_included</th>\n",
       "      <th>mb_per_month_included</th>\n",
       "      <th>minutes_included</th>\n",
       "      <th>rub_monthly_fee</th>\n",
       "      <th>rub_per_gb</th>\n",
       "      <th>rub_per_message</th>\n",
       "      <th>rub_per_minute</th>\n",
       "    </tr>\n",
       "  </thead>\n",
       "  <tbody>\n",
       "    <tr>\n",
       "      <th>0</th>\n",
       "      <td>1000</td>\n",
       "      <td>52</td>\n",
       "      <td>Краснодар</td>\n",
       "      <td>ultra</td>\n",
       "      <td>5.0</td>\n",
       "      <td>2254.0</td>\n",
       "      <td>22.0</td>\n",
       "      <td>159.0</td>\n",
       "      <td>22.0</td>\n",
       "      <td>3.0</td>\n",
       "      <td>1000</td>\n",
       "      <td>30720</td>\n",
       "      <td>3000</td>\n",
       "      <td>1950</td>\n",
       "      <td>150</td>\n",
       "      <td>1</td>\n",
       "      <td>1</td>\n",
       "    </tr>\n",
       "    <tr>\n",
       "      <th>1</th>\n",
       "      <td>1000</td>\n",
       "      <td>52</td>\n",
       "      <td>Краснодар</td>\n",
       "      <td>ultra</td>\n",
       "      <td>6.0</td>\n",
       "      <td>23234.0</td>\n",
       "      <td>43.0</td>\n",
       "      <td>172.0</td>\n",
       "      <td>60.0</td>\n",
       "      <td>23.0</td>\n",
       "      <td>1000</td>\n",
       "      <td>30720</td>\n",
       "      <td>3000</td>\n",
       "      <td>1950</td>\n",
       "      <td>150</td>\n",
       "      <td>1</td>\n",
       "      <td>1</td>\n",
       "    </tr>\n",
       "    <tr>\n",
       "      <th>2</th>\n",
       "      <td>1000</td>\n",
       "      <td>52</td>\n",
       "      <td>Краснодар</td>\n",
       "      <td>ultra</td>\n",
       "      <td>7.0</td>\n",
       "      <td>14004.0</td>\n",
       "      <td>47.0</td>\n",
       "      <td>340.0</td>\n",
       "      <td>75.0</td>\n",
       "      <td>14.0</td>\n",
       "      <td>1000</td>\n",
       "      <td>30720</td>\n",
       "      <td>3000</td>\n",
       "      <td>1950</td>\n",
       "      <td>150</td>\n",
       "      <td>1</td>\n",
       "      <td>1</td>\n",
       "    </tr>\n",
       "    <tr>\n",
       "      <th>3</th>\n",
       "      <td>1000</td>\n",
       "      <td>52</td>\n",
       "      <td>Краснодар</td>\n",
       "      <td>ultra</td>\n",
       "      <td>8.0</td>\n",
       "      <td>14056.0</td>\n",
       "      <td>52.0</td>\n",
       "      <td>408.0</td>\n",
       "      <td>81.0</td>\n",
       "      <td>14.0</td>\n",
       "      <td>1000</td>\n",
       "      <td>30720</td>\n",
       "      <td>3000</td>\n",
       "      <td>1950</td>\n",
       "      <td>150</td>\n",
       "      <td>1</td>\n",
       "      <td>1</td>\n",
       "    </tr>\n",
       "    <tr>\n",
       "      <th>4</th>\n",
       "      <td>1000</td>\n",
       "      <td>52</td>\n",
       "      <td>Краснодар</td>\n",
       "      <td>ultra</td>\n",
       "      <td>9.0</td>\n",
       "      <td>14569.0</td>\n",
       "      <td>58.0</td>\n",
       "      <td>466.0</td>\n",
       "      <td>57.0</td>\n",
       "      <td>15.0</td>\n",
       "      <td>1000</td>\n",
       "      <td>30720</td>\n",
       "      <td>3000</td>\n",
       "      <td>1950</td>\n",
       "      <td>150</td>\n",
       "      <td>1</td>\n",
       "      <td>1</td>\n",
       "    </tr>\n",
       "    <tr>\n",
       "      <th>...</th>\n",
       "      <td>...</td>\n",
       "      <td>...</td>\n",
       "      <td>...</td>\n",
       "      <td>...</td>\n",
       "      <td>...</td>\n",
       "      <td>...</td>\n",
       "      <td>...</td>\n",
       "      <td>...</td>\n",
       "      <td>...</td>\n",
       "      <td>...</td>\n",
       "      <td>...</td>\n",
       "      <td>...</td>\n",
       "      <td>...</td>\n",
       "      <td>...</td>\n",
       "      <td>...</td>\n",
       "      <td>...</td>\n",
       "      <td>...</td>\n",
       "    </tr>\n",
       "    <tr>\n",
       "      <th>3201</th>\n",
       "      <td>1498</td>\n",
       "      <td>68</td>\n",
       "      <td>Владикавказ</td>\n",
       "      <td>smart</td>\n",
       "      <td>10.0</td>\n",
       "      <td>20580.0</td>\n",
       "      <td>41.0</td>\n",
       "      <td>247.0</td>\n",
       "      <td>42.0</td>\n",
       "      <td>21.0</td>\n",
       "      <td>50</td>\n",
       "      <td>15360</td>\n",
       "      <td>500</td>\n",
       "      <td>550</td>\n",
       "      <td>200</td>\n",
       "      <td>3</td>\n",
       "      <td>3</td>\n",
       "    </tr>\n",
       "    <tr>\n",
       "      <th>3202</th>\n",
       "      <td>1499</td>\n",
       "      <td>35</td>\n",
       "      <td>Пермь</td>\n",
       "      <td>smart</td>\n",
       "      <td>9.0</td>\n",
       "      <td>1846.0</td>\n",
       "      <td>9.0</td>\n",
       "      <td>70.0</td>\n",
       "      <td>11.0</td>\n",
       "      <td>2.0</td>\n",
       "      <td>50</td>\n",
       "      <td>15360</td>\n",
       "      <td>500</td>\n",
       "      <td>550</td>\n",
       "      <td>200</td>\n",
       "      <td>3</td>\n",
       "      <td>3</td>\n",
       "    </tr>\n",
       "    <tr>\n",
       "      <th>3203</th>\n",
       "      <td>1499</td>\n",
       "      <td>35</td>\n",
       "      <td>Пермь</td>\n",
       "      <td>smart</td>\n",
       "      <td>10.0</td>\n",
       "      <td>17789.0</td>\n",
       "      <td>68.0</td>\n",
       "      <td>449.0</td>\n",
       "      <td>48.0</td>\n",
       "      <td>18.0</td>\n",
       "      <td>50</td>\n",
       "      <td>15360</td>\n",
       "      <td>500</td>\n",
       "      <td>550</td>\n",
       "      <td>200</td>\n",
       "      <td>3</td>\n",
       "      <td>3</td>\n",
       "    </tr>\n",
       "    <tr>\n",
       "      <th>3204</th>\n",
       "      <td>1499</td>\n",
       "      <td>35</td>\n",
       "      <td>Пермь</td>\n",
       "      <td>smart</td>\n",
       "      <td>11.0</td>\n",
       "      <td>17964.0</td>\n",
       "      <td>74.0</td>\n",
       "      <td>612.0</td>\n",
       "      <td>59.0</td>\n",
       "      <td>18.0</td>\n",
       "      <td>50</td>\n",
       "      <td>15360</td>\n",
       "      <td>500</td>\n",
       "      <td>550</td>\n",
       "      <td>200</td>\n",
       "      <td>3</td>\n",
       "      <td>3</td>\n",
       "    </tr>\n",
       "    <tr>\n",
       "      <th>3205</th>\n",
       "      <td>1499</td>\n",
       "      <td>35</td>\n",
       "      <td>Пермь</td>\n",
       "      <td>smart</td>\n",
       "      <td>12.0</td>\n",
       "      <td>13056.0</td>\n",
       "      <td>69.0</td>\n",
       "      <td>492.0</td>\n",
       "      <td>66.0</td>\n",
       "      <td>13.0</td>\n",
       "      <td>50</td>\n",
       "      <td>15360</td>\n",
       "      <td>500</td>\n",
       "      <td>550</td>\n",
       "      <td>200</td>\n",
       "      <td>3</td>\n",
       "      <td>3</td>\n",
       "    </tr>\n",
       "  </tbody>\n",
       "</table>\n",
       "<p>3206 rows × 17 columns</p>\n",
       "</div>"
      ],
      "text/plain": [
       "      user_id  age         city tariff  month  traffic_volume  calls_count  \\\n",
       "0        1000   52    Краснодар  ultra    5.0          2254.0         22.0   \n",
       "1        1000   52    Краснодар  ultra    6.0         23234.0         43.0   \n",
       "2        1000   52    Краснодар  ultra    7.0         14004.0         47.0   \n",
       "3        1000   52    Краснодар  ultra    8.0         14056.0         52.0   \n",
       "4        1000   52    Краснодар  ultra    9.0         14569.0         58.0   \n",
       "...       ...  ...          ...    ...    ...             ...          ...   \n",
       "3201     1498   68  Владикавказ  smart   10.0         20580.0         41.0   \n",
       "3202     1499   35        Пермь  smart    9.0          1846.0          9.0   \n",
       "3203     1499   35        Пермь  smart   10.0         17789.0         68.0   \n",
       "3204     1499   35        Пермь  smart   11.0         17964.0         74.0   \n",
       "3205     1499   35        Пермь  smart   12.0         13056.0         69.0   \n",
       "\n",
       "      calls_duration  messages_count  traffic_volume_gb  messages_included  \\\n",
       "0              159.0            22.0                3.0               1000   \n",
       "1              172.0            60.0               23.0               1000   \n",
       "2              340.0            75.0               14.0               1000   \n",
       "3              408.0            81.0               14.0               1000   \n",
       "4              466.0            57.0               15.0               1000   \n",
       "...              ...             ...                ...                ...   \n",
       "3201           247.0            42.0               21.0                 50   \n",
       "3202            70.0            11.0                2.0                 50   \n",
       "3203           449.0            48.0               18.0                 50   \n",
       "3204           612.0            59.0               18.0                 50   \n",
       "3205           492.0            66.0               13.0                 50   \n",
       "\n",
       "      mb_per_month_included  minutes_included  rub_monthly_fee  rub_per_gb  \\\n",
       "0                     30720              3000             1950         150   \n",
       "1                     30720              3000             1950         150   \n",
       "2                     30720              3000             1950         150   \n",
       "3                     30720              3000             1950         150   \n",
       "4                     30720              3000             1950         150   \n",
       "...                     ...               ...              ...         ...   \n",
       "3201                  15360               500              550         200   \n",
       "3202                  15360               500              550         200   \n",
       "3203                  15360               500              550         200   \n",
       "3204                  15360               500              550         200   \n",
       "3205                  15360               500              550         200   \n",
       "\n",
       "      rub_per_message  rub_per_minute  \n",
       "0                   1               1  \n",
       "1                   1               1  \n",
       "2                   1               1  \n",
       "3                   1               1  \n",
       "4                   1               1  \n",
       "...               ...             ...  \n",
       "3201                3               3  \n",
       "3202                3               3  \n",
       "3203                3               3  \n",
       "3204                3               3  \n",
       "3205                3               3  \n",
       "\n",
       "[3206 rows x 17 columns]"
      ]
     },
     "execution_count": 20,
     "metadata": {},
     "output_type": "execute_result"
    }
   ],
   "source": [
    "data_tariffs = data_tariffs.rename(columns={'tariff_name':'tariff'})\n",
    "data = data.merge(data_tariffs, on='tariff')\n",
    "data"
   ]
  },
  {
   "cell_type": "markdown",
   "metadata": {},
   "source": [
    "После объединения таблиц образовалось немало пропусков, особенно в messages_count. Это произошло из-за разницы в исходных данных. Оставить как есть или отбросить их не вариант, т.к. в первом случае они повляют на дальнейшие расчеты, а во втором потеряем много данных. Поэтому заменим все пропуски на ноль."
   ]
  },
  {
   "cell_type": "code",
   "execution_count": 21,
   "metadata": {},
   "outputs": [
    {
     "data": {
      "text/plain": [
       "user_id                    0\n",
       "age                        0\n",
       "city                       0\n",
       "tariff                     0\n",
       "month                      3\n",
       "traffic_volume             3\n",
       "calls_count               43\n",
       "calls_duration            43\n",
       "messages_count           500\n",
       "traffic_volume_gb          3\n",
       "messages_included          0\n",
       "mb_per_month_included      0\n",
       "minutes_included           0\n",
       "rub_monthly_fee            0\n",
       "rub_per_gb                 0\n",
       "rub_per_message            0\n",
       "rub_per_minute             0\n",
       "dtype: int64"
      ]
     },
     "execution_count": 21,
     "metadata": {},
     "output_type": "execute_result"
    }
   ],
   "source": [
    "data.isnull().sum()"
   ]
  },
  {
   "cell_type": "code",
   "execution_count": 22,
   "metadata": {},
   "outputs": [],
   "source": [
    "# пропуски в колонке month заменить на ноль нельзя, всего три строки с пропусками, поэтому удалим их\n",
    "data = data.dropna(subset=['month'])\n",
    "\n",
    "# остальные пропуски заменим на ноль\n",
    "data = data.fillna(0)"
   ]
  },
  {
   "cell_type": "code",
   "execution_count": 23,
   "metadata": {},
   "outputs": [
    {
     "data": {
      "text/plain": [
       "user_id                  0\n",
       "age                      0\n",
       "city                     0\n",
       "tariff                   0\n",
       "month                    0\n",
       "traffic_volume           0\n",
       "calls_count              0\n",
       "calls_duration           0\n",
       "messages_count           0\n",
       "traffic_volume_gb        0\n",
       "messages_included        0\n",
       "mb_per_month_included    0\n",
       "minutes_included         0\n",
       "rub_monthly_fee          0\n",
       "rub_per_gb               0\n",
       "rub_per_message          0\n",
       "rub_per_minute           0\n",
       "dtype: int64"
      ]
     },
     "execution_count": 23,
     "metadata": {},
     "output_type": "execute_result"
    }
   ],
   "source": [
    "data.isnull().sum()"
   ]
  },
  {
   "cell_type": "markdown",
   "metadata": {},
   "source": [
    "Рассчитаем помесячную выручку при помощи функции money."
   ]
  },
  {
   "cell_type": "code",
   "execution_count": 24,
   "metadata": {},
   "outputs": [],
   "source": [
    "def money(row):\n",
    "    \n",
    "# определим переменные\n",
    "    \n",
    "    bill_minutes = 0\n",
    "    bill_sms = 0\n",
    "    bill_traffic = 0\n",
    "\n",
    "\n",
    "# проверим разницу между суммарными значениями звонков, сообщений, трафика и бесплатным лимитом тарифа\n",
    "# если эта разница меньше нуля, то возвращаем ноль - клиент не израсходовал бесплатный лимит\n",
    "# если больше - то разницу умножаем на стоимость сверх тарифного плана\n",
    "    \n",
    "    if row['calls_duration'] > row['minutes_included']:\n",
    "        bill_minutes += (row['calls_duration'] - row['minutes_included']) * row['rub_per_minute']\n",
    "    if row['calls_duration'] < row['minutes_included']:\n",
    "        bill_minutes = 0\n",
    "    if row['messages_count'] > row['messages_included']:\n",
    "        bill_sms += (row['messages_count'] - row['messages_included']) * row['rub_per_message']\n",
    "    if row['messages_count'] < row['messages_included']:\n",
    "        bill_sms = 0\n",
    "    if row['traffic_volume'] > row['mb_per_month_included']:\n",
    "        bill_traffic += (np.ceil((row['traffic_volume'] - row['mb_per_month_included']) / 1024 )) * row['rub_per_gb']# округляем мегабайты вверх до гигабайт\n",
    "    if row['traffic_volume'] < row['mb_per_month_included']:\n",
    "        bill_traffic = 0\n",
    "        \n",
    "# функция возвращает итоговый счет за месяц для клиента,\n",
    "# в котором к сумме счетов за отдельные категории услуг прибавляется абонентская плата за тариф\n",
    "        \n",
    "    return bill_minutes + bill_sms + bill_traffic + row['rub_monthly_fee']"
   ]
  },
  {
   "cell_type": "code",
   "execution_count": 25,
   "metadata": {},
   "outputs": [
    {
     "data": {
      "text/html": [
       "<div>\n",
       "<style scoped>\n",
       "    .dataframe tbody tr th:only-of-type {\n",
       "        vertical-align: middle;\n",
       "    }\n",
       "\n",
       "    .dataframe tbody tr th {\n",
       "        vertical-align: top;\n",
       "    }\n",
       "\n",
       "    .dataframe thead th {\n",
       "        text-align: right;\n",
       "    }\n",
       "</style>\n",
       "<table border=\"1\" class=\"dataframe\">\n",
       "  <thead>\n",
       "    <tr style=\"text-align: right;\">\n",
       "      <th></th>\n",
       "      <th>user_id</th>\n",
       "      <th>age</th>\n",
       "      <th>city</th>\n",
       "      <th>tariff</th>\n",
       "      <th>month</th>\n",
       "      <th>traffic_volume</th>\n",
       "      <th>calls_count</th>\n",
       "      <th>calls_duration</th>\n",
       "      <th>messages_count</th>\n",
       "      <th>traffic_volume_gb</th>\n",
       "      <th>messages_included</th>\n",
       "      <th>mb_per_month_included</th>\n",
       "      <th>minutes_included</th>\n",
       "      <th>rub_monthly_fee</th>\n",
       "      <th>rub_per_gb</th>\n",
       "      <th>rub_per_message</th>\n",
       "      <th>rub_per_minute</th>\n",
       "      <th>total_bill</th>\n",
       "    </tr>\n",
       "  </thead>\n",
       "  <tbody>\n",
       "    <tr>\n",
       "      <th>0</th>\n",
       "      <td>1000</td>\n",
       "      <td>52</td>\n",
       "      <td>Краснодар</td>\n",
       "      <td>ultra</td>\n",
       "      <td>5.0</td>\n",
       "      <td>2254.0</td>\n",
       "      <td>22.0</td>\n",
       "      <td>159.0</td>\n",
       "      <td>22.0</td>\n",
       "      <td>3.0</td>\n",
       "      <td>1000</td>\n",
       "      <td>30720</td>\n",
       "      <td>3000</td>\n",
       "      <td>1950</td>\n",
       "      <td>150</td>\n",
       "      <td>1</td>\n",
       "      <td>1</td>\n",
       "      <td>1950.0</td>\n",
       "    </tr>\n",
       "    <tr>\n",
       "      <th>1</th>\n",
       "      <td>1000</td>\n",
       "      <td>52</td>\n",
       "      <td>Краснодар</td>\n",
       "      <td>ultra</td>\n",
       "      <td>6.0</td>\n",
       "      <td>23234.0</td>\n",
       "      <td>43.0</td>\n",
       "      <td>172.0</td>\n",
       "      <td>60.0</td>\n",
       "      <td>23.0</td>\n",
       "      <td>1000</td>\n",
       "      <td>30720</td>\n",
       "      <td>3000</td>\n",
       "      <td>1950</td>\n",
       "      <td>150</td>\n",
       "      <td>1</td>\n",
       "      <td>1</td>\n",
       "      <td>1950.0</td>\n",
       "    </tr>\n",
       "    <tr>\n",
       "      <th>2</th>\n",
       "      <td>1000</td>\n",
       "      <td>52</td>\n",
       "      <td>Краснодар</td>\n",
       "      <td>ultra</td>\n",
       "      <td>7.0</td>\n",
       "      <td>14004.0</td>\n",
       "      <td>47.0</td>\n",
       "      <td>340.0</td>\n",
       "      <td>75.0</td>\n",
       "      <td>14.0</td>\n",
       "      <td>1000</td>\n",
       "      <td>30720</td>\n",
       "      <td>3000</td>\n",
       "      <td>1950</td>\n",
       "      <td>150</td>\n",
       "      <td>1</td>\n",
       "      <td>1</td>\n",
       "      <td>1950.0</td>\n",
       "    </tr>\n",
       "    <tr>\n",
       "      <th>3</th>\n",
       "      <td>1000</td>\n",
       "      <td>52</td>\n",
       "      <td>Краснодар</td>\n",
       "      <td>ultra</td>\n",
       "      <td>8.0</td>\n",
       "      <td>14056.0</td>\n",
       "      <td>52.0</td>\n",
       "      <td>408.0</td>\n",
       "      <td>81.0</td>\n",
       "      <td>14.0</td>\n",
       "      <td>1000</td>\n",
       "      <td>30720</td>\n",
       "      <td>3000</td>\n",
       "      <td>1950</td>\n",
       "      <td>150</td>\n",
       "      <td>1</td>\n",
       "      <td>1</td>\n",
       "      <td>1950.0</td>\n",
       "    </tr>\n",
       "    <tr>\n",
       "      <th>4</th>\n",
       "      <td>1000</td>\n",
       "      <td>52</td>\n",
       "      <td>Краснодар</td>\n",
       "      <td>ultra</td>\n",
       "      <td>9.0</td>\n",
       "      <td>14569.0</td>\n",
       "      <td>58.0</td>\n",
       "      <td>466.0</td>\n",
       "      <td>57.0</td>\n",
       "      <td>15.0</td>\n",
       "      <td>1000</td>\n",
       "      <td>30720</td>\n",
       "      <td>3000</td>\n",
       "      <td>1950</td>\n",
       "      <td>150</td>\n",
       "      <td>1</td>\n",
       "      <td>1</td>\n",
       "      <td>1950.0</td>\n",
       "    </tr>\n",
       "    <tr>\n",
       "      <th>...</th>\n",
       "      <td>...</td>\n",
       "      <td>...</td>\n",
       "      <td>...</td>\n",
       "      <td>...</td>\n",
       "      <td>...</td>\n",
       "      <td>...</td>\n",
       "      <td>...</td>\n",
       "      <td>...</td>\n",
       "      <td>...</td>\n",
       "      <td>...</td>\n",
       "      <td>...</td>\n",
       "      <td>...</td>\n",
       "      <td>...</td>\n",
       "      <td>...</td>\n",
       "      <td>...</td>\n",
       "      <td>...</td>\n",
       "      <td>...</td>\n",
       "      <td>...</td>\n",
       "    </tr>\n",
       "    <tr>\n",
       "      <th>3201</th>\n",
       "      <td>1498</td>\n",
       "      <td>68</td>\n",
       "      <td>Владикавказ</td>\n",
       "      <td>smart</td>\n",
       "      <td>10.0</td>\n",
       "      <td>20580.0</td>\n",
       "      <td>41.0</td>\n",
       "      <td>247.0</td>\n",
       "      <td>42.0</td>\n",
       "      <td>21.0</td>\n",
       "      <td>50</td>\n",
       "      <td>15360</td>\n",
       "      <td>500</td>\n",
       "      <td>550</td>\n",
       "      <td>200</td>\n",
       "      <td>3</td>\n",
       "      <td>3</td>\n",
       "      <td>1750.0</td>\n",
       "    </tr>\n",
       "    <tr>\n",
       "      <th>3202</th>\n",
       "      <td>1499</td>\n",
       "      <td>35</td>\n",
       "      <td>Пермь</td>\n",
       "      <td>smart</td>\n",
       "      <td>9.0</td>\n",
       "      <td>1846.0</td>\n",
       "      <td>9.0</td>\n",
       "      <td>70.0</td>\n",
       "      <td>11.0</td>\n",
       "      <td>2.0</td>\n",
       "      <td>50</td>\n",
       "      <td>15360</td>\n",
       "      <td>500</td>\n",
       "      <td>550</td>\n",
       "      <td>200</td>\n",
       "      <td>3</td>\n",
       "      <td>3</td>\n",
       "      <td>550.0</td>\n",
       "    </tr>\n",
       "    <tr>\n",
       "      <th>3203</th>\n",
       "      <td>1499</td>\n",
       "      <td>35</td>\n",
       "      <td>Пермь</td>\n",
       "      <td>smart</td>\n",
       "      <td>10.0</td>\n",
       "      <td>17789.0</td>\n",
       "      <td>68.0</td>\n",
       "      <td>449.0</td>\n",
       "      <td>48.0</td>\n",
       "      <td>18.0</td>\n",
       "      <td>50</td>\n",
       "      <td>15360</td>\n",
       "      <td>500</td>\n",
       "      <td>550</td>\n",
       "      <td>200</td>\n",
       "      <td>3</td>\n",
       "      <td>3</td>\n",
       "      <td>1150.0</td>\n",
       "    </tr>\n",
       "    <tr>\n",
       "      <th>3204</th>\n",
       "      <td>1499</td>\n",
       "      <td>35</td>\n",
       "      <td>Пермь</td>\n",
       "      <td>smart</td>\n",
       "      <td>11.0</td>\n",
       "      <td>17964.0</td>\n",
       "      <td>74.0</td>\n",
       "      <td>612.0</td>\n",
       "      <td>59.0</td>\n",
       "      <td>18.0</td>\n",
       "      <td>50</td>\n",
       "      <td>15360</td>\n",
       "      <td>500</td>\n",
       "      <td>550</td>\n",
       "      <td>200</td>\n",
       "      <td>3</td>\n",
       "      <td>3</td>\n",
       "      <td>1513.0</td>\n",
       "    </tr>\n",
       "    <tr>\n",
       "      <th>3205</th>\n",
       "      <td>1499</td>\n",
       "      <td>35</td>\n",
       "      <td>Пермь</td>\n",
       "      <td>smart</td>\n",
       "      <td>12.0</td>\n",
       "      <td>13056.0</td>\n",
       "      <td>69.0</td>\n",
       "      <td>492.0</td>\n",
       "      <td>66.0</td>\n",
       "      <td>13.0</td>\n",
       "      <td>50</td>\n",
       "      <td>15360</td>\n",
       "      <td>500</td>\n",
       "      <td>550</td>\n",
       "      <td>200</td>\n",
       "      <td>3</td>\n",
       "      <td>3</td>\n",
       "      <td>598.0</td>\n",
       "    </tr>\n",
       "  </tbody>\n",
       "</table>\n",
       "<p>3203 rows × 18 columns</p>\n",
       "</div>"
      ],
      "text/plain": [
       "      user_id  age         city tariff  month  traffic_volume  calls_count  \\\n",
       "0        1000   52    Краснодар  ultra    5.0          2254.0         22.0   \n",
       "1        1000   52    Краснодар  ultra    6.0         23234.0         43.0   \n",
       "2        1000   52    Краснодар  ultra    7.0         14004.0         47.0   \n",
       "3        1000   52    Краснодар  ultra    8.0         14056.0         52.0   \n",
       "4        1000   52    Краснодар  ultra    9.0         14569.0         58.0   \n",
       "...       ...  ...          ...    ...    ...             ...          ...   \n",
       "3201     1498   68  Владикавказ  smart   10.0         20580.0         41.0   \n",
       "3202     1499   35        Пермь  smart    9.0          1846.0          9.0   \n",
       "3203     1499   35        Пермь  smart   10.0         17789.0         68.0   \n",
       "3204     1499   35        Пермь  smart   11.0         17964.0         74.0   \n",
       "3205     1499   35        Пермь  smart   12.0         13056.0         69.0   \n",
       "\n",
       "      calls_duration  messages_count  traffic_volume_gb  messages_included  \\\n",
       "0              159.0            22.0                3.0               1000   \n",
       "1              172.0            60.0               23.0               1000   \n",
       "2              340.0            75.0               14.0               1000   \n",
       "3              408.0            81.0               14.0               1000   \n",
       "4              466.0            57.0               15.0               1000   \n",
       "...              ...             ...                ...                ...   \n",
       "3201           247.0            42.0               21.0                 50   \n",
       "3202            70.0            11.0                2.0                 50   \n",
       "3203           449.0            48.0               18.0                 50   \n",
       "3204           612.0            59.0               18.0                 50   \n",
       "3205           492.0            66.0               13.0                 50   \n",
       "\n",
       "      mb_per_month_included  minutes_included  rub_monthly_fee  rub_per_gb  \\\n",
       "0                     30720              3000             1950         150   \n",
       "1                     30720              3000             1950         150   \n",
       "2                     30720              3000             1950         150   \n",
       "3                     30720              3000             1950         150   \n",
       "4                     30720              3000             1950         150   \n",
       "...                     ...               ...              ...         ...   \n",
       "3201                  15360               500              550         200   \n",
       "3202                  15360               500              550         200   \n",
       "3203                  15360               500              550         200   \n",
       "3204                  15360               500              550         200   \n",
       "3205                  15360               500              550         200   \n",
       "\n",
       "      rub_per_message  rub_per_minute  total_bill  \n",
       "0                   1               1      1950.0  \n",
       "1                   1               1      1950.0  \n",
       "2                   1               1      1950.0  \n",
       "3                   1               1      1950.0  \n",
       "4                   1               1      1950.0  \n",
       "...               ...             ...         ...  \n",
       "3201                3               3      1750.0  \n",
       "3202                3               3       550.0  \n",
       "3203                3               3      1150.0  \n",
       "3204                3               3      1513.0  \n",
       "3205                3               3       598.0  \n",
       "\n",
       "[3203 rows x 18 columns]"
      ]
     },
     "execution_count": 25,
     "metadata": {},
     "output_type": "execute_result"
    }
   ],
   "source": [
    "data['total_bill']=data.apply(money,axis=1) \n",
    "data"
   ]
  },
  {
   "cell_type": "markdown",
   "metadata": {},
   "source": [
    "**Вывод:**\n",
    "\n",
    "Посчитали для каждого пользователя количество сделанных звонков и израсходованных минут, количество отправленных сообщений и объем израсходованного интернет-трафика по месяцам, а так же помесячную выручку с каждого пользователя"
   ]
  },
  {
   "cell_type": "markdown",
   "metadata": {},
   "source": [
    "## Анализ"
   ]
  },
  {
   "cell_type": "markdown",
   "metadata": {},
   "source": [
    "Чтобы посмотреть поведение клиентов посчитаем помесячную сумму исследуемых параметров для всех пользователей:"
   ]
  },
  {
   "cell_type": "code",
   "execution_count": 29,
   "metadata": {},
   "outputs": [
    {
     "data": {
      "text/html": [
       "<div>\n",
       "<style scoped>\n",
       "    .dataframe tbody tr th:only-of-type {\n",
       "        vertical-align: middle;\n",
       "    }\n",
       "\n",
       "    .dataframe tbody tr th {\n",
       "        vertical-align: top;\n",
       "    }\n",
       "\n",
       "    .dataframe thead th {\n",
       "        text-align: right;\n",
       "    }\n",
       "</style>\n",
       "<table border=\"1\" class=\"dataframe\">\n",
       "  <thead>\n",
       "    <tr style=\"text-align: right;\">\n",
       "      <th></th>\n",
       "      <th>month</th>\n",
       "      <th>calls_count</th>\n",
       "      <th>calls_duration</th>\n",
       "      <th>messages_count</th>\n",
       "      <th>total_bill</th>\n",
       "      <th>traffic_volume_gb</th>\n",
       "    </tr>\n",
       "    <tr>\n",
       "      <th>tariff</th>\n",
       "      <th></th>\n",
       "      <th></th>\n",
       "      <th></th>\n",
       "      <th></th>\n",
       "      <th></th>\n",
       "      <th></th>\n",
       "    </tr>\n",
       "  </thead>\n",
       "  <tbody>\n",
       "    <tr>\n",
       "      <th>smart</th>\n",
       "      <td>1.0</td>\n",
       "      <td>941.0</td>\n",
       "      <td>6931.0</td>\n",
       "      <td>620.0</td>\n",
       "      <td>24525.0</td>\n",
       "      <td>297.0</td>\n",
       "    </tr>\n",
       "    <tr>\n",
       "      <th>smart</th>\n",
       "      <td>2.0</td>\n",
       "      <td>2331.0</td>\n",
       "      <td>17324.0</td>\n",
       "      <td>1397.0</td>\n",
       "      <td>48001.0</td>\n",
       "      <td>687.0</td>\n",
       "    </tr>\n",
       "    <tr>\n",
       "      <th>smart</th>\n",
       "      <td>3.0</td>\n",
       "      <td>4183.0</td>\n",
       "      <td>30034.0</td>\n",
       "      <td>2453.0</td>\n",
       "      <td>89676.0</td>\n",
       "      <td>1173.0</td>\n",
       "    </tr>\n",
       "    <tr>\n",
       "      <th>smart</th>\n",
       "      <td>4.0</td>\n",
       "      <td>5747.0</td>\n",
       "      <td>41119.0</td>\n",
       "      <td>3443.0</td>\n",
       "      <td>107866.0</td>\n",
       "      <td>1526.0</td>\n",
       "    </tr>\n",
       "    <tr>\n",
       "      <th>smart</th>\n",
       "      <td>5.0</td>\n",
       "      <td>7789.0</td>\n",
       "      <td>54618.0</td>\n",
       "      <td>4762.0</td>\n",
       "      <td>168849.0</td>\n",
       "      <td>2243.0</td>\n",
       "    </tr>\n",
       "    <tr>\n",
       "      <th>smart</th>\n",
       "      <td>6.0</td>\n",
       "      <td>9110.0</td>\n",
       "      <td>64885.0</td>\n",
       "      <td>5478.0</td>\n",
       "      <td>197459.0</td>\n",
       "      <td>2616.0</td>\n",
       "    </tr>\n",
       "    <tr>\n",
       "      <th>smart</th>\n",
       "      <td>7.0</td>\n",
       "      <td>11402.0</td>\n",
       "      <td>82079.0</td>\n",
       "      <td>6784.0</td>\n",
       "      <td>246014.0</td>\n",
       "      <td>3191.0</td>\n",
       "    </tr>\n",
       "    <tr>\n",
       "      <th>smart</th>\n",
       "      <td>8.0</td>\n",
       "      <td>13856.0</td>\n",
       "      <td>98995.0</td>\n",
       "      <td>7904.0</td>\n",
       "      <td>309790.0</td>\n",
       "      <td>3933.0</td>\n",
       "    </tr>\n",
       "    <tr>\n",
       "      <th>smart</th>\n",
       "      <td>9.0</td>\n",
       "      <td>15482.0</td>\n",
       "      <td>111439.0</td>\n",
       "      <td>8746.0</td>\n",
       "      <td>324986.0</td>\n",
       "      <td>4262.0</td>\n",
       "    </tr>\n",
       "    <tr>\n",
       "      <th>smart</th>\n",
       "      <td>10.0</td>\n",
       "      <td>17629.0</td>\n",
       "      <td>125284.0</td>\n",
       "      <td>9927.0</td>\n",
       "      <td>401267.0</td>\n",
       "      <td>4963.0</td>\n",
       "    </tr>\n",
       "    <tr>\n",
       "      <th>smart</th>\n",
       "      <td>11.0</td>\n",
       "      <td>19435.0</td>\n",
       "      <td>137544.0</td>\n",
       "      <td>10768.0</td>\n",
       "      <td>424403.0</td>\n",
       "      <td>5372.0</td>\n",
       "    </tr>\n",
       "    <tr>\n",
       "      <th>smart</th>\n",
       "      <td>12.0</td>\n",
       "      <td>22406.0</td>\n",
       "      <td>161275.0</td>\n",
       "      <td>12130.0</td>\n",
       "      <td>531965.0</td>\n",
       "      <td>6134.0</td>\n",
       "    </tr>\n",
       "    <tr>\n",
       "      <th>ultra</th>\n",
       "      <td>1.0</td>\n",
       "      <td>535.0</td>\n",
       "      <td>3853.0</td>\n",
       "      <td>304.0</td>\n",
       "      <td>17550.0</td>\n",
       "      <td>119.0</td>\n",
       "    </tr>\n",
       "    <tr>\n",
       "      <th>ultra</th>\n",
       "      <td>2.0</td>\n",
       "      <td>972.0</td>\n",
       "      <td>6939.0</td>\n",
       "      <td>522.0</td>\n",
       "      <td>43500.0</td>\n",
       "      <td>288.0</td>\n",
       "    </tr>\n",
       "    <tr>\n",
       "      <th>ultra</th>\n",
       "      <td>3.0</td>\n",
       "      <td>2504.0</td>\n",
       "      <td>18117.0</td>\n",
       "      <td>1195.0</td>\n",
       "      <td>74550.0</td>\n",
       "      <td>653.0</td>\n",
       "    </tr>\n",
       "    <tr>\n",
       "      <th>ultra</th>\n",
       "      <td>4.0</td>\n",
       "      <td>3525.0</td>\n",
       "      <td>25191.0</td>\n",
       "      <td>1736.0</td>\n",
       "      <td>110100.0</td>\n",
       "      <td>933.0</td>\n",
       "    </tr>\n",
       "    <tr>\n",
       "      <th>ultra</th>\n",
       "      <td>5.0</td>\n",
       "      <td>4834.0</td>\n",
       "      <td>33972.0</td>\n",
       "      <td>2515.0</td>\n",
       "      <td>136050.0</td>\n",
       "      <td>1298.0</td>\n",
       "    </tr>\n",
       "    <tr>\n",
       "      <th>ultra</th>\n",
       "      <td>6.0</td>\n",
       "      <td>5566.0</td>\n",
       "      <td>40065.0</td>\n",
       "      <td>3467.0</td>\n",
       "      <td>169350.0</td>\n",
       "      <td>1591.0</td>\n",
       "    </tr>\n",
       "    <tr>\n",
       "      <th>ultra</th>\n",
       "      <td>7.0</td>\n",
       "      <td>6852.0</td>\n",
       "      <td>49414.0</td>\n",
       "      <td>4499.0</td>\n",
       "      <td>190800.0</td>\n",
       "      <td>1866.0</td>\n",
       "    </tr>\n",
       "    <tr>\n",
       "      <th>ultra</th>\n",
       "      <td>8.0</td>\n",
       "      <td>7575.0</td>\n",
       "      <td>54400.0</td>\n",
       "      <td>5142.0</td>\n",
       "      <td>220950.0</td>\n",
       "      <td>2097.0</td>\n",
       "    </tr>\n",
       "    <tr>\n",
       "      <th>ultra</th>\n",
       "      <td>9.0</td>\n",
       "      <td>8546.0</td>\n",
       "      <td>61813.0</td>\n",
       "      <td>5981.0</td>\n",
       "      <td>230850.0</td>\n",
       "      <td>2213.0</td>\n",
       "    </tr>\n",
       "    <tr>\n",
       "      <th>ultra</th>\n",
       "      <td>10.0</td>\n",
       "      <td>9477.0</td>\n",
       "      <td>68329.0</td>\n",
       "      <td>7152.0</td>\n",
       "      <td>252150.0</td>\n",
       "      <td>2468.0</td>\n",
       "    </tr>\n",
       "    <tr>\n",
       "      <th>ultra</th>\n",
       "      <td>11.0</td>\n",
       "      <td>10021.0</td>\n",
       "      <td>72273.0</td>\n",
       "      <td>7447.0</td>\n",
       "      <td>278400.0</td>\n",
       "      <td>2654.0</td>\n",
       "    </tr>\n",
       "    <tr>\n",
       "      <th>ultra</th>\n",
       "      <td>12.0</td>\n",
       "      <td>11540.0</td>\n",
       "      <td>82140.0</td>\n",
       "      <td>8386.0</td>\n",
       "      <td>295350.0</td>\n",
       "      <td>3022.0</td>\n",
       "    </tr>\n",
       "  </tbody>\n",
       "</table>\n",
       "</div>"
      ],
      "text/plain": [
       "        month  calls_count  calls_duration  messages_count  total_bill  \\\n",
       "tariff                                                                   \n",
       "smart     1.0        941.0          6931.0           620.0     24525.0   \n",
       "smart     2.0       2331.0         17324.0          1397.0     48001.0   \n",
       "smart     3.0       4183.0         30034.0          2453.0     89676.0   \n",
       "smart     4.0       5747.0         41119.0          3443.0    107866.0   \n",
       "smart     5.0       7789.0         54618.0          4762.0    168849.0   \n",
       "smart     6.0       9110.0         64885.0          5478.0    197459.0   \n",
       "smart     7.0      11402.0         82079.0          6784.0    246014.0   \n",
       "smart     8.0      13856.0         98995.0          7904.0    309790.0   \n",
       "smart     9.0      15482.0        111439.0          8746.0    324986.0   \n",
       "smart    10.0      17629.0        125284.0          9927.0    401267.0   \n",
       "smart    11.0      19435.0        137544.0         10768.0    424403.0   \n",
       "smart    12.0      22406.0        161275.0         12130.0    531965.0   \n",
       "ultra     1.0        535.0          3853.0           304.0     17550.0   \n",
       "ultra     2.0        972.0          6939.0           522.0     43500.0   \n",
       "ultra     3.0       2504.0         18117.0          1195.0     74550.0   \n",
       "ultra     4.0       3525.0         25191.0          1736.0    110100.0   \n",
       "ultra     5.0       4834.0         33972.0          2515.0    136050.0   \n",
       "ultra     6.0       5566.0         40065.0          3467.0    169350.0   \n",
       "ultra     7.0       6852.0         49414.0          4499.0    190800.0   \n",
       "ultra     8.0       7575.0         54400.0          5142.0    220950.0   \n",
       "ultra     9.0       8546.0         61813.0          5981.0    230850.0   \n",
       "ultra    10.0       9477.0         68329.0          7152.0    252150.0   \n",
       "ultra    11.0      10021.0         72273.0          7447.0    278400.0   \n",
       "ultra    12.0      11540.0         82140.0          8386.0    295350.0   \n",
       "\n",
       "        traffic_volume_gb  \n",
       "tariff                     \n",
       "smart               297.0  \n",
       "smart               687.0  \n",
       "smart              1173.0  \n",
       "smart              1526.0  \n",
       "smart              2243.0  \n",
       "smart              2616.0  \n",
       "smart              3191.0  \n",
       "smart              3933.0  \n",
       "smart              4262.0  \n",
       "smart              4963.0  \n",
       "smart              5372.0  \n",
       "smart              6134.0  \n",
       "ultra               119.0  \n",
       "ultra               288.0  \n",
       "ultra               653.0  \n",
       "ultra               933.0  \n",
       "ultra              1298.0  \n",
       "ultra              1591.0  \n",
       "ultra              1866.0  \n",
       "ultra              2097.0  \n",
       "ultra              2213.0  \n",
       "ultra              2468.0  \n",
       "ultra              2654.0  \n",
       "ultra              3022.0  "
      ]
     },
     "execution_count": 29,
     "metadata": {},
     "output_type": "execute_result"
    }
   ],
   "source": [
    "df_month_sum = (data\n",
    "                .pivot_table(index=['tariff', 'month'],\n",
    "                             values=['calls_count', 'calls_duration', 'messages_count', 'traffic_volume_gb', 'total_bill'],\n",
    "                             aggfunc=sum))\n",
    "\n",
    "df_month_sum = df_month_sum.reset_index(level='month')\n",
    "df_month_sum"
   ]
  },
  {
   "cell_type": "code",
   "execution_count": 30,
   "metadata": {},
   "outputs": [
    {
     "data": {
      "image/png": "[encoded data removed]",
      "text/plain": [
       "<Figure size 1080x360 with 2 Axes>"
      ]
     },
     "metadata": {
      "needs_background": "light"
     },
     "output_type": "display_data"
    },
    {
     "data": {
      "image/png": "[encoded data removed]",
      "text/plain": [
       "<Figure size 1080x360 with 2 Axes>"
      ]
     },
     "metadata": {
      "needs_background": "light"
     },
     "output_type": "display_data"
    },
    {
     "data": {
      "image/png": "[encoded data removed]",
      "text/plain": [
       "<Figure size 1080x360 with 2 Axes>"
      ]
     },
     "metadata": {
      "needs_background": "light"
     },
     "output_type": "display_data"
    },
    {
     "data": {
      "image/png": "[encoded data removed]",
      "text/plain": [
       "<Figure size 1080x360 with 2 Axes>"
      ]
     },
     "metadata": {
      "needs_background": "light"
     },
     "output_type": "display_data"
    },
    {
     "data": {
      "image/png": "[encoded data removed]",
      "text/plain": [
       "<Figure size 1080x360 with 2 Axes>"
      ]
     },
     "metadata": {
      "needs_background": "light"
     },
     "output_type": "display_data"
    }
   ],
   "source": [
    "# для большей наглядности построим столбчатые графики распределения суммарных значений параметров в течение года:\n",
    "\n",
    "for dms_col_name in ['calls_count', 'calls_duration', 'messages_count', 'traffic_volume_gb', 'total_bill']:\n",
    "    fig, axs = plt.subplots(1,2)\n",
    "    df_month_sum[df_month_sum.index=='smart'].plot(x='month', y=dms_col_name, kind='bar', title='smart', ax=axs[0], figsize=(15, 5))\n",
    "    df_month_sum[df_month_sum.index=='ultra'].plot(x='month', y=dms_col_name, kind='bar', title='ultra', ax=axs[1], figsize=(15, 5))"
   ]
  },
  {
   "cell_type": "markdown",
   "metadata": {},
   "source": [
    "На количественные показатели здесь можно не смотреть, т.к. объем выборок разный:"
   ]
  },
  {
   "cell_type": "code",
   "execution_count": 31,
   "metadata": {},
   "outputs": [
    {
     "data": {
      "text/plain": [
       "2228"
      ]
     },
     "execution_count": 31,
     "metadata": {},
     "output_type": "execute_result"
    }
   ],
   "source": [
    "data[data['tariff']=='smart']['tariff'].count()"
   ]
  },
  {
   "cell_type": "code",
   "execution_count": 32,
   "metadata": {},
   "outputs": [
    {
     "data": {
      "text/plain": [
       "975"
      ]
     },
     "execution_count": 32,
     "metadata": {},
     "output_type": "execute_result"
    }
   ],
   "source": [
    "data[data['tariff']=='ultra']['tariff'].count()"
   ]
  },
  {
   "cell_type": "markdown",
   "metadata": {},
   "source": [
    "А вот поведение клиентов в течение рассматриваемого периода времени графики показывают очень хорошо:\n",
    "как видим все параметры (количество звонков, продолжительность разговоров, количество сообщений, объем израсходованного интернет-трафика и ежемесячный счет) растут о января к декабрю, причем растут довольно таки линейно и не зависимо от того, какой тариф используют клиенты.\n",
    "Январь и декабрь еще могу объяснить - в январе много отдыхают семьями и не до звонков, а в декабре все аврально завершают дела и поздравляют близких. Постепенный и устойчивый рост между этими двумя месяцами объяснить не могу."
   ]
  },
  {
   "cell_type": "markdown",
   "metadata": {},
   "source": [
    "Посчитаем среднее, дисперсию и стандартное отклонение для всех пользователей в течение всего периода:\n",
    "\n",
    "Применим цикл, в котором с помощью сводных таблиц раассчитаем необходимые параметры."
   ]
  },
  {
   "cell_type": "code",
   "execution_count": 33,
   "metadata": {},
   "outputs": [
    {
     "data": {
      "text/html": [
       "<div>\n",
       "<style scoped>\n",
       "    .dataframe tbody tr th:only-of-type {\n",
       "        vertical-align: middle;\n",
       "    }\n",
       "\n",
       "    .dataframe tbody tr th {\n",
       "        vertical-align: top;\n",
       "    }\n",
       "\n",
       "    .dataframe thead th {\n",
       "        text-align: right;\n",
       "    }\n",
       "</style>\n",
       "<table border=\"1\" class=\"dataframe\">\n",
       "  <thead>\n",
       "    <tr style=\"text-align: right;\">\n",
       "      <th></th>\n",
       "      <th>calls_duration_mean</th>\n",
       "      <th>messages_count_mean</th>\n",
       "      <th>traffic_volume_gb_mean</th>\n",
       "      <th>total_bill_mean</th>\n",
       "    </tr>\n",
       "    <tr>\n",
       "      <th>tariff</th>\n",
       "      <th></th>\n",
       "      <th></th>\n",
       "      <th></th>\n",
       "      <th></th>\n",
       "    </tr>\n",
       "  </thead>\n",
       "  <tbody>\n",
       "    <tr>\n",
       "      <th>smart</th>\n",
       "      <td>418.100090</td>\n",
       "      <td>33.398564</td>\n",
       "      <td>1290.305655</td>\n",
       "      <td>16.336176</td>\n",
       "    </tr>\n",
       "    <tr>\n",
       "      <th>ultra</th>\n",
       "      <td>529.749744</td>\n",
       "      <td>49.585641</td>\n",
       "      <td>2071.384615</td>\n",
       "      <td>19.694359</td>\n",
       "    </tr>\n",
       "  </tbody>\n",
       "</table>\n",
       "</div>"
      ],
      "text/plain": [
       "        calls_duration_mean  messages_count_mean  traffic_volume_gb_mean  \\\n",
       "tariff                                                                     \n",
       "smart            418.100090            33.398564             1290.305655   \n",
       "ultra            529.749744            49.585641             2071.384615   \n",
       "\n",
       "        total_bill_mean  \n",
       "tariff                   \n",
       "smart         16.336176  \n",
       "ultra         19.694359  "
      ]
     },
     "metadata": {},
     "output_type": "display_data"
    },
    {
     "data": {
      "text/html": [
       "<div>\n",
       "<style scoped>\n",
       "    .dataframe tbody tr th:only-of-type {\n",
       "        vertical-align: middle;\n",
       "    }\n",
       "\n",
       "    .dataframe tbody tr th {\n",
       "        vertical-align: top;\n",
       "    }\n",
       "\n",
       "    .dataframe thead th {\n",
       "        text-align: right;\n",
       "    }\n",
       "</style>\n",
       "<table border=\"1\" class=\"dataframe\">\n",
       "  <thead>\n",
       "    <tr style=\"text-align: right;\">\n",
       "      <th></th>\n",
       "      <th>calls_duration_var</th>\n",
       "      <th>messages_count_var</th>\n",
       "      <th>traffic_volume_gb_var</th>\n",
       "      <th>total_bill_var</th>\n",
       "    </tr>\n",
       "    <tr>\n",
       "      <th>tariff</th>\n",
       "      <th></th>\n",
       "      <th></th>\n",
       "      <th></th>\n",
       "      <th></th>\n",
       "    </tr>\n",
       "  </thead>\n",
       "  <tbody>\n",
       "    <tr>\n",
       "      <th>smart</th>\n",
       "      <td>36174.763664</td>\n",
       "      <td>796.69963</td>\n",
       "      <td>669840.480848</td>\n",
       "      <td>32.923756</td>\n",
       "    </tr>\n",
       "    <tr>\n",
       "      <th>ultra</th>\n",
       "      <td>100883.818211</td>\n",
       "      <td>2301.92464</td>\n",
       "      <td>142819.949455</td>\n",
       "      <td>94.146734</td>\n",
       "    </tr>\n",
       "  </tbody>\n",
       "</table>\n",
       "</div>"
      ],
      "text/plain": [
       "        calls_duration_var  messages_count_var  traffic_volume_gb_var  \\\n",
       "tariff                                                                  \n",
       "smart         36174.763664           796.69963          669840.480848   \n",
       "ultra        100883.818211          2301.92464          142819.949455   \n",
       "\n",
       "        total_bill_var  \n",
       "tariff                  \n",
       "smart        32.923756  \n",
       "ultra        94.146734  "
      ]
     },
     "metadata": {},
     "output_type": "display_data"
    },
    {
     "data": {
      "text/html": [
       "<div>\n",
       "<style scoped>\n",
       "    .dataframe tbody tr th:only-of-type {\n",
       "        vertical-align: middle;\n",
       "    }\n",
       "\n",
       "    .dataframe tbody tr th {\n",
       "        vertical-align: top;\n",
       "    }\n",
       "\n",
       "    .dataframe thead th {\n",
       "        text-align: right;\n",
       "    }\n",
       "</style>\n",
       "<table border=\"1\" class=\"dataframe\">\n",
       "  <thead>\n",
       "    <tr style=\"text-align: right;\">\n",
       "      <th></th>\n",
       "      <th>calls_duration_std</th>\n",
       "      <th>messages_count_std</th>\n",
       "      <th>traffic_volume_gb_std</th>\n",
       "      <th>total_bill_std</th>\n",
       "    </tr>\n",
       "    <tr>\n",
       "      <th>tariff</th>\n",
       "      <th></th>\n",
       "      <th></th>\n",
       "      <th></th>\n",
       "      <th></th>\n",
       "    </tr>\n",
       "  </thead>\n",
       "  <tbody>\n",
       "    <tr>\n",
       "      <th>smart</th>\n",
       "      <td>190.196645</td>\n",
       "      <td>28.225868</td>\n",
       "      <td>818.437830</td>\n",
       "      <td>5.737923</td>\n",
       "    </tr>\n",
       "    <tr>\n",
       "      <th>ultra</th>\n",
       "      <td>317.622131</td>\n",
       "      <td>47.978377</td>\n",
       "      <td>377.915268</td>\n",
       "      <td>9.702924</td>\n",
       "    </tr>\n",
       "  </tbody>\n",
       "</table>\n",
       "</div>"
      ],
      "text/plain": [
       "        calls_duration_std  messages_count_std  traffic_volume_gb_std  \\\n",
       "tariff                                                                  \n",
       "smart           190.196645           28.225868             818.437830   \n",
       "ultra           317.622131           47.978377             377.915268   \n",
       "\n",
       "        total_bill_std  \n",
       "tariff                  \n",
       "smart         5.737923  \n",
       "ultra         9.702924  "
      ]
     },
     "metadata": {},
     "output_type": "display_data"
    }
   ],
   "source": [
    "for i in range(0, 3):\n",
    "    functions = ['mean', np.var, np.std]# функции, которые будем применять к значениям\n",
    "    tables = ['total_month_sum_mean', 'total_month_sum_var', 'total_month_sum_std']# названия сводных таблиц\n",
    "    list_of_cols = ['calls_duration', 'messages_count', 'traffic_volume_gb', 'total_bill']# значения\n",
    "    suffix = ['_mean', '_var', '_std']# суффикс, который добавим к именам колонок\n",
    "    \n",
    "    tables[i] = data.pivot_table(index=['tariff'], values=list_of_cols, aggfunc=functions[i])\n",
    "    tables[i].columns = ['calls_duration'+suffix[i], 'messages_count'+suffix[i],\\\n",
    "                         'traffic_volume_gb'+suffix[i], 'total_bill'+suffix[i]]\n",
    "    display(tables[i])"
   ]
  },
  {
   "cell_type": "markdown",
   "metadata": {},
   "source": [
    "В среднем пользователи тарифа ультра больше пользуются услугами оператора, чем пользователи тарифа смарт.\n",
    "\n",
    "Однако рассеяние вокруг среднего значения у ультра также выше, кроме параметра интернет-трафик. Тут можно выделить два момента:\n",
    "\n",
    "1)Большая дисперсия у ультра можно объяснить меньшим объемом выборки, чем у смарт.\n",
    "    \n",
    "2)Меньшая дисперсия в интрнет-трафике говорит о том, что возможно пользователи выбирают тариф ультра из-за большого включенного пакета мегабайт трафика, т.к. сейчас в основном большая часть звонков и сообщений передается посредством сети интрнет. Т.о. пользователи ультра не заботятся об экономии трафика и используют его свободно, что приводит к среднему с меньшим разбросом. В то время как пользователи смарт экономно используют свой лимит и в итоге к концу месяца у многих оставшийся трафик сгорает, а у некоторых, кто \"забылся\" и не следил за лимитом, - перерасход."
   ]
  },
  {
   "cell_type": "markdown",
   "metadata": {},
   "source": [
    "Посмотрим какое количество пользователей тратит то или иное количество предоставленных услуг. Для этого построим частотные гистограммы:"
   ]
  },
  {
   "cell_type": "code",
   "execution_count": 34,
   "metadata": {},
   "outputs": [
    {
     "data": {
      "text/html": [
       "<div>\n",
       "<style scoped>\n",
       "    .dataframe tbody tr th:only-of-type {\n",
       "        vertical-align: middle;\n",
       "    }\n",
       "\n",
       "    .dataframe tbody tr th {\n",
       "        vertical-align: top;\n",
       "    }\n",
       "\n",
       "    .dataframe thead th {\n",
       "        text-align: right;\n",
       "    }\n",
       "</style>\n",
       "<table border=\"1\" class=\"dataframe\">\n",
       "  <thead>\n",
       "    <tr style=\"text-align: right;\">\n",
       "      <th></th>\n",
       "      <th>tariff</th>\n",
       "      <th>user_id</th>\n",
       "      <th>calls_count</th>\n",
       "      <th>calls_duration</th>\n",
       "      <th>messages_count</th>\n",
       "      <th>traffic_volume_gb</th>\n",
       "      <th>total_bill</th>\n",
       "    </tr>\n",
       "  </thead>\n",
       "  <tbody>\n",
       "    <tr>\n",
       "      <th>0</th>\n",
       "      <td>smart</td>\n",
       "      <td>1001</td>\n",
       "      <td>122.0</td>\n",
       "      <td>844.0</td>\n",
       "      <td>0.0</td>\n",
       "      <td>32.0</td>\n",
       "      <td>1700.0</td>\n",
       "    </tr>\n",
       "    <tr>\n",
       "      <th>1</th>\n",
       "      <td>smart</td>\n",
       "      <td>1002</td>\n",
       "      <td>217.0</td>\n",
       "      <td>1517.0</td>\n",
       "      <td>70.0</td>\n",
       "      <td>117.0</td>\n",
       "      <td>7250.0</td>\n",
       "    </tr>\n",
       "    <tr>\n",
       "      <th>2</th>\n",
       "      <td>smart</td>\n",
       "      <td>1005</td>\n",
       "      <td>888.0</td>\n",
       "      <td>6605.0</td>\n",
       "      <td>552.0</td>\n",
       "      <td>103.0</td>\n",
       "      <td>9924.0</td>\n",
       "    </tr>\n",
       "    <tr>\n",
       "      <th>3</th>\n",
       "      <td>smart</td>\n",
       "      <td>1006</td>\n",
       "      <td>506.0</td>\n",
       "      <td>3501.0</td>\n",
       "      <td>0.0</td>\n",
       "      <td>166.0</td>\n",
       "      <td>10250.0</td>\n",
       "    </tr>\n",
       "    <tr>\n",
       "      <th>4</th>\n",
       "      <td>smart</td>\n",
       "      <td>1007</td>\n",
       "      <td>612.0</td>\n",
       "      <td>4379.0</td>\n",
       "      <td>225.0</td>\n",
       "      <td>134.0</td>\n",
       "      <td>8221.0</td>\n",
       "    </tr>\n",
       "    <tr>\n",
       "      <th>...</th>\n",
       "      <td>...</td>\n",
       "      <td>...</td>\n",
       "      <td>...</td>\n",
       "      <td>...</td>\n",
       "      <td>...</td>\n",
       "      <td>...</td>\n",
       "      <td>...</td>\n",
       "    </tr>\n",
       "    <tr>\n",
       "      <th>492</th>\n",
       "      <td>ultra</td>\n",
       "      <td>1476</td>\n",
       "      <td>549.0</td>\n",
       "      <td>4204.0</td>\n",
       "      <td>45.0</td>\n",
       "      <td>152.0</td>\n",
       "      <td>17550.0</td>\n",
       "    </tr>\n",
       "    <tr>\n",
       "      <th>493</th>\n",
       "      <td>ultra</td>\n",
       "      <td>1485</td>\n",
       "      <td>94.0</td>\n",
       "      <td>584.0</td>\n",
       "      <td>155.0</td>\n",
       "      <td>23.0</td>\n",
       "      <td>1950.0</td>\n",
       "    </tr>\n",
       "    <tr>\n",
       "      <th>494</th>\n",
       "      <td>ultra</td>\n",
       "      <td>1491</td>\n",
       "      <td>648.0</td>\n",
       "      <td>4620.0</td>\n",
       "      <td>432.0</td>\n",
       "      <td>162.0</td>\n",
       "      <td>17550.0</td>\n",
       "    </tr>\n",
       "    <tr>\n",
       "      <th>495</th>\n",
       "      <td>ultra</td>\n",
       "      <td>1493</td>\n",
       "      <td>110.0</td>\n",
       "      <td>744.0</td>\n",
       "      <td>94.0</td>\n",
       "      <td>54.0</td>\n",
       "      <td>5700.0</td>\n",
       "    </tr>\n",
       "    <tr>\n",
       "      <th>496</th>\n",
       "      <td>ultra</td>\n",
       "      <td>1495</td>\n",
       "      <td>565.0</td>\n",
       "      <td>3920.0</td>\n",
       "      <td>340.0</td>\n",
       "      <td>127.0</td>\n",
       "      <td>11550.0</td>\n",
       "    </tr>\n",
       "  </tbody>\n",
       "</table>\n",
       "<p>497 rows × 7 columns</p>\n",
       "</div>"
      ],
      "text/plain": [
       "    tariff  user_id  calls_count  calls_duration  messages_count  \\\n",
       "0    smart     1001        122.0           844.0             0.0   \n",
       "1    smart     1002        217.0          1517.0            70.0   \n",
       "2    smart     1005        888.0          6605.0           552.0   \n",
       "3    smart     1006        506.0          3501.0             0.0   \n",
       "4    smart     1007        612.0          4379.0           225.0   \n",
       "..     ...      ...          ...             ...             ...   \n",
       "492  ultra     1476        549.0          4204.0            45.0   \n",
       "493  ultra     1485         94.0           584.0           155.0   \n",
       "494  ultra     1491        648.0          4620.0           432.0   \n",
       "495  ultra     1493        110.0           744.0            94.0   \n",
       "496  ultra     1495        565.0          3920.0           340.0   \n",
       "\n",
       "     traffic_volume_gb  total_bill  \n",
       "0                 32.0      1700.0  \n",
       "1                117.0      7250.0  \n",
       "2                103.0      9924.0  \n",
       "3                166.0     10250.0  \n",
       "4                134.0      8221.0  \n",
       "..                 ...         ...  \n",
       "492              152.0     17550.0  \n",
       "493               23.0      1950.0  \n",
       "494              162.0     17550.0  \n",
       "495               54.0      5700.0  \n",
       "496              127.0     11550.0  \n",
       "\n",
       "[497 rows x 7 columns]"
      ]
     },
     "execution_count": 34,
     "metadata": {},
     "output_type": "execute_result"
    }
   ],
   "source": [
    "# сгруппируем данных сводной таблицей по тарифу и пользователям:\n",
    "cmit_sum_for_hist = (data\n",
    "                     .pivot_table(index=['tariff', 'user_id'],\\\n",
    "                                  values=['calls_count', 'calls_duration', 'messages_count', 'traffic_volume_gb', 'total_bill'],\\\n",
    "                                  aggfunc=sum))\n",
    "\n",
    "# расставим столбцы в удобном порядке:\n",
    "cols = cmit_sum_for_hist.columns.tolist()\n",
    "cols = cols[:3] + cols[-1:] + cols[-2:4]\n",
    "cmit_sum_for_hist = cmit_sum_for_hist[cols]\n",
    "\n",
    "cmit_sum_for_hist.reset_index(inplace=True)\n",
    "\n",
    "cmit_sum_for_hist"
   ]
  },
  {
   "cell_type": "code",
   "execution_count": 35,
   "metadata": {},
   "outputs": [
    {
     "data": {
      "image/png": "[encoded data removed]",
      "text/plain": [
       "<Figure size 1080x360 with 2 Axes>"
      ]
     },
     "metadata": {
      "needs_background": "light"
     },
     "output_type": "display_data"
    },
    {
     "data": {
      "image/png": "[encoded data removed]",
      "text/plain": [
       "<Figure size 1080x360 with 2 Axes>"
      ]
     },
     "metadata": {
      "needs_background": "light"
     },
     "output_type": "display_data"
    },
    {
     "data": {
      "image/png": "[encoded data removed]",
      "text/plain": [
       "<Figure size 1080x360 with 2 Axes>"
      ]
     },
     "metadata": {
      "needs_background": "light"
     },
     "output_type": "display_data"
    },
    {
     "data": {
      "image/png": "[encoded data removed]",
      "text/plain": [
       "<Figure size 1080x360 with 2 Axes>"
      ]
     },
     "metadata": {
      "needs_background": "light"
     },
     "output_type": "display_data"
    },
    {
     "data": {
      "image/png": "[encoded data removed]",
      "text/plain": [
       "<Figure size 1080x360 with 2 Axes>"
      ]
     },
     "metadata": {
      "needs_background": "light"
     },
     "output_type": "display_data"
    }
   ],
   "source": [
    "# гистограммы построим при помощи цикла рядом друг с другом, чтобы было проще сравнивать тарифы\n",
    "\n",
    "for csfh_name_column in cmit_sum_for_hist.columns[2:]:\n",
    "    fig, axs = plt.subplots(1,2)\n",
    "    cmit_sum_for_hist[cmit_sum_for_hist['tariff']=='smart'][csfh_name_column].plot(bins=90, kind='hist', figsize=(15, 5), title=csfh_name_column+'_smart', ax=axs[0])\n",
    "    cmit_sum_for_hist[cmit_sum_for_hist['tariff']=='ultra'][csfh_name_column].plot(bins=90, kind='hist', figsize=(15, 5), title=csfh_name_column+'_ultra', ax=axs[1])"
   ]
  },
  {
   "cell_type": "markdown",
   "metadata": {},
   "source": [
    "В силу большей дисперсии ультра имеет более длинные хвосты чем смарт.\n",
    "\n",
    "Количество звонков: Пик у смарт приходится на 200, у ультра - около 130.\n",
    "Продолжительность звонков: У смарт наблюдается два основных пика около 400 и 1500 минут, у ультра один - около 1000. В основном люди тарифа смарт говорят не больше 6000 минут в год, в то время как клиенты ультра почти 8000 минут. Также видим, что у ультра есть небольшой пик на околонулевых значениях (0 - 250).\n",
    "Количество сообщений: В обоих тарифах высока доля людей крайне мало использующих смс. При этом следует помнить, что ранее мы заменили 500 пропусков в датафрейме нулями и сейчас наблюдаем результаты этого действия. Но в любом случае все сейчас пользуются месенджерами.\n",
    "Интернет-трафик: У обоих тарифов наблюдается четкая граница в районе 200-220 гб, после которой совсем мало значений. Пик у ультра в районе 80 гб, у смарт два пика - один в районе 70, другой около 140 гб.\n",
    "Итоговый счет: Т.к. пользователи подключались в разное время года и не все оставались на одном тарифе до конца мы видим, что большая часть трат на связь находится до уровня минимальной годовой абонентской платы, которая для смарт составляет 6600, а для ультра 23400. У смарт второй пик находится в районе 7500, после чего идет плавное уменьшение числа людей перерасходовавших траифный план, т.е. большая часть людей хоть немного, но перерасходует тарифные лимиты. У ультра большинство пользователей тратит до 20000, после чего есть еще одна граница в районе 23000-24000, после чего небольшой хвост, т.е. пользователя тарифа ультра в основном укладываются в лимиты тарифного плана и не перерасходуют его."
   ]
  },
  {
   "cell_type": "markdown",
   "metadata": {},
   "source": [
    "## Проверка гипотез"
   ]
  },
  {
   "cell_type": "markdown",
   "metadata": {},
   "source": [
    "**Первая гипотеза**\n",
    "\n",
    "Первая гипотеза которую нужно проверить - средняя выручка пользователей тарифов «Ультра» и «Смарт» различается.\n",
    "\n",
    "Сформулируем нулевую и альтернативную гипотезы:\n",
    "\n",
    "    H0 - средняя выручка пользователей тарифов «Ультра» и «Смарт» равны.\n",
    "    H1 - средние выручки пользователей тарифов «Ультра» и «Смарт» различаются.\n",
    "    \n",
    "Чтобы проверить гипотезу о равенстве среднего применим метод scipy.stats.ttest_ind (array1, array2, equal_var), где equal_var - параметр, задающий считать ли равными дисперсии выборок. Передаётся как \"equal_var = True\" или \"equal_var = False\" (True — считать, False — не считать). Т.к. мы знаем, что дисперсии выборок по смарт и ультра различаются (3.436001e+07 и 9.886460e+07 соответственно), то equal_var зададим как False."
   ]
  },
  {
   "cell_type": "code",
   "execution_count": 37,
   "metadata": {},
   "outputs": [
    {
     "name": "stdout",
     "output_type": "stream",
     "text": [
      "p-значение: 5.224039400289816e-249\n",
      "Отвергаем нулевую гипотезу\n"
     ]
    }
   ],
   "source": [
    "smart_ttest = data[data['tariff']=='smart']['total_bill']\n",
    "ultra_ttest = data[data['tariff']=='ultra']['total_bill']\n",
    "\n",
    "# уровень значимости зададим равным 5%\n",
    "alpha = 0.5\n",
    "\n",
    "results = st.ttest_ind(smart_ttest, ultra_ttest, equal_var=False)\n",
    "\n",
    "print('p-значение:', results.pvalue)\n",
    "\n",
    "if (results.pvalue < alpha):\n",
    "    print(\"Отвергаем нулевую гипотезу\")\n",
    "else:\n",
    "    print(\"Не получилось отвергнуть нулевую гипотезу\")"
   ]
  },
  {
   "cell_type": "markdown",
   "metadata": {},
   "source": [
    "p-уровень значимости слишком мал, гораздо меньше определенного нами порогового значения в 5% => средняя выручка пользователей тарифов смарт и ульра значимо отличаются друг от друга."
   ]
  },
  {
   "cell_type": "markdown",
   "metadata": {},
   "source": [
    "**Вторая гипотеза**\n",
    "\n",
    "Вторая гипотеза для проверки звучит так - средняя выручка пользователей из Москвы отличается от выручки пользователей из других регионов.\n",
    "\n",
    "    Н0 - средняя выручка пользователей из Москвы равна средней выручке пользователей из других регионов.\n",
    "    Н1 - средняя выручка пользователей из Москвы отличается от выручки пользователей из других регионов.\n",
    "    \n",
    "Альтернативная гипотеза у нас двусторонняя, т.к. средняя выручка из Москвы может отличаться от других регионов как в большую так и в меньшую сторону.\n",
    "\n",
    "Для проверки гипотезы воспользуемся методом scipy.stats.ttest_1samp (array, popmean), где в качестве массива данных будет выборка выручки по москвичам, а в качестве popmean (предполагаемого среднего, на равенство которому мы делаем тест) будет выступать среднее значение выручки пользователей из других регионов."
   ]
  },
  {
   "cell_type": "code",
   "execution_count": 38,
   "metadata": {},
   "outputs": [
    {
     "name": "stdout",
     "output_type": "stream",
     "text": [
      "p-значение:  0.521500152176397\n",
      "Не получилось отвергнуть нулевую гипотезу\n"
     ]
    }
   ],
   "source": [
    "moscow_ttest = data[data['city']=='Москва']['total_bill']\n",
    "popmean = data[data['city']!='Москва']['total_bill']\n",
    "\n",
    "# уровень значимости 5%\n",
    "alpha = 0.05\n",
    "\n",
    "results = st.ttest_ind(moscow_ttest, popmean)\n",
    "\n",
    "print('p-значение: ', results.pvalue)\n",
    "\n",
    "if results.pvalue < alpha:\n",
    "    print(\"Отвергаем нулевую гипотезу\")\n",
    "else:\n",
    "    print(\"Не получилось отвергнуть нулевую гипотезу\")"
   ]
  },
  {
   "cell_type": "markdown",
   "metadata": {},
   "source": [
    "р-уровень значимости составил почти 39%, что значительно выше 5% => средняя выручка по Москве статистически значимо не отличается от средней выручки по другим регионам."
   ]
  },
  {
   "cell_type": "markdown",
   "metadata": {},
   "source": [
    "## Общий вывод:"
   ]
  },
  {
   "cell_type": "markdown",
   "metadata": {},
   "source": [
    "Мы вывели из предоставленных нам таблиц все необходимые средние значения израсходованных минут, мегабайт и сообщений, а также прибыль по ним по каждому месяцу и посчитали по каждому из клиентов среднюю прибыль для компании. Далее мы разделили всех клиентов по тарифным группам и проверили правильность нашей гипотезы.\n",
    "\n",
    "Оказалось, действительно, средняя прибыльность в двух тарифах отличается (пользователи тарифа ультра платят больше), в то время как средняя выручка по Москве статистически значимо не отличается от средней выручки по другим регионам.\n",
    "\n",
    "Из-за проверки второй гипотизы выяснили, что рекламную компанию можно устроить по всей территории распространения сети.\n",
    "А поведение клиентов в течение года отображенное на графиках дает представление, когда лучше проводить рекламную компанию. Соответственно, тариф ultra приносит больше выгоды, и стоило бы сконцетрироваться на нем."
   ]
  }
 ],
 "metadata": {
  "ExecuteTimeLog": [
   {
    "duration": 1850,
    "start_time": "2023-03-27T14:35:38.826Z"
   },
   {
    "duration": 12,
    "start_time": "2023-03-27T14:35:40.678Z"
   },
   {
    "duration": 747,
    "start_time": "2023-03-27T14:35:40.692Z"
   },
   {
    "duration": 179,
    "start_time": "2023-03-27T14:35:41.442Z"
   },
   {
    "duration": 7,
    "start_time": "2023-03-27T14:35:41.623Z"
   },
   {
    "duration": 61,
    "start_time": "2023-03-27T14:35:41.631Z"
   },
   {
    "duration": 67,
    "start_time": "2023-03-27T14:35:41.694Z"
   },
   {
    "duration": 6,
    "start_time": "2023-03-27T14:35:41.763Z"
   },
   {
    "duration": 38,
    "start_time": "2023-03-27T14:35:41.771Z"
   },
   {
    "duration": 29,
    "start_time": "2023-03-27T14:35:41.812Z"
   },
   {
    "duration": 6,
    "start_time": "2023-03-27T14:35:41.843Z"
   },
   {
    "duration": 17,
    "start_time": "2023-03-27T14:35:41.851Z"
   },
   {
    "duration": 18,
    "start_time": "2023-03-27T14:35:41.870Z"
   },
   {
    "duration": 5,
    "start_time": "2023-03-27T14:35:41.890Z"
   },
   {
    "duration": 10,
    "start_time": "2023-03-27T14:35:41.897Z"
   },
   {
    "duration": 57,
    "start_time": "2023-03-27T14:35:41.910Z"
   },
   {
    "duration": 5,
    "start_time": "2023-03-27T14:35:41.969Z"
   },
   {
    "duration": 11,
    "start_time": "2023-03-27T14:35:41.976Z"
   },
   {
    "duration": 189,
    "start_time": "2023-03-27T14:35:41.989Z"
   },
   {
    "duration": 18,
    "start_time": "2023-03-27T14:35:42.180Z"
   },
   {
    "duration": 41,
    "start_time": "2023-03-27T14:35:42.200Z"
   },
   {
    "duration": 13,
    "start_time": "2023-03-27T14:35:42.242Z"
   },
   {
    "duration": 15,
    "start_time": "2023-03-27T14:35:42.257Z"
   },
   {
    "duration": 21,
    "start_time": "2023-03-27T14:35:42.273Z"
   },
   {
    "duration": 12,
    "start_time": "2023-03-27T14:35:42.296Z"
   },
   {
    "duration": 33,
    "start_time": "2023-03-27T14:35:42.309Z"
   },
   {
    "duration": 27,
    "start_time": "2023-03-27T14:35:42.344Z"
   },
   {
    "duration": 17,
    "start_time": "2023-03-27T14:35:42.375Z"
   },
   {
    "duration": 28,
    "start_time": "2023-03-27T14:35:42.393Z"
   },
   {
    "duration": 28,
    "start_time": "2023-03-27T14:35:42.422Z"
   },
   {
    "duration": 8,
    "start_time": "2023-03-27T14:35:42.452Z"
   },
   {
    "duration": 4,
    "start_time": "2023-03-27T14:35:42.461Z"
   },
   {
    "duration": 12,
    "start_time": "2023-03-27T14:35:42.467Z"
   },
   {
    "duration": 10,
    "start_time": "2023-03-27T14:35:42.481Z"
   },
   {
    "duration": 3,
    "start_time": "2023-03-27T14:35:42.493Z"
   },
   {
    "duration": 4,
    "start_time": "2023-03-27T14:35:42.498Z"
   },
   {
    "duration": 39,
    "start_time": "2023-03-27T14:35:42.503Z"
   },
   {
    "duration": 6,
    "start_time": "2023-03-27T14:35:42.543Z"
   },
   {
    "duration": 1242,
    "start_time": "2023-03-27T14:35:42.550Z"
   },
   {
    "duration": 0,
    "start_time": "2023-03-27T14:35:43.794Z"
   },
   {
    "duration": 0,
    "start_time": "2023-03-27T14:35:43.795Z"
   },
   {
    "duration": 0,
    "start_time": "2023-03-27T14:35:43.796Z"
   },
   {
    "duration": 0,
    "start_time": "2023-03-27T14:35:43.797Z"
   },
   {
    "duration": 0,
    "start_time": "2023-03-27T14:35:43.798Z"
   },
   {
    "duration": 0,
    "start_time": "2023-03-27T14:35:43.799Z"
   },
   {
    "duration": 0,
    "start_time": "2023-03-27T14:35:43.800Z"
   },
   {
    "duration": 0,
    "start_time": "2023-03-27T14:35:43.801Z"
   },
   {
    "duration": 0,
    "start_time": "2023-03-27T14:35:43.802Z"
   },
   {
    "duration": 0,
    "start_time": "2023-03-27T14:35:43.803Z"
   },
   {
    "duration": 0,
    "start_time": "2023-03-27T14:35:43.804Z"
   },
   {
    "duration": 0,
    "start_time": "2023-03-27T14:35:43.805Z"
   },
   {
    "duration": 6,
    "start_time": "2023-03-27T14:36:38.025Z"
   },
   {
    "duration": 1100,
    "start_time": "2023-03-27T14:36:41.696Z"
   },
   {
    "duration": 10,
    "start_time": "2023-03-27T14:37:22.318Z"
   },
   {
    "duration": 1160,
    "start_time": "2023-03-27T14:37:33.644Z"
   },
   {
    "duration": 8,
    "start_time": "2023-03-27T14:42:42.990Z"
   },
   {
    "duration": 5,
    "start_time": "2023-03-27T14:43:49.983Z"
   },
   {
    "duration": 29,
    "start_time": "2023-03-27T14:43:52.919Z"
   },
   {
    "duration": 10,
    "start_time": "2023-03-27T14:43:57.705Z"
   },
   {
    "duration": 183,
    "start_time": "2023-03-27T14:44:01.329Z"
   },
   {
    "duration": 1352,
    "start_time": "2023-03-27T14:44:29.948Z"
   },
   {
    "duration": 12,
    "start_time": "2023-03-27T14:44:31.301Z"
   },
   {
    "duration": 206,
    "start_time": "2023-03-27T14:44:31.315Z"
   },
   {
    "duration": 124,
    "start_time": "2023-03-27T14:44:31.523Z"
   },
   {
    "duration": 7,
    "start_time": "2023-03-27T14:44:31.650Z"
   },
   {
    "duration": 35,
    "start_time": "2023-03-27T14:44:31.658Z"
   },
   {
    "duration": 31,
    "start_time": "2023-03-27T14:44:31.695Z"
   },
   {
    "duration": 6,
    "start_time": "2023-03-27T14:44:31.728Z"
   },
   {
    "duration": 35,
    "start_time": "2023-03-27T14:44:31.736Z"
   },
   {
    "duration": 20,
    "start_time": "2023-03-27T14:44:31.773Z"
   },
   {
    "duration": 6,
    "start_time": "2023-03-27T14:44:31.795Z"
   },
   {
    "duration": 12,
    "start_time": "2023-03-27T14:44:31.802Z"
   },
   {
    "duration": 38,
    "start_time": "2023-03-27T14:44:31.816Z"
   },
   {
    "duration": 5,
    "start_time": "2023-03-27T14:44:31.857Z"
   },
   {
    "duration": 35,
    "start_time": "2023-03-27T14:44:31.863Z"
   },
   {
    "duration": 31,
    "start_time": "2023-03-27T14:44:31.900Z"
   },
   {
    "duration": 28,
    "start_time": "2023-03-27T14:44:31.933Z"
   },
   {
    "duration": 41,
    "start_time": "2023-03-27T14:44:31.963Z"
   },
   {
    "duration": 215,
    "start_time": "2023-03-27T14:44:32.006Z"
   },
   {
    "duration": 19,
    "start_time": "2023-03-27T14:44:32.223Z"
   },
   {
    "duration": 54,
    "start_time": "2023-03-27T14:44:32.243Z"
   },
   {
    "duration": 14,
    "start_time": "2023-03-27T14:44:32.299Z"
   },
   {
    "duration": 63,
    "start_time": "2023-03-27T14:44:32.315Z"
   },
   {
    "duration": 66,
    "start_time": "2023-03-27T14:44:32.379Z"
   },
   {
    "duration": 23,
    "start_time": "2023-03-27T14:44:32.447Z"
   },
   {
    "duration": 60,
    "start_time": "2023-03-27T14:44:32.471Z"
   },
   {
    "duration": 49,
    "start_time": "2023-03-27T14:44:32.534Z"
   },
   {
    "duration": 19,
    "start_time": "2023-03-27T14:44:32.586Z"
   },
   {
    "duration": 31,
    "start_time": "2023-03-27T14:44:32.607Z"
   },
   {
    "duration": 12,
    "start_time": "2023-03-27T14:44:32.640Z"
   },
   {
    "duration": 51,
    "start_time": "2023-03-27T14:44:32.653Z"
   },
   {
    "duration": 20,
    "start_time": "2023-03-27T14:44:32.706Z"
   },
   {
    "duration": 13,
    "start_time": "2023-03-27T14:44:32.727Z"
   },
   {
    "duration": 24,
    "start_time": "2023-03-27T14:44:32.742Z"
   },
   {
    "duration": 5,
    "start_time": "2023-03-27T14:44:32.769Z"
   },
   {
    "duration": 18,
    "start_time": "2023-03-27T14:44:32.776Z"
   },
   {
    "duration": 19,
    "start_time": "2023-03-27T14:44:32.796Z"
   },
   {
    "duration": 32,
    "start_time": "2023-03-27T14:44:32.817Z"
   },
   {
    "duration": 6,
    "start_time": "2023-03-27T14:44:32.851Z"
   },
   {
    "duration": 39,
    "start_time": "2023-03-27T14:44:32.859Z"
   },
   {
    "duration": 13,
    "start_time": "2023-03-27T14:44:32.902Z"
   },
   {
    "duration": 195,
    "start_time": "2023-03-27T14:44:32.917Z"
   },
   {
    "duration": 7,
    "start_time": "2023-03-27T14:44:33.114Z"
   },
   {
    "duration": 69,
    "start_time": "2023-03-27T14:44:33.123Z"
   },
   {
    "duration": 48,
    "start_time": "2023-03-27T14:44:33.194Z"
   },
   {
    "duration": 30,
    "start_time": "2023-03-27T14:44:33.244Z"
   },
   {
    "duration": 43,
    "start_time": "2023-03-27T14:44:33.276Z"
   },
   {
    "duration": 43,
    "start_time": "2023-03-27T14:44:33.321Z"
   },
   {
    "duration": 40,
    "start_time": "2023-03-27T14:44:33.366Z"
   },
   {
    "duration": 256,
    "start_time": "2023-03-27T14:44:33.408Z"
   },
   {
    "duration": 244,
    "start_time": "2023-03-27T14:44:33.666Z"
   },
   {
    "duration": 255,
    "start_time": "2023-03-27T14:44:33.911Z"
   },
   {
    "duration": 1369,
    "start_time": "2023-03-27T14:45:24.325Z"
   },
   {
    "duration": 12,
    "start_time": "2023-03-27T14:45:25.696Z"
   },
   {
    "duration": 164,
    "start_time": "2023-03-27T14:45:25.709Z"
   },
   {
    "duration": 110,
    "start_time": "2023-03-27T14:45:25.875Z"
   },
   {
    "duration": 7,
    "start_time": "2023-03-27T14:45:25.988Z"
   },
   {
    "duration": 29,
    "start_time": "2023-03-27T14:45:25.996Z"
   },
   {
    "duration": 31,
    "start_time": "2023-03-27T14:45:26.027Z"
   },
   {
    "duration": 6,
    "start_time": "2023-03-27T14:45:26.060Z"
   },
   {
    "duration": 38,
    "start_time": "2023-03-27T14:45:26.067Z"
   },
   {
    "duration": 21,
    "start_time": "2023-03-27T14:45:26.106Z"
   },
   {
    "duration": 17,
    "start_time": "2023-03-27T14:45:26.129Z"
   },
   {
    "duration": 14,
    "start_time": "2023-03-27T14:45:26.147Z"
   },
   {
    "duration": 17,
    "start_time": "2023-03-27T14:45:26.163Z"
   },
   {
    "duration": 5,
    "start_time": "2023-03-27T14:45:26.183Z"
   },
   {
    "duration": 12,
    "start_time": "2023-03-27T14:45:26.189Z"
   },
   {
    "duration": 55,
    "start_time": "2023-03-27T14:45:26.203Z"
   },
   {
    "duration": 5,
    "start_time": "2023-03-27T14:45:26.259Z"
   },
   {
    "duration": 10,
    "start_time": "2023-03-27T14:45:26.265Z"
   },
   {
    "duration": 182,
    "start_time": "2023-03-27T14:45:26.277Z"
   },
   {
    "duration": 19,
    "start_time": "2023-03-27T14:45:26.461Z"
   },
   {
    "duration": 29,
    "start_time": "2023-03-27T14:45:26.481Z"
   },
   {
    "duration": 30,
    "start_time": "2023-03-27T14:45:26.512Z"
   },
   {
    "duration": 15,
    "start_time": "2023-03-27T14:45:26.543Z"
   },
   {
    "duration": 22,
    "start_time": "2023-03-27T14:45:26.559Z"
   },
   {
    "duration": 11,
    "start_time": "2023-03-27T14:45:26.583Z"
   },
   {
    "duration": 12,
    "start_time": "2023-03-27T14:45:26.596Z"
   },
   {
    "duration": 42,
    "start_time": "2023-03-27T14:45:26.610Z"
   },
   {
    "duration": 17,
    "start_time": "2023-03-27T14:45:26.653Z"
   },
   {
    "duration": 28,
    "start_time": "2023-03-27T14:45:26.672Z"
   },
   {
    "duration": 12,
    "start_time": "2023-03-27T14:45:26.701Z"
   },
   {
    "duration": 38,
    "start_time": "2023-03-27T14:45:26.714Z"
   },
   {
    "duration": 5,
    "start_time": "2023-03-27T14:45:26.753Z"
   },
   {
    "duration": 11,
    "start_time": "2023-03-27T14:45:26.759Z"
   },
   {
    "duration": 11,
    "start_time": "2023-03-27T14:45:26.771Z"
   },
   {
    "duration": 4,
    "start_time": "2023-03-27T14:45:26.783Z"
   },
   {
    "duration": 13,
    "start_time": "2023-03-27T14:45:26.788Z"
   },
   {
    "duration": 25,
    "start_time": "2023-03-27T14:45:26.803Z"
   },
   {
    "duration": 19,
    "start_time": "2023-03-27T14:45:26.830Z"
   },
   {
    "duration": 5,
    "start_time": "2023-03-27T14:45:26.851Z"
   },
   {
    "duration": 30,
    "start_time": "2023-03-27T14:45:26.858Z"
   },
   {
    "duration": 12,
    "start_time": "2023-03-27T14:45:26.892Z"
   },
   {
    "duration": 196,
    "start_time": "2023-03-27T14:45:26.905Z"
   },
   {
    "duration": 6,
    "start_time": "2023-03-27T14:45:27.103Z"
   },
   {
    "duration": 14,
    "start_time": "2023-03-27T14:45:27.111Z"
   },
   {
    "duration": 9,
    "start_time": "2023-03-27T14:45:27.142Z"
   },
   {
    "duration": 11,
    "start_time": "2023-03-27T14:45:27.152Z"
   },
   {
    "duration": 22,
    "start_time": "2023-03-27T14:45:27.165Z"
   },
   {
    "duration": 11,
    "start_time": "2023-03-27T14:45:27.189Z"
   },
   {
    "duration": 20,
    "start_time": "2023-03-27T14:45:27.202Z"
   },
   {
    "duration": 241,
    "start_time": "2023-03-27T14:45:27.223Z"
   },
   {
    "duration": 231,
    "start_time": "2023-03-27T14:45:27.466Z"
   },
   {
    "duration": 238,
    "start_time": "2023-03-27T14:45:27.698Z"
   },
   {
    "duration": 11,
    "start_time": "2023-03-27T14:45:27.940Z"
   },
   {
    "duration": 14,
    "start_time": "2023-03-27T14:45:27.952Z"
   },
   {
    "duration": 74,
    "start_time": "2023-03-27T14:45:27.968Z"
   },
   {
    "duration": 206,
    "start_time": "2023-03-27T14:46:15.618Z"
   },
   {
    "duration": 233,
    "start_time": "2023-03-27T14:46:27.043Z"
   },
   {
    "duration": 1326,
    "start_time": "2023-03-27T14:47:28.386Z"
   },
   {
    "duration": 11,
    "start_time": "2023-03-27T14:47:29.714Z"
   },
   {
    "duration": 156,
    "start_time": "2023-03-27T14:47:29.727Z"
   },
   {
    "duration": 103,
    "start_time": "2023-03-27T14:47:29.885Z"
   },
   {
    "duration": 7,
    "start_time": "2023-03-27T14:47:29.990Z"
   },
   {
    "duration": 35,
    "start_time": "2023-03-27T14:47:29.999Z"
   },
   {
    "duration": 31,
    "start_time": "2023-03-27T14:47:30.036Z"
   },
   {
    "duration": 7,
    "start_time": "2023-03-27T14:47:30.069Z"
   },
   {
    "duration": 58,
    "start_time": "2023-03-27T14:47:30.077Z"
   },
   {
    "duration": 71,
    "start_time": "2023-03-27T14:47:30.137Z"
   },
   {
    "duration": 63,
    "start_time": "2023-03-27T14:47:30.210Z"
   },
   {
    "duration": 69,
    "start_time": "2023-03-27T14:47:30.275Z"
   },
   {
    "duration": 58,
    "start_time": "2023-03-27T14:47:30.346Z"
   },
   {
    "duration": 51,
    "start_time": "2023-03-27T14:47:30.408Z"
   },
   {
    "duration": 54,
    "start_time": "2023-03-27T14:47:30.461Z"
   },
   {
    "duration": 66,
    "start_time": "2023-03-27T14:47:30.517Z"
   },
   {
    "duration": 18,
    "start_time": "2023-03-27T14:47:30.585Z"
   },
   {
    "duration": 69,
    "start_time": "2023-03-27T14:47:30.604Z"
   },
   {
    "duration": 197,
    "start_time": "2023-03-27T14:47:30.675Z"
   },
   {
    "duration": 18,
    "start_time": "2023-03-27T14:47:30.874Z"
   },
   {
    "duration": 86,
    "start_time": "2023-03-27T14:47:30.894Z"
   },
   {
    "duration": 98,
    "start_time": "2023-03-27T14:47:30.982Z"
   },
   {
    "duration": 59,
    "start_time": "2023-03-27T14:47:31.082Z"
   },
   {
    "duration": 45,
    "start_time": "2023-03-27T14:47:31.143Z"
   },
   {
    "duration": 15,
    "start_time": "2023-03-27T14:47:31.189Z"
   },
   {
    "duration": 46,
    "start_time": "2023-03-27T14:47:31.206Z"
   },
   {
    "duration": 79,
    "start_time": "2023-03-27T14:47:31.254Z"
   },
   {
    "duration": 47,
    "start_time": "2023-03-27T14:47:31.334Z"
   },
   {
    "duration": 43,
    "start_time": "2023-03-27T14:47:31.383Z"
   },
   {
    "duration": 13,
    "start_time": "2023-03-27T14:47:31.428Z"
   },
   {
    "duration": 15,
    "start_time": "2023-03-27T14:47:31.443Z"
   },
   {
    "duration": 23,
    "start_time": "2023-03-27T14:47:31.460Z"
   },
   {
    "duration": 60,
    "start_time": "2023-03-27T14:47:31.485Z"
   },
   {
    "duration": 51,
    "start_time": "2023-03-27T14:47:31.547Z"
   },
   {
    "duration": 34,
    "start_time": "2023-03-27T14:47:31.600Z"
   },
   {
    "duration": 50,
    "start_time": "2023-03-27T14:47:31.636Z"
   },
   {
    "duration": 48,
    "start_time": "2023-03-27T14:47:31.688Z"
   },
   {
    "duration": 40,
    "start_time": "2023-03-27T14:47:31.738Z"
   },
   {
    "duration": 29,
    "start_time": "2023-03-27T14:47:31.780Z"
   },
   {
    "duration": 41,
    "start_time": "2023-03-27T14:47:31.811Z"
   },
   {
    "duration": 15,
    "start_time": "2023-03-27T14:47:31.856Z"
   },
   {
    "duration": 194,
    "start_time": "2023-03-27T14:47:31.873Z"
   },
   {
    "duration": 7,
    "start_time": "2023-03-27T14:47:32.069Z"
   },
   {
    "duration": 70,
    "start_time": "2023-03-27T14:47:32.078Z"
   },
   {
    "duration": 34,
    "start_time": "2023-03-27T14:47:32.150Z"
   },
   {
    "duration": 36,
    "start_time": "2023-03-27T14:47:32.185Z"
   },
   {
    "duration": 38,
    "start_time": "2023-03-27T14:47:32.222Z"
   },
   {
    "duration": 13,
    "start_time": "2023-03-27T14:47:32.262Z"
   },
   {
    "duration": 40,
    "start_time": "2023-03-27T14:47:32.277Z"
   },
   {
    "duration": 209,
    "start_time": "2023-03-27T14:47:32.319Z"
   },
   {
    "duration": 248,
    "start_time": "2023-03-27T14:47:32.529Z"
   },
   {
    "duration": 237,
    "start_time": "2023-03-27T14:47:32.779Z"
   },
   {
    "duration": 13,
    "start_time": "2023-03-27T14:47:33.018Z"
   },
   {
    "duration": 9,
    "start_time": "2023-03-27T14:47:33.042Z"
   },
   {
    "duration": 222,
    "start_time": "2023-03-27T14:47:33.053Z"
   },
   {
    "duration": 7,
    "start_time": "2023-03-27T14:47:33.276Z"
   },
   {
    "duration": 16,
    "start_time": "2023-03-27T14:47:33.285Z"
   },
   {
    "duration": 16,
    "start_time": "2023-03-27T14:47:33.303Z"
   },
   {
    "duration": 25,
    "start_time": "2023-03-27T14:47:33.321Z"
   },
   {
    "duration": 17,
    "start_time": "2023-03-27T14:47:33.348Z"
   },
   {
    "duration": 1330,
    "start_time": "2023-03-27T14:52:09.384Z"
   },
   {
    "duration": 12,
    "start_time": "2023-03-27T14:52:10.716Z"
   },
   {
    "duration": 166,
    "start_time": "2023-03-27T14:52:10.740Z"
   },
   {
    "duration": 115,
    "start_time": "2023-03-27T14:52:10.908Z"
   },
   {
    "duration": 7,
    "start_time": "2023-03-27T14:52:11.026Z"
   },
   {
    "duration": 29,
    "start_time": "2023-03-27T14:52:11.040Z"
   },
   {
    "duration": 32,
    "start_time": "2023-03-27T14:52:11.070Z"
   },
   {
    "duration": 7,
    "start_time": "2023-03-27T14:52:11.103Z"
   },
   {
    "duration": 42,
    "start_time": "2023-03-27T14:52:11.112Z"
   },
   {
    "duration": 21,
    "start_time": "2023-03-27T14:52:11.155Z"
   },
   {
    "duration": 6,
    "start_time": "2023-03-27T14:52:11.178Z"
   },
   {
    "duration": 22,
    "start_time": "2023-03-27T14:52:11.186Z"
   },
   {
    "duration": 32,
    "start_time": "2023-03-27T14:52:11.209Z"
   },
   {
    "duration": 9,
    "start_time": "2023-03-27T14:52:11.245Z"
   },
   {
    "duration": 11,
    "start_time": "2023-03-27T14:52:11.256Z"
   },
   {
    "duration": 26,
    "start_time": "2023-03-27T14:52:11.269Z"
   },
   {
    "duration": 4,
    "start_time": "2023-03-27T14:52:11.298Z"
   },
   {
    "duration": 16,
    "start_time": "2023-03-27T14:52:11.304Z"
   },
   {
    "duration": 204,
    "start_time": "2023-03-27T14:52:11.322Z"
   },
   {
    "duration": 27,
    "start_time": "2023-03-27T14:52:11.528Z"
   },
   {
    "duration": 30,
    "start_time": "2023-03-27T14:52:11.557Z"
   },
   {
    "duration": 14,
    "start_time": "2023-03-27T14:52:11.589Z"
   },
   {
    "duration": 41,
    "start_time": "2023-03-27T14:52:11.606Z"
   },
   {
    "duration": 24,
    "start_time": "2023-03-27T14:52:11.649Z"
   },
   {
    "duration": 13,
    "start_time": "2023-03-27T14:52:11.674Z"
   },
   {
    "duration": 10,
    "start_time": "2023-03-27T14:52:11.689Z"
   },
   {
    "duration": 15,
    "start_time": "2023-03-27T14:52:11.701Z"
   },
   {
    "duration": 19,
    "start_time": "2023-03-27T14:52:11.740Z"
   },
   {
    "duration": 31,
    "start_time": "2023-03-27T14:52:11.761Z"
   },
   {
    "duration": 13,
    "start_time": "2023-03-27T14:52:11.794Z"
   },
   {
    "duration": 9,
    "start_time": "2023-03-27T14:52:11.842Z"
   },
   {
    "duration": 4,
    "start_time": "2023-03-27T14:52:11.853Z"
   },
   {
    "duration": 12,
    "start_time": "2023-03-27T14:52:11.858Z"
   },
   {
    "duration": 11,
    "start_time": "2023-03-27T14:52:11.872Z"
   },
   {
    "duration": 23,
    "start_time": "2023-03-27T14:52:11.884Z"
   },
   {
    "duration": 10,
    "start_time": "2023-03-27T14:52:11.909Z"
   },
   {
    "duration": 17,
    "start_time": "2023-03-27T14:52:11.921Z"
   },
   {
    "duration": 12,
    "start_time": "2023-03-27T14:52:11.941Z"
   },
   {
    "duration": 6,
    "start_time": "2023-03-27T14:52:11.955Z"
   },
   {
    "duration": 35,
    "start_time": "2023-03-27T14:52:11.962Z"
   },
   {
    "duration": 11,
    "start_time": "2023-03-27T14:52:12.002Z"
   },
   {
    "duration": 207,
    "start_time": "2023-03-27T14:52:12.015Z"
   },
   {
    "duration": 7,
    "start_time": "2023-03-27T14:52:12.224Z"
   },
   {
    "duration": 15,
    "start_time": "2023-03-27T14:52:12.240Z"
   },
   {
    "duration": 17,
    "start_time": "2023-03-27T14:52:12.257Z"
   },
   {
    "duration": 9,
    "start_time": "2023-03-27T14:52:12.276Z"
   },
   {
    "duration": 34,
    "start_time": "2023-03-27T14:52:12.287Z"
   },
   {
    "duration": 19,
    "start_time": "2023-03-27T14:52:12.323Z"
   },
   {
    "duration": 14,
    "start_time": "2023-03-27T14:52:12.343Z"
   },
   {
    "duration": 267,
    "start_time": "2023-03-27T14:52:12.358Z"
   },
   {
    "duration": 259,
    "start_time": "2023-03-27T14:52:12.627Z"
   },
   {
    "duration": 255,
    "start_time": "2023-03-27T14:52:12.888Z"
   },
   {
    "duration": 12,
    "start_time": "2023-03-27T14:52:13.145Z"
   },
   {
    "duration": 11,
    "start_time": "2023-03-27T14:52:13.159Z"
   },
   {
    "duration": 243,
    "start_time": "2023-03-27T14:52:13.171Z"
   },
   {
    "duration": 6,
    "start_time": "2023-03-27T14:52:13.416Z"
   },
   {
    "duration": 26,
    "start_time": "2023-03-27T14:52:13.423Z"
   },
   {
    "duration": 12,
    "start_time": "2023-03-27T14:52:13.450Z"
   },
   {
    "duration": 15,
    "start_time": "2023-03-27T14:52:13.464Z"
   },
   {
    "duration": 17,
    "start_time": "2023-03-27T14:52:13.481Z"
   },
   {
    "duration": 9,
    "start_time": "2023-03-27T14:52:13.500Z"
   },
   {
    "duration": 7,
    "start_time": "2023-03-27T14:52:13.510Z"
   },
   {
    "duration": 4,
    "start_time": "2023-03-27T14:52:13.519Z"
   },
   {
    "duration": 5,
    "start_time": "2023-03-27T14:52:13.525Z"
   },
   {
    "duration": 14,
    "start_time": "2023-03-27T14:52:13.532Z"
   },
   {
    "duration": 9,
    "start_time": "2023-03-27T14:52:13.547Z"
   },
   {
    "duration": 16,
    "start_time": "2023-03-27T14:52:13.558Z"
   },
   {
    "duration": 11,
    "start_time": "2023-03-27T14:52:13.576Z"
   },
   {
    "duration": 22,
    "start_time": "2023-03-27T14:52:13.589Z"
   },
   {
    "duration": 9,
    "start_time": "2023-03-27T14:52:13.612Z"
   },
   {
    "duration": 24,
    "start_time": "2023-03-27T14:52:13.623Z"
   },
   {
    "duration": 12,
    "start_time": "2023-03-27T14:52:13.649Z"
   },
   {
    "duration": 11,
    "start_time": "2023-03-27T14:52:13.663Z"
   },
   {
    "duration": 11,
    "start_time": "2023-03-27T14:52:13.676Z"
   },
   {
    "duration": 214,
    "start_time": "2023-03-27T14:52:13.689Z"
   },
   {
    "duration": 6,
    "start_time": "2023-03-27T14:52:13.904Z"
   },
   {
    "duration": 15,
    "start_time": "2023-03-27T14:52:13.911Z"
   },
   {
    "duration": 14,
    "start_time": "2023-03-27T14:52:13.940Z"
   },
   {
    "duration": 10,
    "start_time": "2023-03-27T14:52:13.956Z"
   },
   {
    "duration": 9,
    "start_time": "2023-03-27T14:52:13.967Z"
   },
   {
    "duration": 8,
    "start_time": "2023-03-27T14:52:13.978Z"
   },
   {
    "duration": 6,
    "start_time": "2023-03-27T14:52:13.988Z"
   },
   {
    "duration": 23,
    "start_time": "2023-03-27T14:52:13.995Z"
   },
   {
    "duration": 7,
    "start_time": "2023-03-27T14:52:14.019Z"
   },
   {
    "duration": 6,
    "start_time": "2023-03-27T14:52:14.027Z"
   },
   {
    "duration": 13,
    "start_time": "2023-03-27T14:52:14.034Z"
   },
   {
    "duration": 7,
    "start_time": "2023-03-27T14:52:14.049Z"
   },
   {
    "duration": 11,
    "start_time": "2023-03-27T14:52:14.058Z"
   },
   {
    "duration": 10,
    "start_time": "2023-03-27T14:52:14.071Z"
   },
   {
    "duration": 3,
    "start_time": "2023-03-27T14:52:14.082Z"
   },
   {
    "duration": 10,
    "start_time": "2023-03-27T14:52:14.087Z"
   },
   {
    "duration": 1449,
    "start_time": "2023-03-27T14:53:58.091Z"
   },
   {
    "duration": 18,
    "start_time": "2023-03-27T14:53:59.546Z"
   },
   {
    "duration": 192,
    "start_time": "2023-03-27T14:53:59.566Z"
   },
   {
    "duration": 112,
    "start_time": "2023-03-27T14:53:59.760Z"
   },
   {
    "duration": 7,
    "start_time": "2023-03-27T14:53:59.875Z"
   },
   {
    "duration": 37,
    "start_time": "2023-03-27T14:53:59.884Z"
   },
   {
    "duration": 48,
    "start_time": "2023-03-27T14:53:59.924Z"
   },
   {
    "duration": 5,
    "start_time": "2023-03-27T14:53:59.974Z"
   },
   {
    "duration": 38,
    "start_time": "2023-03-27T14:53:59.981Z"
   },
   {
    "duration": 20,
    "start_time": "2023-03-27T14:54:00.021Z"
   },
   {
    "duration": 38,
    "start_time": "2023-03-27T14:54:00.045Z"
   },
   {
    "duration": 34,
    "start_time": "2023-03-27T14:54:00.085Z"
   },
   {
    "duration": 33,
    "start_time": "2023-03-27T14:54:00.120Z"
   },
   {
    "duration": 8,
    "start_time": "2023-03-27T14:54:00.157Z"
   },
   {
    "duration": 36,
    "start_time": "2023-03-27T14:54:00.167Z"
   },
   {
    "duration": 62,
    "start_time": "2023-03-27T14:54:00.205Z"
   },
   {
    "duration": 24,
    "start_time": "2023-03-27T14:54:00.269Z"
   },
   {
    "duration": 41,
    "start_time": "2023-03-27T14:54:00.295Z"
   },
   {
    "duration": 218,
    "start_time": "2023-03-27T14:54:00.338Z"
   },
   {
    "duration": 21,
    "start_time": "2023-03-27T14:54:00.559Z"
   },
   {
    "duration": 79,
    "start_time": "2023-03-27T14:54:00.581Z"
   },
   {
    "duration": 27,
    "start_time": "2023-03-27T14:54:00.662Z"
   },
   {
    "duration": 62,
    "start_time": "2023-03-27T14:54:00.691Z"
   },
   {
    "duration": 25,
    "start_time": "2023-03-27T14:54:00.756Z"
   },
   {
    "duration": 36,
    "start_time": "2023-03-27T14:54:00.783Z"
   },
   {
    "duration": 70,
    "start_time": "2023-03-27T14:54:00.822Z"
   },
   {
    "duration": 56,
    "start_time": "2023-03-27T14:54:00.894Z"
   },
   {
    "duration": 66,
    "start_time": "2023-03-27T14:54:00.952Z"
   },
   {
    "duration": 157,
    "start_time": "2023-03-27T14:54:01.020Z"
   },
   {
    "duration": 19,
    "start_time": "2023-03-27T14:54:01.179Z"
   },
   {
    "duration": 61,
    "start_time": "2023-03-27T14:54:01.199Z"
   },
   {
    "duration": 23,
    "start_time": "2023-03-27T14:54:01.263Z"
   },
   {
    "duration": 35,
    "start_time": "2023-03-27T14:54:01.288Z"
   },
   {
    "duration": 38,
    "start_time": "2023-03-27T14:54:01.325Z"
   },
   {
    "duration": 41,
    "start_time": "2023-03-27T14:54:01.365Z"
   },
   {
    "duration": 58,
    "start_time": "2023-03-27T14:54:01.408Z"
   },
   {
    "duration": 41,
    "start_time": "2023-03-27T14:54:01.468Z"
   },
   {
    "duration": 88,
    "start_time": "2023-03-27T14:54:01.510Z"
   },
   {
    "duration": 55,
    "start_time": "2023-03-27T14:54:01.600Z"
   },
   {
    "duration": 82,
    "start_time": "2023-03-27T14:54:01.657Z"
   },
   {
    "duration": 18,
    "start_time": "2023-03-27T14:54:01.747Z"
   },
   {
    "duration": 244,
    "start_time": "2023-03-27T14:54:01.767Z"
   },
   {
    "duration": 7,
    "start_time": "2023-03-27T14:54:02.013Z"
   },
   {
    "duration": 35,
    "start_time": "2023-03-27T14:54:02.021Z"
   },
   {
    "duration": 61,
    "start_time": "2023-03-27T14:54:02.058Z"
   },
   {
    "duration": 15,
    "start_time": "2023-03-27T14:54:02.121Z"
   },
   {
    "duration": 40,
    "start_time": "2023-03-27T14:54:02.138Z"
   },
   {
    "duration": 29,
    "start_time": "2023-03-27T14:54:02.180Z"
   },
   {
    "duration": 23,
    "start_time": "2023-03-27T14:54:02.211Z"
   },
   {
    "duration": 270,
    "start_time": "2023-03-27T14:54:02.236Z"
   },
   {
    "duration": 291,
    "start_time": "2023-03-27T14:54:02.508Z"
   },
   {
    "duration": 282,
    "start_time": "2023-03-27T14:54:02.800Z"
   },
   {
    "duration": 11,
    "start_time": "2023-03-27T14:54:03.084Z"
   },
   {
    "duration": 15,
    "start_time": "2023-03-27T14:54:03.097Z"
   },
   {
    "duration": 265,
    "start_time": "2023-03-27T14:54:03.114Z"
   },
   {
    "duration": 8,
    "start_time": "2023-03-27T14:54:03.381Z"
   },
   {
    "duration": 42,
    "start_time": "2023-03-27T14:54:03.390Z"
   },
   {
    "duration": 26,
    "start_time": "2023-03-27T14:54:03.434Z"
   },
   {
    "duration": 27,
    "start_time": "2023-03-27T14:54:03.463Z"
   },
   {
    "duration": 11,
    "start_time": "2023-03-27T14:54:03.492Z"
   },
   {
    "duration": 39,
    "start_time": "2023-03-27T14:54:03.504Z"
   },
   {
    "duration": 13,
    "start_time": "2023-03-27T14:54:03.546Z"
   },
   {
    "duration": 14,
    "start_time": "2023-03-27T14:54:03.562Z"
   },
   {
    "duration": 10,
    "start_time": "2023-03-27T14:54:03.577Z"
   },
   {
    "duration": 25,
    "start_time": "2023-03-27T14:54:03.589Z"
   },
   {
    "duration": 13,
    "start_time": "2023-03-27T14:54:03.616Z"
   },
   {
    "duration": 10,
    "start_time": "2023-03-27T14:54:03.630Z"
   },
   {
    "duration": 15,
    "start_time": "2023-03-27T14:54:03.642Z"
   },
   {
    "duration": 39,
    "start_time": "2023-03-27T14:54:03.658Z"
   },
   {
    "duration": 20,
    "start_time": "2023-03-27T14:54:03.699Z"
   },
   {
    "duration": 18,
    "start_time": "2023-03-27T14:54:03.721Z"
   },
   {
    "duration": 23,
    "start_time": "2023-03-27T14:54:03.747Z"
   },
   {
    "duration": 12,
    "start_time": "2023-03-27T14:54:03.772Z"
   },
   {
    "duration": 15,
    "start_time": "2023-03-27T14:54:03.786Z"
   },
   {
    "duration": 241,
    "start_time": "2023-03-27T14:54:03.803Z"
   },
   {
    "duration": 9,
    "start_time": "2023-03-27T14:54:04.047Z"
   },
   {
    "duration": 23,
    "start_time": "2023-03-27T14:54:04.058Z"
   },
   {
    "duration": 16,
    "start_time": "2023-03-27T14:54:04.083Z"
   },
   {
    "duration": 15,
    "start_time": "2023-03-27T14:54:04.101Z"
   },
   {
    "duration": 10,
    "start_time": "2023-03-27T14:54:04.118Z"
   },
   {
    "duration": 13,
    "start_time": "2023-03-27T14:54:04.142Z"
   },
   {
    "duration": 5,
    "start_time": "2023-03-27T14:54:04.158Z"
   },
   {
    "duration": 13,
    "start_time": "2023-03-27T14:54:04.165Z"
   },
   {
    "duration": 25,
    "start_time": "2023-03-27T14:54:04.180Z"
   },
   {
    "duration": 12,
    "start_time": "2023-03-27T14:54:04.207Z"
   },
   {
    "duration": 12,
    "start_time": "2023-03-27T14:54:04.221Z"
   },
   {
    "duration": 16,
    "start_time": "2023-03-27T14:54:04.235Z"
   },
   {
    "duration": 18,
    "start_time": "2023-03-27T14:54:04.253Z"
   },
   {
    "duration": 15,
    "start_time": "2023-03-27T14:54:04.273Z"
   },
   {
    "duration": 43,
    "start_time": "2023-03-27T14:54:04.289Z"
   },
   {
    "duration": 35,
    "start_time": "2023-03-27T14:54:04.333Z"
   },
   {
    "duration": 19,
    "start_time": "2023-03-27T14:54:04.370Z"
   },
   {
    "duration": 14,
    "start_time": "2023-03-27T14:54:04.391Z"
   },
   {
    "duration": 4,
    "start_time": "2023-03-27T14:54:04.407Z"
   },
   {
    "duration": 190,
    "start_time": "2023-03-27T14:54:04.412Z"
   },
   {
    "duration": 285,
    "start_time": "2023-03-27T14:54:04.605Z"
   },
   {
    "duration": 215,
    "start_time": "2023-03-27T14:54:04.891Z"
   },
   {
    "duration": 260,
    "start_time": "2023-03-27T14:54:05.114Z"
   },
   {
    "duration": 1439,
    "start_time": "2023-03-27T14:58:48.877Z"
   },
   {
    "duration": 12,
    "start_time": "2023-03-27T14:58:50.318Z"
   },
   {
    "duration": 177,
    "start_time": "2023-03-27T14:58:50.342Z"
   },
   {
    "duration": 113,
    "start_time": "2023-03-27T14:58:50.520Z"
   },
   {
    "duration": 7,
    "start_time": "2023-03-27T14:58:50.635Z"
   },
   {
    "duration": 34,
    "start_time": "2023-03-27T14:58:50.643Z"
   },
   {
    "duration": 30,
    "start_time": "2023-03-27T14:58:50.679Z"
   },
   {
    "duration": 7,
    "start_time": "2023-03-27T14:58:50.711Z"
   },
   {
    "duration": 70,
    "start_time": "2023-03-27T14:58:50.720Z"
   },
   {
    "duration": 19,
    "start_time": "2023-03-27T14:58:50.792Z"
   },
   {
    "duration": 23,
    "start_time": "2023-03-27T14:58:50.813Z"
   },
   {
    "duration": 42,
    "start_time": "2023-03-27T14:58:50.838Z"
   },
   {
    "duration": 27,
    "start_time": "2023-03-27T14:58:50.881Z"
   },
   {
    "duration": 4,
    "start_time": "2023-03-27T14:58:50.911Z"
   },
   {
    "duration": 13,
    "start_time": "2023-03-27T14:58:50.917Z"
   },
   {
    "duration": 38,
    "start_time": "2023-03-27T14:58:50.932Z"
   },
   {
    "duration": 4,
    "start_time": "2023-03-27T14:58:50.972Z"
   },
   {
    "duration": 48,
    "start_time": "2023-03-27T14:58:50.978Z"
   },
   {
    "duration": 186,
    "start_time": "2023-03-27T14:58:51.028Z"
   },
   {
    "duration": 27,
    "start_time": "2023-03-27T14:58:51.215Z"
   },
   {
    "duration": 35,
    "start_time": "2023-03-27T14:58:51.244Z"
   },
   {
    "duration": 14,
    "start_time": "2023-03-27T14:58:51.281Z"
   },
   {
    "duration": 17,
    "start_time": "2023-03-27T14:58:51.296Z"
   },
   {
    "duration": 52,
    "start_time": "2023-03-27T14:58:51.314Z"
   },
   {
    "duration": 10,
    "start_time": "2023-03-27T14:58:51.368Z"
   },
   {
    "duration": 13,
    "start_time": "2023-03-27T14:58:51.379Z"
   },
   {
    "duration": 37,
    "start_time": "2023-03-27T14:58:51.394Z"
   },
   {
    "duration": 40,
    "start_time": "2023-03-27T14:58:51.442Z"
   },
   {
    "duration": 27,
    "start_time": "2023-03-27T14:58:51.484Z"
   },
   {
    "duration": 15,
    "start_time": "2023-03-27T14:58:51.512Z"
   },
   {
    "duration": 33,
    "start_time": "2023-03-27T14:58:51.529Z"
   },
   {
    "duration": 15,
    "start_time": "2023-03-27T14:58:51.565Z"
   },
   {
    "duration": 18,
    "start_time": "2023-03-27T14:58:51.582Z"
   },
   {
    "duration": 18,
    "start_time": "2023-03-27T14:58:51.602Z"
   },
   {
    "duration": 4,
    "start_time": "2023-03-27T14:58:51.622Z"
   },
   {
    "duration": 8,
    "start_time": "2023-03-27T14:58:51.628Z"
   },
   {
    "duration": 20,
    "start_time": "2023-03-27T14:58:51.638Z"
   },
   {
    "duration": 10,
    "start_time": "2023-03-27T14:58:51.662Z"
   },
   {
    "duration": 5,
    "start_time": "2023-03-27T14:58:51.674Z"
   },
   {
    "duration": 33,
    "start_time": "2023-03-27T14:58:51.681Z"
   },
   {
    "duration": 40,
    "start_time": "2023-03-27T14:58:51.719Z"
   },
   {
    "duration": 202,
    "start_time": "2023-03-27T14:58:51.761Z"
   },
   {
    "duration": 8,
    "start_time": "2023-03-27T14:58:51.965Z"
   },
   {
    "duration": 15,
    "start_time": "2023-03-27T14:58:51.975Z"
   },
   {
    "duration": 22,
    "start_time": "2023-03-27T14:58:51.991Z"
   },
   {
    "duration": 53,
    "start_time": "2023-03-27T14:58:52.015Z"
   },
   {
    "duration": 39,
    "start_time": "2023-03-27T14:58:52.070Z"
   },
   {
    "duration": 16,
    "start_time": "2023-03-27T14:58:52.111Z"
   },
   {
    "duration": 17,
    "start_time": "2023-03-27T14:58:52.128Z"
   },
   {
    "duration": 241,
    "start_time": "2023-03-27T14:58:52.148Z"
   },
   {
    "duration": 301,
    "start_time": "2023-03-27T14:58:52.391Z"
   },
   {
    "duration": 269,
    "start_time": "2023-03-27T14:58:52.693Z"
   },
   {
    "duration": 12,
    "start_time": "2023-03-27T14:58:52.965Z"
   },
   {
    "duration": 13,
    "start_time": "2023-03-27T14:58:52.979Z"
   },
   {
    "duration": 251,
    "start_time": "2023-03-27T14:58:52.993Z"
   },
   {
    "duration": 9,
    "start_time": "2023-03-27T14:58:53.247Z"
   },
   {
    "duration": 32,
    "start_time": "2023-03-27T14:58:53.258Z"
   },
   {
    "duration": 12,
    "start_time": "2023-03-27T14:58:53.291Z"
   },
   {
    "duration": 23,
    "start_time": "2023-03-27T14:58:53.305Z"
   },
   {
    "duration": 16,
    "start_time": "2023-03-27T14:58:53.330Z"
   },
   {
    "duration": 8,
    "start_time": "2023-03-27T14:58:53.350Z"
   },
   {
    "duration": 19,
    "start_time": "2023-03-27T14:58:53.360Z"
   },
   {
    "duration": 11,
    "start_time": "2023-03-27T14:58:53.381Z"
   },
   {
    "duration": 6,
    "start_time": "2023-03-27T14:58:53.394Z"
   },
   {
    "duration": 21,
    "start_time": "2023-03-27T14:58:53.402Z"
   },
   {
    "duration": 8,
    "start_time": "2023-03-27T14:58:53.425Z"
   },
   {
    "duration": 17,
    "start_time": "2023-03-27T14:58:53.435Z"
   },
   {
    "duration": 13,
    "start_time": "2023-03-27T14:58:53.455Z"
   },
   {
    "duration": 22,
    "start_time": "2023-03-27T14:58:53.469Z"
   },
   {
    "duration": 8,
    "start_time": "2023-03-27T14:58:53.492Z"
   },
   {
    "duration": 50,
    "start_time": "2023-03-27T14:58:53.503Z"
   },
   {
    "duration": 18,
    "start_time": "2023-03-27T14:58:53.557Z"
   },
   {
    "duration": 11,
    "start_time": "2023-03-27T14:58:53.577Z"
   },
   {
    "duration": 10,
    "start_time": "2023-03-27T14:58:53.590Z"
   },
   {
    "duration": 233,
    "start_time": "2023-03-27T14:58:53.601Z"
   },
   {
    "duration": 9,
    "start_time": "2023-03-27T14:58:53.840Z"
   },
   {
    "duration": 24,
    "start_time": "2023-03-27T14:58:53.852Z"
   },
   {
    "duration": 22,
    "start_time": "2023-03-27T14:58:53.878Z"
   },
   {
    "duration": 10,
    "start_time": "2023-03-27T14:58:53.902Z"
   },
   {
    "duration": 9,
    "start_time": "2023-03-27T14:58:53.913Z"
   },
   {
    "duration": 23,
    "start_time": "2023-03-27T14:58:53.924Z"
   },
   {
    "duration": 6,
    "start_time": "2023-03-27T14:58:53.950Z"
   },
   {
    "duration": 6,
    "start_time": "2023-03-27T14:58:53.958Z"
   },
   {
    "duration": 12,
    "start_time": "2023-03-27T14:58:53.966Z"
   },
   {
    "duration": 5,
    "start_time": "2023-03-27T14:58:53.980Z"
   },
   {
    "duration": 8,
    "start_time": "2023-03-27T14:58:53.986Z"
   },
   {
    "duration": 73,
    "start_time": "2023-03-27T14:58:53.996Z"
   },
   {
    "duration": 11,
    "start_time": "2023-03-27T14:58:54.071Z"
   },
   {
    "duration": 11,
    "start_time": "2023-03-27T14:58:54.083Z"
   },
   {
    "duration": 4,
    "start_time": "2023-03-27T14:58:54.096Z"
   },
   {
    "duration": 24,
    "start_time": "2023-03-27T14:58:54.102Z"
   },
   {
    "duration": 30,
    "start_time": "2023-03-27T14:58:54.128Z"
   },
   {
    "duration": 20,
    "start_time": "2023-03-27T14:58:54.160Z"
   },
   {
    "duration": 8,
    "start_time": "2023-03-27T14:58:54.183Z"
   },
   {
    "duration": 202,
    "start_time": "2023-03-27T14:58:54.193Z"
   },
   {
    "duration": 282,
    "start_time": "2023-03-27T14:58:54.397Z"
   },
   {
    "duration": 189,
    "start_time": "2023-03-27T14:58:54.680Z"
   },
   {
    "duration": 212,
    "start_time": "2023-03-27T14:58:54.871Z"
   },
   {
    "duration": 181,
    "start_time": "2023-03-27T14:58:55.085Z"
   },
   {
    "duration": 215,
    "start_time": "2023-03-27T14:58:55.268Z"
   },
   {
    "duration": 3,
    "start_time": "2023-03-27T14:58:55.484Z"
   },
   {
    "duration": 486,
    "start_time": "2023-03-27T14:58:55.488Z"
   },
   {
    "duration": 3,
    "start_time": "2023-03-27T14:58:55.975Z"
   },
   {
    "duration": 6,
    "start_time": "2023-03-27T14:58:55.980Z"
   },
   {
    "duration": 6,
    "start_time": "2023-03-27T14:58:55.987Z"
   },
   {
    "duration": 5,
    "start_time": "2023-03-27T14:58:55.995Z"
   },
   {
    "duration": 7,
    "start_time": "2023-03-27T14:58:56.002Z"
   },
   {
    "duration": 6,
    "start_time": "2023-03-27T14:58:56.046Z"
   },
   {
    "duration": 9,
    "start_time": "2023-03-27T14:58:56.055Z"
   },
   {
    "duration": 8,
    "start_time": "2023-03-27T14:58:56.065Z"
   },
   {
    "duration": 4,
    "start_time": "2023-03-27T14:58:56.075Z"
   },
   {
    "duration": 5,
    "start_time": "2023-03-27T14:58:56.081Z"
   },
   {
    "duration": 7,
    "start_time": "2023-03-27T14:58:56.087Z"
   },
   {
    "duration": 6,
    "start_time": "2023-03-27T14:58:56.095Z"
   },
   {
    "duration": 41,
    "start_time": "2023-03-27T14:58:56.102Z"
   },
   {
    "duration": 5,
    "start_time": "2023-03-27T14:58:56.147Z"
   },
   {
    "duration": 7,
    "start_time": "2023-03-27T14:58:56.157Z"
   },
   {
    "duration": 8,
    "start_time": "2023-03-27T14:58:56.167Z"
   },
   {
    "duration": 4,
    "start_time": "2023-03-27T14:58:56.176Z"
   },
   {
    "duration": 6,
    "start_time": "2023-03-27T14:58:56.182Z"
   },
   {
    "duration": 5,
    "start_time": "2023-03-27T14:58:56.189Z"
   },
   {
    "duration": 4,
    "start_time": "2023-03-27T14:58:56.201Z"
   },
   {
    "duration": 36,
    "start_time": "2023-03-27T14:58:56.206Z"
   },
   {
    "duration": 23,
    "start_time": "2023-03-27T14:58:56.244Z"
   },
   {
    "duration": 29,
    "start_time": "2023-03-27T14:58:56.269Z"
   },
   {
    "duration": 11,
    "start_time": "2023-03-27T14:58:56.300Z"
   },
   {
    "duration": 7,
    "start_time": "2023-03-27T14:58:56.312Z"
   },
   {
    "duration": 7,
    "start_time": "2023-03-27T14:58:56.320Z"
   },
   {
    "duration": 16,
    "start_time": "2023-03-27T14:58:56.330Z"
   },
   {
    "duration": 20,
    "start_time": "2023-03-27T14:58:56.348Z"
   },
   {
    "duration": 17,
    "start_time": "2023-03-27T14:58:56.370Z"
   },
   {
    "duration": 5,
    "start_time": "2023-03-27T14:58:56.389Z"
   },
   {
    "duration": 197,
    "start_time": "2023-03-27T15:26:01.153Z"
   },
   {
    "duration": 461,
    "start_time": "2023-03-27T15:27:02.163Z"
   },
   {
    "duration": 3,
    "start_time": "2023-03-27T15:27:06.599Z"
   },
   {
    "duration": 19,
    "start_time": "2023-03-27T15:27:07.593Z"
   },
   {
    "duration": 26,
    "start_time": "2023-03-27T15:27:37.387Z"
   },
   {
    "duration": 1284,
    "start_time": "2023-03-27T15:35:35.637Z"
   },
   {
    "duration": 448,
    "start_time": "2023-03-27T15:35:36.923Z"
   },
   {
    "duration": 3,
    "start_time": "2023-03-27T15:35:37.373Z"
   },
   {
    "duration": 32,
    "start_time": "2023-03-27T15:35:37.378Z"
   },
   {
    "duration": 38,
    "start_time": "2023-03-27T15:35:37.413Z"
   },
   {
    "duration": 16,
    "start_time": "2023-03-27T15:35:37.453Z"
   },
   {
    "duration": 180,
    "start_time": "2023-03-27T15:35:37.470Z"
   },
   {
    "duration": 73,
    "start_time": "2023-03-27T15:35:37.652Z"
   },
   {
    "duration": 125,
    "start_time": "2023-03-27T15:35:37.740Z"
   },
   {
    "duration": 37,
    "start_time": "2023-03-27T15:35:37.867Z"
   },
   {
    "duration": 39,
    "start_time": "2023-03-27T15:35:37.906Z"
   },
   {
    "duration": 6,
    "start_time": "2023-03-27T15:35:37.947Z"
   },
   {
    "duration": 10,
    "start_time": "2023-03-27T15:35:37.954Z"
   },
   {
    "duration": 15,
    "start_time": "2023-03-27T15:35:37.967Z"
   },
   {
    "duration": 4,
    "start_time": "2023-03-27T15:35:37.984Z"
   },
   {
    "duration": 9,
    "start_time": "2023-03-27T15:35:37.989Z"
   },
   {
    "duration": 50,
    "start_time": "2023-03-27T15:35:37.999Z"
   },
   {
    "duration": 5,
    "start_time": "2023-03-27T15:35:38.051Z"
   },
   {
    "duration": 10,
    "start_time": "2023-03-27T15:35:38.057Z"
   },
   {
    "duration": 198,
    "start_time": "2023-03-27T15:35:38.069Z"
   },
   {
    "duration": 20,
    "start_time": "2023-03-27T15:35:38.269Z"
   },
   {
    "duration": 27,
    "start_time": "2023-03-27T15:35:38.291Z"
   },
   {
    "duration": 28,
    "start_time": "2023-03-27T15:35:38.320Z"
   },
   {
    "duration": 17,
    "start_time": "2023-03-27T15:35:38.349Z"
   },
   {
    "duration": 16,
    "start_time": "2023-03-27T15:35:38.367Z"
   },
   {
    "duration": 12,
    "start_time": "2023-03-27T15:35:38.385Z"
   },
   {
    "duration": 9,
    "start_time": "2023-03-27T15:35:38.399Z"
   },
   {
    "duration": 43,
    "start_time": "2023-03-27T15:35:38.410Z"
   },
   {
    "duration": 18,
    "start_time": "2023-03-27T15:35:38.455Z"
   },
   {
    "duration": 21,
    "start_time": "2023-03-27T15:35:38.475Z"
   },
   {
    "duration": 11,
    "start_time": "2023-03-27T15:35:38.497Z"
   },
   {
    "duration": 39,
    "start_time": "2023-03-27T15:35:38.510Z"
   },
   {
    "duration": 4,
    "start_time": "2023-03-27T15:35:38.550Z"
   },
   {
    "duration": 16,
    "start_time": "2023-03-27T15:35:38.555Z"
   },
   {
    "duration": 13,
    "start_time": "2023-03-27T15:35:38.572Z"
   },
   {
    "duration": 10,
    "start_time": "2023-03-27T15:35:38.587Z"
   },
   {
    "duration": 6,
    "start_time": "2023-03-27T15:35:38.598Z"
   },
   {
    "duration": 37,
    "start_time": "2023-03-27T15:35:38.605Z"
   },
   {
    "duration": 15,
    "start_time": "2023-03-27T15:35:38.643Z"
   },
   {
    "duration": 7,
    "start_time": "2023-03-27T15:35:38.660Z"
   },
   {
    "duration": 31,
    "start_time": "2023-03-27T15:35:38.672Z"
   },
   {
    "duration": 13,
    "start_time": "2023-03-27T15:35:38.705Z"
   },
   {
    "duration": 221,
    "start_time": "2023-03-27T15:35:38.720Z"
   },
   {
    "duration": 6,
    "start_time": "2023-03-27T15:35:38.943Z"
   },
   {
    "duration": 30,
    "start_time": "2023-03-27T15:35:38.951Z"
   },
   {
    "duration": 12,
    "start_time": "2023-03-27T15:35:38.982Z"
   },
   {
    "duration": 16,
    "start_time": "2023-03-27T15:35:38.995Z"
   },
   {
    "duration": 29,
    "start_time": "2023-03-27T15:35:39.012Z"
   },
   {
    "duration": 18,
    "start_time": "2023-03-27T15:35:39.043Z"
   },
   {
    "duration": 20,
    "start_time": "2023-03-27T15:35:39.064Z"
   },
   {
    "duration": 289,
    "start_time": "2023-03-27T15:35:39.086Z"
   },
   {
    "duration": 251,
    "start_time": "2023-03-27T15:35:39.377Z"
   },
   {
    "duration": 247,
    "start_time": "2023-03-27T15:35:39.630Z"
   },
   {
    "duration": 11,
    "start_time": "2023-03-27T15:35:39.879Z"
   },
   {
    "duration": 9,
    "start_time": "2023-03-27T15:35:39.891Z"
   },
   {
    "duration": 220,
    "start_time": "2023-03-27T15:35:39.902Z"
   },
   {
    "duration": 7,
    "start_time": "2023-03-27T15:35:40.123Z"
   },
   {
    "duration": 20,
    "start_time": "2023-03-27T15:35:40.140Z"
   },
   {
    "duration": 11,
    "start_time": "2023-03-27T15:35:40.162Z"
   },
   {
    "duration": 44,
    "start_time": "2023-03-27T15:35:40.175Z"
   },
   {
    "duration": 10,
    "start_time": "2023-03-27T15:35:40.221Z"
   },
   {
    "duration": 12,
    "start_time": "2023-03-27T15:35:40.232Z"
   },
   {
    "duration": 9,
    "start_time": "2023-03-27T15:35:40.246Z"
   },
   {
    "duration": 5,
    "start_time": "2023-03-27T15:35:40.257Z"
   },
   {
    "duration": 9,
    "start_time": "2023-03-27T15:35:40.263Z"
   },
   {
    "duration": 8,
    "start_time": "2023-03-27T15:35:40.274Z"
   },
   {
    "duration": 11,
    "start_time": "2023-03-27T15:35:40.283Z"
   },
   {
    "duration": 7,
    "start_time": "2023-03-27T15:35:40.296Z"
   },
   {
    "duration": 11,
    "start_time": "2023-03-27T15:35:40.305Z"
   },
   {
    "duration": 28,
    "start_time": "2023-03-27T15:35:40.318Z"
   },
   {
    "duration": 6,
    "start_time": "2023-03-27T15:35:40.347Z"
   },
   {
    "duration": 22,
    "start_time": "2023-03-27T15:35:40.354Z"
   },
   {
    "duration": 14,
    "start_time": "2023-03-27T15:35:40.378Z"
   },
   {
    "duration": 13,
    "start_time": "2023-03-27T15:35:40.393Z"
   },
   {
    "duration": 34,
    "start_time": "2023-03-27T15:35:40.407Z"
   },
   {
    "duration": 201,
    "start_time": "2023-03-27T15:35:40.443Z"
   },
   {
    "duration": 7,
    "start_time": "2023-03-27T15:35:40.646Z"
   },
   {
    "duration": 17,
    "start_time": "2023-03-27T15:35:40.654Z"
   },
   {
    "duration": 19,
    "start_time": "2023-03-27T15:35:40.673Z"
   },
   {
    "duration": 12,
    "start_time": "2023-03-27T15:35:40.693Z"
   },
   {
    "duration": 10,
    "start_time": "2023-03-27T15:35:40.707Z"
   },
   {
    "duration": 29,
    "start_time": "2023-03-27T15:35:40.718Z"
   },
   {
    "duration": 6,
    "start_time": "2023-03-27T15:35:40.749Z"
   },
   {
    "duration": 5,
    "start_time": "2023-03-27T15:35:40.756Z"
   },
   {
    "duration": 5,
    "start_time": "2023-03-27T15:35:40.762Z"
   },
   {
    "duration": 9,
    "start_time": "2023-03-27T15:35:40.769Z"
   },
   {
    "duration": 8,
    "start_time": "2023-03-27T15:35:40.779Z"
   },
   {
    "duration": 7,
    "start_time": "2023-03-27T15:35:40.788Z"
   },
   {
    "duration": 11,
    "start_time": "2023-03-27T15:35:40.797Z"
   },
   {
    "duration": 31,
    "start_time": "2023-03-27T15:35:40.810Z"
   },
   {
    "duration": 4,
    "start_time": "2023-03-27T15:35:40.843Z"
   },
   {
    "duration": 8,
    "start_time": "2023-03-27T15:35:40.848Z"
   },
   {
    "duration": 17,
    "start_time": "2023-03-27T15:35:40.857Z"
   },
   {
    "duration": 13,
    "start_time": "2023-03-27T15:35:40.876Z"
   },
   {
    "duration": 7,
    "start_time": "2023-03-27T15:35:40.891Z"
   },
   {
    "duration": 209,
    "start_time": "2023-03-27T15:35:40.900Z"
   },
   {
    "duration": 277,
    "start_time": "2023-03-27T15:35:41.111Z"
   },
   {
    "duration": 190,
    "start_time": "2023-03-27T15:35:41.390Z"
   },
   {
    "duration": 212,
    "start_time": "2023-03-27T15:35:41.582Z"
   },
   {
    "duration": 186,
    "start_time": "2023-03-27T15:35:41.796Z"
   },
   {
    "duration": 226,
    "start_time": "2023-03-27T15:35:41.983Z"
   },
   {
    "duration": 3,
    "start_time": "2023-03-27T15:35:42.211Z"
   },
   {
    "duration": 547,
    "start_time": "2023-03-27T15:35:42.216Z"
   },
   {
    "duration": 3,
    "start_time": "2023-03-27T15:35:42.764Z"
   },
   {
    "duration": 42,
    "start_time": "2023-03-27T15:35:42.768Z"
   },
   {
    "duration": 15,
    "start_time": "2023-03-27T15:35:42.812Z"
   },
   {
    "duration": 17,
    "start_time": "2023-03-27T15:35:42.829Z"
   },
   {
    "duration": 9,
    "start_time": "2023-03-27T15:35:42.848Z"
   },
   {
    "duration": 21,
    "start_time": "2023-03-27T15:35:42.858Z"
   },
   {
    "duration": 20,
    "start_time": "2023-03-27T15:35:42.881Z"
   },
   {
    "duration": 7,
    "start_time": "2023-03-27T15:35:42.903Z"
   },
   {
    "duration": 9,
    "start_time": "2023-03-27T15:35:42.912Z"
   },
   {
    "duration": 12,
    "start_time": "2023-03-27T15:35:42.923Z"
   },
   {
    "duration": 28,
    "start_time": "2023-03-27T15:35:42.936Z"
   },
   {
    "duration": 16,
    "start_time": "2023-03-27T15:35:42.965Z"
   },
   {
    "duration": 12,
    "start_time": "2023-03-27T15:35:42.983Z"
   },
   {
    "duration": 28,
    "start_time": "2023-03-27T15:35:42.997Z"
   },
   {
    "duration": 6,
    "start_time": "2023-03-27T15:35:43.027Z"
   },
   {
    "duration": 9,
    "start_time": "2023-03-27T15:35:43.035Z"
   },
   {
    "duration": 9,
    "start_time": "2023-03-27T15:35:43.045Z"
   },
   {
    "duration": 5,
    "start_time": "2023-03-27T15:35:43.056Z"
   },
   {
    "duration": 6,
    "start_time": "2023-03-27T15:35:43.069Z"
   },
   {
    "duration": 9,
    "start_time": "2023-03-27T15:35:43.076Z"
   },
   {
    "duration": 10,
    "start_time": "2023-03-27T15:35:43.087Z"
   },
   {
    "duration": 6,
    "start_time": "2023-03-27T15:35:43.099Z"
   },
   {
    "duration": 30,
    "start_time": "2023-03-27T15:35:43.107Z"
   },
   {
    "duration": 21,
    "start_time": "2023-03-27T15:35:43.139Z"
   },
   {
    "duration": 49,
    "start_time": "2023-03-27T15:35:43.161Z"
   },
   {
    "duration": 6,
    "start_time": "2023-03-27T15:35:43.212Z"
   },
   {
    "duration": 23,
    "start_time": "2023-03-27T15:35:43.220Z"
   },
   {
    "duration": 18,
    "start_time": "2023-03-27T15:35:43.245Z"
   },
   {
    "duration": 10,
    "start_time": "2023-03-27T15:35:43.265Z"
   },
   {
    "duration": 6,
    "start_time": "2023-03-27T15:35:43.277Z"
   },
   {
    "duration": 1498,
    "start_time": "2023-03-27T15:44:50.179Z"
   },
   {
    "duration": 618,
    "start_time": "2023-03-27T15:44:51.681Z"
   },
   {
    "duration": 4,
    "start_time": "2023-03-27T15:44:52.303Z"
   },
   {
    "duration": 64,
    "start_time": "2023-03-27T15:44:52.310Z"
   },
   {
    "duration": 30,
    "start_time": "2023-03-27T15:44:52.377Z"
   },
   {
    "duration": 278,
    "start_time": "2023-03-27T15:44:52.409Z"
   },
   {
    "duration": 117,
    "start_time": "2023-03-27T15:44:52.691Z"
   },
   {
    "duration": 162,
    "start_time": "2023-03-27T15:44:52.810Z"
   },
   {
    "duration": 35,
    "start_time": "2023-03-27T15:44:52.974Z"
   },
   {
    "duration": 46,
    "start_time": "2023-03-27T15:44:53.012Z"
   },
   {
    "duration": 10,
    "start_time": "2023-03-27T15:44:53.060Z"
   },
   {
    "duration": 32,
    "start_time": "2023-03-27T15:44:53.073Z"
   },
   {
    "duration": 22,
    "start_time": "2023-03-27T15:44:53.108Z"
   },
   {
    "duration": 23,
    "start_time": "2023-03-27T15:44:53.136Z"
   },
   {
    "duration": 14,
    "start_time": "2023-03-27T15:44:53.163Z"
   },
   {
    "duration": 31,
    "start_time": "2023-03-27T15:44:53.180Z"
   },
   {
    "duration": 7,
    "start_time": "2023-03-27T15:44:53.213Z"
   },
   {
    "duration": 22,
    "start_time": "2023-03-27T15:44:53.223Z"
   },
   {
    "duration": 221,
    "start_time": "2023-03-27T15:44:53.257Z"
   },
   {
    "duration": 26,
    "start_time": "2023-03-27T15:44:53.481Z"
   },
   {
    "duration": 68,
    "start_time": "2023-03-27T15:44:53.510Z"
   },
   {
    "duration": 19,
    "start_time": "2023-03-27T15:44:53.580Z"
   },
   {
    "duration": 17,
    "start_time": "2023-03-27T15:44:53.601Z"
   },
   {
    "duration": 55,
    "start_time": "2023-03-27T15:44:53.621Z"
   },
   {
    "duration": 20,
    "start_time": "2023-03-27T15:44:53.679Z"
   },
   {
    "duration": 32,
    "start_time": "2023-03-27T15:44:53.702Z"
   },
   {
    "duration": 25,
    "start_time": "2023-03-27T15:44:53.737Z"
   },
   {
    "duration": 51,
    "start_time": "2023-03-27T15:44:53.766Z"
   },
   {
    "duration": 30,
    "start_time": "2023-03-27T15:44:53.819Z"
   },
   {
    "duration": 27,
    "start_time": "2023-03-27T15:44:53.852Z"
   },
   {
    "duration": 16,
    "start_time": "2023-03-27T15:44:53.882Z"
   },
   {
    "duration": 6,
    "start_time": "2023-03-27T15:44:53.900Z"
   },
   {
    "duration": 37,
    "start_time": "2023-03-27T15:44:53.909Z"
   },
   {
    "duration": 19,
    "start_time": "2023-03-27T15:44:53.951Z"
   },
   {
    "duration": 5,
    "start_time": "2023-03-27T15:44:53.973Z"
   },
   {
    "duration": 9,
    "start_time": "2023-03-27T15:44:53.980Z"
   },
   {
    "duration": 22,
    "start_time": "2023-03-27T15:44:53.991Z"
   },
   {
    "duration": 41,
    "start_time": "2023-03-27T15:44:54.015Z"
   },
   {
    "duration": 9,
    "start_time": "2023-03-27T15:44:54.059Z"
   },
   {
    "duration": 79,
    "start_time": "2023-03-27T15:44:54.071Z"
   },
   {
    "duration": 19,
    "start_time": "2023-03-27T15:44:54.164Z"
   },
   {
    "duration": 258,
    "start_time": "2023-03-27T15:44:54.186Z"
   },
   {
    "duration": 13,
    "start_time": "2023-03-27T15:44:54.446Z"
   },
   {
    "duration": 34,
    "start_time": "2023-03-27T15:44:54.461Z"
   },
   {
    "duration": 20,
    "start_time": "2023-03-27T15:44:54.497Z"
   },
   {
    "duration": 20,
    "start_time": "2023-03-27T15:44:54.518Z"
   },
   {
    "duration": 38,
    "start_time": "2023-03-27T15:44:54.542Z"
   },
   {
    "duration": 12,
    "start_time": "2023-03-27T15:44:54.582Z"
   },
   {
    "duration": 53,
    "start_time": "2023-03-27T15:44:54.597Z"
   },
   {
    "duration": 290,
    "start_time": "2023-03-27T15:44:54.653Z"
   },
   {
    "duration": 299,
    "start_time": "2023-03-27T15:44:54.945Z"
   },
   {
    "duration": 277,
    "start_time": "2023-03-27T15:44:55.248Z"
   },
   {
    "duration": 23,
    "start_time": "2023-03-27T15:44:55.527Z"
   },
   {
    "duration": 17,
    "start_time": "2023-03-27T15:44:55.552Z"
   },
   {
    "duration": 257,
    "start_time": "2023-03-27T15:44:55.572Z"
   },
   {
    "duration": 15,
    "start_time": "2023-03-27T15:44:55.831Z"
   },
   {
    "duration": 26,
    "start_time": "2023-03-27T15:44:55.849Z"
   },
   {
    "duration": 10,
    "start_time": "2023-03-27T15:44:55.878Z"
   },
   {
    "duration": 21,
    "start_time": "2023-03-27T15:44:55.891Z"
   },
   {
    "duration": 32,
    "start_time": "2023-03-27T15:44:55.914Z"
   },
   {
    "duration": 16,
    "start_time": "2023-03-27T15:44:55.948Z"
   },
   {
    "duration": 6,
    "start_time": "2023-03-27T15:44:55.969Z"
   },
   {
    "duration": 11,
    "start_time": "2023-03-27T15:44:55.977Z"
   },
   {
    "duration": 16,
    "start_time": "2023-03-27T15:44:55.990Z"
   },
   {
    "duration": 10,
    "start_time": "2023-03-27T15:44:56.008Z"
   },
   {
    "duration": 10,
    "start_time": "2023-03-27T15:44:56.020Z"
   },
   {
    "duration": 26,
    "start_time": "2023-03-27T15:44:56.032Z"
   },
   {
    "duration": 20,
    "start_time": "2023-03-27T15:44:56.064Z"
   },
   {
    "duration": 17,
    "start_time": "2023-03-27T15:44:56.087Z"
   },
   {
    "duration": 7,
    "start_time": "2023-03-27T15:44:56.106Z"
   },
   {
    "duration": 54,
    "start_time": "2023-03-27T15:44:56.115Z"
   },
   {
    "duration": 14,
    "start_time": "2023-03-27T15:44:56.171Z"
   },
   {
    "duration": 13,
    "start_time": "2023-03-27T15:44:56.187Z"
   },
   {
    "duration": 24,
    "start_time": "2023-03-27T15:44:56.202Z"
   },
   {
    "duration": 335,
    "start_time": "2023-03-27T15:44:56.245Z"
   },
   {
    "duration": 7,
    "start_time": "2023-03-27T15:44:56.582Z"
   },
   {
    "duration": 25,
    "start_time": "2023-03-27T15:44:56.592Z"
   },
   {
    "duration": 31,
    "start_time": "2023-03-27T15:44:56.640Z"
   },
   {
    "duration": 11,
    "start_time": "2023-03-27T15:44:56.673Z"
   },
   {
    "duration": 24,
    "start_time": "2023-03-27T15:44:56.686Z"
   },
   {
    "duration": 12,
    "start_time": "2023-03-27T15:44:56.713Z"
   },
   {
    "duration": 18,
    "start_time": "2023-03-27T15:44:56.727Z"
   },
   {
    "duration": 29,
    "start_time": "2023-03-27T15:44:56.747Z"
   },
   {
    "duration": 10,
    "start_time": "2023-03-27T15:44:56.777Z"
   },
   {
    "duration": 6,
    "start_time": "2023-03-27T15:44:56.789Z"
   },
   {
    "duration": 16,
    "start_time": "2023-03-27T15:44:56.798Z"
   },
   {
    "duration": 9,
    "start_time": "2023-03-27T15:44:56.816Z"
   },
   {
    "duration": 23,
    "start_time": "2023-03-27T15:44:56.826Z"
   },
   {
    "duration": 31,
    "start_time": "2023-03-27T15:44:56.851Z"
   },
   {
    "duration": 18,
    "start_time": "2023-03-27T15:44:56.885Z"
   },
   {
    "duration": 23,
    "start_time": "2023-03-27T15:44:56.906Z"
   },
   {
    "duration": 36,
    "start_time": "2023-03-27T15:44:56.931Z"
   },
   {
    "duration": 15,
    "start_time": "2023-03-27T15:44:56.970Z"
   },
   {
    "duration": 4,
    "start_time": "2023-03-27T15:44:56.987Z"
   },
   {
    "duration": 278,
    "start_time": "2023-03-27T15:44:56.993Z"
   },
   {
    "duration": 388,
    "start_time": "2023-03-27T15:44:57.276Z"
   },
   {
    "duration": 257,
    "start_time": "2023-03-27T15:44:57.666Z"
   },
   {
    "duration": 231,
    "start_time": "2023-03-27T15:44:57.925Z"
   },
   {
    "duration": 206,
    "start_time": "2023-03-27T15:44:58.158Z"
   },
   {
    "duration": 267,
    "start_time": "2023-03-27T15:44:58.367Z"
   },
   {
    "duration": 4,
    "start_time": "2023-03-27T15:44:58.641Z"
   },
   {
    "duration": 621,
    "start_time": "2023-03-27T15:44:58.649Z"
   },
   {
    "duration": 4,
    "start_time": "2023-03-27T15:44:59.278Z"
   },
   {
    "duration": 14,
    "start_time": "2023-03-27T15:44:59.284Z"
   },
   {
    "duration": 7,
    "start_time": "2023-03-27T15:44:59.301Z"
   },
   {
    "duration": 8,
    "start_time": "2023-03-27T15:44:59.312Z"
   },
   {
    "duration": 19,
    "start_time": "2023-03-27T15:44:59.322Z"
   },
   {
    "duration": 7,
    "start_time": "2023-03-27T15:44:59.343Z"
   },
   {
    "duration": 18,
    "start_time": "2023-03-27T15:44:59.353Z"
   },
   {
    "duration": 8,
    "start_time": "2023-03-27T15:44:59.373Z"
   },
   {
    "duration": 5,
    "start_time": "2023-03-27T15:44:59.383Z"
   },
   {
    "duration": 6,
    "start_time": "2023-03-27T15:44:59.390Z"
   },
   {
    "duration": 7,
    "start_time": "2023-03-27T15:44:59.398Z"
   },
   {
    "duration": 57,
    "start_time": "2023-03-27T15:44:59.409Z"
   },
   {
    "duration": 6,
    "start_time": "2023-03-27T15:44:59.468Z"
   },
   {
    "duration": 7,
    "start_time": "2023-03-27T15:44:59.476Z"
   },
   {
    "duration": 16,
    "start_time": "2023-03-27T15:44:59.485Z"
   },
   {
    "duration": 67,
    "start_time": "2023-03-27T15:44:59.503Z"
   },
   {
    "duration": 20,
    "start_time": "2023-03-27T15:44:59.572Z"
   },
   {
    "duration": 12,
    "start_time": "2023-03-27T15:44:59.594Z"
   },
   {
    "duration": 6,
    "start_time": "2023-03-27T15:44:59.609Z"
   },
   {
    "duration": 4,
    "start_time": "2023-03-27T15:44:59.625Z"
   },
   {
    "duration": 26,
    "start_time": "2023-03-27T15:44:59.631Z"
   },
   {
    "duration": 20,
    "start_time": "2023-03-27T15:44:59.659Z"
   },
   {
    "duration": 7,
    "start_time": "2023-03-27T15:44:59.682Z"
   },
   {
    "duration": 6,
    "start_time": "2023-03-27T15:44:59.691Z"
   },
   {
    "duration": 5,
    "start_time": "2023-03-27T15:44:59.699Z"
   },
   {
    "duration": 5,
    "start_time": "2023-03-27T15:44:59.706Z"
   },
   {
    "duration": 25,
    "start_time": "2023-03-27T15:44:59.713Z"
   },
   {
    "duration": 10,
    "start_time": "2023-03-27T15:44:59.740Z"
   },
   {
    "duration": 10,
    "start_time": "2023-03-27T15:44:59.752Z"
   },
   {
    "duration": 8,
    "start_time": "2023-03-27T15:44:59.764Z"
   },
   {
    "duration": 82,
    "start_time": "2023-03-27T16:28:14.982Z"
   },
   {
    "duration": 77,
    "start_time": "2023-03-27T16:28:17.505Z"
   },
   {
    "duration": 19,
    "start_time": "2023-03-27T16:28:27.986Z"
   },
   {
    "duration": 9,
    "start_time": "2023-03-27T16:28:40.983Z"
   },
   {
    "duration": 67,
    "start_time": "2023-03-27T16:28:43.089Z"
   },
   {
    "duration": 1138,
    "start_time": "2023-03-27T16:28:46.055Z"
   },
   {
    "duration": 431,
    "start_time": "2023-03-27T16:28:47.884Z"
   },
   {
    "duration": 3,
    "start_time": "2023-03-27T16:28:49.251Z"
   },
   {
    "duration": 25,
    "start_time": "2023-03-27T16:28:49.788Z"
   },
   {
    "duration": 25,
    "start_time": "2023-03-27T16:28:52.135Z"
   },
   {
    "duration": 150,
    "start_time": "2023-03-27T16:28:53.754Z"
   },
   {
    "duration": 75,
    "start_time": "2023-03-27T16:28:54.854Z"
   },
   {
    "duration": 101,
    "start_time": "2023-03-27T16:28:57.154Z"
   },
   {
    "duration": 74,
    "start_time": "2023-03-27T16:29:01.143Z"
   },
   {
    "duration": 61,
    "start_time": "2023-03-27T16:29:03.517Z"
   },
   {
    "duration": 8,
    "start_time": "2023-03-27T16:29:14.444Z"
   },
   {
    "duration": 11,
    "start_time": "2023-03-27T16:29:17.046Z"
   },
   {
    "duration": 51,
    "start_time": "2023-03-27T16:36:38.026Z"
   },
   {
    "duration": 171,
    "start_time": "2023-03-27T16:36:47.783Z"
   },
   {
    "duration": 30,
    "start_time": "2023-03-27T16:42:59.737Z"
   },
   {
    "duration": 26,
    "start_time": "2023-03-27T16:43:01.491Z"
   },
   {
    "duration": 41,
    "start_time": "2023-03-27T16:43:04.330Z"
   },
   {
    "duration": 36,
    "start_time": "2023-03-27T16:43:15.490Z"
   },
   {
    "duration": 14,
    "start_time": "2023-03-27T16:44:24.889Z"
   },
   {
    "duration": 9,
    "start_time": "2023-03-27T16:44:39.614Z"
   },
   {
    "duration": 20,
    "start_time": "2023-03-27T16:47:07.837Z"
   },
   {
    "duration": 32,
    "start_time": "2023-03-27T16:47:08.990Z"
   },
   {
    "duration": 19,
    "start_time": "2023-03-27T17:00:25.597Z"
   },
   {
    "duration": 16,
    "start_time": "2023-03-27T17:02:06.855Z"
   },
   {
    "duration": 28,
    "start_time": "2023-03-27T17:02:08.818Z"
   },
   {
    "duration": 44,
    "start_time": "2023-03-27T17:02:10.824Z"
   },
   {
    "duration": 15,
    "start_time": "2023-03-27T17:03:21.480Z"
   },
   {
    "duration": 4,
    "start_time": "2023-03-27T17:03:23.379Z"
   },
   {
    "duration": 9,
    "start_time": "2023-03-27T17:03:24.758Z"
   },
   {
    "duration": 31,
    "start_time": "2023-03-27T17:03:58.958Z"
   },
   {
    "duration": 8,
    "start_time": "2023-03-27T17:06:13.936Z"
   },
   {
    "duration": 6,
    "start_time": "2023-03-27T17:06:28.180Z"
   },
   {
    "duration": 46,
    "start_time": "2023-03-27T17:06:28.741Z"
   },
   {
    "duration": 14,
    "start_time": "2023-03-27T17:06:55.924Z"
   },
   {
    "duration": 6,
    "start_time": "2023-03-27T17:08:28.582Z"
   },
   {
    "duration": 24,
    "start_time": "2023-03-27T17:08:29.253Z"
   },
   {
    "duration": 5,
    "start_time": "2023-03-27T17:08:57.902Z"
   },
   {
    "duration": 20,
    "start_time": "2023-03-27T17:08:58.347Z"
   },
   {
    "duration": 1570,
    "start_time": "2023-03-27T17:09:00.216Z"
   },
   {
    "duration": 0,
    "start_time": "2023-03-27T17:09:01.788Z"
   },
   {
    "duration": 50,
    "start_time": "2023-03-27T17:09:16.957Z"
   },
   {
    "duration": 8,
    "start_time": "2023-03-27T17:09:27.055Z"
   },
   {
    "duration": 90,
    "start_time": "2023-03-27T17:17:26.638Z"
   },
   {
    "duration": 1335,
    "start_time": "2023-03-27T17:17:38.442Z"
   },
   {
    "duration": 480,
    "start_time": "2023-03-27T17:17:39.780Z"
   },
   {
    "duration": 4,
    "start_time": "2023-03-27T17:17:40.262Z"
   },
   {
    "duration": 40,
    "start_time": "2023-03-27T17:17:40.270Z"
   },
   {
    "duration": 53,
    "start_time": "2023-03-27T17:17:40.313Z"
   },
   {
    "duration": 183,
    "start_time": "2023-03-27T17:17:40.368Z"
   },
   {
    "duration": 99,
    "start_time": "2023-03-27T17:17:40.552Z"
   },
   {
    "duration": 126,
    "start_time": "2023-03-27T17:17:40.654Z"
   },
   {
    "duration": 94,
    "start_time": "2023-03-27T17:17:40.782Z"
   },
   {
    "duration": 4,
    "start_time": "2023-03-27T17:17:40.878Z"
   },
   {
    "duration": 29,
    "start_time": "2023-03-27T17:17:40.884Z"
   },
   {
    "duration": 62,
    "start_time": "2023-03-27T17:17:40.915Z"
   },
   {
    "duration": 16,
    "start_time": "2023-03-27T17:17:40.978Z"
   },
   {
    "duration": 27,
    "start_time": "2023-03-27T17:17:40.998Z"
   },
   {
    "duration": 22,
    "start_time": "2023-03-27T17:17:41.042Z"
   },
   {
    "duration": 18,
    "start_time": "2023-03-27T17:17:41.066Z"
   },
   {
    "duration": 57,
    "start_time": "2023-03-27T17:17:41.086Z"
   },
   {
    "duration": 27,
    "start_time": "2023-03-27T17:17:41.147Z"
   },
   {
    "duration": 3,
    "start_time": "2023-03-27T17:17:41.176Z"
   },
   {
    "duration": 31,
    "start_time": "2023-03-27T17:17:41.181Z"
   },
   {
    "duration": 33,
    "start_time": "2023-03-27T17:17:41.214Z"
   },
   {
    "duration": 12,
    "start_time": "2023-03-27T17:17:41.249Z"
   },
   {
    "duration": 14,
    "start_time": "2023-03-27T17:17:41.263Z"
   },
   {
    "duration": 14,
    "start_time": "2023-03-27T17:17:41.279Z"
   },
   {
    "duration": 11,
    "start_time": "2023-03-27T17:17:41.295Z"
   },
   {
    "duration": 48,
    "start_time": "2023-03-27T17:17:41.308Z"
   },
   {
    "duration": 16,
    "start_time": "2023-03-27T17:17:41.358Z"
   },
   {
    "duration": 268,
    "start_time": "2023-03-27T17:17:41.377Z"
   },
   {
    "duration": 10,
    "start_time": "2023-03-27T17:17:41.648Z"
   },
   {
    "duration": 24,
    "start_time": "2023-03-27T17:17:41.660Z"
   },
   {
    "duration": 16,
    "start_time": "2023-03-27T17:17:41.686Z"
   },
   {
    "duration": 13,
    "start_time": "2023-03-27T17:17:41.704Z"
   },
   {
    "duration": 46,
    "start_time": "2023-03-27T17:17:41.718Z"
   },
   {
    "duration": 11,
    "start_time": "2023-03-27T17:17:41.767Z"
   },
   {
    "duration": 11,
    "start_time": "2023-03-27T17:17:41.780Z"
   },
   {
    "duration": 289,
    "start_time": "2023-03-27T17:17:41.793Z"
   },
   {
    "duration": 253,
    "start_time": "2023-03-27T17:17:42.083Z"
   },
   {
    "duration": 295,
    "start_time": "2023-03-27T17:17:42.337Z"
   },
   {
    "duration": 20,
    "start_time": "2023-03-27T17:17:42.641Z"
   },
   {
    "duration": 13,
    "start_time": "2023-03-27T17:17:42.663Z"
   },
   {
    "duration": 225,
    "start_time": "2023-03-27T17:17:42.682Z"
   },
   {
    "duration": 7,
    "start_time": "2023-03-27T17:17:42.909Z"
   },
   {
    "duration": 34,
    "start_time": "2023-03-27T17:17:42.918Z"
   },
   {
    "duration": 10,
    "start_time": "2023-03-27T17:17:42.954Z"
   },
   {
    "duration": 13,
    "start_time": "2023-03-27T17:17:42.966Z"
   },
   {
    "duration": 10,
    "start_time": "2023-03-27T17:17:42.981Z"
   },
   {
    "duration": 11,
    "start_time": "2023-03-27T17:17:42.993Z"
   },
   {
    "duration": 10,
    "start_time": "2023-03-27T17:17:43.006Z"
   },
   {
    "duration": 26,
    "start_time": "2023-03-27T17:17:43.018Z"
   },
   {
    "duration": 7,
    "start_time": "2023-03-27T17:17:43.047Z"
   },
   {
    "duration": 11,
    "start_time": "2023-03-27T17:17:43.057Z"
   },
   {
    "duration": 10,
    "start_time": "2023-03-27T17:17:43.069Z"
   },
   {
    "duration": 9,
    "start_time": "2023-03-27T17:17:43.080Z"
   },
   {
    "duration": 15,
    "start_time": "2023-03-27T17:17:43.090Z"
   },
   {
    "duration": 34,
    "start_time": "2023-03-27T17:17:43.107Z"
   },
   {
    "duration": 12,
    "start_time": "2023-03-27T17:17:43.144Z"
   },
   {
    "duration": 24,
    "start_time": "2023-03-27T17:17:43.159Z"
   },
   {
    "duration": 14,
    "start_time": "2023-03-27T17:17:43.185Z"
   },
   {
    "duration": 17,
    "start_time": "2023-03-27T17:17:43.201Z"
   },
   {
    "duration": 16,
    "start_time": "2023-03-27T17:17:43.241Z"
   },
   {
    "duration": 288,
    "start_time": "2023-03-27T17:17:43.259Z"
   },
   {
    "duration": 13,
    "start_time": "2023-03-27T17:17:43.552Z"
   },
   {
    "duration": 25,
    "start_time": "2023-03-27T17:17:43.567Z"
   },
   {
    "duration": 19,
    "start_time": "2023-03-27T17:17:43.594Z"
   },
   {
    "duration": 9,
    "start_time": "2023-03-27T17:17:43.614Z"
   },
   {
    "duration": 13,
    "start_time": "2023-03-27T17:17:43.643Z"
   },
   {
    "duration": 16,
    "start_time": "2023-03-27T17:17:43.658Z"
   },
   {
    "duration": 10,
    "start_time": "2023-03-27T17:17:43.676Z"
   },
   {
    "duration": 30,
    "start_time": "2023-03-27T17:17:43.687Z"
   },
   {
    "duration": 6,
    "start_time": "2023-03-27T17:17:43.719Z"
   },
   {
    "duration": 10,
    "start_time": "2023-03-27T17:17:43.727Z"
   },
   {
    "duration": 16,
    "start_time": "2023-03-27T17:17:43.739Z"
   },
   {
    "duration": 10,
    "start_time": "2023-03-27T17:17:43.757Z"
   },
   {
    "duration": 16,
    "start_time": "2023-03-27T17:17:43.770Z"
   },
   {
    "duration": 30,
    "start_time": "2023-03-27T17:17:43.788Z"
   },
   {
    "duration": 6,
    "start_time": "2023-03-27T17:17:43.820Z"
   },
   {
    "duration": 18,
    "start_time": "2023-03-27T17:17:43.828Z"
   },
   {
    "duration": 25,
    "start_time": "2023-03-27T17:17:43.848Z"
   },
   {
    "duration": 16,
    "start_time": "2023-03-27T17:17:43.874Z"
   },
   {
    "duration": 12,
    "start_time": "2023-03-27T17:17:43.892Z"
   },
   {
    "duration": 203,
    "start_time": "2023-03-27T17:17:43.906Z"
   },
   {
    "duration": 219,
    "start_time": "2023-03-27T17:17:44.112Z"
   },
   {
    "duration": 309,
    "start_time": "2023-03-27T17:17:44.333Z"
   },
   {
    "duration": 189,
    "start_time": "2023-03-27T17:17:44.645Z"
   },
   {
    "duration": 191,
    "start_time": "2023-03-27T17:17:44.841Z"
   },
   {
    "duration": 229,
    "start_time": "2023-03-27T17:17:45.034Z"
   },
   {
    "duration": 3,
    "start_time": "2023-03-27T17:17:45.265Z"
   },
   {
    "duration": 516,
    "start_time": "2023-03-27T17:17:45.270Z"
   },
   {
    "duration": 3,
    "start_time": "2023-03-27T17:17:45.788Z"
   },
   {
    "duration": 12,
    "start_time": "2023-03-27T17:17:45.793Z"
   },
   {
    "duration": 8,
    "start_time": "2023-03-27T17:17:45.807Z"
   },
   {
    "duration": 9,
    "start_time": "2023-03-27T17:17:45.817Z"
   },
   {
    "duration": 27,
    "start_time": "2023-03-27T17:17:45.827Z"
   },
   {
    "duration": 11,
    "start_time": "2023-03-27T17:17:45.856Z"
   },
   {
    "duration": 7,
    "start_time": "2023-03-27T17:17:45.869Z"
   },
   {
    "duration": 15,
    "start_time": "2023-03-27T17:17:45.878Z"
   },
   {
    "duration": 21,
    "start_time": "2023-03-27T17:17:45.895Z"
   },
   {
    "duration": 6,
    "start_time": "2023-03-27T17:17:45.918Z"
   },
   {
    "duration": 8,
    "start_time": "2023-03-27T17:17:45.926Z"
   },
   {
    "duration": 6,
    "start_time": "2023-03-27T17:17:45.940Z"
   },
   {
    "duration": 7,
    "start_time": "2023-03-27T17:17:45.948Z"
   },
   {
    "duration": 11,
    "start_time": "2023-03-27T17:17:45.957Z"
   },
   {
    "duration": 15,
    "start_time": "2023-03-27T17:17:45.970Z"
   },
   {
    "duration": 4,
    "start_time": "2023-03-27T17:17:45.987Z"
   },
   {
    "duration": 4,
    "start_time": "2023-03-27T17:17:45.993Z"
   },
   {
    "duration": 6,
    "start_time": "2023-03-27T17:17:45.999Z"
   },
   {
    "duration": 13,
    "start_time": "2023-03-27T17:17:46.007Z"
   },
   {
    "duration": 21,
    "start_time": "2023-03-27T17:17:46.022Z"
   },
   {
    "duration": 11,
    "start_time": "2023-03-27T17:17:46.046Z"
   },
   {
    "duration": 9,
    "start_time": "2023-03-27T17:17:46.059Z"
   },
   {
    "duration": 11,
    "start_time": "2023-03-27T17:17:46.070Z"
   },
   {
    "duration": 6,
    "start_time": "2023-03-27T17:17:46.083Z"
   },
   {
    "duration": 17,
    "start_time": "2023-03-27T17:17:46.091Z"
   },
   {
    "duration": 31,
    "start_time": "2023-03-27T17:17:46.110Z"
   },
   {
    "duration": 5,
    "start_time": "2023-03-27T17:17:46.144Z"
   },
   {
    "duration": 5,
    "start_time": "2023-03-27T17:17:46.152Z"
   },
   {
    "duration": 10,
    "start_time": "2023-03-27T17:17:46.159Z"
   },
   {
    "duration": 4,
    "start_time": "2023-03-27T17:17:46.170Z"
   },
   {
    "duration": 53,
    "start_time": "2023-03-27T17:18:52.177Z"
   },
   {
    "duration": 1278,
    "start_time": "2023-03-27T17:18:57.634Z"
   },
   {
    "duration": 543,
    "start_time": "2023-03-27T17:18:58.915Z"
   },
   {
    "duration": 6,
    "start_time": "2023-03-27T17:18:59.460Z"
   },
   {
    "duration": 34,
    "start_time": "2023-03-27T17:18:59.470Z"
   },
   {
    "duration": 41,
    "start_time": "2023-03-27T17:18:59.506Z"
   },
   {
    "duration": 194,
    "start_time": "2023-03-27T17:18:59.549Z"
   },
   {
    "duration": 99,
    "start_time": "2023-03-27T17:18:59.745Z"
   },
   {
    "duration": 120,
    "start_time": "2023-03-27T17:18:59.847Z"
   },
   {
    "duration": 83,
    "start_time": "2023-03-27T17:19:00.381Z"
   },
   {
    "duration": 5,
    "start_time": "2023-03-27T17:19:00.745Z"
   },
   {
    "duration": 26,
    "start_time": "2023-03-27T17:19:01.280Z"
   },
   {
    "duration": 46,
    "start_time": "2023-03-27T17:19:01.485Z"
   },
   {
    "duration": 25,
    "start_time": "2023-03-27T17:19:03.746Z"
   },
   {
    "duration": 27,
    "start_time": "2023-03-27T17:19:04.250Z"
   },
   {
    "duration": 30,
    "start_time": "2023-03-27T17:19:05.741Z"
   },
   {
    "duration": 19,
    "start_time": "2023-03-27T17:19:07.427Z"
   },
   {
    "duration": 36,
    "start_time": "2023-03-27T17:19:07.819Z"
   },
   {
    "duration": 29,
    "start_time": "2023-03-27T17:19:09.401Z"
   },
   {
    "duration": 4,
    "start_time": "2023-03-27T17:19:11.335Z"
   },
   {
    "duration": 31,
    "start_time": "2023-03-27T17:19:11.929Z"
   },
   {
    "duration": 7,
    "start_time": "2023-03-27T17:19:17.485Z"
   },
   {
    "duration": 15,
    "start_time": "2023-03-27T17:19:29.174Z"
   },
   {
    "duration": 5,
    "start_time": "2023-03-27T17:20:56.114Z"
   },
   {
    "duration": 12,
    "start_time": "2023-03-27T17:20:58.195Z"
   },
   {
    "duration": 71,
    "start_time": "2023-03-27T17:23:27.444Z"
   },
   {
    "duration": 70,
    "start_time": "2023-03-27T17:25:30.252Z"
   },
   {
    "duration": 11,
    "start_time": "2023-03-27T17:26:29.483Z"
   },
   {
    "duration": 11,
    "start_time": "2023-03-27T17:26:36.807Z"
   },
   {
    "duration": 5,
    "start_time": "2023-03-27T17:26:38.811Z"
   },
   {
    "duration": 31,
    "start_time": "2023-03-27T17:26:41.296Z"
   },
   {
    "duration": 12,
    "start_time": "2023-03-27T17:26:42.805Z"
   },
   {
    "duration": 1441,
    "start_time": "2023-03-28T10:42:49.892Z"
   },
   {
    "duration": 1183,
    "start_time": "2023-03-28T10:42:51.335Z"
   },
   {
    "duration": 3,
    "start_time": "2023-03-28T10:42:52.519Z"
   },
   {
    "duration": 39,
    "start_time": "2023-03-28T10:42:52.524Z"
   },
   {
    "duration": 21,
    "start_time": "2023-03-28T10:42:52.565Z"
   },
   {
    "duration": 159,
    "start_time": "2023-03-28T10:42:52.588Z"
   },
   {
    "duration": 88,
    "start_time": "2023-03-28T10:42:52.749Z"
   },
   {
    "duration": 118,
    "start_time": "2023-03-28T10:42:52.839Z"
   },
   {
    "duration": 91,
    "start_time": "2023-03-28T10:42:52.958Z"
   },
   {
    "duration": 4,
    "start_time": "2023-03-28T10:42:53.052Z"
   },
   {
    "duration": 40,
    "start_time": "2023-03-28T10:42:53.057Z"
   },
   {
    "duration": 38,
    "start_time": "2023-03-28T10:42:53.099Z"
   },
   {
    "duration": 16,
    "start_time": "2023-03-28T10:42:53.138Z"
   },
   {
    "duration": 25,
    "start_time": "2023-03-28T10:42:53.174Z"
   },
   {
    "duration": 18,
    "start_time": "2023-03-28T10:42:53.201Z"
   },
   {
    "duration": 21,
    "start_time": "2023-03-28T10:42:53.220Z"
   },
   {
    "duration": 50,
    "start_time": "2023-03-28T10:42:53.242Z"
   },
   {
    "duration": 20,
    "start_time": "2023-03-28T10:42:53.293Z"
   },
   {
    "duration": 14,
    "start_time": "2023-03-28T10:42:53.315Z"
   },
   {
    "duration": 38,
    "start_time": "2023-03-28T10:42:53.330Z"
   },
   {
    "duration": 5,
    "start_time": "2023-03-28T10:42:53.375Z"
   },
   {
    "duration": 15,
    "start_time": "2023-03-28T10:42:53.382Z"
   },
   {
    "duration": 15,
    "start_time": "2023-03-28T10:42:53.399Z"
   },
   {
    "duration": 20,
    "start_time": "2023-03-28T10:42:53.416Z"
   },
   {
    "duration": 33,
    "start_time": "2023-03-28T10:42:53.438Z"
   },
   {
    "duration": 11,
    "start_time": "2023-03-28T10:42:53.473Z"
   },
   {
    "duration": 7,
    "start_time": "2023-03-28T10:42:53.486Z"
   },
   {
    "duration": 31,
    "start_time": "2023-03-28T10:42:53.498Z"
   },
   {
    "duration": 12,
    "start_time": "2023-03-28T10:42:53.531Z"
   },
   {
    "duration": 212,
    "start_time": "2023-03-28T10:42:53.544Z"
   },
   {
    "duration": 7,
    "start_time": "2023-03-28T10:42:53.757Z"
   },
   {
    "duration": 14,
    "start_time": "2023-03-28T10:42:53.775Z"
   },
   {
    "duration": 11,
    "start_time": "2023-03-28T10:42:53.791Z"
   },
   {
    "duration": 9,
    "start_time": "2023-03-28T10:42:53.804Z"
   },
   {
    "duration": 32,
    "start_time": "2023-03-28T10:42:53.814Z"
   },
   {
    "duration": 12,
    "start_time": "2023-03-28T10:42:53.848Z"
   },
   {
    "duration": 26,
    "start_time": "2023-03-28T10:42:53.862Z"
   },
   {
    "duration": 255,
    "start_time": "2023-03-28T10:42:53.890Z"
   },
   {
    "duration": 295,
    "start_time": "2023-03-28T10:42:54.147Z"
   },
   {
    "duration": 253,
    "start_time": "2023-03-28T10:42:54.444Z"
   },
   {
    "duration": 12,
    "start_time": "2023-03-28T10:42:54.699Z"
   },
   {
    "duration": 13,
    "start_time": "2023-03-28T10:42:54.712Z"
   },
   {
    "duration": 223,
    "start_time": "2023-03-28T10:42:54.728Z"
   },
   {
    "duration": 6,
    "start_time": "2023-03-28T10:42:54.953Z"
   },
   {
    "duration": 61,
    "start_time": "2023-03-28T10:42:54.960Z"
   },
   {
    "duration": 58,
    "start_time": "2023-03-28T10:42:55.022Z"
   },
   {
    "duration": 42,
    "start_time": "2023-03-28T10:42:55.081Z"
   },
   {
    "duration": 18,
    "start_time": "2023-03-28T10:42:55.125Z"
   },
   {
    "duration": 11,
    "start_time": "2023-03-28T10:42:55.145Z"
   },
   {
    "duration": 21,
    "start_time": "2023-03-28T10:42:55.157Z"
   },
   {
    "duration": 26,
    "start_time": "2023-03-28T10:42:55.179Z"
   },
   {
    "duration": 32,
    "start_time": "2023-03-28T10:42:55.206Z"
   },
   {
    "duration": 19,
    "start_time": "2023-03-28T10:42:55.240Z"
   },
   {
    "duration": 13,
    "start_time": "2023-03-28T10:42:55.260Z"
   },
   {
    "duration": 12,
    "start_time": "2023-03-28T10:42:55.274Z"
   },
   {
    "duration": 13,
    "start_time": "2023-03-28T10:42:55.288Z"
   },
   {
    "duration": 19,
    "start_time": "2023-03-28T10:42:55.303Z"
   },
   {
    "duration": 46,
    "start_time": "2023-03-28T10:42:55.324Z"
   },
   {
    "duration": 39,
    "start_time": "2023-03-28T10:42:55.372Z"
   },
   {
    "duration": 25,
    "start_time": "2023-03-28T10:42:55.413Z"
   },
   {
    "duration": 33,
    "start_time": "2023-03-28T10:42:55.440Z"
   },
   {
    "duration": 22,
    "start_time": "2023-03-28T10:42:55.475Z"
   },
   {
    "duration": 231,
    "start_time": "2023-03-28T10:42:55.499Z"
   },
   {
    "duration": 7,
    "start_time": "2023-03-28T10:42:55.732Z"
   },
   {
    "duration": 29,
    "start_time": "2023-03-28T10:42:55.741Z"
   },
   {
    "duration": 15,
    "start_time": "2023-03-28T10:42:55.774Z"
   },
   {
    "duration": 20,
    "start_time": "2023-03-28T10:42:55.791Z"
   },
   {
    "duration": 21,
    "start_time": "2023-03-28T10:42:55.813Z"
   },
   {
    "duration": 17,
    "start_time": "2023-03-28T10:42:55.835Z"
   },
   {
    "duration": 7,
    "start_time": "2023-03-28T10:42:55.854Z"
   },
   {
    "duration": 10,
    "start_time": "2023-03-28T10:42:55.863Z"
   },
   {
    "duration": 28,
    "start_time": "2023-03-28T10:42:55.875Z"
   },
   {
    "duration": 15,
    "start_time": "2023-03-28T10:42:55.905Z"
   },
   {
    "duration": 10,
    "start_time": "2023-03-28T10:42:55.922Z"
   },
   {
    "duration": 16,
    "start_time": "2023-03-28T10:42:55.934Z"
   },
   {
    "duration": 24,
    "start_time": "2023-03-28T10:42:55.952Z"
   },
   {
    "duration": 20,
    "start_time": "2023-03-28T10:42:55.978Z"
   },
   {
    "duration": 21,
    "start_time": "2023-03-28T10:42:56.000Z"
   },
   {
    "duration": 20,
    "start_time": "2023-03-28T10:42:56.023Z"
   },
   {
    "duration": 23,
    "start_time": "2023-03-28T10:42:56.045Z"
   },
   {
    "duration": 16,
    "start_time": "2023-03-28T10:42:56.070Z"
   },
   {
    "duration": 2,
    "start_time": "2023-03-28T10:42:56.093Z"
   },
   {
    "duration": 232,
    "start_time": "2023-03-28T10:42:56.097Z"
   },
   {
    "duration": 193,
    "start_time": "2023-03-28T10:42:56.331Z"
   },
   {
    "duration": 257,
    "start_time": "2023-03-28T10:42:56.526Z"
   },
   {
    "duration": 217,
    "start_time": "2023-03-28T10:42:56.784Z"
   },
   {
    "duration": 175,
    "start_time": "2023-03-28T10:42:57.003Z"
   },
   {
    "duration": 204,
    "start_time": "2023-03-28T10:42:57.180Z"
   },
   {
    "duration": 2,
    "start_time": "2023-03-28T10:42:57.386Z"
   },
   {
    "duration": 520,
    "start_time": "2023-03-28T10:42:57.390Z"
   },
   {
    "duration": 3,
    "start_time": "2023-03-28T10:42:57.913Z"
   },
   {
    "duration": 6,
    "start_time": "2023-03-28T10:42:57.918Z"
   },
   {
    "duration": 12,
    "start_time": "2023-03-28T10:42:57.926Z"
   },
   {
    "duration": 8,
    "start_time": "2023-03-28T10:42:57.939Z"
   },
   {
    "duration": 3,
    "start_time": "2023-03-28T10:42:57.949Z"
   },
   {
    "duration": 23,
    "start_time": "2023-03-28T10:42:57.953Z"
   },
   {
    "duration": 9,
    "start_time": "2023-03-28T10:42:57.978Z"
   },
   {
    "duration": 7,
    "start_time": "2023-03-28T10:42:57.989Z"
   },
   {
    "duration": 4,
    "start_time": "2023-03-28T10:42:57.998Z"
   },
   {
    "duration": 11,
    "start_time": "2023-03-28T10:42:58.004Z"
   },
   {
    "duration": 8,
    "start_time": "2023-03-28T10:42:58.016Z"
   },
   {
    "duration": 7,
    "start_time": "2023-03-28T10:42:58.025Z"
   },
   {
    "duration": 24,
    "start_time": "2023-03-28T10:42:58.033Z"
   },
   {
    "duration": 16,
    "start_time": "2023-03-28T10:42:58.059Z"
   },
   {
    "duration": 4,
    "start_time": "2023-03-28T10:42:58.077Z"
   },
   {
    "duration": 6,
    "start_time": "2023-03-28T10:42:58.083Z"
   },
   {
    "duration": 5,
    "start_time": "2023-03-28T10:42:58.091Z"
   },
   {
    "duration": 7,
    "start_time": "2023-03-28T10:42:58.098Z"
   },
   {
    "duration": 6,
    "start_time": "2023-03-28T10:42:58.107Z"
   },
   {
    "duration": 6,
    "start_time": "2023-03-28T10:42:58.115Z"
   },
   {
    "duration": 11,
    "start_time": "2023-03-28T10:42:58.123Z"
   },
   {
    "duration": 8,
    "start_time": "2023-03-28T10:42:58.135Z"
   },
   {
    "duration": 33,
    "start_time": "2023-03-28T10:42:58.145Z"
   },
   {
    "duration": 8,
    "start_time": "2023-03-28T10:42:58.179Z"
   },
   {
    "duration": 5,
    "start_time": "2023-03-28T10:42:58.189Z"
   },
   {
    "duration": 6,
    "start_time": "2023-03-28T10:42:58.195Z"
   },
   {
    "duration": 6,
    "start_time": "2023-03-28T10:42:58.202Z"
   },
   {
    "duration": 5,
    "start_time": "2023-03-28T10:42:58.209Z"
   },
   {
    "duration": 6,
    "start_time": "2023-03-28T10:42:58.215Z"
   },
   {
    "duration": 4,
    "start_time": "2023-03-28T10:42:58.223Z"
   },
   {
    "duration": 106,
    "start_time": "2023-03-28T11:17:31.200Z"
   },
   {
    "duration": 26,
    "start_time": "2023-03-28T11:20:24.522Z"
   },
   {
    "duration": 1209,
    "start_time": "2023-03-28T11:23:03.191Z"
   },
   {
    "duration": 406,
    "start_time": "2023-03-28T11:23:04.402Z"
   },
   {
    "duration": 3,
    "start_time": "2023-03-28T11:23:04.810Z"
   },
   {
    "duration": 32,
    "start_time": "2023-03-28T11:23:04.814Z"
   },
   {
    "duration": 31,
    "start_time": "2023-03-28T11:23:04.849Z"
   },
   {
    "duration": 163,
    "start_time": "2023-03-28T11:23:04.881Z"
   },
   {
    "duration": 85,
    "start_time": "2023-03-28T11:23:05.046Z"
   },
   {
    "duration": 118,
    "start_time": "2023-03-28T11:23:05.132Z"
   },
   {
    "duration": 85,
    "start_time": "2023-03-28T11:23:05.252Z"
   },
   {
    "duration": 4,
    "start_time": "2023-03-28T11:23:05.339Z"
   },
   {
    "duration": 39,
    "start_time": "2023-03-28T11:23:05.344Z"
   },
   {
    "duration": 40,
    "start_time": "2023-03-28T11:23:05.385Z"
   },
   {
    "duration": 15,
    "start_time": "2023-03-28T11:23:05.428Z"
   },
   {
    "duration": 48,
    "start_time": "2023-03-28T11:23:05.447Z"
   },
   {
    "duration": 19,
    "start_time": "2023-03-28T11:23:05.497Z"
   },
   {
    "duration": 18,
    "start_time": "2023-03-28T11:23:05.518Z"
   },
   {
    "duration": 50,
    "start_time": "2023-03-28T11:23:05.538Z"
   },
   {
    "duration": 19,
    "start_time": "2023-03-28T11:23:05.590Z"
   },
   {
    "duration": 4,
    "start_time": "2023-03-28T11:23:05.611Z"
   },
   {
    "duration": 36,
    "start_time": "2023-03-28T11:23:05.616Z"
   },
   {
    "duration": 25,
    "start_time": "2023-03-28T11:23:05.653Z"
   },
   {
    "duration": 12,
    "start_time": "2023-03-28T11:23:05.680Z"
   },
   {
    "duration": 13,
    "start_time": "2023-03-28T11:23:05.694Z"
   },
   {
    "duration": 8,
    "start_time": "2023-03-28T11:23:05.709Z"
   },
   {
    "duration": 12,
    "start_time": "2023-03-28T11:23:05.719Z"
   },
   {
    "duration": 9,
    "start_time": "2023-03-28T11:23:05.732Z"
   },
   {
    "duration": 35,
    "start_time": "2023-03-28T11:23:05.742Z"
   },
   {
    "duration": 39,
    "start_time": "2023-03-28T11:23:05.778Z"
   },
   {
    "duration": 12,
    "start_time": "2023-03-28T11:23:05.819Z"
   },
   {
    "duration": 25,
    "start_time": "2023-03-28T11:23:05.833Z"
   },
   {
    "duration": 206,
    "start_time": "2023-03-28T11:23:05.876Z"
   },
   {
    "duration": 7,
    "start_time": "2023-03-28T11:23:06.084Z"
   },
   {
    "duration": 17,
    "start_time": "2023-03-28T11:23:06.093Z"
   },
   {
    "duration": 10,
    "start_time": "2023-03-28T11:23:06.112Z"
   },
   {
    "duration": 14,
    "start_time": "2023-03-28T11:23:06.123Z"
   },
   {
    "duration": 43,
    "start_time": "2023-03-28T11:23:06.139Z"
   },
   {
    "duration": 29,
    "start_time": "2023-03-28T11:23:06.184Z"
   },
   {
    "duration": 14,
    "start_time": "2023-03-28T11:23:06.216Z"
   },
   {
    "duration": 250,
    "start_time": "2023-03-28T11:23:06.232Z"
   },
   {
    "duration": 244,
    "start_time": "2023-03-28T11:23:06.484Z"
   },
   {
    "duration": 245,
    "start_time": "2023-03-28T11:23:06.733Z"
   },
   {
    "duration": 12,
    "start_time": "2023-03-28T11:23:06.980Z"
   },
   {
    "duration": 12,
    "start_time": "2023-03-28T11:23:06.993Z"
   },
   {
    "duration": 228,
    "start_time": "2023-03-28T11:23:07.006Z"
   },
   {
    "duration": 7,
    "start_time": "2023-03-28T11:23:07.235Z"
   },
   {
    "duration": 16,
    "start_time": "2023-03-28T11:23:07.243Z"
   },
   {
    "duration": 8,
    "start_time": "2023-03-28T11:23:07.276Z"
   },
   {
    "duration": 12,
    "start_time": "2023-03-28T11:23:07.286Z"
   },
   {
    "duration": 30,
    "start_time": "2023-03-28T11:23:07.300Z"
   },
   {
    "duration": 12,
    "start_time": "2023-03-28T11:23:07.332Z"
   },
   {
    "duration": 9,
    "start_time": "2023-03-28T11:23:07.345Z"
   },
   {
    "duration": 12,
    "start_time": "2023-03-28T11:23:07.356Z"
   },
   {
    "duration": 22,
    "start_time": "2023-03-28T11:23:07.369Z"
   },
   {
    "duration": 8,
    "start_time": "2023-03-28T11:23:07.393Z"
   },
   {
    "duration": 8,
    "start_time": "2023-03-28T11:23:07.402Z"
   },
   {
    "duration": 13,
    "start_time": "2023-03-28T11:23:07.411Z"
   },
   {
    "duration": 20,
    "start_time": "2023-03-28T11:23:07.425Z"
   },
   {
    "duration": 19,
    "start_time": "2023-03-28T11:23:07.447Z"
   },
   {
    "duration": 9,
    "start_time": "2023-03-28T11:23:07.468Z"
   },
   {
    "duration": 30,
    "start_time": "2023-03-28T11:23:07.478Z"
   },
   {
    "duration": 11,
    "start_time": "2023-03-28T11:23:07.511Z"
   },
   {
    "duration": 12,
    "start_time": "2023-03-28T11:23:07.524Z"
   },
   {
    "duration": 10,
    "start_time": "2023-03-28T11:23:07.538Z"
   },
   {
    "duration": 225,
    "start_time": "2023-03-28T11:23:07.550Z"
   },
   {
    "duration": 6,
    "start_time": "2023-03-28T11:23:07.777Z"
   },
   {
    "duration": 16,
    "start_time": "2023-03-28T11:23:07.785Z"
   },
   {
    "duration": 17,
    "start_time": "2023-03-28T11:23:07.803Z"
   },
   {
    "duration": 10,
    "start_time": "2023-03-28T11:23:07.821Z"
   },
   {
    "duration": 10,
    "start_time": "2023-03-28T11:23:07.833Z"
   },
   {
    "duration": 33,
    "start_time": "2023-03-28T11:23:07.844Z"
   },
   {
    "duration": 6,
    "start_time": "2023-03-28T11:23:07.879Z"
   },
   {
    "duration": 6,
    "start_time": "2023-03-28T11:23:07.886Z"
   },
   {
    "duration": 8,
    "start_time": "2023-03-28T11:23:07.893Z"
   },
   {
    "duration": 10,
    "start_time": "2023-03-28T11:23:07.903Z"
   },
   {
    "duration": 17,
    "start_time": "2023-03-28T11:23:07.915Z"
   },
   {
    "duration": 15,
    "start_time": "2023-03-28T11:23:07.934Z"
   },
   {
    "duration": 27,
    "start_time": "2023-03-28T11:23:07.951Z"
   },
   {
    "duration": 12,
    "start_time": "2023-03-28T11:23:07.980Z"
   },
   {
    "duration": 6,
    "start_time": "2023-03-28T11:23:07.994Z"
   },
   {
    "duration": 10,
    "start_time": "2023-03-28T11:23:08.002Z"
   },
   {
    "duration": 16,
    "start_time": "2023-03-28T11:23:08.014Z"
   },
   {
    "duration": 13,
    "start_time": "2023-03-28T11:23:08.032Z"
   },
   {
    "duration": 5,
    "start_time": "2023-03-28T11:23:08.047Z"
   },
   {
    "duration": 222,
    "start_time": "2023-03-28T11:23:08.053Z"
   },
   {
    "duration": 199,
    "start_time": "2023-03-28T11:23:08.276Z"
   },
   {
    "duration": 257,
    "start_time": "2023-03-28T11:23:08.477Z"
   },
   {
    "duration": 211,
    "start_time": "2023-03-28T11:23:08.736Z"
   },
   {
    "duration": 181,
    "start_time": "2023-03-28T11:23:08.949Z"
   },
   {
    "duration": 210,
    "start_time": "2023-03-28T11:23:09.132Z"
   },
   {
    "duration": 3,
    "start_time": "2023-03-28T11:23:09.344Z"
   },
   {
    "duration": 489,
    "start_time": "2023-03-28T11:23:09.349Z"
   },
   {
    "duration": 3,
    "start_time": "2023-03-28T11:23:09.841Z"
   },
   {
    "duration": 11,
    "start_time": "2023-03-28T11:23:09.846Z"
   },
   {
    "duration": 19,
    "start_time": "2023-03-28T11:23:09.859Z"
   },
   {
    "duration": 6,
    "start_time": "2023-03-28T11:23:09.880Z"
   },
   {
    "duration": 5,
    "start_time": "2023-03-28T11:23:09.888Z"
   },
   {
    "duration": 11,
    "start_time": "2023-03-28T11:23:09.895Z"
   },
   {
    "duration": 10,
    "start_time": "2023-03-28T11:23:09.907Z"
   },
   {
    "duration": 6,
    "start_time": "2023-03-28T11:23:09.919Z"
   },
   {
    "duration": 5,
    "start_time": "2023-03-28T11:23:09.927Z"
   },
   {
    "duration": 10,
    "start_time": "2023-03-28T11:23:09.934Z"
   },
   {
    "duration": 31,
    "start_time": "2023-03-28T11:23:09.945Z"
   },
   {
    "duration": 5,
    "start_time": "2023-03-28T11:23:09.978Z"
   },
   {
    "duration": 12,
    "start_time": "2023-03-28T11:23:09.985Z"
   },
   {
    "duration": 24,
    "start_time": "2023-03-28T11:23:09.999Z"
   },
   {
    "duration": 11,
    "start_time": "2023-03-28T11:23:10.025Z"
   },
   {
    "duration": 15,
    "start_time": "2023-03-28T11:23:10.038Z"
   },
   {
    "duration": 6,
    "start_time": "2023-03-28T11:23:10.055Z"
   },
   {
    "duration": 10,
    "start_time": "2023-03-28T11:23:10.062Z"
   },
   {
    "duration": 25,
    "start_time": "2023-03-28T11:23:10.073Z"
   },
   {
    "duration": 9,
    "start_time": "2023-03-28T11:23:10.100Z"
   },
   {
    "duration": 14,
    "start_time": "2023-03-28T11:23:10.110Z"
   },
   {
    "duration": 8,
    "start_time": "2023-03-28T11:23:10.126Z"
   },
   {
    "duration": 8,
    "start_time": "2023-03-28T11:23:10.136Z"
   },
   {
    "duration": 9,
    "start_time": "2023-03-28T11:23:10.146Z"
   },
   {
    "duration": 5,
    "start_time": "2023-03-28T11:23:10.157Z"
   },
   {
    "duration": 5,
    "start_time": "2023-03-28T11:23:10.164Z"
   },
   {
    "duration": 7,
    "start_time": "2023-03-28T11:23:10.171Z"
   },
   {
    "duration": 4,
    "start_time": "2023-03-28T11:23:10.180Z"
   },
   {
    "duration": 6,
    "start_time": "2023-03-28T11:23:10.186Z"
   },
   {
    "duration": 8,
    "start_time": "2023-03-28T11:23:10.193Z"
   },
   {
    "duration": 112,
    "start_time": "2023-03-28T11:24:46.244Z"
   },
   {
    "duration": 12,
    "start_time": "2023-03-28T11:24:50.878Z"
   },
   {
    "duration": 13,
    "start_time": "2023-03-28T11:25:03.639Z"
   },
   {
    "duration": 19,
    "start_time": "2023-03-28T11:25:09.313Z"
   },
   {
    "duration": 20,
    "start_time": "2023-03-28T11:25:52.025Z"
   },
   {
    "duration": 92,
    "start_time": "2023-03-28T11:26:07.157Z"
   },
   {
    "duration": 20,
    "start_time": "2023-03-28T11:26:14.654Z"
   },
   {
    "duration": 12,
    "start_time": "2023-03-28T11:27:53.194Z"
   },
   {
    "duration": 6,
    "start_time": "2023-03-28T11:28:13.940Z"
   },
   {
    "duration": 7,
    "start_time": "2023-03-28T11:28:20.906Z"
   },
   {
    "duration": 9,
    "start_time": "2023-03-28T11:28:30.645Z"
   },
   {
    "duration": 35,
    "start_time": "2023-03-28T11:31:23.797Z"
   },
   {
    "duration": 44,
    "start_time": "2023-03-28T11:31:26.265Z"
   },
   {
    "duration": 1289,
    "start_time": "2023-03-28T11:31:35.138Z"
   },
   {
    "duration": 423,
    "start_time": "2023-03-28T11:31:36.429Z"
   },
   {
    "duration": 4,
    "start_time": "2023-03-28T11:31:36.853Z"
   },
   {
    "duration": 28,
    "start_time": "2023-03-28T11:31:36.859Z"
   },
   {
    "duration": 21,
    "start_time": "2023-03-28T11:31:36.889Z"
   },
   {
    "duration": 176,
    "start_time": "2023-03-28T11:31:36.912Z"
   },
   {
    "duration": 87,
    "start_time": "2023-03-28T11:31:37.089Z"
   },
   {
    "duration": 118,
    "start_time": "2023-03-28T11:31:37.178Z"
   },
   {
    "duration": 89,
    "start_time": "2023-03-28T11:31:37.297Z"
   },
   {
    "duration": 4,
    "start_time": "2023-03-28T11:31:37.389Z"
   },
   {
    "duration": 42,
    "start_time": "2023-03-28T11:31:37.396Z"
   },
   {
    "duration": 48,
    "start_time": "2023-03-28T11:31:37.440Z"
   },
   {
    "duration": 16,
    "start_time": "2023-03-28T11:31:37.489Z"
   },
   {
    "duration": 25,
    "start_time": "2023-03-28T11:31:37.507Z"
   },
   {
    "duration": 42,
    "start_time": "2023-03-28T11:31:37.534Z"
   },
   {
    "duration": 18,
    "start_time": "2023-03-28T11:31:37.578Z"
   },
   {
    "duration": 31,
    "start_time": "2023-03-28T11:31:37.598Z"
   },
   {
    "duration": 45,
    "start_time": "2023-03-28T11:31:37.631Z"
   },
   {
    "duration": 4,
    "start_time": "2023-03-28T11:31:37.678Z"
   },
   {
    "duration": 36,
    "start_time": "2023-03-28T11:31:37.683Z"
   },
   {
    "duration": 6,
    "start_time": "2023-03-28T11:31:37.720Z"
   },
   {
    "duration": 16,
    "start_time": "2023-03-28T11:31:37.729Z"
   },
   {
    "duration": 36,
    "start_time": "2023-03-28T11:31:37.747Z"
   },
   {
    "duration": 20,
    "start_time": "2023-03-28T11:31:37.785Z"
   },
   {
    "duration": 24,
    "start_time": "2023-03-28T11:31:37.807Z"
   },
   {
    "duration": 25,
    "start_time": "2023-03-28T11:31:37.834Z"
   },
   {
    "duration": 27,
    "start_time": "2023-03-28T11:31:37.861Z"
   },
   {
    "duration": 6,
    "start_time": "2023-03-28T11:31:37.895Z"
   },
   {
    "duration": 35,
    "start_time": "2023-03-28T11:31:37.903Z"
   },
   {
    "duration": 12,
    "start_time": "2023-03-28T11:31:37.940Z"
   },
   {
    "duration": 40,
    "start_time": "2023-03-28T11:31:37.953Z"
   },
   {
    "duration": 202,
    "start_time": "2023-03-28T11:31:37.994Z"
   },
   {
    "duration": 8,
    "start_time": "2023-03-28T11:31:38.198Z"
   },
   {
    "duration": 18,
    "start_time": "2023-03-28T11:31:38.208Z"
   },
   {
    "duration": 18,
    "start_time": "2023-03-28T11:31:38.227Z"
   },
   {
    "duration": 27,
    "start_time": "2023-03-28T11:31:38.248Z"
   },
   {
    "duration": 20,
    "start_time": "2023-03-28T11:31:38.277Z"
   },
   {
    "duration": 15,
    "start_time": "2023-03-28T11:31:38.299Z"
   },
   {
    "duration": 12,
    "start_time": "2023-03-28T11:31:38.315Z"
   },
   {
    "duration": 268,
    "start_time": "2023-03-28T11:31:38.329Z"
   },
   {
    "duration": 238,
    "start_time": "2023-03-28T11:31:38.599Z"
   },
   {
    "duration": 254,
    "start_time": "2023-03-28T11:31:38.839Z"
   },
   {
    "duration": 12,
    "start_time": "2023-03-28T11:31:39.094Z"
   },
   {
    "duration": 10,
    "start_time": "2023-03-28T11:31:39.108Z"
   },
   {
    "duration": 239,
    "start_time": "2023-03-28T11:31:39.120Z"
   },
   {
    "duration": 7,
    "start_time": "2023-03-28T11:31:39.360Z"
   },
   {
    "duration": 17,
    "start_time": "2023-03-28T11:31:39.376Z"
   },
   {
    "duration": 12,
    "start_time": "2023-03-28T11:31:39.395Z"
   },
   {
    "duration": 13,
    "start_time": "2023-03-28T11:31:39.409Z"
   },
   {
    "duration": 11,
    "start_time": "2023-03-28T11:31:39.424Z"
   },
   {
    "duration": 8,
    "start_time": "2023-03-28T11:31:39.437Z"
   },
   {
    "duration": 27,
    "start_time": "2023-03-28T11:31:39.448Z"
   },
   {
    "duration": 8,
    "start_time": "2023-03-28T11:31:39.477Z"
   },
   {
    "duration": 8,
    "start_time": "2023-03-28T11:31:39.486Z"
   },
   {
    "duration": 11,
    "start_time": "2023-03-28T11:31:39.496Z"
   },
   {
    "duration": 14,
    "start_time": "2023-03-28T11:31:39.509Z"
   },
   {
    "duration": 17,
    "start_time": "2023-03-28T11:31:39.525Z"
   },
   {
    "duration": 17,
    "start_time": "2023-03-28T11:31:39.544Z"
   },
   {
    "duration": 18,
    "start_time": "2023-03-28T11:31:39.563Z"
   },
   {
    "duration": 11,
    "start_time": "2023-03-28T11:31:39.583Z"
   },
   {
    "duration": 24,
    "start_time": "2023-03-28T11:31:39.596Z"
   },
   {
    "duration": 13,
    "start_time": "2023-03-28T11:31:39.622Z"
   },
   {
    "duration": 19,
    "start_time": "2023-03-28T11:31:39.637Z"
   },
   {
    "duration": 27,
    "start_time": "2023-03-28T11:31:39.658Z"
   },
   {
    "duration": 246,
    "start_time": "2023-03-28T11:31:39.686Z"
   },
   {
    "duration": 6,
    "start_time": "2023-03-28T11:31:39.934Z"
   },
   {
    "duration": 21,
    "start_time": "2023-03-28T11:31:39.942Z"
   },
   {
    "duration": 15,
    "start_time": "2023-03-28T11:31:39.974Z"
   },
   {
    "duration": 10,
    "start_time": "2023-03-28T11:31:39.991Z"
   },
   {
    "duration": 11,
    "start_time": "2023-03-28T11:31:40.003Z"
   },
   {
    "duration": 21,
    "start_time": "2023-03-28T11:31:40.016Z"
   },
   {
    "duration": 9,
    "start_time": "2023-03-28T11:31:40.039Z"
   },
   {
    "duration": 25,
    "start_time": "2023-03-28T11:31:40.050Z"
   },
   {
    "duration": 19,
    "start_time": "2023-03-28T11:31:40.077Z"
   },
   {
    "duration": 11,
    "start_time": "2023-03-28T11:31:40.098Z"
   },
   {
    "duration": 11,
    "start_time": "2023-03-28T11:31:40.111Z"
   },
   {
    "duration": 9,
    "start_time": "2023-03-28T11:31:40.123Z"
   },
   {
    "duration": 16,
    "start_time": "2023-03-28T11:31:40.133Z"
   },
   {
    "duration": 25,
    "start_time": "2023-03-28T11:31:40.150Z"
   },
   {
    "duration": 6,
    "start_time": "2023-03-28T11:31:40.177Z"
   },
   {
    "duration": 16,
    "start_time": "2023-03-28T11:31:40.185Z"
   },
   {
    "duration": 16,
    "start_time": "2023-03-28T11:31:40.208Z"
   },
   {
    "duration": 14,
    "start_time": "2023-03-28T11:31:40.226Z"
   },
   {
    "duration": 10,
    "start_time": "2023-03-28T11:31:40.242Z"
   },
   {
    "duration": 246,
    "start_time": "2023-03-28T11:31:40.254Z"
   },
   {
    "duration": 198,
    "start_time": "2023-03-28T11:31:40.502Z"
   },
   {
    "duration": 274,
    "start_time": "2023-03-28T11:31:40.701Z"
   },
   {
    "duration": 213,
    "start_time": "2023-03-28T11:31:40.977Z"
   },
   {
    "duration": 190,
    "start_time": "2023-03-28T11:31:41.192Z"
   },
   {
    "duration": 220,
    "start_time": "2023-03-28T11:31:41.383Z"
   },
   {
    "duration": 2,
    "start_time": "2023-03-28T11:31:41.605Z"
   },
   {
    "duration": 488,
    "start_time": "2023-03-28T11:31:41.609Z"
   },
   {
    "duration": 3,
    "start_time": "2023-03-28T11:31:42.099Z"
   },
   {
    "duration": 10,
    "start_time": "2023-03-28T11:31:42.104Z"
   },
   {
    "duration": 8,
    "start_time": "2023-03-28T11:31:42.116Z"
   },
   {
    "duration": 10,
    "start_time": "2023-03-28T11:31:42.126Z"
   },
   {
    "duration": 7,
    "start_time": "2023-03-28T11:31:42.137Z"
   },
   {
    "duration": 28,
    "start_time": "2023-03-28T11:31:42.146Z"
   },
   {
    "duration": 6,
    "start_time": "2023-03-28T11:31:42.177Z"
   },
   {
    "duration": 12,
    "start_time": "2023-03-28T11:31:42.185Z"
   },
   {
    "duration": 5,
    "start_time": "2023-03-28T11:31:42.199Z"
   },
   {
    "duration": 8,
    "start_time": "2023-03-28T11:31:42.206Z"
   },
   {
    "duration": 8,
    "start_time": "2023-03-28T11:31:42.216Z"
   },
   {
    "duration": 5,
    "start_time": "2023-03-28T11:31:42.226Z"
   },
   {
    "duration": 43,
    "start_time": "2023-03-28T11:31:42.233Z"
   },
   {
    "duration": 6,
    "start_time": "2023-03-28T11:31:42.278Z"
   },
   {
    "duration": 7,
    "start_time": "2023-03-28T11:31:42.286Z"
   },
   {
    "duration": 10,
    "start_time": "2023-03-28T11:31:42.295Z"
   },
   {
    "duration": 12,
    "start_time": "2023-03-28T11:31:42.307Z"
   },
   {
    "duration": 7,
    "start_time": "2023-03-28T11:31:42.321Z"
   },
   {
    "duration": 7,
    "start_time": "2023-03-28T11:31:42.330Z"
   },
   {
    "duration": 7,
    "start_time": "2023-03-28T11:31:42.339Z"
   },
   {
    "duration": 27,
    "start_time": "2023-03-28T11:31:42.348Z"
   },
   {
    "duration": 12,
    "start_time": "2023-03-28T11:31:42.377Z"
   },
   {
    "duration": 6,
    "start_time": "2023-03-28T11:31:42.391Z"
   },
   {
    "duration": 17,
    "start_time": "2023-03-28T11:31:42.400Z"
   },
   {
    "duration": 10,
    "start_time": "2023-03-28T11:31:42.419Z"
   },
   {
    "duration": 12,
    "start_time": "2023-03-28T11:31:42.431Z"
   },
   {
    "duration": 7,
    "start_time": "2023-03-28T11:31:42.445Z"
   },
   {
    "duration": 9,
    "start_time": "2023-03-28T11:31:42.453Z"
   },
   {
    "duration": 14,
    "start_time": "2023-03-28T11:31:42.464Z"
   },
   {
    "duration": 6,
    "start_time": "2023-03-28T11:31:42.480Z"
   },
   {
    "duration": 77,
    "start_time": "2023-03-28T11:32:56.265Z"
   },
   {
    "duration": 92,
    "start_time": "2023-03-28T11:33:01.916Z"
   },
   {
    "duration": 39,
    "start_time": "2023-03-28T11:34:13.219Z"
   },
   {
    "duration": 45,
    "start_time": "2023-03-28T11:34:18.499Z"
   },
   {
    "duration": 53,
    "start_time": "2023-03-28T11:34:52.844Z"
   },
   {
    "duration": 4,
    "start_time": "2023-03-28T11:34:58.558Z"
   },
   {
    "duration": 57,
    "start_time": "2023-03-28T11:34:59.898Z"
   },
   {
    "duration": 60,
    "start_time": "2023-03-28T11:36:33.930Z"
   },
   {
    "duration": 121,
    "start_time": "2023-03-28T11:46:39.371Z"
   },
   {
    "duration": 5,
    "start_time": "2023-03-28T11:46:49.723Z"
   },
   {
    "duration": 16,
    "start_time": "2023-03-28T11:46:51.321Z"
   },
   {
    "duration": 1325,
    "start_time": "2023-03-28T11:47:04.958Z"
   },
   {
    "duration": 452,
    "start_time": "2023-03-28T11:47:06.285Z"
   },
   {
    "duration": 3,
    "start_time": "2023-03-28T11:47:06.739Z"
   },
   {
    "duration": 41,
    "start_time": "2023-03-28T11:47:06.745Z"
   },
   {
    "duration": 31,
    "start_time": "2023-03-28T11:47:06.788Z"
   },
   {
    "duration": 195,
    "start_time": "2023-03-28T11:47:06.821Z"
   },
   {
    "duration": 98,
    "start_time": "2023-03-28T11:47:07.018Z"
   },
   {
    "duration": 129,
    "start_time": "2023-03-28T11:47:07.119Z"
   },
   {
    "duration": 87,
    "start_time": "2023-03-28T11:47:07.250Z"
   },
   {
    "duration": 4,
    "start_time": "2023-03-28T11:47:07.340Z"
   },
   {
    "duration": 41,
    "start_time": "2023-03-28T11:47:07.346Z"
   },
   {
    "duration": 44,
    "start_time": "2023-03-28T11:47:07.389Z"
   },
   {
    "duration": 15,
    "start_time": "2023-03-28T11:47:07.435Z"
   },
   {
    "duration": 39,
    "start_time": "2023-03-28T11:47:07.452Z"
   },
   {
    "duration": 20,
    "start_time": "2023-03-28T11:47:07.493Z"
   },
   {
    "duration": 18,
    "start_time": "2023-03-28T11:47:07.515Z"
   },
   {
    "duration": 55,
    "start_time": "2023-03-28T11:47:07.535Z"
   },
   {
    "duration": 22,
    "start_time": "2023-03-28T11:47:07.591Z"
   },
   {
    "duration": 4,
    "start_time": "2023-03-28T11:47:07.615Z"
   },
   {
    "duration": 35,
    "start_time": "2023-03-28T11:47:07.621Z"
   },
   {
    "duration": 6,
    "start_time": "2023-03-28T11:47:07.676Z"
   },
   {
    "duration": 14,
    "start_time": "2023-03-28T11:47:07.684Z"
   },
   {
    "duration": 10,
    "start_time": "2023-03-28T11:47:07.700Z"
   },
   {
    "duration": 12,
    "start_time": "2023-03-28T11:47:07.712Z"
   },
   {
    "duration": 3,
    "start_time": "2023-03-28T11:47:07.726Z"
   },
   {
    "duration": 45,
    "start_time": "2023-03-28T11:47:07.731Z"
   },
   {
    "duration": 15,
    "start_time": "2023-03-28T11:47:07.778Z"
   },
   {
    "duration": 8,
    "start_time": "2023-03-28T11:47:07.800Z"
   },
   {
    "duration": 36,
    "start_time": "2023-03-28T11:47:07.810Z"
   },
   {
    "duration": 30,
    "start_time": "2023-03-28T11:47:07.847Z"
   },
   {
    "duration": 35,
    "start_time": "2023-03-28T11:47:07.878Z"
   },
   {
    "duration": 208,
    "start_time": "2023-03-28T11:47:07.915Z"
   },
   {
    "duration": 7,
    "start_time": "2023-03-28T11:47:08.125Z"
   },
   {
    "duration": 17,
    "start_time": "2023-03-28T11:47:08.134Z"
   },
   {
    "duration": 29,
    "start_time": "2023-03-28T11:47:08.153Z"
   },
   {
    "duration": 11,
    "start_time": "2023-03-28T11:47:08.184Z"
   },
   {
    "duration": 25,
    "start_time": "2023-03-28T11:47:08.197Z"
   },
   {
    "duration": 14,
    "start_time": "2023-03-28T11:47:08.224Z"
   },
   {
    "duration": 36,
    "start_time": "2023-03-28T11:47:08.240Z"
   },
   {
    "duration": 248,
    "start_time": "2023-03-28T11:47:08.278Z"
   },
   {
    "duration": 250,
    "start_time": "2023-03-28T11:47:08.528Z"
   },
   {
    "duration": 261,
    "start_time": "2023-03-28T11:47:08.780Z"
   },
   {
    "duration": 12,
    "start_time": "2023-03-28T11:47:09.043Z"
   },
   {
    "duration": 24,
    "start_time": "2023-03-28T11:47:09.057Z"
   },
   {
    "duration": 228,
    "start_time": "2023-03-28T11:47:09.083Z"
   },
   {
    "duration": 7,
    "start_time": "2023-03-28T11:47:09.312Z"
   },
   {
    "duration": 17,
    "start_time": "2023-03-28T11:47:09.320Z"
   },
   {
    "duration": 22,
    "start_time": "2023-03-28T11:47:09.339Z"
   },
   {
    "duration": 19,
    "start_time": "2023-03-28T11:47:09.363Z"
   },
   {
    "duration": 9,
    "start_time": "2023-03-28T11:47:09.384Z"
   },
   {
    "duration": 15,
    "start_time": "2023-03-28T11:47:09.395Z"
   },
   {
    "duration": 10,
    "start_time": "2023-03-28T11:47:09.412Z"
   },
   {
    "duration": 6,
    "start_time": "2023-03-28T11:47:09.424Z"
   },
   {
    "duration": 6,
    "start_time": "2023-03-28T11:47:09.431Z"
   },
   {
    "duration": 13,
    "start_time": "2023-03-28T11:47:09.439Z"
   },
   {
    "duration": 38,
    "start_time": "2023-03-28T11:47:09.454Z"
   },
   {
    "duration": 11,
    "start_time": "2023-03-28T11:47:09.494Z"
   },
   {
    "duration": 25,
    "start_time": "2023-03-28T11:47:09.507Z"
   },
   {
    "duration": 14,
    "start_time": "2023-03-28T11:47:09.533Z"
   },
   {
    "duration": 21,
    "start_time": "2023-03-28T11:47:09.550Z"
   },
   {
    "duration": 24,
    "start_time": "2023-03-28T11:47:09.573Z"
   },
   {
    "duration": 15,
    "start_time": "2023-03-28T11:47:09.598Z"
   },
   {
    "duration": 14,
    "start_time": "2023-03-28T11:47:09.616Z"
   },
   {
    "duration": 27,
    "start_time": "2023-03-28T11:47:09.632Z"
   },
   {
    "duration": 273,
    "start_time": "2023-03-28T11:47:09.661Z"
   },
   {
    "duration": 7,
    "start_time": "2023-03-28T11:47:09.937Z"
   },
   {
    "duration": 44,
    "start_time": "2023-03-28T11:47:09.946Z"
   },
   {
    "duration": 28,
    "start_time": "2023-03-28T11:47:09.992Z"
   },
   {
    "duration": 22,
    "start_time": "2023-03-28T11:47:10.022Z"
   },
   {
    "duration": 45,
    "start_time": "2023-03-28T11:47:10.046Z"
   },
   {
    "duration": 13,
    "start_time": "2023-03-28T11:47:10.093Z"
   },
   {
    "duration": 6,
    "start_time": "2023-03-28T11:47:10.107Z"
   },
   {
    "duration": 10,
    "start_time": "2023-03-28T11:47:10.115Z"
   },
   {
    "duration": 8,
    "start_time": "2023-03-28T11:47:10.127Z"
   },
   {
    "duration": 12,
    "start_time": "2023-03-28T11:47:10.137Z"
   },
   {
    "duration": 18,
    "start_time": "2023-03-28T11:47:10.150Z"
   },
   {
    "duration": 10,
    "start_time": "2023-03-28T11:47:10.170Z"
   },
   {
    "duration": 14,
    "start_time": "2023-03-28T11:47:10.181Z"
   },
   {
    "duration": 13,
    "start_time": "2023-03-28T11:47:10.197Z"
   },
   {
    "duration": 14,
    "start_time": "2023-03-28T11:47:10.211Z"
   },
   {
    "duration": 12,
    "start_time": "2023-03-28T11:47:10.227Z"
   },
   {
    "duration": 31,
    "start_time": "2023-03-28T11:47:10.246Z"
   },
   {
    "duration": 14,
    "start_time": "2023-03-28T11:47:10.280Z"
   },
   {
    "duration": 5,
    "start_time": "2023-03-28T11:47:10.296Z"
   },
   {
    "duration": 244,
    "start_time": "2023-03-28T11:47:10.303Z"
   },
   {
    "duration": 198,
    "start_time": "2023-03-28T11:47:10.549Z"
   },
   {
    "duration": 280,
    "start_time": "2023-03-28T11:47:10.749Z"
   },
   {
    "duration": 217,
    "start_time": "2023-03-28T11:47:11.031Z"
   },
   {
    "duration": 199,
    "start_time": "2023-03-28T11:47:11.250Z"
   },
   {
    "duration": 218,
    "start_time": "2023-03-28T11:47:11.452Z"
   },
   {
    "duration": 2,
    "start_time": "2023-03-28T11:47:11.675Z"
   },
   {
    "duration": 520,
    "start_time": "2023-03-28T11:47:11.679Z"
   },
   {
    "duration": 3,
    "start_time": "2023-03-28T11:47:12.201Z"
   },
   {
    "duration": 7,
    "start_time": "2023-03-28T11:47:12.206Z"
   },
   {
    "duration": 16,
    "start_time": "2023-03-28T11:47:12.215Z"
   },
   {
    "duration": 6,
    "start_time": "2023-03-28T11:47:12.233Z"
   },
   {
    "duration": 4,
    "start_time": "2023-03-28T11:47:12.240Z"
   },
   {
    "duration": 6,
    "start_time": "2023-03-28T11:47:12.246Z"
   },
   {
    "duration": 25,
    "start_time": "2023-03-28T11:47:12.254Z"
   },
   {
    "duration": 6,
    "start_time": "2023-03-28T11:47:12.281Z"
   },
   {
    "duration": 5,
    "start_time": "2023-03-28T11:47:12.289Z"
   },
   {
    "duration": 6,
    "start_time": "2023-03-28T11:47:12.296Z"
   },
   {
    "duration": 8,
    "start_time": "2023-03-28T11:47:12.304Z"
   },
   {
    "duration": 20,
    "start_time": "2023-03-28T11:47:12.314Z"
   },
   {
    "duration": 6,
    "start_time": "2023-03-28T11:47:12.336Z"
   },
   {
    "duration": 32,
    "start_time": "2023-03-28T11:47:12.344Z"
   },
   {
    "duration": 8,
    "start_time": "2023-03-28T11:47:12.378Z"
   },
   {
    "duration": 4,
    "start_time": "2023-03-28T11:47:12.388Z"
   },
   {
    "duration": 7,
    "start_time": "2023-03-28T11:47:12.394Z"
   },
   {
    "duration": 10,
    "start_time": "2023-03-28T11:47:12.403Z"
   },
   {
    "duration": 10,
    "start_time": "2023-03-28T11:47:12.415Z"
   },
   {
    "duration": 10,
    "start_time": "2023-03-28T11:47:12.427Z"
   },
   {
    "duration": 18,
    "start_time": "2023-03-28T11:47:12.439Z"
   },
   {
    "duration": 17,
    "start_time": "2023-03-28T11:47:12.459Z"
   },
   {
    "duration": 5,
    "start_time": "2023-03-28T11:47:12.478Z"
   },
   {
    "duration": 8,
    "start_time": "2023-03-28T11:47:12.485Z"
   },
   {
    "duration": 10,
    "start_time": "2023-03-28T11:47:12.495Z"
   },
   {
    "duration": 8,
    "start_time": "2023-03-28T11:47:12.507Z"
   },
   {
    "duration": 83,
    "start_time": "2023-03-28T11:47:12.517Z"
   },
   {
    "duration": 23,
    "start_time": "2023-03-28T11:47:12.602Z"
   },
   {
    "duration": 48,
    "start_time": "2023-03-28T11:47:12.627Z"
   },
   {
    "duration": 34,
    "start_time": "2023-03-28T11:47:12.677Z"
   },
   {
    "duration": 1297,
    "start_time": "2023-03-28T11:49:38.557Z"
   },
   {
    "duration": 451,
    "start_time": "2023-03-28T11:49:39.856Z"
   },
   {
    "duration": 4,
    "start_time": "2023-03-28T11:49:40.309Z"
   },
   {
    "duration": 31,
    "start_time": "2023-03-28T11:49:40.315Z"
   },
   {
    "duration": 56,
    "start_time": "2023-03-28T11:49:40.349Z"
   },
   {
    "duration": 193,
    "start_time": "2023-03-28T11:49:40.408Z"
   },
   {
    "duration": 114,
    "start_time": "2023-03-28T11:49:40.602Z"
   },
   {
    "duration": 119,
    "start_time": "2023-03-28T11:49:40.718Z"
   },
   {
    "duration": 99,
    "start_time": "2023-03-28T11:49:40.839Z"
   },
   {
    "duration": 4,
    "start_time": "2023-03-28T11:49:40.940Z"
   },
   {
    "duration": 42,
    "start_time": "2023-03-28T11:49:40.945Z"
   },
   {
    "duration": 50,
    "start_time": "2023-03-28T11:49:40.989Z"
   },
   {
    "duration": 17,
    "start_time": "2023-03-28T11:49:41.041Z"
   },
   {
    "duration": 35,
    "start_time": "2023-03-28T11:49:41.077Z"
   },
   {
    "duration": 20,
    "start_time": "2023-03-28T11:49:41.113Z"
   },
   {
    "duration": 42,
    "start_time": "2023-03-28T11:49:41.135Z"
   },
   {
    "duration": 31,
    "start_time": "2023-03-28T11:49:41.179Z"
   },
   {
    "duration": 20,
    "start_time": "2023-03-28T11:49:41.212Z"
   },
   {
    "duration": 4,
    "start_time": "2023-03-28T11:49:41.234Z"
   },
   {
    "duration": 58,
    "start_time": "2023-03-28T11:49:41.239Z"
   },
   {
    "duration": 5,
    "start_time": "2023-03-28T11:49:41.299Z"
   },
   {
    "duration": 15,
    "start_time": "2023-03-28T11:49:41.306Z"
   },
   {
    "duration": 10,
    "start_time": "2023-03-28T11:49:41.323Z"
   },
   {
    "duration": 46,
    "start_time": "2023-03-28T11:49:41.336Z"
   },
   {
    "duration": 5,
    "start_time": "2023-03-28T11:49:41.384Z"
   },
   {
    "duration": 16,
    "start_time": "2023-03-28T11:49:41.391Z"
   },
   {
    "duration": 10,
    "start_time": "2023-03-28T11:49:41.410Z"
   },
   {
    "duration": 8,
    "start_time": "2023-03-28T11:49:41.422Z"
   },
   {
    "duration": 64,
    "start_time": "2023-03-28T11:49:41.432Z"
   },
   {
    "duration": 14,
    "start_time": "2023-03-28T11:49:41.498Z"
   },
   {
    "duration": 36,
    "start_time": "2023-03-28T11:49:41.514Z"
   },
   {
    "duration": 231,
    "start_time": "2023-03-28T11:49:41.552Z"
   },
   {
    "duration": 7,
    "start_time": "2023-03-28T11:49:41.785Z"
   },
   {
    "duration": 15,
    "start_time": "2023-03-28T11:49:41.793Z"
   },
   {
    "duration": 11,
    "start_time": "2023-03-28T11:49:41.810Z"
   },
   {
    "duration": 9,
    "start_time": "2023-03-28T11:49:41.823Z"
   },
   {
    "duration": 51,
    "start_time": "2023-03-28T11:49:41.834Z"
   },
   {
    "duration": 17,
    "start_time": "2023-03-28T11:49:41.886Z"
   },
   {
    "duration": 12,
    "start_time": "2023-03-28T11:49:41.905Z"
   },
   {
    "duration": 261,
    "start_time": "2023-03-28T11:49:41.919Z"
   },
   {
    "duration": 260,
    "start_time": "2023-03-28T11:49:42.188Z"
   },
   {
    "duration": 257,
    "start_time": "2023-03-28T11:49:42.450Z"
   },
   {
    "duration": 13,
    "start_time": "2023-03-28T11:49:42.709Z"
   },
   {
    "duration": 13,
    "start_time": "2023-03-28T11:49:42.724Z"
   },
   {
    "duration": 239,
    "start_time": "2023-03-28T11:49:42.739Z"
   },
   {
    "duration": 6,
    "start_time": "2023-03-28T11:49:42.980Z"
   },
   {
    "duration": 69,
    "start_time": "2023-03-28T11:49:42.988Z"
   },
   {
    "duration": 11,
    "start_time": "2023-03-28T11:49:43.060Z"
   },
   {
    "duration": 15,
    "start_time": "2023-03-28T11:49:43.073Z"
   },
   {
    "duration": 17,
    "start_time": "2023-03-28T11:49:43.090Z"
   },
   {
    "duration": 7,
    "start_time": "2023-03-28T11:49:43.109Z"
   },
   {
    "duration": 6,
    "start_time": "2023-03-28T11:49:43.118Z"
   },
   {
    "duration": 5,
    "start_time": "2023-03-28T11:49:43.126Z"
   },
   {
    "duration": 6,
    "start_time": "2023-03-28T11:49:43.132Z"
   },
   {
    "duration": 9,
    "start_time": "2023-03-28T11:49:43.139Z"
   },
   {
    "duration": 32,
    "start_time": "2023-03-28T11:49:43.150Z"
   },
   {
    "duration": 9,
    "start_time": "2023-03-28T11:49:43.184Z"
   },
   {
    "duration": 12,
    "start_time": "2023-03-28T11:49:43.194Z"
   },
   {
    "duration": 13,
    "start_time": "2023-03-28T11:49:43.208Z"
   },
   {
    "duration": 5,
    "start_time": "2023-03-28T11:49:43.223Z"
   },
   {
    "duration": 55,
    "start_time": "2023-03-28T11:49:43.230Z"
   },
   {
    "duration": 13,
    "start_time": "2023-03-28T11:49:43.287Z"
   },
   {
    "duration": 12,
    "start_time": "2023-03-28T11:49:43.302Z"
   },
   {
    "duration": 12,
    "start_time": "2023-03-28T11:49:43.315Z"
   },
   {
    "duration": 259,
    "start_time": "2023-03-28T11:49:43.329Z"
   },
   {
    "duration": 7,
    "start_time": "2023-03-28T11:49:43.590Z"
   },
   {
    "duration": 17,
    "start_time": "2023-03-28T11:49:43.598Z"
   },
   {
    "duration": 16,
    "start_time": "2023-03-28T11:49:43.617Z"
   },
   {
    "duration": 17,
    "start_time": "2023-03-28T11:49:43.635Z"
   },
   {
    "duration": 9,
    "start_time": "2023-03-28T11:49:43.676Z"
   },
   {
    "duration": 11,
    "start_time": "2023-03-28T11:49:43.687Z"
   },
   {
    "duration": 6,
    "start_time": "2023-03-28T11:49:43.700Z"
   },
   {
    "duration": 6,
    "start_time": "2023-03-28T11:49:43.707Z"
   },
   {
    "duration": 7,
    "start_time": "2023-03-28T11:49:43.714Z"
   },
   {
    "duration": 7,
    "start_time": "2023-03-28T11:49:43.722Z"
   },
   {
    "duration": 9,
    "start_time": "2023-03-28T11:49:43.730Z"
   },
   {
    "duration": 36,
    "start_time": "2023-03-28T11:49:43.741Z"
   },
   {
    "duration": 12,
    "start_time": "2023-03-28T11:49:43.779Z"
   },
   {
    "duration": 12,
    "start_time": "2023-03-28T11:49:43.793Z"
   },
   {
    "duration": 6,
    "start_time": "2023-03-28T11:49:43.808Z"
   },
   {
    "duration": 9,
    "start_time": "2023-03-28T11:49:43.816Z"
   },
   {
    "duration": 47,
    "start_time": "2023-03-28T11:49:43.827Z"
   },
   {
    "duration": 14,
    "start_time": "2023-03-28T11:49:43.877Z"
   },
   {
    "duration": 4,
    "start_time": "2023-03-28T11:49:43.893Z"
   },
   {
    "duration": 250,
    "start_time": "2023-03-28T11:49:43.898Z"
   },
   {
    "duration": 273,
    "start_time": "2023-03-28T11:49:44.150Z"
   },
   {
    "duration": 300,
    "start_time": "2023-03-28T11:49:44.426Z"
   },
   {
    "duration": 214,
    "start_time": "2023-03-28T11:49:44.728Z"
   },
   {
    "duration": 197,
    "start_time": "2023-03-28T11:49:44.944Z"
   },
   {
    "duration": 222,
    "start_time": "2023-03-28T11:49:45.142Z"
   },
   {
    "duration": 3,
    "start_time": "2023-03-28T11:49:45.374Z"
   },
   {
    "duration": 530,
    "start_time": "2023-03-28T11:49:45.380Z"
   },
   {
    "duration": 3,
    "start_time": "2023-03-28T11:49:45.912Z"
   },
   {
    "duration": 12,
    "start_time": "2023-03-28T11:49:45.917Z"
   },
   {
    "duration": 9,
    "start_time": "2023-03-28T11:49:45.931Z"
   },
   {
    "duration": 7,
    "start_time": "2023-03-28T11:49:45.942Z"
   },
   {
    "duration": 24,
    "start_time": "2023-03-28T11:49:45.951Z"
   },
   {
    "duration": 4,
    "start_time": "2023-03-28T11:49:45.978Z"
   },
   {
    "duration": 27,
    "start_time": "2023-03-28T11:49:45.985Z"
   },
   {
    "duration": 21,
    "start_time": "2023-03-28T11:49:46.014Z"
   },
   {
    "duration": 5,
    "start_time": "2023-03-28T11:49:46.037Z"
   },
   {
    "duration": 10,
    "start_time": "2023-03-28T11:49:46.043Z"
   },
   {
    "duration": 7,
    "start_time": "2023-03-28T11:49:46.055Z"
   },
   {
    "duration": 7,
    "start_time": "2023-03-28T11:49:46.064Z"
   },
   {
    "duration": 5,
    "start_time": "2023-03-28T11:49:46.075Z"
   },
   {
    "duration": 7,
    "start_time": "2023-03-28T11:49:46.082Z"
   },
   {
    "duration": 14,
    "start_time": "2023-03-28T11:49:46.091Z"
   },
   {
    "duration": 7,
    "start_time": "2023-03-28T11:49:46.107Z"
   },
   {
    "duration": 5,
    "start_time": "2023-03-28T11:49:46.116Z"
   },
   {
    "duration": 7,
    "start_time": "2023-03-28T11:49:46.122Z"
   },
   {
    "duration": 9,
    "start_time": "2023-03-28T11:49:46.131Z"
   },
   {
    "duration": 5,
    "start_time": "2023-03-28T11:49:46.142Z"
   },
   {
    "duration": 7,
    "start_time": "2023-03-28T11:49:46.176Z"
   },
   {
    "duration": 11,
    "start_time": "2023-03-28T11:49:46.185Z"
   },
   {
    "duration": 5,
    "start_time": "2023-03-28T11:49:46.198Z"
   },
   {
    "duration": 7,
    "start_time": "2023-03-28T11:49:46.205Z"
   },
   {
    "duration": 8,
    "start_time": "2023-03-28T11:49:46.215Z"
   },
   {
    "duration": 12,
    "start_time": "2023-03-28T11:49:46.225Z"
   },
   {
    "duration": 37,
    "start_time": "2023-03-28T11:49:46.240Z"
   },
   {
    "duration": 10,
    "start_time": "2023-03-28T11:49:46.279Z"
   },
   {
    "duration": 6,
    "start_time": "2023-03-28T11:49:46.291Z"
   },
   {
    "duration": 5,
    "start_time": "2023-03-28T11:49:46.304Z"
   },
   {
    "duration": 1362,
    "start_time": "2023-03-28T11:50:04.446Z"
   },
   {
    "duration": 490,
    "start_time": "2023-03-28T11:50:05.811Z"
   },
   {
    "duration": 4,
    "start_time": "2023-03-28T11:50:06.307Z"
   },
   {
    "duration": 40,
    "start_time": "2023-03-28T11:50:06.313Z"
   },
   {
    "duration": 50,
    "start_time": "2023-03-28T11:50:06.355Z"
   },
   {
    "duration": 204,
    "start_time": "2023-03-28T11:50:06.407Z"
   },
   {
    "duration": 113,
    "start_time": "2023-03-28T11:50:06.612Z"
   },
   {
    "duration": 149,
    "start_time": "2023-03-28T11:50:06.727Z"
   },
   {
    "duration": 80,
    "start_time": "2023-03-28T11:50:06.879Z"
   },
   {
    "duration": 17,
    "start_time": "2023-03-28T11:50:06.961Z"
   },
   {
    "duration": 58,
    "start_time": "2023-03-28T11:50:06.979Z"
   },
   {
    "duration": 58,
    "start_time": "2023-03-28T11:50:07.039Z"
   },
   {
    "duration": 17,
    "start_time": "2023-03-28T11:50:07.098Z"
   },
   {
    "duration": 28,
    "start_time": "2023-03-28T11:50:07.117Z"
   },
   {
    "duration": 41,
    "start_time": "2023-03-28T11:50:07.147Z"
   },
   {
    "duration": 18,
    "start_time": "2023-03-28T11:50:07.190Z"
   },
   {
    "duration": 32,
    "start_time": "2023-03-28T11:50:07.210Z"
   },
   {
    "duration": 47,
    "start_time": "2023-03-28T11:50:07.244Z"
   },
   {
    "duration": 6,
    "start_time": "2023-03-28T11:50:07.293Z"
   },
   {
    "duration": 38,
    "start_time": "2023-03-28T11:50:07.301Z"
   },
   {
    "duration": 6,
    "start_time": "2023-03-28T11:50:07.341Z"
   },
   {
    "duration": 33,
    "start_time": "2023-03-28T11:50:07.349Z"
   },
   {
    "duration": 22,
    "start_time": "2023-03-28T11:50:07.384Z"
   },
   {
    "duration": 19,
    "start_time": "2023-03-28T11:50:07.409Z"
   },
   {
    "duration": 17,
    "start_time": "2023-03-28T11:50:07.430Z"
   },
   {
    "duration": 27,
    "start_time": "2023-03-28T11:50:07.449Z"
   },
   {
    "duration": 16,
    "start_time": "2023-03-28T11:50:07.482Z"
   },
   {
    "duration": 28,
    "start_time": "2023-03-28T11:50:07.500Z"
   },
   {
    "duration": 199,
    "start_time": "2023-03-28T11:50:07.530Z"
   },
   {
    "duration": 12,
    "start_time": "2023-03-28T11:50:07.731Z"
   },
   {
    "duration": 38,
    "start_time": "2023-03-28T11:50:07.745Z"
   },
   {
    "duration": 208,
    "start_time": "2023-03-28T11:50:07.785Z"
   },
   {
    "duration": 8,
    "start_time": "2023-03-28T11:50:07.995Z"
   },
   {
    "duration": 33,
    "start_time": "2023-03-28T11:50:08.005Z"
   },
   {
    "duration": 15,
    "start_time": "2023-03-28T11:50:08.040Z"
   },
   {
    "duration": 27,
    "start_time": "2023-03-28T11:50:08.057Z"
   },
   {
    "duration": 27,
    "start_time": "2023-03-28T11:50:08.086Z"
   },
   {
    "duration": 15,
    "start_time": "2023-03-28T11:50:08.115Z"
   },
   {
    "duration": 12,
    "start_time": "2023-03-28T11:50:08.131Z"
   },
   {
    "duration": 296,
    "start_time": "2023-03-28T11:50:08.144Z"
   },
   {
    "duration": 257,
    "start_time": "2023-03-28T11:50:08.442Z"
   },
   {
    "duration": 267,
    "start_time": "2023-03-28T11:50:08.701Z"
   },
   {
    "duration": 13,
    "start_time": "2023-03-28T11:50:08.970Z"
   },
   {
    "duration": 17,
    "start_time": "2023-03-28T11:50:08.985Z"
   },
   {
    "duration": 230,
    "start_time": "2023-03-28T11:50:09.004Z"
   },
   {
    "duration": 7,
    "start_time": "2023-03-28T11:50:09.235Z"
   },
   {
    "duration": 31,
    "start_time": "2023-03-28T11:50:09.244Z"
   },
   {
    "duration": 17,
    "start_time": "2023-03-28T11:50:09.277Z"
   },
   {
    "duration": 30,
    "start_time": "2023-03-28T11:50:09.296Z"
   },
   {
    "duration": 17,
    "start_time": "2023-03-28T11:50:09.328Z"
   },
   {
    "duration": 7,
    "start_time": "2023-03-28T11:50:09.347Z"
   },
   {
    "duration": 15,
    "start_time": "2023-03-28T11:50:09.355Z"
   },
   {
    "duration": 7,
    "start_time": "2023-03-28T11:50:09.372Z"
   },
   {
    "duration": 5,
    "start_time": "2023-03-28T11:50:09.383Z"
   },
   {
    "duration": 10,
    "start_time": "2023-03-28T11:50:09.390Z"
   },
   {
    "duration": 9,
    "start_time": "2023-03-28T11:50:09.402Z"
   },
   {
    "duration": 14,
    "start_time": "2023-03-28T11:50:09.413Z"
   },
   {
    "duration": 14,
    "start_time": "2023-03-28T11:50:09.429Z"
   },
   {
    "duration": 36,
    "start_time": "2023-03-28T11:50:09.445Z"
   },
   {
    "duration": 5,
    "start_time": "2023-03-28T11:50:09.482Z"
   },
   {
    "duration": 28,
    "start_time": "2023-03-28T11:50:09.489Z"
   },
   {
    "duration": 12,
    "start_time": "2023-03-28T11:50:09.518Z"
   },
   {
    "duration": 27,
    "start_time": "2023-03-28T11:50:09.533Z"
   },
   {
    "duration": 24,
    "start_time": "2023-03-28T11:50:09.562Z"
   },
   {
    "duration": 252,
    "start_time": "2023-03-28T11:50:09.589Z"
   },
   {
    "duration": 9,
    "start_time": "2023-03-28T11:50:09.843Z"
   },
   {
    "duration": 36,
    "start_time": "2023-03-28T11:50:09.853Z"
   },
   {
    "duration": 19,
    "start_time": "2023-03-28T11:50:09.891Z"
   },
   {
    "duration": 13,
    "start_time": "2023-03-28T11:50:09.912Z"
   },
   {
    "duration": 11,
    "start_time": "2023-03-28T11:50:09.927Z"
   },
   {
    "duration": 10,
    "start_time": "2023-03-28T11:50:09.940Z"
   },
   {
    "duration": 6,
    "start_time": "2023-03-28T11:50:09.975Z"
   },
   {
    "duration": 6,
    "start_time": "2023-03-28T11:50:09.983Z"
   },
   {
    "duration": 11,
    "start_time": "2023-03-28T11:50:09.991Z"
   },
   {
    "duration": 17,
    "start_time": "2023-03-28T11:50:10.004Z"
   },
   {
    "duration": 21,
    "start_time": "2023-03-28T11:50:10.023Z"
   },
   {
    "duration": 13,
    "start_time": "2023-03-28T11:50:10.046Z"
   },
   {
    "duration": 14,
    "start_time": "2023-03-28T11:50:10.061Z"
   },
   {
    "duration": 17,
    "start_time": "2023-03-28T11:50:10.077Z"
   },
   {
    "duration": 8,
    "start_time": "2023-03-28T11:50:10.096Z"
   },
   {
    "duration": 10,
    "start_time": "2023-03-28T11:50:10.111Z"
   },
   {
    "duration": 23,
    "start_time": "2023-03-28T11:50:10.123Z"
   },
   {
    "duration": 39,
    "start_time": "2023-03-28T11:50:10.148Z"
   },
   {
    "duration": 3,
    "start_time": "2023-03-28T11:50:10.189Z"
   },
   {
    "duration": 253,
    "start_time": "2023-03-28T11:50:10.194Z"
   },
   {
    "duration": 308,
    "start_time": "2023-03-28T11:50:10.449Z"
   },
   {
    "duration": 234,
    "start_time": "2023-03-28T11:50:10.759Z"
   },
   {
    "duration": 222,
    "start_time": "2023-03-28T11:50:10.995Z"
   },
   {
    "duration": 204,
    "start_time": "2023-03-28T11:50:11.219Z"
   },
   {
    "duration": 214,
    "start_time": "2023-03-28T11:50:11.425Z"
   },
   {
    "duration": 3,
    "start_time": "2023-03-28T11:50:11.641Z"
   },
   {
    "duration": 512,
    "start_time": "2023-03-28T11:50:11.645Z"
   },
   {
    "duration": 5,
    "start_time": "2023-03-28T11:50:12.159Z"
   },
   {
    "duration": 19,
    "start_time": "2023-03-28T11:50:12.177Z"
   },
   {
    "duration": 8,
    "start_time": "2023-03-28T11:50:12.200Z"
   },
   {
    "duration": 8,
    "start_time": "2023-03-28T11:50:12.210Z"
   },
   {
    "duration": 12,
    "start_time": "2023-03-28T11:50:12.221Z"
   },
   {
    "duration": 25,
    "start_time": "2023-03-28T11:50:12.234Z"
   },
   {
    "duration": 13,
    "start_time": "2023-03-28T11:50:12.261Z"
   },
   {
    "duration": 23,
    "start_time": "2023-03-28T11:50:12.276Z"
   },
   {
    "duration": 10,
    "start_time": "2023-03-28T11:50:12.301Z"
   },
   {
    "duration": 6,
    "start_time": "2023-03-28T11:50:12.313Z"
   },
   {
    "duration": 8,
    "start_time": "2023-03-28T11:50:12.321Z"
   },
   {
    "duration": 6,
    "start_time": "2023-03-28T11:50:12.331Z"
   },
   {
    "duration": 7,
    "start_time": "2023-03-28T11:50:12.339Z"
   },
   {
    "duration": 11,
    "start_time": "2023-03-28T11:50:12.347Z"
   },
   {
    "duration": 9,
    "start_time": "2023-03-28T11:50:12.376Z"
   },
   {
    "duration": 10,
    "start_time": "2023-03-28T11:50:12.388Z"
   },
   {
    "duration": 11,
    "start_time": "2023-03-28T11:50:12.401Z"
   },
   {
    "duration": 6,
    "start_time": "2023-03-28T11:50:12.415Z"
   },
   {
    "duration": 6,
    "start_time": "2023-03-28T11:50:12.423Z"
   },
   {
    "duration": 7,
    "start_time": "2023-03-28T11:50:12.430Z"
   },
   {
    "duration": 15,
    "start_time": "2023-03-28T11:50:12.438Z"
   },
   {
    "duration": 23,
    "start_time": "2023-03-28T11:50:12.455Z"
   },
   {
    "duration": 3,
    "start_time": "2023-03-28T11:50:12.480Z"
   },
   {
    "duration": 9,
    "start_time": "2023-03-28T11:50:12.484Z"
   },
   {
    "duration": 11,
    "start_time": "2023-03-28T11:50:12.498Z"
   },
   {
    "duration": 6,
    "start_time": "2023-03-28T11:50:12.511Z"
   },
   {
    "duration": 9,
    "start_time": "2023-03-28T11:50:12.519Z"
   },
   {
    "duration": 5,
    "start_time": "2023-03-28T11:50:12.530Z"
   },
   {
    "duration": 38,
    "start_time": "2023-03-28T11:50:12.537Z"
   },
   {
    "duration": 3,
    "start_time": "2023-03-28T11:50:12.577Z"
   },
   {
    "duration": 1378,
    "start_time": "2023-03-28T11:50:59.540Z"
   },
   {
    "duration": 466,
    "start_time": "2023-03-28T11:51:00.921Z"
   },
   {
    "duration": 4,
    "start_time": "2023-03-28T11:51:01.389Z"
   },
   {
    "duration": 88,
    "start_time": "2023-03-28T11:51:01.394Z"
   },
   {
    "duration": 49,
    "start_time": "2023-03-28T11:51:01.484Z"
   },
   {
    "duration": 175,
    "start_time": "2023-03-28T11:51:01.535Z"
   },
   {
    "duration": 105,
    "start_time": "2023-03-28T11:51:01.712Z"
   },
   {
    "duration": 135,
    "start_time": "2023-03-28T11:51:01.819Z"
   },
   {
    "duration": 100,
    "start_time": "2023-03-28T11:51:01.956Z"
   },
   {
    "duration": 4,
    "start_time": "2023-03-28T11:51:02.058Z"
   },
   {
    "duration": 49,
    "start_time": "2023-03-28T11:51:02.075Z"
   },
   {
    "duration": 43,
    "start_time": "2023-03-28T11:51:02.126Z"
   },
   {
    "duration": 16,
    "start_time": "2023-03-28T11:51:02.171Z"
   },
   {
    "duration": 53,
    "start_time": "2023-03-28T11:51:02.190Z"
   },
   {
    "duration": 23,
    "start_time": "2023-03-28T11:51:02.244Z"
   },
   {
    "duration": 35,
    "start_time": "2023-03-28T11:51:02.268Z"
   },
   {
    "duration": 67,
    "start_time": "2023-03-28T11:51:02.305Z"
   },
   {
    "duration": 28,
    "start_time": "2023-03-28T11:51:02.374Z"
   },
   {
    "duration": 6,
    "start_time": "2023-03-28T11:51:02.404Z"
   },
   {
    "duration": 45,
    "start_time": "2023-03-28T11:51:02.412Z"
   },
   {
    "duration": 20,
    "start_time": "2023-03-28T11:51:02.459Z"
   },
   {
    "duration": 36,
    "start_time": "2023-03-28T11:51:02.481Z"
   },
   {
    "duration": 18,
    "start_time": "2023-03-28T11:51:02.519Z"
   },
   {
    "duration": 15,
    "start_time": "2023-03-28T11:51:02.539Z"
   },
   {
    "duration": 15,
    "start_time": "2023-03-28T11:51:02.556Z"
   },
   {
    "duration": 64,
    "start_time": "2023-03-28T11:51:02.573Z"
   },
   {
    "duration": 21,
    "start_time": "2023-03-28T11:51:02.639Z"
   },
   {
    "duration": 21,
    "start_time": "2023-03-28T11:51:02.662Z"
   },
   {
    "duration": 191,
    "start_time": "2023-03-28T11:51:02.685Z"
   },
   {
    "duration": 12,
    "start_time": "2023-03-28T11:51:02.878Z"
   },
   {
    "duration": 29,
    "start_time": "2023-03-28T11:51:02.892Z"
   },
   {
    "duration": 223,
    "start_time": "2023-03-28T11:51:02.923Z"
   },
   {
    "duration": 8,
    "start_time": "2023-03-28T11:51:03.148Z"
   },
   {
    "duration": 28,
    "start_time": "2023-03-28T11:51:03.157Z"
   },
   {
    "duration": 23,
    "start_time": "2023-03-28T11:51:03.187Z"
   },
   {
    "duration": 12,
    "start_time": "2023-03-28T11:51:03.212Z"
   },
   {
    "duration": 41,
    "start_time": "2023-03-28T11:51:03.226Z"
   },
   {
    "duration": 25,
    "start_time": "2023-03-28T11:51:03.271Z"
   },
   {
    "duration": 39,
    "start_time": "2023-03-28T11:51:03.298Z"
   },
   {
    "duration": 255,
    "start_time": "2023-03-28T11:51:03.339Z"
   },
   {
    "duration": 266,
    "start_time": "2023-03-28T11:51:03.602Z"
   },
   {
    "duration": 300,
    "start_time": "2023-03-28T11:51:03.870Z"
   },
   {
    "duration": 17,
    "start_time": "2023-03-28T11:51:04.175Z"
   },
   {
    "duration": 18,
    "start_time": "2023-03-28T11:51:04.194Z"
   },
   {
    "duration": 268,
    "start_time": "2023-03-28T11:51:04.214Z"
   },
   {
    "duration": 7,
    "start_time": "2023-03-28T11:51:04.484Z"
   },
   {
    "duration": 18,
    "start_time": "2023-03-28T11:51:04.493Z"
   },
   {
    "duration": 23,
    "start_time": "2023-03-28T11:51:04.512Z"
   },
   {
    "duration": 40,
    "start_time": "2023-03-28T11:51:04.538Z"
   },
   {
    "duration": 27,
    "start_time": "2023-03-28T11:51:04.580Z"
   },
   {
    "duration": 11,
    "start_time": "2023-03-28T11:51:04.609Z"
   },
   {
    "duration": 8,
    "start_time": "2023-03-28T11:51:04.623Z"
   },
   {
    "duration": 8,
    "start_time": "2023-03-28T11:51:04.633Z"
   },
   {
    "duration": 7,
    "start_time": "2023-03-28T11:51:04.642Z"
   },
   {
    "duration": 14,
    "start_time": "2023-03-28T11:51:04.651Z"
   },
   {
    "duration": 13,
    "start_time": "2023-03-28T11:51:04.667Z"
   },
   {
    "duration": 8,
    "start_time": "2023-03-28T11:51:04.682Z"
   },
   {
    "duration": 12,
    "start_time": "2023-03-28T11:51:04.692Z"
   },
   {
    "duration": 12,
    "start_time": "2023-03-28T11:51:04.706Z"
   },
   {
    "duration": 6,
    "start_time": "2023-03-28T11:51:04.720Z"
   },
   {
    "duration": 23,
    "start_time": "2023-03-28T11:51:04.728Z"
   },
   {
    "duration": 15,
    "start_time": "2023-03-28T11:51:04.776Z"
   },
   {
    "duration": 14,
    "start_time": "2023-03-28T11:51:04.792Z"
   },
   {
    "duration": 12,
    "start_time": "2023-03-28T11:51:04.808Z"
   },
   {
    "duration": 259,
    "start_time": "2023-03-28T11:51:04.822Z"
   },
   {
    "duration": 7,
    "start_time": "2023-03-28T11:51:05.083Z"
   },
   {
    "duration": 19,
    "start_time": "2023-03-28T11:51:05.092Z"
   },
   {
    "duration": 16,
    "start_time": "2023-03-28T11:51:05.113Z"
   },
   {
    "duration": 21,
    "start_time": "2023-03-28T11:51:05.131Z"
   },
   {
    "duration": 14,
    "start_time": "2023-03-28T11:51:05.174Z"
   },
   {
    "duration": 16,
    "start_time": "2023-03-28T11:51:05.191Z"
   },
   {
    "duration": 5,
    "start_time": "2023-03-28T11:51:05.209Z"
   },
   {
    "duration": 6,
    "start_time": "2023-03-28T11:51:05.216Z"
   },
   {
    "duration": 9,
    "start_time": "2023-03-28T11:51:05.224Z"
   },
   {
    "duration": 18,
    "start_time": "2023-03-28T11:51:05.235Z"
   },
   {
    "duration": 20,
    "start_time": "2023-03-28T11:51:05.255Z"
   },
   {
    "duration": 11,
    "start_time": "2023-03-28T11:51:05.277Z"
   },
   {
    "duration": 19,
    "start_time": "2023-03-28T11:51:05.290Z"
   },
   {
    "duration": 16,
    "start_time": "2023-03-28T11:51:05.312Z"
   },
   {
    "duration": 10,
    "start_time": "2023-03-28T11:51:05.330Z"
   },
   {
    "duration": 38,
    "start_time": "2023-03-28T11:51:05.342Z"
   },
   {
    "duration": 21,
    "start_time": "2023-03-28T11:51:05.382Z"
   },
   {
    "duration": 15,
    "start_time": "2023-03-28T11:51:05.405Z"
   },
   {
    "duration": 3,
    "start_time": "2023-03-28T11:51:05.422Z"
   },
   {
    "duration": 247,
    "start_time": "2023-03-28T11:51:05.428Z"
   },
   {
    "duration": 213,
    "start_time": "2023-03-28T11:51:05.678Z"
   },
   {
    "duration": 299,
    "start_time": "2023-03-28T11:51:05.893Z"
   },
   {
    "duration": 235,
    "start_time": "2023-03-28T11:51:06.194Z"
   },
   {
    "duration": 203,
    "start_time": "2023-03-28T11:51:06.431Z"
   },
   {
    "duration": 219,
    "start_time": "2023-03-28T11:51:06.637Z"
   },
   {
    "duration": 2,
    "start_time": "2023-03-28T11:51:06.858Z"
   },
   {
    "duration": 515,
    "start_time": "2023-03-28T11:51:06.862Z"
   },
   {
    "duration": 3,
    "start_time": "2023-03-28T11:51:07.380Z"
   },
   {
    "duration": 23,
    "start_time": "2023-03-28T11:51:07.385Z"
   },
   {
    "duration": 17,
    "start_time": "2023-03-28T11:51:07.410Z"
   },
   {
    "duration": 8,
    "start_time": "2023-03-28T11:51:07.429Z"
   },
   {
    "duration": 7,
    "start_time": "2023-03-28T11:51:07.439Z"
   },
   {
    "duration": 17,
    "start_time": "2023-03-28T11:51:07.448Z"
   },
   {
    "duration": 25,
    "start_time": "2023-03-28T11:51:07.467Z"
   },
   {
    "duration": 6,
    "start_time": "2023-03-28T11:51:07.494Z"
   },
   {
    "duration": 11,
    "start_time": "2023-03-28T11:51:07.502Z"
   },
   {
    "duration": 10,
    "start_time": "2023-03-28T11:51:07.516Z"
   },
   {
    "duration": 14,
    "start_time": "2023-03-28T11:51:07.528Z"
   },
   {
    "duration": 6,
    "start_time": "2023-03-28T11:51:07.544Z"
   },
   {
    "duration": 10,
    "start_time": "2023-03-28T11:51:07.552Z"
   },
   {
    "duration": 13,
    "start_time": "2023-03-28T11:51:07.564Z"
   },
   {
    "duration": 6,
    "start_time": "2023-03-28T11:51:07.579Z"
   },
   {
    "duration": 6,
    "start_time": "2023-03-28T11:51:07.586Z"
   },
   {
    "duration": 5,
    "start_time": "2023-03-28T11:51:07.594Z"
   },
   {
    "duration": 10,
    "start_time": "2023-03-28T11:51:07.600Z"
   },
   {
    "duration": 8,
    "start_time": "2023-03-28T11:51:07.612Z"
   },
   {
    "duration": 5,
    "start_time": "2023-03-28T11:51:07.622Z"
   },
   {
    "duration": 10,
    "start_time": "2023-03-28T11:51:07.629Z"
   },
   {
    "duration": 37,
    "start_time": "2023-03-28T11:51:07.641Z"
   },
   {
    "duration": 6,
    "start_time": "2023-03-28T11:51:07.680Z"
   },
   {
    "duration": 7,
    "start_time": "2023-03-28T11:51:07.688Z"
   },
   {
    "duration": 5,
    "start_time": "2023-03-28T11:51:07.696Z"
   },
   {
    "duration": 5,
    "start_time": "2023-03-28T11:51:07.703Z"
   },
   {
    "duration": 5,
    "start_time": "2023-03-28T11:51:07.710Z"
   },
   {
    "duration": 5,
    "start_time": "2023-03-28T11:51:07.716Z"
   },
   {
    "duration": 6,
    "start_time": "2023-03-28T11:51:07.722Z"
   },
   {
    "duration": 4,
    "start_time": "2023-03-28T11:51:07.781Z"
   },
   {
    "duration": 5,
    "start_time": "2023-03-28T11:51:56.498Z"
   },
   {
    "duration": 24,
    "start_time": "2023-03-28T11:52:00.973Z"
   },
   {
    "duration": 1226,
    "start_time": "2023-03-28T11:52:37.441Z"
   },
   {
    "duration": 439,
    "start_time": "2023-03-28T11:52:38.669Z"
   },
   {
    "duration": 4,
    "start_time": "2023-03-28T11:52:39.109Z"
   },
   {
    "duration": 27,
    "start_time": "2023-03-28T11:52:39.115Z"
   },
   {
    "duration": 47,
    "start_time": "2023-03-28T11:52:39.144Z"
   },
   {
    "duration": 178,
    "start_time": "2023-03-28T11:52:39.193Z"
   },
   {
    "duration": 79,
    "start_time": "2023-03-28T11:52:39.373Z"
   },
   {
    "duration": 140,
    "start_time": "2023-03-28T11:52:39.454Z"
   },
   {
    "duration": 131,
    "start_time": "2023-03-28T11:52:39.596Z"
   },
   {
    "duration": 5,
    "start_time": "2023-03-28T11:52:39.730Z"
   },
   {
    "duration": 38,
    "start_time": "2023-03-28T11:52:39.737Z"
   },
   {
    "duration": 43,
    "start_time": "2023-03-28T11:52:39.777Z"
   },
   {
    "duration": 15,
    "start_time": "2023-03-28T11:52:39.821Z"
   },
   {
    "duration": 51,
    "start_time": "2023-03-28T11:52:39.838Z"
   },
   {
    "duration": 21,
    "start_time": "2023-03-28T11:52:39.891Z"
   },
   {
    "duration": 19,
    "start_time": "2023-03-28T11:52:39.913Z"
   },
   {
    "duration": 50,
    "start_time": "2023-03-28T11:52:39.934Z"
   },
   {
    "duration": 22,
    "start_time": "2023-03-28T11:52:39.986Z"
   },
   {
    "duration": 6,
    "start_time": "2023-03-28T11:52:40.009Z"
   },
   {
    "duration": 60,
    "start_time": "2023-03-28T11:52:40.017Z"
   },
   {
    "duration": 32,
    "start_time": "2023-03-28T11:52:40.079Z"
   },
   {
    "duration": 6,
    "start_time": "2023-03-28T11:52:40.113Z"
   },
   {
    "duration": 33,
    "start_time": "2023-03-28T11:52:40.121Z"
   },
   {
    "duration": 10,
    "start_time": "2023-03-28T11:52:40.155Z"
   },
   {
    "duration": 12,
    "start_time": "2023-03-28T11:52:40.175Z"
   },
   {
    "duration": 5,
    "start_time": "2023-03-28T11:52:40.189Z"
   },
   {
    "duration": 12,
    "start_time": "2023-03-28T11:52:40.196Z"
   },
   {
    "duration": 18,
    "start_time": "2023-03-28T11:52:40.213Z"
   },
   {
    "duration": 7,
    "start_time": "2023-03-28T11:52:40.233Z"
   },
   {
    "duration": 200,
    "start_time": "2023-03-28T11:52:40.241Z"
   },
   {
    "duration": 16,
    "start_time": "2023-03-28T11:52:40.443Z"
   },
   {
    "duration": 40,
    "start_time": "2023-03-28T11:52:40.461Z"
   },
   {
    "duration": 218,
    "start_time": "2023-03-28T11:52:40.503Z"
   },
   {
    "duration": 7,
    "start_time": "2023-03-28T11:52:40.723Z"
   },
   {
    "duration": 30,
    "start_time": "2023-03-28T11:52:40.732Z"
   },
   {
    "duration": 19,
    "start_time": "2023-03-28T11:52:40.764Z"
   },
   {
    "duration": 12,
    "start_time": "2023-03-28T11:52:40.785Z"
   },
   {
    "duration": 21,
    "start_time": "2023-03-28T11:52:40.799Z"
   },
   {
    "duration": 14,
    "start_time": "2023-03-28T11:52:40.822Z"
   },
   {
    "duration": 37,
    "start_time": "2023-03-28T11:52:40.838Z"
   },
   {
    "duration": 258,
    "start_time": "2023-03-28T11:52:40.877Z"
   },
   {
    "duration": 285,
    "start_time": "2023-03-28T11:52:41.138Z"
   },
   {
    "duration": 280,
    "start_time": "2023-03-28T11:52:41.424Z"
   },
   {
    "duration": 15,
    "start_time": "2023-03-28T11:52:41.706Z"
   },
   {
    "duration": 14,
    "start_time": "2023-03-28T11:52:41.723Z"
   },
   {
    "duration": 246,
    "start_time": "2023-03-28T11:52:41.738Z"
   },
   {
    "duration": 8,
    "start_time": "2023-03-28T11:52:41.986Z"
   },
   {
    "duration": 19,
    "start_time": "2023-03-28T11:52:41.995Z"
   },
   {
    "duration": 16,
    "start_time": "2023-03-28T11:52:42.016Z"
   },
   {
    "duration": 15,
    "start_time": "2023-03-28T11:52:42.034Z"
   },
   {
    "duration": 30,
    "start_time": "2023-03-28T11:52:42.051Z"
   },
   {
    "duration": 9,
    "start_time": "2023-03-28T11:52:42.083Z"
   },
   {
    "duration": 8,
    "start_time": "2023-03-28T11:52:42.094Z"
   },
   {
    "duration": 6,
    "start_time": "2023-03-28T11:52:42.105Z"
   },
   {
    "duration": 12,
    "start_time": "2023-03-28T11:52:42.114Z"
   },
   {
    "duration": 17,
    "start_time": "2023-03-28T11:52:42.128Z"
   },
   {
    "duration": 33,
    "start_time": "2023-03-28T11:52:42.147Z"
   },
   {
    "duration": 18,
    "start_time": "2023-03-28T11:52:42.182Z"
   },
   {
    "duration": 33,
    "start_time": "2023-03-28T11:52:42.202Z"
   },
   {
    "duration": 47,
    "start_time": "2023-03-28T11:52:42.237Z"
   },
   {
    "duration": 34,
    "start_time": "2023-03-28T11:52:42.286Z"
   },
   {
    "duration": 35,
    "start_time": "2023-03-28T11:52:42.322Z"
   },
   {
    "duration": 34,
    "start_time": "2023-03-28T11:52:42.358Z"
   },
   {
    "duration": 14,
    "start_time": "2023-03-28T11:52:42.394Z"
   },
   {
    "duration": 12,
    "start_time": "2023-03-28T11:52:42.410Z"
   },
   {
    "duration": 278,
    "start_time": "2023-03-28T11:52:42.424Z"
   },
   {
    "duration": 7,
    "start_time": "2023-03-28T11:52:42.704Z"
   },
   {
    "duration": 20,
    "start_time": "2023-03-28T11:52:42.713Z"
   },
   {
    "duration": 41,
    "start_time": "2023-03-28T11:52:42.735Z"
   },
   {
    "duration": 18,
    "start_time": "2023-03-28T11:52:42.778Z"
   },
   {
    "duration": 12,
    "start_time": "2023-03-28T11:52:42.797Z"
   },
   {
    "duration": 12,
    "start_time": "2023-03-28T11:52:42.811Z"
   },
   {
    "duration": 9,
    "start_time": "2023-03-28T11:52:42.825Z"
   },
   {
    "duration": 40,
    "start_time": "2023-03-28T11:52:42.836Z"
   },
   {
    "duration": 6,
    "start_time": "2023-03-28T11:52:42.878Z"
   },
   {
    "duration": 14,
    "start_time": "2023-03-28T11:52:42.886Z"
   },
   {
    "duration": 12,
    "start_time": "2023-03-28T11:52:42.902Z"
   },
   {
    "duration": 10,
    "start_time": "2023-03-28T11:52:42.915Z"
   },
   {
    "duration": 15,
    "start_time": "2023-03-28T11:52:42.927Z"
   },
   {
    "duration": 13,
    "start_time": "2023-03-28T11:52:42.944Z"
   },
   {
    "duration": 5,
    "start_time": "2023-03-28T11:52:42.976Z"
   },
   {
    "duration": 9,
    "start_time": "2023-03-28T11:52:42.989Z"
   },
   {
    "duration": 17,
    "start_time": "2023-03-28T11:52:43.000Z"
   },
   {
    "duration": 15,
    "start_time": "2023-03-28T11:52:43.019Z"
   },
   {
    "duration": 39,
    "start_time": "2023-03-28T11:52:43.037Z"
   },
   {
    "duration": 238,
    "start_time": "2023-03-28T11:52:43.078Z"
   },
   {
    "duration": 259,
    "start_time": "2023-03-28T11:52:43.319Z"
   },
   {
    "duration": 312,
    "start_time": "2023-03-28T11:52:43.581Z"
   },
   {
    "duration": 268,
    "start_time": "2023-03-28T11:52:43.895Z"
   },
   {
    "duration": 282,
    "start_time": "2023-03-28T11:52:44.165Z"
   },
   {
    "duration": 216,
    "start_time": "2023-03-28T11:52:44.449Z"
   },
   {
    "duration": 8,
    "start_time": "2023-03-28T11:52:44.667Z"
   },
   {
    "duration": 545,
    "start_time": "2023-03-28T11:52:44.678Z"
   },
   {
    "duration": 3,
    "start_time": "2023-03-28T11:52:45.225Z"
   },
   {
    "duration": 16,
    "start_time": "2023-03-28T11:52:45.230Z"
   },
   {
    "duration": 8,
    "start_time": "2023-03-28T11:52:45.248Z"
   },
   {
    "duration": 18,
    "start_time": "2023-03-28T11:52:45.258Z"
   },
   {
    "duration": 4,
    "start_time": "2023-03-28T11:52:45.278Z"
   },
   {
    "duration": 5,
    "start_time": "2023-03-28T11:52:45.284Z"
   },
   {
    "duration": 7,
    "start_time": "2023-03-28T11:52:45.291Z"
   },
   {
    "duration": 8,
    "start_time": "2023-03-28T11:52:45.300Z"
   },
   {
    "duration": 16,
    "start_time": "2023-03-28T11:52:45.310Z"
   },
   {
    "duration": 6,
    "start_time": "2023-03-28T11:52:45.328Z"
   },
   {
    "duration": 43,
    "start_time": "2023-03-28T11:52:45.337Z"
   },
   {
    "duration": 12,
    "start_time": "2023-03-28T11:52:45.382Z"
   },
   {
    "duration": 10,
    "start_time": "2023-03-28T11:52:45.396Z"
   },
   {
    "duration": 12,
    "start_time": "2023-03-28T11:52:45.408Z"
   },
   {
    "duration": 6,
    "start_time": "2023-03-28T11:52:45.422Z"
   },
   {
    "duration": 7,
    "start_time": "2023-03-28T11:52:45.430Z"
   },
   {
    "duration": 36,
    "start_time": "2023-03-28T11:52:45.439Z"
   },
   {
    "duration": 12,
    "start_time": "2023-03-28T11:52:45.477Z"
   },
   {
    "duration": 9,
    "start_time": "2023-03-28T11:52:45.491Z"
   },
   {
    "duration": 21,
    "start_time": "2023-03-28T11:52:45.502Z"
   },
   {
    "duration": 11,
    "start_time": "2023-03-28T11:52:45.525Z"
   },
   {
    "duration": 14,
    "start_time": "2023-03-28T11:52:45.538Z"
   },
   {
    "duration": 33,
    "start_time": "2023-03-28T11:52:45.554Z"
   },
   {
    "duration": 17,
    "start_time": "2023-03-28T11:52:45.590Z"
   },
   {
    "duration": 16,
    "start_time": "2023-03-28T11:52:45.610Z"
   },
   {
    "duration": 9,
    "start_time": "2023-03-28T11:52:45.629Z"
   },
   {
    "duration": 8,
    "start_time": "2023-03-28T11:52:45.640Z"
   },
   {
    "duration": 10,
    "start_time": "2023-03-28T11:52:45.650Z"
   },
   {
    "duration": 9,
    "start_time": "2023-03-28T11:52:45.662Z"
   },
   {
    "duration": 5,
    "start_time": "2023-03-28T11:52:45.673Z"
   },
   {
    "duration": 70,
    "start_time": "2023-03-28T11:58:06.028Z"
   },
   {
    "duration": 71,
    "start_time": "2023-03-28T11:58:21.181Z"
   },
   {
    "duration": 74,
    "start_time": "2023-03-28T11:58:23.883Z"
   },
   {
    "duration": 6,
    "start_time": "2023-03-28T11:59:12.996Z"
   },
   {
    "duration": 11,
    "start_time": "2023-03-28T11:59:15.843Z"
   },
   {
    "duration": 5,
    "start_time": "2023-03-28T11:59:24.444Z"
   },
   {
    "duration": 12,
    "start_time": "2023-03-28T11:59:25.369Z"
   },
   {
    "duration": 73,
    "start_time": "2023-03-28T11:59:37.117Z"
   },
   {
    "duration": 4,
    "start_time": "2023-03-28T12:00:33.146Z"
   },
   {
    "duration": 15,
    "start_time": "2023-03-28T12:00:34.943Z"
   },
   {
    "duration": 1249,
    "start_time": "2023-03-28T12:01:35.893Z"
   },
   {
    "duration": 424,
    "start_time": "2023-03-28T12:01:37.145Z"
   },
   {
    "duration": 4,
    "start_time": "2023-03-28T12:01:37.574Z"
   },
   {
    "duration": 30,
    "start_time": "2023-03-28T12:01:37.581Z"
   },
   {
    "duration": 22,
    "start_time": "2023-03-28T12:01:37.613Z"
   },
   {
    "duration": 188,
    "start_time": "2023-03-28T12:01:37.637Z"
   },
   {
    "duration": 94,
    "start_time": "2023-03-28T12:01:37.827Z"
   },
   {
    "duration": 136,
    "start_time": "2023-03-28T12:01:37.922Z"
   },
   {
    "duration": 81,
    "start_time": "2023-03-28T12:01:38.060Z"
   },
   {
    "duration": 4,
    "start_time": "2023-03-28T12:01:38.143Z"
   },
   {
    "duration": 38,
    "start_time": "2023-03-28T12:01:38.149Z"
   },
   {
    "duration": 39,
    "start_time": "2023-03-28T12:01:38.189Z"
   },
   {
    "duration": 16,
    "start_time": "2023-03-28T12:01:38.232Z"
   },
   {
    "duration": 44,
    "start_time": "2023-03-28T12:01:38.253Z"
   },
   {
    "duration": 20,
    "start_time": "2023-03-28T12:01:38.299Z"
   },
   {
    "duration": 18,
    "start_time": "2023-03-28T12:01:38.320Z"
   },
   {
    "duration": 54,
    "start_time": "2023-03-28T12:01:38.340Z"
   },
   {
    "duration": 22,
    "start_time": "2023-03-28T12:01:38.396Z"
   },
   {
    "duration": 3,
    "start_time": "2023-03-28T12:01:38.420Z"
   },
   {
    "duration": 51,
    "start_time": "2023-03-28T12:01:38.425Z"
   },
   {
    "duration": 5,
    "start_time": "2023-03-28T12:01:38.478Z"
   },
   {
    "duration": 9,
    "start_time": "2023-03-28T12:01:38.485Z"
   },
   {
    "duration": 5,
    "start_time": "2023-03-28T12:01:38.496Z"
   },
   {
    "duration": 14,
    "start_time": "2023-03-28T12:01:38.503Z"
   },
   {
    "duration": 4,
    "start_time": "2023-03-28T12:01:38.518Z"
   },
   {
    "duration": 10,
    "start_time": "2023-03-28T12:01:38.524Z"
   },
   {
    "duration": 45,
    "start_time": "2023-03-28T12:01:38.535Z"
   },
   {
    "duration": 6,
    "start_time": "2023-03-28T12:01:38.582Z"
   },
   {
    "duration": 1348,
    "start_time": "2023-03-28T12:01:38.589Z"
   },
   {
    "duration": 0,
    "start_time": "2023-03-28T12:01:39.942Z"
   },
   {
    "duration": 0,
    "start_time": "2023-03-28T12:01:39.943Z"
   },
   {
    "duration": 0,
    "start_time": "2023-03-28T12:01:39.944Z"
   },
   {
    "duration": 0,
    "start_time": "2023-03-28T12:01:39.946Z"
   },
   {
    "duration": 0,
    "start_time": "2023-03-28T12:01:39.947Z"
   },
   {
    "duration": 0,
    "start_time": "2023-03-28T12:01:39.948Z"
   },
   {
    "duration": 0,
    "start_time": "2023-03-28T12:01:39.950Z"
   },
   {
    "duration": 0,
    "start_time": "2023-03-28T12:01:39.951Z"
   },
   {
    "duration": 0,
    "start_time": "2023-03-28T12:01:39.952Z"
   },
   {
    "duration": 0,
    "start_time": "2023-03-28T12:01:39.953Z"
   },
   {
    "duration": 0,
    "start_time": "2023-03-28T12:01:39.954Z"
   },
   {
    "duration": 0,
    "start_time": "2023-03-28T12:01:39.956Z"
   },
   {
    "duration": 0,
    "start_time": "2023-03-28T12:01:39.957Z"
   },
   {
    "duration": 0,
    "start_time": "2023-03-28T12:01:39.959Z"
   },
   {
    "duration": 0,
    "start_time": "2023-03-28T12:01:39.960Z"
   },
   {
    "duration": 0,
    "start_time": "2023-03-28T12:01:39.962Z"
   },
   {
    "duration": 0,
    "start_time": "2023-03-28T12:01:39.963Z"
   },
   {
    "duration": 0,
    "start_time": "2023-03-28T12:01:39.965Z"
   },
   {
    "duration": 0,
    "start_time": "2023-03-28T12:01:39.968Z"
   },
   {
    "duration": 0,
    "start_time": "2023-03-28T12:01:39.970Z"
   },
   {
    "duration": 0,
    "start_time": "2023-03-28T12:01:39.971Z"
   },
   {
    "duration": 0,
    "start_time": "2023-03-28T12:01:39.973Z"
   },
   {
    "duration": 0,
    "start_time": "2023-03-28T12:01:39.974Z"
   },
   {
    "duration": 0,
    "start_time": "2023-03-28T12:01:39.975Z"
   },
   {
    "duration": 0,
    "start_time": "2023-03-28T12:01:39.976Z"
   },
   {
    "duration": 0,
    "start_time": "2023-03-28T12:01:39.978Z"
   },
   {
    "duration": 0,
    "start_time": "2023-03-28T12:01:39.979Z"
   },
   {
    "duration": 0,
    "start_time": "2023-03-28T12:01:39.980Z"
   },
   {
    "duration": 0,
    "start_time": "2023-03-28T12:01:39.981Z"
   },
   {
    "duration": 0,
    "start_time": "2023-03-28T12:01:39.982Z"
   },
   {
    "duration": 0,
    "start_time": "2023-03-28T12:01:39.984Z"
   },
   {
    "duration": 0,
    "start_time": "2023-03-28T12:01:39.986Z"
   },
   {
    "duration": 0,
    "start_time": "2023-03-28T12:01:39.987Z"
   },
   {
    "duration": 0,
    "start_time": "2023-03-28T12:01:39.989Z"
   },
   {
    "duration": 0,
    "start_time": "2023-03-28T12:01:39.990Z"
   },
   {
    "duration": 0,
    "start_time": "2023-03-28T12:01:39.992Z"
   },
   {
    "duration": 0,
    "start_time": "2023-03-28T12:01:39.994Z"
   },
   {
    "duration": 0,
    "start_time": "2023-03-28T12:01:39.995Z"
   },
   {
    "duration": 0,
    "start_time": "2023-03-28T12:01:39.996Z"
   },
   {
    "duration": 0,
    "start_time": "2023-03-28T12:01:39.997Z"
   },
   {
    "duration": 1,
    "start_time": "2023-03-28T12:01:39.998Z"
   },
   {
    "duration": 0,
    "start_time": "2023-03-28T12:01:40.000Z"
   },
   {
    "duration": 0,
    "start_time": "2023-03-28T12:01:40.001Z"
   },
   {
    "duration": 0,
    "start_time": "2023-03-28T12:01:40.002Z"
   },
   {
    "duration": 0,
    "start_time": "2023-03-28T12:01:40.004Z"
   },
   {
    "duration": 0,
    "start_time": "2023-03-28T12:01:40.005Z"
   },
   {
    "duration": 0,
    "start_time": "2023-03-28T12:01:40.006Z"
   },
   {
    "duration": 0,
    "start_time": "2023-03-28T12:01:40.008Z"
   },
   {
    "duration": 0,
    "start_time": "2023-03-28T12:01:40.010Z"
   },
   {
    "duration": 0,
    "start_time": "2023-03-28T12:01:40.012Z"
   },
   {
    "duration": 0,
    "start_time": "2023-03-28T12:01:40.013Z"
   },
   {
    "duration": 0,
    "start_time": "2023-03-28T12:01:40.014Z"
   },
   {
    "duration": 0,
    "start_time": "2023-03-28T12:01:40.076Z"
   },
   {
    "duration": 0,
    "start_time": "2023-03-28T12:01:40.082Z"
   },
   {
    "duration": 0,
    "start_time": "2023-03-28T12:01:40.083Z"
   },
   {
    "duration": 0,
    "start_time": "2023-03-28T12:01:40.085Z"
   },
   {
    "duration": 0,
    "start_time": "2023-03-28T12:01:40.086Z"
   },
   {
    "duration": 0,
    "start_time": "2023-03-28T12:01:40.087Z"
   },
   {
    "duration": 0,
    "start_time": "2023-03-28T12:01:40.088Z"
   },
   {
    "duration": 0,
    "start_time": "2023-03-28T12:01:40.089Z"
   },
   {
    "duration": 0,
    "start_time": "2023-03-28T12:01:40.091Z"
   },
   {
    "duration": 0,
    "start_time": "2023-03-28T12:01:40.092Z"
   },
   {
    "duration": 0,
    "start_time": "2023-03-28T12:01:40.093Z"
   },
   {
    "duration": 0,
    "start_time": "2023-03-28T12:01:40.095Z"
   },
   {
    "duration": 0,
    "start_time": "2023-03-28T12:01:40.096Z"
   },
   {
    "duration": 0,
    "start_time": "2023-03-28T12:01:40.098Z"
   },
   {
    "duration": 0,
    "start_time": "2023-03-28T12:01:40.099Z"
   },
   {
    "duration": 0,
    "start_time": "2023-03-28T12:01:40.100Z"
   },
   {
    "duration": 0,
    "start_time": "2023-03-28T12:01:40.101Z"
   },
   {
    "duration": 0,
    "start_time": "2023-03-28T12:01:40.102Z"
   },
   {
    "duration": 0,
    "start_time": "2023-03-28T12:01:40.104Z"
   },
   {
    "duration": 0,
    "start_time": "2023-03-28T12:01:40.105Z"
   },
   {
    "duration": 0,
    "start_time": "2023-03-28T12:01:40.106Z"
   },
   {
    "duration": 0,
    "start_time": "2023-03-28T12:01:40.107Z"
   },
   {
    "duration": 0,
    "start_time": "2023-03-28T12:01:40.108Z"
   },
   {
    "duration": 0,
    "start_time": "2023-03-28T12:01:40.110Z"
   },
   {
    "duration": 0,
    "start_time": "2023-03-28T12:01:40.111Z"
   },
   {
    "duration": 0,
    "start_time": "2023-03-28T12:01:40.112Z"
   },
   {
    "duration": 0,
    "start_time": "2023-03-28T12:01:40.175Z"
   },
   {
    "duration": 1,
    "start_time": "2023-03-28T12:01:40.176Z"
   },
   {
    "duration": 0,
    "start_time": "2023-03-28T12:01:40.178Z"
   },
   {
    "duration": 0,
    "start_time": "2023-03-28T12:01:40.181Z"
   },
   {
    "duration": 0,
    "start_time": "2023-03-28T12:01:40.183Z"
   },
   {
    "duration": 0,
    "start_time": "2023-03-28T12:01:40.184Z"
   },
   {
    "duration": 0,
    "start_time": "2023-03-28T12:01:40.186Z"
   },
   {
    "duration": 0,
    "start_time": "2023-03-28T12:01:40.188Z"
   },
   {
    "duration": 0,
    "start_time": "2023-03-28T12:01:40.190Z"
   },
   {
    "duration": 0,
    "start_time": "2023-03-28T12:01:40.191Z"
   },
   {
    "duration": 0,
    "start_time": "2023-03-28T12:01:40.193Z"
   },
   {
    "duration": 0,
    "start_time": "2023-03-28T12:01:40.194Z"
   },
   {
    "duration": 0,
    "start_time": "2023-03-28T12:01:40.196Z"
   },
   {
    "duration": 0,
    "start_time": "2023-03-28T12:01:40.197Z"
   },
   {
    "duration": 0,
    "start_time": "2023-03-28T12:01:40.198Z"
   },
   {
    "duration": 6,
    "start_time": "2023-03-28T12:02:31.064Z"
   },
   {
    "duration": 149,
    "start_time": "2023-03-28T12:02:33.365Z"
   },
   {
    "duration": 12,
    "start_time": "2023-03-28T12:02:35.133Z"
   },
   {
    "duration": 963,
    "start_time": "2023-03-28T12:03:06.417Z"
   },
   {
    "duration": 0,
    "start_time": "2023-03-28T12:03:07.382Z"
   },
   {
    "duration": 149,
    "start_time": "2023-03-28T12:03:25.169Z"
   },
   {
    "duration": 13,
    "start_time": "2023-03-28T12:03:27.055Z"
   },
   {
    "duration": 35,
    "start_time": "2023-03-28T12:06:31.068Z"
   },
   {
    "duration": 37,
    "start_time": "2023-03-28T12:08:09.997Z"
   },
   {
    "duration": 41,
    "start_time": "2023-03-28T12:08:17.636Z"
   },
   {
    "duration": 1314,
    "start_time": "2023-03-28T12:09:15.438Z"
   },
   {
    "duration": 527,
    "start_time": "2023-03-28T12:09:16.754Z"
   },
   {
    "duration": 3,
    "start_time": "2023-03-28T12:09:17.283Z"
   },
   {
    "duration": 28,
    "start_time": "2023-03-28T12:09:17.288Z"
   },
   {
    "duration": 73,
    "start_time": "2023-03-28T12:09:17.317Z"
   },
   {
    "duration": 176,
    "start_time": "2023-03-28T12:09:17.392Z"
   },
   {
    "duration": 78,
    "start_time": "2023-03-28T12:09:17.575Z"
   },
   {
    "duration": 122,
    "start_time": "2023-03-28T12:09:17.655Z"
   },
   {
    "duration": 77,
    "start_time": "2023-03-28T12:09:17.779Z"
   },
   {
    "duration": 18,
    "start_time": "2023-03-28T12:09:17.859Z"
   },
   {
    "duration": 13,
    "start_time": "2023-03-28T12:09:17.879Z"
   },
   {
    "duration": 13,
    "start_time": "2023-03-28T12:09:17.894Z"
   },
   {
    "duration": 117,
    "start_time": "2023-03-28T12:09:17.909Z"
   },
   {
    "duration": 0,
    "start_time": "2023-03-28T12:09:18.031Z"
   },
   {
    "duration": 0,
    "start_time": "2023-03-28T12:09:18.033Z"
   },
   {
    "duration": 0,
    "start_time": "2023-03-28T12:09:18.034Z"
   },
   {
    "duration": 0,
    "start_time": "2023-03-28T12:09:18.035Z"
   },
   {
    "duration": 0,
    "start_time": "2023-03-28T12:09:18.036Z"
   },
   {
    "duration": 0,
    "start_time": "2023-03-28T12:09:18.038Z"
   },
   {
    "duration": 0,
    "start_time": "2023-03-28T12:09:18.039Z"
   },
   {
    "duration": 0,
    "start_time": "2023-03-28T12:09:18.040Z"
   },
   {
    "duration": 0,
    "start_time": "2023-03-28T12:09:18.041Z"
   },
   {
    "duration": 0,
    "start_time": "2023-03-28T12:09:18.043Z"
   },
   {
    "duration": 0,
    "start_time": "2023-03-28T12:09:18.044Z"
   },
   {
    "duration": 0,
    "start_time": "2023-03-28T12:09:18.074Z"
   },
   {
    "duration": 0,
    "start_time": "2023-03-28T12:09:18.076Z"
   },
   {
    "duration": 0,
    "start_time": "2023-03-28T12:09:18.077Z"
   },
   {
    "duration": 0,
    "start_time": "2023-03-28T12:09:18.078Z"
   },
   {
    "duration": 0,
    "start_time": "2023-03-28T12:09:18.079Z"
   },
   {
    "duration": 0,
    "start_time": "2023-03-28T12:09:18.080Z"
   },
   {
    "duration": 0,
    "start_time": "2023-03-28T12:09:18.082Z"
   },
   {
    "duration": 0,
    "start_time": "2023-03-28T12:09:18.083Z"
   },
   {
    "duration": 0,
    "start_time": "2023-03-28T12:09:18.084Z"
   },
   {
    "duration": 0,
    "start_time": "2023-03-28T12:09:18.085Z"
   },
   {
    "duration": 0,
    "start_time": "2023-03-28T12:09:18.086Z"
   },
   {
    "duration": 0,
    "start_time": "2023-03-28T12:09:18.087Z"
   },
   {
    "duration": 1,
    "start_time": "2023-03-28T12:09:18.088Z"
   },
   {
    "duration": 0,
    "start_time": "2023-03-28T12:09:18.090Z"
   },
   {
    "duration": 0,
    "start_time": "2023-03-28T12:09:18.091Z"
   },
   {
    "duration": 0,
    "start_time": "2023-03-28T12:09:18.092Z"
   },
   {
    "duration": 0,
    "start_time": "2023-03-28T12:09:18.093Z"
   },
   {
    "duration": 0,
    "start_time": "2023-03-28T12:09:18.096Z"
   },
   {
    "duration": 0,
    "start_time": "2023-03-28T12:09:18.097Z"
   },
   {
    "duration": 0,
    "start_time": "2023-03-28T12:09:18.098Z"
   },
   {
    "duration": 0,
    "start_time": "2023-03-28T12:09:18.099Z"
   },
   {
    "duration": 0,
    "start_time": "2023-03-28T12:09:18.100Z"
   },
   {
    "duration": 0,
    "start_time": "2023-03-28T12:09:18.101Z"
   },
   {
    "duration": 0,
    "start_time": "2023-03-28T12:09:18.102Z"
   },
   {
    "duration": 0,
    "start_time": "2023-03-28T12:09:18.103Z"
   },
   {
    "duration": 0,
    "start_time": "2023-03-28T12:09:18.105Z"
   },
   {
    "duration": 0,
    "start_time": "2023-03-28T12:09:18.106Z"
   },
   {
    "duration": 0,
    "start_time": "2023-03-28T12:09:18.107Z"
   },
   {
    "duration": 0,
    "start_time": "2023-03-28T12:09:18.108Z"
   },
   {
    "duration": 0,
    "start_time": "2023-03-28T12:09:18.109Z"
   },
   {
    "duration": 0,
    "start_time": "2023-03-28T12:09:18.110Z"
   },
   {
    "duration": 0,
    "start_time": "2023-03-28T12:09:18.111Z"
   },
   {
    "duration": 0,
    "start_time": "2023-03-28T12:09:18.112Z"
   },
   {
    "duration": 0,
    "start_time": "2023-03-28T12:09:18.175Z"
   },
   {
    "duration": 0,
    "start_time": "2023-03-28T12:09:18.177Z"
   },
   {
    "duration": 0,
    "start_time": "2023-03-28T12:09:18.178Z"
   },
   {
    "duration": 0,
    "start_time": "2023-03-28T12:09:18.178Z"
   },
   {
    "duration": 0,
    "start_time": "2023-03-28T12:09:18.179Z"
   },
   {
    "duration": 0,
    "start_time": "2023-03-28T12:09:18.181Z"
   },
   {
    "duration": 0,
    "start_time": "2023-03-28T12:09:18.182Z"
   },
   {
    "duration": 0,
    "start_time": "2023-03-28T12:09:18.183Z"
   },
   {
    "duration": 0,
    "start_time": "2023-03-28T12:09:18.185Z"
   },
   {
    "duration": 0,
    "start_time": "2023-03-28T12:09:18.186Z"
   },
   {
    "duration": 0,
    "start_time": "2023-03-28T12:09:18.188Z"
   },
   {
    "duration": 0,
    "start_time": "2023-03-28T12:09:18.189Z"
   },
   {
    "duration": 0,
    "start_time": "2023-03-28T12:09:18.190Z"
   },
   {
    "duration": 0,
    "start_time": "2023-03-28T12:09:18.192Z"
   },
   {
    "duration": 0,
    "start_time": "2023-03-28T12:09:18.192Z"
   },
   {
    "duration": 0,
    "start_time": "2023-03-28T12:09:18.193Z"
   },
   {
    "duration": 1,
    "start_time": "2023-03-28T12:09:18.194Z"
   },
   {
    "duration": 0,
    "start_time": "2023-03-28T12:09:18.196Z"
   },
   {
    "duration": 0,
    "start_time": "2023-03-28T12:09:18.197Z"
   },
   {
    "duration": 0,
    "start_time": "2023-03-28T12:09:18.197Z"
   },
   {
    "duration": 0,
    "start_time": "2023-03-28T12:09:18.199Z"
   },
   {
    "duration": 0,
    "start_time": "2023-03-28T12:09:18.200Z"
   },
   {
    "duration": 0,
    "start_time": "2023-03-28T12:09:18.201Z"
   },
   {
    "duration": 0,
    "start_time": "2023-03-28T12:09:18.202Z"
   },
   {
    "duration": 0,
    "start_time": "2023-03-28T12:09:18.202Z"
   },
   {
    "duration": 0,
    "start_time": "2023-03-28T12:09:18.203Z"
   },
   {
    "duration": 0,
    "start_time": "2023-03-28T12:09:18.205Z"
   },
   {
    "duration": 0,
    "start_time": "2023-03-28T12:09:18.206Z"
   },
   {
    "duration": 0,
    "start_time": "2023-03-28T12:09:18.207Z"
   },
   {
    "duration": 0,
    "start_time": "2023-03-28T12:09:18.209Z"
   },
   {
    "duration": 0,
    "start_time": "2023-03-28T12:09:18.210Z"
   },
   {
    "duration": 0,
    "start_time": "2023-03-28T12:09:18.211Z"
   },
   {
    "duration": 0,
    "start_time": "2023-03-28T12:09:18.213Z"
   },
   {
    "duration": 0,
    "start_time": "2023-03-28T12:09:18.276Z"
   },
   {
    "duration": 0,
    "start_time": "2023-03-28T12:09:18.277Z"
   },
   {
    "duration": 0,
    "start_time": "2023-03-28T12:09:18.278Z"
   },
   {
    "duration": 0,
    "start_time": "2023-03-28T12:09:18.280Z"
   },
   {
    "duration": 0,
    "start_time": "2023-03-28T12:09:18.281Z"
   },
   {
    "duration": 0,
    "start_time": "2023-03-28T12:09:18.282Z"
   },
   {
    "duration": 0,
    "start_time": "2023-03-28T12:09:18.284Z"
   },
   {
    "duration": 0,
    "start_time": "2023-03-28T12:09:18.285Z"
   },
   {
    "duration": 0,
    "start_time": "2023-03-28T12:09:18.286Z"
   },
   {
    "duration": 0,
    "start_time": "2023-03-28T12:09:18.288Z"
   },
   {
    "duration": 0,
    "start_time": "2023-03-28T12:09:18.289Z"
   },
   {
    "duration": 0,
    "start_time": "2023-03-28T12:09:18.290Z"
   },
   {
    "duration": 0,
    "start_time": "2023-03-28T12:09:18.292Z"
   },
   {
    "duration": 0,
    "start_time": "2023-03-28T12:09:18.293Z"
   },
   {
    "duration": 0,
    "start_time": "2023-03-28T12:09:18.294Z"
   },
   {
    "duration": 0,
    "start_time": "2023-03-28T12:09:18.296Z"
   },
   {
    "duration": 0,
    "start_time": "2023-03-28T12:09:18.297Z"
   },
   {
    "duration": 0,
    "start_time": "2023-03-28T12:09:18.298Z"
   },
   {
    "duration": 0,
    "start_time": "2023-03-28T12:09:18.299Z"
   },
   {
    "duration": 0,
    "start_time": "2023-03-28T12:09:18.301Z"
   },
   {
    "duration": 0,
    "start_time": "2023-03-28T12:09:18.302Z"
   },
   {
    "duration": 0,
    "start_time": "2023-03-28T12:09:18.303Z"
   },
   {
    "duration": 0,
    "start_time": "2023-03-28T12:09:18.305Z"
   },
   {
    "duration": 0,
    "start_time": "2023-03-28T12:09:18.306Z"
   },
   {
    "duration": 0,
    "start_time": "2023-03-28T12:09:18.307Z"
   },
   {
    "duration": 1,
    "start_time": "2023-03-28T12:09:18.308Z"
   },
   {
    "duration": 0,
    "start_time": "2023-03-28T12:09:18.310Z"
   },
   {
    "duration": 0,
    "start_time": "2023-03-28T12:09:18.311Z"
   },
   {
    "duration": 0,
    "start_time": "2023-03-28T12:09:18.312Z"
   },
   {
    "duration": 0,
    "start_time": "2023-03-28T12:09:18.375Z"
   },
   {
    "duration": 0,
    "start_time": "2023-03-28T12:09:18.376Z"
   },
   {
    "duration": 0,
    "start_time": "2023-03-28T12:09:18.377Z"
   },
   {
    "duration": 0,
    "start_time": "2023-03-28T12:09:18.379Z"
   },
   {
    "duration": 25,
    "start_time": "2023-03-28T12:09:29.983Z"
   },
   {
    "duration": 41,
    "start_time": "2023-03-28T12:09:30.864Z"
   },
   {
    "duration": 37,
    "start_time": "2023-03-28T12:09:47.876Z"
   },
   {
    "duration": 16,
    "start_time": "2023-03-28T12:09:52.030Z"
   },
   {
    "duration": 29,
    "start_time": "2023-03-28T12:09:55.534Z"
   },
   {
    "duration": 12,
    "start_time": "2023-03-28T12:10:14.812Z"
   },
   {
    "duration": 30,
    "start_time": "2023-03-28T12:10:46.012Z"
   },
   {
    "duration": 20,
    "start_time": "2023-03-28T12:10:48.989Z"
   },
   {
    "duration": 19,
    "start_time": "2023-03-28T12:12:17.297Z"
   },
   {
    "duration": 31,
    "start_time": "2023-03-28T12:12:18.021Z"
   },
   {
    "duration": 24,
    "start_time": "2023-03-28T12:12:33.320Z"
   },
   {
    "duration": 4,
    "start_time": "2023-03-28T12:13:08.073Z"
   },
   {
    "duration": 31,
    "start_time": "2023-03-28T12:13:08.964Z"
   },
   {
    "duration": 49,
    "start_time": "2023-03-28T12:13:42.994Z"
   },
   {
    "duration": 1242,
    "start_time": "2023-03-28T12:13:50.374Z"
   },
   {
    "duration": 21,
    "start_time": "2023-03-28T12:13:51.804Z"
   },
   {
    "duration": 50,
    "start_time": "2023-03-28T12:14:07.014Z"
   },
   {
    "duration": 1208,
    "start_time": "2023-03-28T12:14:10.516Z"
   },
   {
    "duration": 463,
    "start_time": "2023-03-28T12:14:11.727Z"
   },
   {
    "duration": 3,
    "start_time": "2023-03-28T12:14:12.192Z"
   },
   {
    "duration": 28,
    "start_time": "2023-03-28T12:14:12.197Z"
   },
   {
    "duration": 48,
    "start_time": "2023-03-28T12:14:12.227Z"
   },
   {
    "duration": 170,
    "start_time": "2023-03-28T12:14:12.277Z"
   },
   {
    "duration": 90,
    "start_time": "2023-03-28T12:14:12.448Z"
   },
   {
    "duration": 116,
    "start_time": "2023-03-28T12:14:12.540Z"
   },
   {
    "duration": 91,
    "start_time": "2023-03-28T12:14:12.658Z"
   },
   {
    "duration": 4,
    "start_time": "2023-03-28T12:14:12.751Z"
   },
   {
    "duration": 40,
    "start_time": "2023-03-28T12:14:12.757Z"
   },
   {
    "duration": 39,
    "start_time": "2023-03-28T12:14:12.799Z"
   },
   {
    "duration": 16,
    "start_time": "2023-03-28T12:14:12.914Z"
   },
   {
    "duration": 31,
    "start_time": "2023-03-28T12:14:13.014Z"
   },
   {
    "duration": 28,
    "start_time": "2023-03-28T12:14:13.115Z"
   },
   {
    "duration": 24,
    "start_time": "2023-03-28T12:14:13.313Z"
   },
   {
    "duration": 39,
    "start_time": "2023-03-28T12:14:14.573Z"
   },
   {
    "duration": 24,
    "start_time": "2023-03-28T12:14:16.264Z"
   },
   {
    "duration": 4,
    "start_time": "2023-03-28T12:14:18.677Z"
   },
   {
    "duration": 30,
    "start_time": "2023-03-28T12:14:19.095Z"
   },
   {
    "duration": 6,
    "start_time": "2023-03-28T12:14:22.037Z"
   },
   {
    "duration": 14,
    "start_time": "2023-03-28T12:14:24.361Z"
   },
   {
    "duration": 5,
    "start_time": "2023-03-28T12:14:44.983Z"
   },
   {
    "duration": 16,
    "start_time": "2023-03-28T12:14:46.205Z"
   },
   {
    "duration": 15,
    "start_time": "2023-03-28T12:23:59.409Z"
   },
   {
    "duration": 1284,
    "start_time": "2023-03-28T12:24:11.113Z"
   },
   {
    "duration": 434,
    "start_time": "2023-03-28T12:24:12.399Z"
   },
   {
    "duration": 3,
    "start_time": "2023-03-28T12:24:12.835Z"
   },
   {
    "duration": 36,
    "start_time": "2023-03-28T12:24:12.840Z"
   },
   {
    "duration": 24,
    "start_time": "2023-03-28T12:24:12.878Z"
   },
   {
    "duration": 195,
    "start_time": "2023-03-28T12:24:12.903Z"
   },
   {
    "duration": 98,
    "start_time": "2023-03-28T12:24:13.100Z"
   },
   {
    "duration": 120,
    "start_time": "2023-03-28T12:24:13.199Z"
   },
   {
    "duration": 90,
    "start_time": "2023-03-28T12:24:13.321Z"
   },
   {
    "duration": 4,
    "start_time": "2023-03-28T12:24:13.414Z"
   },
   {
    "duration": 35,
    "start_time": "2023-03-28T12:24:13.420Z"
   },
   {
    "duration": 48,
    "start_time": "2023-03-28T12:24:13.456Z"
   },
   {
    "duration": 16,
    "start_time": "2023-03-28T12:24:13.506Z"
   },
   {
    "duration": 30,
    "start_time": "2023-03-28T12:24:13.524Z"
   },
   {
    "duration": 38,
    "start_time": "2023-03-28T12:24:13.555Z"
   },
   {
    "duration": 18,
    "start_time": "2023-03-28T12:24:13.595Z"
   },
   {
    "duration": 30,
    "start_time": "2023-03-28T12:24:13.615Z"
   },
   {
    "duration": 47,
    "start_time": "2023-03-28T12:24:13.647Z"
   },
   {
    "duration": 5,
    "start_time": "2023-03-28T12:24:13.696Z"
   },
   {
    "duration": 49,
    "start_time": "2023-03-28T12:24:13.703Z"
   },
   {
    "duration": 28,
    "start_time": "2023-03-28T12:24:13.754Z"
   },
   {
    "duration": 7,
    "start_time": "2023-03-28T12:24:13.784Z"
   },
   {
    "duration": 17,
    "start_time": "2023-03-28T12:24:13.792Z"
   },
   {
    "duration": 9,
    "start_time": "2023-03-28T12:24:13.810Z"
   },
   {
    "duration": 20,
    "start_time": "2023-03-28T12:24:13.821Z"
   },
   {
    "duration": 5,
    "start_time": "2023-03-28T12:24:13.843Z"
   },
   {
    "duration": 35,
    "start_time": "2023-03-28T12:24:13.849Z"
   },
   {
    "duration": 16,
    "start_time": "2023-03-28T12:24:13.890Z"
   },
   {
    "duration": 18,
    "start_time": "2023-03-28T12:24:13.908Z"
   },
   {
    "duration": 209,
    "start_time": "2023-03-28T12:24:13.928Z"
   },
   {
    "duration": 16,
    "start_time": "2023-03-28T12:24:14.139Z"
   },
   {
    "duration": 147,
    "start_time": "2023-03-28T12:24:14.157Z"
   },
   {
    "duration": 0,
    "start_time": "2023-03-28T12:24:14.308Z"
   },
   {
    "duration": 0,
    "start_time": "2023-03-28T12:24:14.310Z"
   },
   {
    "duration": 0,
    "start_time": "2023-03-28T12:24:14.312Z"
   },
   {
    "duration": 0,
    "start_time": "2023-03-28T12:24:14.314Z"
   },
   {
    "duration": 0,
    "start_time": "2023-03-28T12:24:14.315Z"
   },
   {
    "duration": 0,
    "start_time": "2023-03-28T12:24:14.317Z"
   },
   {
    "duration": 0,
    "start_time": "2023-03-28T12:24:14.318Z"
   },
   {
    "duration": 0,
    "start_time": "2023-03-28T12:24:14.320Z"
   },
   {
    "duration": 0,
    "start_time": "2023-03-28T12:24:14.321Z"
   },
   {
    "duration": 0,
    "start_time": "2023-03-28T12:24:14.323Z"
   },
   {
    "duration": 0,
    "start_time": "2023-03-28T12:24:14.324Z"
   },
   {
    "duration": 0,
    "start_time": "2023-03-28T12:24:14.327Z"
   },
   {
    "duration": 0,
    "start_time": "2023-03-28T12:24:14.328Z"
   },
   {
    "duration": 0,
    "start_time": "2023-03-28T12:24:14.329Z"
   },
   {
    "duration": 0,
    "start_time": "2023-03-28T12:24:14.331Z"
   },
   {
    "duration": 0,
    "start_time": "2023-03-28T12:24:14.332Z"
   },
   {
    "duration": 0,
    "start_time": "2023-03-28T12:24:14.334Z"
   },
   {
    "duration": 1,
    "start_time": "2023-03-28T12:24:14.374Z"
   },
   {
    "duration": 0,
    "start_time": "2023-03-28T12:24:14.377Z"
   },
   {
    "duration": 0,
    "start_time": "2023-03-28T12:24:14.378Z"
   },
   {
    "duration": 0,
    "start_time": "2023-03-28T12:24:14.379Z"
   },
   {
    "duration": 0,
    "start_time": "2023-03-28T12:24:14.381Z"
   },
   {
    "duration": 0,
    "start_time": "2023-03-28T12:24:14.382Z"
   },
   {
    "duration": 0,
    "start_time": "2023-03-28T12:24:14.382Z"
   },
   {
    "duration": 0,
    "start_time": "2023-03-28T12:24:14.384Z"
   },
   {
    "duration": 0,
    "start_time": "2023-03-28T12:24:14.385Z"
   },
   {
    "duration": 0,
    "start_time": "2023-03-28T12:24:14.386Z"
   },
   {
    "duration": 0,
    "start_time": "2023-03-28T12:24:14.387Z"
   },
   {
    "duration": 0,
    "start_time": "2023-03-28T12:24:14.388Z"
   },
   {
    "duration": 0,
    "start_time": "2023-03-28T12:24:14.390Z"
   },
   {
    "duration": 0,
    "start_time": "2023-03-28T12:24:14.391Z"
   },
   {
    "duration": 0,
    "start_time": "2023-03-28T12:24:14.392Z"
   },
   {
    "duration": 0,
    "start_time": "2023-03-28T12:24:14.393Z"
   },
   {
    "duration": 0,
    "start_time": "2023-03-28T12:24:14.394Z"
   },
   {
    "duration": 0,
    "start_time": "2023-03-28T12:24:14.395Z"
   },
   {
    "duration": 0,
    "start_time": "2023-03-28T12:24:14.397Z"
   },
   {
    "duration": 0,
    "start_time": "2023-03-28T12:24:14.398Z"
   },
   {
    "duration": 0,
    "start_time": "2023-03-28T12:24:14.400Z"
   },
   {
    "duration": 0,
    "start_time": "2023-03-28T12:24:14.400Z"
   },
   {
    "duration": 0,
    "start_time": "2023-03-28T12:24:14.402Z"
   },
   {
    "duration": 0,
    "start_time": "2023-03-28T12:24:14.403Z"
   },
   {
    "duration": 0,
    "start_time": "2023-03-28T12:24:14.405Z"
   },
   {
    "duration": 0,
    "start_time": "2023-03-28T12:24:14.406Z"
   },
   {
    "duration": 0,
    "start_time": "2023-03-28T12:24:14.408Z"
   },
   {
    "duration": 0,
    "start_time": "2023-03-28T12:24:14.409Z"
   },
   {
    "duration": 0,
    "start_time": "2023-03-28T12:24:14.410Z"
   },
   {
    "duration": 0,
    "start_time": "2023-03-28T12:24:14.412Z"
   },
   {
    "duration": 0,
    "start_time": "2023-03-28T12:24:14.413Z"
   },
   {
    "duration": 0,
    "start_time": "2023-03-28T12:24:14.414Z"
   },
   {
    "duration": 1,
    "start_time": "2023-03-28T12:24:14.475Z"
   },
   {
    "duration": 0,
    "start_time": "2023-03-28T12:24:14.477Z"
   },
   {
    "duration": 0,
    "start_time": "2023-03-28T12:24:14.478Z"
   },
   {
    "duration": 0,
    "start_time": "2023-03-28T12:24:14.480Z"
   },
   {
    "duration": 0,
    "start_time": "2023-03-28T12:24:14.481Z"
   },
   {
    "duration": 0,
    "start_time": "2023-03-28T12:24:14.482Z"
   },
   {
    "duration": 0,
    "start_time": "2023-03-28T12:24:14.483Z"
   },
   {
    "duration": 0,
    "start_time": "2023-03-28T12:24:14.485Z"
   },
   {
    "duration": 0,
    "start_time": "2023-03-28T12:24:14.486Z"
   },
   {
    "duration": 0,
    "start_time": "2023-03-28T12:24:14.487Z"
   },
   {
    "duration": 0,
    "start_time": "2023-03-28T12:24:14.488Z"
   },
   {
    "duration": 0,
    "start_time": "2023-03-28T12:24:14.490Z"
   },
   {
    "duration": 0,
    "start_time": "2023-03-28T12:24:14.491Z"
   },
   {
    "duration": 0,
    "start_time": "2023-03-28T12:24:14.492Z"
   },
   {
    "duration": 0,
    "start_time": "2023-03-28T12:24:14.493Z"
   },
   {
    "duration": 0,
    "start_time": "2023-03-28T12:24:14.495Z"
   },
   {
    "duration": 0,
    "start_time": "2023-03-28T12:24:14.496Z"
   },
   {
    "duration": 0,
    "start_time": "2023-03-28T12:24:14.497Z"
   },
   {
    "duration": 1,
    "start_time": "2023-03-28T12:24:14.498Z"
   },
   {
    "duration": 0,
    "start_time": "2023-03-28T12:24:14.500Z"
   },
   {
    "duration": 0,
    "start_time": "2023-03-28T12:24:14.501Z"
   },
   {
    "duration": 0,
    "start_time": "2023-03-28T12:24:14.502Z"
   },
   {
    "duration": 0,
    "start_time": "2023-03-28T12:24:14.502Z"
   },
   {
    "duration": 1,
    "start_time": "2023-03-28T12:24:14.503Z"
   },
   {
    "duration": 0,
    "start_time": "2023-03-28T12:24:14.504Z"
   },
   {
    "duration": 0,
    "start_time": "2023-03-28T12:24:14.506Z"
   },
   {
    "duration": 0,
    "start_time": "2023-03-28T12:24:14.507Z"
   },
   {
    "duration": 0,
    "start_time": "2023-03-28T12:24:14.508Z"
   },
   {
    "duration": 0,
    "start_time": "2023-03-28T12:24:14.509Z"
   },
   {
    "duration": 0,
    "start_time": "2023-03-28T12:24:14.510Z"
   },
   {
    "duration": 0,
    "start_time": "2023-03-28T12:24:14.512Z"
   },
   {
    "duration": 0,
    "start_time": "2023-03-28T12:24:14.513Z"
   },
   {
    "duration": 0,
    "start_time": "2023-03-28T12:24:14.514Z"
   },
   {
    "duration": 0,
    "start_time": "2023-03-28T12:24:14.575Z"
   },
   {
    "duration": 0,
    "start_time": "2023-03-28T12:24:14.577Z"
   },
   {
    "duration": 0,
    "start_time": "2023-03-28T12:24:14.578Z"
   },
   {
    "duration": 0,
    "start_time": "2023-03-28T12:24:14.579Z"
   },
   {
    "duration": 0,
    "start_time": "2023-03-28T12:24:14.581Z"
   },
   {
    "duration": 0,
    "start_time": "2023-03-28T12:24:14.582Z"
   },
   {
    "duration": 0,
    "start_time": "2023-03-28T12:24:14.583Z"
   },
   {
    "duration": 0,
    "start_time": "2023-03-28T12:24:14.584Z"
   },
   {
    "duration": 0,
    "start_time": "2023-03-28T12:24:14.586Z"
   },
   {
    "duration": 104,
    "start_time": "2023-03-28T12:26:28.607Z"
   },
   {
    "duration": 42,
    "start_time": "2023-03-28T12:26:31.343Z"
   },
   {
    "duration": 94,
    "start_time": "2023-03-28T12:26:43.424Z"
   },
   {
    "duration": 95,
    "start_time": "2023-03-28T12:26:50.918Z"
   },
   {
    "duration": 31,
    "start_time": "2023-03-28T12:27:32.338Z"
   },
   {
    "duration": 12,
    "start_time": "2023-03-28T12:28:12.292Z"
   },
   {
    "duration": 21,
    "start_time": "2023-03-28T12:28:16.254Z"
   },
   {
    "duration": 22,
    "start_time": "2023-03-28T12:28:34.838Z"
   },
   {
    "duration": 37,
    "start_time": "2023-03-28T12:29:01.488Z"
   },
   {
    "duration": 6,
    "start_time": "2023-03-28T12:29:04.005Z"
   },
   {
    "duration": 19,
    "start_time": "2023-03-28T12:29:06.143Z"
   },
   {
    "duration": 17,
    "start_time": "2023-03-28T12:29:28.678Z"
   },
   {
    "duration": 14,
    "start_time": "2023-03-28T12:29:40.585Z"
   },
   {
    "duration": 5,
    "start_time": "2023-03-28T12:29:41.640Z"
   },
   {
    "duration": 15,
    "start_time": "2023-03-28T12:29:43.195Z"
   },
   {
    "duration": 1293,
    "start_time": "2023-03-28T12:29:55.397Z"
   },
   {
    "duration": 488,
    "start_time": "2023-03-28T12:29:56.692Z"
   },
   {
    "duration": 4,
    "start_time": "2023-03-28T12:29:57.182Z"
   },
   {
    "duration": 46,
    "start_time": "2023-03-28T12:29:57.189Z"
   },
   {
    "duration": 49,
    "start_time": "2023-03-28T12:29:57.237Z"
   },
   {
    "duration": 188,
    "start_time": "2023-03-28T12:29:57.288Z"
   },
   {
    "duration": 127,
    "start_time": "2023-03-28T12:29:57.478Z"
   },
   {
    "duration": 159,
    "start_time": "2023-03-28T12:29:57.608Z"
   },
   {
    "duration": 87,
    "start_time": "2023-03-28T12:29:57.769Z"
   },
   {
    "duration": 16,
    "start_time": "2023-03-28T12:29:57.859Z"
   },
   {
    "duration": 29,
    "start_time": "2023-03-28T12:29:57.877Z"
   },
   {
    "duration": 75,
    "start_time": "2023-03-28T12:29:57.908Z"
   },
   {
    "duration": 18,
    "start_time": "2023-03-28T12:29:57.985Z"
   },
   {
    "duration": 34,
    "start_time": "2023-03-28T12:29:58.006Z"
   },
   {
    "duration": 54,
    "start_time": "2023-03-28T12:29:58.043Z"
   },
   {
    "duration": 19,
    "start_time": "2023-03-28T12:29:58.187Z"
   },
   {
    "duration": 34,
    "start_time": "2023-03-28T12:29:58.287Z"
   },
   {
    "duration": 24,
    "start_time": "2023-03-28T12:30:00.805Z"
   },
   {
    "duration": 6,
    "start_time": "2023-03-28T12:30:02.666Z"
   },
   {
    "duration": 47,
    "start_time": "2023-03-28T12:30:04.794Z"
   },
   {
    "duration": 18,
    "start_time": "2023-03-28T12:30:13.720Z"
   },
   {
    "duration": 20,
    "start_time": "2023-03-28T12:30:17.013Z"
   },
   {
    "duration": 46,
    "start_time": "2023-03-28T12:30:38.246Z"
   },
   {
    "duration": 21,
    "start_time": "2023-03-28T12:30:42.223Z"
   },
   {
    "duration": 47,
    "start_time": "2023-03-28T12:30:55.799Z"
   },
   {
    "duration": 72,
    "start_time": "2023-03-28T12:31:06.600Z"
   },
   {
    "duration": 68,
    "start_time": "2023-03-28T12:31:10.731Z"
   },
   {
    "duration": 1276,
    "start_time": "2023-03-28T12:31:50.990Z"
   },
   {
    "duration": 464,
    "start_time": "2023-03-28T12:31:52.268Z"
   },
   {
    "duration": 4,
    "start_time": "2023-03-28T12:31:52.734Z"
   },
   {
    "duration": 41,
    "start_time": "2023-03-28T12:31:52.740Z"
   },
   {
    "duration": 30,
    "start_time": "2023-03-28T12:31:52.782Z"
   },
   {
    "duration": 206,
    "start_time": "2023-03-28T12:31:52.814Z"
   },
   {
    "duration": 113,
    "start_time": "2023-03-28T12:31:53.022Z"
   },
   {
    "duration": 177,
    "start_time": "2023-03-28T12:31:53.137Z"
   },
   {
    "duration": 91,
    "start_time": "2023-03-28T12:31:53.316Z"
   },
   {
    "duration": 4,
    "start_time": "2023-03-28T12:31:53.410Z"
   },
   {
    "duration": 34,
    "start_time": "2023-03-28T12:31:53.417Z"
   },
   {
    "duration": 48,
    "start_time": "2023-03-28T12:31:53.453Z"
   },
   {
    "duration": 16,
    "start_time": "2023-03-28T12:31:53.502Z"
   },
   {
    "duration": 29,
    "start_time": "2023-03-28T12:31:53.520Z"
   },
   {
    "duration": 42,
    "start_time": "2023-03-28T12:31:53.551Z"
   },
   {
    "duration": 22,
    "start_time": "2023-03-28T12:31:53.595Z"
   },
   {
    "duration": 57,
    "start_time": "2023-03-28T12:31:53.619Z"
   },
   {
    "duration": 31,
    "start_time": "2023-03-28T12:31:53.678Z"
   },
   {
    "duration": 32,
    "start_time": "2023-03-28T12:31:53.711Z"
   },
   {
    "duration": 32,
    "start_time": "2023-03-28T12:31:53.745Z"
   },
   {
    "duration": 11,
    "start_time": "2023-03-28T12:31:53.779Z"
   },
   {
    "duration": 7,
    "start_time": "2023-03-28T12:31:53.792Z"
   },
   {
    "duration": 20,
    "start_time": "2023-03-28T12:31:53.801Z"
   },
   {
    "duration": 4,
    "start_time": "2023-03-28T12:31:53.824Z"
   },
   {
    "duration": 19,
    "start_time": "2023-03-28T12:31:53.830Z"
   },
   {
    "duration": 34,
    "start_time": "2023-03-28T12:31:53.851Z"
   },
   {
    "duration": 44,
    "start_time": "2023-03-28T12:31:53.887Z"
   },
   {
    "duration": 225,
    "start_time": "2023-03-28T12:31:53.936Z"
   },
   {
    "duration": 18,
    "start_time": "2023-03-28T12:31:54.165Z"
   },
   {
    "duration": 142,
    "start_time": "2023-03-28T12:31:54.186Z"
   },
   {
    "duration": 0,
    "start_time": "2023-03-28T12:31:54.333Z"
   },
   {
    "duration": 0,
    "start_time": "2023-03-28T12:31:54.334Z"
   },
   {
    "duration": 0,
    "start_time": "2023-03-28T12:31:54.336Z"
   },
   {
    "duration": 0,
    "start_time": "2023-03-28T12:31:54.338Z"
   },
   {
    "duration": 0,
    "start_time": "2023-03-28T12:31:54.339Z"
   },
   {
    "duration": 0,
    "start_time": "2023-03-28T12:31:54.341Z"
   },
   {
    "duration": 0,
    "start_time": "2023-03-28T12:31:54.342Z"
   },
   {
    "duration": 0,
    "start_time": "2023-03-28T12:31:54.344Z"
   },
   {
    "duration": 0,
    "start_time": "2023-03-28T12:31:54.346Z"
   },
   {
    "duration": 0,
    "start_time": "2023-03-28T12:31:54.347Z"
   },
   {
    "duration": 0,
    "start_time": "2023-03-28T12:31:54.348Z"
   },
   {
    "duration": 0,
    "start_time": "2023-03-28T12:31:54.376Z"
   },
   {
    "duration": 0,
    "start_time": "2023-03-28T12:31:54.377Z"
   },
   {
    "duration": 0,
    "start_time": "2023-03-28T12:31:54.378Z"
   },
   {
    "duration": 0,
    "start_time": "2023-03-28T12:31:54.380Z"
   },
   {
    "duration": 0,
    "start_time": "2023-03-28T12:31:54.381Z"
   },
   {
    "duration": 0,
    "start_time": "2023-03-28T12:31:54.383Z"
   },
   {
    "duration": 0,
    "start_time": "2023-03-28T12:31:54.385Z"
   },
   {
    "duration": 0,
    "start_time": "2023-03-28T12:31:54.386Z"
   },
   {
    "duration": 0,
    "start_time": "2023-03-28T12:31:54.387Z"
   },
   {
    "duration": 0,
    "start_time": "2023-03-28T12:31:54.388Z"
   },
   {
    "duration": 0,
    "start_time": "2023-03-28T12:31:54.389Z"
   },
   {
    "duration": 0,
    "start_time": "2023-03-28T12:31:54.390Z"
   },
   {
    "duration": 0,
    "start_time": "2023-03-28T12:31:54.392Z"
   },
   {
    "duration": 0,
    "start_time": "2023-03-28T12:31:54.393Z"
   },
   {
    "duration": 0,
    "start_time": "2023-03-28T12:31:54.394Z"
   },
   {
    "duration": 0,
    "start_time": "2023-03-28T12:31:54.396Z"
   },
   {
    "duration": 0,
    "start_time": "2023-03-28T12:31:54.397Z"
   },
   {
    "duration": 0,
    "start_time": "2023-03-28T12:31:54.399Z"
   },
   {
    "duration": 0,
    "start_time": "2023-03-28T12:31:54.400Z"
   },
   {
    "duration": 0,
    "start_time": "2023-03-28T12:31:54.402Z"
   },
   {
    "duration": 0,
    "start_time": "2023-03-28T12:31:54.403Z"
   },
   {
    "duration": 0,
    "start_time": "2023-03-28T12:31:54.404Z"
   },
   {
    "duration": 0,
    "start_time": "2023-03-28T12:31:54.406Z"
   },
   {
    "duration": 0,
    "start_time": "2023-03-28T12:31:54.407Z"
   },
   {
    "duration": 0,
    "start_time": "2023-03-28T12:31:54.409Z"
   },
   {
    "duration": 0,
    "start_time": "2023-03-28T12:31:54.411Z"
   },
   {
    "duration": 0,
    "start_time": "2023-03-28T12:31:54.412Z"
   },
   {
    "duration": 0,
    "start_time": "2023-03-28T12:31:54.413Z"
   },
   {
    "duration": 0,
    "start_time": "2023-03-28T12:31:54.414Z"
   },
   {
    "duration": 0,
    "start_time": "2023-03-28T12:31:54.475Z"
   },
   {
    "duration": 0,
    "start_time": "2023-03-28T12:31:54.476Z"
   },
   {
    "duration": 0,
    "start_time": "2023-03-28T12:31:54.477Z"
   },
   {
    "duration": 0,
    "start_time": "2023-03-28T12:31:54.478Z"
   },
   {
    "duration": 0,
    "start_time": "2023-03-28T12:31:54.480Z"
   },
   {
    "duration": 0,
    "start_time": "2023-03-28T12:31:54.481Z"
   },
   {
    "duration": 0,
    "start_time": "2023-03-28T12:31:54.482Z"
   },
   {
    "duration": 0,
    "start_time": "2023-03-28T12:31:54.483Z"
   },
   {
    "duration": 0,
    "start_time": "2023-03-28T12:31:54.484Z"
   },
   {
    "duration": 0,
    "start_time": "2023-03-28T12:31:54.485Z"
   },
   {
    "duration": 0,
    "start_time": "2023-03-28T12:31:54.486Z"
   },
   {
    "duration": 0,
    "start_time": "2023-03-28T12:31:54.488Z"
   },
   {
    "duration": 0,
    "start_time": "2023-03-28T12:31:54.489Z"
   },
   {
    "duration": 0,
    "start_time": "2023-03-28T12:31:54.490Z"
   },
   {
    "duration": 0,
    "start_time": "2023-03-28T12:31:54.491Z"
   },
   {
    "duration": 0,
    "start_time": "2023-03-28T12:31:54.492Z"
   },
   {
    "duration": 0,
    "start_time": "2023-03-28T12:31:54.493Z"
   },
   {
    "duration": 0,
    "start_time": "2023-03-28T12:31:54.494Z"
   },
   {
    "duration": 0,
    "start_time": "2023-03-28T12:31:54.495Z"
   },
   {
    "duration": 0,
    "start_time": "2023-03-28T12:31:54.496Z"
   },
   {
    "duration": 0,
    "start_time": "2023-03-28T12:31:54.497Z"
   },
   {
    "duration": 0,
    "start_time": "2023-03-28T12:31:54.498Z"
   },
   {
    "duration": 0,
    "start_time": "2023-03-28T12:31:54.500Z"
   },
   {
    "duration": 0,
    "start_time": "2023-03-28T12:31:54.501Z"
   },
   {
    "duration": 0,
    "start_time": "2023-03-28T12:31:54.502Z"
   },
   {
    "duration": 0,
    "start_time": "2023-03-28T12:31:54.507Z"
   },
   {
    "duration": 0,
    "start_time": "2023-03-28T12:31:54.508Z"
   },
   {
    "duration": 0,
    "start_time": "2023-03-28T12:31:54.509Z"
   },
   {
    "duration": 0,
    "start_time": "2023-03-28T12:31:54.510Z"
   },
   {
    "duration": 0,
    "start_time": "2023-03-28T12:31:54.511Z"
   },
   {
    "duration": 0,
    "start_time": "2023-03-28T12:31:54.512Z"
   },
   {
    "duration": 0,
    "start_time": "2023-03-28T12:31:54.514Z"
   },
   {
    "duration": 0,
    "start_time": "2023-03-28T12:31:54.575Z"
   },
   {
    "duration": 0,
    "start_time": "2023-03-28T12:31:54.577Z"
   },
   {
    "duration": 0,
    "start_time": "2023-03-28T12:31:54.578Z"
   },
   {
    "duration": 0,
    "start_time": "2023-03-28T12:31:54.579Z"
   },
   {
    "duration": 0,
    "start_time": "2023-03-28T12:31:54.580Z"
   },
   {
    "duration": 0,
    "start_time": "2023-03-28T12:31:54.581Z"
   },
   {
    "duration": 0,
    "start_time": "2023-03-28T12:31:54.582Z"
   },
   {
    "duration": 0,
    "start_time": "2023-03-28T12:31:54.583Z"
   },
   {
    "duration": 0,
    "start_time": "2023-03-28T12:31:54.584Z"
   },
   {
    "duration": 0,
    "start_time": "2023-03-28T12:31:54.585Z"
   },
   {
    "duration": 0,
    "start_time": "2023-03-28T12:31:54.586Z"
   },
   {
    "duration": 0,
    "start_time": "2023-03-28T12:31:54.588Z"
   },
   {
    "duration": 0,
    "start_time": "2023-03-28T12:31:54.589Z"
   },
   {
    "duration": 0,
    "start_time": "2023-03-28T12:31:54.590Z"
   },
   {
    "duration": 0,
    "start_time": "2023-03-28T12:31:54.592Z"
   },
   {
    "duration": 0,
    "start_time": "2023-03-28T12:31:54.593Z"
   },
   {
    "duration": 0,
    "start_time": "2023-03-28T12:31:54.594Z"
   },
   {
    "duration": 0,
    "start_time": "2023-03-28T12:31:54.595Z"
   },
   {
    "duration": 0,
    "start_time": "2023-03-28T12:31:54.596Z"
   },
   {
    "duration": 12,
    "start_time": "2023-03-28T12:38:42.892Z"
   },
   {
    "duration": 33,
    "start_time": "2023-03-28T12:38:45.185Z"
   },
   {
    "duration": 20,
    "start_time": "2023-03-28T12:38:47.345Z"
   },
   {
    "duration": 5,
    "start_time": "2023-03-28T12:43:43.196Z"
   },
   {
    "duration": 23,
    "start_time": "2023-03-28T12:43:44.241Z"
   },
   {
    "duration": 1260,
    "start_time": "2023-03-28T12:43:54.899Z"
   },
   {
    "duration": 453,
    "start_time": "2023-03-28T12:43:56.161Z"
   },
   {
    "duration": 3,
    "start_time": "2023-03-28T12:43:56.617Z"
   },
   {
    "duration": 30,
    "start_time": "2023-03-28T12:43:56.622Z"
   },
   {
    "duration": 40,
    "start_time": "2023-03-28T12:43:56.654Z"
   },
   {
    "duration": 200,
    "start_time": "2023-03-28T12:43:56.696Z"
   },
   {
    "duration": 96,
    "start_time": "2023-03-28T12:43:56.898Z"
   },
   {
    "duration": 117,
    "start_time": "2023-03-28T12:43:56.996Z"
   },
   {
    "duration": 89,
    "start_time": "2023-03-28T12:43:57.114Z"
   },
   {
    "duration": 4,
    "start_time": "2023-03-28T12:43:57.206Z"
   },
   {
    "duration": 26,
    "start_time": "2023-03-28T12:43:57.212Z"
   },
   {
    "duration": 54,
    "start_time": "2023-03-28T12:43:57.240Z"
   },
   {
    "duration": 16,
    "start_time": "2023-03-28T12:43:57.296Z"
   },
   {
    "duration": 31,
    "start_time": "2023-03-28T12:43:57.314Z"
   },
   {
    "duration": 47,
    "start_time": "2023-03-28T12:43:57.346Z"
   },
   {
    "duration": 20,
    "start_time": "2023-03-28T12:43:57.395Z"
   },
   {
    "duration": 31,
    "start_time": "2023-03-28T12:43:57.417Z"
   },
   {
    "duration": 44,
    "start_time": "2023-03-28T12:43:57.449Z"
   },
   {
    "duration": 5,
    "start_time": "2023-03-28T12:43:57.495Z"
   },
   {
    "duration": 32,
    "start_time": "2023-03-28T12:43:57.502Z"
   },
   {
    "duration": 6,
    "start_time": "2023-03-28T12:43:57.536Z"
   },
   {
    "duration": 39,
    "start_time": "2023-03-28T12:43:57.544Z"
   },
   {
    "duration": 4,
    "start_time": "2023-03-28T12:43:57.585Z"
   },
   {
    "duration": 28,
    "start_time": "2023-03-28T12:43:57.591Z"
   },
   {
    "duration": 9,
    "start_time": "2023-03-28T12:43:57.621Z"
   },
   {
    "duration": 15,
    "start_time": "2023-03-28T12:43:57.633Z"
   },
   {
    "duration": 10,
    "start_time": "2023-03-28T12:43:57.649Z"
   },
   {
    "duration": 6,
    "start_time": "2023-03-28T12:43:57.679Z"
   },
   {
    "duration": 165,
    "start_time": "2023-03-28T12:43:57.687Z"
   },
   {
    "duration": 12,
    "start_time": "2023-03-28T12:43:57.854Z"
   },
   {
    "duration": 112,
    "start_time": "2023-03-28T12:43:57.877Z"
   },
   {
    "duration": 0,
    "start_time": "2023-03-28T12:43:57.992Z"
   },
   {
    "duration": 0,
    "start_time": "2023-03-28T12:43:57.994Z"
   },
   {
    "duration": 0,
    "start_time": "2023-03-28T12:43:57.995Z"
   },
   {
    "duration": 0,
    "start_time": "2023-03-28T12:43:57.997Z"
   },
   {
    "duration": 0,
    "start_time": "2023-03-28T12:43:57.998Z"
   },
   {
    "duration": 0,
    "start_time": "2023-03-28T12:43:57.999Z"
   },
   {
    "duration": 0,
    "start_time": "2023-03-28T12:43:58.000Z"
   },
   {
    "duration": 0,
    "start_time": "2023-03-28T12:43:58.001Z"
   },
   {
    "duration": 0,
    "start_time": "2023-03-28T12:43:58.003Z"
   },
   {
    "duration": 0,
    "start_time": "2023-03-28T12:43:58.004Z"
   },
   {
    "duration": 0,
    "start_time": "2023-03-28T12:43:58.005Z"
   },
   {
    "duration": 0,
    "start_time": "2023-03-28T12:43:58.006Z"
   },
   {
    "duration": 0,
    "start_time": "2023-03-28T12:43:58.007Z"
   },
   {
    "duration": 0,
    "start_time": "2023-03-28T12:43:58.008Z"
   },
   {
    "duration": 0,
    "start_time": "2023-03-28T12:43:58.009Z"
   },
   {
    "duration": 0,
    "start_time": "2023-03-28T12:43:58.011Z"
   },
   {
    "duration": 0,
    "start_time": "2023-03-28T12:43:58.012Z"
   },
   {
    "duration": 0,
    "start_time": "2023-03-28T12:43:58.013Z"
   },
   {
    "duration": 0,
    "start_time": "2023-03-28T12:43:58.014Z"
   },
   {
    "duration": 0,
    "start_time": "2023-03-28T12:43:58.015Z"
   },
   {
    "duration": 0,
    "start_time": "2023-03-28T12:43:58.017Z"
   },
   {
    "duration": 0,
    "start_time": "2023-03-28T12:43:58.018Z"
   },
   {
    "duration": 0,
    "start_time": "2023-03-28T12:43:58.019Z"
   },
   {
    "duration": 0,
    "start_time": "2023-03-28T12:43:58.020Z"
   },
   {
    "duration": 0,
    "start_time": "2023-03-28T12:43:58.021Z"
   },
   {
    "duration": 0,
    "start_time": "2023-03-28T12:43:58.022Z"
   },
   {
    "duration": 1,
    "start_time": "2023-03-28T12:43:58.023Z"
   },
   {
    "duration": 0,
    "start_time": "2023-03-28T12:43:58.075Z"
   },
   {
    "duration": 0,
    "start_time": "2023-03-28T12:43:58.077Z"
   },
   {
    "duration": 0,
    "start_time": "2023-03-28T12:43:58.078Z"
   },
   {
    "duration": 0,
    "start_time": "2023-03-28T12:43:58.079Z"
   },
   {
    "duration": 0,
    "start_time": "2023-03-28T12:43:58.080Z"
   },
   {
    "duration": 0,
    "start_time": "2023-03-28T12:43:58.081Z"
   },
   {
    "duration": 0,
    "start_time": "2023-03-28T12:43:58.082Z"
   },
   {
    "duration": 0,
    "start_time": "2023-03-28T12:43:58.083Z"
   },
   {
    "duration": 0,
    "start_time": "2023-03-28T12:43:58.084Z"
   },
   {
    "duration": 0,
    "start_time": "2023-03-28T12:43:58.086Z"
   },
   {
    "duration": 0,
    "start_time": "2023-03-28T12:43:58.087Z"
   },
   {
    "duration": 0,
    "start_time": "2023-03-28T12:43:58.088Z"
   },
   {
    "duration": 0,
    "start_time": "2023-03-28T12:43:58.089Z"
   },
   {
    "duration": 0,
    "start_time": "2023-03-28T12:43:58.090Z"
   },
   {
    "duration": 0,
    "start_time": "2023-03-28T12:43:58.091Z"
   },
   {
    "duration": 0,
    "start_time": "2023-03-28T12:43:58.092Z"
   },
   {
    "duration": 0,
    "start_time": "2023-03-28T12:43:58.094Z"
   },
   {
    "duration": 0,
    "start_time": "2023-03-28T12:43:58.095Z"
   },
   {
    "duration": 0,
    "start_time": "2023-03-28T12:43:58.097Z"
   },
   {
    "duration": 0,
    "start_time": "2023-03-28T12:43:58.098Z"
   },
   {
    "duration": 0,
    "start_time": "2023-03-28T12:43:58.099Z"
   },
   {
    "duration": 0,
    "start_time": "2023-03-28T12:43:58.100Z"
   },
   {
    "duration": 0,
    "start_time": "2023-03-28T12:43:58.102Z"
   },
   {
    "duration": 0,
    "start_time": "2023-03-28T12:43:58.103Z"
   },
   {
    "duration": 0,
    "start_time": "2023-03-28T12:43:58.104Z"
   },
   {
    "duration": 0,
    "start_time": "2023-03-28T12:43:58.105Z"
   },
   {
    "duration": 0,
    "start_time": "2023-03-28T12:43:58.107Z"
   },
   {
    "duration": 0,
    "start_time": "2023-03-28T12:43:58.108Z"
   },
   {
    "duration": 0,
    "start_time": "2023-03-28T12:43:58.110Z"
   },
   {
    "duration": 0,
    "start_time": "2023-03-28T12:43:58.111Z"
   },
   {
    "duration": 0,
    "start_time": "2023-03-28T12:43:58.112Z"
   },
   {
    "duration": 0,
    "start_time": "2023-03-28T12:43:58.175Z"
   },
   {
    "duration": 0,
    "start_time": "2023-03-28T12:43:58.176Z"
   },
   {
    "duration": 0,
    "start_time": "2023-03-28T12:43:58.177Z"
   },
   {
    "duration": 0,
    "start_time": "2023-03-28T12:43:58.178Z"
   },
   {
    "duration": 0,
    "start_time": "2023-03-28T12:43:58.179Z"
   },
   {
    "duration": 0,
    "start_time": "2023-03-28T12:43:58.180Z"
   },
   {
    "duration": 0,
    "start_time": "2023-03-28T12:43:58.182Z"
   },
   {
    "duration": 0,
    "start_time": "2023-03-28T12:43:58.183Z"
   },
   {
    "duration": 0,
    "start_time": "2023-03-28T12:43:58.184Z"
   },
   {
    "duration": 0,
    "start_time": "2023-03-28T12:43:58.185Z"
   },
   {
    "duration": 0,
    "start_time": "2023-03-28T12:43:58.187Z"
   },
   {
    "duration": 0,
    "start_time": "2023-03-28T12:43:58.188Z"
   },
   {
    "duration": 0,
    "start_time": "2023-03-28T12:43:58.189Z"
   },
   {
    "duration": 0,
    "start_time": "2023-03-28T12:43:58.190Z"
   },
   {
    "duration": 0,
    "start_time": "2023-03-28T12:43:58.191Z"
   },
   {
    "duration": 0,
    "start_time": "2023-03-28T12:43:58.193Z"
   },
   {
    "duration": 0,
    "start_time": "2023-03-28T12:43:58.194Z"
   },
   {
    "duration": 0,
    "start_time": "2023-03-28T12:43:58.195Z"
   },
   {
    "duration": 0,
    "start_time": "2023-03-28T12:43:58.196Z"
   },
   {
    "duration": 0,
    "start_time": "2023-03-28T12:43:58.197Z"
   },
   {
    "duration": 0,
    "start_time": "2023-03-28T12:43:58.198Z"
   },
   {
    "duration": 0,
    "start_time": "2023-03-28T12:43:58.200Z"
   },
   {
    "duration": 0,
    "start_time": "2023-03-28T12:43:58.201Z"
   },
   {
    "duration": 0,
    "start_time": "2023-03-28T12:43:58.202Z"
   },
   {
    "duration": 0,
    "start_time": "2023-03-28T12:43:58.203Z"
   },
   {
    "duration": 0,
    "start_time": "2023-03-28T12:43:58.204Z"
   },
   {
    "duration": 0,
    "start_time": "2023-03-28T12:43:58.205Z"
   },
   {
    "duration": 0,
    "start_time": "2023-03-28T12:43:58.206Z"
   },
   {
    "duration": 0,
    "start_time": "2023-03-28T12:43:58.208Z"
   },
   {
    "duration": 0,
    "start_time": "2023-03-28T12:43:58.209Z"
   },
   {
    "duration": 0,
    "start_time": "2023-03-28T12:43:58.210Z"
   },
   {
    "duration": 0,
    "start_time": "2023-03-28T12:43:58.211Z"
   },
   {
    "duration": 0,
    "start_time": "2023-03-28T12:43:58.212Z"
   },
   {
    "duration": 15,
    "start_time": "2023-03-28T12:48:16.599Z"
   },
   {
    "duration": 1242,
    "start_time": "2023-03-28T12:48:24.737Z"
   },
   {
    "duration": 499,
    "start_time": "2023-03-28T12:48:25.982Z"
   },
   {
    "duration": 3,
    "start_time": "2023-03-28T12:48:26.483Z"
   },
   {
    "duration": 42,
    "start_time": "2023-03-28T12:48:26.489Z"
   },
   {
    "duration": 50,
    "start_time": "2023-03-28T12:48:26.534Z"
   },
   {
    "duration": 223,
    "start_time": "2023-03-28T12:48:26.586Z"
   },
   {
    "duration": 132,
    "start_time": "2023-03-28T12:48:26.812Z"
   },
   {
    "duration": 142,
    "start_time": "2023-03-28T12:48:26.946Z"
   },
   {
    "duration": 100,
    "start_time": "2023-03-28T12:48:27.092Z"
   },
   {
    "duration": 5,
    "start_time": "2023-03-28T12:48:27.194Z"
   },
   {
    "duration": 48,
    "start_time": "2023-03-28T12:48:27.201Z"
   },
   {
    "duration": 66,
    "start_time": "2023-03-28T12:48:27.251Z"
   },
   {
    "duration": 20,
    "start_time": "2023-03-28T12:48:27.320Z"
   },
   {
    "duration": 55,
    "start_time": "2023-03-28T12:48:27.345Z"
   },
   {
    "duration": 25,
    "start_time": "2023-03-28T12:48:27.402Z"
   },
   {
    "duration": 18,
    "start_time": "2023-03-28T12:48:27.429Z"
   },
   {
    "duration": 32,
    "start_time": "2023-03-28T12:48:27.474Z"
   },
   {
    "duration": 30,
    "start_time": "2023-03-28T12:48:27.508Z"
   },
   {
    "duration": 167,
    "start_time": "2023-03-28T12:48:27.540Z"
   },
   {
    "duration": 0,
    "start_time": "2023-03-28T12:48:27.715Z"
   },
   {
    "duration": 0,
    "start_time": "2023-03-28T12:48:27.717Z"
   },
   {
    "duration": 0,
    "start_time": "2023-03-28T12:48:27.719Z"
   },
   {
    "duration": 0,
    "start_time": "2023-03-28T12:48:27.721Z"
   },
   {
    "duration": 0,
    "start_time": "2023-03-28T12:48:27.723Z"
   },
   {
    "duration": 0,
    "start_time": "2023-03-28T12:48:27.725Z"
   },
   {
    "duration": 0,
    "start_time": "2023-03-28T12:48:27.726Z"
   },
   {
    "duration": 0,
    "start_time": "2023-03-28T12:48:27.728Z"
   },
   {
    "duration": 0,
    "start_time": "2023-03-28T12:48:27.730Z"
   },
   {
    "duration": 0,
    "start_time": "2023-03-28T12:48:27.731Z"
   },
   {
    "duration": 0,
    "start_time": "2023-03-28T12:48:27.733Z"
   },
   {
    "duration": 0,
    "start_time": "2023-03-28T12:48:27.734Z"
   },
   {
    "duration": 0,
    "start_time": "2023-03-28T12:48:27.736Z"
   },
   {
    "duration": 0,
    "start_time": "2023-03-28T12:48:27.738Z"
   },
   {
    "duration": 0,
    "start_time": "2023-03-28T12:48:27.775Z"
   },
   {
    "duration": 0,
    "start_time": "2023-03-28T12:48:27.777Z"
   },
   {
    "duration": 0,
    "start_time": "2023-03-28T12:48:27.779Z"
   },
   {
    "duration": 0,
    "start_time": "2023-03-28T12:48:27.781Z"
   },
   {
    "duration": 0,
    "start_time": "2023-03-28T12:48:27.782Z"
   },
   {
    "duration": 0,
    "start_time": "2023-03-28T12:48:27.784Z"
   },
   {
    "duration": 0,
    "start_time": "2023-03-28T12:48:27.786Z"
   },
   {
    "duration": 0,
    "start_time": "2023-03-28T12:48:27.788Z"
   },
   {
    "duration": 0,
    "start_time": "2023-03-28T12:48:27.789Z"
   },
   {
    "duration": 0,
    "start_time": "2023-03-28T12:48:27.791Z"
   },
   {
    "duration": 0,
    "start_time": "2023-03-28T12:48:27.792Z"
   },
   {
    "duration": 0,
    "start_time": "2023-03-28T12:48:27.794Z"
   },
   {
    "duration": 0,
    "start_time": "2023-03-28T12:48:27.796Z"
   },
   {
    "duration": 0,
    "start_time": "2023-03-28T12:48:27.797Z"
   },
   {
    "duration": 0,
    "start_time": "2023-03-28T12:48:27.800Z"
   },
   {
    "duration": 0,
    "start_time": "2023-03-28T12:48:27.801Z"
   },
   {
    "duration": 0,
    "start_time": "2023-03-28T12:48:27.802Z"
   },
   {
    "duration": 0,
    "start_time": "2023-03-28T12:48:27.803Z"
   },
   {
    "duration": 0,
    "start_time": "2023-03-28T12:48:27.804Z"
   },
   {
    "duration": 0,
    "start_time": "2023-03-28T12:48:27.806Z"
   },
   {
    "duration": 0,
    "start_time": "2023-03-28T12:48:27.807Z"
   },
   {
    "duration": 0,
    "start_time": "2023-03-28T12:48:27.808Z"
   },
   {
    "duration": 0,
    "start_time": "2023-03-28T12:48:27.809Z"
   },
   {
    "duration": 0,
    "start_time": "2023-03-28T12:48:27.811Z"
   },
   {
    "duration": 0,
    "start_time": "2023-03-28T12:48:27.813Z"
   },
   {
    "duration": 0,
    "start_time": "2023-03-28T12:48:27.878Z"
   },
   {
    "duration": 0,
    "start_time": "2023-03-28T12:48:27.879Z"
   },
   {
    "duration": 0,
    "start_time": "2023-03-28T12:48:27.880Z"
   },
   {
    "duration": 0,
    "start_time": "2023-03-28T12:48:27.882Z"
   },
   {
    "duration": 0,
    "start_time": "2023-03-28T12:48:27.883Z"
   },
   {
    "duration": 0,
    "start_time": "2023-03-28T12:48:27.884Z"
   },
   {
    "duration": 0,
    "start_time": "2023-03-28T12:48:27.885Z"
   },
   {
    "duration": 0,
    "start_time": "2023-03-28T12:48:27.887Z"
   },
   {
    "duration": 0,
    "start_time": "2023-03-28T12:48:27.888Z"
   },
   {
    "duration": 0,
    "start_time": "2023-03-28T12:48:27.889Z"
   },
   {
    "duration": 0,
    "start_time": "2023-03-28T12:48:27.891Z"
   },
   {
    "duration": 0,
    "start_time": "2023-03-28T12:48:27.892Z"
   },
   {
    "duration": 0,
    "start_time": "2023-03-28T12:48:27.894Z"
   },
   {
    "duration": 0,
    "start_time": "2023-03-28T12:48:27.895Z"
   },
   {
    "duration": 0,
    "start_time": "2023-03-28T12:48:27.896Z"
   },
   {
    "duration": 0,
    "start_time": "2023-03-28T12:48:27.900Z"
   },
   {
    "duration": 0,
    "start_time": "2023-03-28T12:48:27.902Z"
   },
   {
    "duration": 0,
    "start_time": "2023-03-28T12:48:27.903Z"
   },
   {
    "duration": 0,
    "start_time": "2023-03-28T12:48:27.904Z"
   },
   {
    "duration": 0,
    "start_time": "2023-03-28T12:48:27.905Z"
   },
   {
    "duration": 0,
    "start_time": "2023-03-28T12:48:27.906Z"
   },
   {
    "duration": 0,
    "start_time": "2023-03-28T12:48:27.908Z"
   },
   {
    "duration": 0,
    "start_time": "2023-03-28T12:48:27.910Z"
   },
   {
    "duration": 0,
    "start_time": "2023-03-28T12:48:27.911Z"
   },
   {
    "duration": 0,
    "start_time": "2023-03-28T12:48:27.913Z"
   },
   {
    "duration": 0,
    "start_time": "2023-03-28T12:48:27.914Z"
   },
   {
    "duration": 0,
    "start_time": "2023-03-28T12:48:27.916Z"
   },
   {
    "duration": 0,
    "start_time": "2023-03-28T12:48:27.917Z"
   },
   {
    "duration": 0,
    "start_time": "2023-03-28T12:48:27.975Z"
   },
   {
    "duration": 0,
    "start_time": "2023-03-28T12:48:27.977Z"
   },
   {
    "duration": 0,
    "start_time": "2023-03-28T12:48:27.980Z"
   },
   {
    "duration": 0,
    "start_time": "2023-03-28T12:48:27.984Z"
   },
   {
    "duration": 0,
    "start_time": "2023-03-28T12:48:27.985Z"
   },
   {
    "duration": 0,
    "start_time": "2023-03-28T12:48:27.986Z"
   },
   {
    "duration": 0,
    "start_time": "2023-03-28T12:48:27.987Z"
   },
   {
    "duration": 0,
    "start_time": "2023-03-28T12:48:27.988Z"
   },
   {
    "duration": 0,
    "start_time": "2023-03-28T12:48:27.990Z"
   },
   {
    "duration": 0,
    "start_time": "2023-03-28T12:48:27.992Z"
   },
   {
    "duration": 0,
    "start_time": "2023-03-28T12:48:27.994Z"
   },
   {
    "duration": 0,
    "start_time": "2023-03-28T12:48:27.995Z"
   },
   {
    "duration": 0,
    "start_time": "2023-03-28T12:48:27.997Z"
   },
   {
    "duration": 0,
    "start_time": "2023-03-28T12:48:27.998Z"
   },
   {
    "duration": 0,
    "start_time": "2023-03-28T12:48:28.000Z"
   },
   {
    "duration": 0,
    "start_time": "2023-03-28T12:48:28.002Z"
   },
   {
    "duration": 0,
    "start_time": "2023-03-28T12:48:28.003Z"
   },
   {
    "duration": 0,
    "start_time": "2023-03-28T12:48:28.005Z"
   },
   {
    "duration": 0,
    "start_time": "2023-03-28T12:48:28.006Z"
   },
   {
    "duration": 0,
    "start_time": "2023-03-28T12:48:28.008Z"
   },
   {
    "duration": 0,
    "start_time": "2023-03-28T12:48:28.010Z"
   },
   {
    "duration": 0,
    "start_time": "2023-03-28T12:48:28.012Z"
   },
   {
    "duration": 0,
    "start_time": "2023-03-28T12:48:28.014Z"
   },
   {
    "duration": 0,
    "start_time": "2023-03-28T12:48:28.075Z"
   },
   {
    "duration": 0,
    "start_time": "2023-03-28T12:48:28.077Z"
   },
   {
    "duration": 0,
    "start_time": "2023-03-28T12:48:28.078Z"
   },
   {
    "duration": 0,
    "start_time": "2023-03-28T12:48:28.080Z"
   },
   {
    "duration": 0,
    "start_time": "2023-03-28T12:48:28.084Z"
   },
   {
    "duration": 0,
    "start_time": "2023-03-28T12:48:28.085Z"
   },
   {
    "duration": 0,
    "start_time": "2023-03-28T12:48:28.090Z"
   },
   {
    "duration": 0,
    "start_time": "2023-03-28T12:48:28.091Z"
   },
   {
    "duration": 0,
    "start_time": "2023-03-28T12:48:28.093Z"
   },
   {
    "duration": 0,
    "start_time": "2023-03-28T12:48:28.094Z"
   },
   {
    "duration": 0,
    "start_time": "2023-03-28T12:48:28.097Z"
   },
   {
    "duration": 0,
    "start_time": "2023-03-28T12:48:28.099Z"
   },
   {
    "duration": 0,
    "start_time": "2023-03-28T12:48:28.101Z"
   },
   {
    "duration": 0,
    "start_time": "2023-03-28T12:48:28.102Z"
   },
   {
    "duration": 19,
    "start_time": "2023-03-28T12:48:50.404Z"
   },
   {
    "duration": 18,
    "start_time": "2023-03-28T12:49:45.257Z"
   },
   {
    "duration": 17,
    "start_time": "2023-03-28T12:49:48.560Z"
   },
   {
    "duration": 13,
    "start_time": "2023-03-28T12:49:51.986Z"
   },
   {
    "duration": 13,
    "start_time": "2023-03-28T12:49:57.416Z"
   },
   {
    "duration": 27,
    "start_time": "2023-03-28T12:50:48.872Z"
   },
   {
    "duration": 27,
    "start_time": "2023-03-28T12:50:53.579Z"
   },
   {
    "duration": 4,
    "start_time": "2023-03-28T13:40:57.593Z"
   },
   {
    "duration": 30,
    "start_time": "2023-03-28T13:40:58.111Z"
   },
   {
    "duration": 14,
    "start_time": "2023-03-28T13:41:12.095Z"
   },
   {
    "duration": 1169,
    "start_time": "2023-03-28T13:44:16.602Z"
   },
   {
    "duration": 444,
    "start_time": "2023-03-28T13:44:17.773Z"
   },
   {
    "duration": 3,
    "start_time": "2023-03-28T13:44:18.219Z"
   },
   {
    "duration": 41,
    "start_time": "2023-03-28T13:44:18.224Z"
   },
   {
    "duration": 24,
    "start_time": "2023-03-28T13:44:18.276Z"
   },
   {
    "duration": 182,
    "start_time": "2023-03-28T13:44:18.302Z"
   },
   {
    "duration": 90,
    "start_time": "2023-03-28T13:44:18.486Z"
   },
   {
    "duration": 118,
    "start_time": "2023-03-28T13:44:18.578Z"
   },
   {
    "duration": 91,
    "start_time": "2023-03-28T13:44:18.698Z"
   },
   {
    "duration": 5,
    "start_time": "2023-03-28T13:44:18.791Z"
   },
   {
    "duration": 32,
    "start_time": "2023-03-28T13:44:18.798Z"
   },
   {
    "duration": 50,
    "start_time": "2023-03-28T13:44:18.832Z"
   },
   {
    "duration": 16,
    "start_time": "2023-03-28T13:44:18.884Z"
   },
   {
    "duration": 30,
    "start_time": "2023-03-28T13:44:18.904Z"
   },
   {
    "duration": 46,
    "start_time": "2023-03-28T13:44:18.936Z"
   },
   {
    "duration": 19,
    "start_time": "2023-03-28T13:44:18.983Z"
   },
   {
    "duration": 34,
    "start_time": "2023-03-28T13:44:19.003Z"
   },
   {
    "duration": 49,
    "start_time": "2023-03-28T13:44:19.038Z"
   },
   {
    "duration": 4,
    "start_time": "2023-03-28T13:44:19.089Z"
   },
   {
    "duration": 34,
    "start_time": "2023-03-28T13:44:19.094Z"
   },
   {
    "duration": 7,
    "start_time": "2023-03-28T13:44:19.129Z"
   },
   {
    "duration": 24,
    "start_time": "2023-03-28T13:44:19.138Z"
   },
   {
    "duration": 14,
    "start_time": "2023-03-28T13:44:19.164Z"
   },
   {
    "duration": 21,
    "start_time": "2023-03-28T13:44:19.180Z"
   },
   {
    "duration": 5,
    "start_time": "2023-03-28T13:44:19.203Z"
   },
   {
    "duration": 18,
    "start_time": "2023-03-28T13:44:19.210Z"
   },
   {
    "duration": 16,
    "start_time": "2023-03-28T13:44:19.229Z"
   },
   {
    "duration": 30,
    "start_time": "2023-03-28T13:44:19.247Z"
   },
   {
    "duration": 155,
    "start_time": "2023-03-28T13:44:19.278Z"
   },
   {
    "duration": 13,
    "start_time": "2023-03-28T13:44:19.435Z"
   },
   {
    "duration": 130,
    "start_time": "2023-03-28T13:44:19.450Z"
   },
   {
    "duration": 0,
    "start_time": "2023-03-28T13:44:19.585Z"
   },
   {
    "duration": 0,
    "start_time": "2023-03-28T13:44:19.587Z"
   },
   {
    "duration": 0,
    "start_time": "2023-03-28T13:44:19.588Z"
   },
   {
    "duration": 0,
    "start_time": "2023-03-28T13:44:19.589Z"
   },
   {
    "duration": 0,
    "start_time": "2023-03-28T13:44:19.590Z"
   },
   {
    "duration": 0,
    "start_time": "2023-03-28T13:44:19.591Z"
   },
   {
    "duration": 0,
    "start_time": "2023-03-28T13:44:19.593Z"
   },
   {
    "duration": 0,
    "start_time": "2023-03-28T13:44:19.594Z"
   },
   {
    "duration": 0,
    "start_time": "2023-03-28T13:44:19.595Z"
   },
   {
    "duration": 0,
    "start_time": "2023-03-28T13:44:19.596Z"
   },
   {
    "duration": 0,
    "start_time": "2023-03-28T13:44:19.597Z"
   },
   {
    "duration": 0,
    "start_time": "2023-03-28T13:44:19.598Z"
   },
   {
    "duration": 0,
    "start_time": "2023-03-28T13:44:19.600Z"
   },
   {
    "duration": 0,
    "start_time": "2023-03-28T13:44:19.601Z"
   },
   {
    "duration": 0,
    "start_time": "2023-03-28T13:44:19.602Z"
   },
   {
    "duration": 0,
    "start_time": "2023-03-28T13:44:19.603Z"
   },
   {
    "duration": 0,
    "start_time": "2023-03-28T13:44:19.604Z"
   },
   {
    "duration": 0,
    "start_time": "2023-03-28T13:44:19.605Z"
   },
   {
    "duration": 0,
    "start_time": "2023-03-28T13:44:19.607Z"
   },
   {
    "duration": 1,
    "start_time": "2023-03-28T13:44:19.607Z"
   },
   {
    "duration": 0,
    "start_time": "2023-03-28T13:44:19.609Z"
   },
   {
    "duration": 0,
    "start_time": "2023-03-28T13:44:19.610Z"
   },
   {
    "duration": 0,
    "start_time": "2023-03-28T13:44:19.611Z"
   },
   {
    "duration": 0,
    "start_time": "2023-03-28T13:44:19.612Z"
   },
   {
    "duration": 0,
    "start_time": "2023-03-28T13:44:19.613Z"
   },
   {
    "duration": 0,
    "start_time": "2023-03-28T13:44:19.614Z"
   },
   {
    "duration": 0,
    "start_time": "2023-03-28T13:44:19.615Z"
   },
   {
    "duration": 0,
    "start_time": "2023-03-28T13:44:19.617Z"
   },
   {
    "duration": 0,
    "start_time": "2023-03-28T13:44:19.618Z"
   },
   {
    "duration": 0,
    "start_time": "2023-03-28T13:44:19.619Z"
   },
   {
    "duration": 0,
    "start_time": "2023-03-28T13:44:19.676Z"
   },
   {
    "duration": 0,
    "start_time": "2023-03-28T13:44:19.677Z"
   },
   {
    "duration": 0,
    "start_time": "2023-03-28T13:44:19.678Z"
   },
   {
    "duration": 0,
    "start_time": "2023-03-28T13:44:19.679Z"
   },
   {
    "duration": 0,
    "start_time": "2023-03-28T13:44:19.680Z"
   },
   {
    "duration": 0,
    "start_time": "2023-03-28T13:44:19.681Z"
   },
   {
    "duration": 0,
    "start_time": "2023-03-28T13:44:19.682Z"
   },
   {
    "duration": 0,
    "start_time": "2023-03-28T13:44:19.683Z"
   },
   {
    "duration": 0,
    "start_time": "2023-03-28T13:44:19.684Z"
   },
   {
    "duration": 0,
    "start_time": "2023-03-28T13:44:19.685Z"
   },
   {
    "duration": 0,
    "start_time": "2023-03-28T13:44:19.686Z"
   },
   {
    "duration": 0,
    "start_time": "2023-03-28T13:44:19.687Z"
   },
   {
    "duration": 0,
    "start_time": "2023-03-28T13:44:19.689Z"
   },
   {
    "duration": 1,
    "start_time": "2023-03-28T13:44:19.689Z"
   },
   {
    "duration": 0,
    "start_time": "2023-03-28T13:44:19.691Z"
   },
   {
    "duration": 0,
    "start_time": "2023-03-28T13:44:19.692Z"
   },
   {
    "duration": 0,
    "start_time": "2023-03-28T13:44:19.693Z"
   },
   {
    "duration": 0,
    "start_time": "2023-03-28T13:44:19.694Z"
   },
   {
    "duration": 0,
    "start_time": "2023-03-28T13:44:19.695Z"
   },
   {
    "duration": 0,
    "start_time": "2023-03-28T13:44:19.696Z"
   },
   {
    "duration": 0,
    "start_time": "2023-03-28T13:44:19.697Z"
   },
   {
    "duration": 0,
    "start_time": "2023-03-28T13:44:19.698Z"
   },
   {
    "duration": 0,
    "start_time": "2023-03-28T13:44:19.700Z"
   },
   {
    "duration": 0,
    "start_time": "2023-03-28T13:44:19.701Z"
   },
   {
    "duration": 0,
    "start_time": "2023-03-28T13:44:19.702Z"
   },
   {
    "duration": 0,
    "start_time": "2023-03-28T13:44:19.703Z"
   },
   {
    "duration": 0,
    "start_time": "2023-03-28T13:44:19.705Z"
   },
   {
    "duration": 0,
    "start_time": "2023-03-28T13:44:19.706Z"
   },
   {
    "duration": 0,
    "start_time": "2023-03-28T13:44:19.707Z"
   },
   {
    "duration": 0,
    "start_time": "2023-03-28T13:44:19.708Z"
   },
   {
    "duration": 0,
    "start_time": "2023-03-28T13:44:19.709Z"
   },
   {
    "duration": 0,
    "start_time": "2023-03-28T13:44:19.710Z"
   },
   {
    "duration": 0,
    "start_time": "2023-03-28T13:44:19.711Z"
   },
   {
    "duration": 1,
    "start_time": "2023-03-28T13:44:19.712Z"
   },
   {
    "duration": 0,
    "start_time": "2023-03-28T13:44:19.776Z"
   },
   {
    "duration": 0,
    "start_time": "2023-03-28T13:44:19.777Z"
   },
   {
    "duration": 0,
    "start_time": "2023-03-28T13:44:19.779Z"
   },
   {
    "duration": 0,
    "start_time": "2023-03-28T13:44:19.780Z"
   },
   {
    "duration": 0,
    "start_time": "2023-03-28T13:44:19.781Z"
   },
   {
    "duration": 0,
    "start_time": "2023-03-28T13:44:19.782Z"
   },
   {
    "duration": 0,
    "start_time": "2023-03-28T13:44:19.783Z"
   },
   {
    "duration": 0,
    "start_time": "2023-03-28T13:44:19.784Z"
   },
   {
    "duration": 0,
    "start_time": "2023-03-28T13:44:19.785Z"
   },
   {
    "duration": 0,
    "start_time": "2023-03-28T13:44:19.786Z"
   },
   {
    "duration": 0,
    "start_time": "2023-03-28T13:44:19.787Z"
   },
   {
    "duration": 0,
    "start_time": "2023-03-28T13:44:19.789Z"
   },
   {
    "duration": 0,
    "start_time": "2023-03-28T13:44:19.790Z"
   },
   {
    "duration": 0,
    "start_time": "2023-03-28T13:44:19.791Z"
   },
   {
    "duration": 0,
    "start_time": "2023-03-28T13:44:19.793Z"
   },
   {
    "duration": 0,
    "start_time": "2023-03-28T13:44:19.794Z"
   },
   {
    "duration": 0,
    "start_time": "2023-03-28T13:44:19.795Z"
   },
   {
    "duration": 0,
    "start_time": "2023-03-28T13:44:19.797Z"
   },
   {
    "duration": 0,
    "start_time": "2023-03-28T13:44:19.799Z"
   },
   {
    "duration": 0,
    "start_time": "2023-03-28T13:44:19.801Z"
   },
   {
    "duration": 0,
    "start_time": "2023-03-28T13:44:19.802Z"
   },
   {
    "duration": 0,
    "start_time": "2023-03-28T13:44:19.803Z"
   },
   {
    "duration": 0,
    "start_time": "2023-03-28T13:44:19.805Z"
   },
   {
    "duration": 0,
    "start_time": "2023-03-28T13:44:19.806Z"
   },
   {
    "duration": 0,
    "start_time": "2023-03-28T13:44:19.808Z"
   },
   {
    "duration": 0,
    "start_time": "2023-03-28T13:44:19.809Z"
   },
   {
    "duration": 0,
    "start_time": "2023-03-28T13:44:19.810Z"
   },
   {
    "duration": 23,
    "start_time": "2023-03-28T13:44:33.160Z"
   },
   {
    "duration": 15,
    "start_time": "2023-03-28T13:44:37.958Z"
   },
   {
    "duration": 12,
    "start_time": "2023-03-28T13:45:48.511Z"
   },
   {
    "duration": 1271,
    "start_time": "2023-03-28T13:46:06.659Z"
   },
   {
    "duration": 426,
    "start_time": "2023-03-28T13:46:07.932Z"
   },
   {
    "duration": 3,
    "start_time": "2023-03-28T13:46:08.360Z"
   },
   {
    "duration": 43,
    "start_time": "2023-03-28T13:46:08.365Z"
   },
   {
    "duration": 25,
    "start_time": "2023-03-28T13:46:08.409Z"
   },
   {
    "duration": 181,
    "start_time": "2023-03-28T13:46:08.436Z"
   },
   {
    "duration": 97,
    "start_time": "2023-03-28T13:46:08.620Z"
   },
   {
    "duration": 126,
    "start_time": "2023-03-28T13:46:08.719Z"
   },
   {
    "duration": 81,
    "start_time": "2023-03-28T13:46:08.847Z"
   },
   {
    "duration": 4,
    "start_time": "2023-03-28T13:46:08.931Z"
   },
   {
    "duration": 39,
    "start_time": "2023-03-28T13:46:08.936Z"
   },
   {
    "duration": 36,
    "start_time": "2023-03-28T13:46:08.977Z"
   },
   {
    "duration": 15,
    "start_time": "2023-03-28T13:46:09.015Z"
   },
   {
    "duration": 45,
    "start_time": "2023-03-28T13:46:09.031Z"
   },
   {
    "duration": 20,
    "start_time": "2023-03-28T13:46:09.078Z"
   },
   {
    "duration": 23,
    "start_time": "2023-03-28T13:46:09.100Z"
   },
   {
    "duration": 30,
    "start_time": "2023-03-28T13:46:09.125Z"
   },
   {
    "duration": 38,
    "start_time": "2023-03-28T13:46:09.156Z"
   },
   {
    "duration": 4,
    "start_time": "2023-03-28T13:46:09.196Z"
   },
   {
    "duration": 30,
    "start_time": "2023-03-28T13:46:09.202Z"
   },
   {
    "duration": 5,
    "start_time": "2023-03-28T13:46:09.234Z"
   },
   {
    "duration": 40,
    "start_time": "2023-03-28T13:46:09.240Z"
   },
   {
    "duration": 5,
    "start_time": "2023-03-28T13:46:09.282Z"
   },
   {
    "duration": 13,
    "start_time": "2023-03-28T13:46:09.289Z"
   },
   {
    "duration": 4,
    "start_time": "2023-03-28T13:46:09.304Z"
   },
   {
    "duration": 12,
    "start_time": "2023-03-28T13:46:09.309Z"
   },
   {
    "duration": 10,
    "start_time": "2023-03-28T13:46:09.322Z"
   },
   {
    "duration": 5,
    "start_time": "2023-03-28T13:46:09.338Z"
   },
   {
    "duration": 159,
    "start_time": "2023-03-28T13:46:09.375Z"
   },
   {
    "duration": 12,
    "start_time": "2023-03-28T13:46:09.536Z"
   },
   {
    "duration": 114,
    "start_time": "2023-03-28T13:46:09.549Z"
   },
   {
    "duration": 0,
    "start_time": "2023-03-28T13:46:09.666Z"
   },
   {
    "duration": 0,
    "start_time": "2023-03-28T13:46:09.667Z"
   },
   {
    "duration": 0,
    "start_time": "2023-03-28T13:46:09.674Z"
   },
   {
    "duration": 0,
    "start_time": "2023-03-28T13:46:09.675Z"
   },
   {
    "duration": 0,
    "start_time": "2023-03-28T13:46:09.676Z"
   },
   {
    "duration": 0,
    "start_time": "2023-03-28T13:46:09.677Z"
   },
   {
    "duration": 0,
    "start_time": "2023-03-28T13:46:09.678Z"
   },
   {
    "duration": 0,
    "start_time": "2023-03-28T13:46:09.679Z"
   },
   {
    "duration": 1,
    "start_time": "2023-03-28T13:46:09.680Z"
   },
   {
    "duration": 0,
    "start_time": "2023-03-28T13:46:09.681Z"
   },
   {
    "duration": 0,
    "start_time": "2023-03-28T13:46:09.682Z"
   },
   {
    "duration": 0,
    "start_time": "2023-03-28T13:46:09.683Z"
   },
   {
    "duration": 0,
    "start_time": "2023-03-28T13:46:09.685Z"
   },
   {
    "duration": 0,
    "start_time": "2023-03-28T13:46:09.686Z"
   },
   {
    "duration": 0,
    "start_time": "2023-03-28T13:46:09.687Z"
   },
   {
    "duration": 0,
    "start_time": "2023-03-28T13:46:09.688Z"
   },
   {
    "duration": 0,
    "start_time": "2023-03-28T13:46:09.689Z"
   },
   {
    "duration": 0,
    "start_time": "2023-03-28T13:46:09.690Z"
   },
   {
    "duration": 0,
    "start_time": "2023-03-28T13:46:09.691Z"
   },
   {
    "duration": 0,
    "start_time": "2023-03-28T13:46:09.693Z"
   },
   {
    "duration": 0,
    "start_time": "2023-03-28T13:46:09.694Z"
   },
   {
    "duration": 0,
    "start_time": "2023-03-28T13:46:09.695Z"
   },
   {
    "duration": 0,
    "start_time": "2023-03-28T13:46:09.696Z"
   },
   {
    "duration": 0,
    "start_time": "2023-03-28T13:46:09.697Z"
   },
   {
    "duration": 0,
    "start_time": "2023-03-28T13:46:09.698Z"
   },
   {
    "duration": 0,
    "start_time": "2023-03-28T13:46:09.699Z"
   },
   {
    "duration": 0,
    "start_time": "2023-03-28T13:46:09.700Z"
   },
   {
    "duration": 0,
    "start_time": "2023-03-28T13:46:09.701Z"
   },
   {
    "duration": 0,
    "start_time": "2023-03-28T13:46:09.702Z"
   },
   {
    "duration": 0,
    "start_time": "2023-03-28T13:46:09.703Z"
   },
   {
    "duration": 0,
    "start_time": "2023-03-28T13:46:09.705Z"
   },
   {
    "duration": 0,
    "start_time": "2023-03-28T13:46:09.706Z"
   },
   {
    "duration": 0,
    "start_time": "2023-03-28T13:46:09.707Z"
   },
   {
    "duration": 0,
    "start_time": "2023-03-28T13:46:09.708Z"
   },
   {
    "duration": 0,
    "start_time": "2023-03-28T13:46:09.709Z"
   },
   {
    "duration": 0,
    "start_time": "2023-03-28T13:46:09.710Z"
   },
   {
    "duration": 0,
    "start_time": "2023-03-28T13:46:09.711Z"
   },
   {
    "duration": 0,
    "start_time": "2023-03-28T13:46:09.774Z"
   },
   {
    "duration": 0,
    "start_time": "2023-03-28T13:46:09.776Z"
   },
   {
    "duration": 0,
    "start_time": "2023-03-28T13:46:09.776Z"
   },
   {
    "duration": 0,
    "start_time": "2023-03-28T13:46:09.778Z"
   },
   {
    "duration": 0,
    "start_time": "2023-03-28T13:46:09.779Z"
   },
   {
    "duration": 0,
    "start_time": "2023-03-28T13:46:09.780Z"
   },
   {
    "duration": 0,
    "start_time": "2023-03-28T13:46:09.782Z"
   },
   {
    "duration": 0,
    "start_time": "2023-03-28T13:46:09.782Z"
   },
   {
    "duration": 0,
    "start_time": "2023-03-28T13:46:09.784Z"
   },
   {
    "duration": 0,
    "start_time": "2023-03-28T13:46:09.785Z"
   },
   {
    "duration": 0,
    "start_time": "2023-03-28T13:46:09.786Z"
   },
   {
    "duration": 0,
    "start_time": "2023-03-28T13:46:09.788Z"
   },
   {
    "duration": 0,
    "start_time": "2023-03-28T13:46:09.789Z"
   },
   {
    "duration": 0,
    "start_time": "2023-03-28T13:46:09.791Z"
   },
   {
    "duration": 0,
    "start_time": "2023-03-28T13:46:09.792Z"
   },
   {
    "duration": 0,
    "start_time": "2023-03-28T13:46:09.794Z"
   },
   {
    "duration": 0,
    "start_time": "2023-03-28T13:46:09.795Z"
   },
   {
    "duration": 0,
    "start_time": "2023-03-28T13:46:09.796Z"
   },
   {
    "duration": 0,
    "start_time": "2023-03-28T13:46:09.798Z"
   },
   {
    "duration": 0,
    "start_time": "2023-03-28T13:46:09.799Z"
   },
   {
    "duration": 0,
    "start_time": "2023-03-28T13:46:09.800Z"
   },
   {
    "duration": 0,
    "start_time": "2023-03-28T13:46:09.802Z"
   },
   {
    "duration": 0,
    "start_time": "2023-03-28T13:46:09.803Z"
   },
   {
    "duration": 0,
    "start_time": "2023-03-28T13:46:09.804Z"
   },
   {
    "duration": 0,
    "start_time": "2023-03-28T13:46:09.806Z"
   },
   {
    "duration": 0,
    "start_time": "2023-03-28T13:46:09.807Z"
   },
   {
    "duration": 0,
    "start_time": "2023-03-28T13:46:09.808Z"
   },
   {
    "duration": 0,
    "start_time": "2023-03-28T13:46:09.809Z"
   },
   {
    "duration": 0,
    "start_time": "2023-03-28T13:46:09.810Z"
   },
   {
    "duration": 0,
    "start_time": "2023-03-28T13:46:09.811Z"
   },
   {
    "duration": 0,
    "start_time": "2023-03-28T13:46:09.879Z"
   },
   {
    "duration": 0,
    "start_time": "2023-03-28T13:46:09.881Z"
   },
   {
    "duration": 0,
    "start_time": "2023-03-28T13:46:09.882Z"
   },
   {
    "duration": 0,
    "start_time": "2023-03-28T13:46:09.884Z"
   },
   {
    "duration": 0,
    "start_time": "2023-03-28T13:46:09.885Z"
   },
   {
    "duration": 1,
    "start_time": "2023-03-28T13:46:09.887Z"
   },
   {
    "duration": 0,
    "start_time": "2023-03-28T13:46:09.889Z"
   },
   {
    "duration": 0,
    "start_time": "2023-03-28T13:46:09.890Z"
   },
   {
    "duration": 0,
    "start_time": "2023-03-28T13:46:09.892Z"
   },
   {
    "duration": 0,
    "start_time": "2023-03-28T13:46:09.893Z"
   },
   {
    "duration": 0,
    "start_time": "2023-03-28T13:46:09.894Z"
   },
   {
    "duration": 0,
    "start_time": "2023-03-28T13:46:09.895Z"
   },
   {
    "duration": 0,
    "start_time": "2023-03-28T13:46:09.897Z"
   },
   {
    "duration": 0,
    "start_time": "2023-03-28T13:46:09.898Z"
   },
   {
    "duration": 0,
    "start_time": "2023-03-28T13:46:09.900Z"
   },
   {
    "duration": 0,
    "start_time": "2023-03-28T13:46:09.901Z"
   },
   {
    "duration": 0,
    "start_time": "2023-03-28T13:46:09.902Z"
   },
   {
    "duration": 0,
    "start_time": "2023-03-28T13:46:09.903Z"
   },
   {
    "duration": 0,
    "start_time": "2023-03-28T13:46:09.904Z"
   },
   {
    "duration": 0,
    "start_time": "2023-03-28T13:46:09.906Z"
   },
   {
    "duration": 0,
    "start_time": "2023-03-28T13:46:09.907Z"
   },
   {
    "duration": 0,
    "start_time": "2023-03-28T13:46:09.909Z"
   },
   {
    "duration": 0,
    "start_time": "2023-03-28T13:46:09.909Z"
   },
   {
    "duration": 0,
    "start_time": "2023-03-28T13:46:09.911Z"
   },
   {
    "duration": 1182,
    "start_time": "2023-03-28T13:46:52.668Z"
   },
   {
    "duration": 467,
    "start_time": "2023-03-28T13:46:53.852Z"
   },
   {
    "duration": 4,
    "start_time": "2023-03-28T13:46:55.079Z"
   },
   {
    "duration": 32,
    "start_time": "2023-03-28T13:46:55.918Z"
   },
   {
    "duration": 22,
    "start_time": "2023-03-28T13:46:57.808Z"
   },
   {
    "duration": 165,
    "start_time": "2023-03-28T13:46:59.662Z"
   },
   {
    "duration": 95,
    "start_time": "2023-03-28T13:47:02.397Z"
   },
   {
    "duration": 116,
    "start_time": "2023-03-28T13:47:04.366Z"
   },
   {
    "duration": 82,
    "start_time": "2023-03-28T13:47:06.077Z"
   },
   {
    "duration": 4,
    "start_time": "2023-03-28T13:47:07.921Z"
   },
   {
    "duration": 26,
    "start_time": "2023-03-28T13:47:09.649Z"
   },
   {
    "duration": 39,
    "start_time": "2023-03-28T13:47:11.785Z"
   },
   {
    "duration": 16,
    "start_time": "2023-03-28T13:47:13.657Z"
   },
   {
    "duration": 31,
    "start_time": "2023-03-28T13:47:14.645Z"
   },
   {
    "duration": 24,
    "start_time": "2023-03-28T13:47:16.061Z"
   },
   {
    "duration": 20,
    "start_time": "2023-03-28T13:47:17.794Z"
   },
   {
    "duration": 29,
    "start_time": "2023-03-28T13:47:19.061Z"
   },
   {
    "duration": 22,
    "start_time": "2023-03-28T13:47:21.193Z"
   },
   {
    "duration": 5,
    "start_time": "2023-03-28T13:47:23.535Z"
   },
   {
    "duration": 30,
    "start_time": "2023-03-28T13:47:24.953Z"
   },
   {
    "duration": 7,
    "start_time": "2023-03-28T13:47:31.917Z"
   },
   {
    "duration": 11,
    "start_time": "2023-03-28T13:47:35.736Z"
   },
   {
    "duration": 4,
    "start_time": "2023-03-28T13:47:41.459Z"
   },
   {
    "duration": 12,
    "start_time": "2023-03-28T13:47:42.601Z"
   },
   {
    "duration": 6,
    "start_time": "2023-03-28T13:47:46.146Z"
   },
   {
    "duration": 14,
    "start_time": "2023-03-28T13:47:48.337Z"
   },
   {
    "duration": 12,
    "start_time": "2023-03-28T13:47:49.934Z"
   },
   {
    "duration": 1173,
    "start_time": "2023-03-28T13:48:51.705Z"
   },
   {
    "duration": 437,
    "start_time": "2023-03-28T13:48:52.880Z"
   },
   {
    "duration": 3,
    "start_time": "2023-03-28T13:48:53.319Z"
   },
   {
    "duration": 44,
    "start_time": "2023-03-28T13:48:53.325Z"
   },
   {
    "duration": 23,
    "start_time": "2023-03-28T13:48:53.374Z"
   },
   {
    "duration": 178,
    "start_time": "2023-03-28T13:48:53.398Z"
   },
   {
    "duration": 72,
    "start_time": "2023-03-28T13:48:53.577Z"
   },
   {
    "duration": 143,
    "start_time": "2023-03-28T13:48:53.651Z"
   },
   {
    "duration": 88,
    "start_time": "2023-03-28T13:48:53.796Z"
   },
   {
    "duration": 4,
    "start_time": "2023-03-28T13:48:53.887Z"
   },
   {
    "duration": 42,
    "start_time": "2023-03-28T13:48:53.893Z"
   },
   {
    "duration": 42,
    "start_time": "2023-03-28T13:48:53.937Z"
   },
   {
    "duration": 18,
    "start_time": "2023-03-28T13:48:54.093Z"
   },
   {
    "duration": 35,
    "start_time": "2023-03-28T13:48:54.194Z"
   },
   {
    "duration": 28,
    "start_time": "2023-03-28T13:48:54.293Z"
   },
   {
    "duration": 20,
    "start_time": "2023-03-28T13:48:56.100Z"
   },
   {
    "duration": 32,
    "start_time": "2023-03-28T13:48:56.465Z"
   },
   {
    "duration": 23,
    "start_time": "2023-03-28T13:48:57.683Z"
   },
   {
    "duration": 4,
    "start_time": "2023-03-28T13:49:00.879Z"
   },
   {
    "duration": 31,
    "start_time": "2023-03-28T13:49:01.776Z"
   },
   {
    "duration": 8,
    "start_time": "2023-03-28T13:49:04.163Z"
   },
   {
    "duration": 11,
    "start_time": "2023-03-28T13:49:11.298Z"
   },
   {
    "duration": 33,
    "start_time": "2023-03-28T13:49:16.066Z"
   },
   {
    "duration": 16,
    "start_time": "2023-03-28T13:49:17.401Z"
   },
   {
    "duration": 34,
    "start_time": "2023-03-28T13:49:25.443Z"
   },
   {
    "duration": 3,
    "start_time": "2023-03-28T13:50:32.897Z"
   },
   {
    "duration": 1129,
    "start_time": "2023-03-28T13:50:48.839Z"
   },
   {
    "duration": 4,
    "start_time": "2023-03-28T13:52:06.492Z"
   },
   {
    "duration": 18,
    "start_time": "2023-03-28T13:52:09.468Z"
   },
   {
    "duration": 7,
    "start_time": "2023-03-28T13:52:20.221Z"
   },
   {
    "duration": 1259,
    "start_time": "2023-03-28T13:52:22.701Z"
   },
   {
    "duration": 15,
    "start_time": "2023-03-28T13:52:24.113Z"
   },
   {
    "duration": 8,
    "start_time": "2023-03-28T13:53:08.318Z"
   },
   {
    "duration": 1163,
    "start_time": "2023-03-28T13:53:09.872Z"
   },
   {
    "duration": 1264,
    "start_time": "2023-03-28T13:53:26.601Z"
   },
   {
    "duration": 456,
    "start_time": "2023-03-28T13:53:27.868Z"
   },
   {
    "duration": 4,
    "start_time": "2023-03-28T13:53:28.325Z"
   },
   {
    "duration": 46,
    "start_time": "2023-03-28T13:53:28.331Z"
   },
   {
    "duration": 30,
    "start_time": "2023-03-28T13:53:28.380Z"
   },
   {
    "duration": 194,
    "start_time": "2023-03-28T13:53:28.413Z"
   },
   {
    "duration": 100,
    "start_time": "2023-03-28T13:53:28.609Z"
   },
   {
    "duration": 142,
    "start_time": "2023-03-28T13:53:28.711Z"
   },
   {
    "duration": 90,
    "start_time": "2023-03-28T13:53:28.855Z"
   },
   {
    "duration": 4,
    "start_time": "2023-03-28T13:53:28.947Z"
   },
   {
    "duration": 43,
    "start_time": "2023-03-28T13:53:28.952Z"
   },
   {
    "duration": 316,
    "start_time": "2023-03-28T13:53:28.997Z"
   },
   {
    "duration": 19,
    "start_time": "2023-03-28T13:53:29.315Z"
   },
   {
    "duration": 158,
    "start_time": "2023-03-28T13:53:29.338Z"
   },
   {
    "duration": 639,
    "start_time": "2023-03-28T13:53:29.498Z"
   },
   {
    "duration": 38,
    "start_time": "2023-03-28T13:53:30.139Z"
   },
   {
    "duration": 297,
    "start_time": "2023-03-28T13:53:30.179Z"
   },
   {
    "duration": 854,
    "start_time": "2023-03-28T13:53:30.478Z"
   },
   {
    "duration": 5,
    "start_time": "2023-03-28T13:53:31.334Z"
   },
   {
    "duration": 1143,
    "start_time": "2023-03-28T13:53:31.341Z"
   },
   {
    "duration": 8,
    "start_time": "2023-03-28T13:53:32.486Z"
   },
   {
    "duration": 812,
    "start_time": "2023-03-28T13:53:32.496Z"
   },
   {
    "duration": 4,
    "start_time": "2023-03-28T13:53:33.310Z"
   },
   {
    "duration": 15,
    "start_time": "2023-03-28T13:53:33.316Z"
   },
   {
    "duration": 3,
    "start_time": "2023-03-28T13:53:33.333Z"
   },
   {
    "duration": 46,
    "start_time": "2023-03-28T13:53:33.337Z"
   },
   {
    "duration": 12,
    "start_time": "2023-03-28T13:53:33.385Z"
   },
   {
    "duration": 10,
    "start_time": "2023-03-28T13:53:33.399Z"
   },
   {
    "duration": 5,
    "start_time": "2023-03-28T13:53:33.412Z"
   },
   {
    "duration": 192,
    "start_time": "2023-03-28T13:53:33.419Z"
   },
   {
    "duration": 12,
    "start_time": "2023-03-28T13:53:33.613Z"
   },
   {
    "duration": 12,
    "start_time": "2023-03-28T13:53:33.627Z"
   },
   {
    "duration": 131,
    "start_time": "2023-03-28T13:53:33.641Z"
   },
   {
    "duration": 0,
    "start_time": "2023-03-28T13:53:33.775Z"
   },
   {
    "duration": 1,
    "start_time": "2023-03-28T13:53:33.776Z"
   },
   {
    "duration": 0,
    "start_time": "2023-03-28T13:53:33.778Z"
   },
   {
    "duration": 0,
    "start_time": "2023-03-28T13:53:33.780Z"
   },
   {
    "duration": 0,
    "start_time": "2023-03-28T13:53:33.786Z"
   },
   {
    "duration": 0,
    "start_time": "2023-03-28T13:53:33.787Z"
   },
   {
    "duration": 0,
    "start_time": "2023-03-28T13:53:33.788Z"
   },
   {
    "duration": 0,
    "start_time": "2023-03-28T13:53:33.790Z"
   },
   {
    "duration": 0,
    "start_time": "2023-03-28T13:53:33.791Z"
   },
   {
    "duration": 0,
    "start_time": "2023-03-28T13:53:33.792Z"
   },
   {
    "duration": 0,
    "start_time": "2023-03-28T13:53:33.794Z"
   },
   {
    "duration": 0,
    "start_time": "2023-03-28T13:53:33.795Z"
   },
   {
    "duration": 0,
    "start_time": "2023-03-28T13:53:33.797Z"
   },
   {
    "duration": 0,
    "start_time": "2023-03-28T13:53:33.798Z"
   },
   {
    "duration": 0,
    "start_time": "2023-03-28T13:53:33.799Z"
   },
   {
    "duration": 0,
    "start_time": "2023-03-28T13:53:33.801Z"
   },
   {
    "duration": 0,
    "start_time": "2023-03-28T13:53:33.802Z"
   },
   {
    "duration": 0,
    "start_time": "2023-03-28T13:53:33.804Z"
   },
   {
    "duration": 0,
    "start_time": "2023-03-28T13:53:33.805Z"
   },
   {
    "duration": 0,
    "start_time": "2023-03-28T13:53:33.806Z"
   },
   {
    "duration": 0,
    "start_time": "2023-03-28T13:53:33.808Z"
   },
   {
    "duration": 0,
    "start_time": "2023-03-28T13:53:33.809Z"
   },
   {
    "duration": 0,
    "start_time": "2023-03-28T13:53:33.810Z"
   },
   {
    "duration": 0,
    "start_time": "2023-03-28T13:53:33.812Z"
   },
   {
    "duration": 0,
    "start_time": "2023-03-28T13:53:33.813Z"
   },
   {
    "duration": 0,
    "start_time": "2023-03-28T13:53:33.815Z"
   },
   {
    "duration": 0,
    "start_time": "2023-03-28T13:53:33.876Z"
   },
   {
    "duration": 0,
    "start_time": "2023-03-28T13:53:33.877Z"
   },
   {
    "duration": 0,
    "start_time": "2023-03-28T13:53:33.878Z"
   },
   {
    "duration": 0,
    "start_time": "2023-03-28T13:53:33.880Z"
   },
   {
    "duration": 0,
    "start_time": "2023-03-28T13:53:33.881Z"
   },
   {
    "duration": 0,
    "start_time": "2023-03-28T13:53:33.882Z"
   },
   {
    "duration": 0,
    "start_time": "2023-03-28T13:53:33.883Z"
   },
   {
    "duration": 0,
    "start_time": "2023-03-28T13:53:33.884Z"
   },
   {
    "duration": 0,
    "start_time": "2023-03-28T13:53:33.885Z"
   },
   {
    "duration": 0,
    "start_time": "2023-03-28T13:53:33.886Z"
   },
   {
    "duration": 0,
    "start_time": "2023-03-28T13:53:33.887Z"
   },
   {
    "duration": 0,
    "start_time": "2023-03-28T13:53:33.889Z"
   },
   {
    "duration": 0,
    "start_time": "2023-03-28T13:53:33.890Z"
   },
   {
    "duration": 0,
    "start_time": "2023-03-28T13:53:33.891Z"
   },
   {
    "duration": 0,
    "start_time": "2023-03-28T13:53:33.892Z"
   },
   {
    "duration": 1,
    "start_time": "2023-03-28T13:53:33.892Z"
   },
   {
    "duration": 0,
    "start_time": "2023-03-28T13:53:33.894Z"
   },
   {
    "duration": 0,
    "start_time": "2023-03-28T13:53:33.895Z"
   },
   {
    "duration": 0,
    "start_time": "2023-03-28T13:53:33.896Z"
   },
   {
    "duration": 0,
    "start_time": "2023-03-28T13:53:33.897Z"
   },
   {
    "duration": 0,
    "start_time": "2023-03-28T13:53:33.900Z"
   },
   {
    "duration": 0,
    "start_time": "2023-03-28T13:53:33.901Z"
   },
   {
    "duration": 0,
    "start_time": "2023-03-28T13:53:33.902Z"
   },
   {
    "duration": 0,
    "start_time": "2023-03-28T13:53:33.903Z"
   },
   {
    "duration": 0,
    "start_time": "2023-03-28T13:53:33.905Z"
   },
   {
    "duration": 0,
    "start_time": "2023-03-28T13:53:33.906Z"
   },
   {
    "duration": 0,
    "start_time": "2023-03-28T13:53:33.908Z"
   },
   {
    "duration": 0,
    "start_time": "2023-03-28T13:53:33.909Z"
   },
   {
    "duration": 0,
    "start_time": "2023-03-28T13:53:33.910Z"
   },
   {
    "duration": 0,
    "start_time": "2023-03-28T13:53:33.912Z"
   },
   {
    "duration": 0,
    "start_time": "2023-03-28T13:53:33.913Z"
   },
   {
    "duration": 0,
    "start_time": "2023-03-28T13:53:33.914Z"
   },
   {
    "duration": 0,
    "start_time": "2023-03-28T13:53:33.975Z"
   },
   {
    "duration": 0,
    "start_time": "2023-03-28T13:53:33.977Z"
   },
   {
    "duration": 0,
    "start_time": "2023-03-28T13:53:33.977Z"
   },
   {
    "duration": 0,
    "start_time": "2023-03-28T13:53:33.978Z"
   },
   {
    "duration": 1,
    "start_time": "2023-03-28T13:53:33.979Z"
   },
   {
    "duration": 0,
    "start_time": "2023-03-28T13:53:33.980Z"
   },
   {
    "duration": 0,
    "start_time": "2023-03-28T13:53:33.982Z"
   },
   {
    "duration": 0,
    "start_time": "2023-03-28T13:53:33.983Z"
   },
   {
    "duration": 0,
    "start_time": "2023-03-28T13:53:33.984Z"
   },
   {
    "duration": 0,
    "start_time": "2023-03-28T13:53:33.986Z"
   },
   {
    "duration": 0,
    "start_time": "2023-03-28T13:53:33.987Z"
   },
   {
    "duration": 0,
    "start_time": "2023-03-28T13:53:33.988Z"
   },
   {
    "duration": 0,
    "start_time": "2023-03-28T13:53:33.989Z"
   },
   {
    "duration": 0,
    "start_time": "2023-03-28T13:53:33.990Z"
   },
   {
    "duration": 0,
    "start_time": "2023-03-28T13:53:33.991Z"
   },
   {
    "duration": 0,
    "start_time": "2023-03-28T13:53:33.992Z"
   },
   {
    "duration": 0,
    "start_time": "2023-03-28T13:53:33.993Z"
   },
   {
    "duration": 0,
    "start_time": "2023-03-28T13:53:33.994Z"
   },
   {
    "duration": 0,
    "start_time": "2023-03-28T13:53:33.996Z"
   },
   {
    "duration": 0,
    "start_time": "2023-03-28T13:53:33.997Z"
   },
   {
    "duration": 0,
    "start_time": "2023-03-28T13:53:33.998Z"
   },
   {
    "duration": 0,
    "start_time": "2023-03-28T13:53:33.999Z"
   },
   {
    "duration": 0,
    "start_time": "2023-03-28T13:53:34.000Z"
   },
   {
    "duration": 0,
    "start_time": "2023-03-28T13:53:34.002Z"
   },
   {
    "duration": 0,
    "start_time": "2023-03-28T13:53:34.003Z"
   },
   {
    "duration": 0,
    "start_time": "2023-03-28T13:53:34.004Z"
   },
   {
    "duration": 0,
    "start_time": "2023-03-28T13:53:34.005Z"
   },
   {
    "duration": 0,
    "start_time": "2023-03-28T13:53:34.006Z"
   },
   {
    "duration": 0,
    "start_time": "2023-03-28T13:53:34.007Z"
   },
   {
    "duration": 0,
    "start_time": "2023-03-28T13:53:34.008Z"
   },
   {
    "duration": 0,
    "start_time": "2023-03-28T13:53:34.009Z"
   },
   {
    "duration": 0,
    "start_time": "2023-03-28T13:53:34.010Z"
   },
   {
    "duration": 0,
    "start_time": "2023-03-28T13:53:34.011Z"
   },
   {
    "duration": 919,
    "start_time": "2023-03-28T13:53:56.998Z"
   },
   {
    "duration": 10,
    "start_time": "2023-03-28T13:55:33.001Z"
   },
   {
    "duration": 2,
    "start_time": "2023-03-28T13:55:37.234Z"
   },
   {
    "duration": 877,
    "start_time": "2023-03-28T13:55:38.779Z"
   },
   {
    "duration": 14,
    "start_time": "2023-03-28T13:58:36.246Z"
   },
   {
    "duration": 61,
    "start_time": "2023-03-28T13:58:42.737Z"
   },
   {
    "duration": 1189,
    "start_time": "2023-03-28T13:59:32.133Z"
   },
   {
    "duration": 8,
    "start_time": "2023-03-28T13:59:35.801Z"
   },
   {
    "duration": 4,
    "start_time": "2023-03-28T14:02:18.430Z"
   },
   {
    "duration": 6,
    "start_time": "2023-03-28T14:02:21.327Z"
   },
   {
    "duration": 10,
    "start_time": "2023-03-28T14:02:25.787Z"
   },
   {
    "duration": 6,
    "start_time": "2023-03-28T14:02:28.050Z"
   },
   {
    "duration": 4,
    "start_time": "2023-03-28T14:02:38.193Z"
   },
   {
    "duration": 7,
    "start_time": "2023-03-28T14:02:48.137Z"
   },
   {
    "duration": 85,
    "start_time": "2023-03-28T14:03:20.043Z"
   },
   {
    "duration": 77,
    "start_time": "2023-03-28T14:03:31.280Z"
   },
   {
    "duration": 13,
    "start_time": "2023-03-28T14:03:37.244Z"
   },
   {
    "duration": 14,
    "start_time": "2023-03-28T14:04:08.581Z"
   },
   {
    "duration": 14,
    "start_time": "2023-03-28T14:04:12.448Z"
   },
   {
    "duration": 72,
    "start_time": "2023-03-28T14:04:18.171Z"
   },
   {
    "duration": 66,
    "start_time": "2023-03-28T14:04:21.312Z"
   },
   {
    "duration": 9,
    "start_time": "2023-03-28T14:04:39.192Z"
   },
   {
    "duration": 11,
    "start_time": "2023-03-28T14:06:57.909Z"
   },
   {
    "duration": 3,
    "start_time": "2023-03-28T14:07:19.526Z"
   },
   {
    "duration": 865,
    "start_time": "2023-03-28T14:07:28.552Z"
   },
   {
    "duration": 66,
    "start_time": "2023-03-28T14:08:05.029Z"
   },
   {
    "duration": 10,
    "start_time": "2023-03-28T14:08:08.893Z"
   },
   {
    "duration": 10,
    "start_time": "2023-03-28T14:08:10.936Z"
   },
   {
    "duration": 9,
    "start_time": "2023-03-28T14:08:22.749Z"
   },
   {
    "duration": 3,
    "start_time": "2023-03-28T14:08:27.239Z"
   },
   {
    "duration": 3,
    "start_time": "2023-03-28T14:08:29.599Z"
   },
   {
    "duration": 902,
    "start_time": "2023-03-28T14:08:33.213Z"
   },
   {
    "duration": 75,
    "start_time": "2023-03-28T14:09:00.953Z"
   },
   {
    "duration": 4,
    "start_time": "2023-03-28T14:09:03.950Z"
   },
   {
    "duration": 870,
    "start_time": "2023-03-28T14:09:07.698Z"
   },
   {
    "duration": 2981,
    "start_time": "2023-03-28T14:12:22.210Z"
   },
   {
    "duration": 356,
    "start_time": "2023-03-28T14:12:29.052Z"
   },
   {
    "duration": 69,
    "start_time": "2023-03-28T14:14:29.897Z"
   },
   {
    "duration": 76,
    "start_time": "2023-03-28T14:14:44.774Z"
   },
   {
    "duration": 94,
    "start_time": "2023-03-28T14:14:48.075Z"
   },
   {
    "duration": 4,
    "start_time": "2023-03-28T14:14:52.748Z"
   },
   {
    "duration": 894,
    "start_time": "2023-03-28T14:14:54.924Z"
   },
   {
    "duration": 81,
    "start_time": "2023-03-28T14:15:17.808Z"
   },
   {
    "duration": 6,
    "start_time": "2023-03-28T14:15:21.160Z"
   },
   {
    "duration": 4,
    "start_time": "2023-03-28T14:15:41.746Z"
   },
   {
    "duration": 948,
    "start_time": "2023-03-28T14:15:44.404Z"
   },
   {
    "duration": 13,
    "start_time": "2023-03-28T14:16:00.827Z"
   },
   {
    "duration": 888,
    "start_time": "2023-03-28T14:16:11.177Z"
   },
   {
    "duration": 10,
    "start_time": "2023-03-28T14:16:38.882Z"
   },
   {
    "duration": 9,
    "start_time": "2023-03-28T14:16:44.591Z"
   },
   {
    "duration": 79,
    "start_time": "2023-03-28T14:17:11.073Z"
   },
   {
    "duration": 14,
    "start_time": "2023-03-28T14:17:14.507Z"
   },
   {
    "duration": 75,
    "start_time": "2023-03-28T14:17:21.144Z"
   },
   {
    "duration": 94,
    "start_time": "2023-03-28T14:17:53.664Z"
   },
   {
    "duration": 12,
    "start_time": "2023-03-28T14:17:57.320Z"
   },
   {
    "duration": 83,
    "start_time": "2023-03-28T14:18:04.709Z"
   },
   {
    "duration": 11,
    "start_time": "2023-03-28T14:18:08.044Z"
   },
   {
    "duration": 9,
    "start_time": "2023-03-28T14:18:19.300Z"
   },
   {
    "duration": 114,
    "start_time": "2023-03-28T14:18:26.671Z"
   },
   {
    "duration": 69,
    "start_time": "2023-03-28T14:18:33.509Z"
   },
   {
    "duration": 76,
    "start_time": "2023-03-28T14:18:37.821Z"
   },
   {
    "duration": 75,
    "start_time": "2023-03-28T14:18:39.879Z"
   },
   {
    "duration": 3,
    "start_time": "2023-03-28T14:18:54.297Z"
   },
   {
    "duration": 917,
    "start_time": "2023-03-28T14:18:55.867Z"
   },
   {
    "duration": 3,
    "start_time": "2023-03-28T14:19:19.660Z"
   },
   {
    "duration": 3,
    "start_time": "2023-03-28T14:19:23.713Z"
   },
   {
    "duration": 918,
    "start_time": "2023-03-28T14:19:25.996Z"
   },
   {
    "duration": 1287,
    "start_time": "2023-03-28T14:19:34.842Z"
   },
   {
    "duration": 449,
    "start_time": "2023-03-28T14:19:36.132Z"
   },
   {
    "duration": 3,
    "start_time": "2023-03-28T14:19:36.583Z"
   },
   {
    "duration": 26,
    "start_time": "2023-03-28T14:19:36.588Z"
   },
   {
    "duration": 22,
    "start_time": "2023-03-28T14:19:36.615Z"
   },
   {
    "duration": 195,
    "start_time": "2023-03-28T14:19:36.638Z"
   },
   {
    "duration": 88,
    "start_time": "2023-03-28T14:19:36.835Z"
   },
   {
    "duration": 118,
    "start_time": "2023-03-28T14:19:36.925Z"
   },
   {
    "duration": 89,
    "start_time": "2023-03-28T14:19:37.045Z"
   },
   {
    "duration": 3,
    "start_time": "2023-03-28T14:19:37.137Z"
   },
   {
    "duration": 33,
    "start_time": "2023-03-28T14:19:37.142Z"
   },
   {
    "duration": 335,
    "start_time": "2023-03-28T14:19:37.177Z"
   },
   {
    "duration": 16,
    "start_time": "2023-03-28T14:19:37.514Z"
   },
   {
    "duration": 130,
    "start_time": "2023-03-28T14:19:37.532Z"
   },
   {
    "duration": 574,
    "start_time": "2023-03-28T14:19:37.664Z"
   },
   {
    "duration": 35,
    "start_time": "2023-03-28T14:19:38.240Z"
   },
   {
    "duration": 247,
    "start_time": "2023-03-28T14:19:38.276Z"
   },
   {
    "duration": 740,
    "start_time": "2023-03-28T14:19:38.525Z"
   },
   {
    "duration": 9,
    "start_time": "2023-03-28T14:19:39.267Z"
   },
   {
    "duration": 1088,
    "start_time": "2023-03-28T14:19:39.277Z"
   },
   {
    "duration": 13,
    "start_time": "2023-03-28T14:19:40.367Z"
   },
   {
    "duration": 777,
    "start_time": "2023-03-28T14:19:40.383Z"
   },
   {
    "duration": 14,
    "start_time": "2023-03-28T14:19:41.162Z"
   },
   {
    "duration": 19,
    "start_time": "2023-03-28T14:19:41.178Z"
   },
   {
    "duration": 3,
    "start_time": "2023-03-28T14:19:41.198Z"
   },
   {
    "duration": 13,
    "start_time": "2023-03-28T14:19:41.202Z"
   },
   {
    "duration": 11,
    "start_time": "2023-03-28T14:19:41.217Z"
   },
   {
    "duration": 7,
    "start_time": "2023-03-28T14:19:41.233Z"
   },
   {
    "duration": 6,
    "start_time": "2023-03-28T14:19:41.274Z"
   },
   {
    "duration": 177,
    "start_time": "2023-03-28T14:19:41.282Z"
   },
   {
    "duration": 18,
    "start_time": "2023-03-28T14:19:41.461Z"
   },
   {
    "duration": 3,
    "start_time": "2023-03-28T14:19:41.481Z"
   },
   {
    "duration": 882,
    "start_time": "2023-03-28T14:19:41.485Z"
   },
   {
    "duration": 148,
    "start_time": "2023-03-28T14:19:42.374Z"
   },
   {
    "duration": 0,
    "start_time": "2023-03-28T14:19:42.525Z"
   },
   {
    "duration": 0,
    "start_time": "2023-03-28T14:19:42.526Z"
   },
   {
    "duration": 0,
    "start_time": "2023-03-28T14:19:42.527Z"
   },
   {
    "duration": 0,
    "start_time": "2023-03-28T14:19:42.528Z"
   },
   {
    "duration": 0,
    "start_time": "2023-03-28T14:19:42.529Z"
   },
   {
    "duration": 0,
    "start_time": "2023-03-28T14:19:42.530Z"
   },
   {
    "duration": 0,
    "start_time": "2023-03-28T14:19:42.531Z"
   },
   {
    "duration": 0,
    "start_time": "2023-03-28T14:19:42.532Z"
   },
   {
    "duration": 0,
    "start_time": "2023-03-28T14:19:42.533Z"
   },
   {
    "duration": 0,
    "start_time": "2023-03-28T14:19:42.534Z"
   },
   {
    "duration": 0,
    "start_time": "2023-03-28T14:19:42.535Z"
   },
   {
    "duration": 0,
    "start_time": "2023-03-28T14:19:42.536Z"
   },
   {
    "duration": 0,
    "start_time": "2023-03-28T14:19:42.537Z"
   },
   {
    "duration": 0,
    "start_time": "2023-03-28T14:19:42.538Z"
   },
   {
    "duration": 0,
    "start_time": "2023-03-28T14:19:42.539Z"
   },
   {
    "duration": 0,
    "start_time": "2023-03-28T14:19:42.540Z"
   },
   {
    "duration": 0,
    "start_time": "2023-03-28T14:19:42.541Z"
   },
   {
    "duration": 0,
    "start_time": "2023-03-28T14:19:42.542Z"
   },
   {
    "duration": 0,
    "start_time": "2023-03-28T14:19:42.543Z"
   },
   {
    "duration": 0,
    "start_time": "2023-03-28T14:19:42.575Z"
   },
   {
    "duration": 0,
    "start_time": "2023-03-28T14:19:42.576Z"
   },
   {
    "duration": 0,
    "start_time": "2023-03-28T14:19:42.577Z"
   },
   {
    "duration": 0,
    "start_time": "2023-03-28T14:19:42.578Z"
   },
   {
    "duration": 0,
    "start_time": "2023-03-28T14:19:42.579Z"
   },
   {
    "duration": 0,
    "start_time": "2023-03-28T14:19:42.581Z"
   },
   {
    "duration": 0,
    "start_time": "2023-03-28T14:19:42.582Z"
   },
   {
    "duration": 0,
    "start_time": "2023-03-28T14:19:42.583Z"
   },
   {
    "duration": 0,
    "start_time": "2023-03-28T14:19:42.584Z"
   },
   {
    "duration": 0,
    "start_time": "2023-03-28T14:19:42.585Z"
   },
   {
    "duration": 0,
    "start_time": "2023-03-28T14:19:42.586Z"
   },
   {
    "duration": 0,
    "start_time": "2023-03-28T14:19:42.587Z"
   },
   {
    "duration": 0,
    "start_time": "2023-03-28T14:19:42.588Z"
   },
   {
    "duration": 0,
    "start_time": "2023-03-28T14:19:42.589Z"
   },
   {
    "duration": 0,
    "start_time": "2023-03-28T14:19:42.590Z"
   },
   {
    "duration": 0,
    "start_time": "2023-03-28T14:19:42.591Z"
   },
   {
    "duration": 0,
    "start_time": "2023-03-28T14:19:42.592Z"
   },
   {
    "duration": 0,
    "start_time": "2023-03-28T14:19:42.593Z"
   },
   {
    "duration": 0,
    "start_time": "2023-03-28T14:19:42.594Z"
   },
   {
    "duration": 0,
    "start_time": "2023-03-28T14:19:42.595Z"
   },
   {
    "duration": 0,
    "start_time": "2023-03-28T14:19:42.596Z"
   },
   {
    "duration": 0,
    "start_time": "2023-03-28T14:19:42.597Z"
   },
   {
    "duration": 0,
    "start_time": "2023-03-28T14:19:42.598Z"
   },
   {
    "duration": 0,
    "start_time": "2023-03-28T14:19:42.600Z"
   },
   {
    "duration": 0,
    "start_time": "2023-03-28T14:19:42.601Z"
   },
   {
    "duration": 0,
    "start_time": "2023-03-28T14:19:42.602Z"
   },
   {
    "duration": 0,
    "start_time": "2023-03-28T14:19:42.602Z"
   },
   {
    "duration": 0,
    "start_time": "2023-03-28T14:19:42.603Z"
   },
   {
    "duration": 0,
    "start_time": "2023-03-28T14:19:42.604Z"
   },
   {
    "duration": 0,
    "start_time": "2023-03-28T14:19:42.605Z"
   },
   {
    "duration": 0,
    "start_time": "2023-03-28T14:19:42.606Z"
   },
   {
    "duration": 0,
    "start_time": "2023-03-28T14:19:42.607Z"
   },
   {
    "duration": 0,
    "start_time": "2023-03-28T14:19:42.608Z"
   },
   {
    "duration": 0,
    "start_time": "2023-03-28T14:19:42.609Z"
   },
   {
    "duration": 0,
    "start_time": "2023-03-28T14:19:42.610Z"
   },
   {
    "duration": 0,
    "start_time": "2023-03-28T14:19:42.611Z"
   },
   {
    "duration": 0,
    "start_time": "2023-03-28T14:19:42.675Z"
   },
   {
    "duration": 0,
    "start_time": "2023-03-28T14:19:42.677Z"
   },
   {
    "duration": 0,
    "start_time": "2023-03-28T14:19:42.678Z"
   },
   {
    "duration": 0,
    "start_time": "2023-03-28T14:19:42.678Z"
   },
   {
    "duration": 0,
    "start_time": "2023-03-28T14:19:42.680Z"
   },
   {
    "duration": 0,
    "start_time": "2023-03-28T14:19:42.680Z"
   },
   {
    "duration": 0,
    "start_time": "2023-03-28T14:19:42.681Z"
   },
   {
    "duration": 0,
    "start_time": "2023-03-28T14:19:42.682Z"
   },
   {
    "duration": 0,
    "start_time": "2023-03-28T14:19:42.683Z"
   },
   {
    "duration": 0,
    "start_time": "2023-03-28T14:19:42.684Z"
   },
   {
    "duration": 0,
    "start_time": "2023-03-28T14:19:42.685Z"
   },
   {
    "duration": 0,
    "start_time": "2023-03-28T14:19:42.686Z"
   },
   {
    "duration": 0,
    "start_time": "2023-03-28T14:19:42.687Z"
   },
   {
    "duration": 0,
    "start_time": "2023-03-28T14:19:42.688Z"
   },
   {
    "duration": 0,
    "start_time": "2023-03-28T14:19:42.689Z"
   },
   {
    "duration": 0,
    "start_time": "2023-03-28T14:19:42.689Z"
   },
   {
    "duration": 0,
    "start_time": "2023-03-28T14:19:42.690Z"
   },
   {
    "duration": 0,
    "start_time": "2023-03-28T14:19:42.691Z"
   },
   {
    "duration": 0,
    "start_time": "2023-03-28T14:19:42.692Z"
   },
   {
    "duration": 0,
    "start_time": "2023-03-28T14:19:42.693Z"
   },
   {
    "duration": 0,
    "start_time": "2023-03-28T14:19:42.694Z"
   },
   {
    "duration": 0,
    "start_time": "2023-03-28T14:19:42.695Z"
   },
   {
    "duration": 0,
    "start_time": "2023-03-28T14:19:42.696Z"
   },
   {
    "duration": 0,
    "start_time": "2023-03-28T14:19:42.696Z"
   },
   {
    "duration": 0,
    "start_time": "2023-03-28T14:19:42.697Z"
   },
   {
    "duration": 0,
    "start_time": "2023-03-28T14:19:42.698Z"
   },
   {
    "duration": 0,
    "start_time": "2023-03-28T14:19:42.699Z"
   },
   {
    "duration": 0,
    "start_time": "2023-03-28T14:19:42.700Z"
   },
   {
    "duration": 0,
    "start_time": "2023-03-28T14:19:42.701Z"
   },
   {
    "duration": 0,
    "start_time": "2023-03-28T14:19:42.702Z"
   },
   {
    "duration": 0,
    "start_time": "2023-03-28T14:19:42.703Z"
   },
   {
    "duration": 0,
    "start_time": "2023-03-28T14:19:42.704Z"
   },
   {
    "duration": 0,
    "start_time": "2023-03-28T14:19:42.705Z"
   },
   {
    "duration": 0,
    "start_time": "2023-03-28T14:19:42.706Z"
   },
   {
    "duration": 0,
    "start_time": "2023-03-28T14:19:42.707Z"
   },
   {
    "duration": 0,
    "start_time": "2023-03-28T14:19:42.708Z"
   },
   {
    "duration": 0,
    "start_time": "2023-03-28T14:19:42.709Z"
   },
   {
    "duration": 0,
    "start_time": "2023-03-28T14:19:42.710Z"
   },
   {
    "duration": 7,
    "start_time": "2023-03-28T14:23:59.644Z"
   },
   {
    "duration": 10,
    "start_time": "2023-03-28T14:24:01.812Z"
   },
   {
    "duration": 9,
    "start_time": "2023-03-28T14:24:18.978Z"
   },
   {
    "duration": 9,
    "start_time": "2023-03-28T14:26:36.233Z"
   },
   {
    "duration": 93,
    "start_time": "2023-03-28T14:27:07.712Z"
   },
   {
    "duration": 10,
    "start_time": "2023-03-28T14:27:11.502Z"
   },
   {
    "duration": 9,
    "start_time": "2023-03-28T14:27:19.584Z"
   },
   {
    "duration": 10,
    "start_time": "2023-03-28T14:27:45.517Z"
   },
   {
    "duration": 9,
    "start_time": "2023-03-28T14:27:48.782Z"
   },
   {
    "duration": 1185,
    "start_time": "2023-03-28T14:31:00.857Z"
   },
   {
    "duration": 448,
    "start_time": "2023-03-28T14:31:02.044Z"
   },
   {
    "duration": 3,
    "start_time": "2023-03-28T14:31:02.869Z"
   },
   {
    "duration": 27,
    "start_time": "2023-03-28T14:31:03.528Z"
   },
   {
    "duration": 23,
    "start_time": "2023-03-28T14:31:05.937Z"
   },
   {
    "duration": 167,
    "start_time": "2023-03-28T14:31:08.334Z"
   },
   {
    "duration": 73,
    "start_time": "2023-03-28T14:31:10.668Z"
   },
   {
    "duration": 111,
    "start_time": "2023-03-28T14:31:12.870Z"
   },
   {
    "duration": 76,
    "start_time": "2023-03-28T14:31:15.483Z"
   },
   {
    "duration": 4,
    "start_time": "2023-03-28T14:31:16.665Z"
   },
   {
    "duration": 25,
    "start_time": "2023-03-28T14:31:19.942Z"
   },
   {
    "duration": 312,
    "start_time": "2023-03-28T14:31:21.000Z"
   },
   {
    "duration": 16,
    "start_time": "2023-03-28T14:31:24.728Z"
   },
   {
    "duration": 125,
    "start_time": "2023-03-28T14:31:25.624Z"
   },
   {
    "duration": 550,
    "start_time": "2023-03-28T14:31:28.918Z"
   },
   {
    "duration": 19,
    "start_time": "2023-03-28T14:31:42.182Z"
   },
   {
    "duration": 237,
    "start_time": "2023-03-28T14:31:43.511Z"
   },
   {
    "duration": 1290,
    "start_time": "2023-03-28T14:34:04.069Z"
   },
   {
    "duration": 448,
    "start_time": "2023-03-28T14:34:05.361Z"
   },
   {
    "duration": 3,
    "start_time": "2023-03-28T14:34:05.811Z"
   },
   {
    "duration": 27,
    "start_time": "2023-03-28T14:34:05.817Z"
   },
   {
    "duration": 43,
    "start_time": "2023-03-28T14:34:05.845Z"
   },
   {
    "duration": 175,
    "start_time": "2023-03-28T14:34:05.890Z"
   },
   {
    "duration": 81,
    "start_time": "2023-03-28T14:34:06.067Z"
   },
   {
    "duration": 136,
    "start_time": "2023-03-28T14:34:06.150Z"
   },
   {
    "duration": 88,
    "start_time": "2023-03-28T14:34:06.288Z"
   },
   {
    "duration": 5,
    "start_time": "2023-03-28T14:34:06.379Z"
   },
   {
    "duration": 32,
    "start_time": "2023-03-28T14:34:06.385Z"
   },
   {
    "duration": 57,
    "start_time": "2023-03-28T14:34:06.419Z"
   },
   {
    "duration": 16,
    "start_time": "2023-03-28T14:34:06.478Z"
   },
   {
    "duration": 28,
    "start_time": "2023-03-28T14:34:06.496Z"
   },
   {
    "duration": 21,
    "start_time": "2023-03-28T14:34:06.526Z"
   },
   {
    "duration": 42,
    "start_time": "2023-03-28T14:34:06.549Z"
   },
   {
    "duration": 29,
    "start_time": "2023-03-28T14:34:06.593Z"
   },
   {
    "duration": 22,
    "start_time": "2023-03-28T14:34:06.624Z"
   },
   {
    "duration": 128,
    "start_time": "2023-03-28T14:34:06.648Z"
   },
   {
    "duration": 0,
    "start_time": "2023-03-28T14:34:06.781Z"
   },
   {
    "duration": 0,
    "start_time": "2023-03-28T14:34:06.782Z"
   },
   {
    "duration": 0,
    "start_time": "2023-03-28T14:34:06.783Z"
   },
   {
    "duration": 0,
    "start_time": "2023-03-28T14:34:06.784Z"
   },
   {
    "duration": 0,
    "start_time": "2023-03-28T14:34:06.785Z"
   },
   {
    "duration": 1,
    "start_time": "2023-03-28T14:34:06.786Z"
   },
   {
    "duration": 0,
    "start_time": "2023-03-28T14:34:06.788Z"
   },
   {
    "duration": 0,
    "start_time": "2023-03-28T14:34:06.789Z"
   },
   {
    "duration": 0,
    "start_time": "2023-03-28T14:34:06.790Z"
   },
   {
    "duration": 0,
    "start_time": "2023-03-28T14:34:06.791Z"
   },
   {
    "duration": 0,
    "start_time": "2023-03-28T14:34:06.791Z"
   },
   {
    "duration": 0,
    "start_time": "2023-03-28T14:34:06.792Z"
   },
   {
    "duration": 0,
    "start_time": "2023-03-28T14:34:06.794Z"
   },
   {
    "duration": 0,
    "start_time": "2023-03-28T14:34:06.795Z"
   },
   {
    "duration": 0,
    "start_time": "2023-03-28T14:34:06.796Z"
   },
   {
    "duration": 0,
    "start_time": "2023-03-28T14:34:06.797Z"
   },
   {
    "duration": 0,
    "start_time": "2023-03-28T14:34:06.798Z"
   },
   {
    "duration": 0,
    "start_time": "2023-03-28T14:34:06.799Z"
   },
   {
    "duration": 0,
    "start_time": "2023-03-28T14:34:06.800Z"
   },
   {
    "duration": 0,
    "start_time": "2023-03-28T14:34:06.801Z"
   },
   {
    "duration": 0,
    "start_time": "2023-03-28T14:34:06.803Z"
   },
   {
    "duration": 0,
    "start_time": "2023-03-28T14:34:06.804Z"
   },
   {
    "duration": 0,
    "start_time": "2023-03-28T14:34:06.805Z"
   },
   {
    "duration": 0,
    "start_time": "2023-03-28T14:34:06.806Z"
   },
   {
    "duration": 0,
    "start_time": "2023-03-28T14:34:06.807Z"
   },
   {
    "duration": 0,
    "start_time": "2023-03-28T14:34:06.808Z"
   },
   {
    "duration": 0,
    "start_time": "2023-03-28T14:34:06.809Z"
   },
   {
    "duration": 0,
    "start_time": "2023-03-28T14:34:06.810Z"
   },
   {
    "duration": 0,
    "start_time": "2023-03-28T14:34:06.811Z"
   },
   {
    "duration": 0,
    "start_time": "2023-03-28T14:34:06.812Z"
   },
   {
    "duration": 0,
    "start_time": "2023-03-28T14:34:06.813Z"
   },
   {
    "duration": 0,
    "start_time": "2023-03-28T14:34:06.814Z"
   },
   {
    "duration": 0,
    "start_time": "2023-03-28T14:34:06.816Z"
   },
   {
    "duration": 0,
    "start_time": "2023-03-28T14:34:06.816Z"
   },
   {
    "duration": 0,
    "start_time": "2023-03-28T14:34:06.817Z"
   },
   {
    "duration": 0,
    "start_time": "2023-03-28T14:34:06.874Z"
   },
   {
    "duration": 0,
    "start_time": "2023-03-28T14:34:06.876Z"
   },
   {
    "duration": 0,
    "start_time": "2023-03-28T14:34:06.877Z"
   },
   {
    "duration": 0,
    "start_time": "2023-03-28T14:34:06.878Z"
   },
   {
    "duration": 0,
    "start_time": "2023-03-28T14:34:06.879Z"
   },
   {
    "duration": 0,
    "start_time": "2023-03-28T14:34:06.880Z"
   },
   {
    "duration": 0,
    "start_time": "2023-03-28T14:34:06.881Z"
   },
   {
    "duration": 0,
    "start_time": "2023-03-28T14:34:06.882Z"
   },
   {
    "duration": 0,
    "start_time": "2023-03-28T14:34:06.883Z"
   },
   {
    "duration": 0,
    "start_time": "2023-03-28T14:34:06.884Z"
   },
   {
    "duration": 0,
    "start_time": "2023-03-28T14:34:06.885Z"
   },
   {
    "duration": 0,
    "start_time": "2023-03-28T14:34:06.886Z"
   },
   {
    "duration": 0,
    "start_time": "2023-03-28T14:34:06.887Z"
   },
   {
    "duration": 0,
    "start_time": "2023-03-28T14:34:06.888Z"
   },
   {
    "duration": 0,
    "start_time": "2023-03-28T14:34:06.889Z"
   },
   {
    "duration": 0,
    "start_time": "2023-03-28T14:34:06.890Z"
   },
   {
    "duration": 0,
    "start_time": "2023-03-28T14:34:06.891Z"
   },
   {
    "duration": 0,
    "start_time": "2023-03-28T14:34:06.892Z"
   },
   {
    "duration": 0,
    "start_time": "2023-03-28T14:34:06.893Z"
   },
   {
    "duration": 0,
    "start_time": "2023-03-28T14:34:06.894Z"
   },
   {
    "duration": 0,
    "start_time": "2023-03-28T14:34:06.895Z"
   },
   {
    "duration": 0,
    "start_time": "2023-03-28T14:34:06.896Z"
   },
   {
    "duration": 0,
    "start_time": "2023-03-28T14:34:06.897Z"
   },
   {
    "duration": 0,
    "start_time": "2023-03-28T14:34:06.898Z"
   },
   {
    "duration": 0,
    "start_time": "2023-03-28T14:34:06.899Z"
   },
   {
    "duration": 0,
    "start_time": "2023-03-28T14:34:06.900Z"
   },
   {
    "duration": 0,
    "start_time": "2023-03-28T14:34:06.901Z"
   },
   {
    "duration": 0,
    "start_time": "2023-03-28T14:34:06.902Z"
   },
   {
    "duration": 0,
    "start_time": "2023-03-28T14:34:06.903Z"
   },
   {
    "duration": 0,
    "start_time": "2023-03-28T14:34:06.905Z"
   },
   {
    "duration": 0,
    "start_time": "2023-03-28T14:34:06.905Z"
   },
   {
    "duration": 0,
    "start_time": "2023-03-28T14:34:06.907Z"
   },
   {
    "duration": 0,
    "start_time": "2023-03-28T14:34:06.908Z"
   },
   {
    "duration": 0,
    "start_time": "2023-03-28T14:34:06.909Z"
   },
   {
    "duration": 0,
    "start_time": "2023-03-28T14:34:06.910Z"
   },
   {
    "duration": 0,
    "start_time": "2023-03-28T14:34:06.911Z"
   },
   {
    "duration": 0,
    "start_time": "2023-03-28T14:34:06.912Z"
   },
   {
    "duration": 0,
    "start_time": "2023-03-28T14:34:06.976Z"
   },
   {
    "duration": 0,
    "start_time": "2023-03-28T14:34:06.977Z"
   },
   {
    "duration": 0,
    "start_time": "2023-03-28T14:34:06.978Z"
   },
   {
    "duration": 0,
    "start_time": "2023-03-28T14:34:06.979Z"
   },
   {
    "duration": 0,
    "start_time": "2023-03-28T14:34:06.980Z"
   },
   {
    "duration": 0,
    "start_time": "2023-03-28T14:34:06.981Z"
   },
   {
    "duration": 0,
    "start_time": "2023-03-28T14:34:06.982Z"
   },
   {
    "duration": 0,
    "start_time": "2023-03-28T14:34:06.983Z"
   },
   {
    "duration": 0,
    "start_time": "2023-03-28T14:34:06.984Z"
   },
   {
    "duration": 0,
    "start_time": "2023-03-28T14:34:06.986Z"
   },
   {
    "duration": 0,
    "start_time": "2023-03-28T14:34:06.987Z"
   },
   {
    "duration": 0,
    "start_time": "2023-03-28T14:34:06.988Z"
   },
   {
    "duration": 0,
    "start_time": "2023-03-28T14:34:06.990Z"
   },
   {
    "duration": 0,
    "start_time": "2023-03-28T14:34:06.991Z"
   },
   {
    "duration": 0,
    "start_time": "2023-03-28T14:34:06.993Z"
   },
   {
    "duration": 0,
    "start_time": "2023-03-28T14:34:06.994Z"
   },
   {
    "duration": 0,
    "start_time": "2023-03-28T14:34:06.995Z"
   },
   {
    "duration": 0,
    "start_time": "2023-03-28T14:34:06.996Z"
   },
   {
    "duration": 0,
    "start_time": "2023-03-28T14:34:06.998Z"
   },
   {
    "duration": 0,
    "start_time": "2023-03-28T14:34:06.999Z"
   },
   {
    "duration": 0,
    "start_time": "2023-03-28T14:34:07.001Z"
   },
   {
    "duration": 0,
    "start_time": "2023-03-28T14:34:07.002Z"
   },
   {
    "duration": 0,
    "start_time": "2023-03-28T14:34:07.003Z"
   },
   {
    "duration": 0,
    "start_time": "2023-03-28T14:34:07.004Z"
   },
   {
    "duration": 0,
    "start_time": "2023-03-28T14:34:07.006Z"
   },
   {
    "duration": 0,
    "start_time": "2023-03-28T14:34:07.007Z"
   },
   {
    "duration": 0,
    "start_time": "2023-03-28T14:34:07.008Z"
   },
   {
    "duration": 0,
    "start_time": "2023-03-28T14:34:07.009Z"
   },
   {
    "duration": 0,
    "start_time": "2023-03-28T14:34:07.010Z"
   },
   {
    "duration": 0,
    "start_time": "2023-03-28T14:34:07.011Z"
   },
   {
    "duration": 0,
    "start_time": "2023-03-28T14:34:07.012Z"
   },
   {
    "duration": 0,
    "start_time": "2023-03-28T14:34:07.013Z"
   },
   {
    "duration": 0,
    "start_time": "2023-03-28T14:34:07.075Z"
   },
   {
    "duration": 115,
    "start_time": "2023-03-28T14:42:53.770Z"
   },
   {
    "duration": 1289,
    "start_time": "2023-03-28T14:47:13.401Z"
   },
   {
    "duration": 440,
    "start_time": "2023-03-28T14:47:14.692Z"
   },
   {
    "duration": 3,
    "start_time": "2023-03-28T14:47:15.134Z"
   },
   {
    "duration": 30,
    "start_time": "2023-03-28T14:47:15.139Z"
   },
   {
    "duration": 24,
    "start_time": "2023-03-28T14:47:15.175Z"
   },
   {
    "duration": 176,
    "start_time": "2023-03-28T14:47:15.201Z"
   },
   {
    "duration": 72,
    "start_time": "2023-03-28T14:47:15.379Z"
   },
   {
    "duration": 155,
    "start_time": "2023-03-28T14:47:15.452Z"
   },
   {
    "duration": 85,
    "start_time": "2023-03-28T14:47:15.609Z"
   },
   {
    "duration": 4,
    "start_time": "2023-03-28T14:47:15.697Z"
   },
   {
    "duration": 6,
    "start_time": "2023-03-28T14:47:15.703Z"
   },
   {
    "duration": 7,
    "start_time": "2023-03-28T14:47:15.711Z"
   },
   {
    "duration": 4,
    "start_time": "2023-03-28T14:47:15.720Z"
   },
   {
    "duration": 4,
    "start_time": "2023-03-28T14:47:15.726Z"
   },
   {
    "duration": 4,
    "start_time": "2023-03-28T14:47:15.732Z"
   },
   {
    "duration": 9,
    "start_time": "2023-03-28T14:47:15.738Z"
   },
   {
    "duration": 6,
    "start_time": "2023-03-28T14:47:15.749Z"
   },
   {
    "duration": 5,
    "start_time": "2023-03-28T14:47:15.776Z"
   },
   {
    "duration": 124,
    "start_time": "2023-03-28T14:47:15.782Z"
   },
   {
    "duration": 116,
    "start_time": "2023-03-28T14:47:15.908Z"
   },
   {
    "duration": 0,
    "start_time": "2023-03-28T14:47:16.030Z"
   },
   {
    "duration": 0,
    "start_time": "2023-03-28T14:47:16.032Z"
   },
   {
    "duration": 0,
    "start_time": "2023-03-28T14:47:16.033Z"
   },
   {
    "duration": 0,
    "start_time": "2023-03-28T14:47:16.034Z"
   },
   {
    "duration": 0,
    "start_time": "2023-03-28T14:47:16.035Z"
   },
   {
    "duration": 0,
    "start_time": "2023-03-28T14:47:16.037Z"
   },
   {
    "duration": 0,
    "start_time": "2023-03-28T14:47:16.038Z"
   },
   {
    "duration": 0,
    "start_time": "2023-03-28T14:47:16.039Z"
   },
   {
    "duration": 0,
    "start_time": "2023-03-28T14:47:16.040Z"
   },
   {
    "duration": 0,
    "start_time": "2023-03-28T14:47:16.042Z"
   },
   {
    "duration": 0,
    "start_time": "2023-03-28T14:47:16.043Z"
   },
   {
    "duration": 0,
    "start_time": "2023-03-28T14:47:16.044Z"
   },
   {
    "duration": 0,
    "start_time": "2023-03-28T14:47:16.045Z"
   },
   {
    "duration": 0,
    "start_time": "2023-03-28T14:47:16.046Z"
   },
   {
    "duration": 0,
    "start_time": "2023-03-28T14:47:16.075Z"
   },
   {
    "duration": 0,
    "start_time": "2023-03-28T14:47:16.076Z"
   },
   {
    "duration": 0,
    "start_time": "2023-03-28T14:47:16.077Z"
   },
   {
    "duration": 0,
    "start_time": "2023-03-28T14:47:16.078Z"
   },
   {
    "duration": 0,
    "start_time": "2023-03-28T14:47:16.079Z"
   },
   {
    "duration": 0,
    "start_time": "2023-03-28T14:47:16.080Z"
   },
   {
    "duration": 0,
    "start_time": "2023-03-28T14:47:16.081Z"
   },
   {
    "duration": 0,
    "start_time": "2023-03-28T14:47:16.082Z"
   },
   {
    "duration": 0,
    "start_time": "2023-03-28T14:47:16.083Z"
   },
   {
    "duration": 0,
    "start_time": "2023-03-28T14:47:16.085Z"
   },
   {
    "duration": 0,
    "start_time": "2023-03-28T14:47:16.086Z"
   },
   {
    "duration": 0,
    "start_time": "2023-03-28T14:47:16.087Z"
   },
   {
    "duration": 0,
    "start_time": "2023-03-28T14:47:16.088Z"
   },
   {
    "duration": 0,
    "start_time": "2023-03-28T14:47:16.089Z"
   },
   {
    "duration": 0,
    "start_time": "2023-03-28T14:47:16.090Z"
   },
   {
    "duration": 0,
    "start_time": "2023-03-28T14:47:16.091Z"
   },
   {
    "duration": 0,
    "start_time": "2023-03-28T14:47:16.093Z"
   },
   {
    "duration": 0,
    "start_time": "2023-03-28T14:47:16.094Z"
   },
   {
    "duration": 0,
    "start_time": "2023-03-28T14:47:16.095Z"
   },
   {
    "duration": 0,
    "start_time": "2023-03-28T14:47:16.096Z"
   },
   {
    "duration": 0,
    "start_time": "2023-03-28T14:47:16.097Z"
   },
   {
    "duration": 0,
    "start_time": "2023-03-28T14:47:16.098Z"
   },
   {
    "duration": 0,
    "start_time": "2023-03-28T14:47:16.100Z"
   },
   {
    "duration": 0,
    "start_time": "2023-03-28T14:47:16.101Z"
   },
   {
    "duration": 0,
    "start_time": "2023-03-28T14:47:16.102Z"
   },
   {
    "duration": 0,
    "start_time": "2023-03-28T14:47:16.103Z"
   },
   {
    "duration": 0,
    "start_time": "2023-03-28T14:47:16.104Z"
   },
   {
    "duration": 0,
    "start_time": "2023-03-28T14:47:16.105Z"
   },
   {
    "duration": 0,
    "start_time": "2023-03-28T14:47:16.106Z"
   },
   {
    "duration": 0,
    "start_time": "2023-03-28T14:47:16.108Z"
   },
   {
    "duration": 0,
    "start_time": "2023-03-28T14:47:16.109Z"
   },
   {
    "duration": 0,
    "start_time": "2023-03-28T14:47:16.110Z"
   },
   {
    "duration": 0,
    "start_time": "2023-03-28T14:47:16.175Z"
   },
   {
    "duration": 0,
    "start_time": "2023-03-28T14:47:16.177Z"
   },
   {
    "duration": 0,
    "start_time": "2023-03-28T14:47:16.178Z"
   },
   {
    "duration": 0,
    "start_time": "2023-03-28T14:47:16.179Z"
   },
   {
    "duration": 0,
    "start_time": "2023-03-28T14:47:16.180Z"
   },
   {
    "duration": 0,
    "start_time": "2023-03-28T14:47:16.182Z"
   },
   {
    "duration": 0,
    "start_time": "2023-03-28T14:47:16.183Z"
   },
   {
    "duration": 0,
    "start_time": "2023-03-28T14:47:16.185Z"
   },
   {
    "duration": 0,
    "start_time": "2023-03-28T14:47:16.186Z"
   },
   {
    "duration": 0,
    "start_time": "2023-03-28T14:47:16.188Z"
   },
   {
    "duration": 0,
    "start_time": "2023-03-28T14:47:16.189Z"
   },
   {
    "duration": 0,
    "start_time": "2023-03-28T14:47:16.189Z"
   },
   {
    "duration": 0,
    "start_time": "2023-03-28T14:47:16.190Z"
   },
   {
    "duration": 0,
    "start_time": "2023-03-28T14:47:16.191Z"
   },
   {
    "duration": 0,
    "start_time": "2023-03-28T14:47:16.192Z"
   },
   {
    "duration": 0,
    "start_time": "2023-03-28T14:47:16.194Z"
   },
   {
    "duration": 0,
    "start_time": "2023-03-28T14:47:16.196Z"
   },
   {
    "duration": 0,
    "start_time": "2023-03-28T14:47:16.197Z"
   },
   {
    "duration": 0,
    "start_time": "2023-03-28T14:47:16.199Z"
   },
   {
    "duration": 0,
    "start_time": "2023-03-28T14:47:16.200Z"
   },
   {
    "duration": 0,
    "start_time": "2023-03-28T14:47:16.202Z"
   },
   {
    "duration": 0,
    "start_time": "2023-03-28T14:47:16.205Z"
   },
   {
    "duration": 1,
    "start_time": "2023-03-28T14:47:16.206Z"
   },
   {
    "duration": 0,
    "start_time": "2023-03-28T14:47:16.208Z"
   },
   {
    "duration": 0,
    "start_time": "2023-03-28T14:47:16.209Z"
   },
   {
    "duration": 0,
    "start_time": "2023-03-28T14:47:16.210Z"
   },
   {
    "duration": 0,
    "start_time": "2023-03-28T14:47:16.212Z"
   },
   {
    "duration": 0,
    "start_time": "2023-03-28T14:47:16.274Z"
   },
   {
    "duration": 0,
    "start_time": "2023-03-28T14:47:16.276Z"
   },
   {
    "duration": 0,
    "start_time": "2023-03-28T14:47:16.277Z"
   },
   {
    "duration": 0,
    "start_time": "2023-03-28T14:47:16.278Z"
   },
   {
    "duration": 0,
    "start_time": "2023-03-28T14:47:16.279Z"
   },
   {
    "duration": 0,
    "start_time": "2023-03-28T14:47:16.280Z"
   },
   {
    "duration": 0,
    "start_time": "2023-03-28T14:47:16.281Z"
   },
   {
    "duration": 0,
    "start_time": "2023-03-28T14:47:16.282Z"
   },
   {
    "duration": 0,
    "start_time": "2023-03-28T14:47:16.283Z"
   },
   {
    "duration": 0,
    "start_time": "2023-03-28T14:47:16.285Z"
   },
   {
    "duration": 0,
    "start_time": "2023-03-28T14:47:16.286Z"
   },
   {
    "duration": 0,
    "start_time": "2023-03-28T14:47:16.288Z"
   },
   {
    "duration": 0,
    "start_time": "2023-03-28T14:47:16.289Z"
   },
   {
    "duration": 0,
    "start_time": "2023-03-28T14:47:16.290Z"
   },
   {
    "duration": 0,
    "start_time": "2023-03-28T14:47:16.292Z"
   },
   {
    "duration": 0,
    "start_time": "2023-03-28T14:47:16.293Z"
   },
   {
    "duration": 0,
    "start_time": "2023-03-28T14:47:16.294Z"
   },
   {
    "duration": 0,
    "start_time": "2023-03-28T14:47:16.296Z"
   },
   {
    "duration": 0,
    "start_time": "2023-03-28T14:47:16.297Z"
   },
   {
    "duration": 0,
    "start_time": "2023-03-28T14:47:16.298Z"
   },
   {
    "duration": 0,
    "start_time": "2023-03-28T14:47:16.300Z"
   },
   {
    "duration": 0,
    "start_time": "2023-03-28T14:47:16.301Z"
   },
   {
    "duration": 0,
    "start_time": "2023-03-28T14:47:16.302Z"
   },
   {
    "duration": 0,
    "start_time": "2023-03-28T14:47:16.304Z"
   },
   {
    "duration": 0,
    "start_time": "2023-03-28T14:47:16.305Z"
   },
   {
    "duration": 0,
    "start_time": "2023-03-28T14:47:16.306Z"
   },
   {
    "duration": 0,
    "start_time": "2023-03-28T14:47:16.308Z"
   },
   {
    "duration": 0,
    "start_time": "2023-03-28T14:47:16.308Z"
   },
   {
    "duration": 0,
    "start_time": "2023-03-28T14:47:16.310Z"
   },
   {
    "duration": 0,
    "start_time": "2023-03-28T14:47:16.311Z"
   },
   {
    "duration": 0,
    "start_time": "2023-03-28T14:47:16.312Z"
   },
   {
    "duration": 0,
    "start_time": "2023-03-28T14:47:16.313Z"
   },
   {
    "duration": 0,
    "start_time": "2023-03-28T14:47:16.374Z"
   },
   {
    "duration": 120,
    "start_time": "2023-03-28T14:48:03.181Z"
   },
   {
    "duration": 30,
    "start_time": "2023-03-28T14:48:05.229Z"
   },
   {
    "duration": 17,
    "start_time": "2023-03-28T14:48:28.372Z"
   },
   {
    "duration": 11,
    "start_time": "2023-03-28T14:55:53.977Z"
   },
   {
    "duration": 54,
    "start_time": "2023-03-28T14:56:55.901Z"
   },
   {
    "duration": 1252,
    "start_time": "2023-03-28T14:57:23.344Z"
   },
   {
    "duration": 490,
    "start_time": "2023-03-28T14:57:24.598Z"
   },
   {
    "duration": 3,
    "start_time": "2023-03-28T14:57:25.090Z"
   },
   {
    "duration": 24,
    "start_time": "2023-03-28T14:57:25.096Z"
   },
   {
    "duration": 24,
    "start_time": "2023-03-28T14:57:25.121Z"
   },
   {
    "duration": 192,
    "start_time": "2023-03-28T14:57:25.146Z"
   },
   {
    "duration": 81,
    "start_time": "2023-03-28T14:57:25.340Z"
   },
   {
    "duration": 119,
    "start_time": "2023-03-28T14:57:25.423Z"
   },
   {
    "duration": 83,
    "start_time": "2023-03-28T14:57:25.543Z"
   },
   {
    "duration": 4,
    "start_time": "2023-03-28T14:57:25.628Z"
   },
   {
    "duration": 14,
    "start_time": "2023-03-28T14:57:25.634Z"
   },
   {
    "duration": 25,
    "start_time": "2023-03-28T14:57:25.649Z"
   },
   {
    "duration": 11,
    "start_time": "2023-03-28T14:57:25.675Z"
   },
   {
    "duration": 10,
    "start_time": "2023-03-28T14:57:25.688Z"
   },
   {
    "duration": 8,
    "start_time": "2023-03-28T14:57:25.700Z"
   },
   {
    "duration": 12,
    "start_time": "2023-03-28T14:57:25.709Z"
   },
   {
    "duration": 14,
    "start_time": "2023-03-28T14:57:25.723Z"
   },
   {
    "duration": 5,
    "start_time": "2023-03-28T14:57:25.739Z"
   },
   {
    "duration": 64,
    "start_time": "2023-03-28T14:57:25.745Z"
   },
   {
    "duration": 71,
    "start_time": "2023-03-28T14:57:25.811Z"
   },
   {
    "duration": 30,
    "start_time": "2023-03-28T14:57:25.884Z"
   },
   {
    "duration": 16,
    "start_time": "2023-03-28T14:57:25.916Z"
   },
   {
    "duration": 121,
    "start_time": "2023-03-28T14:57:25.934Z"
   },
   {
    "duration": 0,
    "start_time": "2023-03-28T14:57:26.060Z"
   },
   {
    "duration": 0,
    "start_time": "2023-03-28T14:57:26.062Z"
   },
   {
    "duration": 0,
    "start_time": "2023-03-28T14:57:26.063Z"
   },
   {
    "duration": 0,
    "start_time": "2023-03-28T14:57:26.075Z"
   },
   {
    "duration": 0,
    "start_time": "2023-03-28T14:57:26.076Z"
   },
   {
    "duration": 0,
    "start_time": "2023-03-28T14:57:26.077Z"
   },
   {
    "duration": 0,
    "start_time": "2023-03-28T14:57:26.078Z"
   },
   {
    "duration": 0,
    "start_time": "2023-03-28T14:57:26.079Z"
   },
   {
    "duration": 0,
    "start_time": "2023-03-28T14:57:26.081Z"
   },
   {
    "duration": 0,
    "start_time": "2023-03-28T14:57:26.082Z"
   },
   {
    "duration": 0,
    "start_time": "2023-03-28T14:57:26.083Z"
   },
   {
    "duration": 0,
    "start_time": "2023-03-28T14:57:26.084Z"
   },
   {
    "duration": 0,
    "start_time": "2023-03-28T14:57:26.085Z"
   },
   {
    "duration": 0,
    "start_time": "2023-03-28T14:57:26.086Z"
   },
   {
    "duration": 0,
    "start_time": "2023-03-28T14:57:26.087Z"
   },
   {
    "duration": 0,
    "start_time": "2023-03-28T14:57:26.088Z"
   },
   {
    "duration": 0,
    "start_time": "2023-03-28T14:57:26.090Z"
   },
   {
    "duration": 0,
    "start_time": "2023-03-28T14:57:26.091Z"
   },
   {
    "duration": 0,
    "start_time": "2023-03-28T14:57:26.092Z"
   },
   {
    "duration": 0,
    "start_time": "2023-03-28T14:57:26.094Z"
   },
   {
    "duration": 0,
    "start_time": "2023-03-28T14:57:26.095Z"
   },
   {
    "duration": 0,
    "start_time": "2023-03-28T14:57:26.097Z"
   },
   {
    "duration": 0,
    "start_time": "2023-03-28T14:57:26.098Z"
   },
   {
    "duration": 0,
    "start_time": "2023-03-28T14:57:26.099Z"
   },
   {
    "duration": 0,
    "start_time": "2023-03-28T14:57:26.100Z"
   },
   {
    "duration": 0,
    "start_time": "2023-03-28T14:57:26.102Z"
   },
   {
    "duration": 0,
    "start_time": "2023-03-28T14:57:26.103Z"
   },
   {
    "duration": 0,
    "start_time": "2023-03-28T14:57:26.104Z"
   },
   {
    "duration": 0,
    "start_time": "2023-03-28T14:57:26.106Z"
   },
   {
    "duration": 0,
    "start_time": "2023-03-28T14:57:26.108Z"
   },
   {
    "duration": 0,
    "start_time": "2023-03-28T14:57:26.109Z"
   },
   {
    "duration": 0,
    "start_time": "2023-03-28T14:57:26.110Z"
   },
   {
    "duration": 0,
    "start_time": "2023-03-28T14:57:26.112Z"
   },
   {
    "duration": 0,
    "start_time": "2023-03-28T14:57:26.114Z"
   },
   {
    "duration": 0,
    "start_time": "2023-03-28T14:57:26.175Z"
   },
   {
    "duration": 0,
    "start_time": "2023-03-28T14:57:26.177Z"
   },
   {
    "duration": 0,
    "start_time": "2023-03-28T14:57:26.178Z"
   },
   {
    "duration": 0,
    "start_time": "2023-03-28T14:57:26.179Z"
   },
   {
    "duration": 0,
    "start_time": "2023-03-28T14:57:26.181Z"
   },
   {
    "duration": 0,
    "start_time": "2023-03-28T14:57:26.182Z"
   },
   {
    "duration": 0,
    "start_time": "2023-03-28T14:57:26.183Z"
   },
   {
    "duration": 0,
    "start_time": "2023-03-28T14:57:26.184Z"
   },
   {
    "duration": 0,
    "start_time": "2023-03-28T14:57:26.185Z"
   },
   {
    "duration": 0,
    "start_time": "2023-03-28T14:57:26.186Z"
   },
   {
    "duration": 0,
    "start_time": "2023-03-28T14:57:26.188Z"
   },
   {
    "duration": 0,
    "start_time": "2023-03-28T14:57:26.189Z"
   },
   {
    "duration": 0,
    "start_time": "2023-03-28T14:57:26.191Z"
   },
   {
    "duration": 0,
    "start_time": "2023-03-28T14:57:26.192Z"
   },
   {
    "duration": 0,
    "start_time": "2023-03-28T14:57:26.194Z"
   },
   {
    "duration": 0,
    "start_time": "2023-03-28T14:57:26.195Z"
   },
   {
    "duration": 0,
    "start_time": "2023-03-28T14:57:26.196Z"
   },
   {
    "duration": 0,
    "start_time": "2023-03-28T14:57:26.198Z"
   },
   {
    "duration": 0,
    "start_time": "2023-03-28T14:57:26.199Z"
   },
   {
    "duration": 0,
    "start_time": "2023-03-28T14:57:26.201Z"
   },
   {
    "duration": 0,
    "start_time": "2023-03-28T14:57:26.202Z"
   },
   {
    "duration": 0,
    "start_time": "2023-03-28T14:57:26.203Z"
   },
   {
    "duration": 0,
    "start_time": "2023-03-28T14:57:26.204Z"
   },
   {
    "duration": 0,
    "start_time": "2023-03-28T14:57:26.205Z"
   },
   {
    "duration": 0,
    "start_time": "2023-03-28T14:57:26.206Z"
   },
   {
    "duration": 0,
    "start_time": "2023-03-28T14:57:26.208Z"
   },
   {
    "duration": 0,
    "start_time": "2023-03-28T14:57:26.208Z"
   },
   {
    "duration": 0,
    "start_time": "2023-03-28T14:57:26.210Z"
   },
   {
    "duration": 0,
    "start_time": "2023-03-28T14:57:26.212Z"
   },
   {
    "duration": 0,
    "start_time": "2023-03-28T14:57:26.213Z"
   },
   {
    "duration": 0,
    "start_time": "2023-03-28T14:57:26.214Z"
   },
   {
    "duration": 0,
    "start_time": "2023-03-28T14:57:26.275Z"
   },
   {
    "duration": 0,
    "start_time": "2023-03-28T14:57:26.277Z"
   },
   {
    "duration": 0,
    "start_time": "2023-03-28T14:57:26.278Z"
   },
   {
    "duration": 0,
    "start_time": "2023-03-28T14:57:26.279Z"
   },
   {
    "duration": 0,
    "start_time": "2023-03-28T14:57:26.280Z"
   },
   {
    "duration": 0,
    "start_time": "2023-03-28T14:57:26.281Z"
   },
   {
    "duration": 0,
    "start_time": "2023-03-28T14:57:26.282Z"
   },
   {
    "duration": 0,
    "start_time": "2023-03-28T14:57:26.283Z"
   },
   {
    "duration": 0,
    "start_time": "2023-03-28T14:57:26.284Z"
   },
   {
    "duration": 0,
    "start_time": "2023-03-28T14:57:26.285Z"
   },
   {
    "duration": 0,
    "start_time": "2023-03-28T14:57:26.286Z"
   },
   {
    "duration": 0,
    "start_time": "2023-03-28T14:57:26.287Z"
   },
   {
    "duration": 0,
    "start_time": "2023-03-28T14:57:26.288Z"
   },
   {
    "duration": 0,
    "start_time": "2023-03-28T14:57:26.289Z"
   },
   {
    "duration": 0,
    "start_time": "2023-03-28T14:57:26.290Z"
   },
   {
    "duration": 0,
    "start_time": "2023-03-28T14:57:26.291Z"
   },
   {
    "duration": 0,
    "start_time": "2023-03-28T14:57:26.293Z"
   },
   {
    "duration": 0,
    "start_time": "2023-03-28T14:57:26.294Z"
   },
   {
    "duration": 0,
    "start_time": "2023-03-28T14:57:26.295Z"
   },
   {
    "duration": 0,
    "start_time": "2023-03-28T14:57:26.296Z"
   },
   {
    "duration": 0,
    "start_time": "2023-03-28T14:57:26.297Z"
   },
   {
    "duration": 0,
    "start_time": "2023-03-28T14:57:26.298Z"
   },
   {
    "duration": 0,
    "start_time": "2023-03-28T14:57:26.299Z"
   },
   {
    "duration": 0,
    "start_time": "2023-03-28T14:57:26.300Z"
   },
   {
    "duration": 0,
    "start_time": "2023-03-28T14:57:26.301Z"
   },
   {
    "duration": 0,
    "start_time": "2023-03-28T14:57:26.302Z"
   },
   {
    "duration": 0,
    "start_time": "2023-03-28T14:57:26.303Z"
   },
   {
    "duration": 0,
    "start_time": "2023-03-28T14:57:26.304Z"
   },
   {
    "duration": 0,
    "start_time": "2023-03-28T14:57:26.306Z"
   },
   {
    "duration": 0,
    "start_time": "2023-03-28T14:57:26.307Z"
   },
   {
    "duration": 0,
    "start_time": "2023-03-28T14:57:26.308Z"
   },
   {
    "duration": 0,
    "start_time": "2023-03-28T14:57:26.309Z"
   },
   {
    "duration": 0,
    "start_time": "2023-03-28T14:57:26.311Z"
   },
   {
    "duration": 0,
    "start_time": "2023-03-28T14:57:26.374Z"
   },
   {
    "duration": 0,
    "start_time": "2023-03-28T14:57:26.376Z"
   },
   {
    "duration": 0,
    "start_time": "2023-03-28T14:57:26.378Z"
   },
   {
    "duration": 0,
    "start_time": "2023-03-28T14:57:26.379Z"
   },
   {
    "duration": 0,
    "start_time": "2023-03-28T14:57:26.380Z"
   },
   {
    "duration": 0,
    "start_time": "2023-03-28T14:57:26.382Z"
   },
   {
    "duration": 0,
    "start_time": "2023-03-28T14:57:26.383Z"
   },
   {
    "duration": 6,
    "start_time": "2023-03-28T14:59:18.736Z"
   },
   {
    "duration": 10,
    "start_time": "2023-03-28T15:00:52.417Z"
   },
   {
    "duration": 16,
    "start_time": "2023-03-28T15:00:57.140Z"
   },
   {
    "duration": 8,
    "start_time": "2023-03-28T15:01:09.932Z"
   },
   {
    "duration": 9,
    "start_time": "2023-03-28T15:01:35.639Z"
   },
   {
    "duration": 24,
    "start_time": "2023-03-28T15:01:42.178Z"
   },
   {
    "duration": 1108,
    "start_time": "2023-03-28T15:03:18.589Z"
   },
   {
    "duration": 1220,
    "start_time": "2023-03-28T15:03:40.337Z"
   },
   {
    "duration": 453,
    "start_time": "2023-03-28T15:03:41.559Z"
   },
   {
    "duration": 4,
    "start_time": "2023-03-28T15:03:42.014Z"
   },
   {
    "duration": 27,
    "start_time": "2023-03-28T15:03:42.019Z"
   },
   {
    "duration": 44,
    "start_time": "2023-03-28T15:03:42.048Z"
   },
   {
    "duration": 171,
    "start_time": "2023-03-28T15:03:42.094Z"
   },
   {
    "duration": 75,
    "start_time": "2023-03-28T15:03:42.275Z"
   },
   {
    "duration": 142,
    "start_time": "2023-03-28T15:03:42.352Z"
   },
   {
    "duration": 84,
    "start_time": "2023-03-28T15:03:42.496Z"
   },
   {
    "duration": 4,
    "start_time": "2023-03-28T15:03:42.582Z"
   },
   {
    "duration": 6,
    "start_time": "2023-03-28T15:03:42.587Z"
   },
   {
    "duration": 6,
    "start_time": "2023-03-28T15:03:42.595Z"
   },
   {
    "duration": 5,
    "start_time": "2023-03-28T15:03:42.602Z"
   },
   {
    "duration": 3,
    "start_time": "2023-03-28T15:03:42.610Z"
   },
   {
    "duration": 3,
    "start_time": "2023-03-28T15:03:42.615Z"
   },
   {
    "duration": 7,
    "start_time": "2023-03-28T15:03:42.620Z"
   },
   {
    "duration": 4,
    "start_time": "2023-03-28T15:03:42.629Z"
   },
   {
    "duration": 4,
    "start_time": "2023-03-28T15:03:42.635Z"
   },
   {
    "duration": 89,
    "start_time": "2023-03-28T15:03:42.641Z"
   },
   {
    "duration": 77,
    "start_time": "2023-03-28T15:03:42.732Z"
   },
   {
    "duration": 33,
    "start_time": "2023-03-28T15:03:42.811Z"
   },
   {
    "duration": 38,
    "start_time": "2023-03-28T15:03:42.846Z"
   },
   {
    "duration": 5,
    "start_time": "2023-03-28T15:03:42.885Z"
   },
   {
    "duration": 123,
    "start_time": "2023-03-28T15:03:42.892Z"
   },
   {
    "duration": 0,
    "start_time": "2023-03-28T15:03:43.020Z"
   },
   {
    "duration": 0,
    "start_time": "2023-03-28T15:03:43.021Z"
   },
   {
    "duration": 0,
    "start_time": "2023-03-28T15:03:43.023Z"
   },
   {
    "duration": 0,
    "start_time": "2023-03-28T15:03:43.023Z"
   },
   {
    "duration": 0,
    "start_time": "2023-03-28T15:03:43.024Z"
   },
   {
    "duration": 0,
    "start_time": "2023-03-28T15:03:43.026Z"
   },
   {
    "duration": 0,
    "start_time": "2023-03-28T15:03:43.027Z"
   },
   {
    "duration": 0,
    "start_time": "2023-03-28T15:03:43.028Z"
   },
   {
    "duration": 0,
    "start_time": "2023-03-28T15:03:43.029Z"
   },
   {
    "duration": 0,
    "start_time": "2023-03-28T15:03:43.029Z"
   },
   {
    "duration": 1,
    "start_time": "2023-03-28T15:03:43.030Z"
   },
   {
    "duration": 0,
    "start_time": "2023-03-28T15:03:43.032Z"
   },
   {
    "duration": 0,
    "start_time": "2023-03-28T15:03:43.032Z"
   },
   {
    "duration": 0,
    "start_time": "2023-03-28T15:03:43.033Z"
   },
   {
    "duration": 0,
    "start_time": "2023-03-28T15:03:43.034Z"
   },
   {
    "duration": 0,
    "start_time": "2023-03-28T15:03:43.035Z"
   },
   {
    "duration": 0,
    "start_time": "2023-03-28T15:03:43.036Z"
   },
   {
    "duration": 0,
    "start_time": "2023-03-28T15:03:43.037Z"
   },
   {
    "duration": 0,
    "start_time": "2023-03-28T15:03:43.038Z"
   },
   {
    "duration": 0,
    "start_time": "2023-03-28T15:03:43.039Z"
   },
   {
    "duration": 0,
    "start_time": "2023-03-28T15:03:43.040Z"
   },
   {
    "duration": 0,
    "start_time": "2023-03-28T15:03:43.075Z"
   },
   {
    "duration": 0,
    "start_time": "2023-03-28T15:03:43.077Z"
   },
   {
    "duration": 0,
    "start_time": "2023-03-28T15:03:43.078Z"
   },
   {
    "duration": 0,
    "start_time": "2023-03-28T15:03:43.079Z"
   },
   {
    "duration": 0,
    "start_time": "2023-03-28T15:03:43.080Z"
   },
   {
    "duration": 0,
    "start_time": "2023-03-28T15:03:43.081Z"
   },
   {
    "duration": 0,
    "start_time": "2023-03-28T15:03:43.082Z"
   },
   {
    "duration": 0,
    "start_time": "2023-03-28T15:03:43.082Z"
   },
   {
    "duration": 0,
    "start_time": "2023-03-28T15:03:43.083Z"
   },
   {
    "duration": 0,
    "start_time": "2023-03-28T15:03:43.084Z"
   },
   {
    "duration": 0,
    "start_time": "2023-03-28T15:03:43.085Z"
   },
   {
    "duration": 0,
    "start_time": "2023-03-28T15:03:43.087Z"
   },
   {
    "duration": 1,
    "start_time": "2023-03-28T15:03:43.087Z"
   },
   {
    "duration": 0,
    "start_time": "2023-03-28T15:03:43.088Z"
   },
   {
    "duration": 0,
    "start_time": "2023-03-28T15:03:43.089Z"
   },
   {
    "duration": 0,
    "start_time": "2023-03-28T15:03:43.090Z"
   },
   {
    "duration": 0,
    "start_time": "2023-03-28T15:03:43.091Z"
   },
   {
    "duration": 0,
    "start_time": "2023-03-28T15:03:43.092Z"
   },
   {
    "duration": 0,
    "start_time": "2023-03-28T15:03:43.093Z"
   },
   {
    "duration": 0,
    "start_time": "2023-03-28T15:03:43.094Z"
   },
   {
    "duration": 0,
    "start_time": "2023-03-28T15:03:43.095Z"
   },
   {
    "duration": 0,
    "start_time": "2023-03-28T15:03:43.096Z"
   },
   {
    "duration": 0,
    "start_time": "2023-03-28T15:03:43.097Z"
   },
   {
    "duration": 0,
    "start_time": "2023-03-28T15:03:43.098Z"
   },
   {
    "duration": 0,
    "start_time": "2023-03-28T15:03:43.099Z"
   },
   {
    "duration": 0,
    "start_time": "2023-03-28T15:03:43.100Z"
   },
   {
    "duration": 0,
    "start_time": "2023-03-28T15:03:43.101Z"
   },
   {
    "duration": 0,
    "start_time": "2023-03-28T15:03:43.102Z"
   },
   {
    "duration": 1,
    "start_time": "2023-03-28T15:03:43.103Z"
   },
   {
    "duration": 0,
    "start_time": "2023-03-28T15:03:43.105Z"
   },
   {
    "duration": 0,
    "start_time": "2023-03-28T15:03:43.106Z"
   },
   {
    "duration": 0,
    "start_time": "2023-03-28T15:03:43.108Z"
   },
   {
    "duration": 0,
    "start_time": "2023-03-28T15:03:43.110Z"
   },
   {
    "duration": 0,
    "start_time": "2023-03-28T15:03:43.112Z"
   },
   {
    "duration": 0,
    "start_time": "2023-03-28T15:03:43.113Z"
   },
   {
    "duration": 1,
    "start_time": "2023-03-28T15:03:43.175Z"
   },
   {
    "duration": 0,
    "start_time": "2023-03-28T15:03:43.177Z"
   },
   {
    "duration": 0,
    "start_time": "2023-03-28T15:03:43.178Z"
   },
   {
    "duration": 0,
    "start_time": "2023-03-28T15:03:43.180Z"
   },
   {
    "duration": 0,
    "start_time": "2023-03-28T15:03:43.181Z"
   },
   {
    "duration": 0,
    "start_time": "2023-03-28T15:03:43.182Z"
   },
   {
    "duration": 0,
    "start_time": "2023-03-28T15:03:43.183Z"
   },
   {
    "duration": 0,
    "start_time": "2023-03-28T15:03:43.184Z"
   },
   {
    "duration": 0,
    "start_time": "2023-03-28T15:03:43.185Z"
   },
   {
    "duration": 0,
    "start_time": "2023-03-28T15:03:43.187Z"
   },
   {
    "duration": 0,
    "start_time": "2023-03-28T15:03:43.188Z"
   },
   {
    "duration": 0,
    "start_time": "2023-03-28T15:03:43.189Z"
   },
   {
    "duration": 0,
    "start_time": "2023-03-28T15:03:43.190Z"
   },
   {
    "duration": 0,
    "start_time": "2023-03-28T15:03:43.192Z"
   },
   {
    "duration": 0,
    "start_time": "2023-03-28T15:03:43.193Z"
   },
   {
    "duration": 0,
    "start_time": "2023-03-28T15:03:43.194Z"
   },
   {
    "duration": 0,
    "start_time": "2023-03-28T15:03:43.195Z"
   },
   {
    "duration": 0,
    "start_time": "2023-03-28T15:03:43.196Z"
   },
   {
    "duration": 0,
    "start_time": "2023-03-28T15:03:43.197Z"
   },
   {
    "duration": 0,
    "start_time": "2023-03-28T15:03:43.199Z"
   },
   {
    "duration": 0,
    "start_time": "2023-03-28T15:03:43.200Z"
   },
   {
    "duration": 0,
    "start_time": "2023-03-28T15:03:43.201Z"
   },
   {
    "duration": 0,
    "start_time": "2023-03-28T15:03:43.204Z"
   },
   {
    "duration": 0,
    "start_time": "2023-03-28T15:03:43.205Z"
   },
   {
    "duration": 0,
    "start_time": "2023-03-28T15:03:43.207Z"
   },
   {
    "duration": 0,
    "start_time": "2023-03-28T15:03:43.207Z"
   },
   {
    "duration": 0,
    "start_time": "2023-03-28T15:03:43.209Z"
   },
   {
    "duration": 0,
    "start_time": "2023-03-28T15:03:43.209Z"
   },
   {
    "duration": 0,
    "start_time": "2023-03-28T15:03:43.210Z"
   },
   {
    "duration": 0,
    "start_time": "2023-03-28T15:03:43.212Z"
   },
   {
    "duration": 0,
    "start_time": "2023-03-28T15:03:43.212Z"
   },
   {
    "duration": 0,
    "start_time": "2023-03-28T15:03:43.275Z"
   },
   {
    "duration": 0,
    "start_time": "2023-03-28T15:03:43.276Z"
   },
   {
    "duration": 0,
    "start_time": "2023-03-28T15:03:43.278Z"
   },
   {
    "duration": 0,
    "start_time": "2023-03-28T15:03:43.278Z"
   },
   {
    "duration": 0,
    "start_time": "2023-03-28T15:03:43.279Z"
   },
   {
    "duration": 0,
    "start_time": "2023-03-28T15:03:43.280Z"
   },
   {
    "duration": 0,
    "start_time": "2023-03-28T15:03:43.281Z"
   },
   {
    "duration": 0,
    "start_time": "2023-03-28T15:03:43.283Z"
   },
   {
    "duration": 0,
    "start_time": "2023-03-28T15:03:43.284Z"
   },
   {
    "duration": 0,
    "start_time": "2023-03-28T15:03:43.285Z"
   },
   {
    "duration": 0,
    "start_time": "2023-03-28T15:03:43.286Z"
   },
   {
    "duration": 0,
    "start_time": "2023-03-28T15:03:43.287Z"
   },
   {
    "duration": 0,
    "start_time": "2023-03-28T15:03:43.288Z"
   },
   {
    "duration": 0,
    "start_time": "2023-03-28T15:03:43.289Z"
   },
   {
    "duration": 0,
    "start_time": "2023-03-28T15:03:43.290Z"
   },
   {
    "duration": 0,
    "start_time": "2023-03-28T15:03:43.292Z"
   },
   {
    "duration": 0,
    "start_time": "2023-03-28T15:03:43.292Z"
   },
   {
    "duration": 8,
    "start_time": "2023-03-28T15:06:22.345Z"
   },
   {
    "duration": 26,
    "start_time": "2023-03-28T15:06:29.863Z"
   },
   {
    "duration": 9,
    "start_time": "2023-03-28T15:08:48.954Z"
   },
   {
    "duration": 31,
    "start_time": "2023-03-28T15:08:54.024Z"
   },
   {
    "duration": 7,
    "start_time": "2023-03-28T15:08:55.247Z"
   },
   {
    "duration": 15,
    "start_time": "2023-03-28T15:09:04.925Z"
   },
   {
    "duration": 6,
    "start_time": "2023-03-28T15:09:21.835Z"
   },
   {
    "duration": 6,
    "start_time": "2023-03-28T15:09:22.443Z"
   },
   {
    "duration": 9,
    "start_time": "2023-03-28T15:09:24.753Z"
   },
   {
    "duration": 6,
    "start_time": "2023-03-28T15:09:25.902Z"
   },
   {
    "duration": 6,
    "start_time": "2023-03-28T15:09:26.697Z"
   },
   {
    "duration": 5,
    "start_time": "2023-03-28T15:09:39.422Z"
   },
   {
    "duration": 5,
    "start_time": "2023-03-28T15:09:47.102Z"
   },
   {
    "duration": 8,
    "start_time": "2023-03-28T15:09:52.294Z"
   },
   {
    "duration": 12,
    "start_time": "2023-03-28T15:11:34.492Z"
   },
   {
    "duration": 6,
    "start_time": "2023-03-28T15:11:37.352Z"
   },
   {
    "duration": 1172,
    "start_time": "2023-03-28T15:11:38.595Z"
   },
   {
    "duration": 6,
    "start_time": "2023-03-28T15:16:52.016Z"
   },
   {
    "duration": 1179,
    "start_time": "2023-03-28T15:16:53.935Z"
   },
   {
    "duration": 5,
    "start_time": "2023-03-28T15:19:29.008Z"
   },
   {
    "duration": 190,
    "start_time": "2023-03-28T15:19:31.056Z"
   },
   {
    "duration": 186,
    "start_time": "2023-03-28T15:19:43.193Z"
   },
   {
    "duration": 17,
    "start_time": "2023-03-28T15:20:55.637Z"
   },
   {
    "duration": 186,
    "start_time": "2023-03-28T15:21:11.208Z"
   },
   {
    "duration": 31,
    "start_time": "2023-03-28T15:21:12.922Z"
   },
   {
    "duration": 1846,
    "start_time": "2023-03-28T15:21:28.184Z"
   },
   {
    "duration": 6,
    "start_time": "2023-03-28T15:22:02.983Z"
   },
   {
    "duration": 7,
    "start_time": "2023-03-28T15:22:03.992Z"
   },
   {
    "duration": 66,
    "start_time": "2023-03-28T15:22:26.164Z"
   },
   {
    "duration": 41,
    "start_time": "2023-03-28T15:22:37.558Z"
   },
   {
    "duration": 28,
    "start_time": "2023-03-28T15:23:11.739Z"
   },
   {
    "duration": 2324,
    "start_time": "2023-03-28T15:23:26.804Z"
   },
   {
    "duration": 75,
    "start_time": "2023-03-28T15:27:26.246Z"
   },
   {
    "duration": 10,
    "start_time": "2023-03-28T15:27:28.921Z"
   },
   {
    "duration": 10,
    "start_time": "2023-03-28T15:27:51.278Z"
   },
   {
    "duration": 11,
    "start_time": "2023-03-28T15:28:30.085Z"
   },
   {
    "duration": 10,
    "start_time": "2023-03-28T15:29:26.305Z"
   },
   {
    "duration": 1250,
    "start_time": "2023-03-28T15:29:29.447Z"
   },
   {
    "duration": 447,
    "start_time": "2023-03-28T15:29:30.699Z"
   },
   {
    "duration": 3,
    "start_time": "2023-03-28T15:29:31.148Z"
   },
   {
    "duration": 59,
    "start_time": "2023-03-28T15:29:31.153Z"
   },
   {
    "duration": 85,
    "start_time": "2023-03-28T15:29:31.215Z"
   },
   {
    "duration": 196,
    "start_time": "2023-03-28T15:29:31.301Z"
   },
   {
    "duration": 89,
    "start_time": "2023-03-28T15:29:31.498Z"
   },
   {
    "duration": 118,
    "start_time": "2023-03-28T15:29:31.589Z"
   },
   {
    "duration": 89,
    "start_time": "2023-03-28T15:29:31.708Z"
   },
   {
    "duration": 4,
    "start_time": "2023-03-28T15:29:31.799Z"
   },
   {
    "duration": 27,
    "start_time": "2023-03-28T15:29:31.805Z"
   },
   {
    "duration": 21,
    "start_time": "2023-03-28T15:29:31.834Z"
   },
   {
    "duration": 31,
    "start_time": "2023-03-28T15:29:31.857Z"
   },
   {
    "duration": 18,
    "start_time": "2023-03-28T15:29:31.891Z"
   },
   {
    "duration": 21,
    "start_time": "2023-03-28T15:29:31.911Z"
   },
   {
    "duration": 18,
    "start_time": "2023-03-28T15:29:31.934Z"
   },
   {
    "duration": 26,
    "start_time": "2023-03-28T15:29:31.954Z"
   },
   {
    "duration": 4,
    "start_time": "2023-03-28T15:29:31.982Z"
   },
   {
    "duration": 86,
    "start_time": "2023-03-28T15:29:31.987Z"
   },
   {
    "duration": 66,
    "start_time": "2023-03-28T15:29:32.075Z"
   },
   {
    "duration": 47,
    "start_time": "2023-03-28T15:29:32.143Z"
   },
   {
    "duration": 17,
    "start_time": "2023-03-28T15:29:32.192Z"
   },
   {
    "duration": 5,
    "start_time": "2023-03-28T15:29:32.211Z"
   },
   {
    "duration": 9,
    "start_time": "2023-03-28T15:29:32.217Z"
   },
   {
    "duration": 50,
    "start_time": "2023-03-28T15:29:32.228Z"
   },
   {
    "duration": 8,
    "start_time": "2023-03-28T15:29:32.280Z"
   },
   {
    "duration": 74,
    "start_time": "2023-03-28T15:29:32.289Z"
   },
   {
    "duration": 33,
    "start_time": "2023-03-28T15:29:32.365Z"
   },
   {
    "duration": 6,
    "start_time": "2023-03-28T15:29:32.400Z"
   },
   {
    "duration": 10,
    "start_time": "2023-03-28T15:29:32.408Z"
   },
   {
    "duration": 12,
    "start_time": "2023-03-28T15:29:32.420Z"
   },
   {
    "duration": 5,
    "start_time": "2023-03-28T15:29:32.440Z"
   },
   {
    "duration": 203,
    "start_time": "2023-03-28T15:29:32.447Z"
   },
   {
    "duration": 39,
    "start_time": "2023-03-28T15:29:32.651Z"
   },
   {
    "duration": 1856,
    "start_time": "2023-03-28T15:29:32.691Z"
   },
   {
    "duration": 6,
    "start_time": "2023-03-28T15:29:34.549Z"
   },
   {
    "duration": 18,
    "start_time": "2023-03-28T15:29:34.557Z"
   },
   {
    "duration": 39,
    "start_time": "2023-03-28T15:29:34.577Z"
   },
   {
    "duration": 26,
    "start_time": "2023-03-28T15:29:34.618Z"
   },
   {
    "duration": 2468,
    "start_time": "2023-03-28T15:29:34.646Z"
   },
   {
    "duration": 9,
    "start_time": "2023-03-28T15:29:37.118Z"
   },
   {
    "duration": 8,
    "start_time": "2023-03-28T15:29:37.129Z"
   },
   {
    "duration": 119,
    "start_time": "2023-03-28T15:33:01.549Z"
   },
   {
    "duration": 6,
    "start_time": "2023-03-28T15:33:36.126Z"
   },
   {
    "duration": 1214,
    "start_time": "2023-03-28T16:31:42.251Z"
   },
   {
    "duration": 435,
    "start_time": "2023-03-28T16:31:43.467Z"
   },
   {
    "duration": 4,
    "start_time": "2023-03-28T16:31:43.904Z"
   },
   {
    "duration": 28,
    "start_time": "2023-03-28T16:31:43.910Z"
   },
   {
    "duration": 40,
    "start_time": "2023-03-28T16:31:43.939Z"
   },
   {
    "duration": 179,
    "start_time": "2023-03-28T16:31:43.981Z"
   },
   {
    "duration": 94,
    "start_time": "2023-03-28T16:31:44.162Z"
   },
   {
    "duration": 137,
    "start_time": "2023-03-28T16:31:44.260Z"
   },
   {
    "duration": 86,
    "start_time": "2023-03-28T16:31:44.398Z"
   },
   {
    "duration": 4,
    "start_time": "2023-03-28T16:31:44.487Z"
   },
   {
    "duration": 4,
    "start_time": "2023-03-28T16:31:44.493Z"
   },
   {
    "duration": 4,
    "start_time": "2023-03-28T16:31:44.499Z"
   },
   {
    "duration": 6,
    "start_time": "2023-03-28T16:31:44.504Z"
   },
   {
    "duration": 4,
    "start_time": "2023-03-28T16:31:44.511Z"
   },
   {
    "duration": 3,
    "start_time": "2023-03-28T16:31:44.517Z"
   },
   {
    "duration": 5,
    "start_time": "2023-03-28T16:31:44.522Z"
   },
   {
    "duration": 3,
    "start_time": "2023-03-28T16:31:44.528Z"
   },
   {
    "duration": 3,
    "start_time": "2023-03-28T16:31:44.533Z"
   },
   {
    "duration": 81,
    "start_time": "2023-03-28T16:31:44.538Z"
   },
   {
    "duration": 68,
    "start_time": "2023-03-28T16:31:44.621Z"
   },
   {
    "duration": 29,
    "start_time": "2023-03-28T16:31:44.691Z"
   },
   {
    "duration": 18,
    "start_time": "2023-03-28T16:31:44.722Z"
   },
   {
    "duration": 5,
    "start_time": "2023-03-28T16:31:44.742Z"
   },
   {
    "duration": 32,
    "start_time": "2023-03-28T16:31:44.749Z"
   },
   {
    "duration": 25,
    "start_time": "2023-03-28T16:31:44.783Z"
   },
   {
    "duration": 7,
    "start_time": "2023-03-28T16:31:44.810Z"
   },
   {
    "duration": 13,
    "start_time": "2023-03-28T16:31:44.819Z"
   },
   {
    "duration": 5,
    "start_time": "2023-03-28T16:31:44.836Z"
   },
   {
    "duration": 35,
    "start_time": "2023-03-28T16:31:44.842Z"
   },
   {
    "duration": 4,
    "start_time": "2023-03-28T16:31:44.879Z"
   },
   {
    "duration": 6,
    "start_time": "2023-03-28T16:31:44.885Z"
   },
   {
    "duration": 4,
    "start_time": "2023-03-28T16:31:44.893Z"
   },
   {
    "duration": 205,
    "start_time": "2023-03-28T16:31:44.899Z"
   },
   {
    "duration": 26,
    "start_time": "2023-03-28T16:31:45.105Z"
   },
   {
    "duration": 1683,
    "start_time": "2023-03-28T16:31:45.133Z"
   },
   {
    "duration": 7,
    "start_time": "2023-03-28T16:31:46.818Z"
   },
   {
    "duration": 15,
    "start_time": "2023-03-28T16:31:46.827Z"
   },
   {
    "duration": 54,
    "start_time": "2023-03-28T16:31:46.844Z"
   },
   {
    "duration": 23,
    "start_time": "2023-03-28T16:31:46.900Z"
   },
   {
    "duration": 2177,
    "start_time": "2023-03-28T16:31:46.925Z"
   },
   {
    "duration": 8,
    "start_time": "2023-03-28T16:31:49.104Z"
   },
   {
    "duration": 13,
    "start_time": "2023-03-28T16:31:49.113Z"
   },
   {
    "duration": 13,
    "start_time": "2023-03-28T16:31:49.128Z"
   },
   {
    "duration": 109,
    "start_time": "2023-03-28T16:32:36.080Z"
   },
   {
    "duration": 11,
    "start_time": "2023-03-28T16:34:05.580Z"
   },
   {
    "duration": 1143,
    "start_time": "2023-03-28T16:34:06.683Z"
   },
   {
    "duration": 5,
    "start_time": "2023-03-28T16:34:28.929Z"
   },
   {
    "duration": 11,
    "start_time": "2023-03-28T16:34:49.128Z"
   },
   {
    "duration": 1183,
    "start_time": "2023-03-28T16:34:53.880Z"
   },
   {
    "duration": 3,
    "start_time": "2023-03-28T16:34:58.715Z"
   },
   {
    "duration": 1259,
    "start_time": "2023-03-28T16:35:00.849Z"
   },
   {
    "duration": 4,
    "start_time": "2023-03-28T16:35:12.986Z"
   },
   {
    "duration": 6,
    "start_time": "2023-03-28T16:36:10.144Z"
   },
   {
    "duration": 1102,
    "start_time": "2023-03-28T16:36:56.761Z"
   },
   {
    "duration": 6,
    "start_time": "2023-03-28T16:37:05.088Z"
   },
   {
    "duration": 4,
    "start_time": "2023-03-28T16:40:02.879Z"
   },
   {
    "duration": 3,
    "start_time": "2023-03-28T16:40:03.682Z"
   },
   {
    "duration": 4,
    "start_time": "2023-03-28T16:40:04.654Z"
   },
   {
    "duration": 7,
    "start_time": "2023-03-28T16:40:06.713Z"
   },
   {
    "duration": 5,
    "start_time": "2023-03-28T16:40:09.035Z"
   },
   {
    "duration": 4,
    "start_time": "2023-03-28T16:40:11.158Z"
   },
   {
    "duration": 10,
    "start_time": "2023-03-28T16:40:30.554Z"
   },
   {
    "duration": 4,
    "start_time": "2023-03-28T16:40:33.559Z"
   },
   {
    "duration": 4,
    "start_time": "2023-03-28T16:40:35.011Z"
   },
   {
    "duration": 6,
    "start_time": "2023-03-28T16:41:11.793Z"
   },
   {
    "duration": 6,
    "start_time": "2023-03-28T16:41:21.819Z"
   },
   {
    "duration": 1225,
    "start_time": "2023-03-28T16:50:57.189Z"
   },
   {
    "duration": 466,
    "start_time": "2023-03-28T16:50:58.416Z"
   },
   {
    "duration": 5,
    "start_time": "2023-03-28T16:50:58.884Z"
   },
   {
    "duration": 26,
    "start_time": "2023-03-28T16:50:58.891Z"
   },
   {
    "duration": 22,
    "start_time": "2023-03-28T16:50:58.919Z"
   },
   {
    "duration": 192,
    "start_time": "2023-03-28T16:50:58.943Z"
   },
   {
    "duration": 91,
    "start_time": "2023-03-28T16:50:59.137Z"
   },
   {
    "duration": 124,
    "start_time": "2023-03-28T16:50:59.229Z"
   },
   {
    "duration": 86,
    "start_time": "2023-03-28T16:50:59.355Z"
   },
   {
    "duration": 3,
    "start_time": "2023-03-28T16:50:59.444Z"
   },
   {
    "duration": 72,
    "start_time": "2023-03-28T16:50:59.449Z"
   },
   {
    "duration": 32,
    "start_time": "2023-03-28T16:50:59.522Z"
   },
   {
    "duration": 37,
    "start_time": "2023-03-28T16:50:59.555Z"
   },
   {
    "duration": 20,
    "start_time": "2023-03-28T16:50:59.594Z"
   },
   {
    "duration": 35,
    "start_time": "2023-03-28T16:50:59.616Z"
   },
   {
    "duration": 39,
    "start_time": "2023-03-28T16:50:59.652Z"
   },
   {
    "duration": 6,
    "start_time": "2023-03-28T16:50:59.693Z"
   },
   {
    "duration": 13,
    "start_time": "2023-03-28T16:50:59.700Z"
   },
   {
    "duration": 26,
    "start_time": "2023-03-28T16:50:59.715Z"
   },
   {
    "duration": 45,
    "start_time": "2023-03-28T16:50:59.743Z"
   },
   {
    "duration": 15,
    "start_time": "2023-03-28T16:50:59.792Z"
   },
   {
    "duration": 5,
    "start_time": "2023-03-28T16:50:59.809Z"
   },
   {
    "duration": 7,
    "start_time": "2023-03-28T16:50:59.816Z"
   },
   {
    "duration": 5,
    "start_time": "2023-03-28T16:50:59.825Z"
   },
   {
    "duration": 16,
    "start_time": "2023-03-28T16:50:59.831Z"
   },
   {
    "duration": 7,
    "start_time": "2023-03-28T16:50:59.848Z"
   },
   {
    "duration": 234,
    "start_time": "2023-03-28T16:50:59.856Z"
   },
   {
    "duration": 28,
    "start_time": "2023-03-28T16:51:00.094Z"
   },
   {
    "duration": 1838,
    "start_time": "2023-03-28T16:51:00.124Z"
   },
   {
    "duration": 15,
    "start_time": "2023-03-28T16:51:01.964Z"
   },
   {
    "duration": 18,
    "start_time": "2023-03-28T16:51:01.984Z"
   },
   {
    "duration": 80,
    "start_time": "2023-03-28T16:51:02.004Z"
   },
   {
    "duration": 35,
    "start_time": "2023-03-28T16:51:02.085Z"
   },
   {
    "duration": 2545,
    "start_time": "2023-03-28T16:51:02.122Z"
   },
   {
    "duration": 13,
    "start_time": "2023-03-28T16:51:04.676Z"
   },
   {
    "duration": 12,
    "start_time": "2023-03-28T16:51:04.692Z"
   },
   {
    "duration": 15,
    "start_time": "2023-03-28T16:51:04.706Z"
   },
   {
    "duration": 9,
    "start_time": "2023-03-28T16:51:04.723Z"
   },
   {
    "duration": 10,
    "start_time": "2023-03-28T16:51:04.733Z"
   },
   {
    "duration": 23,
    "start_time": "2023-03-28T16:53:09.762Z"
   },
   {
    "duration": 1257,
    "start_time": "2023-03-28T16:53:14.195Z"
   },
   {
    "duration": 469,
    "start_time": "2023-03-28T16:53:15.454Z"
   },
   {
    "duration": 3,
    "start_time": "2023-03-28T16:53:15.925Z"
   },
   {
    "duration": 23,
    "start_time": "2023-03-28T16:53:15.930Z"
   },
   {
    "duration": 27,
    "start_time": "2023-03-28T16:53:15.976Z"
   },
   {
    "duration": 189,
    "start_time": "2023-03-28T16:53:16.005Z"
   },
   {
    "duration": 104,
    "start_time": "2023-03-28T16:53:16.196Z"
   },
   {
    "duration": 125,
    "start_time": "2023-03-28T16:53:16.301Z"
   },
   {
    "duration": 97,
    "start_time": "2023-03-28T16:53:16.428Z"
   },
   {
    "duration": 5,
    "start_time": "2023-03-28T16:53:16.527Z"
   },
   {
    "duration": 77,
    "start_time": "2023-03-28T16:53:16.534Z"
   },
   {
    "duration": 78,
    "start_time": "2023-03-28T16:53:16.613Z"
   },
   {
    "duration": 21,
    "start_time": "2023-03-28T16:53:16.696Z"
   },
   {
    "duration": 19,
    "start_time": "2023-03-28T16:53:16.720Z"
   },
   {
    "duration": 29,
    "start_time": "2023-03-28T16:53:16.741Z"
   },
   {
    "duration": 19,
    "start_time": "2023-03-28T16:53:16.778Z"
   },
   {
    "duration": 7,
    "start_time": "2023-03-28T16:53:16.799Z"
   },
   {
    "duration": 20,
    "start_time": "2023-03-28T16:53:16.808Z"
   },
   {
    "duration": 7,
    "start_time": "2023-03-28T16:53:16.830Z"
   },
   {
    "duration": 25,
    "start_time": "2023-03-28T16:53:16.839Z"
   },
   {
    "duration": 17,
    "start_time": "2023-03-28T16:53:16.866Z"
   },
   {
    "duration": 19,
    "start_time": "2023-03-28T16:53:16.884Z"
   },
   {
    "duration": 5,
    "start_time": "2023-03-28T16:53:16.905Z"
   },
   {
    "duration": 10,
    "start_time": "2023-03-28T16:53:16.912Z"
   },
   {
    "duration": 11,
    "start_time": "2023-03-28T16:53:16.923Z"
   },
   {
    "duration": 10,
    "start_time": "2023-03-28T16:53:16.935Z"
   },
   {
    "duration": 11,
    "start_time": "2023-03-28T16:53:16.947Z"
   },
   {
    "duration": 349,
    "start_time": "2023-03-28T16:53:16.959Z"
   },
   {
    "duration": 83,
    "start_time": "2023-03-28T16:53:17.310Z"
   },
   {
    "duration": 1822,
    "start_time": "2023-03-28T16:53:17.394Z"
   },
   {
    "duration": 7,
    "start_time": "2023-03-28T16:53:19.218Z"
   },
   {
    "duration": 5,
    "start_time": "2023-03-28T16:53:19.227Z"
   },
   {
    "duration": 73,
    "start_time": "2023-03-28T16:53:19.234Z"
   },
   {
    "duration": 26,
    "start_time": "2023-03-28T16:53:19.309Z"
   },
   {
    "duration": 2371,
    "start_time": "2023-03-28T16:53:19.336Z"
   },
   {
    "duration": 11,
    "start_time": "2023-03-28T16:53:21.709Z"
   },
   {
    "duration": 6,
    "start_time": "2023-03-28T16:53:21.722Z"
   },
   {
    "duration": 7,
    "start_time": "2023-03-28T16:53:21.729Z"
   },
   {
    "duration": 6,
    "start_time": "2023-03-28T16:53:21.738Z"
   },
   {
    "duration": 43,
    "start_time": "2023-03-28T16:53:21.745Z"
   },
   {
    "duration": 1413,
    "start_time": "2023-03-28T16:55:13.138Z"
   },
   {
    "duration": 460,
    "start_time": "2023-03-28T16:55:14.553Z"
   },
   {
    "duration": 4,
    "start_time": "2023-03-28T16:55:15.014Z"
   },
   {
    "duration": 415,
    "start_time": "2023-03-28T16:55:15.019Z"
   },
   {
    "duration": 22,
    "start_time": "2023-03-28T16:55:15.437Z"
   },
   {
    "duration": 166,
    "start_time": "2023-03-28T16:55:15.461Z"
   },
   {
    "duration": 89,
    "start_time": "2023-03-28T16:55:15.629Z"
   },
   {
    "duration": 129,
    "start_time": "2023-03-28T16:55:15.720Z"
   },
   {
    "duration": 114,
    "start_time": "2023-03-28T16:55:15.851Z"
   },
   {
    "duration": 11,
    "start_time": "2023-03-28T16:55:15.967Z"
   },
   {
    "duration": 60,
    "start_time": "2023-03-28T16:55:15.983Z"
   },
   {
    "duration": 50,
    "start_time": "2023-03-28T16:55:16.045Z"
   },
   {
    "duration": 19,
    "start_time": "2023-03-28T16:55:16.097Z"
   },
   {
    "duration": 26,
    "start_time": "2023-03-28T16:55:16.119Z"
   },
   {
    "duration": 56,
    "start_time": "2023-03-28T16:55:16.146Z"
   },
   {
    "duration": 21,
    "start_time": "2023-03-28T16:55:16.204Z"
   },
   {
    "duration": 8,
    "start_time": "2023-03-28T16:55:16.227Z"
   },
   {
    "duration": 23,
    "start_time": "2023-03-28T16:55:16.236Z"
   },
   {
    "duration": 14,
    "start_time": "2023-03-28T16:55:16.275Z"
   },
   {
    "duration": 27,
    "start_time": "2023-03-28T16:55:16.295Z"
   },
   {
    "duration": 7,
    "start_time": "2023-03-28T16:55:16.324Z"
   },
   {
    "duration": 13,
    "start_time": "2023-03-28T16:55:16.333Z"
   },
   {
    "duration": 31,
    "start_time": "2023-03-28T16:55:16.347Z"
   },
   {
    "duration": 15,
    "start_time": "2023-03-28T16:55:16.384Z"
   },
   {
    "duration": 6,
    "start_time": "2023-03-28T16:55:16.401Z"
   },
   {
    "duration": 40,
    "start_time": "2023-03-28T16:55:16.409Z"
   },
   {
    "duration": 6,
    "start_time": "2023-03-28T16:55:16.451Z"
   },
   {
    "duration": 282,
    "start_time": "2023-03-28T16:55:16.459Z"
   },
   {
    "duration": 56,
    "start_time": "2023-03-28T16:55:16.743Z"
   },
   {
    "duration": 2122,
    "start_time": "2023-03-28T16:55:16.801Z"
   },
   {
    "duration": 7,
    "start_time": "2023-03-28T16:55:18.924Z"
   },
   {
    "duration": 10,
    "start_time": "2023-03-28T16:55:18.933Z"
   },
   {
    "duration": 65,
    "start_time": "2023-03-28T16:55:18.945Z"
   },
   {
    "duration": 35,
    "start_time": "2023-03-28T16:55:19.012Z"
   },
   {
    "duration": 2477,
    "start_time": "2023-03-28T16:55:19.049Z"
   },
   {
    "duration": 9,
    "start_time": "2023-03-28T16:55:21.528Z"
   },
   {
    "duration": 6,
    "start_time": "2023-03-28T16:55:21.539Z"
   },
   {
    "duration": 6,
    "start_time": "2023-03-28T16:55:21.547Z"
   },
   {
    "duration": 13,
    "start_time": "2023-03-28T16:55:21.580Z"
   },
   {
    "duration": 11,
    "start_time": "2023-03-28T16:55:21.597Z"
   },
   {
    "duration": 6,
    "start_time": "2023-03-28T16:57:48.448Z"
   },
   {
    "duration": 161,
    "start_time": "2023-03-28T16:57:50.156Z"
   },
   {
    "duration": 1211,
    "start_time": "2023-03-28T16:57:54.983Z"
   },
   {
    "duration": 456,
    "start_time": "2023-03-28T16:57:56.197Z"
   },
   {
    "duration": 4,
    "start_time": "2023-03-28T16:57:56.654Z"
   },
   {
    "duration": 41,
    "start_time": "2023-03-28T16:57:56.660Z"
   },
   {
    "duration": 30,
    "start_time": "2023-03-28T16:57:56.704Z"
   },
   {
    "duration": 189,
    "start_time": "2023-03-28T16:57:56.736Z"
   },
   {
    "duration": 85,
    "start_time": "2023-03-28T16:57:56.927Z"
   },
   {
    "duration": 123,
    "start_time": "2023-03-28T16:57:57.014Z"
   },
   {
    "duration": 87,
    "start_time": "2023-03-28T16:57:57.139Z"
   },
   {
    "duration": 4,
    "start_time": "2023-03-28T16:57:57.228Z"
   },
   {
    "duration": 67,
    "start_time": "2023-03-28T16:57:57.234Z"
   },
   {
    "duration": 30,
    "start_time": "2023-03-28T16:57:57.303Z"
   },
   {
    "duration": 21,
    "start_time": "2023-03-28T16:57:57.334Z"
   },
   {
    "duration": 21,
    "start_time": "2023-03-28T16:57:57.379Z"
   },
   {
    "duration": 29,
    "start_time": "2023-03-28T16:57:57.402Z"
   },
   {
    "duration": 16,
    "start_time": "2023-03-28T16:57:57.433Z"
   },
   {
    "duration": 31,
    "start_time": "2023-03-28T16:57:57.450Z"
   },
   {
    "duration": 15,
    "start_time": "2023-03-28T16:57:57.488Z"
   },
   {
    "duration": 22,
    "start_time": "2023-03-28T16:57:57.505Z"
   },
   {
    "duration": 33,
    "start_time": "2023-03-28T16:57:57.529Z"
   },
   {
    "duration": 7,
    "start_time": "2023-03-28T16:57:57.564Z"
   },
   {
    "duration": 24,
    "start_time": "2023-03-28T16:57:57.575Z"
   },
   {
    "duration": 8,
    "start_time": "2023-03-28T16:57:57.601Z"
   },
   {
    "duration": 16,
    "start_time": "2023-03-28T16:57:57.611Z"
   },
   {
    "duration": 14,
    "start_time": "2023-03-28T16:57:57.629Z"
   },
   {
    "duration": 18,
    "start_time": "2023-03-28T16:57:57.645Z"
   },
   {
    "duration": 6,
    "start_time": "2023-03-28T16:57:57.665Z"
   },
   {
    "duration": 185,
    "start_time": "2023-03-28T16:57:57.673Z"
   },
   {
    "duration": 40,
    "start_time": "2023-03-28T16:57:57.859Z"
   },
   {
    "duration": 1833,
    "start_time": "2023-03-28T16:57:57.901Z"
   },
   {
    "duration": 7,
    "start_time": "2023-03-28T16:57:59.736Z"
   },
   {
    "duration": 13,
    "start_time": "2023-03-28T16:57:59.744Z"
   },
   {
    "duration": 57,
    "start_time": "2023-03-28T16:57:59.758Z"
   },
   {
    "duration": 25,
    "start_time": "2023-03-28T16:57:59.817Z"
   },
   {
    "duration": 2446,
    "start_time": "2023-03-28T16:57:59.844Z"
   },
   {
    "duration": 11,
    "start_time": "2023-03-28T16:58:02.298Z"
   },
   {
    "duration": 29,
    "start_time": "2023-03-28T16:58:02.311Z"
   },
   {
    "duration": 26,
    "start_time": "2023-03-28T16:58:02.342Z"
   },
   {
    "duration": 19,
    "start_time": "2023-03-28T16:58:02.370Z"
   },
   {
    "duration": 22,
    "start_time": "2023-03-28T16:58:02.391Z"
   },
   {
    "duration": 112,
    "start_time": "2023-03-28T16:58:44.410Z"
   },
   {
    "duration": 8,
    "start_time": "2023-03-28T17:04:58.118Z"
   },
   {
    "duration": 241,
    "start_time": "2023-03-28T17:05:00.154Z"
   },
   {
    "duration": 1215,
    "start_time": "2023-03-28T17:05:05.443Z"
   },
   {
    "duration": 475,
    "start_time": "2023-03-28T17:05:06.661Z"
   },
   {
    "duration": 4,
    "start_time": "2023-03-28T17:05:07.137Z"
   },
   {
    "duration": 33,
    "start_time": "2023-03-28T17:05:07.143Z"
   },
   {
    "duration": 32,
    "start_time": "2023-03-28T17:05:07.184Z"
   },
   {
    "duration": 178,
    "start_time": "2023-03-28T17:05:07.217Z"
   },
   {
    "duration": 71,
    "start_time": "2023-03-28T17:05:07.399Z"
   },
   {
    "duration": 134,
    "start_time": "2023-03-28T17:05:07.471Z"
   },
   {
    "duration": 82,
    "start_time": "2023-03-28T17:05:07.608Z"
   },
   {
    "duration": 4,
    "start_time": "2023-03-28T17:05:07.692Z"
   },
   {
    "duration": 57,
    "start_time": "2023-03-28T17:05:07.697Z"
   },
   {
    "duration": 49,
    "start_time": "2023-03-28T17:05:07.757Z"
   },
   {
    "duration": 30,
    "start_time": "2023-03-28T17:05:07.808Z"
   },
   {
    "duration": 19,
    "start_time": "2023-03-28T17:05:07.842Z"
   },
   {
    "duration": 56,
    "start_time": "2023-03-28T17:05:07.863Z"
   },
   {
    "duration": 17,
    "start_time": "2023-03-28T17:05:07.920Z"
   },
   {
    "duration": 5,
    "start_time": "2023-03-28T17:05:07.939Z"
   },
   {
    "duration": 17,
    "start_time": "2023-03-28T17:05:07.945Z"
   },
   {
    "duration": 12,
    "start_time": "2023-03-28T17:05:07.975Z"
   },
   {
    "duration": 33,
    "start_time": "2023-03-28T17:05:07.988Z"
   },
   {
    "duration": 7,
    "start_time": "2023-03-28T17:05:08.022Z"
   },
   {
    "duration": 14,
    "start_time": "2023-03-28T17:05:08.030Z"
   },
   {
    "duration": 6,
    "start_time": "2023-03-28T17:05:08.045Z"
   },
   {
    "duration": 15,
    "start_time": "2023-03-28T17:05:08.076Z"
   },
   {
    "duration": 9,
    "start_time": "2023-03-28T17:05:08.093Z"
   },
   {
    "duration": 14,
    "start_time": "2023-03-28T17:05:08.103Z"
   },
   {
    "duration": 11,
    "start_time": "2023-03-28T17:05:08.119Z"
   },
   {
    "duration": 229,
    "start_time": "2023-03-28T17:05:08.131Z"
   },
   {
    "duration": 49,
    "start_time": "2023-03-28T17:05:08.362Z"
   },
   {
    "duration": 1900,
    "start_time": "2023-03-28T17:05:08.414Z"
   },
   {
    "duration": 7,
    "start_time": "2023-03-28T17:05:10.316Z"
   },
   {
    "duration": 36,
    "start_time": "2023-03-28T17:05:10.325Z"
   },
   {
    "duration": 78,
    "start_time": "2023-03-28T17:05:10.363Z"
   },
   {
    "duration": 28,
    "start_time": "2023-03-28T17:05:10.443Z"
   },
   {
    "duration": 2521,
    "start_time": "2023-03-28T17:05:10.473Z"
   },
   {
    "duration": 9,
    "start_time": "2023-03-28T17:05:12.998Z"
   },
   {
    "duration": 9,
    "start_time": "2023-03-28T17:05:13.009Z"
   },
   {
    "duration": 23,
    "start_time": "2023-03-28T17:11:23.292Z"
   },
   {
    "duration": 3,
    "start_time": "2023-03-28T17:11:26.807Z"
   },
   {
    "duration": 37,
    "start_time": "2023-03-28T17:11:29.361Z"
   },
   {
    "duration": 1249,
    "start_time": "2023-03-28T17:11:49.032Z"
   },
   {
    "duration": 491,
    "start_time": "2023-03-28T17:11:50.292Z"
   },
   {
    "duration": 6,
    "start_time": "2023-03-28T17:11:50.785Z"
   },
   {
    "duration": 27,
    "start_time": "2023-03-28T17:11:50.798Z"
   },
   {
    "duration": 54,
    "start_time": "2023-03-28T17:11:50.828Z"
   },
   {
    "duration": 164,
    "start_time": "2023-03-28T17:11:50.891Z"
   },
   {
    "duration": 89,
    "start_time": "2023-03-28T17:11:51.057Z"
   },
   {
    "duration": 145,
    "start_time": "2023-03-28T17:11:51.149Z"
   },
   {
    "duration": 91,
    "start_time": "2023-03-28T17:11:51.295Z"
   },
   {
    "duration": 9,
    "start_time": "2023-03-28T17:11:51.387Z"
   },
   {
    "duration": 60,
    "start_time": "2023-03-28T17:11:51.398Z"
   },
   {
    "duration": 38,
    "start_time": "2023-03-28T17:11:51.459Z"
   },
   {
    "duration": 21,
    "start_time": "2023-03-28T17:11:51.499Z"
   },
   {
    "duration": 20,
    "start_time": "2023-03-28T17:11:51.523Z"
   },
   {
    "duration": 70,
    "start_time": "2023-03-28T17:11:51.545Z"
   },
   {
    "duration": 22,
    "start_time": "2023-03-28T17:11:51.617Z"
   },
   {
    "duration": 7,
    "start_time": "2023-03-28T17:11:51.640Z"
   },
   {
    "duration": 40,
    "start_time": "2023-03-28T17:11:51.648Z"
   },
   {
    "duration": 12,
    "start_time": "2023-03-28T17:11:51.694Z"
   },
   {
    "duration": 47,
    "start_time": "2023-03-28T17:11:51.708Z"
   },
   {
    "duration": 8,
    "start_time": "2023-03-28T17:11:51.757Z"
   },
   {
    "duration": 41,
    "start_time": "2023-03-28T17:11:51.767Z"
   },
   {
    "duration": 6,
    "start_time": "2023-03-28T17:11:51.810Z"
   },
   {
    "duration": 26,
    "start_time": "2023-03-28T17:11:51.818Z"
   },
   {
    "duration": 13,
    "start_time": "2023-03-28T17:11:51.847Z"
   },
   {
    "duration": 8,
    "start_time": "2023-03-28T17:11:51.862Z"
   },
   {
    "duration": 20,
    "start_time": "2023-03-28T17:11:51.872Z"
   },
   {
    "duration": 200,
    "start_time": "2023-03-28T17:11:51.899Z"
   },
   {
    "duration": 28,
    "start_time": "2023-03-28T17:11:52.102Z"
   },
   {
    "duration": 2280,
    "start_time": "2023-03-28T17:11:52.132Z"
   },
   {
    "duration": 8,
    "start_time": "2023-03-28T17:11:54.414Z"
   },
   {
    "duration": 18,
    "start_time": "2023-03-28T17:11:54.424Z"
   },
   {
    "duration": 76,
    "start_time": "2023-03-28T17:11:54.444Z"
   },
   {
    "duration": 29,
    "start_time": "2023-03-28T17:11:54.523Z"
   },
   {
    "duration": 2546,
    "start_time": "2023-03-28T17:11:54.553Z"
   },
   {
    "duration": 10,
    "start_time": "2023-03-28T17:11:57.102Z"
   },
   {
    "duration": 12,
    "start_time": "2023-03-28T17:11:57.114Z"
   },
   {
    "duration": 33,
    "start_time": "2023-03-28T17:19:01.505Z"
   },
   {
    "duration": 39,
    "start_time": "2023-03-28T17:19:03.418Z"
   },
   {
    "duration": 24,
    "start_time": "2023-03-28T17:19:04.635Z"
   },
   {
    "duration": 33,
    "start_time": "2023-03-28T17:19:11.519Z"
   },
   {
    "duration": 26,
    "start_time": "2023-03-28T17:19:12.555Z"
   },
   {
    "duration": 81,
    "start_time": "2023-03-28T17:23:20.600Z"
   },
   {
    "duration": 86,
    "start_time": "2023-03-28T17:25:34.648Z"
   },
   {
    "duration": 1199,
    "start_time": "2023-03-28T17:26:08.640Z"
   },
   {
    "duration": 462,
    "start_time": "2023-03-28T17:26:09.841Z"
   },
   {
    "duration": 4,
    "start_time": "2023-03-28T17:26:10.308Z"
   },
   {
    "duration": 26,
    "start_time": "2023-03-28T17:26:10.313Z"
   },
   {
    "duration": 57,
    "start_time": "2023-03-28T17:26:10.340Z"
   },
   {
    "duration": 194,
    "start_time": "2023-03-28T17:26:10.401Z"
   },
   {
    "duration": 89,
    "start_time": "2023-03-28T17:26:10.596Z"
   },
   {
    "duration": 133,
    "start_time": "2023-03-28T17:26:10.687Z"
   },
   {
    "duration": 103,
    "start_time": "2023-03-28T17:26:10.824Z"
   },
   {
    "duration": 5,
    "start_time": "2023-03-28T17:26:10.929Z"
   },
   {
    "duration": 78,
    "start_time": "2023-03-28T17:26:10.936Z"
   },
   {
    "duration": 41,
    "start_time": "2023-03-28T17:26:11.016Z"
   },
   {
    "duration": 43,
    "start_time": "2023-03-28T17:26:11.059Z"
   },
   {
    "duration": 26,
    "start_time": "2023-03-28T17:26:11.103Z"
   },
   {
    "duration": 58,
    "start_time": "2023-03-28T17:26:11.131Z"
   },
   {
    "duration": 20,
    "start_time": "2023-03-28T17:26:11.191Z"
   },
   {
    "duration": 6,
    "start_time": "2023-03-28T17:26:11.212Z"
   },
   {
    "duration": 13,
    "start_time": "2023-03-28T17:26:11.220Z"
   },
   {
    "duration": 58,
    "start_time": "2023-03-28T17:26:11.235Z"
   },
   {
    "duration": 7,
    "start_time": "2023-03-28T17:26:11.295Z"
   },
   {
    "duration": 15,
    "start_time": "2023-03-28T17:26:11.304Z"
   },
   {
    "duration": 5,
    "start_time": "2023-03-28T17:26:11.321Z"
   },
   {
    "duration": 10,
    "start_time": "2023-03-28T17:26:11.328Z"
   },
   {
    "duration": 9,
    "start_time": "2023-03-28T17:26:11.340Z"
   },
   {
    "duration": 38,
    "start_time": "2023-03-28T17:26:11.350Z"
   },
   {
    "duration": 7,
    "start_time": "2023-03-28T17:26:11.390Z"
   },
   {
    "duration": 219,
    "start_time": "2023-03-28T17:26:11.401Z"
   },
   {
    "duration": 27,
    "start_time": "2023-03-28T17:26:11.622Z"
   },
   {
    "duration": 1895,
    "start_time": "2023-03-28T17:26:11.650Z"
   },
   {
    "duration": 7,
    "start_time": "2023-03-28T17:26:13.547Z"
   },
   {
    "duration": 6,
    "start_time": "2023-03-28T17:26:13.555Z"
   },
   {
    "duration": 44,
    "start_time": "2023-03-28T17:26:13.582Z"
   },
   {
    "duration": 26,
    "start_time": "2023-03-28T17:26:13.628Z"
   },
   {
    "duration": 2546,
    "start_time": "2023-03-28T17:26:13.656Z"
   },
   {
    "duration": 10,
    "start_time": "2023-03-28T17:26:16.204Z"
   },
   {
    "duration": 11,
    "start_time": "2023-03-28T17:26:16.216Z"
   },
   {
    "duration": 8,
    "start_time": "2023-03-28T17:26:55.463Z"
   },
   {
    "duration": 9,
    "start_time": "2023-03-28T17:26:59.793Z"
   },
   {
    "duration": 8,
    "start_time": "2023-03-28T17:27:03.617Z"
   },
   {
    "duration": 11,
    "start_time": "2023-03-28T17:27:06.215Z"
   },
   {
    "duration": 10,
    "start_time": "2023-03-28T17:27:08.446Z"
   },
   {
    "duration": 8,
    "start_time": "2023-03-28T17:27:11.695Z"
   },
   {
    "duration": 1255,
    "start_time": "2023-03-28T17:32:48.855Z"
   },
   {
    "duration": 480,
    "start_time": "2023-03-28T17:32:50.112Z"
   },
   {
    "duration": 4,
    "start_time": "2023-03-28T17:32:50.594Z"
   },
   {
    "duration": 32,
    "start_time": "2023-03-28T17:32:50.600Z"
   },
   {
    "duration": 53,
    "start_time": "2023-03-28T17:32:50.634Z"
   },
   {
    "duration": 159,
    "start_time": "2023-03-28T17:32:50.689Z"
   },
   {
    "duration": 92,
    "start_time": "2023-03-28T17:32:50.850Z"
   },
   {
    "duration": 122,
    "start_time": "2023-03-28T17:32:50.944Z"
   },
   {
    "duration": 86,
    "start_time": "2023-03-28T17:32:51.068Z"
   },
   {
    "duration": 4,
    "start_time": "2023-03-28T17:32:51.156Z"
   },
   {
    "duration": 67,
    "start_time": "2023-03-28T17:32:51.162Z"
   },
   {
    "duration": 62,
    "start_time": "2023-03-28T17:32:51.231Z"
   },
   {
    "duration": 27,
    "start_time": "2023-03-28T17:32:51.295Z"
   },
   {
    "duration": 26,
    "start_time": "2023-03-28T17:32:51.326Z"
   },
   {
    "duration": 58,
    "start_time": "2023-03-28T17:32:51.353Z"
   },
   {
    "duration": 23,
    "start_time": "2023-03-28T17:32:51.413Z"
   },
   {
    "duration": 5,
    "start_time": "2023-03-28T17:32:51.438Z"
   },
   {
    "duration": 33,
    "start_time": "2023-03-28T17:32:51.444Z"
   },
   {
    "duration": 8,
    "start_time": "2023-03-28T17:32:51.480Z"
   },
   {
    "duration": 9,
    "start_time": "2023-03-28T17:32:51.492Z"
   },
   {
    "duration": 123,
    "start_time": "2023-03-28T17:32:51.502Z"
   },
   {
    "duration": 0,
    "start_time": "2023-03-28T17:32:51.627Z"
   },
   {
    "duration": 0,
    "start_time": "2023-03-28T17:32:51.628Z"
   },
   {
    "duration": 0,
    "start_time": "2023-03-28T17:32:51.630Z"
   },
   {
    "duration": 0,
    "start_time": "2023-03-28T17:32:51.631Z"
   },
   {
    "duration": 0,
    "start_time": "2023-03-28T17:32:51.633Z"
   },
   {
    "duration": 0,
    "start_time": "2023-03-28T17:32:51.634Z"
   },
   {
    "duration": 0,
    "start_time": "2023-03-28T17:32:51.636Z"
   },
   {
    "duration": 0,
    "start_time": "2023-03-28T17:32:51.637Z"
   },
   {
    "duration": 0,
    "start_time": "2023-03-28T17:32:51.639Z"
   },
   {
    "duration": 0,
    "start_time": "2023-03-28T17:32:51.641Z"
   },
   {
    "duration": 0,
    "start_time": "2023-03-28T17:32:51.642Z"
   },
   {
    "duration": 0,
    "start_time": "2023-03-28T17:32:51.643Z"
   },
   {
    "duration": 0,
    "start_time": "2023-03-28T17:32:51.676Z"
   },
   {
    "duration": 0,
    "start_time": "2023-03-28T17:32:51.677Z"
   },
   {
    "duration": 0,
    "start_time": "2023-03-28T17:32:51.678Z"
   },
   {
    "duration": 0,
    "start_time": "2023-03-28T17:32:51.683Z"
   },
   {
    "duration": 0,
    "start_time": "2023-03-28T17:32:51.684Z"
   },
   {
    "duration": 7,
    "start_time": "2023-03-28T17:33:18.971Z"
   },
   {
    "duration": 9,
    "start_time": "2023-03-28T17:33:20.933Z"
   },
   {
    "duration": 4,
    "start_time": "2023-03-28T17:33:32.574Z"
   },
   {
    "duration": 3,
    "start_time": "2023-03-28T17:33:33.132Z"
   },
   {
    "duration": 3,
    "start_time": "2023-03-28T17:33:37.818Z"
   },
   {
    "duration": 2,
    "start_time": "2023-03-28T17:33:42.763Z"
   },
   {
    "duration": 13,
    "start_time": "2023-03-28T17:33:44.726Z"
   },
   {
    "duration": 1279,
    "start_time": "2023-03-28T17:34:07.370Z"
   },
   {
    "duration": 454,
    "start_time": "2023-03-28T17:34:08.651Z"
   },
   {
    "duration": 3,
    "start_time": "2023-03-28T17:34:09.109Z"
   },
   {
    "duration": 32,
    "start_time": "2023-03-28T17:34:09.114Z"
   },
   {
    "duration": 52,
    "start_time": "2023-03-28T17:34:09.148Z"
   },
   {
    "duration": 164,
    "start_time": "2023-03-28T17:34:09.201Z"
   },
   {
    "duration": 89,
    "start_time": "2023-03-28T17:34:09.367Z"
   },
   {
    "duration": 116,
    "start_time": "2023-03-28T17:34:09.458Z"
   },
   {
    "duration": 81,
    "start_time": "2023-03-28T17:34:09.581Z"
   },
   {
    "duration": 4,
    "start_time": "2023-03-28T17:34:09.664Z"
   },
   {
    "duration": 63,
    "start_time": "2023-03-28T17:34:09.675Z"
   },
   {
    "duration": 54,
    "start_time": "2023-03-28T17:34:09.740Z"
   },
   {
    "duration": 25,
    "start_time": "2023-03-28T17:34:09.796Z"
   },
   {
    "duration": 22,
    "start_time": "2023-03-28T17:34:09.823Z"
   },
   {
    "duration": 63,
    "start_time": "2023-03-28T17:34:09.847Z"
   },
   {
    "duration": 18,
    "start_time": "2023-03-28T17:34:09.912Z"
   },
   {
    "duration": 5,
    "start_time": "2023-03-28T17:34:09.932Z"
   },
   {
    "duration": 14,
    "start_time": "2023-03-28T17:34:09.939Z"
   },
   {
    "duration": 37,
    "start_time": "2023-03-28T17:34:09.954Z"
   },
   {
    "duration": 11,
    "start_time": "2023-03-28T17:34:09.993Z"
   },
   {
    "duration": 117,
    "start_time": "2023-03-28T17:34:10.005Z"
   },
   {
    "duration": 0,
    "start_time": "2023-03-28T17:34:10.125Z"
   },
   {
    "duration": 0,
    "start_time": "2023-03-28T17:34:10.127Z"
   },
   {
    "duration": 0,
    "start_time": "2023-03-28T17:34:10.128Z"
   },
   {
    "duration": 0,
    "start_time": "2023-03-28T17:34:10.129Z"
   },
   {
    "duration": 0,
    "start_time": "2023-03-28T17:34:10.130Z"
   },
   {
    "duration": 1,
    "start_time": "2023-03-28T17:34:10.131Z"
   },
   {
    "duration": 0,
    "start_time": "2023-03-28T17:34:10.133Z"
   },
   {
    "duration": 0,
    "start_time": "2023-03-28T17:34:10.134Z"
   },
   {
    "duration": 0,
    "start_time": "2023-03-28T17:34:10.135Z"
   },
   {
    "duration": 0,
    "start_time": "2023-03-28T17:34:10.136Z"
   },
   {
    "duration": 0,
    "start_time": "2023-03-28T17:34:10.138Z"
   },
   {
    "duration": 0,
    "start_time": "2023-03-28T17:34:10.139Z"
   },
   {
    "duration": 0,
    "start_time": "2023-03-28T17:34:10.140Z"
   },
   {
    "duration": 0,
    "start_time": "2023-03-28T17:34:10.141Z"
   },
   {
    "duration": 0,
    "start_time": "2023-03-28T17:34:10.142Z"
   },
   {
    "duration": 0,
    "start_time": "2023-03-28T17:34:10.143Z"
   },
   {
    "duration": 0,
    "start_time": "2023-03-28T17:34:10.175Z"
   },
   {
    "duration": 4,
    "start_time": "2023-03-28T17:34:22.839Z"
   },
   {
    "duration": 9,
    "start_time": "2023-03-28T17:34:23.793Z"
   },
   {
    "duration": 14,
    "start_time": "2023-03-28T17:34:27.523Z"
   },
   {
    "duration": 5,
    "start_time": "2023-03-28T17:35:46.535Z"
   },
   {
    "duration": 8,
    "start_time": "2023-03-28T17:35:47.231Z"
   },
   {
    "duration": 29,
    "start_time": "2023-03-28T17:35:49.061Z"
   },
   {
    "duration": 28,
    "start_time": "2023-03-28T17:36:12.289Z"
   },
   {
    "duration": 1246,
    "start_time": "2023-03-28T17:36:56.394Z"
   },
   {
    "duration": 452,
    "start_time": "2023-03-28T17:36:57.643Z"
   },
   {
    "duration": 4,
    "start_time": "2023-03-28T17:36:58.097Z"
   },
   {
    "duration": 28,
    "start_time": "2023-03-28T17:36:58.103Z"
   },
   {
    "duration": 53,
    "start_time": "2023-03-28T17:36:58.134Z"
   },
   {
    "duration": 171,
    "start_time": "2023-03-28T17:36:58.189Z"
   },
   {
    "duration": 97,
    "start_time": "2023-03-28T17:36:58.362Z"
   },
   {
    "duration": 150,
    "start_time": "2023-03-28T17:36:58.461Z"
   },
   {
    "duration": 92,
    "start_time": "2023-03-28T17:36:58.613Z"
   },
   {
    "duration": 4,
    "start_time": "2023-03-28T17:36:58.708Z"
   },
   {
    "duration": 78,
    "start_time": "2023-03-28T17:36:58.714Z"
   },
   {
    "duration": 35,
    "start_time": "2023-03-28T17:36:58.794Z"
   },
   {
    "duration": 25,
    "start_time": "2023-03-28T17:36:58.830Z"
   },
   {
    "duration": 97,
    "start_time": "2023-03-28T17:36:58.858Z"
   },
   {
    "duration": 43,
    "start_time": "2023-03-28T17:36:58.957Z"
   },
   {
    "duration": 27,
    "start_time": "2023-03-28T17:36:59.002Z"
   },
   {
    "duration": 25,
    "start_time": "2023-03-28T17:36:59.031Z"
   },
   {
    "duration": 22,
    "start_time": "2023-03-28T17:36:59.058Z"
   },
   {
    "duration": 28,
    "start_time": "2023-03-28T17:36:59.086Z"
   },
   {
    "duration": 9,
    "start_time": "2023-03-28T17:36:59.116Z"
   },
   {
    "duration": 18,
    "start_time": "2023-03-28T17:36:59.127Z"
   },
   {
    "duration": 8,
    "start_time": "2023-03-28T17:36:59.147Z"
   },
   {
    "duration": 14,
    "start_time": "2023-03-28T17:36:59.179Z"
   },
   {
    "duration": 4,
    "start_time": "2023-03-28T17:36:59.195Z"
   },
   {
    "duration": 27,
    "start_time": "2023-03-28T17:36:59.200Z"
   },
   {
    "duration": 13,
    "start_time": "2023-03-28T17:36:59.228Z"
   },
   {
    "duration": 218,
    "start_time": "2023-03-28T17:36:59.243Z"
   },
   {
    "duration": 47,
    "start_time": "2023-03-28T17:36:59.463Z"
   },
   {
    "duration": 1896,
    "start_time": "2023-03-28T17:36:59.512Z"
   },
   {
    "duration": 7,
    "start_time": "2023-03-28T17:37:01.410Z"
   },
   {
    "duration": 54,
    "start_time": "2023-03-28T17:37:01.419Z"
   },
   {
    "duration": 96,
    "start_time": "2023-03-28T17:37:01.475Z"
   },
   {
    "duration": 38,
    "start_time": "2023-03-28T17:37:01.573Z"
   },
   {
    "duration": 2507,
    "start_time": "2023-03-28T17:37:01.612Z"
   },
   {
    "duration": 11,
    "start_time": "2023-03-28T17:37:04.120Z"
   },
   {
    "duration": 16,
    "start_time": "2023-03-28T17:37:04.132Z"
   },
   {
    "duration": 8,
    "start_time": "2023-03-28T17:38:12.929Z"
   },
   {
    "duration": 12,
    "start_time": "2023-03-28T17:39:09.019Z"
   },
   {
    "duration": 1231,
    "start_time": "2023-03-28T17:39:15.022Z"
   },
   {
    "duration": 493,
    "start_time": "2023-03-28T17:39:16.255Z"
   },
   {
    "duration": 3,
    "start_time": "2023-03-28T17:39:16.750Z"
   },
   {
    "duration": 39,
    "start_time": "2023-03-28T17:39:16.754Z"
   },
   {
    "duration": 20,
    "start_time": "2023-03-28T17:39:16.795Z"
   },
   {
    "duration": 151,
    "start_time": "2023-03-28T17:39:16.817Z"
   },
   {
    "duration": 97,
    "start_time": "2023-03-28T17:39:16.970Z"
   },
   {
    "duration": 244,
    "start_time": "2023-03-28T17:39:17.069Z"
   },
   {
    "duration": 139,
    "start_time": "2023-03-28T17:39:17.315Z"
   },
   {
    "duration": 4,
    "start_time": "2023-03-28T17:39:17.455Z"
   },
   {
    "duration": 101,
    "start_time": "2023-03-28T17:39:17.476Z"
   },
   {
    "duration": 38,
    "start_time": "2023-03-28T17:39:17.579Z"
   },
   {
    "duration": 77,
    "start_time": "2023-03-28T17:39:17.619Z"
   },
   {
    "duration": 23,
    "start_time": "2023-03-28T17:39:17.698Z"
   },
   {
    "duration": 30,
    "start_time": "2023-03-28T17:39:17.723Z"
   },
   {
    "duration": 44,
    "start_time": "2023-03-28T17:39:17.755Z"
   },
   {
    "duration": 5,
    "start_time": "2023-03-28T17:39:17.801Z"
   },
   {
    "duration": 17,
    "start_time": "2023-03-28T17:39:17.808Z"
   },
   {
    "duration": 50,
    "start_time": "2023-03-28T17:39:17.827Z"
   },
   {
    "duration": 9,
    "start_time": "2023-03-28T17:39:17.882Z"
   },
   {
    "duration": 8,
    "start_time": "2023-03-28T17:39:17.893Z"
   },
   {
    "duration": 9,
    "start_time": "2023-03-28T17:39:17.903Z"
   },
   {
    "duration": 4,
    "start_time": "2023-03-28T17:39:17.914Z"
   },
   {
    "duration": 7,
    "start_time": "2023-03-28T17:39:17.920Z"
   },
   {
    "duration": 6,
    "start_time": "2023-03-28T17:39:17.929Z"
   },
   {
    "duration": 237,
    "start_time": "2023-03-28T17:39:17.937Z"
   },
   {
    "duration": 32,
    "start_time": "2023-03-28T17:39:18.180Z"
   },
   {
    "duration": 1839,
    "start_time": "2023-03-28T17:39:18.214Z"
   },
   {
    "duration": 19,
    "start_time": "2023-03-28T17:39:20.055Z"
   },
   {
    "duration": 13,
    "start_time": "2023-03-28T17:39:20.083Z"
   },
   {
    "duration": 46,
    "start_time": "2023-03-28T17:39:20.098Z"
   },
   {
    "duration": 49,
    "start_time": "2023-03-28T17:39:20.146Z"
   },
   {
    "duration": 2359,
    "start_time": "2023-03-28T17:39:20.196Z"
   },
   {
    "duration": 9,
    "start_time": "2023-03-28T17:39:22.556Z"
   },
   {
    "duration": 17,
    "start_time": "2023-03-28T17:39:22.575Z"
   },
   {
    "duration": 6,
    "start_time": "2023-03-28T17:40:47.989Z"
   },
   {
    "duration": 29,
    "start_time": "2023-03-28T17:51:36.948Z"
   },
   {
    "duration": 1158,
    "start_time": "2023-03-28T17:57:57.684Z"
   },
   {
    "duration": 418,
    "start_time": "2023-03-28T17:57:58.844Z"
   },
   {
    "duration": 3,
    "start_time": "2023-03-28T17:57:59.264Z"
   },
   {
    "duration": 27,
    "start_time": "2023-03-28T17:57:59.269Z"
   },
   {
    "duration": 25,
    "start_time": "2023-03-28T17:57:59.297Z"
   },
   {
    "duration": 173,
    "start_time": "2023-03-28T17:57:59.324Z"
   },
   {
    "duration": 81,
    "start_time": "2023-03-28T17:57:59.498Z"
   },
   {
    "duration": 116,
    "start_time": "2023-03-28T17:57:59.581Z"
   },
   {
    "duration": 90,
    "start_time": "2023-03-28T17:57:59.698Z"
   },
   {
    "duration": 4,
    "start_time": "2023-03-28T17:57:59.791Z"
   },
   {
    "duration": 56,
    "start_time": "2023-03-28T17:57:59.796Z"
   },
   {
    "duration": 47,
    "start_time": "2023-03-28T17:57:59.854Z"
   },
   {
    "duration": 26,
    "start_time": "2023-03-28T17:57:59.903Z"
   },
   {
    "duration": 49,
    "start_time": "2023-03-28T17:57:59.930Z"
   },
   {
    "duration": 33,
    "start_time": "2023-03-28T17:57:59.980Z"
   },
   {
    "duration": 19,
    "start_time": "2023-03-28T17:58:00.015Z"
   },
   {
    "duration": 13,
    "start_time": "2023-03-28T17:58:00.036Z"
   },
   {
    "duration": 34,
    "start_time": "2023-03-28T17:58:00.052Z"
   },
   {
    "duration": 37,
    "start_time": "2023-03-28T17:58:00.088Z"
   },
   {
    "duration": 7,
    "start_time": "2023-03-28T17:58:00.127Z"
   },
   {
    "duration": 24,
    "start_time": "2023-03-28T17:58:00.136Z"
   },
   {
    "duration": 32,
    "start_time": "2023-03-28T17:58:00.162Z"
   },
   {
    "duration": 14,
    "start_time": "2023-03-28T17:58:00.196Z"
   },
   {
    "duration": 230,
    "start_time": "2023-03-28T17:58:00.211Z"
   },
   {
    "duration": 36,
    "start_time": "2023-03-28T17:58:00.444Z"
   },
   {
    "duration": 1801,
    "start_time": "2023-03-28T17:58:00.482Z"
   },
   {
    "duration": 6,
    "start_time": "2023-03-28T17:58:02.285Z"
   },
   {
    "duration": 23,
    "start_time": "2023-03-28T17:58:02.294Z"
   },
   {
    "duration": 61,
    "start_time": "2023-03-28T17:58:02.319Z"
   },
   {
    "duration": 35,
    "start_time": "2023-03-28T17:58:02.382Z"
   },
   {
    "duration": 2392,
    "start_time": "2023-03-28T17:58:02.419Z"
   },
   {
    "duration": 8,
    "start_time": "2023-03-28T17:58:04.813Z"
   },
   {
    "duration": 9,
    "start_time": "2023-03-28T17:58:04.822Z"
   },
   {
    "duration": 1124,
    "start_time": "2023-03-28T18:01:26.520Z"
   },
   {
    "duration": 420,
    "start_time": "2023-03-28T18:01:27.647Z"
   },
   {
    "duration": 3,
    "start_time": "2023-03-28T18:01:28.071Z"
   },
   {
    "duration": 23,
    "start_time": "2023-03-28T18:01:28.076Z"
   },
   {
    "duration": 20,
    "start_time": "2023-03-28T18:01:28.100Z"
   },
   {
    "duration": 178,
    "start_time": "2023-03-28T18:01:28.122Z"
   },
   {
    "duration": 85,
    "start_time": "2023-03-28T18:01:28.302Z"
   },
   {
    "duration": 112,
    "start_time": "2023-03-28T18:01:28.389Z"
   },
   {
    "duration": 85,
    "start_time": "2023-03-28T18:01:28.502Z"
   },
   {
    "duration": 3,
    "start_time": "2023-03-28T18:01:28.589Z"
   },
   {
    "duration": 57,
    "start_time": "2023-03-28T18:01:28.593Z"
   },
   {
    "duration": 48,
    "start_time": "2023-03-28T18:01:28.652Z"
   },
   {
    "duration": 23,
    "start_time": "2023-03-28T18:01:28.702Z"
   },
   {
    "duration": 49,
    "start_time": "2023-03-28T18:01:28.727Z"
   },
   {
    "duration": 32,
    "start_time": "2023-03-28T18:01:28.777Z"
   },
   {
    "duration": 23,
    "start_time": "2023-03-28T18:01:28.810Z"
   },
   {
    "duration": 4,
    "start_time": "2023-03-28T18:01:28.835Z"
   },
   {
    "duration": 37,
    "start_time": "2023-03-28T18:01:28.840Z"
   },
   {
    "duration": 25,
    "start_time": "2023-03-28T18:01:28.879Z"
   },
   {
    "duration": 6,
    "start_time": "2023-03-28T18:01:28.905Z"
   },
   {
    "duration": 123,
    "start_time": "2023-03-28T18:01:28.912Z"
   },
   {
    "duration": 0,
    "start_time": "2023-03-28T18:01:29.036Z"
   },
   {
    "duration": 0,
    "start_time": "2023-03-28T18:01:29.037Z"
   },
   {
    "duration": 0,
    "start_time": "2023-03-28T18:01:29.038Z"
   },
   {
    "duration": 0,
    "start_time": "2023-03-28T18:01:29.039Z"
   },
   {
    "duration": 0,
    "start_time": "2023-03-28T18:01:29.041Z"
   },
   {
    "duration": 0,
    "start_time": "2023-03-28T18:01:29.042Z"
   },
   {
    "duration": 0,
    "start_time": "2023-03-28T18:01:29.043Z"
   },
   {
    "duration": 0,
    "start_time": "2023-03-28T18:01:29.044Z"
   },
   {
    "duration": 0,
    "start_time": "2023-03-28T18:01:29.045Z"
   },
   {
    "duration": 0,
    "start_time": "2023-03-28T18:01:29.046Z"
   },
   {
    "duration": 0,
    "start_time": "2023-03-28T18:01:29.047Z"
   },
   {
    "duration": 0,
    "start_time": "2023-03-28T18:01:29.074Z"
   },
   {
    "duration": 1121,
    "start_time": "2023-03-28T18:01:48.182Z"
   },
   {
    "duration": 417,
    "start_time": "2023-03-28T18:01:49.306Z"
   },
   {
    "duration": 3,
    "start_time": "2023-03-28T18:01:49.725Z"
   },
   {
    "duration": 26,
    "start_time": "2023-03-28T18:01:49.729Z"
   },
   {
    "duration": 42,
    "start_time": "2023-03-28T18:01:49.757Z"
   },
   {
    "duration": 171,
    "start_time": "2023-03-28T18:01:49.800Z"
   },
   {
    "duration": 102,
    "start_time": "2023-03-28T18:01:49.974Z"
   },
   {
    "duration": 123,
    "start_time": "2023-03-28T18:01:50.078Z"
   },
   {
    "duration": 80,
    "start_time": "2023-03-28T18:01:50.202Z"
   },
   {
    "duration": 7,
    "start_time": "2023-03-28T18:01:50.283Z"
   },
   {
    "duration": 66,
    "start_time": "2023-03-28T18:01:50.292Z"
   },
   {
    "duration": 44,
    "start_time": "2023-03-28T18:01:50.360Z"
   },
   {
    "duration": 34,
    "start_time": "2023-03-28T18:01:50.406Z"
   },
   {
    "duration": 48,
    "start_time": "2023-03-28T18:01:50.443Z"
   },
   {
    "duration": 31,
    "start_time": "2023-03-28T18:01:50.493Z"
   },
   {
    "duration": 17,
    "start_time": "2023-03-28T18:01:50.525Z"
   },
   {
    "duration": 5,
    "start_time": "2023-03-28T18:01:50.544Z"
   },
   {
    "duration": 38,
    "start_time": "2023-03-28T18:01:50.550Z"
   },
   {
    "duration": 30,
    "start_time": "2023-03-28T18:01:50.589Z"
   },
   {
    "duration": 7,
    "start_time": "2023-03-28T18:01:50.621Z"
   },
   {
    "duration": 22,
    "start_time": "2023-03-28T18:01:50.630Z"
   },
   {
    "duration": 23,
    "start_time": "2023-03-28T18:01:50.653Z"
   },
   {
    "duration": 6,
    "start_time": "2023-03-28T18:01:50.677Z"
   },
   {
    "duration": 204,
    "start_time": "2023-03-28T18:01:50.684Z"
   },
   {
    "duration": 27,
    "start_time": "2023-03-28T18:01:50.890Z"
   },
   {
    "duration": 1691,
    "start_time": "2023-03-28T18:01:50.919Z"
   },
   {
    "duration": 5,
    "start_time": "2023-03-28T18:01:52.612Z"
   },
   {
    "duration": 7,
    "start_time": "2023-03-28T18:01:52.619Z"
   },
   {
    "duration": 61,
    "start_time": "2023-03-28T18:01:52.628Z"
   },
   {
    "duration": 25,
    "start_time": "2023-03-28T18:01:52.690Z"
   },
   {
    "duration": 2288,
    "start_time": "2023-03-28T18:01:52.717Z"
   },
   {
    "duration": 9,
    "start_time": "2023-03-28T18:01:55.007Z"
   },
   {
    "duration": 18,
    "start_time": "2023-03-28T18:01:55.017Z"
   },
   {
    "duration": 10,
    "start_time": "2023-03-28T18:11:15.914Z"
   },
   {
    "duration": 9,
    "start_time": "2023-03-28T18:12:33.485Z"
   },
   {
    "duration": 1207,
    "start_time": "2023-03-28T18:13:36.547Z"
   },
   {
    "duration": 422,
    "start_time": "2023-03-28T18:13:37.757Z"
   },
   {
    "duration": 4,
    "start_time": "2023-03-28T18:13:38.180Z"
   },
   {
    "duration": 32,
    "start_time": "2023-03-28T18:13:38.186Z"
   },
   {
    "duration": 22,
    "start_time": "2023-03-28T18:13:38.220Z"
   },
   {
    "duration": 171,
    "start_time": "2023-03-28T18:13:38.243Z"
   },
   {
    "duration": 89,
    "start_time": "2023-03-28T18:13:38.416Z"
   },
   {
    "duration": 119,
    "start_time": "2023-03-28T18:13:38.507Z"
   },
   {
    "duration": 87,
    "start_time": "2023-03-28T18:13:38.628Z"
   },
   {
    "duration": 4,
    "start_time": "2023-03-28T18:13:38.719Z"
   },
   {
    "duration": 66,
    "start_time": "2023-03-28T18:13:38.724Z"
   },
   {
    "duration": 34,
    "start_time": "2023-03-28T18:13:38.792Z"
   },
   {
    "duration": 23,
    "start_time": "2023-03-28T18:13:38.828Z"
   },
   {
    "duration": 43,
    "start_time": "2023-03-28T18:13:38.853Z"
   },
   {
    "duration": 34,
    "start_time": "2023-03-28T18:13:38.898Z"
   },
   {
    "duration": 18,
    "start_time": "2023-03-28T18:13:38.934Z"
   },
   {
    "duration": 6,
    "start_time": "2023-03-28T18:13:38.975Z"
   },
   {
    "duration": 16,
    "start_time": "2023-03-28T18:13:38.982Z"
   },
   {
    "duration": 36,
    "start_time": "2023-03-28T18:13:38.999Z"
   },
   {
    "duration": 40,
    "start_time": "2023-03-28T18:13:39.037Z"
   },
   {
    "duration": 8,
    "start_time": "2023-03-28T18:13:39.078Z"
   },
   {
    "duration": 7,
    "start_time": "2023-03-28T18:13:39.087Z"
   },
   {
    "duration": 5,
    "start_time": "2023-03-28T18:13:39.096Z"
   },
   {
    "duration": 201,
    "start_time": "2023-03-28T18:13:39.102Z"
   },
   {
    "duration": 29,
    "start_time": "2023-03-28T18:13:39.305Z"
   },
   {
    "duration": 1765,
    "start_time": "2023-03-28T18:13:39.336Z"
   },
   {
    "duration": 6,
    "start_time": "2023-03-28T18:13:41.103Z"
   },
   {
    "duration": 5,
    "start_time": "2023-03-28T18:13:41.112Z"
   },
   {
    "duration": 59,
    "start_time": "2023-03-28T18:13:41.118Z"
   },
   {
    "duration": 25,
    "start_time": "2023-03-28T18:13:41.179Z"
   },
   {
    "duration": 2220,
    "start_time": "2023-03-28T18:13:41.206Z"
   },
   {
    "duration": 10,
    "start_time": "2023-03-28T18:13:43.428Z"
   },
   {
    "duration": 9,
    "start_time": "2023-03-28T18:13:43.441Z"
   },
   {
    "duration": 1256,
    "start_time": "2023-03-29T21:03:56.868Z"
   },
   {
    "duration": 1189,
    "start_time": "2023-03-29T21:03:58.126Z"
   },
   {
    "duration": 3,
    "start_time": "2023-03-29T21:03:59.317Z"
   },
   {
    "duration": 37,
    "start_time": "2023-03-29T21:03:59.322Z"
   },
   {
    "duration": 18,
    "start_time": "2023-03-29T21:03:59.360Z"
   },
   {
    "duration": 134,
    "start_time": "2023-03-29T21:03:59.379Z"
   },
   {
    "duration": 78,
    "start_time": "2023-03-29T21:03:59.515Z"
   },
   {
    "duration": 90,
    "start_time": "2023-03-29T21:03:59.595Z"
   },
   {
    "duration": 70,
    "start_time": "2023-03-29T21:03:59.686Z"
   },
   {
    "duration": 13,
    "start_time": "2023-03-29T21:03:59.759Z"
   },
   {
    "duration": 33,
    "start_time": "2023-03-29T21:03:59.773Z"
   },
   {
    "duration": 32,
    "start_time": "2023-03-29T21:03:59.807Z"
   },
   {
    "duration": 46,
    "start_time": "2023-03-29T21:03:59.840Z"
   },
   {
    "duration": 21,
    "start_time": "2023-03-29T21:03:59.888Z"
   },
   {
    "duration": 48,
    "start_time": "2023-03-29T21:03:59.911Z"
   },
   {
    "duration": 23,
    "start_time": "2023-03-29T21:03:59.960Z"
   },
   {
    "duration": 135,
    "start_time": "2023-03-29T21:03:59.984Z"
   },
   {
    "duration": 43,
    "start_time": "2023-03-29T21:04:00.121Z"
   },
   {
    "duration": 43,
    "start_time": "2023-03-29T21:04:00.165Z"
   },
   {
    "duration": 12,
    "start_time": "2023-03-29T21:04:00.210Z"
   },
   {
    "duration": 27,
    "start_time": "2023-03-29T21:04:00.224Z"
   },
   {
    "duration": 31,
    "start_time": "2023-03-29T21:04:00.253Z"
   },
   {
    "duration": 26,
    "start_time": "2023-03-29T21:04:00.285Z"
   },
   {
    "duration": 197,
    "start_time": "2023-03-29T21:04:00.312Z"
   },
   {
    "duration": 25,
    "start_time": "2023-03-29T21:04:00.510Z"
   },
   {
    "duration": 1438,
    "start_time": "2023-03-29T21:04:00.537Z"
   },
   {
    "duration": 6,
    "start_time": "2023-03-29T21:04:01.976Z"
   },
   {
    "duration": 35,
    "start_time": "2023-03-29T21:04:01.985Z"
   },
   {
    "duration": 63,
    "start_time": "2023-03-29T21:04:02.021Z"
   },
   {
    "duration": 38,
    "start_time": "2023-03-29T21:04:02.086Z"
   },
   {
    "duration": 1869,
    "start_time": "2023-03-29T21:04:02.125Z"
   },
   {
    "duration": 7,
    "start_time": "2023-03-29T21:04:03.995Z"
   },
   {
    "duration": 15,
    "start_time": "2023-03-29T21:04:04.004Z"
   },
   {
    "duration": 5,
    "start_time": "2023-03-29T21:32:43.356Z"
   },
   {
    "duration": 1031,
    "start_time": "2023-03-29T21:33:49.736Z"
   },
   {
    "duration": 393,
    "start_time": "2023-03-29T21:33:50.769Z"
   },
   {
    "duration": 4,
    "start_time": "2023-03-29T21:33:51.163Z"
   },
   {
    "duration": 26,
    "start_time": "2023-03-29T21:33:51.168Z"
   },
   {
    "duration": 18,
    "start_time": "2023-03-29T21:33:51.196Z"
   },
   {
    "duration": 138,
    "start_time": "2023-03-29T21:33:51.216Z"
   },
   {
    "duration": 66,
    "start_time": "2023-03-29T21:33:51.355Z"
   },
   {
    "duration": 105,
    "start_time": "2023-03-29T21:33:51.423Z"
   },
   {
    "duration": 75,
    "start_time": "2023-03-29T21:33:51.530Z"
   },
   {
    "duration": 4,
    "start_time": "2023-03-29T21:33:51.607Z"
   },
   {
    "duration": 38,
    "start_time": "2023-03-29T21:33:51.612Z"
   },
   {
    "duration": 39,
    "start_time": "2023-03-29T21:33:51.652Z"
   },
   {
    "duration": 22,
    "start_time": "2023-03-29T21:33:51.693Z"
   },
   {
    "duration": 20,
    "start_time": "2023-03-29T21:33:51.718Z"
   },
   {
    "duration": 48,
    "start_time": "2023-03-29T21:33:51.739Z"
   },
   {
    "duration": 15,
    "start_time": "2023-03-29T21:33:51.789Z"
   },
   {
    "duration": 9,
    "start_time": "2023-03-29T21:33:51.805Z"
   },
   {
    "duration": 14,
    "start_time": "2023-03-29T21:33:51.815Z"
   },
   {
    "duration": 24,
    "start_time": "2023-03-29T21:33:51.830Z"
   },
   {
    "duration": 20,
    "start_time": "2023-03-29T21:33:51.855Z"
   },
   {
    "duration": 25,
    "start_time": "2023-03-29T21:33:51.876Z"
   },
   {
    "duration": 7,
    "start_time": "2023-03-29T21:33:51.903Z"
   },
   {
    "duration": 12,
    "start_time": "2023-03-29T21:33:51.911Z"
   },
   {
    "duration": 5,
    "start_time": "2023-03-29T21:33:51.924Z"
   },
   {
    "duration": 163,
    "start_time": "2023-03-29T21:33:51.930Z"
   },
   {
    "duration": 21,
    "start_time": "2023-03-29T21:33:52.094Z"
   },
   {
    "duration": 1996,
    "start_time": "2023-03-29T21:33:52.117Z"
   },
   {
    "duration": 59,
    "start_time": "2023-03-29T21:33:54.115Z"
   },
   {
    "duration": 20,
    "start_time": "2023-03-29T21:33:54.176Z"
   },
   {
    "duration": 82,
    "start_time": "2023-03-29T21:33:54.197Z"
   },
   {
    "duration": 21,
    "start_time": "2023-03-29T21:33:54.281Z"
   },
   {
    "duration": 2969,
    "start_time": "2023-03-29T21:33:54.303Z"
   },
   {
    "duration": 7,
    "start_time": "2023-03-29T21:33:57.274Z"
   },
   {
    "duration": 7,
    "start_time": "2023-03-29T21:33:57.282Z"
   },
   {
    "duration": 4,
    "start_time": "2023-03-29T21:35:00.236Z"
   },
   {
    "duration": 196,
    "start_time": "2023-03-29T21:59:40.971Z"
   },
   {
    "duration": 53,
    "start_time": "2023-03-30T16:37:25.566Z"
   },
   {
    "duration": 7,
    "start_time": "2023-03-30T16:37:37.249Z"
   },
   {
    "duration": 1403,
    "start_time": "2023-03-30T16:37:43.715Z"
   },
   {
    "duration": 884,
    "start_time": "2023-03-30T16:37:45.120Z"
   },
   {
    "duration": 3,
    "start_time": "2023-03-30T16:37:46.006Z"
   },
   {
    "duration": 26,
    "start_time": "2023-03-30T16:37:46.012Z"
   },
   {
    "duration": 28,
    "start_time": "2023-03-30T16:37:46.040Z"
   },
   {
    "duration": 172,
    "start_time": "2023-03-30T16:37:46.070Z"
   },
   {
    "duration": 87,
    "start_time": "2023-03-30T16:37:46.244Z"
   },
   {
    "duration": 131,
    "start_time": "2023-03-30T16:37:46.333Z"
   },
   {
    "duration": 95,
    "start_time": "2023-03-30T16:37:46.466Z"
   },
   {
    "duration": 4,
    "start_time": "2023-03-30T16:37:46.564Z"
   },
   {
    "duration": 56,
    "start_time": "2023-03-30T16:37:46.570Z"
   },
   {
    "duration": 415,
    "start_time": "2023-03-30T16:37:46.628Z"
   },
   {
    "duration": 0,
    "start_time": "2023-03-30T16:37:47.045Z"
   },
   {
    "duration": 0,
    "start_time": "2023-03-30T16:37:47.047Z"
   },
   {
    "duration": 1,
    "start_time": "2023-03-30T16:37:47.047Z"
   },
   {
    "duration": 0,
    "start_time": "2023-03-30T16:37:47.049Z"
   },
   {
    "duration": 0,
    "start_time": "2023-03-30T16:37:47.050Z"
   },
   {
    "duration": 0,
    "start_time": "2023-03-30T16:37:47.051Z"
   },
   {
    "duration": 0,
    "start_time": "2023-03-30T16:37:47.052Z"
   },
   {
    "duration": 0,
    "start_time": "2023-03-30T16:37:47.053Z"
   },
   {
    "duration": 0,
    "start_time": "2023-03-30T16:37:47.054Z"
   },
   {
    "duration": 0,
    "start_time": "2023-03-30T16:37:47.055Z"
   },
   {
    "duration": 0,
    "start_time": "2023-03-30T16:37:47.056Z"
   },
   {
    "duration": 0,
    "start_time": "2023-03-30T16:37:47.058Z"
   },
   {
    "duration": 0,
    "start_time": "2023-03-30T16:37:47.059Z"
   },
   {
    "duration": 0,
    "start_time": "2023-03-30T16:37:47.060Z"
   },
   {
    "duration": 0,
    "start_time": "2023-03-30T16:37:47.061Z"
   },
   {
    "duration": 0,
    "start_time": "2023-03-30T16:37:47.062Z"
   },
   {
    "duration": 0,
    "start_time": "2023-03-30T16:37:47.063Z"
   },
   {
    "duration": 0,
    "start_time": "2023-03-30T16:37:47.064Z"
   },
   {
    "duration": 0,
    "start_time": "2023-03-30T16:37:47.064Z"
   },
   {
    "duration": 0,
    "start_time": "2023-03-30T16:37:47.065Z"
   },
   {
    "duration": 0,
    "start_time": "2023-03-30T16:37:47.066Z"
   },
   {
    "duration": 0,
    "start_time": "2023-03-30T16:37:47.067Z"
   },
   {
    "duration": 106,
    "start_time": "2023-03-30T16:38:12.835Z"
   },
   {
    "duration": 1138,
    "start_time": "2023-03-30T16:38:34.779Z"
   },
   {
    "duration": 435,
    "start_time": "2023-03-30T16:38:35.919Z"
   },
   {
    "duration": 6,
    "start_time": "2023-03-30T16:38:36.356Z"
   },
   {
    "duration": 26,
    "start_time": "2023-03-30T16:38:36.364Z"
   },
   {
    "duration": 22,
    "start_time": "2023-03-30T16:38:36.391Z"
   },
   {
    "duration": 184,
    "start_time": "2023-03-30T16:38:36.414Z"
   },
   {
    "duration": 90,
    "start_time": "2023-03-30T16:38:36.600Z"
   },
   {
    "duration": 116,
    "start_time": "2023-03-30T16:38:36.691Z"
   },
   {
    "duration": 76,
    "start_time": "2023-03-30T16:38:36.809Z"
   },
   {
    "duration": 4,
    "start_time": "2023-03-30T16:38:36.888Z"
   },
   {
    "duration": 56,
    "start_time": "2023-03-30T16:38:36.893Z"
   },
   {
    "duration": 121,
    "start_time": "2023-03-30T16:38:36.950Z"
   },
   {
    "duration": 24,
    "start_time": "2023-03-30T16:38:37.072Z"
   },
   {
    "duration": 23,
    "start_time": "2023-03-30T16:38:37.098Z"
   },
   {
    "duration": 50,
    "start_time": "2023-03-30T16:38:37.122Z"
   },
   {
    "duration": 18,
    "start_time": "2023-03-30T16:38:37.173Z"
   },
   {
    "duration": 5,
    "start_time": "2023-03-30T16:38:37.193Z"
   },
   {
    "duration": 35,
    "start_time": "2023-03-30T16:38:37.199Z"
   },
   {
    "duration": 33,
    "start_time": "2023-03-30T16:38:37.236Z"
   },
   {
    "duration": 7,
    "start_time": "2023-03-30T16:38:37.270Z"
   },
   {
    "duration": 11,
    "start_time": "2023-03-30T16:38:37.279Z"
   },
   {
    "duration": 19,
    "start_time": "2023-03-30T16:38:37.292Z"
   },
   {
    "duration": 10,
    "start_time": "2023-03-30T16:38:37.313Z"
   },
   {
    "duration": 221,
    "start_time": "2023-03-30T16:38:37.324Z"
   },
   {
    "duration": 14,
    "start_time": "2023-03-30T16:38:37.547Z"
   },
   {
    "duration": 27,
    "start_time": "2023-03-30T16:38:37.563Z"
   },
   {
    "duration": 1754,
    "start_time": "2023-03-30T16:38:37.592Z"
   },
   {
    "duration": 14,
    "start_time": "2023-03-30T16:38:39.349Z"
   },
   {
    "duration": 11,
    "start_time": "2023-03-30T16:38:39.364Z"
   },
   {
    "duration": 42,
    "start_time": "2023-03-30T16:38:39.377Z"
   },
   {
    "duration": 47,
    "start_time": "2023-03-30T16:38:39.420Z"
   },
   {
    "duration": 2276,
    "start_time": "2023-03-30T16:38:39.469Z"
   },
   {
    "duration": 14,
    "start_time": "2023-03-30T16:38:41.747Z"
   },
   {
    "duration": 28,
    "start_time": "2023-03-30T16:38:41.763Z"
   },
   {
    "duration": 148,
    "start_time": "2023-03-30T16:44:30.720Z"
   },
   {
    "duration": 17,
    "start_time": "2023-03-30T16:51:34.434Z"
   },
   {
    "duration": 1126,
    "start_time": "2023-03-30T17:01:46.882Z"
   },
   {
    "duration": 426,
    "start_time": "2023-03-30T17:01:48.010Z"
   },
   {
    "duration": 3,
    "start_time": "2023-03-30T17:01:48.438Z"
   },
   {
    "duration": 33,
    "start_time": "2023-03-30T17:01:48.442Z"
   },
   {
    "duration": 21,
    "start_time": "2023-03-30T17:01:48.477Z"
   },
   {
    "duration": 182,
    "start_time": "2023-03-30T17:01:48.499Z"
   },
   {
    "duration": 87,
    "start_time": "2023-03-30T17:01:48.683Z"
   },
   {
    "duration": 124,
    "start_time": "2023-03-30T17:01:48.772Z"
   },
   {
    "duration": 86,
    "start_time": "2023-03-30T17:01:48.898Z"
   },
   {
    "duration": 5,
    "start_time": "2023-03-30T17:01:48.985Z"
   },
   {
    "duration": 69,
    "start_time": "2023-03-30T17:01:48.992Z"
   },
   {
    "duration": 122,
    "start_time": "2023-03-30T17:01:49.064Z"
   },
   {
    "duration": 23,
    "start_time": "2023-03-30T17:01:49.188Z"
   },
   {
    "duration": 22,
    "start_time": "2023-03-30T17:01:49.214Z"
   },
   {
    "duration": 48,
    "start_time": "2023-03-30T17:01:49.237Z"
   },
   {
    "duration": 18,
    "start_time": "2023-03-30T17:01:49.286Z"
   },
   {
    "duration": 5,
    "start_time": "2023-03-30T17:01:49.305Z"
   },
   {
    "duration": 13,
    "start_time": "2023-03-30T17:01:49.312Z"
   },
   {
    "duration": 121,
    "start_time": "2023-03-30T17:01:49.326Z"
   },
   {
    "duration": 0,
    "start_time": "2023-03-30T17:01:49.449Z"
   },
   {
    "duration": 0,
    "start_time": "2023-03-30T17:01:49.451Z"
   },
   {
    "duration": 0,
    "start_time": "2023-03-30T17:01:49.452Z"
   },
   {
    "duration": 0,
    "start_time": "2023-03-30T17:01:49.462Z"
   },
   {
    "duration": 0,
    "start_time": "2023-03-30T17:01:49.463Z"
   },
   {
    "duration": 0,
    "start_time": "2023-03-30T17:01:49.464Z"
   },
   {
    "duration": 0,
    "start_time": "2023-03-30T17:01:49.465Z"
   },
   {
    "duration": 0,
    "start_time": "2023-03-30T17:01:49.465Z"
   },
   {
    "duration": 0,
    "start_time": "2023-03-30T17:01:49.466Z"
   },
   {
    "duration": 0,
    "start_time": "2023-03-30T17:01:49.467Z"
   },
   {
    "duration": 0,
    "start_time": "2023-03-30T17:01:49.468Z"
   },
   {
    "duration": 0,
    "start_time": "2023-03-30T17:01:49.469Z"
   },
   {
    "duration": 0,
    "start_time": "2023-03-30T17:01:49.470Z"
   },
   {
    "duration": 0,
    "start_time": "2023-03-30T17:01:49.471Z"
   },
   {
    "duration": 0,
    "start_time": "2023-03-30T17:01:49.472Z"
   },
   {
    "duration": 0,
    "start_time": "2023-03-30T17:01:49.473Z"
   },
   {
    "duration": 1196,
    "start_time": "2023-03-30T17:03:32.557Z"
   },
   {
    "duration": 476,
    "start_time": "2023-03-30T17:03:33.755Z"
   },
   {
    "duration": 4,
    "start_time": "2023-03-30T17:03:34.233Z"
   },
   {
    "duration": 29,
    "start_time": "2023-03-30T17:03:34.239Z"
   },
   {
    "duration": 23,
    "start_time": "2023-03-30T17:03:34.270Z"
   },
   {
    "duration": 180,
    "start_time": "2023-03-30T17:03:34.295Z"
   },
   {
    "duration": 86,
    "start_time": "2023-03-30T17:03:34.477Z"
   },
   {
    "duration": 119,
    "start_time": "2023-03-30T17:03:34.564Z"
   },
   {
    "duration": 82,
    "start_time": "2023-03-30T17:03:34.684Z"
   },
   {
    "duration": 3,
    "start_time": "2023-03-30T17:03:34.769Z"
   },
   {
    "duration": 78,
    "start_time": "2023-03-30T17:03:34.774Z"
   },
   {
    "duration": 117,
    "start_time": "2023-03-30T17:03:34.854Z"
   },
   {
    "duration": 27,
    "start_time": "2023-03-30T17:03:34.973Z"
   },
   {
    "duration": 26,
    "start_time": "2023-03-30T17:03:35.002Z"
   },
   {
    "duration": 54,
    "start_time": "2023-03-30T17:03:35.029Z"
   },
   {
    "duration": 18,
    "start_time": "2023-03-30T17:03:35.085Z"
   },
   {
    "duration": 5,
    "start_time": "2023-03-30T17:03:35.104Z"
   },
   {
    "duration": 36,
    "start_time": "2023-03-30T17:03:35.111Z"
   },
   {
    "duration": 24,
    "start_time": "2023-03-30T17:03:35.148Z"
   },
   {
    "duration": 40,
    "start_time": "2023-03-30T17:03:35.174Z"
   },
   {
    "duration": 7,
    "start_time": "2023-03-30T17:03:35.216Z"
   },
   {
    "duration": 11,
    "start_time": "2023-03-30T17:03:35.225Z"
   },
   {
    "duration": 7,
    "start_time": "2023-03-30T17:03:35.238Z"
   },
   {
    "duration": 26,
    "start_time": "2023-03-30T17:03:35.247Z"
   },
   {
    "duration": 203,
    "start_time": "2023-03-30T17:03:35.275Z"
   },
   {
    "duration": 5,
    "start_time": "2023-03-30T17:03:35.479Z"
   },
   {
    "duration": 46,
    "start_time": "2023-03-30T17:03:35.486Z"
   },
   {
    "duration": 1738,
    "start_time": "2023-03-30T17:03:35.535Z"
   },
   {
    "duration": 6,
    "start_time": "2023-03-30T17:03:37.275Z"
   },
   {
    "duration": 11,
    "start_time": "2023-03-30T17:03:37.283Z"
   },
   {
    "duration": 40,
    "start_time": "2023-03-30T17:03:37.296Z"
   },
   {
    "duration": 46,
    "start_time": "2023-03-30T17:03:37.338Z"
   },
   {
    "duration": 2282,
    "start_time": "2023-03-30T17:03:37.385Z"
   },
   {
    "duration": 8,
    "start_time": "2023-03-30T17:03:39.669Z"
   },
   {
    "duration": 10,
    "start_time": "2023-03-30T17:03:39.679Z"
   },
   {
    "duration": 5,
    "start_time": "2023-03-30T17:06:16.083Z"
   },
   {
    "duration": 19,
    "start_time": "2023-03-30T17:11:39.358Z"
   },
   {
    "duration": 47,
    "start_time": "2023-03-30T17:11:58.720Z"
   },
   {
    "duration": 1154,
    "start_time": "2023-03-30T17:12:04.008Z"
   },
   {
    "duration": 425,
    "start_time": "2023-03-30T17:12:05.164Z"
   },
   {
    "duration": 3,
    "start_time": "2023-03-30T17:12:05.590Z"
   },
   {
    "duration": 31,
    "start_time": "2023-03-30T17:12:05.595Z"
   },
   {
    "duration": 35,
    "start_time": "2023-03-30T17:12:05.628Z"
   },
   {
    "duration": 161,
    "start_time": "2023-03-30T17:12:05.664Z"
   },
   {
    "duration": 88,
    "start_time": "2023-03-30T17:12:05.827Z"
   },
   {
    "duration": 117,
    "start_time": "2023-03-30T17:12:05.917Z"
   },
   {
    "duration": 89,
    "start_time": "2023-03-30T17:12:06.036Z"
   },
   {
    "duration": 4,
    "start_time": "2023-03-30T17:12:06.127Z"
   },
   {
    "duration": 52,
    "start_time": "2023-03-30T17:12:06.604Z"
   },
   {
    "duration": 105,
    "start_time": "2023-03-30T17:12:06.798Z"
   },
   {
    "duration": 23,
    "start_time": "2023-03-30T17:12:07.198Z"
   },
   {
    "duration": 23,
    "start_time": "2023-03-30T17:12:07.398Z"
   },
   {
    "duration": 32,
    "start_time": "2023-03-30T17:12:07.598Z"
   },
   {
    "duration": 20,
    "start_time": "2023-03-30T17:12:11.644Z"
   },
   {
    "duration": 5,
    "start_time": "2023-03-30T17:12:14.471Z"
   },
   {
    "duration": 15,
    "start_time": "2023-03-30T17:12:20.507Z"
   },
   {
    "duration": 1236,
    "start_time": "2023-03-30T17:12:34.080Z"
   },
   {
    "duration": 16,
    "start_time": "2023-03-30T17:13:20.423Z"
   },
   {
    "duration": 11,
    "start_time": "2023-03-30T17:13:49.085Z"
   },
   {
    "duration": 16,
    "start_time": "2023-03-30T17:13:56.423Z"
   },
   {
    "duration": 15,
    "start_time": "2023-03-30T17:14:19.286Z"
   },
   {
    "duration": 1158,
    "start_time": "2023-03-30T17:14:23.317Z"
   },
   {
    "duration": 442,
    "start_time": "2023-03-30T17:14:24.477Z"
   },
   {
    "duration": 3,
    "start_time": "2023-03-30T17:14:24.920Z"
   },
   {
    "duration": 37,
    "start_time": "2023-03-30T17:14:24.925Z"
   },
   {
    "duration": 25,
    "start_time": "2023-03-30T17:14:24.964Z"
   },
   {
    "duration": 174,
    "start_time": "2023-03-30T17:14:24.991Z"
   },
   {
    "duration": 94,
    "start_time": "2023-03-30T17:14:25.167Z"
   },
   {
    "duration": 123,
    "start_time": "2023-03-30T17:14:25.264Z"
   },
   {
    "duration": 86,
    "start_time": "2023-03-30T17:14:25.389Z"
   },
   {
    "duration": 4,
    "start_time": "2023-03-30T17:14:25.476Z"
   },
   {
    "duration": 59,
    "start_time": "2023-03-30T17:14:25.482Z"
   },
   {
    "duration": 140,
    "start_time": "2023-03-30T17:14:25.544Z"
   },
   {
    "duration": 26,
    "start_time": "2023-03-30T17:14:25.685Z"
   },
   {
    "duration": 24,
    "start_time": "2023-03-30T17:14:25.714Z"
   },
   {
    "duration": 33,
    "start_time": "2023-03-30T17:14:25.761Z"
   },
   {
    "duration": 18,
    "start_time": "2023-03-30T17:14:25.796Z"
   },
   {
    "duration": 5,
    "start_time": "2023-03-30T17:14:25.816Z"
   },
   {
    "duration": 45,
    "start_time": "2023-03-30T17:14:25.823Z"
   },
   {
    "duration": 17,
    "start_time": "2023-03-30T17:14:25.870Z"
   },
   {
    "duration": 34,
    "start_time": "2023-03-30T17:14:25.889Z"
   },
   {
    "duration": 7,
    "start_time": "2023-03-30T17:14:25.924Z"
   },
   {
    "duration": 28,
    "start_time": "2023-03-30T17:14:25.933Z"
   },
   {
    "duration": 7,
    "start_time": "2023-03-30T17:14:25.964Z"
   },
   {
    "duration": 6,
    "start_time": "2023-03-30T17:14:25.973Z"
   },
   {
    "duration": 180,
    "start_time": "2023-03-30T17:14:25.981Z"
   },
   {
    "duration": 4,
    "start_time": "2023-03-30T17:14:26.163Z"
   },
   {
    "duration": 42,
    "start_time": "2023-03-30T17:14:26.169Z"
   },
   {
    "duration": 1807,
    "start_time": "2023-03-30T17:14:26.213Z"
   },
   {
    "duration": 7,
    "start_time": "2023-03-30T17:14:28.022Z"
   },
   {
    "duration": 7,
    "start_time": "2023-03-30T17:14:28.031Z"
   },
   {
    "duration": 61,
    "start_time": "2023-03-30T17:14:28.039Z"
   },
   {
    "duration": 27,
    "start_time": "2023-03-30T17:14:28.102Z"
   },
   {
    "duration": 2271,
    "start_time": "2023-03-30T17:14:28.131Z"
   },
   {
    "duration": 8,
    "start_time": "2023-03-30T17:14:30.404Z"
   },
   {
    "duration": 30,
    "start_time": "2023-03-30T17:14:30.414Z"
   },
   {
    "duration": 1119,
    "start_time": "2023-03-30T17:15:59.623Z"
   },
   {
    "duration": 456,
    "start_time": "2023-03-30T17:16:00.744Z"
   },
   {
    "duration": 3,
    "start_time": "2023-03-30T17:16:01.201Z"
   },
   {
    "duration": 47,
    "start_time": "2023-03-30T17:16:01.206Z"
   },
   {
    "duration": 34,
    "start_time": "2023-03-30T17:16:01.256Z"
   },
   {
    "duration": 170,
    "start_time": "2023-03-30T17:16:01.291Z"
   },
   {
    "duration": 75,
    "start_time": "2023-03-30T17:16:01.462Z"
   },
   {
    "duration": 130,
    "start_time": "2023-03-30T17:16:01.539Z"
   },
   {
    "duration": 73,
    "start_time": "2023-03-30T17:16:01.670Z"
   },
   {
    "duration": 17,
    "start_time": "2023-03-30T17:16:01.745Z"
   },
   {
    "duration": 70,
    "start_time": "2023-03-30T17:16:01.764Z"
   },
   {
    "duration": 107,
    "start_time": "2023-03-30T17:16:01.836Z"
   },
   {
    "duration": 36,
    "start_time": "2023-03-30T17:16:01.944Z"
   },
   {
    "duration": 21,
    "start_time": "2023-03-30T17:16:01.984Z"
   },
   {
    "duration": 41,
    "start_time": "2023-03-30T17:16:02.007Z"
   },
   {
    "duration": 24,
    "start_time": "2023-03-30T17:16:02.050Z"
   },
   {
    "duration": 27,
    "start_time": "2023-03-30T17:16:02.075Z"
   },
   {
    "duration": 43,
    "start_time": "2023-03-30T17:16:02.103Z"
   },
   {
    "duration": 54,
    "start_time": "2023-03-30T17:16:02.147Z"
   },
   {
    "duration": 54,
    "start_time": "2023-03-30T17:16:02.203Z"
   },
   {
    "duration": 7,
    "start_time": "2023-03-30T17:16:02.258Z"
   },
   {
    "duration": 21,
    "start_time": "2023-03-30T17:16:02.266Z"
   },
   {
    "duration": 10,
    "start_time": "2023-03-30T17:16:02.288Z"
   },
   {
    "duration": 5,
    "start_time": "2023-03-30T17:16:02.300Z"
   },
   {
    "duration": 162,
    "start_time": "2023-03-30T17:16:02.307Z"
   },
   {
    "duration": 4,
    "start_time": "2023-03-30T17:16:02.471Z"
   },
   {
    "duration": 38,
    "start_time": "2023-03-30T17:16:02.476Z"
   },
   {
    "duration": 1700,
    "start_time": "2023-03-30T17:16:02.516Z"
   },
   {
    "duration": 6,
    "start_time": "2023-03-30T17:16:04.218Z"
   },
   {
    "duration": 10,
    "start_time": "2023-03-30T17:16:04.226Z"
   },
   {
    "duration": 54,
    "start_time": "2023-03-30T17:16:04.238Z"
   },
   {
    "duration": 28,
    "start_time": "2023-03-30T17:16:04.294Z"
   },
   {
    "duration": 2204,
    "start_time": "2023-03-30T17:16:04.324Z"
   },
   {
    "duration": 10,
    "start_time": "2023-03-30T17:16:06.529Z"
   },
   {
    "duration": 24,
    "start_time": "2023-03-30T17:16:06.542Z"
   },
   {
    "duration": 24,
    "start_time": "2023-03-30T17:18:45.000Z"
   },
   {
    "duration": 1192,
    "start_time": "2023-03-30T17:19:18.736Z"
   },
   {
    "duration": 434,
    "start_time": "2023-03-30T17:19:19.930Z"
   },
   {
    "duration": 3,
    "start_time": "2023-03-30T17:19:20.365Z"
   },
   {
    "duration": 34,
    "start_time": "2023-03-30T17:19:20.370Z"
   },
   {
    "duration": 24,
    "start_time": "2023-03-30T17:19:20.406Z"
   },
   {
    "duration": 173,
    "start_time": "2023-03-30T17:19:20.432Z"
   },
   {
    "duration": 83,
    "start_time": "2023-03-30T17:19:20.607Z"
   },
   {
    "duration": 115,
    "start_time": "2023-03-30T17:19:20.692Z"
   },
   {
    "duration": 81,
    "start_time": "2023-03-30T17:19:20.809Z"
   },
   {
    "duration": 3,
    "start_time": "2023-03-30T17:19:20.893Z"
   },
   {
    "duration": 67,
    "start_time": "2023-03-30T17:19:20.898Z"
   },
   {
    "duration": 128,
    "start_time": "2023-03-30T17:19:20.966Z"
   },
   {
    "duration": 29,
    "start_time": "2023-03-30T17:19:21.096Z"
   },
   {
    "duration": 44,
    "start_time": "2023-03-30T17:19:21.127Z"
   },
   {
    "duration": 30,
    "start_time": "2023-03-30T17:19:21.173Z"
   },
   {
    "duration": 19,
    "start_time": "2023-03-30T17:19:21.204Z"
   },
   {
    "duration": 6,
    "start_time": "2023-03-30T17:19:21.225Z"
   },
   {
    "duration": 49,
    "start_time": "2023-03-30T17:19:21.232Z"
   },
   {
    "duration": 27,
    "start_time": "2023-03-30T17:19:21.283Z"
   },
   {
    "duration": 7,
    "start_time": "2023-03-30T17:19:21.312Z"
   },
   {
    "duration": 7,
    "start_time": "2023-03-30T17:19:21.320Z"
   },
   {
    "duration": 6,
    "start_time": "2023-03-30T17:19:21.329Z"
   },
   {
    "duration": 26,
    "start_time": "2023-03-30T17:19:21.337Z"
   },
   {
    "duration": 199,
    "start_time": "2023-03-30T17:19:21.365Z"
   },
   {
    "duration": 4,
    "start_time": "2023-03-30T17:19:21.565Z"
   },
   {
    "duration": 33,
    "start_time": "2023-03-30T17:19:21.571Z"
   },
   {
    "duration": 1712,
    "start_time": "2023-03-30T17:19:21.606Z"
   },
   {
    "duration": 7,
    "start_time": "2023-03-30T17:19:23.321Z"
   },
   {
    "duration": 7,
    "start_time": "2023-03-30T17:19:23.329Z"
   },
   {
    "duration": 56,
    "start_time": "2023-03-30T17:19:23.338Z"
   },
   {
    "duration": 73,
    "start_time": "2023-03-30T17:19:23.396Z"
   },
   {
    "duration": 2512,
    "start_time": "2023-03-30T17:19:23.470Z"
   },
   {
    "duration": 11,
    "start_time": "2023-03-30T17:19:25.984Z"
   },
   {
    "duration": 26,
    "start_time": "2023-03-30T17:19:25.998Z"
   },
   {
    "duration": 5,
    "start_time": "2023-03-30T17:23:32.137Z"
   },
   {
    "duration": 96,
    "start_time": "2023-03-30T17:23:43.697Z"
   },
   {
    "duration": 4,
    "start_time": "2023-03-30T17:23:48.003Z"
   },
   {
    "duration": 5,
    "start_time": "2023-03-30T17:24:55.684Z"
   },
   {
    "duration": 5,
    "start_time": "2023-03-30T17:25:39.093Z"
   },
   {
    "duration": 4,
    "start_time": "2023-03-30T17:26:12.728Z"
   },
   {
    "duration": 4,
    "start_time": "2023-03-30T17:26:14.682Z"
   },
   {
    "duration": 5,
    "start_time": "2023-03-30T17:27:21.426Z"
   },
   {
    "duration": 2460,
    "start_time": "2023-03-30T17:30:29.049Z"
   },
   {
    "duration": 1745,
    "start_time": "2023-03-30T17:30:47.682Z"
   },
   {
    "duration": 27,
    "start_time": "2023-03-30T17:31:22.834Z"
   },
   {
    "duration": 1576,
    "start_time": "2023-03-30T17:31:44.853Z"
   },
   {
    "duration": 39,
    "start_time": "2023-03-30T17:33:55.894Z"
   },
   {
    "duration": 31,
    "start_time": "2023-03-30T17:34:32.863Z"
   },
   {
    "duration": 2140,
    "start_time": "2023-03-30T17:34:54.470Z"
   },
   {
    "duration": 2478,
    "start_time": "2023-03-30T17:36:28.876Z"
   },
   {
    "duration": 2403,
    "start_time": "2023-03-30T17:37:17.487Z"
   },
   {
    "duration": 27,
    "start_time": "2023-03-30T17:38:53.033Z"
   },
   {
    "duration": 2425,
    "start_time": "2023-03-30T17:38:54.328Z"
   },
   {
    "duration": 27,
    "start_time": "2023-03-30T17:39:10.180Z"
   },
   {
    "duration": 2434,
    "start_time": "2023-03-30T17:39:11.534Z"
   },
   {
    "duration": 27,
    "start_time": "2023-03-30T17:39:49.194Z"
   },
   {
    "duration": 2513,
    "start_time": "2023-03-30T17:39:50.010Z"
   },
   {
    "duration": 26,
    "start_time": "2023-03-30T17:40:54.696Z"
   },
   {
    "duration": 28,
    "start_time": "2023-03-30T17:42:39.092Z"
   },
   {
    "duration": 2614,
    "start_time": "2023-03-30T17:42:40.155Z"
   },
   {
    "duration": 12,
    "start_time": "2023-03-30T17:50:03.957Z"
   },
   {
    "duration": 1493,
    "start_time": "2023-03-31T10:10:58.668Z"
   },
   {
    "duration": 1672,
    "start_time": "2023-03-31T10:11:00.163Z"
   },
   {
    "duration": 4,
    "start_time": "2023-03-31T10:11:01.837Z"
   },
   {
    "duration": 59,
    "start_time": "2023-03-31T10:11:01.843Z"
   },
   {
    "duration": 71,
    "start_time": "2023-03-31T10:11:01.904Z"
   },
   {
    "duration": 184,
    "start_time": "2023-03-31T10:11:01.976Z"
   },
   {
    "duration": 100,
    "start_time": "2023-03-31T10:11:02.162Z"
   },
   {
    "duration": 133,
    "start_time": "2023-03-31T10:11:02.264Z"
   },
   {
    "duration": 94,
    "start_time": "2023-03-31T10:11:02.399Z"
   },
   {
    "duration": 4,
    "start_time": "2023-03-31T10:11:02.496Z"
   },
   {
    "duration": 75,
    "start_time": "2023-03-31T10:11:02.502Z"
   },
   {
    "duration": 123,
    "start_time": "2023-03-31T10:11:02.580Z"
   },
   {
    "duration": 39,
    "start_time": "2023-03-31T10:11:02.706Z"
   },
   {
    "duration": 30,
    "start_time": "2023-03-31T10:11:02.747Z"
   },
   {
    "duration": 35,
    "start_time": "2023-03-31T10:11:02.779Z"
   },
   {
    "duration": 44,
    "start_time": "2023-03-31T10:11:02.816Z"
   },
   {
    "duration": 6,
    "start_time": "2023-03-31T10:11:02.861Z"
   },
   {
    "duration": 21,
    "start_time": "2023-03-31T10:11:02.869Z"
   },
   {
    "duration": 59,
    "start_time": "2023-03-31T10:11:02.892Z"
   },
   {
    "duration": 8,
    "start_time": "2023-03-31T10:11:02.954Z"
   },
   {
    "duration": 15,
    "start_time": "2023-03-31T10:11:02.963Z"
   },
   {
    "duration": 12,
    "start_time": "2023-03-31T10:11:02.979Z"
   },
   {
    "duration": 12,
    "start_time": "2023-03-31T10:11:02.993Z"
   },
   {
    "duration": 256,
    "start_time": "2023-03-31T10:11:03.007Z"
   },
   {
    "duration": 4,
    "start_time": "2023-03-31T10:11:03.265Z"
   },
   {
    "duration": 22,
    "start_time": "2023-03-31T10:11:03.271Z"
   },
   {
    "duration": 37,
    "start_time": "2023-03-31T10:11:03.295Z"
   },
   {
    "duration": 1867,
    "start_time": "2023-03-31T10:11:03.336Z"
   },
   {
    "duration": 8,
    "start_time": "2023-03-31T10:11:05.206Z"
   },
   {
    "duration": 58,
    "start_time": "2023-03-31T10:11:05.217Z"
   },
   {
    "duration": 68,
    "start_time": "2023-03-31T10:11:05.278Z"
   },
   {
    "duration": 39,
    "start_time": "2023-03-31T10:11:05.348Z"
   },
   {
    "duration": 2759,
    "start_time": "2023-03-31T10:11:05.389Z"
   },
   {
    "duration": 12,
    "start_time": "2023-03-31T10:11:08.149Z"
   },
   {
    "duration": 30,
    "start_time": "2023-03-31T10:11:08.163Z"
   },
   {
    "duration": 108,
    "start_time": "2023-03-31T10:18:02.694Z"
   },
   {
    "duration": 217,
    "start_time": "2023-03-31T10:18:18.378Z"
   },
   {
    "duration": 15,
    "start_time": "2023-03-31T10:28:11.175Z"
   },
   {
    "duration": 14,
    "start_time": "2023-03-31T11:43:00.565Z"
   },
   {
    "duration": 11,
    "start_time": "2023-03-31T11:43:11.018Z"
   },
   {
    "duration": 20,
    "start_time": "2023-03-31T11:44:19.169Z"
   },
   {
    "duration": 20,
    "start_time": "2023-03-31T11:49:08.516Z"
   },
   {
    "duration": 36,
    "start_time": "2023-03-31T11:50:13.033Z"
   },
   {
    "duration": 32,
    "start_time": "2023-03-31T11:50:49.871Z"
   },
   {
    "duration": 41,
    "start_time": "2023-03-31T11:51:15.073Z"
   },
   {
    "duration": 51,
    "start_time": "2023-03-31T11:51:47.435Z"
   },
   {
    "duration": 57,
    "start_time": "2023-03-31T11:52:28.848Z"
   },
   {
    "duration": 133,
    "start_time": "2023-03-31T12:06:59.920Z"
   },
   {
    "duration": 141,
    "start_time": "2023-03-31T12:07:43.094Z"
   },
   {
    "duration": 29,
    "start_time": "2023-03-31T12:07:53.179Z"
   },
   {
    "duration": 18,
    "start_time": "2023-03-31T12:08:01.338Z"
   },
   {
    "duration": 347,
    "start_time": "2023-03-31T12:09:05.421Z"
   },
   {
    "duration": 293,
    "start_time": "2023-03-31T12:09:42.792Z"
   },
   {
    "duration": 564,
    "start_time": "2023-03-31T12:19:50.865Z"
   },
   {
    "duration": 321,
    "start_time": "2023-03-31T12:20:04.611Z"
   },
   {
    "duration": 288,
    "start_time": "2023-03-31T12:20:13.759Z"
   },
   {
    "duration": 158,
    "start_time": "2023-03-31T12:20:40.334Z"
   },
   {
    "duration": 252,
    "start_time": "2023-03-31T12:20:55.403Z"
   },
   {
    "duration": 107,
    "start_time": "2023-03-31T12:21:51.129Z"
   },
   {
    "duration": 158,
    "start_time": "2023-03-31T12:21:56.203Z"
   },
   {
    "duration": 554,
    "start_time": "2023-03-31T12:22:13.436Z"
   },
   {
    "duration": 290,
    "start_time": "2023-03-31T12:26:09.265Z"
   },
   {
    "duration": 1142,
    "start_time": "2023-06-22T13:22:08.306Z"
   },
   {
    "duration": 922,
    "start_time": "2023-06-22T13:22:09.450Z"
   },
   {
    "duration": 3,
    "start_time": "2023-06-22T13:22:10.373Z"
   },
   {
    "duration": 76,
    "start_time": "2023-06-22T13:22:10.377Z"
   },
   {
    "duration": 49,
    "start_time": "2023-06-22T13:22:10.455Z"
   },
   {
    "duration": 183,
    "start_time": "2023-06-22T13:22:10.505Z"
   },
   {
    "duration": 74,
    "start_time": "2023-06-22T13:22:10.689Z"
   },
   {
    "duration": 97,
    "start_time": "2023-06-22T13:22:10.765Z"
   },
   {
    "duration": 78,
    "start_time": "2023-06-22T13:22:10.863Z"
   },
   {
    "duration": 4,
    "start_time": "2023-06-22T13:22:10.942Z"
   },
   {
    "duration": 241,
    "start_time": "2023-06-22T13:22:10.947Z"
   },
   {
    "duration": 51,
    "start_time": "2023-06-22T13:22:11.190Z"
   },
   {
    "duration": 108,
    "start_time": "2023-06-22T13:22:11.243Z"
   },
   {
    "duration": 32,
    "start_time": "2023-06-22T13:22:11.355Z"
   },
   {
    "duration": 19,
    "start_time": "2023-06-22T13:22:11.389Z"
   },
   {
    "duration": 48,
    "start_time": "2023-06-22T13:22:11.410Z"
   },
   {
    "duration": 89,
    "start_time": "2023-06-22T13:22:11.460Z"
   },
   {
    "duration": 4,
    "start_time": "2023-06-22T13:22:11.551Z"
   },
   {
    "duration": 27,
    "start_time": "2023-06-22T13:22:11.557Z"
   },
   {
    "duration": 36,
    "start_time": "2023-06-22T13:22:11.632Z"
   },
   {
    "duration": 7,
    "start_time": "2023-06-22T13:22:11.669Z"
   },
   {
    "duration": 7,
    "start_time": "2023-06-22T13:22:11.731Z"
   },
   {
    "duration": 9,
    "start_time": "2023-06-22T13:22:11.739Z"
   },
   {
    "duration": 6,
    "start_time": "2023-06-22T13:22:11.749Z"
   },
   {
    "duration": 381,
    "start_time": "2023-06-22T13:22:11.757Z"
   },
   {
    "duration": 4,
    "start_time": "2023-06-22T13:22:12.140Z"
   },
   {
    "duration": 17,
    "start_time": "2023-06-22T13:22:12.146Z"
   },
   {
    "duration": 105,
    "start_time": "2023-06-22T13:22:12.165Z"
   },
   {
    "duration": 89,
    "start_time": "2023-06-22T13:22:12.272Z"
   },
   {
    "duration": 3058,
    "start_time": "2023-06-22T13:22:12.364Z"
   },
   {
    "duration": 11,
    "start_time": "2023-06-22T13:22:15.424Z"
   },
   {
    "duration": 29,
    "start_time": "2023-06-22T13:22:15.436Z"
   },
   {
    "duration": 53,
    "start_time": "2023-06-22T13:22:15.466Z"
   },
   {
    "duration": 46,
    "start_time": "2023-06-22T13:22:15.520Z"
   },
   {
    "duration": 2141,
    "start_time": "2023-06-22T13:22:15.568Z"
   },
   {
    "duration": 293,
    "start_time": "2023-06-22T13:22:17.711Z"
   },
   {
    "duration": 9,
    "start_time": "2023-06-22T13:22:18.005Z"
   },
   {
    "duration": 29,
    "start_time": "2023-06-22T13:22:18.015Z"
   },
   {
    "duration": 243,
    "start_time": "2023-06-22T13:22:18.046Z"
   },
   {
    "duration": 48,
    "start_time": "2023-06-22T13:22:46.233Z"
   }
  ],
  "kernelspec": {
   "display_name": "Python 3 (ipykernel)",
   "language": "python",
   "name": "python3"
  },
  "language_info": {
   "codemirror_mode": {
    "name": "ipython",
    "version": 3
   },
   "file_extension": ".py",
   "mimetype": "text/x-python",
   "name": "python",
   "nbconvert_exporter": "python",
   "pygments_lexer": "ipython3",
   "version": "3.9.5"
  },
  "toc": {
   "base_numbering": 1,
   "nav_menu": {},
   "number_sections": true,
   "sideBar": true,
   "skip_h1_title": true,
   "title_cell": "Table of Contents",
   "title_sidebar": "Contents",
   "toc_cell": false,
   "toc_position": {
    "height": "calc(100% - 180px)",
    "left": "10px",
    "top": "150px",
    "width": "165px"
   },
   "toc_section_display": true,
   "toc_window_display": true
  }
 },
 "nbformat": 4,
 "nbformat_minor": 2
}
