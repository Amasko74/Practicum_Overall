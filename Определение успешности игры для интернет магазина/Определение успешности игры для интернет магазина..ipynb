{
 "cells": [
  {
   "cell_type": "markdown",
   "metadata": {},
   "source": [
    "# Определение успешности игры для интернет магазина.\n",
    "\n",
    "Вы работаете в интернет-магазине «Стримчик», который продаёт по всему миру компьютерные игры. Из открытых источников доступны исторические данные о продажах игр, оценки пользователей и экспертов, жанры и платформы (например, Xbox или PlayStation). Вам нужно выявить определяющие успешность игры закономерности. Это позволит сделать ставку на потенциально популярный продукт и спланировать рекламные кампании. Перед вами данные до 2016 года. Представим, что сейчас декабрь 2016 г., и вы планируете кампанию на 2017-й. Нужно отработать принцип работы с данными. Неважно, прогнозируете ли вы продажи на 2017 год по данным 2016-го или же 2027-й — по данным 2026 года. В наборе данных попадается аббревиатура ESRB (Entertainment Software Rating Board) — это ассоциация, определяющая возрастной рейтинг компьютерных игр. ESRB оценивает игровой контент и присваивает ему подходящую возрастную категорию, например, «Для взрослых», «Для детей младшего возраста» или «Для подростков»."
   ]
  },
  {
   "cell_type": "markdown",
   "metadata": {},
   "source": [
    "## Общая информация о данных"
   ]
  },
  {
   "cell_type": "code",
   "execution_count": 1,
   "metadata": {},
   "outputs": [],
   "source": [
    "import pandas as pd\n",
    "import numpy as np\n",
    "import matplotlib.pyplot as plt\n",
    "from scipy.stats import ttest_ind\n",
    "import seaborn as sns\n",
    "from scipy import stats as st"
   ]
  },
  {
   "cell_type": "code",
   "execution_count": 2,
   "metadata": {},
   "outputs": [],
   "source": [
    "games = pd.read_csv('/datasets/games.csv')"
   ]
  },
  {
   "cell_type": "code",
   "execution_count": 3,
   "metadata": {},
   "outputs": [],
   "source": [
    "# небольшая функция, которой обычно пользуюсь...\n",
    "def df_info(df_name):\n",
    "    display(df_name.head())\n",
    "    display(df_name.info())\n",
    "    display(df_name.describe())\n",
    "    display(df_name.duplicated().sum())   "
   ]
  },
  {
   "cell_type": "code",
   "execution_count": 4,
   "metadata": {},
   "outputs": [
    {
     "data": {
      "text/html": [
       "<div>\n",
       "<style scoped>\n",
       "    .dataframe tbody tr th:only-of-type {\n",
       "        vertical-align: middle;\n",
       "    }\n",
       "\n",
       "    .dataframe tbody tr th {\n",
       "        vertical-align: top;\n",
       "    }\n",
       "\n",
       "    .dataframe thead th {\n",
       "        text-align: right;\n",
       "    }\n",
       "</style>\n",
       "<table border=\"1\" class=\"dataframe\">\n",
       "  <thead>\n",
       "    <tr style=\"text-align: right;\">\n",
       "      <th></th>\n",
       "      <th>Name</th>\n",
       "      <th>Platform</th>\n",
       "      <th>Year_of_Release</th>\n",
       "      <th>Genre</th>\n",
       "      <th>NA_sales</th>\n",
       "      <th>EU_sales</th>\n",
       "      <th>JP_sales</th>\n",
       "      <th>Other_sales</th>\n",
       "      <th>Critic_Score</th>\n",
       "      <th>User_Score</th>\n",
       "      <th>Rating</th>\n",
       "    </tr>\n",
       "  </thead>\n",
       "  <tbody>\n",
       "    <tr>\n",
       "      <th>0</th>\n",
       "      <td>Wii Sports</td>\n",
       "      <td>Wii</td>\n",
       "      <td>2006.0</td>\n",
       "      <td>Sports</td>\n",
       "      <td>41.36</td>\n",
       "      <td>28.96</td>\n",
       "      <td>3.77</td>\n",
       "      <td>8.45</td>\n",
       "      <td>76.0</td>\n",
       "      <td>8</td>\n",
       "      <td>E</td>\n",
       "    </tr>\n",
       "    <tr>\n",
       "      <th>1</th>\n",
       "      <td>Super Mario Bros.</td>\n",
       "      <td>NES</td>\n",
       "      <td>1985.0</td>\n",
       "      <td>Platform</td>\n",
       "      <td>29.08</td>\n",
       "      <td>3.58</td>\n",
       "      <td>6.81</td>\n",
       "      <td>0.77</td>\n",
       "      <td>NaN</td>\n",
       "      <td>NaN</td>\n",
       "      <td>NaN</td>\n",
       "    </tr>\n",
       "    <tr>\n",
       "      <th>2</th>\n",
       "      <td>Mario Kart Wii</td>\n",
       "      <td>Wii</td>\n",
       "      <td>2008.0</td>\n",
       "      <td>Racing</td>\n",
       "      <td>15.68</td>\n",
       "      <td>12.76</td>\n",
       "      <td>3.79</td>\n",
       "      <td>3.29</td>\n",
       "      <td>82.0</td>\n",
       "      <td>8.3</td>\n",
       "      <td>E</td>\n",
       "    </tr>\n",
       "    <tr>\n",
       "      <th>3</th>\n",
       "      <td>Wii Sports Resort</td>\n",
       "      <td>Wii</td>\n",
       "      <td>2009.0</td>\n",
       "      <td>Sports</td>\n",
       "      <td>15.61</td>\n",
       "      <td>10.93</td>\n",
       "      <td>3.28</td>\n",
       "      <td>2.95</td>\n",
       "      <td>80.0</td>\n",
       "      <td>8</td>\n",
       "      <td>E</td>\n",
       "    </tr>\n",
       "    <tr>\n",
       "      <th>4</th>\n",
       "      <td>Pokemon Red/Pokemon Blue</td>\n",
       "      <td>GB</td>\n",
       "      <td>1996.0</td>\n",
       "      <td>Role-Playing</td>\n",
       "      <td>11.27</td>\n",
       "      <td>8.89</td>\n",
       "      <td>10.22</td>\n",
       "      <td>1.00</td>\n",
       "      <td>NaN</td>\n",
       "      <td>NaN</td>\n",
       "      <td>NaN</td>\n",
       "    </tr>\n",
       "  </tbody>\n",
       "</table>\n",
       "</div>"
      ],
      "text/plain": [
       "                       Name Platform  Year_of_Release         Genre  NA_sales  \\\n",
       "0                Wii Sports      Wii           2006.0        Sports     41.36   \n",
       "1         Super Mario Bros.      NES           1985.0      Platform     29.08   \n",
       "2            Mario Kart Wii      Wii           2008.0        Racing     15.68   \n",
       "3         Wii Sports Resort      Wii           2009.0        Sports     15.61   \n",
       "4  Pokemon Red/Pokemon Blue       GB           1996.0  Role-Playing     11.27   \n",
       "\n",
       "   EU_sales  JP_sales  Other_sales  Critic_Score User_Score Rating  \n",
       "0     28.96      3.77         8.45          76.0          8      E  \n",
       "1      3.58      6.81         0.77           NaN        NaN    NaN  \n",
       "2     12.76      3.79         3.29          82.0        8.3      E  \n",
       "3     10.93      3.28         2.95          80.0          8      E  \n",
       "4      8.89     10.22         1.00           NaN        NaN    NaN  "
      ]
     },
     "metadata": {},
     "output_type": "display_data"
    },
    {
     "name": "stdout",
     "output_type": "stream",
     "text": [
      "<class 'pandas.core.frame.DataFrame'>\n",
      "RangeIndex: 16715 entries, 0 to 16714\n",
      "Data columns (total 11 columns):\n",
      " #   Column           Non-Null Count  Dtype  \n",
      "---  ------           --------------  -----  \n",
      " 0   Name             16713 non-null  object \n",
      " 1   Platform         16715 non-null  object \n",
      " 2   Year_of_Release  16446 non-null  float64\n",
      " 3   Genre            16713 non-null  object \n",
      " 4   NA_sales         16715 non-null  float64\n",
      " 5   EU_sales         16715 non-null  float64\n",
      " 6   JP_sales         16715 non-null  float64\n",
      " 7   Other_sales      16715 non-null  float64\n",
      " 8   Critic_Score     8137 non-null   float64\n",
      " 9   User_Score       10014 non-null  object \n",
      " 10  Rating           9949 non-null   object \n",
      "dtypes: float64(6), object(5)\n",
      "memory usage: 1.4+ MB\n"
     ]
    },
    {
     "data": {
      "text/plain": [
       "None"
      ]
     },
     "metadata": {},
     "output_type": "display_data"
    },
    {
     "data": {
      "text/html": [
       "<div>\n",
       "<style scoped>\n",
       "    .dataframe tbody tr th:only-of-type {\n",
       "        vertical-align: middle;\n",
       "    }\n",
       "\n",
       "    .dataframe tbody tr th {\n",
       "        vertical-align: top;\n",
       "    }\n",
       "\n",
       "    .dataframe thead th {\n",
       "        text-align: right;\n",
       "    }\n",
       "</style>\n",
       "<table border=\"1\" class=\"dataframe\">\n",
       "  <thead>\n",
       "    <tr style=\"text-align: right;\">\n",
       "      <th></th>\n",
       "      <th>Year_of_Release</th>\n",
       "      <th>NA_sales</th>\n",
       "      <th>EU_sales</th>\n",
       "      <th>JP_sales</th>\n",
       "      <th>Other_sales</th>\n",
       "      <th>Critic_Score</th>\n",
       "    </tr>\n",
       "  </thead>\n",
       "  <tbody>\n",
       "    <tr>\n",
       "      <th>count</th>\n",
       "      <td>16446.000000</td>\n",
       "      <td>16715.000000</td>\n",
       "      <td>16715.000000</td>\n",
       "      <td>16715.000000</td>\n",
       "      <td>16715.000000</td>\n",
       "      <td>8137.000000</td>\n",
       "    </tr>\n",
       "    <tr>\n",
       "      <th>mean</th>\n",
       "      <td>2006.484616</td>\n",
       "      <td>0.263377</td>\n",
       "      <td>0.145060</td>\n",
       "      <td>0.077617</td>\n",
       "      <td>0.047342</td>\n",
       "      <td>68.967679</td>\n",
       "    </tr>\n",
       "    <tr>\n",
       "      <th>std</th>\n",
       "      <td>5.877050</td>\n",
       "      <td>0.813604</td>\n",
       "      <td>0.503339</td>\n",
       "      <td>0.308853</td>\n",
       "      <td>0.186731</td>\n",
       "      <td>13.938165</td>\n",
       "    </tr>\n",
       "    <tr>\n",
       "      <th>min</th>\n",
       "      <td>1980.000000</td>\n",
       "      <td>0.000000</td>\n",
       "      <td>0.000000</td>\n",
       "      <td>0.000000</td>\n",
       "      <td>0.000000</td>\n",
       "      <td>13.000000</td>\n",
       "    </tr>\n",
       "    <tr>\n",
       "      <th>25%</th>\n",
       "      <td>2003.000000</td>\n",
       "      <td>0.000000</td>\n",
       "      <td>0.000000</td>\n",
       "      <td>0.000000</td>\n",
       "      <td>0.000000</td>\n",
       "      <td>60.000000</td>\n",
       "    </tr>\n",
       "    <tr>\n",
       "      <th>50%</th>\n",
       "      <td>2007.000000</td>\n",
       "      <td>0.080000</td>\n",
       "      <td>0.020000</td>\n",
       "      <td>0.000000</td>\n",
       "      <td>0.010000</td>\n",
       "      <td>71.000000</td>\n",
       "    </tr>\n",
       "    <tr>\n",
       "      <th>75%</th>\n",
       "      <td>2010.000000</td>\n",
       "      <td>0.240000</td>\n",
       "      <td>0.110000</td>\n",
       "      <td>0.040000</td>\n",
       "      <td>0.030000</td>\n",
       "      <td>79.000000</td>\n",
       "    </tr>\n",
       "    <tr>\n",
       "      <th>max</th>\n",
       "      <td>2016.000000</td>\n",
       "      <td>41.360000</td>\n",
       "      <td>28.960000</td>\n",
       "      <td>10.220000</td>\n",
       "      <td>10.570000</td>\n",
       "      <td>98.000000</td>\n",
       "    </tr>\n",
       "  </tbody>\n",
       "</table>\n",
       "</div>"
      ],
      "text/plain": [
       "       Year_of_Release      NA_sales      EU_sales      JP_sales  \\\n",
       "count     16446.000000  16715.000000  16715.000000  16715.000000   \n",
       "mean       2006.484616      0.263377      0.145060      0.077617   \n",
       "std           5.877050      0.813604      0.503339      0.308853   \n",
       "min        1980.000000      0.000000      0.000000      0.000000   \n",
       "25%        2003.000000      0.000000      0.000000      0.000000   \n",
       "50%        2007.000000      0.080000      0.020000      0.000000   \n",
       "75%        2010.000000      0.240000      0.110000      0.040000   \n",
       "max        2016.000000     41.360000     28.960000     10.220000   \n",
       "\n",
       "        Other_sales  Critic_Score  \n",
       "count  16715.000000   8137.000000  \n",
       "mean       0.047342     68.967679  \n",
       "std        0.186731     13.938165  \n",
       "min        0.000000     13.000000  \n",
       "25%        0.000000     60.000000  \n",
       "50%        0.010000     71.000000  \n",
       "75%        0.030000     79.000000  \n",
       "max       10.570000     98.000000  "
      ]
     },
     "metadata": {},
     "output_type": "display_data"
    },
    {
     "data": {
      "text/plain": [
       "0"
      ]
     },
     "metadata": {},
     "output_type": "display_data"
    }
   ],
   "source": [
    "df_info(games)"
   ]
  },
  {
   "cell_type": "markdown",
   "metadata": {},
   "source": [
    "Посмторим наличие неявных дубликатов в столбцах Platform, Genre и Rating. Столбец Name разберем позже, ибо для его обработки нам сначала потребуется предворительные действия. "
   ]
  },
  {
   "cell_type": "code",
   "execution_count": 5,
   "metadata": {},
   "outputs": [
    {
     "data": {
      "text/plain": [
       "array(['Wii', 'NES', 'GB', 'DS', 'X360', 'PS3', 'PS2', 'SNES', 'GBA',\n",
       "       'PS4', '3DS', 'N64', 'PS', 'XB', 'PC', '2600', 'PSP', 'XOne',\n",
       "       'WiiU', 'GC', 'GEN', 'DC', 'PSV', 'SAT', 'SCD', 'WS', 'NG', 'TG16',\n",
       "       '3DO', 'GG', 'PCFX'], dtype=object)"
      ]
     },
     "execution_count": 5,
     "metadata": {},
     "output_type": "execute_result"
    }
   ],
   "source": [
    "games['Platform'].unique()"
   ]
  },
  {
   "cell_type": "code",
   "execution_count": 6,
   "metadata": {},
   "outputs": [
    {
     "name": "stdout",
     "output_type": "stream",
     "text": [
      "['Wii' 'NES' 'GB' 'DS' 'X360' 'PS3' 'PS2' 'SNES' 'GBA' 'PS4' '3DS' 'N64'\n",
      " 'PS' 'XB' 'PC' '2600' 'PSP' 'XOne' 'WiiU' 'GC' 'GEN' 'DC' 'PSV' 'SAT'\n",
      " 'SCD' 'WS' 'NG' 'TG16' '3DO' 'GG' 'PCFX']\n",
      "\n",
      "['Sports' 'Platform' 'Racing' 'Role-Playing' 'Puzzle' 'Misc' 'Shooter'\n",
      " 'Simulation' 'Action' 'Fighting' 'Adventure' 'Strategy' nan]\n",
      "\n",
      "['E' nan 'M' 'T' 'E10+' 'K-A' 'AO' 'EC' 'RP']\n",
      "\n"
     ]
    }
   ],
   "source": [
    "check = ['Platform', 'Genre', 'Rating']\n",
    "\n",
    "for i in games[check]: \n",
    "    print(games[i].unique())\n",
    "    print()"
   ]
  },
  {
   "cell_type": "markdown",
   "metadata": {},
   "source": [
    "Пока все чисто..."
   ]
  },
  {
   "cell_type": "markdown",
   "metadata": {},
   "source": [
    "**Вывод:**\n",
    "\n",
    "    - Названия столбцов имеют заглавные буквы.\n",
    "    - Видим довольно большое кол-во пропусков.\n",
    "    - Year_of_Release имеет формат float, а должен быть int.\n",
    "    - User_Score - имеет тип object, а должен быть float."
   ]
  },
  {
   "cell_type": "code",
   "execution_count": 7,
   "metadata": {},
   "outputs": [
    {
     "data": {
      "text/html": [
       "<div>\n",
       "<style scoped>\n",
       "    .dataframe tbody tr th:only-of-type {\n",
       "        vertical-align: middle;\n",
       "    }\n",
       "\n",
       "    .dataframe tbody tr th {\n",
       "        vertical-align: top;\n",
       "    }\n",
       "\n",
       "    .dataframe thead th {\n",
       "        text-align: right;\n",
       "    }\n",
       "</style>\n",
       "<table border=\"1\" class=\"dataframe\">\n",
       "  <thead>\n",
       "    <tr style=\"text-align: right;\">\n",
       "      <th></th>\n",
       "      <th>Name</th>\n",
       "      <th>Platform</th>\n",
       "      <th>Year_of_Release</th>\n",
       "      <th>Genre</th>\n",
       "      <th>NA_sales</th>\n",
       "      <th>EU_sales</th>\n",
       "      <th>JP_sales</th>\n",
       "      <th>Other_sales</th>\n",
       "      <th>Critic_Score</th>\n",
       "      <th>User_Score</th>\n",
       "      <th>Rating</th>\n",
       "    </tr>\n",
       "  </thead>\n",
       "  <tbody>\n",
       "    <tr>\n",
       "      <th>604</th>\n",
       "      <td>Madden NFL 13</td>\n",
       "      <td>PS3</td>\n",
       "      <td>2012.0</td>\n",
       "      <td>Sports</td>\n",
       "      <td>2.11</td>\n",
       "      <td>0.22</td>\n",
       "      <td>0.00</td>\n",
       "      <td>0.23</td>\n",
       "      <td>83.0</td>\n",
       "      <td>5.5</td>\n",
       "      <td>E</td>\n",
       "    </tr>\n",
       "    <tr>\n",
       "      <th>659</th>\n",
       "      <td>NaN</td>\n",
       "      <td>GEN</td>\n",
       "      <td>1993.0</td>\n",
       "      <td>NaN</td>\n",
       "      <td>1.78</td>\n",
       "      <td>0.53</td>\n",
       "      <td>0.00</td>\n",
       "      <td>0.08</td>\n",
       "      <td>NaN</td>\n",
       "      <td>NaN</td>\n",
       "      <td>NaN</td>\n",
       "    </tr>\n",
       "    <tr>\n",
       "      <th>14244</th>\n",
       "      <td>NaN</td>\n",
       "      <td>GEN</td>\n",
       "      <td>1993.0</td>\n",
       "      <td>NaN</td>\n",
       "      <td>0.00</td>\n",
       "      <td>0.00</td>\n",
       "      <td>0.03</td>\n",
       "      <td>0.00</td>\n",
       "      <td>NaN</td>\n",
       "      <td>NaN</td>\n",
       "      <td>NaN</td>\n",
       "    </tr>\n",
       "    <tr>\n",
       "      <th>16230</th>\n",
       "      <td>Madden NFL 13</td>\n",
       "      <td>PS3</td>\n",
       "      <td>2012.0</td>\n",
       "      <td>Sports</td>\n",
       "      <td>0.00</td>\n",
       "      <td>0.01</td>\n",
       "      <td>0.00</td>\n",
       "      <td>0.00</td>\n",
       "      <td>83.0</td>\n",
       "      <td>5.5</td>\n",
       "      <td>E</td>\n",
       "    </tr>\n",
       "  </tbody>\n",
       "</table>\n",
       "</div>"
      ],
      "text/plain": [
       "                Name Platform  Year_of_Release   Genre  NA_sales  EU_sales  \\\n",
       "604    Madden NFL 13      PS3           2012.0  Sports      2.11      0.22   \n",
       "659              NaN      GEN           1993.0     NaN      1.78      0.53   \n",
       "14244            NaN      GEN           1993.0     NaN      0.00      0.00   \n",
       "16230  Madden NFL 13      PS3           2012.0  Sports      0.00      0.01   \n",
       "\n",
       "       JP_sales  Other_sales  Critic_Score User_Score Rating  \n",
       "604        0.00         0.23          83.0        5.5      E  \n",
       "659        0.00         0.08           NaN        NaN    NaN  \n",
       "14244      0.03         0.00           NaN        NaN    NaN  \n",
       "16230      0.00         0.00          83.0        5.5      E  "
      ]
     },
     "execution_count": 7,
     "metadata": {},
     "output_type": "execute_result"
    }
   ],
   "source": [
    "# Комментарий ревьюера\n",
    "temp = games.copy()\n",
    "temp[temp[['Name', 'Platform','Year_of_Release']].duplicated(keep=False)]"
   ]
  },
  {
   "cell_type": "markdown",
   "metadata": {},
   "source": [
    "## Подготовка данных"
   ]
  },
  {
   "cell_type": "markdown",
   "metadata": {},
   "source": [
    "### Заменим названия столбцов (приведем к нижнему регистру)."
   ]
  },
  {
   "cell_type": "code",
   "execution_count": 8,
   "metadata": {},
   "outputs": [],
   "source": [
    "games.columns = games.columns.str.lower()"
   ]
  },
  {
   "cell_type": "markdown",
   "metadata": {},
   "source": [
    "Приведем к нижнему регистру некоторые столбцы, чтобы исключить неявные дубликаты. "
   ]
  },
  {
   "cell_type": "code",
   "execution_count": 9,
   "metadata": {},
   "outputs": [],
   "source": [
    "for column in games[['name','platform','genre','rating']]:\n",
    "    games[column] = games[column].str.lower()"
   ]
  },
  {
   "cell_type": "markdown",
   "metadata": {},
   "source": [
    "Теперь можем проверить значения столбца name на наличие дубликатов. Однако необходимо сделать сводную таблицу, содержащюу как название игры, так и название платформы с годом выхода (не забываем про ремейки), ибо одна игра может выхолить для разных платформ и перевыпускаться.  "
   ]
  },
  {
   "cell_type": "code",
   "execution_count": 10,
   "metadata": {},
   "outputs": [
    {
     "data": {
      "text/html": [
       "<div>\n",
       "<style scoped>\n",
       "    .dataframe tbody tr th:only-of-type {\n",
       "        vertical-align: middle;\n",
       "    }\n",
       "\n",
       "    .dataframe tbody tr th {\n",
       "        vertical-align: top;\n",
       "    }\n",
       "\n",
       "    .dataframe thead th {\n",
       "        text-align: right;\n",
       "    }\n",
       "</style>\n",
       "<table border=\"1\" class=\"dataframe\">\n",
       "  <thead>\n",
       "    <tr style=\"text-align: right;\">\n",
       "      <th></th>\n",
       "      <th>name</th>\n",
       "      <th>platform</th>\n",
       "      <th>year_of_release</th>\n",
       "    </tr>\n",
       "  </thead>\n",
       "  <tbody>\n",
       "    <tr>\n",
       "      <th>0</th>\n",
       "      <td>wii sports</td>\n",
       "      <td>wii</td>\n",
       "      <td>2006.0</td>\n",
       "    </tr>\n",
       "    <tr>\n",
       "      <th>1</th>\n",
       "      <td>super mario bros.</td>\n",
       "      <td>nes</td>\n",
       "      <td>1985.0</td>\n",
       "    </tr>\n",
       "    <tr>\n",
       "      <th>2</th>\n",
       "      <td>mario kart wii</td>\n",
       "      <td>wii</td>\n",
       "      <td>2008.0</td>\n",
       "    </tr>\n",
       "    <tr>\n",
       "      <th>3</th>\n",
       "      <td>wii sports resort</td>\n",
       "      <td>wii</td>\n",
       "      <td>2009.0</td>\n",
       "    </tr>\n",
       "    <tr>\n",
       "      <th>4</th>\n",
       "      <td>pokemon red/pokemon blue</td>\n",
       "      <td>gb</td>\n",
       "      <td>1996.0</td>\n",
       "    </tr>\n",
       "    <tr>\n",
       "      <th>...</th>\n",
       "      <td>...</td>\n",
       "      <td>...</td>\n",
       "      <td>...</td>\n",
       "    </tr>\n",
       "    <tr>\n",
       "      <th>16710</th>\n",
       "      <td>samurai warriors: sanada maru</td>\n",
       "      <td>ps3</td>\n",
       "      <td>2016.0</td>\n",
       "    </tr>\n",
       "    <tr>\n",
       "      <th>16711</th>\n",
       "      <td>lma manager 2007</td>\n",
       "      <td>x360</td>\n",
       "      <td>2006.0</td>\n",
       "    </tr>\n",
       "    <tr>\n",
       "      <th>16712</th>\n",
       "      <td>haitaka no psychedelica</td>\n",
       "      <td>psv</td>\n",
       "      <td>2016.0</td>\n",
       "    </tr>\n",
       "    <tr>\n",
       "      <th>16713</th>\n",
       "      <td>spirits &amp; spells</td>\n",
       "      <td>gba</td>\n",
       "      <td>2003.0</td>\n",
       "    </tr>\n",
       "    <tr>\n",
       "      <th>16714</th>\n",
       "      <td>winning post 8 2016</td>\n",
       "      <td>psv</td>\n",
       "      <td>2016.0</td>\n",
       "    </tr>\n",
       "  </tbody>\n",
       "</table>\n",
       "<p>16715 rows × 3 columns</p>\n",
       "</div>"
      ],
      "text/plain": [
       "                                name platform  year_of_release\n",
       "0                         wii sports      wii           2006.0\n",
       "1                  super mario bros.      nes           1985.0\n",
       "2                     mario kart wii      wii           2008.0\n",
       "3                  wii sports resort      wii           2009.0\n",
       "4           pokemon red/pokemon blue       gb           1996.0\n",
       "...                              ...      ...              ...\n",
       "16710  samurai warriors: sanada maru      ps3           2016.0\n",
       "16711               lma manager 2007     x360           2006.0\n",
       "16712        haitaka no psychedelica      psv           2016.0\n",
       "16713               spirits & spells      gba           2003.0\n",
       "16714            winning post 8 2016      psv           2016.0\n",
       "\n",
       "[16715 rows x 3 columns]"
      ]
     },
     "execution_count": 10,
     "metadata": {},
     "output_type": "execute_result"
    }
   ],
   "source": [
    "name_check = games[['name', 'platform', 'year_of_release']]\n",
    "name_check"
   ]
  },
  {
   "cell_type": "code",
   "execution_count": 11,
   "metadata": {},
   "outputs": [
    {
     "data": {
      "text/html": [
       "<div>\n",
       "<style scoped>\n",
       "    .dataframe tbody tr th:only-of-type {\n",
       "        vertical-align: middle;\n",
       "    }\n",
       "\n",
       "    .dataframe tbody tr th {\n",
       "        vertical-align: top;\n",
       "    }\n",
       "\n",
       "    .dataframe thead th {\n",
       "        text-align: right;\n",
       "    }\n",
       "</style>\n",
       "<table border=\"1\" class=\"dataframe\">\n",
       "  <thead>\n",
       "    <tr style=\"text-align: right;\">\n",
       "      <th></th>\n",
       "      <th>name</th>\n",
       "      <th>platform</th>\n",
       "      <th>year_of_release</th>\n",
       "    </tr>\n",
       "  </thead>\n",
       "  <tbody>\n",
       "    <tr>\n",
       "      <th>14244</th>\n",
       "      <td>NaN</td>\n",
       "      <td>gen</td>\n",
       "      <td>1993.0</td>\n",
       "    </tr>\n",
       "    <tr>\n",
       "      <th>16230</th>\n",
       "      <td>madden nfl 13</td>\n",
       "      <td>ps3</td>\n",
       "      <td>2012.0</td>\n",
       "    </tr>\n",
       "  </tbody>\n",
       "</table>\n",
       "</div>"
      ],
      "text/plain": [
       "                name platform  year_of_release\n",
       "14244            NaN      gen           1993.0\n",
       "16230  madden nfl 13      ps3           2012.0"
      ]
     },
     "execution_count": 11,
     "metadata": {},
     "output_type": "execute_result"
    }
   ],
   "source": [
    "name_check[name_check.duplicated()]"
   ]
  },
  {
   "cell_type": "markdown",
   "metadata": {},
   "source": [
    "Всего один дубликат, это хорошо. Посмотрим чем оно отличаются в нашей основной БД."
   ]
  },
  {
   "cell_type": "code",
   "execution_count": 12,
   "metadata": {},
   "outputs": [
    {
     "data": {
      "text/html": [
       "<div>\n",
       "<style scoped>\n",
       "    .dataframe tbody tr th:only-of-type {\n",
       "        vertical-align: middle;\n",
       "    }\n",
       "\n",
       "    .dataframe tbody tr th {\n",
       "        vertical-align: top;\n",
       "    }\n",
       "\n",
       "    .dataframe thead th {\n",
       "        text-align: right;\n",
       "    }\n",
       "</style>\n",
       "<table border=\"1\" class=\"dataframe\">\n",
       "  <thead>\n",
       "    <tr style=\"text-align: right;\">\n",
       "      <th></th>\n",
       "      <th>name</th>\n",
       "      <th>platform</th>\n",
       "      <th>year_of_release</th>\n",
       "      <th>genre</th>\n",
       "      <th>na_sales</th>\n",
       "      <th>eu_sales</th>\n",
       "      <th>jp_sales</th>\n",
       "      <th>other_sales</th>\n",
       "      <th>critic_score</th>\n",
       "      <th>user_score</th>\n",
       "      <th>rating</th>\n",
       "    </tr>\n",
       "  </thead>\n",
       "  <tbody>\n",
       "    <tr>\n",
       "      <th>604</th>\n",
       "      <td>madden nfl 13</td>\n",
       "      <td>ps3</td>\n",
       "      <td>2012.0</td>\n",
       "      <td>sports</td>\n",
       "      <td>2.11</td>\n",
       "      <td>0.22</td>\n",
       "      <td>0.0</td>\n",
       "      <td>0.23</td>\n",
       "      <td>83.0</td>\n",
       "      <td>5.5</td>\n",
       "      <td>e</td>\n",
       "    </tr>\n",
       "    <tr>\n",
       "      <th>16230</th>\n",
       "      <td>madden nfl 13</td>\n",
       "      <td>ps3</td>\n",
       "      <td>2012.0</td>\n",
       "      <td>sports</td>\n",
       "      <td>0.00</td>\n",
       "      <td>0.01</td>\n",
       "      <td>0.0</td>\n",
       "      <td>0.00</td>\n",
       "      <td>83.0</td>\n",
       "      <td>5.5</td>\n",
       "      <td>e</td>\n",
       "    </tr>\n",
       "  </tbody>\n",
       "</table>\n",
       "</div>"
      ],
      "text/plain": [
       "                name platform  year_of_release   genre  na_sales  eu_sales  \\\n",
       "604    madden nfl 13      ps3           2012.0  sports      2.11      0.22   \n",
       "16230  madden nfl 13      ps3           2012.0  sports      0.00      0.01   \n",
       "\n",
       "       jp_sales  other_sales  critic_score user_score rating  \n",
       "604         0.0         0.23          83.0        5.5      e  \n",
       "16230       0.0         0.00          83.0        5.5      e  "
      ]
     },
     "execution_count": 12,
     "metadata": {},
     "output_type": "execute_result"
    }
   ],
   "source": [
    "games.query('name == \"madden nfl 13\" and platform == \"ps3\"')"
   ]
  },
  {
   "cell_type": "markdown",
   "metadata": {},
   "source": [
    "Это явно одна и та же игра, однако у нашего допенгальгера плоховато с продажами. Не вижу причин оставлять эту строку, удалим ее."
   ]
  },
  {
   "cell_type": "code",
   "execution_count": 13,
   "metadata": {},
   "outputs": [],
   "source": [
    "games = games.drop(index=[16230])"
   ]
  },
  {
   "cell_type": "markdown",
   "metadata": {},
   "source": [
    "### Преобразуем данные в нужные типы. "
   ]
  },
  {
   "cell_type": "markdown",
   "metadata": {},
   "source": [
    "Посмотрим какие значения в себе содержит столбец `critic_score`."
   ]
  },
  {
   "cell_type": "code",
   "execution_count": 14,
   "metadata": {},
   "outputs": [
    {
     "data": {
      "text/plain": [
       "array([76., nan, 82., 80., 89., 58., 87., 91., 61., 97., 95., 77., 88.,\n",
       "       83., 94., 93., 85., 86., 98., 96., 90., 84., 73., 74., 78., 92.,\n",
       "       71., 72., 68., 62., 49., 67., 81., 66., 56., 79., 70., 59., 64.,\n",
       "       75., 60., 63., 69., 50., 25., 42., 44., 55., 48., 57., 29., 47.,\n",
       "       65., 54., 20., 53., 37., 38., 33., 52., 30., 32., 43., 45., 51.,\n",
       "       40., 46., 39., 34., 35., 41., 36., 28., 31., 27., 26., 19., 23.,\n",
       "       24., 21., 17., 22., 13.])"
      ]
     },
     "execution_count": 14,
     "metadata": {},
     "output_type": "execute_result"
    }
   ],
   "source": [
    "games['critic_score'].unique()"
   ]
  },
  {
   "cell_type": "markdown",
   "metadata": {},
   "source": [
    "Видим тольцо целые значения "
   ]
  },
  {
   "cell_type": "markdown",
   "metadata": {},
   "source": [
    "TBD - аббревиатура от английского To Be Decided (будет решено, скорее всего либо не было отзывов вообше, либо их было очень мало для формирования рейтинга. Заменим значение `tbd` на NaN."
   ]
  },
  {
   "cell_type": "code",
   "execution_count": 15,
   "metadata": {},
   "outputs": [],
   "source": [
    "games['user_score'] = games['user_score'].replace('tbd', np.NaN)\n",
    "games['user_score'] = games['user_score'].astype('float')"
   ]
  },
  {
   "cell_type": "markdown",
   "metadata": {},
   "source": [
    "И еще пара столбцов, с которыми нужно разобраться."
   ]
  },
  {
   "cell_type": "code",
   "execution_count": 16,
   "metadata": {},
   "outputs": [],
   "source": [
    "games['year_of_release'] = games['year_of_release'].astype('Int64')\n",
    "games['critic_score'] = games['critic_score'].astype('Int64')"
   ]
  },
  {
   "cell_type": "markdown",
   "metadata": {},
   "source": [
    "### Посчитаем суммарные продажи во всех регионах и запишим их в отдельный столбец."
   ]
  },
  {
   "cell_type": "code",
   "execution_count": 17,
   "metadata": {},
   "outputs": [],
   "source": [
    "games['total_sales'] = games['na_sales'] + games['eu_sales'] + games['jp_sales'] + games['other_sales']"
   ]
  },
  {
   "cell_type": "code",
   "execution_count": 18,
   "metadata": {},
   "outputs": [
    {
     "data": {
      "text/html": [
       "<div>\n",
       "<style scoped>\n",
       "    .dataframe tbody tr th:only-of-type {\n",
       "        vertical-align: middle;\n",
       "    }\n",
       "\n",
       "    .dataframe tbody tr th {\n",
       "        vertical-align: top;\n",
       "    }\n",
       "\n",
       "    .dataframe thead th {\n",
       "        text-align: right;\n",
       "    }\n",
       "</style>\n",
       "<table border=\"1\" class=\"dataframe\">\n",
       "  <thead>\n",
       "    <tr style=\"text-align: right;\">\n",
       "      <th></th>\n",
       "      <th>name</th>\n",
       "      <th>platform</th>\n",
       "      <th>year_of_release</th>\n",
       "      <th>genre</th>\n",
       "      <th>na_sales</th>\n",
       "      <th>eu_sales</th>\n",
       "      <th>jp_sales</th>\n",
       "      <th>other_sales</th>\n",
       "      <th>critic_score</th>\n",
       "      <th>user_score</th>\n",
       "      <th>rating</th>\n",
       "      <th>total_sales</th>\n",
       "    </tr>\n",
       "  </thead>\n",
       "  <tbody>\n",
       "    <tr>\n",
       "      <th>0</th>\n",
       "      <td>wii sports</td>\n",
       "      <td>wii</td>\n",
       "      <td>2006</td>\n",
       "      <td>sports</td>\n",
       "      <td>41.36</td>\n",
       "      <td>28.96</td>\n",
       "      <td>3.77</td>\n",
       "      <td>8.45</td>\n",
       "      <td>76</td>\n",
       "      <td>8.0</td>\n",
       "      <td>e</td>\n",
       "      <td>82.54</td>\n",
       "    </tr>\n",
       "    <tr>\n",
       "      <th>1</th>\n",
       "      <td>super mario bros.</td>\n",
       "      <td>nes</td>\n",
       "      <td>1985</td>\n",
       "      <td>platform</td>\n",
       "      <td>29.08</td>\n",
       "      <td>3.58</td>\n",
       "      <td>6.81</td>\n",
       "      <td>0.77</td>\n",
       "      <td>&lt;NA&gt;</td>\n",
       "      <td>NaN</td>\n",
       "      <td>NaN</td>\n",
       "      <td>40.24</td>\n",
       "    </tr>\n",
       "    <tr>\n",
       "      <th>2</th>\n",
       "      <td>mario kart wii</td>\n",
       "      <td>wii</td>\n",
       "      <td>2008</td>\n",
       "      <td>racing</td>\n",
       "      <td>15.68</td>\n",
       "      <td>12.76</td>\n",
       "      <td>3.79</td>\n",
       "      <td>3.29</td>\n",
       "      <td>82</td>\n",
       "      <td>8.3</td>\n",
       "      <td>e</td>\n",
       "      <td>35.52</td>\n",
       "    </tr>\n",
       "    <tr>\n",
       "      <th>3</th>\n",
       "      <td>wii sports resort</td>\n",
       "      <td>wii</td>\n",
       "      <td>2009</td>\n",
       "      <td>sports</td>\n",
       "      <td>15.61</td>\n",
       "      <td>10.93</td>\n",
       "      <td>3.28</td>\n",
       "      <td>2.95</td>\n",
       "      <td>80</td>\n",
       "      <td>8.0</td>\n",
       "      <td>e</td>\n",
       "      <td>32.77</td>\n",
       "    </tr>\n",
       "    <tr>\n",
       "      <th>4</th>\n",
       "      <td>pokemon red/pokemon blue</td>\n",
       "      <td>gb</td>\n",
       "      <td>1996</td>\n",
       "      <td>role-playing</td>\n",
       "      <td>11.27</td>\n",
       "      <td>8.89</td>\n",
       "      <td>10.22</td>\n",
       "      <td>1.00</td>\n",
       "      <td>&lt;NA&gt;</td>\n",
       "      <td>NaN</td>\n",
       "      <td>NaN</td>\n",
       "      <td>31.38</td>\n",
       "    </tr>\n",
       "    <tr>\n",
       "      <th>5</th>\n",
       "      <td>tetris</td>\n",
       "      <td>gb</td>\n",
       "      <td>1989</td>\n",
       "      <td>puzzle</td>\n",
       "      <td>23.20</td>\n",
       "      <td>2.26</td>\n",
       "      <td>4.22</td>\n",
       "      <td>0.58</td>\n",
       "      <td>&lt;NA&gt;</td>\n",
       "      <td>NaN</td>\n",
       "      <td>NaN</td>\n",
       "      <td>30.26</td>\n",
       "    </tr>\n",
       "    <tr>\n",
       "      <th>6</th>\n",
       "      <td>new super mario bros.</td>\n",
       "      <td>ds</td>\n",
       "      <td>2006</td>\n",
       "      <td>platform</td>\n",
       "      <td>11.28</td>\n",
       "      <td>9.14</td>\n",
       "      <td>6.50</td>\n",
       "      <td>2.88</td>\n",
       "      <td>89</td>\n",
       "      <td>8.5</td>\n",
       "      <td>e</td>\n",
       "      <td>29.80</td>\n",
       "    </tr>\n",
       "    <tr>\n",
       "      <th>7</th>\n",
       "      <td>wii play</td>\n",
       "      <td>wii</td>\n",
       "      <td>2006</td>\n",
       "      <td>misc</td>\n",
       "      <td>13.96</td>\n",
       "      <td>9.18</td>\n",
       "      <td>2.93</td>\n",
       "      <td>2.84</td>\n",
       "      <td>58</td>\n",
       "      <td>6.6</td>\n",
       "      <td>e</td>\n",
       "      <td>28.91</td>\n",
       "    </tr>\n",
       "    <tr>\n",
       "      <th>8</th>\n",
       "      <td>new super mario bros. wii</td>\n",
       "      <td>wii</td>\n",
       "      <td>2009</td>\n",
       "      <td>platform</td>\n",
       "      <td>14.44</td>\n",
       "      <td>6.94</td>\n",
       "      <td>4.70</td>\n",
       "      <td>2.24</td>\n",
       "      <td>87</td>\n",
       "      <td>8.4</td>\n",
       "      <td>e</td>\n",
       "      <td>28.32</td>\n",
       "    </tr>\n",
       "    <tr>\n",
       "      <th>9</th>\n",
       "      <td>duck hunt</td>\n",
       "      <td>nes</td>\n",
       "      <td>1984</td>\n",
       "      <td>shooter</td>\n",
       "      <td>26.93</td>\n",
       "      <td>0.63</td>\n",
       "      <td>0.28</td>\n",
       "      <td>0.47</td>\n",
       "      <td>&lt;NA&gt;</td>\n",
       "      <td>NaN</td>\n",
       "      <td>NaN</td>\n",
       "      <td>28.31</td>\n",
       "    </tr>\n",
       "  </tbody>\n",
       "</table>\n",
       "</div>"
      ],
      "text/plain": [
       "                        name platform  year_of_release         genre  \\\n",
       "0                 wii sports      wii             2006        sports   \n",
       "1          super mario bros.      nes             1985      platform   \n",
       "2             mario kart wii      wii             2008        racing   \n",
       "3          wii sports resort      wii             2009        sports   \n",
       "4   pokemon red/pokemon blue       gb             1996  role-playing   \n",
       "5                     tetris       gb             1989        puzzle   \n",
       "6      new super mario bros.       ds             2006      platform   \n",
       "7                   wii play      wii             2006          misc   \n",
       "8  new super mario bros. wii      wii             2009      platform   \n",
       "9                  duck hunt      nes             1984       shooter   \n",
       "\n",
       "   na_sales  eu_sales  jp_sales  other_sales  critic_score  user_score rating  \\\n",
       "0     41.36     28.96      3.77         8.45            76         8.0      e   \n",
       "1     29.08      3.58      6.81         0.77          <NA>         NaN    NaN   \n",
       "2     15.68     12.76      3.79         3.29            82         8.3      e   \n",
       "3     15.61     10.93      3.28         2.95            80         8.0      e   \n",
       "4     11.27      8.89     10.22         1.00          <NA>         NaN    NaN   \n",
       "5     23.20      2.26      4.22         0.58          <NA>         NaN    NaN   \n",
       "6     11.28      9.14      6.50         2.88            89         8.5      e   \n",
       "7     13.96      9.18      2.93         2.84            58         6.6      e   \n",
       "8     14.44      6.94      4.70         2.24            87         8.4      e   \n",
       "9     26.93      0.63      0.28         0.47          <NA>         NaN    NaN   \n",
       "\n",
       "   total_sales  \n",
       "0        82.54  \n",
       "1        40.24  \n",
       "2        35.52  \n",
       "3        32.77  \n",
       "4        31.38  \n",
       "5        30.26  \n",
       "6        29.80  \n",
       "7        28.91  \n",
       "8        28.32  \n",
       "9        28.31  "
      ]
     },
     "execution_count": 18,
     "metadata": {},
     "output_type": "execute_result"
    }
   ],
   "source": [
    "games.head(10)"
   ]
  },
  {
   "cell_type": "markdown",
   "metadata": {},
   "source": [
    "### Обработаем пропуски."
   ]
  },
  {
   "cell_type": "markdown",
   "metadata": {},
   "source": [
    "Сейчас точно можно сделать замену пропусков в стобцах `name` и `genre` т.к. на последующие вычесления они не повлияют, остальные пропуски пока оставим. Пропуски могли возникнуть по многим причинам, например: невелся опрос с оценкой игры, игра не популярна и ее никто не оценивал, техничская ошибка и прочее."
   ]
  },
  {
   "cell_type": "code",
   "execution_count": 19,
   "metadata": {},
   "outputs": [
    {
     "data": {
      "text/html": [
       "<div>\n",
       "<style scoped>\n",
       "    .dataframe tbody tr th:only-of-type {\n",
       "        vertical-align: middle;\n",
       "    }\n",
       "\n",
       "    .dataframe tbody tr th {\n",
       "        vertical-align: top;\n",
       "    }\n",
       "\n",
       "    .dataframe thead th {\n",
       "        text-align: right;\n",
       "    }\n",
       "</style>\n",
       "<table border=\"1\" class=\"dataframe\">\n",
       "  <thead>\n",
       "    <tr style=\"text-align: right;\">\n",
       "      <th></th>\n",
       "      <th>name</th>\n",
       "      <th>platform</th>\n",
       "      <th>year_of_release</th>\n",
       "      <th>genre</th>\n",
       "      <th>na_sales</th>\n",
       "      <th>eu_sales</th>\n",
       "      <th>jp_sales</th>\n",
       "      <th>other_sales</th>\n",
       "      <th>critic_score</th>\n",
       "      <th>user_score</th>\n",
       "      <th>rating</th>\n",
       "      <th>total_sales</th>\n",
       "    </tr>\n",
       "  </thead>\n",
       "  <tbody>\n",
       "    <tr>\n",
       "      <th>659</th>\n",
       "      <td>NaN</td>\n",
       "      <td>gen</td>\n",
       "      <td>1993</td>\n",
       "      <td>NaN</td>\n",
       "      <td>1.78</td>\n",
       "      <td>0.53</td>\n",
       "      <td>0.00</td>\n",
       "      <td>0.08</td>\n",
       "      <td>&lt;NA&gt;</td>\n",
       "      <td>NaN</td>\n",
       "      <td>NaN</td>\n",
       "      <td>2.39</td>\n",
       "    </tr>\n",
       "    <tr>\n",
       "      <th>14244</th>\n",
       "      <td>NaN</td>\n",
       "      <td>gen</td>\n",
       "      <td>1993</td>\n",
       "      <td>NaN</td>\n",
       "      <td>0.00</td>\n",
       "      <td>0.00</td>\n",
       "      <td>0.03</td>\n",
       "      <td>0.00</td>\n",
       "      <td>&lt;NA&gt;</td>\n",
       "      <td>NaN</td>\n",
       "      <td>NaN</td>\n",
       "      <td>0.03</td>\n",
       "    </tr>\n",
       "  </tbody>\n",
       "</table>\n",
       "</div>"
      ],
      "text/plain": [
       "      name platform  year_of_release genre  na_sales  eu_sales  jp_sales  \\\n",
       "659    NaN      gen             1993   NaN      1.78      0.53      0.00   \n",
       "14244  NaN      gen             1993   NaN      0.00      0.00      0.03   \n",
       "\n",
       "       other_sales  critic_score  user_score rating  total_sales  \n",
       "659           0.08          <NA>         NaN    NaN         2.39  \n",
       "14244         0.00          <NA>         NaN    NaN         0.03  "
      ]
     },
     "execution_count": 19,
     "metadata": {},
     "output_type": "execute_result"
    }
   ],
   "source": [
    "games[games['name'].isnull()]"
   ]
  },
  {
   "cell_type": "markdown",
   "metadata": {},
   "source": [
    "Два из двух, удаляем эти строчки.  "
   ]
  },
  {
   "cell_type": "code",
   "execution_count": 20,
   "metadata": {},
   "outputs": [],
   "source": [
    "games = games.dropna(subset = ['name'])"
   ]
  },
  {
   "cell_type": "markdown",
   "metadata": {},
   "source": [
    "Рейтинг ESRB - это рейтинг для США и Канады, значит пропуски не савязаны с ошибкой заполнения данных, просто не только для Северной Америки выпускаются игры. В столбце rating заменим пропуски на \"не определено\", так будет легче рабоатать с данными."
   ]
  },
  {
   "cell_type": "code",
   "execution_count": 21,
   "metadata": {},
   "outputs": [],
   "source": [
    "games[\"rating\"] = games['rating'].fillna(\"undefined\")"
   ]
  },
  {
   "cell_type": "markdown",
   "metadata": {},
   "source": [
    "Теперь пропуски в столбце year_of_release."
   ]
  },
  {
   "cell_type": "code",
   "execution_count": 22,
   "metadata": {},
   "outputs": [
    {
     "name": "stdout",
     "output_type": "stream",
     "text": [
      "Кол-во NaN: 269\n",
      "Процент NaN: 1.61 %\n"
     ]
    }
   ],
   "source": [
    "print('Кол-во NaN:',games['year_of_release'].isna().sum())\n",
    "print('Процент NaN:', round(games['year_of_release'].isna().mean()*100,2),'%')"
   ]
  },
  {
   "cell_type": "markdown",
   "metadata": {},
   "source": [
    "Пропуски в столбце year_of_release составляют 1.61%, однако эти пробелы могли вознкинуть в результате технической ошибки. Возьмем более узкий круг данных. Скажем, если игра не имеет информации о дате релиза оценок критиков и оценок пользователей, а так же имеет малые продажи (определим в 100к копий), то удалим данные игры из нашей БД. Думаю, это максимально сбалансированный подход."
   ]
  },
  {
   "cell_type": "code",
   "execution_count": 23,
   "metadata": {},
   "outputs": [
    {
     "data": {
      "text/html": [
       "<div>\n",
       "<style scoped>\n",
       "    .dataframe tbody tr th:only-of-type {\n",
       "        vertical-align: middle;\n",
       "    }\n",
       "\n",
       "    .dataframe tbody tr th {\n",
       "        vertical-align: top;\n",
       "    }\n",
       "\n",
       "    .dataframe thead th {\n",
       "        text-align: right;\n",
       "    }\n",
       "</style>\n",
       "<table border=\"1\" class=\"dataframe\">\n",
       "  <thead>\n",
       "    <tr style=\"text-align: right;\">\n",
       "      <th></th>\n",
       "      <th>name</th>\n",
       "      <th>platform</th>\n",
       "      <th>year_of_release</th>\n",
       "      <th>genre</th>\n",
       "      <th>na_sales</th>\n",
       "      <th>eu_sales</th>\n",
       "      <th>jp_sales</th>\n",
       "      <th>other_sales</th>\n",
       "      <th>critic_score</th>\n",
       "      <th>user_score</th>\n",
       "      <th>rating</th>\n",
       "      <th>total_sales</th>\n",
       "    </tr>\n",
       "  </thead>\n",
       "  <tbody>\n",
       "    <tr>\n",
       "      <th>10317</th>\n",
       "      <td>happy feet two</td>\n",
       "      <td>ps3</td>\n",
       "      <td>&lt;NA&gt;</td>\n",
       "      <td>action</td>\n",
       "      <td>0.09</td>\n",
       "      <td>0.00</td>\n",
       "      <td>0.00</td>\n",
       "      <td>0.01</td>\n",
       "      <td>&lt;NA&gt;</td>\n",
       "      <td>NaN</td>\n",
       "      <td>undefined</td>\n",
       "      <td>0.10</td>\n",
       "    </tr>\n",
       "    <tr>\n",
       "      <th>10486</th>\n",
       "      <td>atsumare! power pro kun no ds koushien</td>\n",
       "      <td>ds</td>\n",
       "      <td>&lt;NA&gt;</td>\n",
       "      <td>sports</td>\n",
       "      <td>0.00</td>\n",
       "      <td>0.00</td>\n",
       "      <td>0.10</td>\n",
       "      <td>0.00</td>\n",
       "      <td>&lt;NA&gt;</td>\n",
       "      <td>NaN</td>\n",
       "      <td>undefined</td>\n",
       "      <td>0.10</td>\n",
       "    </tr>\n",
       "    <tr>\n",
       "      <th>10612</th>\n",
       "      <td>my healthy cooking coach</td>\n",
       "      <td>ds</td>\n",
       "      <td>&lt;NA&gt;</td>\n",
       "      <td>simulation</td>\n",
       "      <td>0.09</td>\n",
       "      <td>0.00</td>\n",
       "      <td>0.00</td>\n",
       "      <td>0.01</td>\n",
       "      <td>&lt;NA&gt;</td>\n",
       "      <td>NaN</td>\n",
       "      <td>e</td>\n",
       "      <td>0.10</td>\n",
       "    </tr>\n",
       "    <tr>\n",
       "      <th>10686</th>\n",
       "      <td>happy feet two</td>\n",
       "      <td>ds</td>\n",
       "      <td>&lt;NA&gt;</td>\n",
       "      <td>action</td>\n",
       "      <td>0.08</td>\n",
       "      <td>0.01</td>\n",
       "      <td>0.00</td>\n",
       "      <td>0.01</td>\n",
       "      <td>&lt;NA&gt;</td>\n",
       "      <td>NaN</td>\n",
       "      <td>e</td>\n",
       "      <td>0.10</td>\n",
       "    </tr>\n",
       "    <tr>\n",
       "      <th>10764</th>\n",
       "      <td>luminous arc 2 (jp sales)</td>\n",
       "      <td>ds</td>\n",
       "      <td>&lt;NA&gt;</td>\n",
       "      <td>role-playing</td>\n",
       "      <td>0.00</td>\n",
       "      <td>0.00</td>\n",
       "      <td>0.10</td>\n",
       "      <td>0.00</td>\n",
       "      <td>&lt;NA&gt;</td>\n",
       "      <td>NaN</td>\n",
       "      <td>undefined</td>\n",
       "      <td>0.10</td>\n",
       "    </tr>\n",
       "    <tr>\n",
       "      <th>...</th>\n",
       "      <td>...</td>\n",
       "      <td>...</td>\n",
       "      <td>...</td>\n",
       "      <td>...</td>\n",
       "      <td>...</td>\n",
       "      <td>...</td>\n",
       "      <td>...</td>\n",
       "      <td>...</td>\n",
       "      <td>...</td>\n",
       "      <td>...</td>\n",
       "      <td>...</td>\n",
       "      <td>...</td>\n",
       "    </tr>\n",
       "    <tr>\n",
       "      <th>16288</th>\n",
       "      <td>shorts</td>\n",
       "      <td>ds</td>\n",
       "      <td>&lt;NA&gt;</td>\n",
       "      <td>platform</td>\n",
       "      <td>0.01</td>\n",
       "      <td>0.00</td>\n",
       "      <td>0.00</td>\n",
       "      <td>0.00</td>\n",
       "      <td>&lt;NA&gt;</td>\n",
       "      <td>NaN</td>\n",
       "      <td>e10+</td>\n",
       "      <td>0.01</td>\n",
       "    </tr>\n",
       "    <tr>\n",
       "      <th>16293</th>\n",
       "      <td>akb1/48: idol to guam de koishitara...</td>\n",
       "      <td>x360</td>\n",
       "      <td>&lt;NA&gt;</td>\n",
       "      <td>misc</td>\n",
       "      <td>0.00</td>\n",
       "      <td>0.00</td>\n",
       "      <td>0.01</td>\n",
       "      <td>0.00</td>\n",
       "      <td>&lt;NA&gt;</td>\n",
       "      <td>NaN</td>\n",
       "      <td>undefined</td>\n",
       "      <td>0.01</td>\n",
       "    </tr>\n",
       "    <tr>\n",
       "      <th>16329</th>\n",
       "      <td>brothers in arms: furious 4</td>\n",
       "      <td>x360</td>\n",
       "      <td>&lt;NA&gt;</td>\n",
       "      <td>shooter</td>\n",
       "      <td>0.01</td>\n",
       "      <td>0.00</td>\n",
       "      <td>0.00</td>\n",
       "      <td>0.00</td>\n",
       "      <td>&lt;NA&gt;</td>\n",
       "      <td>NaN</td>\n",
       "      <td>m</td>\n",
       "      <td>0.01</td>\n",
       "    </tr>\n",
       "    <tr>\n",
       "      <th>16348</th>\n",
       "      <td>agarest senki: re-appearance</td>\n",
       "      <td>ps3</td>\n",
       "      <td>&lt;NA&gt;</td>\n",
       "      <td>role-playing</td>\n",
       "      <td>0.00</td>\n",
       "      <td>0.00</td>\n",
       "      <td>0.01</td>\n",
       "      <td>0.00</td>\n",
       "      <td>&lt;NA&gt;</td>\n",
       "      <td>NaN</td>\n",
       "      <td>undefined</td>\n",
       "      <td>0.01</td>\n",
       "    </tr>\n",
       "    <tr>\n",
       "      <th>16458</th>\n",
       "      <td>hakuouki: shinsengumi kitan</td>\n",
       "      <td>ps3</td>\n",
       "      <td>&lt;NA&gt;</td>\n",
       "      <td>adventure</td>\n",
       "      <td>0.01</td>\n",
       "      <td>0.00</td>\n",
       "      <td>0.00</td>\n",
       "      <td>0.00</td>\n",
       "      <td>&lt;NA&gt;</td>\n",
       "      <td>NaN</td>\n",
       "      <td>undefined</td>\n",
       "      <td>0.01</td>\n",
       "    </tr>\n",
       "  </tbody>\n",
       "</table>\n",
       "<p>63 rows × 12 columns</p>\n",
       "</div>"
      ],
      "text/plain": [
       "                                         name platform  year_of_release  \\\n",
       "10317                          happy feet two      ps3             <NA>   \n",
       "10486  atsumare! power pro kun no ds koushien       ds             <NA>   \n",
       "10612                my healthy cooking coach       ds             <NA>   \n",
       "10686                          happy feet two       ds             <NA>   \n",
       "10764               luminous arc 2 (jp sales)       ds             <NA>   \n",
       "...                                       ...      ...              ...   \n",
       "16288                                  shorts       ds             <NA>   \n",
       "16293  akb1/48: idol to guam de koishitara...     x360             <NA>   \n",
       "16329             brothers in arms: furious 4     x360             <NA>   \n",
       "16348            agarest senki: re-appearance      ps3             <NA>   \n",
       "16458             hakuouki: shinsengumi kitan      ps3             <NA>   \n",
       "\n",
       "              genre  na_sales  eu_sales  jp_sales  other_sales  critic_score  \\\n",
       "10317        action      0.09      0.00      0.00         0.01          <NA>   \n",
       "10486        sports      0.00      0.00      0.10         0.00          <NA>   \n",
       "10612    simulation      0.09      0.00      0.00         0.01          <NA>   \n",
       "10686        action      0.08      0.01      0.00         0.01          <NA>   \n",
       "10764  role-playing      0.00      0.00      0.10         0.00          <NA>   \n",
       "...             ...       ...       ...       ...          ...           ...   \n",
       "16288      platform      0.01      0.00      0.00         0.00          <NA>   \n",
       "16293          misc      0.00      0.00      0.01         0.00          <NA>   \n",
       "16329       shooter      0.01      0.00      0.00         0.00          <NA>   \n",
       "16348  role-playing      0.00      0.00      0.01         0.00          <NA>   \n",
       "16458     adventure      0.01      0.00      0.00         0.00          <NA>   \n",
       "\n",
       "       user_score     rating  total_sales  \n",
       "10317         NaN  undefined         0.10  \n",
       "10486         NaN  undefined         0.10  \n",
       "10612         NaN          e         0.10  \n",
       "10686         NaN          e         0.10  \n",
       "10764         NaN  undefined         0.10  \n",
       "...           ...        ...          ...  \n",
       "16288         NaN       e10+         0.01  \n",
       "16293         NaN  undefined         0.01  \n",
       "16329         NaN          m         0.01  \n",
       "16348         NaN  undefined         0.01  \n",
       "16458         NaN  undefined         0.01  \n",
       "\n",
       "[63 rows x 12 columns]"
      ]
     },
     "execution_count": 23,
     "metadata": {},
     "output_type": "execute_result"
    }
   ],
   "source": [
    "games.query('year_of_release.isna() and critic_score.isna() and user_score.isna() and total_sales <= 0.1')"
   ]
  },
  {
   "cell_type": "code",
   "execution_count": 24,
   "metadata": {},
   "outputs": [
    {
     "data": {
      "text/plain": [
       "Int64Index([10317, 10486, 10612, 10686, 10764, 10790, 10837, 10993, 11000,\n",
       "            11016, 11092, 11338, 11377, 11433, 11622, 11790, 12209, 12235,\n",
       "            12524, 12568, 12734, 12880, 12959, 13060, 13289, 13317, 13564,\n",
       "            13609, 13647, 13711, 13874, 13929, 14105, 14126, 14252, 14325,\n",
       "            14350, 14369, 14449, 14597, 14749, 14931, 14950, 15022, 15079,\n",
       "            15081, 15119, 15267, 15338, 15557, 15675, 15704, 15795, 15953,\n",
       "            15998, 16017, 16059, 16079, 16288, 16293, 16329, 16348, 16458],\n",
       "           dtype='int64')"
      ]
     },
     "execution_count": 24,
     "metadata": {},
     "output_type": "execute_result"
    }
   ],
   "source": [
    "bad_lines_index = games.query('year_of_release.isna() and critic_score.isna() and user_score.isna() and total_sales <= 0.1').index\n",
    "bad_lines_index"
   ]
  },
  {
   "cell_type": "code",
   "execution_count": 25,
   "metadata": {},
   "outputs": [],
   "source": [
    "games.drop(bad_lines_index, inplace = True)"
   ]
  },
  {
   "cell_type": "markdown",
   "metadata": {},
   "source": [
    "Что касается пропусков в столбцах critic_score и user_score, то во первых, их процент слишком высок, чтобы из удалять. Во вторых, пропуски в этих столбцах могут быть обусловлены малыми продажами и, как следствие, недостаточным количеством отзывов об игре, чтобы сформулировать оценку. Поэтому, оставляем как есть."
   ]
  },
  {
   "cell_type": "markdown",
   "metadata": {},
   "source": [
    "**Вывод:**\n",
    "\n",
    "Заменили названия столбцов, а именно - привели их к нижнему регистру, преобразовали данные в нужные типы, обработали пропуски в БД и добавили столбец, содержащий сумарные продажи во всех регионах. Первичная обработка и анализ данных завершена."
   ]
  },
  {
   "cell_type": "markdown",
   "metadata": {},
   "source": [
    "## Исследовательский анализ данных"
   ]
  },
  {
   "cell_type": "markdown",
   "metadata": {},
   "source": [
    "### Посмотрим, сколько игр выпускалось в разные годы и узнаем важны ли данные за все периоды."
   ]
  },
  {
   "cell_type": "markdown",
   "metadata": {},
   "source": [
    "Для начала посмотрим на количество игр, выпущенные по годам."
   ]
  },
  {
   "cell_type": "code",
   "execution_count": 27,
   "metadata": {},
   "outputs": [
    {
     "data": {
      "text/html": [
       "<div>\n",
       "<style scoped>\n",
       "    .dataframe tbody tr th:only-of-type {\n",
       "        vertical-align: middle;\n",
       "    }\n",
       "\n",
       "    .dataframe tbody tr th {\n",
       "        vertical-align: top;\n",
       "    }\n",
       "\n",
       "    .dataframe thead th {\n",
       "        text-align: right;\n",
       "    }\n",
       "</style>\n",
       "<table border=\"1\" class=\"dataframe\">\n",
       "  <thead>\n",
       "    <tr style=\"text-align: right;\">\n",
       "      <th></th>\n",
       "      <th>games_released</th>\n",
       "    </tr>\n",
       "    <tr>\n",
       "      <th>year_of_release</th>\n",
       "      <th></th>\n",
       "    </tr>\n",
       "  </thead>\n",
       "  <tbody>\n",
       "    <tr>\n",
       "      <th>1980</th>\n",
       "      <td>9</td>\n",
       "    </tr>\n",
       "    <tr>\n",
       "      <th>1981</th>\n",
       "      <td>46</td>\n",
       "    </tr>\n",
       "    <tr>\n",
       "      <th>1982</th>\n",
       "      <td>36</td>\n",
       "    </tr>\n",
       "    <tr>\n",
       "      <th>1983</th>\n",
       "      <td>17</td>\n",
       "    </tr>\n",
       "    <tr>\n",
       "      <th>1984</th>\n",
       "      <td>14</td>\n",
       "    </tr>\n",
       "    <tr>\n",
       "      <th>1985</th>\n",
       "      <td>14</td>\n",
       "    </tr>\n",
       "    <tr>\n",
       "      <th>1986</th>\n",
       "      <td>21</td>\n",
       "    </tr>\n",
       "    <tr>\n",
       "      <th>1987</th>\n",
       "      <td>16</td>\n",
       "    </tr>\n",
       "    <tr>\n",
       "      <th>1988</th>\n",
       "      <td>15</td>\n",
       "    </tr>\n",
       "    <tr>\n",
       "      <th>1989</th>\n",
       "      <td>17</td>\n",
       "    </tr>\n",
       "    <tr>\n",
       "      <th>1990</th>\n",
       "      <td>16</td>\n",
       "    </tr>\n",
       "    <tr>\n",
       "      <th>1991</th>\n",
       "      <td>41</td>\n",
       "    </tr>\n",
       "    <tr>\n",
       "      <th>1992</th>\n",
       "      <td>43</td>\n",
       "    </tr>\n",
       "    <tr>\n",
       "      <th>1993</th>\n",
       "      <td>60</td>\n",
       "    </tr>\n",
       "    <tr>\n",
       "      <th>1994</th>\n",
       "      <td>121</td>\n",
       "    </tr>\n",
       "    <tr>\n",
       "      <th>1995</th>\n",
       "      <td>219</td>\n",
       "    </tr>\n",
       "    <tr>\n",
       "      <th>1996</th>\n",
       "      <td>263</td>\n",
       "    </tr>\n",
       "    <tr>\n",
       "      <th>1997</th>\n",
       "      <td>289</td>\n",
       "    </tr>\n",
       "    <tr>\n",
       "      <th>1998</th>\n",
       "      <td>379</td>\n",
       "    </tr>\n",
       "    <tr>\n",
       "      <th>1999</th>\n",
       "      <td>338</td>\n",
       "    </tr>\n",
       "    <tr>\n",
       "      <th>2000</th>\n",
       "      <td>350</td>\n",
       "    </tr>\n",
       "    <tr>\n",
       "      <th>2001</th>\n",
       "      <td>482</td>\n",
       "    </tr>\n",
       "    <tr>\n",
       "      <th>2002</th>\n",
       "      <td>829</td>\n",
       "    </tr>\n",
       "    <tr>\n",
       "      <th>2003</th>\n",
       "      <td>775</td>\n",
       "    </tr>\n",
       "    <tr>\n",
       "      <th>2004</th>\n",
       "      <td>762</td>\n",
       "    </tr>\n",
       "    <tr>\n",
       "      <th>2005</th>\n",
       "      <td>939</td>\n",
       "    </tr>\n",
       "    <tr>\n",
       "      <th>2006</th>\n",
       "      <td>1006</td>\n",
       "    </tr>\n",
       "    <tr>\n",
       "      <th>2007</th>\n",
       "      <td>1197</td>\n",
       "    </tr>\n",
       "    <tr>\n",
       "      <th>2008</th>\n",
       "      <td>1427</td>\n",
       "    </tr>\n",
       "    <tr>\n",
       "      <th>2009</th>\n",
       "      <td>1426</td>\n",
       "    </tr>\n",
       "    <tr>\n",
       "      <th>2010</th>\n",
       "      <td>1255</td>\n",
       "    </tr>\n",
       "    <tr>\n",
       "      <th>2011</th>\n",
       "      <td>1136</td>\n",
       "    </tr>\n",
       "    <tr>\n",
       "      <th>2012</th>\n",
       "      <td>652</td>\n",
       "    </tr>\n",
       "    <tr>\n",
       "      <th>2013</th>\n",
       "      <td>544</td>\n",
       "    </tr>\n",
       "    <tr>\n",
       "      <th>2014</th>\n",
       "      <td>581</td>\n",
       "    </tr>\n",
       "    <tr>\n",
       "      <th>2015</th>\n",
       "      <td>606</td>\n",
       "    </tr>\n",
       "    <tr>\n",
       "      <th>2016</th>\n",
       "      <td>502</td>\n",
       "    </tr>\n",
       "  </tbody>\n",
       "</table>\n",
       "</div>"
      ],
      "text/plain": [
       "                 games_released\n",
       "year_of_release                \n",
       "1980                          9\n",
       "1981                         46\n",
       "1982                         36\n",
       "1983                         17\n",
       "1984                         14\n",
       "1985                         14\n",
       "1986                         21\n",
       "1987                         16\n",
       "1988                         15\n",
       "1989                         17\n",
       "1990                         16\n",
       "1991                         41\n",
       "1992                         43\n",
       "1993                         60\n",
       "1994                        121\n",
       "1995                        219\n",
       "1996                        263\n",
       "1997                        289\n",
       "1998                        379\n",
       "1999                        338\n",
       "2000                        350\n",
       "2001                        482\n",
       "2002                        829\n",
       "2003                        775\n",
       "2004                        762\n",
       "2005                        939\n",
       "2006                       1006\n",
       "2007                       1197\n",
       "2008                       1427\n",
       "2009                       1426\n",
       "2010                       1255\n",
       "2011                       1136\n",
       "2012                        652\n",
       "2013                        544\n",
       "2014                        581\n",
       "2015                        606\n",
       "2016                        502"
      ]
     },
     "execution_count": 27,
     "metadata": {},
     "output_type": "execute_result"
    }
   ],
   "source": [
    "year_of_release_list = pd.pivot_table(games, index = 'year_of_release', values = 'name', aggfunc = 'count')\n",
    "year_of_release_list.columns = ['games_released']\n",
    "year_of_release_list"
   ]
  },
  {
   "cell_type": "code",
   "execution_count": 28,
   "metadata": {},
   "outputs": [
    {
     "data": {
      "image/png": "[encoded data removed]",
      "text/plain": [
       "<Figure size 1080x720 with 1 Axes>"
      ]
     },
     "metadata": {
      "needs_background": "light"
     },
     "output_type": "display_data"
    }
   ],
   "source": [
    "year_of_release_list.plot(figsize = (15, 10))\n",
    "\n",
    "plt.legend(loc=2)\n",
    "plt.title('График количества вышедших игр по годам.')\n",
    "plt.xlabel('Year', color='gray')\n",
    "plt.ylabel('Realeased games',color='gray')\n",
    "plt.grid(True)\n",
    "plt.show()"
   ]
  },
  {
   "cell_type": "markdown",
   "metadata": {},
   "source": [
    "Сложно сказать, про важность данных за все периоды. Пока мы можем лишь пронаблюдать значения. Видим, что, в целом, количество игр 1980-го по 2011 постепеноо росло, и лишь в 2012 появилась тенденция на спад производства игр (Если не ошибаюсь, это год релиза ps4 и хуанкоробки, что повлияло на рынок, хотя может во всем винот мобильный гейминг..). А важность данных по периодам будем определять по мере поступления задач."
   ]
  },
  {
   "cell_type": "markdown",
   "metadata": {},
   "source": [
    "### Посмотрим, как менялись продажи по платформам и выберем платформы с наибольшими суммарными продажами."
   ]
  },
  {
   "cell_type": "code",
   "execution_count": 29,
   "metadata": {},
   "outputs": [
    {
     "data": {
      "text/html": [
       "<div>\n",
       "<style scoped>\n",
       "    .dataframe tbody tr th:only-of-type {\n",
       "        vertical-align: middle;\n",
       "    }\n",
       "\n",
       "    .dataframe tbody tr th {\n",
       "        vertical-align: top;\n",
       "    }\n",
       "\n",
       "    .dataframe thead th {\n",
       "        text-align: right;\n",
       "    }\n",
       "</style>\n",
       "<table border=\"1\" class=\"dataframe\">\n",
       "  <thead>\n",
       "    <tr style=\"text-align: right;\">\n",
       "      <th></th>\n",
       "      <th>total_sales</th>\n",
       "    </tr>\n",
       "    <tr>\n",
       "      <th>platform</th>\n",
       "      <th></th>\n",
       "    </tr>\n",
       "  </thead>\n",
       "  <tbody>\n",
       "    <tr>\n",
       "      <th>ps2</th>\n",
       "      <td>1255.53</td>\n",
       "    </tr>\n",
       "    <tr>\n",
       "      <th>x360</th>\n",
       "      <td>971.14</td>\n",
       "    </tr>\n",
       "    <tr>\n",
       "      <th>ps3</th>\n",
       "      <td>939.37</td>\n",
       "    </tr>\n",
       "    <tr>\n",
       "      <th>wii</th>\n",
       "      <td>907.00</td>\n",
       "    </tr>\n",
       "    <tr>\n",
       "      <th>ds</th>\n",
       "      <td>805.12</td>\n",
       "    </tr>\n",
       "    <tr>\n",
       "      <th>ps</th>\n",
       "      <td>730.73</td>\n",
       "    </tr>\n",
       "    <tr>\n",
       "      <th>gba</th>\n",
       "      <td>317.85</td>\n",
       "    </tr>\n",
       "    <tr>\n",
       "      <th>ps4</th>\n",
       "      <td>314.14</td>\n",
       "    </tr>\n",
       "    <tr>\n",
       "      <th>psp</th>\n",
       "      <td>293.81</td>\n",
       "    </tr>\n",
       "    <tr>\n",
       "      <th>pc</th>\n",
       "      <td>259.47</td>\n",
       "    </tr>\n",
       "    <tr>\n",
       "      <th>3ds</th>\n",
       "      <td>258.86</td>\n",
       "    </tr>\n",
       "    <tr>\n",
       "      <th>xb</th>\n",
       "      <td>257.68</td>\n",
       "    </tr>\n",
       "    <tr>\n",
       "      <th>gb</th>\n",
       "      <td>255.46</td>\n",
       "    </tr>\n",
       "    <tr>\n",
       "      <th>nes</th>\n",
       "      <td>251.05</td>\n",
       "    </tr>\n",
       "    <tr>\n",
       "      <th>n64</th>\n",
       "      <td>218.68</td>\n",
       "    </tr>\n",
       "    <tr>\n",
       "      <th>snes</th>\n",
       "      <td>200.04</td>\n",
       "    </tr>\n",
       "    <tr>\n",
       "      <th>gc</th>\n",
       "      <td>198.93</td>\n",
       "    </tr>\n",
       "    <tr>\n",
       "      <th>xone</th>\n",
       "      <td>159.32</td>\n",
       "    </tr>\n",
       "    <tr>\n",
       "      <th>2600</th>\n",
       "      <td>96.98</td>\n",
       "    </tr>\n",
       "    <tr>\n",
       "      <th>wiiu</th>\n",
       "      <td>82.19</td>\n",
       "    </tr>\n",
       "    <tr>\n",
       "      <th>psv</th>\n",
       "      <td>54.07</td>\n",
       "    </tr>\n",
       "    <tr>\n",
       "      <th>sat</th>\n",
       "      <td>33.59</td>\n",
       "    </tr>\n",
       "    <tr>\n",
       "      <th>gen</th>\n",
       "      <td>28.35</td>\n",
       "    </tr>\n",
       "    <tr>\n",
       "      <th>dc</th>\n",
       "      <td>15.95</td>\n",
       "    </tr>\n",
       "    <tr>\n",
       "      <th>scd</th>\n",
       "      <td>1.86</td>\n",
       "    </tr>\n",
       "    <tr>\n",
       "      <th>ng</th>\n",
       "      <td>1.44</td>\n",
       "    </tr>\n",
       "    <tr>\n",
       "      <th>ws</th>\n",
       "      <td>1.42</td>\n",
       "    </tr>\n",
       "    <tr>\n",
       "      <th>tg16</th>\n",
       "      <td>0.16</td>\n",
       "    </tr>\n",
       "    <tr>\n",
       "      <th>3do</th>\n",
       "      <td>0.10</td>\n",
       "    </tr>\n",
       "    <tr>\n",
       "      <th>gg</th>\n",
       "      <td>0.04</td>\n",
       "    </tr>\n",
       "    <tr>\n",
       "      <th>pcfx</th>\n",
       "      <td>0.03</td>\n",
       "    </tr>\n",
       "  </tbody>\n",
       "</table>\n",
       "</div>"
      ],
      "text/plain": [
       "          total_sales\n",
       "platform             \n",
       "ps2           1255.53\n",
       "x360           971.14\n",
       "ps3            939.37\n",
       "wii            907.00\n",
       "ds             805.12\n",
       "ps             730.73\n",
       "gba            317.85\n",
       "ps4            314.14\n",
       "psp            293.81\n",
       "pc             259.47\n",
       "3ds            258.86\n",
       "xb             257.68\n",
       "gb             255.46\n",
       "nes            251.05\n",
       "n64            218.68\n",
       "snes           200.04\n",
       "gc             198.93\n",
       "xone           159.32\n",
       "2600            96.98\n",
       "wiiu            82.19\n",
       "psv             54.07\n",
       "sat             33.59\n",
       "gen             28.35\n",
       "dc              15.95\n",
       "scd              1.86\n",
       "ng               1.44\n",
       "ws               1.42\n",
       "tg16             0.16\n",
       "3do              0.10\n",
       "gg               0.04\n",
       "pcfx             0.03"
      ]
     },
     "execution_count": 29,
     "metadata": {},
     "output_type": "execute_result"
    }
   ],
   "source": [
    "platforms_sales = games.pivot_table(index = 'platform', values = 'total_sales', aggfunc = 'sum').sort_values(by = 'total_sales', ascending = False)\n",
    "platforms_sales"
   ]
  },
  {
   "cell_type": "markdown",
   "metadata": {},
   "source": [
    "Непревзайденный лидер на данный момент ps2 c больше чем миллиардом проданных копий, далее идут: x360, ps3, wii, ds, ps."
   ]
  },
  {
   "cell_type": "code",
   "execution_count": 30,
   "metadata": {},
   "outputs": [
    {
     "name": "stdout",
     "output_type": "stream",
     "text": [
      "                          total_sales\n",
      "platform year_of_release             \n",
      "2600     1980                   11.38\n",
      "         1981                   35.68\n",
      "         1982                   28.88\n",
      "         1983                    5.84\n",
      "         1984                    0.27\n",
      "         1985                    0.45\n",
      "         1986                    0.67\n",
      "         1987                    1.94\n",
      "         1988                    0.74\n",
      "         1989                    0.63\n",
      "3do      1994                    0.02\n",
      "         1995                    0.08\n",
      "3ds      2011                   63.20\n",
      "         2012                   51.36\n",
      "         2013                   56.57\n",
      "         2014                   43.76\n",
      "         2015                   27.78\n",
      "         2016                   15.14\n",
      "dc       1998                    3.38\n",
      "         1999                    5.16\n",
      "         2000                    5.99\n",
      "         2001                    1.07\n",
      "         2002                    0.29\n",
      "         2007                    0.02\n",
      "         2008                    0.04\n",
      "ds       1985                    0.02\n",
      "         2004                   17.27\n",
      "         2005                  130.14\n",
      "         2006                  119.81\n",
      "         2007                  146.94\n",
      "         2008                  145.31\n",
      "         2009                  119.54\n",
      "         2010                   85.02\n",
      "         2011                   26.18\n",
      "         2012                   11.01\n",
      "         2013                    1.54\n",
      "gb       1988                    1.43\n",
      "         1989                   64.97\n",
      "         1990                    4.89\n",
      "         1991                    5.57\n",
      "         1992                   25.49\n",
      "         1994                   12.18\n",
      "         1995                    3.60\n",
      "         1996                   36.03\n",
      "         1997                    6.37\n",
      "         1998                   26.90\n",
      "         1999                   38.00\n",
      "         2000                   19.76\n",
      "         2001                    9.24\n",
      "gba      2000                    0.07\n",
      "         2001                   61.53\n",
      "         2002                   74.16\n",
      "         2003                   56.67\n",
      "         2004                   77.91\n",
      "         2005                   33.86\n",
      "         2006                    5.28\n",
      "         2007                    3.40\n",
      "gc       2001                   26.34\n",
      "         2002                   51.81\n",
      "         2003                   50.61\n",
      "         2004                   28.82\n",
      "         2005                   27.62\n",
      "         2006                   11.26\n",
      "         2007                    0.27\n",
      "gen      1990                    2.60\n",
      "         1991                    4.33\n",
      "         1992                   12.64\n",
      "         1993                    0.65\n",
      "         1994                    8.13\n",
      "gg       1992                    0.04\n",
      "n64      1996                   34.10\n",
      "         1997                   39.50\n",
      "         1998                   49.24\n",
      "         1999                   57.87\n",
      "         2000                   33.97\n",
      "         2001                    3.25\n",
      "         2002                    0.08\n",
      "nes      1983                   10.96\n",
      "         1984                   50.08\n",
      "         1985                   53.44\n",
      "         1986                   36.41\n",
      "         1987                   19.76\n",
      "         1988                   45.01\n",
      "         1989                    7.85\n",
      "         1990                   15.73\n",
      "         1991                    6.11\n",
      "         1992                    1.98\n",
      "         1993                    3.61\n",
      "         1994                    0.11\n",
      "ng       1993                    0.21\n",
      "         1994                    0.80\n",
      "         1995                    0.33\n",
      "         1996                    0.10\n",
      "pc       1985                    0.04\n",
      "         1988                    0.03\n",
      "         1992                    3.03\n",
      "         1994                   12.87\n",
      "         1995                    4.22\n",
      "         1996                   10.58\n",
      "         1997                   11.27\n",
      "         1998                    3.26\n",
      "         1999                    4.74\n",
      "         2000                    4.66\n",
      "         2001                    5.47\n",
      "         2002                    8.57\n",
      "         2003                    8.84\n",
      "         2004                   10.39\n",
      "         2005                    4.37\n",
      "         2006                    2.85\n",
      "         2007                    9.28\n",
      "         2008                   12.42\n",
      "         2009                   16.91\n",
      "         2010                   24.28\n",
      "         2011                   35.03\n",
      "         2012                   23.22\n",
      "         2013                   12.38\n",
      "         2014                   13.28\n",
      "         2015                    8.52\n",
      "         2016                    5.25\n",
      "pcfx     1996                    0.03\n",
      "ps       1994                    6.03\n",
      "         1995                   35.96\n",
      "         1996                   94.70\n",
      "         1997                  136.17\n",
      "         1998                  169.49\n",
      "         1999                  144.53\n",
      "         2000                   96.37\n",
      "         2001                   35.59\n",
      "         2002                    6.67\n",
      "         2003                    2.07\n",
      "ps2      2000                   39.17\n",
      "         2001                  166.43\n",
      "         2002                  205.38\n",
      "         2003                  184.31\n",
      "         2004                  211.81\n",
      "         2005                  160.66\n",
      "         2006                  103.42\n",
      "         2007                   75.99\n",
      "         2008                   53.90\n",
      "         2009                   26.40\n",
      "         2010                    5.64\n",
      "         2011                    0.45\n",
      "ps3      2006                   20.96\n",
      "         2007                   73.19\n",
      "         2008                  118.52\n",
      "         2009                  130.93\n",
      "         2010                  142.17\n",
      "         2011                  156.78\n",
      "         2012                  107.35\n",
      "         2013                  113.25\n",
      "         2014                   47.76\n",
      "         2015                   16.82\n",
      "         2016                    3.60\n",
      "ps4      2013                   25.99\n",
      "         2014                  100.00\n",
      "         2015                  118.90\n",
      "         2016                   69.25\n",
      "psp      2004                    7.06\n",
      "         2005                   43.84\n",
      "         2006                   55.32\n",
      "         2007                   46.93\n",
      "         2008                   34.55\n",
      "         2009                   37.78\n",
      "         2010                   35.04\n",
      "         2011                   17.82\n",
      "         2012                    7.69\n",
      "         2013                    3.14\n",
      "         2014                    0.24\n",
      "         2015                    0.12\n",
      "psv      2011                    4.63\n",
      "         2012                   16.19\n",
      "         2013                   10.59\n",
      "         2014                   11.90\n",
      "         2015                    6.25\n",
      "         2016                    4.25\n",
      "sat      1994                    3.65\n",
      "         1995                   11.57\n",
      "         1996                    7.69\n",
      "         1997                    6.77\n",
      "         1998                    3.82\n",
      "         1999                    0.09\n",
      "scd      1993                    1.50\n",
      "         1994                    0.36\n",
      "snes     1990                   26.15\n",
      "         1991                   16.22\n",
      "         1992                   32.98\n",
      "         1993                   40.02\n",
      "         1994                   35.08\n",
      "         1995                   32.20\n",
      "         1996                   15.92\n",
      "         1997                    0.99\n",
      "         1998                    0.22\n",
      "         1999                    0.26\n",
      "tg16     1995                    0.16\n",
      "wii      2006                  137.15\n",
      "         2007                  152.77\n",
      "         2008                  171.32\n",
      "         2009                  206.97\n",
      "         2010                  127.95\n",
      "         2011                   59.65\n",
      "         2012                   21.71\n",
      "         2013                    8.59\n",
      "         2014                    3.75\n",
      "         2015                    1.14\n",
      "         2016                    0.18\n",
      "wiiu     2012                   17.56\n",
      "         2013                   21.65\n",
      "         2014                   22.03\n",
      "         2015                   16.35\n",
      "         2016                    4.60\n",
      "ws       1999                    0.46\n",
      "         2000                    0.68\n",
      "         2001                    0.28\n",
      "x360     2005                    8.25\n",
      "         2006                   51.62\n",
      "         2007                   95.41\n",
      "         2008                  135.26\n",
      "         2009                  120.29\n",
      "         2010                  170.03\n",
      "         2011                  143.84\n",
      "         2012                   99.74\n",
      "         2013                   88.58\n",
      "         2014                   34.74\n",
      "         2015                   11.96\n",
      "         2016                    1.52\n",
      "xb       2000                    0.99\n",
      "         2001                   22.26\n",
      "         2002                   48.01\n",
      "         2003                   55.04\n",
      "         2004                   65.42\n",
      "         2005                   49.08\n",
      "         2006                   10.04\n",
      "         2007                    0.55\n",
      "         2008                    0.18\n",
      "xone     2013                   18.96\n",
      "         2014                   54.07\n",
      "         2015                   60.14\n",
      "         2016                   26.15\n"
     ]
    }
   ],
   "source": [
    "pd.set_option('display.max_rows', None)\n",
    "\n",
    "platform_sales_per_year = games.pivot_table(index = ['platform','year_of_release'], values = 'total_sales', aggfunc = 'sum')\n",
    "print(platform_sales_per_year)\n",
    "\n",
    "pd.set_option('display.max_rows', 10)"
   ]
  },
  {
   "cell_type": "markdown",
   "metadata": {},
   "source": [
    "Не наблюдается единой тенденции продаж платформ. Видимо все зависит от множества факторов, на подобии релиза громкого игрового хита, маркетинга, в целом количества произведенных платформ."
   ]
  },
  {
   "cell_type": "code",
   "execution_count": 31,
   "metadata": {},
   "outputs": [
    {
     "name": "stdout",
     "output_type": "stream",
     "text": [
      "7.67741935483871\n"
     ]
    }
   ],
   "source": [
    "platform_sales_per_year = platform_sales_per_year.reset_index()\n",
    "platform_longevity = platform_sales_per_year.pivot_table(index=['platform'], values='year_of_release', aggfunc='count')\n",
    "print(platform_longevity['year_of_release'].mean())"
   ]
  },
  {
   "cell_type": "markdown",
   "metadata": {},
   "source": [
    "Средняя продолжительность жизни платформы = 7-8 лет"
   ]
  },
  {
   "cell_type": "code",
   "execution_count": 32,
   "metadata": {},
   "outputs": [
    {
     "data": {
      "text/plain": [
       "(7.0, 8.612903225806452)"
      ]
     },
     "execution_count": 32,
     "metadata": {},
     "output_type": "execute_result"
    }
   ],
   "source": [
    "# Комментарий ревьюера\n",
    "temp = games.copy() \n",
    "time_life = temp.pivot_table(index='platform', values='year_of_release', aggfunc=['min', 'max']).reset_index()\n",
    "time_life['life'] = time_life['max'] - time_life['min'] + 1 # в срок жизни платформы, должны входить границы диапазона, \n",
    "                                                            # поэтому +1\n",
    "time_life['life'].median(), time_life['life'].mean()"
   ]
  },
  {
   "cell_type": "markdown",
   "metadata": {},
   "source": [
    "### Исследуем данные за соответствующий актуальный период."
   ]
  },
  {
   "cell_type": "markdown",
   "metadata": {},
   "source": [
    "Т.к. такой динамично меняющейся индустрии, как компьютерные игры не стоит брать слишком большой временной интервал - иначе обязательно захватим уже отжившие тренды. Актуальный период 2012 - 2016 т.к. Выборка будет достаточно большой и ближе к исследуемому периоду (2017 год)."
   ]
  },
  {
   "cell_type": "code",
   "execution_count": 33,
   "metadata": {},
   "outputs": [],
   "source": [
    "explore_period = games.query('year_of_release >= 2012') "
   ]
  },
  {
   "cell_type": "markdown",
   "metadata": {},
   "source": [
    "Графики по количеству выпущенных игр за актуальный период на разных платформах"
   ]
  },
  {
   "cell_type": "code",
   "execution_count": 34,
   "metadata": {},
   "outputs": [
    {
     "data": {
      "image/png": "[encoded data removed]",
      "text/plain": [
       "<Figure size 1080x720 with 1 Axes>"
      ]
     },
     "metadata": {
      "needs_background": "light"
     },
     "output_type": "display_data"
    }
   ],
   "source": [
    "explore_period.pivot_table(index = 'year_of_release', columns = 'platform', values = 'total_sales', aggfunc = 'sum').plot(figsize = (15, 10))\n",
    "\n",
    "plt.legend(loc=1)\n",
    "plt.title('График количества выпущенных игр за актуальный период на разных платформах.')\n",
    "plt.xlabel('Year', color='gray')\n",
    "plt.ylabel('Total_sales',color='gray')\n",
    "plt.grid(True)\n",
    "plt.show()"
   ]
  },
  {
   "cell_type": "markdown",
   "metadata": {},
   "source": [
    "Подтвердили ранее полученную информацию, что игры на платформах идут на снижение по продажам. PS4 и XOne являются потенциально прибыльными на период 2017 года, однако падение продаж все равно будет продолжаться (ждем релизов новых консолей). Падает сильнее всего спрос на консоли: X360, PS3. На остальные консоли уже давно упал спрос."
   ]
  },
  {
   "cell_type": "code",
   "execution_count": 35,
   "metadata": {},
   "outputs": [
    {
     "data": {
      "image/png": "[encoded data removed]",
      "text/plain": [
       "<Figure size 1080x720 with 1 Axes>"
      ]
     },
     "metadata": {
      "needs_background": "light"
     },
     "output_type": "display_data"
    }
   ],
   "source": [
    "explore_period.pivot_table(index = 'name', columns = 'platform', values = 'total_sales', aggfunc = 'sum').plot(kind = 'box', ylim = (0,1.9), figsize = (15, 10))\n",
    "\n",
    "plt.title('График по глобальным продажам игр в разбивке по платформам')\n",
    "plt.xlabel('Platform', color='gray')\n",
    "plt.ylabel('Global sales',color='gray')\n",
    "plt.grid(True)\n",
    "plt.show()"
   ]
  },
  {
   "cell_type": "markdown",
   "metadata": {},
   "source": [
    "Наблюдаем тотальное доминирование \"свежих\" и не очень консолей от Sony и Microsoft. PC гейминг, на мое удивление, далек от них, хотя его можно назвать самым стабильным..."
   ]
  },
  {
   "cell_type": "markdown",
   "metadata": {},
   "source": [
    "### Посмотрим, как влияют на продажи внутри одной популярной платформы отзывы пользователей и критиков."
   ]
  },
  {
   "cell_type": "markdown",
   "metadata": {},
   "source": [
    "В нашей выборке наиболее показательными будут ps4 и xone. т.к количесство информации по этим консолям достаточное. Возьмем ps4."
   ]
  },
  {
   "cell_type": "code",
   "execution_count": 36,
   "metadata": {},
   "outputs": [],
   "source": [
    "def score_scatter(platform_name):\n",
    "    best_console = explore_period.query('platform == @platform_name')\n",
    "    best_console.plot(kind = 'scatter', x = 'user_score', y = 'total_sales', figsize = (15,10))\n",
    "\n",
    "    plt.title(f'График зависимости продаж от оценки критиков {platform_name}')\n",
    "    plt.xlabel('Score', color='gray')\n",
    "    plt.ylabel('Total_sales',color='gray')\n",
    "    plt.grid(True)\n",
    "    plt.show()\n",
    "    \n",
    "    best_console.plot(kind = 'scatter', x = 'critic_score', y = 'total_sales', figsize = (15,10))\n",
    "\n",
    "    plt.title(f'График зависимости продаж от оценки критиков {platform_name}')\n",
    "    plt.xlabel('Score', color='gray')\n",
    "    plt.ylabel('Total_sales',color='gray')\n",
    "    plt.grid(True)\n",
    "    plt.show()\n",
    "    \n",
    "    best_console_cor = best_console[['critic_score','user_score', 'total_sales']]\n",
    "    print('Корреляция', platform_name)\n",
    "    print(best_console_cor.corr())\n",
    "    print('-'*115)"
   ]
  },
  {
   "cell_type": "code",
   "execution_count": 37,
   "metadata": {},
   "outputs": [
    {
     "data": {
      "image/png": "[encoded data removed]",
      "text/plain": [
       "<Figure size 1080x720 with 1 Axes>"
      ]
     },
     "metadata": {
      "needs_background": "light"
     },
     "output_type": "display_data"
    },
    {
     "data": {
      "image/png": "[encoded data removed]",
      "text/plain": [
       "<Figure size 1080x720 with 1 Axes>"
      ]
     },
     "metadata": {
      "needs_background": "light"
     },
     "output_type": "display_data"
    },
    {
     "name": "stdout",
     "output_type": "stream",
     "text": [
      "Корреляция ps4\n",
      "              critic_score  user_score  total_sales\n",
      "critic_score      1.000000    0.557654     0.406568\n",
      "user_score        0.557654    1.000000    -0.031957\n",
      "total_sales       0.406568   -0.031957     1.000000\n",
      "-------------------------------------------------------------------------------------------------------------------\n"
     ]
    }
   ],
   "source": [
    "score_scatter(\"ps4\")"
   ]
  },
  {
   "cell_type": "markdown",
   "metadata": {},
   "source": [
    "По таблице можно сказать, что продажи больше зависят от критиков, чем от оценок обычных пользователей. Посмотрим, как обстоят дела на других платформах."
   ]
  },
  {
   "cell_type": "code",
   "execution_count": 38,
   "metadata": {},
   "outputs": [
    {
     "data": {
      "image/png": "[encoded data removed]",
      "text/plain": [
       "<Figure size 1080x720 with 1 Axes>"
      ]
     },
     "metadata": {
      "needs_background": "light"
     },
     "output_type": "display_data"
    },
    {
     "data": {
      "image/png": "[encoded data removed]",
      "text/plain": [
       "<Figure size 1080x720 with 1 Axes>"
      ]
     },
     "metadata": {
      "needs_background": "light"
     },
     "output_type": "display_data"
    },
    {
     "name": "stdout",
     "output_type": "stream",
     "text": [
      "Корреляция xone\n",
      "              critic_score  user_score  total_sales\n",
      "critic_score      1.000000    0.472462     0.416998\n",
      "user_score        0.472462    1.000000    -0.068925\n",
      "total_sales       0.416998   -0.068925     1.000000\n",
      "-------------------------------------------------------------------------------------------------------------------\n"
     ]
    },
    {
     "data": {
      "image/png": "[encoded data removed]",
      "text/plain": [
       "<Figure size 1080x720 with 1 Axes>"
      ]
     },
     "metadata": {
      "needs_background": "light"
     },
     "output_type": "display_data"
    },
    {
     "data": {
      "image/png": "[encoded data removed]",
      "text/plain": [
       "<Figure size 1080x720 with 1 Axes>"
      ]
     },
     "metadata": {
      "needs_background": "light"
     },
     "output_type": "display_data"
    },
    {
     "name": "stdout",
     "output_type": "stream",
     "text": [
      "Корреляция wiiu\n",
      "              critic_score  user_score  total_sales\n",
      "critic_score       1.00000    0.770080     0.348380\n",
      "user_score         0.77008    1.000000     0.400219\n",
      "total_sales        0.34838    0.400219     1.000000\n",
      "-------------------------------------------------------------------------------------------------------------------\n"
     ]
    },
    {
     "data": {
      "image/png": "[encoded data removed]",
      "text/plain": [
       "<Figure size 1080x720 with 1 Axes>"
      ]
     },
     "metadata": {
      "needs_background": "light"
     },
     "output_type": "display_data"
    },
    {
     "data": {
      "image/png": "[encoded data removed]",
      "text/plain": [
       "<Figure size 1080x720 with 1 Axes>"
      ]
     },
     "metadata": {
      "needs_background": "light"
     },
     "output_type": "display_data"
    },
    {
     "name": "stdout",
     "output_type": "stream",
     "text": [
      "Корреляция ps3\n",
      "              critic_score  user_score  total_sales\n",
      "critic_score      1.000000    0.544510     0.334152\n",
      "user_score        0.544510    1.000000    -0.006206\n",
      "total_sales       0.334152   -0.006206     1.000000\n",
      "-------------------------------------------------------------------------------------------------------------------\n"
     ]
    },
    {
     "data": {
      "image/png": "[encoded data removed]",
      "text/plain": [
       "<Figure size 1080x720 with 1 Axes>"
      ]
     },
     "metadata": {
      "needs_background": "light"
     },
     "output_type": "display_data"
    },
    {
     "data": {
      "image/png": "[encoded data removed]",
      "text/plain": [
       "<Figure size 1080x720 with 1 Axes>"
      ]
     },
     "metadata": {
      "needs_background": "light"
     },
     "output_type": "display_data"
    },
    {
     "name": "stdout",
     "output_type": "stream",
     "text": [
      "Корреляция x360\n",
      "              critic_score  user_score  total_sales\n",
      "critic_score      1.000000    0.557352     0.360573\n",
      "user_score        0.557352    1.000000     0.006164\n",
      "total_sales       0.360573    0.006164     1.000000\n",
      "-------------------------------------------------------------------------------------------------------------------\n"
     ]
    },
    {
     "data": {
      "image/png": "[encoded data removed]",
      "text/plain": [
       "<Figure size 1080x720 with 1 Axes>"
      ]
     },
     "metadata": {
      "needs_background": "light"
     },
     "output_type": "display_data"
    },
    {
     "data": {
      "image/png": "[encoded data removed]",
      "text/plain": [
       "<Figure size 1080x720 with 1 Axes>"
      ]
     },
     "metadata": {
      "needs_background": "light"
     },
     "output_type": "display_data"
    },
    {
     "name": "stdout",
     "output_type": "stream",
     "text": [
      "Корреляция pc\n",
      "              critic_score  user_score  total_sales\n",
      "critic_score      1.000000    0.432587     0.237243\n",
      "user_score        0.432587    1.000000    -0.121867\n",
      "total_sales       0.237243   -0.121867     1.000000\n",
      "-------------------------------------------------------------------------------------------------------------------\n"
     ]
    }
   ],
   "source": [
    "platform_list = [\"xone\", \"wiiu\", \"ps3\", \"x360\", \"pc\"]\n",
    "\n",
    "for plat in platform_list:\n",
    "    score_scatter(plat)"
   ]
  },
  {
   "cell_type": "markdown",
   "metadata": {},
   "source": [
    "В целом везде одна ситуация - можно сказать, что оценки критиков влияют на продажи, в то время как оценки пользователей скроее не влияют. Но есть и исключения, продажи игр на wiiu больше зависят от оценок пользователей! "
   ]
  },
  {
   "cell_type": "markdown",
   "metadata": {},
   "source": [
    "### Посмотрим на общее распределение игр по жанрам. "
   ]
  },
  {
   "cell_type": "markdown",
   "metadata": {},
   "source": [
    "Смотрим самые популярные игровые жанры по продажам."
   ]
  },
  {
   "cell_type": "code",
   "execution_count": 39,
   "metadata": {},
   "outputs": [
    {
     "name": "stdout",
     "output_type": "stream",
     "text": [
      "           genre  total_sales\n",
      "0        shooter        0.440\n",
      "1         sports        0.240\n",
      "2       platform        0.210\n",
      "3   role-playing        0.140\n",
      "4         racing        0.140\n",
      "5       fighting        0.130\n",
      "6         action        0.120\n",
      "7           misc        0.120\n",
      "8     simulation        0.120\n",
      "9       strategy        0.080\n",
      "10        puzzle        0.045\n",
      "11     adventure        0.030\n"
     ]
    }
   ],
   "source": [
    "pd.set_option('display.max_rows', None)\n",
    "genre_check_direct = explore_period.pivot_table(index = 'genre', values = 'total_sales', aggfunc = 'median').sort_values(ascending = False, by = 'total_sales').reset_index()\n",
    "print(genre_check_direct)\n",
    "pd.set_option('display.max_rows', 16)"
   ]
  },
  {
   "cell_type": "code",
   "execution_count": 40,
   "metadata": {},
   "outputs": [
    {
     "data": {
      "image/png": "[encoded data removed]",
      "text/plain": [
       "<Figure size 1440x1080 with 1 Axes>"
      ]
     },
     "metadata": {
      "needs_background": "light"
     },
     "output_type": "display_data"
    }
   ],
   "source": [
    "genre_check_direct.sort_values(ascending = True , by = 'total_sales').plot(kind = 'bar', x = 'genre', y = 'total_sales', figsize = (20,15), rot = 0)\n",
    "\n",
    "plt.legend(loc=2)\n",
    "plt.title('График прибыльности жанров')\n",
    "plt.xlabel('Genre', color='gray')\n",
    "plt.ylabel('Total_sales_median', color='gray')\n",
    "plt.grid(True)\n",
    "plt.show()"
   ]
  },
  {
   "cell_type": "code",
   "execution_count": 41,
   "metadata": {},
   "outputs": [
    {
     "data": {
      "image/png": "[encoded data removed]",
      "text/plain": [
       "<Figure size 1080x720 with 1 Axes>"
      ]
     },
     "metadata": {
      "needs_background": "light"
     },
     "output_type": "display_data"
    }
   ],
   "source": [
    "fig, ax = plt.subplots(figsize=(15, 10))\n",
    " \n",
    "sns.boxplot(data = explore_period, x = \"genre\", y = \"total_sales\", ax=ax)\n",
    "plt.title('График рахмаха прибыльности жанров')\n",
    "plt.xlabel('Genre', color='gray')\n",
    "plt.ylabel('Total_sales', color='gray')\n",
    "plt.grid(True)\n",
    "plt.show()"
   ]
  },
  {
   "cell_type": "markdown",
   "metadata": {},
   "source": [
    "Самые стабильно прибыльные жанры - `shooter` - в лидерах, `sports` и `platform` идут следом, но разница уже не столт большая. Чаще всего игры с этими метками крупнобюджетные, поэтому и внимание к себе привлекают больше.\n",
    "\n",
    "Наименее прибыльные жанры - `adventure` и `puzzle`."
   ]
  },
  {
   "cell_type": "markdown",
   "metadata": {},
   "source": [
    "**Вывод:**\n",
    "\n",
    "Провели исследовательский анализ данных, из которого узнали про количество игр, выпускаемых по годам. Узнали платформы с наибольшими продажами, выявили актуальные платформы на 2017 год. Выяснили влияние оценок игры на их продажи, и самые популярные жанры игр."
   ]
  },
  {
   "cell_type": "markdown",
   "metadata": {},
   "source": [
    "## Портрет пользователя каждого региона\n",
    "Посмотрим на продажи игр по платформам по регионам."
   ]
  },
  {
   "cell_type": "code",
   "execution_count": 42,
   "metadata": {},
   "outputs": [
    {
     "data": {
      "text/html": [
       "<div>\n",
       "<style scoped>\n",
       "    .dataframe tbody tr th:only-of-type {\n",
       "        vertical-align: middle;\n",
       "    }\n",
       "\n",
       "    .dataframe tbody tr th {\n",
       "        vertical-align: top;\n",
       "    }\n",
       "\n",
       "    .dataframe thead th {\n",
       "        text-align: right;\n",
       "    }\n",
       "</style>\n",
       "<table border=\"1\" class=\"dataframe\">\n",
       "  <thead>\n",
       "    <tr style=\"text-align: right;\">\n",
       "      <th></th>\n",
       "      <th>eu_sales</th>\n",
       "      <th>jp_sales</th>\n",
       "      <th>na_sales</th>\n",
       "      <th>other_sales</th>\n",
       "    </tr>\n",
       "    <tr>\n",
       "      <th>platform</th>\n",
       "      <th></th>\n",
       "      <th></th>\n",
       "      <th></th>\n",
       "      <th></th>\n",
       "    </tr>\n",
       "  </thead>\n",
       "  <tbody>\n",
       "    <tr>\n",
       "      <th>x360</th>\n",
       "      <td>74.52</td>\n",
       "      <td>1.57</td>\n",
       "      <td>140.05</td>\n",
       "      <td>20.40</td>\n",
       "    </tr>\n",
       "    <tr>\n",
       "      <th>ps4</th>\n",
       "      <td>141.09</td>\n",
       "      <td>15.96</td>\n",
       "      <td>108.74</td>\n",
       "      <td>48.35</td>\n",
       "    </tr>\n",
       "    <tr>\n",
       "      <th>ps3</th>\n",
       "      <td>106.85</td>\n",
       "      <td>35.29</td>\n",
       "      <td>103.38</td>\n",
       "      <td>43.26</td>\n",
       "    </tr>\n",
       "    <tr>\n",
       "      <th>xone</th>\n",
       "      <td>51.59</td>\n",
       "      <td>0.34</td>\n",
       "      <td>93.12</td>\n",
       "      <td>14.27</td>\n",
       "    </tr>\n",
       "    <tr>\n",
       "      <th>3ds</th>\n",
       "      <td>42.64</td>\n",
       "      <td>87.79</td>\n",
       "      <td>55.31</td>\n",
       "      <td>8.87</td>\n",
       "    </tr>\n",
       "    <tr>\n",
       "      <th>wiiu</th>\n",
       "      <td>25.13</td>\n",
       "      <td>13.01</td>\n",
       "      <td>38.10</td>\n",
       "      <td>5.95</td>\n",
       "    </tr>\n",
       "    <tr>\n",
       "      <th>pc</th>\n",
       "      <td>37.76</td>\n",
       "      <td>0.00</td>\n",
       "      <td>19.12</td>\n",
       "      <td>5.77</td>\n",
       "    </tr>\n",
       "    <tr>\n",
       "      <th>wii</th>\n",
       "      <td>11.92</td>\n",
       "      <td>3.39</td>\n",
       "      <td>17.45</td>\n",
       "      <td>2.61</td>\n",
       "    </tr>\n",
       "    <tr>\n",
       "      <th>psv</th>\n",
       "      <td>11.36</td>\n",
       "      <td>21.04</td>\n",
       "      <td>10.98</td>\n",
       "      <td>5.80</td>\n",
       "    </tr>\n",
       "    <tr>\n",
       "      <th>ds</th>\n",
       "      <td>3.53</td>\n",
       "      <td>3.72</td>\n",
       "      <td>4.59</td>\n",
       "      <td>0.71</td>\n",
       "    </tr>\n",
       "    <tr>\n",
       "      <th>psp</th>\n",
       "      <td>0.42</td>\n",
       "      <td>10.47</td>\n",
       "      <td>0.13</td>\n",
       "      <td>0.17</td>\n",
       "    </tr>\n",
       "  </tbody>\n",
       "</table>\n",
       "</div>"
      ],
      "text/plain": [
       "          eu_sales  jp_sales  na_sales  other_sales\n",
       "platform                                           \n",
       "x360         74.52      1.57    140.05        20.40\n",
       "ps4         141.09     15.96    108.74        48.35\n",
       "ps3         106.85     35.29    103.38        43.26\n",
       "xone         51.59      0.34     93.12        14.27\n",
       "3ds          42.64     87.79     55.31         8.87\n",
       "wiiu         25.13     13.01     38.10         5.95\n",
       "pc           37.76      0.00     19.12         5.77\n",
       "wii          11.92      3.39     17.45         2.61\n",
       "psv          11.36     21.04     10.98         5.80\n",
       "ds            3.53      3.72      4.59         0.71\n",
       "psp           0.42     10.47      0.13         0.17"
      ]
     },
     "execution_count": 42,
     "metadata": {},
     "output_type": "execute_result"
    }
   ],
   "source": [
    "users_portrait_platform = explore_period.pivot_table(index = 'platform', values = ['na_sales','eu_sales','jp_sales', 'other_sales'], aggfunc = 'sum')\n",
    "users_portrait_platform = users_portrait_platform.sort_values(ascending=False, by = 'na_sales')\n",
    "users_portrait_platform"
   ]
  },
  {
   "cell_type": "code",
   "execution_count": 43,
   "metadata": {},
   "outputs": [
    {
     "name": "stdout",
     "output_type": "stream",
     "text": [
      "Рынок Северной Америки: 41 %\n",
      "Рынок Европы: 35 %\n",
      "Рынок Японии: 13 %\n",
      "Рынок других стран: 11 %\n"
     ]
    }
   ],
   "source": [
    "eu_overall = users_portrait_platform['eu_sales'].sum()\n",
    "jp_overall = users_portrait_platform['jp_sales'].sum()\n",
    "na_overall = users_portrait_platform['na_sales'].sum()\n",
    "other_overall = users_portrait_platform['other_sales'].sum()\n",
    "overall = eu_overall + jp_overall + na_overall + other_overall\n",
    "\n",
    "print('Рынок Северной Америки:', round(na_overall/overall*100), '%')\n",
    "print('Рынок Европы:', round(eu_overall/overall*100), '%')\n",
    "print('Рынок Японии:', round(jp_overall/overall*100), '%')\n",
    "print('Рынок других стран:', round(other_overall/overall*100), '%')"
   ]
  },
  {
   "cell_type": "code",
   "execution_count": 44,
   "metadata": {},
   "outputs": [
    {
     "data": {
      "image/png": "[encoded data removed]",
      "text/plain": [
       "<Figure size 1440x720 with 1 Axes>"
      ]
     },
     "metadata": {
      "needs_background": "light"
     },
     "output_type": "display_data"
    }
   ],
   "source": [
    "users_portrait_platform.plot(kind = 'bar', figsize=(20,10))\n",
    "\n",
    "plt.legend(loc=1)\n",
    "plt.title('График продажи игр по платформам по регионам')\n",
    "plt.xlabel('Platform', color='gray')\n",
    "plt.ylabel('Sales',color='gray')\n",
    "plt.grid(True)\n",
    "plt.show()"
   ]
  },
  {
   "cell_type": "markdown",
   "metadata": {},
   "source": [
    "Видим, что лидер рынка - Северная Америка, затем идет Европа, а рынок игровых платформ Японии в процентном соотношении с хож со всеми оставшимися странами. Конкретно по платформам видим, что в Америке и Европе популярные платформы одинаковые. В Японии же популярны протативные консоли (их удобно брать с собой, а японцы, как мы знаем, очень занятой народ, вот и находят время в перерывах, чтобы немного отдохнуть), а остальной мир везде понемногу. "
   ]
  },
  {
   "cell_type": "markdown",
   "metadata": {},
   "source": [
    "Теперь посмотрим на прибыльность жанров по регионам."
   ]
  },
  {
   "cell_type": "code",
   "execution_count": 45,
   "metadata": {},
   "outputs": [
    {
     "data": {
      "text/html": [
       "<div>\n",
       "<style scoped>\n",
       "    .dataframe tbody tr th:only-of-type {\n",
       "        vertical-align: middle;\n",
       "    }\n",
       "\n",
       "    .dataframe tbody tr th {\n",
       "        vertical-align: top;\n",
       "    }\n",
       "\n",
       "    .dataframe thead th {\n",
       "        text-align: right;\n",
       "    }\n",
       "</style>\n",
       "<table border=\"1\" class=\"dataframe\">\n",
       "  <thead>\n",
       "    <tr style=\"text-align: right;\">\n",
       "      <th></th>\n",
       "      <th>eu_sales</th>\n",
       "      <th>jp_sales</th>\n",
       "      <th>na_sales</th>\n",
       "      <th>other_sales</th>\n",
       "    </tr>\n",
       "    <tr>\n",
       "      <th>genre</th>\n",
       "      <th></th>\n",
       "      <th></th>\n",
       "      <th></th>\n",
       "      <th></th>\n",
       "    </tr>\n",
       "  </thead>\n",
       "  <tbody>\n",
       "    <tr>\n",
       "      <th>action</th>\n",
       "      <td>159.34</td>\n",
       "      <td>52.80</td>\n",
       "      <td>177.84</td>\n",
       "      <td>51.14</td>\n",
       "    </tr>\n",
       "    <tr>\n",
       "      <th>shooter</th>\n",
       "      <td>113.47</td>\n",
       "      <td>9.23</td>\n",
       "      <td>144.77</td>\n",
       "      <td>37.26</td>\n",
       "    </tr>\n",
       "    <tr>\n",
       "      <th>sports</th>\n",
       "      <td>69.08</td>\n",
       "      <td>8.01</td>\n",
       "      <td>81.53</td>\n",
       "      <td>22.44</td>\n",
       "    </tr>\n",
       "    <tr>\n",
       "      <th>role-playing</th>\n",
       "      <td>48.53</td>\n",
       "      <td>65.44</td>\n",
       "      <td>64.00</td>\n",
       "      <td>14.83</td>\n",
       "    </tr>\n",
       "    <tr>\n",
       "      <th>misc</th>\n",
       "      <td>26.32</td>\n",
       "      <td>12.86</td>\n",
       "      <td>38.19</td>\n",
       "      <td>7.67</td>\n",
       "    </tr>\n",
       "    <tr>\n",
       "      <th>platform</th>\n",
       "      <td>21.41</td>\n",
       "      <td>8.63</td>\n",
       "      <td>25.38</td>\n",
       "      <td>5.58</td>\n",
       "    </tr>\n",
       "    <tr>\n",
       "      <th>fighting</th>\n",
       "      <td>10.79</td>\n",
       "      <td>9.44</td>\n",
       "      <td>19.79</td>\n",
       "      <td>4.47</td>\n",
       "    </tr>\n",
       "    <tr>\n",
       "      <th>racing</th>\n",
       "      <td>27.29</td>\n",
       "      <td>2.50</td>\n",
       "      <td>17.22</td>\n",
       "      <td>6.49</td>\n",
       "    </tr>\n",
       "    <tr>\n",
       "      <th>adventure</th>\n",
       "      <td>9.46</td>\n",
       "      <td>8.24</td>\n",
       "      <td>8.92</td>\n",
       "      <td>2.81</td>\n",
       "    </tr>\n",
       "    <tr>\n",
       "      <th>simulation</th>\n",
       "      <td>14.55</td>\n",
       "      <td>10.41</td>\n",
       "      <td>7.97</td>\n",
       "      <td>2.19</td>\n",
       "    </tr>\n",
       "    <tr>\n",
       "      <th>strategy</th>\n",
       "      <td>5.17</td>\n",
       "      <td>2.88</td>\n",
       "      <td>4.23</td>\n",
       "      <td>1.06</td>\n",
       "    </tr>\n",
       "    <tr>\n",
       "      <th>puzzle</th>\n",
       "      <td>1.40</td>\n",
       "      <td>2.14</td>\n",
       "      <td>1.13</td>\n",
       "      <td>0.22</td>\n",
       "    </tr>\n",
       "  </tbody>\n",
       "</table>\n",
       "</div>"
      ],
      "text/plain": [
       "              eu_sales  jp_sales  na_sales  other_sales\n",
       "genre                                                  \n",
       "action          159.34     52.80    177.84        51.14\n",
       "shooter         113.47      9.23    144.77        37.26\n",
       "sports           69.08      8.01     81.53        22.44\n",
       "role-playing     48.53     65.44     64.00        14.83\n",
       "misc             26.32     12.86     38.19         7.67\n",
       "platform         21.41      8.63     25.38         5.58\n",
       "fighting         10.79      9.44     19.79         4.47\n",
       "racing           27.29      2.50     17.22         6.49\n",
       "adventure         9.46      8.24      8.92         2.81\n",
       "simulation       14.55     10.41      7.97         2.19\n",
       "strategy          5.17      2.88      4.23         1.06\n",
       "puzzle            1.40      2.14      1.13         0.22"
      ]
     },
     "execution_count": 45,
     "metadata": {},
     "output_type": "execute_result"
    }
   ],
   "source": [
    "users_portrait_income = explore_period.pivot_table(index = 'genre', values = ['na_sales','eu_sales','jp_sales', 'other_sales'], aggfunc = 'sum').sort_values(ascending=False, by = 'na_sales')\n",
    "users_portrait_income"
   ]
  },
  {
   "cell_type": "code",
   "execution_count": 46,
   "metadata": {},
   "outputs": [
    {
     "data": {
      "image/png": "[encoded data removed]",
      "text/plain": [
       "<Figure size 1440x720 with 1 Axes>"
      ]
     },
     "metadata": {
      "needs_background": "light"
     },
     "output_type": "display_data"
    }
   ],
   "source": [
    "users_portrait_income.plot(kind = 'bar', figsize=(20,10))\n",
    "\n",
    "plt.legend(loc=2)\n",
    "plt.title('График прибыльности жанров по регионам')\n",
    "plt.xlabel('Sales', color='gray')\n",
    "plt.ylabel('Genre',color='gray')\n",
    "plt.grid(True)\n",
    "plt.show()"
   ]
  },
  {
   "cell_type": "markdown",
   "metadata": {},
   "source": [
    "И опять наблюдаем схожесть американцев и европейцев, но теперь уже в предпочтениях жанра, другой мир разделяет их предпочтения. `Action`, `Sports`, `Shooter` - самые популярные жанры в этих странах . Любимый жанр японцев - `Role-Playing`. Видимо дело в тех же протативных консолях, в активные игры на них трудно играть."
   ]
  },
  {
   "cell_type": "markdown",
   "metadata": {},
   "source": [
    "Теперь посмотрим насколько влияет рейтинг на продажи."
   ]
  },
  {
   "cell_type": "code",
   "execution_count": 47,
   "metadata": {},
   "outputs": [
    {
     "data": {
      "text/html": [
       "<div>\n",
       "<style scoped>\n",
       "    .dataframe tbody tr th:only-of-type {\n",
       "        vertical-align: middle;\n",
       "    }\n",
       "\n",
       "    .dataframe tbody tr th {\n",
       "        vertical-align: top;\n",
       "    }\n",
       "\n",
       "    .dataframe thead th {\n",
       "        text-align: right;\n",
       "    }\n",
       "</style>\n",
       "<table border=\"1\" class=\"dataframe\">\n",
       "  <thead>\n",
       "    <tr style=\"text-align: right;\">\n",
       "      <th></th>\n",
       "      <th>eu_sales</th>\n",
       "      <th>jp_sales</th>\n",
       "      <th>na_sales</th>\n",
       "      <th>other_sales</th>\n",
       "    </tr>\n",
       "    <tr>\n",
       "      <th>rating</th>\n",
       "      <th></th>\n",
       "      <th></th>\n",
       "      <th></th>\n",
       "      <th></th>\n",
       "    </tr>\n",
       "  </thead>\n",
       "  <tbody>\n",
       "    <tr>\n",
       "      <th>m</th>\n",
       "      <td>193.96</td>\n",
       "      <td>21.20</td>\n",
       "      <td>231.57</td>\n",
       "      <td>63.38</td>\n",
       "    </tr>\n",
       "    <tr>\n",
       "      <th>e</th>\n",
       "      <td>113.02</td>\n",
       "      <td>28.33</td>\n",
       "      <td>114.37</td>\n",
       "      <td>31.44</td>\n",
       "    </tr>\n",
       "    <tr>\n",
       "      <th>undefined</th>\n",
       "      <td>91.50</td>\n",
       "      <td>108.84</td>\n",
       "      <td>103.31</td>\n",
       "      <td>27.17</td>\n",
       "    </tr>\n",
       "    <tr>\n",
       "      <th>e10+</th>\n",
       "      <td>55.37</td>\n",
       "      <td>8.19</td>\n",
       "      <td>75.70</td>\n",
       "      <td>16.23</td>\n",
       "    </tr>\n",
       "    <tr>\n",
       "      <th>t</th>\n",
       "      <td>52.96</td>\n",
       "      <td>26.02</td>\n",
       "      <td>66.02</td>\n",
       "      <td>17.94</td>\n",
       "    </tr>\n",
       "  </tbody>\n",
       "</table>\n",
       "</div>"
      ],
      "text/plain": [
       "           eu_sales  jp_sales  na_sales  other_sales\n",
       "rating                                              \n",
       "m            193.96     21.20    231.57        63.38\n",
       "e            113.02     28.33    114.37        31.44\n",
       "undefined     91.50    108.84    103.31        27.17\n",
       "e10+          55.37      8.19     75.70        16.23\n",
       "t             52.96     26.02     66.02        17.94"
      ]
     },
     "execution_count": 47,
     "metadata": {},
     "output_type": "execute_result"
    }
   ],
   "source": [
    "ESRB = explore_period.pivot_table(index = 'rating', values = ['eu_sales','jp_sales','na_sales', 'other_sales'], aggfunc = 'sum').sort_values(ascending=False, by = 'na_sales')\n",
    "ESRB"
   ]
  },
  {
   "cell_type": "markdown",
   "metadata": {},
   "source": [
    "Как мы видим игровые студии сильно опасаются делать игры для маленьких детей (`ec`), и с рейтингом 18+(`ao`). Это может быть связано с тем, что игры с рейтингом `ес` банально не интересны, и дети в них не играют, а игры рейтинга `ао` могут ограничиваться в распространении государством и быть не доступны для целевой аудитории."
   ]
  },
  {
   "cell_type": "markdown",
   "metadata": {},
   "source": [
    "**Вывод:**\n",
    "\n",
    "Пользователи Европы и Северной Америки и других стран играют примерно в одни и те же консоли и жанры, и игровая индустрия больше развита в домашнем уюте, а в Японии преобладают пользователи с портативными консолями, в которые можно играть не только дома, поэтому и популярные жанры у них другие. А рейтинг, безусловно, влияет на продажи игр."
   ]
  },
  {
   "cell_type": "markdown",
   "metadata": {},
   "source": [
    "## Проверьте гипотезы"
   ]
  },
  {
   "cell_type": "markdown",
   "metadata": {},
   "source": [
    "1-ая гипотиза: Средние пользовательские рейтинги платформ Xbox One и PC одинаковые."
   ]
  },
  {
   "cell_type": "code",
   "execution_count": 48,
   "metadata": {},
   "outputs": [
    {
     "name": "stdout",
     "output_type": "stream",
     "text": [
      "6.521428571428572\n",
      "6.4286407766990274\n"
     ]
    }
   ],
   "source": [
    "pre_xone = explore_period.query('user_score > 0')\n",
    "xone = pre_xone[pre_xone['platform'] == 'xone']['user_score']\n",
    "print(xone.mean())\n",
    "\n",
    "pre_pc = explore_period.query('user_score > 0')\n",
    "pc = pre_pc[pre_pc['platform'] == 'pc']['user_score']\n",
    "print(pc.mean())"
   ]
  },
  {
   "cell_type": "markdown",
   "metadata": {},
   "source": [
    "Формулируем нулевую и альтернативную гипотизы, исходя из данной нам 1-ой гипотизы.\n",
    "\n",
    "`H0`: Средние пользовательские рейтинги платформ Xbox One и PC одинаковые.\n",
    "\n",
    "`H1`: Средние пользовательские рейтинги платформ Xbox One и PC разные."
   ]
  },
  {
   "cell_type": "code",
   "execution_count": 49,
   "metadata": {},
   "outputs": [
    {
     "name": "stdout",
     "output_type": "stream",
     "text": [
      "p-значение: 0.5489537965134912\n",
      "Не получилось отвергнуть нулевую гипотезу\n"
     ]
    }
   ],
   "source": [
    "# проверяем первую гипотезу\n",
    "\n",
    "alpha = 0.01\n",
    "\n",
    "results = st.ttest_ind(xone, pc, equal_var=False)\n",
    "\n",
    "print('p-значение:', results.pvalue)\n",
    "\n",
    "\n",
    "if (results.pvalue < alpha):\n",
    "    print(\"Отвергаем нулевую гипотезу\")\n",
    "else:\n",
    "    print(\"Не получилось отвергнуть нулевую гипотезу\")"
   ]
  },
  {
   "cell_type": "markdown",
   "metadata": {},
   "source": [
    "**Вывод:**\n",
    "\n",
    "1-ая гипотеза не подтвердилась."
   ]
  },
  {
   "cell_type": "markdown",
   "metadata": {},
   "source": [
    "2-ая гипотиза: Средние пользовательские рейтинги жанров Action (англ. «действие», экшен-игры) и Sports (англ. «спортивные соревнования») разные."
   ]
  },
  {
   "cell_type": "markdown",
   "metadata": {},
   "source": [
    "Применим t-критерий Стюдента, который используется для сравнения средних арифметических двух групп."
   ]
  },
  {
   "cell_type": "code",
   "execution_count": 50,
   "metadata": {},
   "outputs": [
    {
     "name": "stdout",
     "output_type": "stream",
     "text": [
      "6.825047801147227\n",
      "5.455670103092784\n"
     ]
    }
   ],
   "source": [
    "pre_action = explore_period.query('user_score > 0')\n",
    "action = pre_action[pre_action['genre'] == 'action']['user_score']\n",
    "print(action.mean())\n",
    "\n",
    "pre_sports = explore_period.query('user_score > 0')\n",
    "sports = pre_sports[pre_sports['genre'] == 'sports']['user_score']\n",
    "print(sports.mean())"
   ]
  },
  {
   "cell_type": "markdown",
   "metadata": {},
   "source": [
    "Формулируем нулевую и альтернативную гипотизы, исходя из данной нам 2-ой гипотизы.\n",
    "\n",
    "`H0`: Средние пользовательские рейтинги жанров Action и Sports одинаковые.\n",
    "\n",
    "`H1`: Средние пользовательские рейтинги жанров Action и Sports разные."
   ]
  },
  {
   "cell_type": "markdown",
   "metadata": {},
   "source": [
    "Применим t-критерий Стюдента, который используется для сравнения средних арифметических двух групп."
   ]
  },
  {
   "cell_type": "code",
   "execution_count": 51,
   "metadata": {},
   "outputs": [
    {
     "name": "stdout",
     "output_type": "stream",
     "text": [
      "p-значение: 5.989458066467418e-20\n",
      "Отвергаем нулевую гипотезу\n"
     ]
    }
   ],
   "source": [
    "# проверяем вторую гипотезу\n",
    "\n",
    "alpha = 0.01\n",
    "\n",
    "results = st.ttest_ind(action, sports, equal_var=False)\n",
    "\n",
    "print('p-значение:', results.pvalue)\n",
    "\n",
    "\n",
    "if (results.pvalue < alpha):\n",
    "    print(\"Отвергаем нулевую гипотезу\")\n",
    "else:\n",
    "    print(\"Не получилось отвергнуть нулевую гипотезу\")"
   ]
  },
  {
   "cell_type": "markdown",
   "metadata": {},
   "source": [
    "**Вывод:**\n",
    "\n",
    "На имеющихся данных, на уровне значимости 1% есть основания отвергнуть нулевую гипотезу о равенстве средних значений пользовательских рейтингов (отзывов) жанров Action и Sports в пользу альтернативной гипотезы."
   ]
  },
  {
   "cell_type": "markdown",
   "metadata": {},
   "source": [
    "## Напишите общий вывод"
   ]
  },
  {
   "cell_type": "markdown",
   "metadata": {},
   "source": [
    "Мы подготовили наши данные, привели к правильным данным столбцы. Проведя анализ, мы выявили, что количество игр на различные платформы расло на протяжении всего периода, и их производства стало падать с 2012 года. Также мы выявили, что средняя продолжительность жизни игровой платформы составляет 7-8 лет. Больше всех поиграть любят пользователи из Северной Америки. Самый популярный жанр за исследуемый период: `Action`, жанр `Strategy` не пользуется популярностью. Наблюдается взаимосвязь между продажами и оценками критиков.\n",
    "\n",
    "В конечном счете, выделели критерии определяющие успешность игры:\n",
    "\n",
    "    - Регион.\n",
    "    - Рейтинг ассоциации, определяющей возрастной рейтинг компьютерных игр.\n",
    "    - Платформа, которая наиболее распространена в данном регионе.\n",
    "    - Жанр.\n",
    "    - Рейтинг критиков.\n",
    " \n",
    "\n",
    "    \n",
    "\n",
    "    \n"
   ]
  }
 ],
 "metadata": {
  "ExecuteTimeLog": [
   {
    "duration": 267,
    "start_time": "2023-03-31T14:24:26.338Z"
   },
   {
    "duration": 4,
    "start_time": "2023-03-31T14:24:30.567Z"
   },
   {
    "duration": 1495,
    "start_time": "2023-03-31T14:25:34.992Z"
   },
   {
    "duration": 272,
    "start_time": "2023-03-31T14:25:36.490Z"
   },
   {
    "duration": 3,
    "start_time": "2023-03-31T14:25:36.765Z"
   },
   {
    "duration": 141,
    "start_time": "2023-03-31T14:25:51.873Z"
   },
   {
    "duration": 1422,
    "start_time": "2023-03-31T14:38:27.563Z"
   },
   {
    "duration": 78,
    "start_time": "2023-03-31T14:38:28.988Z"
   },
   {
    "duration": 4,
    "start_time": "2023-03-31T14:38:29.069Z"
   },
   {
    "duration": 96,
    "start_time": "2023-03-31T14:38:29.075Z"
   },
   {
    "duration": 4,
    "start_time": "2023-03-31T14:38:29.175Z"
   },
   {
    "duration": 19,
    "start_time": "2023-03-31T14:38:29.181Z"
   },
   {
    "duration": 25,
    "start_time": "2023-03-31T14:38:29.202Z"
   },
   {
    "duration": 64,
    "start_time": "2023-03-31T14:38:29.233Z"
   },
   {
    "duration": 14,
    "start_time": "2023-03-31T14:38:29.299Z"
   },
   {
    "duration": 57,
    "start_time": "2023-03-31T14:38:29.316Z"
   },
   {
    "duration": 10,
    "start_time": "2023-03-31T14:38:29.375Z"
   },
   {
    "duration": 27,
    "start_time": "2023-03-31T14:38:29.387Z"
   },
   {
    "duration": 12,
    "start_time": "2023-03-31T14:40:21.672Z"
   },
   {
    "duration": 11,
    "start_time": "2023-03-31T14:40:25.492Z"
   },
   {
    "duration": 12,
    "start_time": "2023-03-31T14:41:25.500Z"
   },
   {
    "duration": 1413,
    "start_time": "2023-03-31T14:44:44.719Z"
   },
   {
    "duration": 67,
    "start_time": "2023-03-31T14:44:46.135Z"
   },
   {
    "duration": 4,
    "start_time": "2023-03-31T14:44:46.206Z"
   },
   {
    "duration": 159,
    "start_time": "2023-03-31T14:44:46.212Z"
   },
   {
    "duration": 9,
    "start_time": "2023-03-31T14:44:46.373Z"
   },
   {
    "duration": 93,
    "start_time": "2023-03-31T14:44:46.386Z"
   },
   {
    "duration": 55,
    "start_time": "2023-03-31T14:44:46.482Z"
   },
   {
    "duration": 51,
    "start_time": "2023-03-31T14:44:46.539Z"
   },
   {
    "duration": 74,
    "start_time": "2023-03-31T14:44:46.592Z"
   },
   {
    "duration": 33,
    "start_time": "2023-03-31T14:44:46.671Z"
   },
   {
    "duration": 54,
    "start_time": "2023-03-31T14:44:46.709Z"
   },
   {
    "duration": 28,
    "start_time": "2023-03-31T14:44:46.765Z"
   },
   {
    "duration": 12,
    "start_time": "2023-03-31T14:44:46.795Z"
   },
   {
    "duration": 61,
    "start_time": "2023-03-31T14:44:46.811Z"
   },
   {
    "duration": 1723,
    "start_time": "2023-03-31T15:03:46.146Z"
   },
   {
    "duration": 10,
    "start_time": "2023-03-31T15:03:59.811Z"
   },
   {
    "duration": 13,
    "start_time": "2023-03-31T15:04:09.842Z"
   },
   {
    "duration": 37,
    "start_time": "2023-03-31T15:04:19.593Z"
   },
   {
    "duration": 6,
    "start_time": "2023-03-31T15:04:33.083Z"
   },
   {
    "duration": 1607,
    "start_time": "2023-03-31T15:04:42.055Z"
   },
   {
    "duration": 217,
    "start_time": "2023-03-31T15:04:47.873Z"
   },
   {
    "duration": 89,
    "start_time": "2023-03-31T15:11:06.210Z"
   },
   {
    "duration": 1317,
    "start_time": "2023-03-31T15:18:15.214Z"
   },
   {
    "duration": 73,
    "start_time": "2023-03-31T15:18:16.533Z"
   },
   {
    "duration": 3,
    "start_time": "2023-03-31T15:18:16.608Z"
   },
   {
    "duration": 107,
    "start_time": "2023-03-31T15:18:16.613Z"
   },
   {
    "duration": 6,
    "start_time": "2023-03-31T15:18:16.726Z"
   },
   {
    "duration": 75,
    "start_time": "2023-03-31T15:18:16.736Z"
   },
   {
    "duration": 29,
    "start_time": "2023-03-31T15:18:16.814Z"
   },
   {
    "duration": 45,
    "start_time": "2023-03-31T15:18:16.845Z"
   },
   {
    "duration": 8,
    "start_time": "2023-03-31T15:18:16.892Z"
   },
   {
    "duration": 8,
    "start_time": "2023-03-31T15:18:16.901Z"
   },
   {
    "duration": 14,
    "start_time": "2023-03-31T15:18:16.911Z"
   },
   {
    "duration": 53,
    "start_time": "2023-03-31T15:18:16.933Z"
   },
   {
    "duration": 22,
    "start_time": "2023-03-31T15:18:16.987Z"
   },
   {
    "duration": 47,
    "start_time": "2023-03-31T15:18:17.013Z"
   },
   {
    "duration": 29,
    "start_time": "2023-03-31T15:18:17.062Z"
   },
   {
    "duration": 9,
    "start_time": "2023-03-31T15:18:17.093Z"
   },
   {
    "duration": 254,
    "start_time": "2023-03-31T15:18:17.104Z"
   },
   {
    "duration": 2342,
    "start_time": "2023-03-31T15:18:17.368Z"
   },
   {
    "duration": 0,
    "start_time": "2023-03-31T15:18:19.712Z"
   },
   {
    "duration": 0,
    "start_time": "2023-03-31T15:18:19.713Z"
   },
   {
    "duration": 0,
    "start_time": "2023-03-31T15:18:19.714Z"
   },
   {
    "duration": 0,
    "start_time": "2023-03-31T15:18:19.716Z"
   },
   {
    "duration": 0,
    "start_time": "2023-03-31T15:18:19.725Z"
   },
   {
    "duration": 0,
    "start_time": "2023-03-31T15:18:19.726Z"
   },
   {
    "duration": 1,
    "start_time": "2023-03-31T15:18:19.726Z"
   },
   {
    "duration": 0,
    "start_time": "2023-03-31T15:18:19.727Z"
   },
   {
    "duration": 0,
    "start_time": "2023-03-31T15:18:19.728Z"
   },
   {
    "duration": 0,
    "start_time": "2023-03-31T15:18:19.729Z"
   },
   {
    "duration": 0,
    "start_time": "2023-03-31T15:18:19.730Z"
   },
   {
    "duration": 0,
    "start_time": "2023-03-31T15:18:19.733Z"
   },
   {
    "duration": 0,
    "start_time": "2023-03-31T15:18:19.737Z"
   },
   {
    "duration": 0,
    "start_time": "2023-03-31T15:18:19.738Z"
   },
   {
    "duration": 0,
    "start_time": "2023-03-31T15:18:19.739Z"
   },
   {
    "duration": 0,
    "start_time": "2023-03-31T15:18:19.741Z"
   },
   {
    "duration": 0,
    "start_time": "2023-03-31T15:18:19.742Z"
   },
   {
    "duration": 0,
    "start_time": "2023-03-31T15:18:19.743Z"
   },
   {
    "duration": 0,
    "start_time": "2023-03-31T15:18:19.744Z"
   },
   {
    "duration": 0,
    "start_time": "2023-03-31T15:18:19.750Z"
   },
   {
    "duration": 0,
    "start_time": "2023-03-31T15:18:19.751Z"
   },
   {
    "duration": 0,
    "start_time": "2023-03-31T15:18:19.752Z"
   },
   {
    "duration": 1402,
    "start_time": "2023-03-31T15:19:13.811Z"
   },
   {
    "duration": 116,
    "start_time": "2023-03-31T15:19:15.216Z"
   },
   {
    "duration": 5,
    "start_time": "2023-03-31T15:19:15.345Z"
   },
   {
    "duration": 128,
    "start_time": "2023-03-31T15:19:15.356Z"
   },
   {
    "duration": 5,
    "start_time": "2023-03-31T15:19:15.490Z"
   },
   {
    "duration": 90,
    "start_time": "2023-03-31T15:19:15.501Z"
   },
   {
    "duration": 18,
    "start_time": "2023-03-31T15:19:15.594Z"
   },
   {
    "duration": 71,
    "start_time": "2023-03-31T15:19:15.613Z"
   },
   {
    "duration": 16,
    "start_time": "2023-03-31T15:19:15.693Z"
   },
   {
    "duration": 94,
    "start_time": "2023-03-31T15:19:15.713Z"
   },
   {
    "duration": 85,
    "start_time": "2023-03-31T15:19:15.809Z"
   },
   {
    "duration": 10,
    "start_time": "2023-03-31T15:19:15.896Z"
   },
   {
    "duration": 8,
    "start_time": "2023-03-31T15:19:15.908Z"
   },
   {
    "duration": 129,
    "start_time": "2023-03-31T15:19:15.917Z"
   },
   {
    "duration": 52,
    "start_time": "2023-03-31T15:19:16.049Z"
   },
   {
    "duration": 93,
    "start_time": "2023-03-31T15:19:16.104Z"
   },
   {
    "duration": 344,
    "start_time": "2023-03-31T15:19:16.199Z"
   },
   {
    "duration": 176,
    "start_time": "2023-03-31T15:19:16.549Z"
   },
   {
    "duration": 220,
    "start_time": "2023-03-31T15:19:16.732Z"
   },
   {
    "duration": 24,
    "start_time": "2023-03-31T15:19:16.954Z"
   },
   {
    "duration": 363,
    "start_time": "2023-03-31T15:19:16.979Z"
   },
   {
    "duration": 3073,
    "start_time": "2023-03-31T15:19:17.347Z"
   },
   {
    "duration": 18,
    "start_time": "2023-03-31T15:19:20.422Z"
   },
   {
    "duration": 493,
    "start_time": "2023-03-31T15:19:20.443Z"
   },
   {
    "duration": 548,
    "start_time": "2023-03-31T15:19:20.942Z"
   },
   {
    "duration": 207,
    "start_time": "2023-03-31T15:19:21.495Z"
   },
   {
    "duration": 51,
    "start_time": "2023-03-31T15:19:21.706Z"
   },
   {
    "duration": 48,
    "start_time": "2023-03-31T15:19:21.762Z"
   },
   {
    "duration": 116,
    "start_time": "2023-03-31T15:19:21.815Z"
   },
   {
    "duration": 107,
    "start_time": "2023-03-31T15:19:21.935Z"
   },
   {
    "duration": 63,
    "start_time": "2023-03-31T15:19:22.051Z"
   },
   {
    "duration": 520,
    "start_time": "2023-03-31T15:19:22.122Z"
   },
   {
    "duration": 179,
    "start_time": "2023-03-31T15:19:22.648Z"
   },
   {
    "duration": 0,
    "start_time": "2023-03-31T15:19:22.831Z"
   },
   {
    "duration": 0,
    "start_time": "2023-03-31T15:19:22.833Z"
   },
   {
    "duration": 0,
    "start_time": "2023-03-31T15:19:22.836Z"
   },
   {
    "duration": 0,
    "start_time": "2023-03-31T15:19:22.838Z"
   },
   {
    "duration": 0,
    "start_time": "2023-03-31T15:19:22.839Z"
   },
   {
    "duration": 0,
    "start_time": "2023-03-31T15:19:22.840Z"
   },
   {
    "duration": 0,
    "start_time": "2023-03-31T15:19:22.842Z"
   },
   {
    "duration": 1630,
    "start_time": "2023-03-31T15:19:44.222Z"
   },
   {
    "duration": 118,
    "start_time": "2023-03-31T15:19:45.855Z"
   },
   {
    "duration": 9,
    "start_time": "2023-03-31T15:19:45.983Z"
   },
   {
    "duration": 168,
    "start_time": "2023-03-31T15:19:45.997Z"
   },
   {
    "duration": 9,
    "start_time": "2023-03-31T15:19:46.173Z"
   },
   {
    "duration": 137,
    "start_time": "2023-03-31T15:19:46.189Z"
   },
   {
    "duration": 104,
    "start_time": "2023-03-31T15:19:46.337Z"
   },
   {
    "duration": 65,
    "start_time": "2023-03-31T15:19:46.444Z"
   },
   {
    "duration": 78,
    "start_time": "2023-03-31T15:19:46.511Z"
   },
   {
    "duration": 112,
    "start_time": "2023-03-31T15:19:46.591Z"
   },
   {
    "duration": 99,
    "start_time": "2023-03-31T15:19:46.705Z"
   },
   {
    "duration": 50,
    "start_time": "2023-03-31T15:19:46.806Z"
   },
   {
    "duration": 47,
    "start_time": "2023-03-31T15:19:46.858Z"
   },
   {
    "duration": 78,
    "start_time": "2023-03-31T15:19:46.909Z"
   },
   {
    "duration": 16,
    "start_time": "2023-03-31T15:19:46.989Z"
   },
   {
    "duration": 45,
    "start_time": "2023-03-31T15:19:47.007Z"
   },
   {
    "duration": 267,
    "start_time": "2023-03-31T15:19:47.059Z"
   },
   {
    "duration": 162,
    "start_time": "2023-03-31T15:19:47.337Z"
   },
   {
    "duration": 203,
    "start_time": "2023-03-31T15:19:47.500Z"
   },
   {
    "duration": 34,
    "start_time": "2023-03-31T15:19:47.705Z"
   },
   {
    "duration": 239,
    "start_time": "2023-03-31T15:19:47.740Z"
   },
   {
    "duration": 2895,
    "start_time": "2023-03-31T15:19:47.983Z"
   },
   {
    "duration": 14,
    "start_time": "2023-03-31T15:19:50.882Z"
   },
   {
    "duration": 490,
    "start_time": "2023-03-31T15:19:50.900Z"
   },
   {
    "duration": 414,
    "start_time": "2023-03-31T15:19:51.396Z"
   },
   {
    "duration": 197,
    "start_time": "2023-03-31T15:19:51.812Z"
   },
   {
    "duration": 18,
    "start_time": "2023-03-31T15:19:52.011Z"
   },
   {
    "duration": 77,
    "start_time": "2023-03-31T15:19:52.030Z"
   },
   {
    "duration": 189,
    "start_time": "2023-03-31T15:19:52.110Z"
   },
   {
    "duration": 75,
    "start_time": "2023-03-31T15:19:52.301Z"
   },
   {
    "duration": 118,
    "start_time": "2023-03-31T15:19:52.378Z"
   },
   {
    "duration": 540,
    "start_time": "2023-03-31T15:19:52.499Z"
   },
   {
    "duration": 568,
    "start_time": "2023-03-31T15:19:53.041Z"
   },
   {
    "duration": 31,
    "start_time": "2023-03-31T15:19:53.611Z"
   },
   {
    "duration": 71,
    "start_time": "2023-03-31T15:19:53.648Z"
   },
   {
    "duration": 816,
    "start_time": "2023-03-31T15:19:53.721Z"
   },
   {
    "duration": 540,
    "start_time": "2023-03-31T15:19:54.538Z"
   },
   {
    "duration": 24,
    "start_time": "2023-03-31T15:19:55.083Z"
   },
   {
    "duration": 535,
    "start_time": "2023-03-31T15:19:55.109Z"
   },
   {
    "duration": 20,
    "start_time": "2023-03-31T15:21:22.705Z"
   },
   {
    "duration": 566,
    "start_time": "2023-03-31T15:21:23.713Z"
   },
   {
    "duration": 30,
    "start_time": "2023-03-31T15:21:55.544Z"
   },
   {
    "duration": 565,
    "start_time": "2023-03-31T15:21:56.283Z"
   },
   {
    "duration": 1448,
    "start_time": "2023-03-31T15:27:20.617Z"
   },
   {
    "duration": 69,
    "start_time": "2023-03-31T15:27:22.069Z"
   },
   {
    "duration": 7,
    "start_time": "2023-03-31T15:27:22.140Z"
   },
   {
    "duration": 151,
    "start_time": "2023-03-31T15:27:22.149Z"
   },
   {
    "duration": 5,
    "start_time": "2023-03-31T15:27:22.304Z"
   },
   {
    "duration": 100,
    "start_time": "2023-03-31T15:27:22.311Z"
   },
   {
    "duration": 97,
    "start_time": "2023-03-31T15:27:22.414Z"
   },
   {
    "duration": 83,
    "start_time": "2023-03-31T15:27:22.513Z"
   },
   {
    "duration": 80,
    "start_time": "2023-03-31T15:27:22.599Z"
   },
   {
    "duration": 29,
    "start_time": "2023-03-31T15:27:22.684Z"
   },
   {
    "duration": 94,
    "start_time": "2023-03-31T15:27:22.715Z"
   },
   {
    "duration": 81,
    "start_time": "2023-03-31T15:27:22.812Z"
   },
   {
    "duration": 92,
    "start_time": "2023-03-31T15:27:22.895Z"
   },
   {
    "duration": 39,
    "start_time": "2023-03-31T15:27:22.992Z"
   },
   {
    "duration": 73,
    "start_time": "2023-03-31T15:27:23.034Z"
   },
   {
    "duration": 17,
    "start_time": "2023-03-31T15:27:23.109Z"
   },
   {
    "duration": 293,
    "start_time": "2023-03-31T15:27:23.128Z"
   },
   {
    "duration": 163,
    "start_time": "2023-03-31T15:27:23.427Z"
   },
   {
    "duration": 206,
    "start_time": "2023-03-31T15:27:23.592Z"
   },
   {
    "duration": 44,
    "start_time": "2023-03-31T15:27:23.800Z"
   },
   {
    "duration": 226,
    "start_time": "2023-03-31T15:27:23.852Z"
   },
   {
    "duration": 2583,
    "start_time": "2023-03-31T15:27:24.080Z"
   },
   {
    "duration": 11,
    "start_time": "2023-03-31T15:27:26.665Z"
   },
   {
    "duration": 417,
    "start_time": "2023-03-31T15:27:26.679Z"
   },
   {
    "duration": 418,
    "start_time": "2023-03-31T15:27:27.099Z"
   },
   {
    "duration": 178,
    "start_time": "2023-03-31T15:27:27.527Z"
   },
   {
    "duration": 43,
    "start_time": "2023-03-31T15:27:27.707Z"
   },
   {
    "duration": 56,
    "start_time": "2023-03-31T15:27:27.757Z"
   },
   {
    "duration": 42,
    "start_time": "2023-03-31T15:27:27.816Z"
   },
   {
    "duration": 63,
    "start_time": "2023-03-31T15:27:27.865Z"
   },
   {
    "duration": 71,
    "start_time": "2023-03-31T15:27:27.935Z"
   },
   {
    "duration": 368,
    "start_time": "2023-03-31T15:27:28.008Z"
   },
   {
    "duration": 456,
    "start_time": "2023-03-31T15:27:28.378Z"
   },
   {
    "duration": 19,
    "start_time": "2023-03-31T15:27:28.836Z"
   },
   {
    "duration": 243,
    "start_time": "2023-03-31T15:27:28.857Z"
   },
   {
    "duration": 0,
    "start_time": "2023-03-31T15:27:29.102Z"
   },
   {
    "duration": 0,
    "start_time": "2023-03-31T15:27:29.105Z"
   },
   {
    "duration": 0,
    "start_time": "2023-03-31T15:27:29.107Z"
   },
   {
    "duration": 0,
    "start_time": "2023-03-31T15:27:29.108Z"
   },
   {
    "duration": 0,
    "start_time": "2023-03-31T15:27:29.110Z"
   },
   {
    "duration": 0,
    "start_time": "2023-03-31T15:27:29.112Z"
   },
   {
    "duration": 0,
    "start_time": "2023-03-31T15:27:29.114Z"
   },
   {
    "duration": 0,
    "start_time": "2023-03-31T15:27:29.125Z"
   },
   {
    "duration": 0,
    "start_time": "2023-03-31T15:27:29.126Z"
   },
   {
    "duration": 0,
    "start_time": "2023-03-31T15:27:29.127Z"
   },
   {
    "duration": 0,
    "start_time": "2023-03-31T15:27:29.128Z"
   },
   {
    "duration": 431,
    "start_time": "2023-03-31T15:28:09.951Z"
   },
   {
    "duration": 1433,
    "start_time": "2023-04-03T17:05:44.999Z"
   },
   {
    "duration": 104,
    "start_time": "2023-04-03T17:05:46.435Z"
   },
   {
    "duration": 5,
    "start_time": "2023-04-03T17:05:46.541Z"
   },
   {
    "duration": 98,
    "start_time": "2023-04-03T17:05:46.548Z"
   },
   {
    "duration": 4,
    "start_time": "2023-04-03T17:05:46.649Z"
   },
   {
    "duration": 46,
    "start_time": "2023-04-03T17:05:46.655Z"
   },
   {
    "duration": 27,
    "start_time": "2023-04-03T17:05:46.704Z"
   },
   {
    "duration": 17,
    "start_time": "2023-04-03T17:05:46.733Z"
   },
   {
    "duration": 13,
    "start_time": "2023-04-03T17:05:46.752Z"
   },
   {
    "duration": 9,
    "start_time": "2023-04-03T17:05:46.768Z"
   },
   {
    "duration": 16,
    "start_time": "2023-04-03T17:05:46.779Z"
   },
   {
    "duration": 30,
    "start_time": "2023-04-03T17:05:46.797Z"
   },
   {
    "duration": 12,
    "start_time": "2023-04-03T17:05:46.829Z"
   },
   {
    "duration": 26,
    "start_time": "2023-04-03T17:05:46.844Z"
   },
   {
    "duration": 13,
    "start_time": "2023-04-03T17:05:46.871Z"
   },
   {
    "duration": 4,
    "start_time": "2023-04-03T17:05:46.886Z"
   },
   {
    "duration": 203,
    "start_time": "2023-04-03T17:05:46.892Z"
   },
   {
    "duration": 144,
    "start_time": "2023-04-03T17:05:47.097Z"
   },
   {
    "duration": 182,
    "start_time": "2023-04-03T17:05:47.242Z"
   },
   {
    "duration": 20,
    "start_time": "2023-04-03T17:05:47.425Z"
   },
   {
    "duration": 224,
    "start_time": "2023-04-03T17:05:47.447Z"
   },
   {
    "duration": 2181,
    "start_time": "2023-04-03T17:05:47.674Z"
   },
   {
    "duration": 8,
    "start_time": "2023-04-03T17:05:49.857Z"
   },
   {
    "duration": 325,
    "start_time": "2023-04-03T17:05:49.867Z"
   },
   {
    "duration": 390,
    "start_time": "2023-04-03T17:05:50.194Z"
   },
   {
    "duration": 174,
    "start_time": "2023-04-03T17:05:50.586Z"
   },
   {
    "duration": 10,
    "start_time": "2023-04-03T17:05:50.762Z"
   },
   {
    "duration": 28,
    "start_time": "2023-04-03T17:05:50.774Z"
   },
   {
    "duration": 20,
    "start_time": "2023-04-03T17:05:50.804Z"
   },
   {
    "duration": 31,
    "start_time": "2023-04-03T17:05:50.826Z"
   },
   {
    "duration": 25,
    "start_time": "2023-04-03T17:05:50.859Z"
   },
   {
    "duration": 304,
    "start_time": "2023-04-03T17:05:50.886Z"
   },
   {
    "duration": 393,
    "start_time": "2023-04-03T17:05:51.193Z"
   },
   {
    "duration": 17,
    "start_time": "2023-04-03T17:05:51.588Z"
   },
   {
    "duration": 265,
    "start_time": "2023-04-03T17:05:51.607Z"
   },
   {
    "duration": 351,
    "start_time": "2023-04-03T17:05:51.874Z"
   },
   {
    "duration": 128,
    "start_time": "2023-04-03T17:05:52.227Z"
   },
   {
    "duration": 0,
    "start_time": "2023-04-03T17:05:52.356Z"
   },
   {
    "duration": 0,
    "start_time": "2023-04-03T17:05:52.358Z"
   },
   {
    "duration": 0,
    "start_time": "2023-04-03T17:05:52.359Z"
   },
   {
    "duration": 0,
    "start_time": "2023-04-03T17:05:52.360Z"
   },
   {
    "duration": 0,
    "start_time": "2023-04-03T17:05:52.361Z"
   },
   {
    "duration": 0,
    "start_time": "2023-04-03T17:05:52.366Z"
   },
   {
    "duration": 0,
    "start_time": "2023-04-03T17:05:52.367Z"
   },
   {
    "duration": 0,
    "start_time": "2023-04-03T17:05:52.369Z"
   },
   {
    "duration": 0,
    "start_time": "2023-04-03T17:05:52.370Z"
   },
   {
    "duration": 1284,
    "start_time": "2023-04-03T17:07:58.075Z"
   },
   {
    "duration": 49,
    "start_time": "2023-04-03T17:07:59.361Z"
   },
   {
    "duration": 3,
    "start_time": "2023-04-03T17:07:59.412Z"
   },
   {
    "duration": 79,
    "start_time": "2023-04-03T17:07:59.416Z"
   },
   {
    "duration": 3,
    "start_time": "2023-04-03T17:07:59.498Z"
   },
   {
    "duration": 52,
    "start_time": "2023-04-03T17:07:59.502Z"
   },
   {
    "duration": 15,
    "start_time": "2023-04-03T17:07:59.556Z"
   },
   {
    "duration": 30,
    "start_time": "2023-04-03T17:07:59.573Z"
   },
   {
    "duration": 15,
    "start_time": "2023-04-03T17:07:59.604Z"
   },
   {
    "duration": 18,
    "start_time": "2023-04-03T17:07:59.623Z"
   },
   {
    "duration": 11,
    "start_time": "2023-04-03T17:07:59.644Z"
   },
   {
    "duration": 6,
    "start_time": "2023-04-03T17:07:59.657Z"
   },
   {
    "duration": 20,
    "start_time": "2023-04-03T17:07:59.664Z"
   },
   {
    "duration": 19,
    "start_time": "2023-04-03T17:07:59.688Z"
   },
   {
    "duration": 35,
    "start_time": "2023-04-03T17:07:59.710Z"
   },
   {
    "duration": 21,
    "start_time": "2023-04-03T17:07:59.747Z"
   },
   {
    "duration": 222,
    "start_time": "2023-04-03T17:07:59.770Z"
   },
   {
    "duration": 155,
    "start_time": "2023-04-03T17:07:59.994Z"
   },
   {
    "duration": 197,
    "start_time": "2023-04-03T17:08:00.151Z"
   },
   {
    "duration": 25,
    "start_time": "2023-04-03T17:08:00.351Z"
   },
   {
    "duration": 248,
    "start_time": "2023-04-03T17:08:00.378Z"
   },
   {
    "duration": 2361,
    "start_time": "2023-04-03T17:08:00.628Z"
   },
   {
    "duration": 8,
    "start_time": "2023-04-03T17:08:02.991Z"
   },
   {
    "duration": 348,
    "start_time": "2023-04-03T17:08:03.000Z"
   },
   {
    "duration": 357,
    "start_time": "2023-04-03T17:08:03.350Z"
   },
   {
    "duration": 146,
    "start_time": "2023-04-03T17:08:03.709Z"
   },
   {
    "duration": 12,
    "start_time": "2023-04-03T17:08:03.857Z"
   },
   {
    "duration": 21,
    "start_time": "2023-04-03T17:08:03.870Z"
   },
   {
    "duration": 13,
    "start_time": "2023-04-03T17:08:03.893Z"
   },
   {
    "duration": 12,
    "start_time": "2023-04-03T17:08:03.924Z"
   },
   {
    "duration": 12,
    "start_time": "2023-04-03T17:08:03.937Z"
   },
   {
    "duration": 334,
    "start_time": "2023-04-03T17:08:03.951Z"
   },
   {
    "duration": 376,
    "start_time": "2023-04-03T17:08:04.287Z"
   },
   {
    "duration": 17,
    "start_time": "2023-04-03T17:08:04.664Z"
   },
   {
    "duration": 269,
    "start_time": "2023-04-03T17:08:04.682Z"
   },
   {
    "duration": 349,
    "start_time": "2023-04-03T17:08:04.953Z"
   },
   {
    "duration": 253,
    "start_time": "2023-04-03T17:08:05.304Z"
   },
   {
    "duration": 17,
    "start_time": "2023-04-03T17:08:05.559Z"
   },
   {
    "duration": 45,
    "start_time": "2023-04-03T17:08:05.579Z"
   },
   {
    "duration": 24,
    "start_time": "2023-04-03T17:08:05.627Z"
   },
   {
    "duration": 10,
    "start_time": "2023-04-03T17:08:05.656Z"
   },
   {
    "duration": 20,
    "start_time": "2023-04-03T17:08:05.667Z"
   },
   {
    "duration": 43,
    "start_time": "2023-04-03T17:08:05.689Z"
   },
   {
    "duration": 19,
    "start_time": "2023-04-03T17:08:05.734Z"
   },
   {
    "duration": 17,
    "start_time": "2023-04-03T17:08:05.755Z"
   },
   {
    "duration": 7,
    "start_time": "2023-04-03T17:08:05.774Z"
   },
   {
    "duration": 104,
    "start_time": "2023-04-03T17:13:53.167Z"
   },
   {
    "duration": 15,
    "start_time": "2023-04-03T17:17:10.719Z"
   },
   {
    "duration": 16,
    "start_time": "2023-04-03T17:17:22.862Z"
   },
   {
    "duration": 12,
    "start_time": "2023-04-03T17:29:25.456Z"
   },
   {
    "duration": 1305,
    "start_time": "2023-04-03T17:29:34.155Z"
   },
   {
    "duration": 53,
    "start_time": "2023-04-03T17:29:35.462Z"
   },
   {
    "duration": 4,
    "start_time": "2023-04-03T17:29:35.517Z"
   },
   {
    "duration": 123,
    "start_time": "2023-04-03T17:29:35.524Z"
   },
   {
    "duration": 5,
    "start_time": "2023-04-03T17:29:35.650Z"
   },
   {
    "duration": 48,
    "start_time": "2023-04-03T17:29:35.656Z"
   },
   {
    "duration": 19,
    "start_time": "2023-04-03T17:29:35.706Z"
   },
   {
    "duration": 145,
    "start_time": "2023-04-03T17:29:35.727Z"
   },
   {
    "duration": 0,
    "start_time": "2023-04-03T17:29:35.875Z"
   },
   {
    "duration": 1,
    "start_time": "2023-04-03T17:29:35.876Z"
   },
   {
    "duration": 0,
    "start_time": "2023-04-03T17:29:35.878Z"
   },
   {
    "duration": 0,
    "start_time": "2023-04-03T17:29:35.879Z"
   },
   {
    "duration": 0,
    "start_time": "2023-04-03T17:29:35.881Z"
   },
   {
    "duration": 0,
    "start_time": "2023-04-03T17:29:35.883Z"
   },
   {
    "duration": 0,
    "start_time": "2023-04-03T17:29:35.885Z"
   },
   {
    "duration": 0,
    "start_time": "2023-04-03T17:29:35.887Z"
   },
   {
    "duration": 0,
    "start_time": "2023-04-03T17:29:35.888Z"
   },
   {
    "duration": 0,
    "start_time": "2023-04-03T17:29:35.890Z"
   },
   {
    "duration": 0,
    "start_time": "2023-04-03T17:29:35.891Z"
   },
   {
    "duration": 0,
    "start_time": "2023-04-03T17:29:35.892Z"
   },
   {
    "duration": 0,
    "start_time": "2023-04-03T17:29:35.894Z"
   },
   {
    "duration": 0,
    "start_time": "2023-04-03T17:29:35.895Z"
   },
   {
    "duration": 0,
    "start_time": "2023-04-03T17:29:35.923Z"
   },
   {
    "duration": 0,
    "start_time": "2023-04-03T17:29:35.925Z"
   },
   {
    "duration": 0,
    "start_time": "2023-04-03T17:29:35.926Z"
   },
   {
    "duration": 0,
    "start_time": "2023-04-03T17:29:35.928Z"
   },
   {
    "duration": 0,
    "start_time": "2023-04-03T17:29:35.929Z"
   },
   {
    "duration": 0,
    "start_time": "2023-04-03T17:29:35.930Z"
   },
   {
    "duration": 0,
    "start_time": "2023-04-03T17:29:35.931Z"
   },
   {
    "duration": 0,
    "start_time": "2023-04-03T17:29:35.932Z"
   },
   {
    "duration": 0,
    "start_time": "2023-04-03T17:29:35.934Z"
   },
   {
    "duration": 0,
    "start_time": "2023-04-03T17:29:35.935Z"
   },
   {
    "duration": 0,
    "start_time": "2023-04-03T17:29:35.937Z"
   },
   {
    "duration": 0,
    "start_time": "2023-04-03T17:29:35.938Z"
   },
   {
    "duration": 0,
    "start_time": "2023-04-03T17:29:35.940Z"
   },
   {
    "duration": 1,
    "start_time": "2023-04-03T17:29:35.941Z"
   },
   {
    "duration": 0,
    "start_time": "2023-04-03T17:29:35.943Z"
   },
   {
    "duration": 0,
    "start_time": "2023-04-03T17:29:35.944Z"
   },
   {
    "duration": 0,
    "start_time": "2023-04-03T17:29:35.946Z"
   },
   {
    "duration": 0,
    "start_time": "2023-04-03T17:29:35.947Z"
   },
   {
    "duration": 0,
    "start_time": "2023-04-03T17:29:35.949Z"
   },
   {
    "duration": 0,
    "start_time": "2023-04-03T17:29:35.951Z"
   },
   {
    "duration": 0,
    "start_time": "2023-04-03T17:29:35.952Z"
   },
   {
    "duration": 0,
    "start_time": "2023-04-03T17:29:35.953Z"
   },
   {
    "duration": 0,
    "start_time": "2023-04-03T17:29:35.954Z"
   },
   {
    "duration": 0,
    "start_time": "2023-04-03T17:29:35.956Z"
   },
   {
    "duration": 0,
    "start_time": "2023-04-03T17:29:35.959Z"
   },
   {
    "duration": 1219,
    "start_time": "2023-04-03T17:30:26.075Z"
   },
   {
    "duration": 57,
    "start_time": "2023-04-03T17:30:27.296Z"
   },
   {
    "duration": 3,
    "start_time": "2023-04-03T17:30:27.355Z"
   },
   {
    "duration": 85,
    "start_time": "2023-04-03T17:30:27.360Z"
   },
   {
    "duration": 3,
    "start_time": "2023-04-03T17:30:27.448Z"
   },
   {
    "duration": 24,
    "start_time": "2023-04-03T17:30:27.453Z"
   },
   {
    "duration": 6,
    "start_time": "2023-04-03T17:30:27.479Z"
   },
   {
    "duration": 36,
    "start_time": "2023-04-03T17:30:27.487Z"
   },
   {
    "duration": 18,
    "start_time": "2023-04-03T17:30:27.525Z"
   },
   {
    "duration": 15,
    "start_time": "2023-04-03T17:30:27.545Z"
   },
   {
    "duration": 10,
    "start_time": "2023-04-03T17:30:27.563Z"
   },
   {
    "duration": 7,
    "start_time": "2023-04-03T17:30:27.576Z"
   },
   {
    "duration": 38,
    "start_time": "2023-04-03T17:30:27.585Z"
   },
   {
    "duration": 30,
    "start_time": "2023-04-03T17:30:27.629Z"
   },
   {
    "duration": 6,
    "start_time": "2023-04-03T17:30:27.661Z"
   },
   {
    "duration": 11,
    "start_time": "2023-04-03T17:30:27.668Z"
   },
   {
    "duration": 221,
    "start_time": "2023-04-03T17:30:27.681Z"
   },
   {
    "duration": 150,
    "start_time": "2023-04-03T17:30:27.904Z"
   },
   {
    "duration": 176,
    "start_time": "2023-04-03T17:30:28.056Z"
   },
   {
    "duration": 21,
    "start_time": "2023-04-03T17:30:28.234Z"
   },
   {
    "duration": 212,
    "start_time": "2023-04-03T17:30:28.257Z"
   },
   {
    "duration": 2430,
    "start_time": "2023-04-03T17:30:28.471Z"
   },
   {
    "duration": 20,
    "start_time": "2023-04-03T17:30:30.903Z"
   },
   {
    "duration": 331,
    "start_time": "2023-04-03T17:30:30.925Z"
   },
   {
    "duration": 321,
    "start_time": "2023-04-03T17:30:31.258Z"
   },
   {
    "duration": 150,
    "start_time": "2023-04-03T17:30:31.581Z"
   },
   {
    "duration": 11,
    "start_time": "2023-04-03T17:30:31.733Z"
   },
   {
    "duration": 24,
    "start_time": "2023-04-03T17:30:31.747Z"
   },
   {
    "duration": 33,
    "start_time": "2023-04-03T17:30:31.773Z"
   },
   {
    "duration": 16,
    "start_time": "2023-04-03T17:30:31.809Z"
   },
   {
    "duration": 19,
    "start_time": "2023-04-03T17:30:31.828Z"
   },
   {
    "duration": 301,
    "start_time": "2023-04-03T17:30:31.849Z"
   },
   {
    "duration": 377,
    "start_time": "2023-04-03T17:30:32.152Z"
   },
   {
    "duration": 17,
    "start_time": "2023-04-03T17:30:32.532Z"
   },
   {
    "duration": 259,
    "start_time": "2023-04-03T17:30:32.550Z"
   },
   {
    "duration": 365,
    "start_time": "2023-04-03T17:30:32.811Z"
   },
   {
    "duration": 245,
    "start_time": "2023-04-03T17:30:33.178Z"
   },
   {
    "duration": 17,
    "start_time": "2023-04-03T17:30:33.425Z"
   },
   {
    "duration": 19,
    "start_time": "2023-04-03T17:30:33.444Z"
   },
   {
    "duration": 24,
    "start_time": "2023-04-03T17:30:33.464Z"
   },
   {
    "duration": 18,
    "start_time": "2023-04-03T17:30:33.492Z"
   },
   {
    "duration": 21,
    "start_time": "2023-04-03T17:30:33.524Z"
   },
   {
    "duration": 11,
    "start_time": "2023-04-03T17:30:33.547Z"
   },
   {
    "duration": 14,
    "start_time": "2023-04-03T17:30:33.560Z"
   },
   {
    "duration": 24,
    "start_time": "2023-04-03T17:30:33.576Z"
   },
   {
    "duration": 25,
    "start_time": "2023-04-03T17:30:33.602Z"
   },
   {
    "duration": 145,
    "start_time": "2023-04-03T17:31:12.141Z"
   },
   {
    "duration": 9,
    "start_time": "2023-04-03T17:31:23.479Z"
   },
   {
    "duration": 138,
    "start_time": "2023-04-03T17:31:27.904Z"
   },
   {
    "duration": 1357,
    "start_time": "2023-04-03T17:31:33.160Z"
   },
   {
    "duration": 51,
    "start_time": "2023-04-03T17:31:34.522Z"
   },
   {
    "duration": 4,
    "start_time": "2023-04-03T17:31:34.575Z"
   },
   {
    "duration": 81,
    "start_time": "2023-04-03T17:31:34.581Z"
   },
   {
    "duration": 3,
    "start_time": "2023-04-03T17:31:34.664Z"
   },
   {
    "duration": 26,
    "start_time": "2023-04-03T17:31:34.669Z"
   },
   {
    "duration": 30,
    "start_time": "2023-04-03T17:31:34.697Z"
   },
   {
    "duration": 15,
    "start_time": "2023-04-03T17:31:34.729Z"
   },
   {
    "duration": 19,
    "start_time": "2023-04-03T17:31:34.747Z"
   },
   {
    "duration": 31,
    "start_time": "2023-04-03T17:31:34.769Z"
   },
   {
    "duration": 31,
    "start_time": "2023-04-03T17:31:34.802Z"
   },
   {
    "duration": 6,
    "start_time": "2023-04-03T17:31:34.835Z"
   },
   {
    "duration": 10,
    "start_time": "2023-04-03T17:31:34.843Z"
   },
   {
    "duration": 20,
    "start_time": "2023-04-03T17:31:34.855Z"
   },
   {
    "duration": 10,
    "start_time": "2023-04-03T17:31:34.877Z"
   },
   {
    "duration": 5,
    "start_time": "2023-04-03T17:31:34.889Z"
   },
   {
    "duration": 215,
    "start_time": "2023-04-03T17:31:34.896Z"
   },
   {
    "duration": 151,
    "start_time": "2023-04-03T17:31:35.113Z"
   },
   {
    "duration": 176,
    "start_time": "2023-04-03T17:31:35.266Z"
   },
   {
    "duration": 26,
    "start_time": "2023-04-03T17:31:35.445Z"
   },
   {
    "duration": 215,
    "start_time": "2023-04-03T17:31:35.473Z"
   },
   {
    "duration": 2222,
    "start_time": "2023-04-03T17:31:35.690Z"
   },
   {
    "duration": 8,
    "start_time": "2023-04-03T17:31:37.923Z"
   },
   {
    "duration": 327,
    "start_time": "2023-04-03T17:31:37.933Z"
   },
   {
    "duration": 321,
    "start_time": "2023-04-03T17:31:38.261Z"
   },
   {
    "duration": 155,
    "start_time": "2023-04-03T17:31:38.585Z"
   },
   {
    "duration": 11,
    "start_time": "2023-04-03T17:31:38.742Z"
   },
   {
    "duration": 13,
    "start_time": "2023-04-03T17:31:38.758Z"
   },
   {
    "duration": 11,
    "start_time": "2023-04-03T17:31:38.781Z"
   },
   {
    "duration": 37,
    "start_time": "2023-04-03T17:31:38.794Z"
   },
   {
    "duration": 12,
    "start_time": "2023-04-03T17:31:38.833Z"
   },
   {
    "duration": 311,
    "start_time": "2023-04-03T17:31:38.847Z"
   },
   {
    "duration": 383,
    "start_time": "2023-04-03T17:31:39.160Z"
   },
   {
    "duration": 18,
    "start_time": "2023-04-03T17:31:39.545Z"
   },
   {
    "duration": 261,
    "start_time": "2023-04-03T17:31:39.565Z"
   },
   {
    "duration": 354,
    "start_time": "2023-04-03T17:31:39.828Z"
   },
   {
    "duration": 323,
    "start_time": "2023-04-03T17:31:40.184Z"
   },
   {
    "duration": 33,
    "start_time": "2023-04-03T17:31:40.510Z"
   },
   {
    "duration": 23,
    "start_time": "2023-04-03T17:31:40.545Z"
   },
   {
    "duration": 19,
    "start_time": "2023-04-03T17:31:40.570Z"
   },
   {
    "duration": 37,
    "start_time": "2023-04-03T17:31:40.591Z"
   },
   {
    "duration": 18,
    "start_time": "2023-04-03T17:31:40.630Z"
   },
   {
    "duration": 13,
    "start_time": "2023-04-03T17:31:40.650Z"
   },
   {
    "duration": 148,
    "start_time": "2023-04-03T17:31:40.665Z"
   },
   {
    "duration": 0,
    "start_time": "2023-04-03T17:31:40.815Z"
   },
   {
    "duration": 0,
    "start_time": "2023-04-03T17:31:40.818Z"
   },
   {
    "duration": 12,
    "start_time": "2023-04-03T17:32:16.696Z"
   },
   {
    "duration": 16,
    "start_time": "2023-04-03T17:32:18.690Z"
   },
   {
    "duration": 144,
    "start_time": "2023-04-03T17:33:24.986Z"
   },
   {
    "duration": 15,
    "start_time": "2023-04-03T17:33:41.494Z"
   },
   {
    "duration": 12,
    "start_time": "2023-04-03T17:33:42.946Z"
   },
   {
    "duration": 11,
    "start_time": "2023-04-03T17:33:44.460Z"
   },
   {
    "duration": 11,
    "start_time": "2023-04-03T17:33:45.388Z"
   },
   {
    "duration": 1298,
    "start_time": "2023-04-03T17:34:01.508Z"
   },
   {
    "duration": 51,
    "start_time": "2023-04-03T17:34:02.808Z"
   },
   {
    "duration": 3,
    "start_time": "2023-04-03T17:34:02.863Z"
   },
   {
    "duration": 101,
    "start_time": "2023-04-03T17:34:02.868Z"
   },
   {
    "duration": 3,
    "start_time": "2023-04-03T17:34:02.971Z"
   },
   {
    "duration": 43,
    "start_time": "2023-04-03T17:34:02.976Z"
   },
   {
    "duration": 7,
    "start_time": "2023-04-03T17:34:03.021Z"
   },
   {
    "duration": 23,
    "start_time": "2023-04-03T17:34:03.030Z"
   },
   {
    "duration": 16,
    "start_time": "2023-04-03T17:34:03.056Z"
   },
   {
    "duration": 31,
    "start_time": "2023-04-03T17:34:03.074Z"
   },
   {
    "duration": 26,
    "start_time": "2023-04-03T17:34:03.107Z"
   },
   {
    "duration": 13,
    "start_time": "2023-04-03T17:34:03.135Z"
   },
   {
    "duration": 13,
    "start_time": "2023-04-03T17:34:03.150Z"
   },
   {
    "duration": 46,
    "start_time": "2023-04-03T17:34:03.166Z"
   },
   {
    "duration": 39,
    "start_time": "2023-04-03T17:34:03.214Z"
   },
   {
    "duration": 35,
    "start_time": "2023-04-03T17:34:03.256Z"
   },
   {
    "duration": 208,
    "start_time": "2023-04-03T17:34:03.292Z"
   },
   {
    "duration": 152,
    "start_time": "2023-04-03T17:34:03.502Z"
   },
   {
    "duration": 183,
    "start_time": "2023-04-03T17:34:03.656Z"
   },
   {
    "duration": 27,
    "start_time": "2023-04-03T17:34:03.842Z"
   },
   {
    "duration": 230,
    "start_time": "2023-04-03T17:34:03.871Z"
   },
   {
    "duration": 2274,
    "start_time": "2023-04-03T17:34:04.102Z"
   },
   {
    "duration": 10,
    "start_time": "2023-04-03T17:34:06.378Z"
   },
   {
    "duration": 334,
    "start_time": "2023-04-03T17:34:06.390Z"
   },
   {
    "duration": 365,
    "start_time": "2023-04-03T17:34:06.726Z"
   },
   {
    "duration": 176,
    "start_time": "2023-04-03T17:34:07.093Z"
   },
   {
    "duration": 16,
    "start_time": "2023-04-03T17:34:07.276Z"
   },
   {
    "duration": 35,
    "start_time": "2023-04-03T17:34:07.294Z"
   },
   {
    "duration": 13,
    "start_time": "2023-04-03T17:34:07.332Z"
   },
   {
    "duration": 27,
    "start_time": "2023-04-03T17:34:07.347Z"
   },
   {
    "duration": 27,
    "start_time": "2023-04-03T17:34:07.375Z"
   },
   {
    "duration": 314,
    "start_time": "2023-04-03T17:34:07.404Z"
   },
   {
    "duration": 381,
    "start_time": "2023-04-03T17:34:07.719Z"
   },
   {
    "duration": 22,
    "start_time": "2023-04-03T17:34:08.103Z"
   },
   {
    "duration": 245,
    "start_time": "2023-04-03T17:34:08.127Z"
   },
   {
    "duration": 353,
    "start_time": "2023-04-03T17:34:08.374Z"
   },
   {
    "duration": 265,
    "start_time": "2023-04-03T17:34:08.730Z"
   },
   {
    "duration": 28,
    "start_time": "2023-04-03T17:34:08.997Z"
   },
   {
    "duration": 22,
    "start_time": "2023-04-03T17:34:09.028Z"
   },
   {
    "duration": 17,
    "start_time": "2023-04-03T17:34:09.052Z"
   },
   {
    "duration": 9,
    "start_time": "2023-04-03T17:34:09.070Z"
   },
   {
    "duration": 52,
    "start_time": "2023-04-03T17:34:09.080Z"
   },
   {
    "duration": 12,
    "start_time": "2023-04-03T17:34:09.135Z"
   },
   {
    "duration": 128,
    "start_time": "2023-04-03T17:34:09.149Z"
   },
   {
    "duration": 0,
    "start_time": "2023-04-03T17:34:09.279Z"
   },
   {
    "duration": 0,
    "start_time": "2023-04-03T17:34:09.281Z"
   },
   {
    "duration": 104,
    "start_time": "2023-04-03T17:39:03.877Z"
   },
   {
    "duration": 96,
    "start_time": "2023-04-03T17:39:54.123Z"
   },
   {
    "duration": 285,
    "start_time": "2023-04-03T17:40:10.254Z"
   },
   {
    "duration": 1448,
    "start_time": "2023-04-03T17:42:31.110Z"
   },
   {
    "duration": 51,
    "start_time": "2023-04-03T17:42:32.560Z"
   },
   {
    "duration": 3,
    "start_time": "2023-04-03T17:42:32.613Z"
   },
   {
    "duration": 83,
    "start_time": "2023-04-03T17:42:32.619Z"
   },
   {
    "duration": 18,
    "start_time": "2023-04-03T17:42:32.706Z"
   },
   {
    "duration": 26,
    "start_time": "2023-04-03T17:42:32.726Z"
   },
   {
    "duration": 6,
    "start_time": "2023-04-03T17:42:32.754Z"
   },
   {
    "duration": 145,
    "start_time": "2023-04-03T17:42:32.762Z"
   },
   {
    "duration": 0,
    "start_time": "2023-04-03T17:42:32.912Z"
   },
   {
    "duration": 1,
    "start_time": "2023-04-03T17:42:32.913Z"
   },
   {
    "duration": 0,
    "start_time": "2023-04-03T17:42:32.915Z"
   },
   {
    "duration": 0,
    "start_time": "2023-04-03T17:42:32.916Z"
   },
   {
    "duration": 0,
    "start_time": "2023-04-03T17:42:32.924Z"
   },
   {
    "duration": 0,
    "start_time": "2023-04-03T17:42:32.925Z"
   },
   {
    "duration": 0,
    "start_time": "2023-04-03T17:42:32.927Z"
   },
   {
    "duration": 0,
    "start_time": "2023-04-03T17:42:32.928Z"
   },
   {
    "duration": 0,
    "start_time": "2023-04-03T17:42:32.930Z"
   },
   {
    "duration": 0,
    "start_time": "2023-04-03T17:42:32.931Z"
   },
   {
    "duration": 0,
    "start_time": "2023-04-03T17:42:32.933Z"
   },
   {
    "duration": 0,
    "start_time": "2023-04-03T17:42:32.934Z"
   },
   {
    "duration": 0,
    "start_time": "2023-04-03T17:42:32.936Z"
   },
   {
    "duration": 0,
    "start_time": "2023-04-03T17:42:32.938Z"
   },
   {
    "duration": 0,
    "start_time": "2023-04-03T17:42:32.939Z"
   },
   {
    "duration": 0,
    "start_time": "2023-04-03T17:42:32.940Z"
   },
   {
    "duration": 0,
    "start_time": "2023-04-03T17:42:32.942Z"
   },
   {
    "duration": 0,
    "start_time": "2023-04-03T17:42:32.944Z"
   },
   {
    "duration": 0,
    "start_time": "2023-04-03T17:42:32.946Z"
   },
   {
    "duration": 0,
    "start_time": "2023-04-03T17:42:32.948Z"
   },
   {
    "duration": 0,
    "start_time": "2023-04-03T17:42:32.949Z"
   },
   {
    "duration": 0,
    "start_time": "2023-04-03T17:42:32.951Z"
   },
   {
    "duration": 0,
    "start_time": "2023-04-03T17:42:32.954Z"
   },
   {
    "duration": 0,
    "start_time": "2023-04-03T17:42:32.955Z"
   },
   {
    "duration": 0,
    "start_time": "2023-04-03T17:42:32.957Z"
   },
   {
    "duration": 0,
    "start_time": "2023-04-03T17:42:32.958Z"
   },
   {
    "duration": 0,
    "start_time": "2023-04-03T17:42:32.960Z"
   },
   {
    "duration": 0,
    "start_time": "2023-04-03T17:42:33.024Z"
   },
   {
    "duration": 0,
    "start_time": "2023-04-03T17:42:33.025Z"
   },
   {
    "duration": 0,
    "start_time": "2023-04-03T17:42:33.027Z"
   },
   {
    "duration": 0,
    "start_time": "2023-04-03T17:42:33.029Z"
   },
   {
    "duration": 0,
    "start_time": "2023-04-03T17:42:33.030Z"
   },
   {
    "duration": 0,
    "start_time": "2023-04-03T17:42:33.031Z"
   },
   {
    "duration": 0,
    "start_time": "2023-04-03T17:42:33.032Z"
   },
   {
    "duration": 0,
    "start_time": "2023-04-03T17:42:33.033Z"
   },
   {
    "duration": 0,
    "start_time": "2023-04-03T17:42:33.035Z"
   },
   {
    "duration": 1,
    "start_time": "2023-04-03T17:42:33.036Z"
   },
   {
    "duration": 0,
    "start_time": "2023-04-03T17:42:33.038Z"
   },
   {
    "duration": 9,
    "start_time": "2023-04-03T17:43:13.224Z"
   },
   {
    "duration": 1245,
    "start_time": "2023-04-03T17:43:21.369Z"
   },
   {
    "duration": 51,
    "start_time": "2023-04-03T17:43:22.616Z"
   },
   {
    "duration": 4,
    "start_time": "2023-04-03T17:43:22.670Z"
   },
   {
    "duration": 96,
    "start_time": "2023-04-03T17:43:22.676Z"
   },
   {
    "duration": 4,
    "start_time": "2023-04-03T17:43:22.775Z"
   },
   {
    "duration": 39,
    "start_time": "2023-04-03T17:43:22.781Z"
   },
   {
    "duration": 6,
    "start_time": "2023-04-03T17:43:22.824Z"
   },
   {
    "duration": 10,
    "start_time": "2023-04-03T17:43:22.832Z"
   },
   {
    "duration": 6,
    "start_time": "2023-04-03T17:43:22.844Z"
   },
   {
    "duration": 17,
    "start_time": "2023-04-03T17:43:22.852Z"
   },
   {
    "duration": 20,
    "start_time": "2023-04-03T17:43:22.871Z"
   },
   {
    "duration": 33,
    "start_time": "2023-04-03T17:43:22.894Z"
   },
   {
    "duration": 7,
    "start_time": "2023-04-03T17:43:22.929Z"
   },
   {
    "duration": 19,
    "start_time": "2023-04-03T17:43:22.940Z"
   },
   {
    "duration": 28,
    "start_time": "2023-04-03T17:43:22.961Z"
   },
   {
    "duration": 9,
    "start_time": "2023-04-03T17:43:22.991Z"
   },
   {
    "duration": 198,
    "start_time": "2023-04-03T17:43:23.002Z"
   },
   {
    "duration": 153,
    "start_time": "2023-04-03T17:43:23.202Z"
   },
   {
    "duration": 180,
    "start_time": "2023-04-03T17:43:23.357Z"
   },
   {
    "duration": 21,
    "start_time": "2023-04-03T17:43:23.539Z"
   },
   {
    "duration": 211,
    "start_time": "2023-04-03T17:43:23.562Z"
   },
   {
    "duration": 2285,
    "start_time": "2023-04-03T17:43:23.775Z"
   },
   {
    "duration": 10,
    "start_time": "2023-04-03T17:43:26.062Z"
   },
   {
    "duration": 319,
    "start_time": "2023-04-03T17:43:26.073Z"
   },
   {
    "duration": 323,
    "start_time": "2023-04-03T17:43:26.394Z"
   },
   {
    "duration": 168,
    "start_time": "2023-04-03T17:43:26.724Z"
   },
   {
    "duration": 13,
    "start_time": "2023-04-03T17:43:26.894Z"
   },
   {
    "duration": 23,
    "start_time": "2023-04-03T17:43:26.908Z"
   },
   {
    "duration": 12,
    "start_time": "2023-04-03T17:43:26.933Z"
   },
   {
    "duration": 10,
    "start_time": "2023-04-03T17:43:26.947Z"
   },
   {
    "duration": 13,
    "start_time": "2023-04-03T17:43:26.959Z"
   },
   {
    "duration": 349,
    "start_time": "2023-04-03T17:43:26.974Z"
   },
   {
    "duration": 398,
    "start_time": "2023-04-03T17:43:27.325Z"
   },
   {
    "duration": 18,
    "start_time": "2023-04-03T17:43:27.725Z"
   },
   {
    "duration": 255,
    "start_time": "2023-04-03T17:43:27.745Z"
   },
   {
    "duration": 361,
    "start_time": "2023-04-03T17:43:28.003Z"
   },
   {
    "duration": 249,
    "start_time": "2023-04-03T17:43:28.366Z"
   },
   {
    "duration": 21,
    "start_time": "2023-04-03T17:43:28.616Z"
   },
   {
    "duration": 17,
    "start_time": "2023-04-03T17:43:28.639Z"
   },
   {
    "duration": 17,
    "start_time": "2023-04-03T17:43:28.658Z"
   },
   {
    "duration": 9,
    "start_time": "2023-04-03T17:43:28.679Z"
   },
   {
    "duration": 60,
    "start_time": "2023-04-03T17:43:28.691Z"
   },
   {
    "duration": 11,
    "start_time": "2023-04-03T17:43:28.753Z"
   },
   {
    "duration": 136,
    "start_time": "2023-04-03T17:43:28.766Z"
   },
   {
    "duration": 0,
    "start_time": "2023-04-03T17:43:28.904Z"
   },
   {
    "duration": 0,
    "start_time": "2023-04-03T17:43:28.906Z"
   },
   {
    "duration": 1239,
    "start_time": "2023-04-03T17:43:56.730Z"
   },
   {
    "duration": 51,
    "start_time": "2023-04-03T17:43:57.970Z"
   },
   {
    "duration": 4,
    "start_time": "2023-04-03T17:43:58.023Z"
   },
   {
    "duration": 73,
    "start_time": "2023-04-03T17:43:58.028Z"
   },
   {
    "duration": 22,
    "start_time": "2023-04-03T17:43:58.103Z"
   },
   {
    "duration": 38,
    "start_time": "2023-04-03T17:43:58.127Z"
   },
   {
    "duration": 8,
    "start_time": "2023-04-03T17:43:58.167Z"
   },
   {
    "duration": 12,
    "start_time": "2023-04-03T17:43:58.177Z"
   },
   {
    "duration": 8,
    "start_time": "2023-04-03T17:43:58.190Z"
   },
   {
    "duration": 34,
    "start_time": "2023-04-03T17:43:58.200Z"
   },
   {
    "duration": 11,
    "start_time": "2023-04-03T17:43:58.236Z"
   },
   {
    "duration": 7,
    "start_time": "2023-04-03T17:43:58.249Z"
   },
   {
    "duration": 13,
    "start_time": "2023-04-03T17:43:58.258Z"
   },
   {
    "duration": 36,
    "start_time": "2023-04-03T17:43:58.276Z"
   },
   {
    "duration": 24,
    "start_time": "2023-04-03T17:43:58.314Z"
   },
   {
    "duration": 25,
    "start_time": "2023-04-03T17:43:58.340Z"
   },
   {
    "duration": 192,
    "start_time": "2023-04-03T17:43:58.367Z"
   },
   {
    "duration": 151,
    "start_time": "2023-04-03T17:43:58.562Z"
   },
   {
    "duration": 195,
    "start_time": "2023-04-03T17:43:58.715Z"
   },
   {
    "duration": 31,
    "start_time": "2023-04-03T17:43:58.913Z"
   },
   {
    "duration": 216,
    "start_time": "2023-04-03T17:43:58.946Z"
   },
   {
    "duration": 2403,
    "start_time": "2023-04-03T17:43:59.164Z"
   },
   {
    "duration": 10,
    "start_time": "2023-04-03T17:44:01.569Z"
   },
   {
    "duration": 339,
    "start_time": "2023-04-03T17:44:01.581Z"
   },
   {
    "duration": 334,
    "start_time": "2023-04-03T17:44:01.922Z"
   },
   {
    "duration": 153,
    "start_time": "2023-04-03T17:44:02.258Z"
   },
   {
    "duration": 17,
    "start_time": "2023-04-03T17:44:02.413Z"
   },
   {
    "duration": 30,
    "start_time": "2023-04-03T17:44:02.432Z"
   },
   {
    "duration": 22,
    "start_time": "2023-04-03T17:44:02.464Z"
   },
   {
    "duration": 11,
    "start_time": "2023-04-03T17:44:02.488Z"
   },
   {
    "duration": 21,
    "start_time": "2023-04-03T17:44:02.501Z"
   },
   {
    "duration": 313,
    "start_time": "2023-04-03T17:44:02.524Z"
   },
   {
    "duration": 386,
    "start_time": "2023-04-03T17:44:02.840Z"
   },
   {
    "duration": 17,
    "start_time": "2023-04-03T17:44:03.228Z"
   },
   {
    "duration": 248,
    "start_time": "2023-04-03T17:44:03.247Z"
   },
   {
    "duration": 349,
    "start_time": "2023-04-03T17:44:03.497Z"
   },
   {
    "duration": 241,
    "start_time": "2023-04-03T17:44:03.847Z"
   },
   {
    "duration": 18,
    "start_time": "2023-04-03T17:44:04.091Z"
   },
   {
    "duration": 17,
    "start_time": "2023-04-03T17:44:04.124Z"
   },
   {
    "duration": 21,
    "start_time": "2023-04-03T17:44:04.143Z"
   },
   {
    "duration": 8,
    "start_time": "2023-04-03T17:44:04.168Z"
   },
   {
    "duration": 51,
    "start_time": "2023-04-03T17:44:04.178Z"
   },
   {
    "duration": 11,
    "start_time": "2023-04-03T17:44:04.232Z"
   },
   {
    "duration": 19,
    "start_time": "2023-04-03T17:44:04.245Z"
   },
   {
    "duration": 16,
    "start_time": "2023-04-03T17:44:04.266Z"
   },
   {
    "duration": 11,
    "start_time": "2023-04-03T17:44:04.284Z"
   },
   {
    "duration": 98,
    "start_time": "2023-04-03T17:44:17.434Z"
   },
   {
    "duration": 113,
    "start_time": "2023-04-03T17:45:01.323Z"
   },
   {
    "duration": 5,
    "start_time": "2023-04-03T17:45:03.811Z"
   },
   {
    "duration": 170,
    "start_time": "2023-04-03T17:52:32.345Z"
   },
   {
    "duration": 170,
    "start_time": "2023-04-03T17:52:37.502Z"
   },
   {
    "duration": 131,
    "start_time": "2023-04-03T17:52:38.947Z"
   },
   {
    "duration": 176,
    "start_time": "2023-04-03T17:54:06.567Z"
   },
   {
    "duration": 190,
    "start_time": "2023-04-03T17:54:10.301Z"
   },
   {
    "duration": 169,
    "start_time": "2023-04-03T17:54:14.754Z"
   },
   {
    "duration": 163,
    "start_time": "2023-04-03T17:54:18.862Z"
   },
   {
    "duration": 182,
    "start_time": "2023-04-03T17:54:22.329Z"
   },
   {
    "duration": 151,
    "start_time": "2023-04-03T17:54:43.649Z"
   },
   {
    "duration": 155,
    "start_time": "2023-04-03T17:54:47.554Z"
   },
   {
    "duration": 299,
    "start_time": "2023-04-03T17:54:51.993Z"
   },
   {
    "duration": 168,
    "start_time": "2023-04-03T17:55:57.039Z"
   },
   {
    "duration": 180,
    "start_time": "2023-04-03T17:56:02.795Z"
   },
   {
    "duration": 184,
    "start_time": "2023-04-03T17:56:14.005Z"
   },
   {
    "duration": 220,
    "start_time": "2023-04-03T17:56:19.206Z"
   },
   {
    "duration": 178,
    "start_time": "2023-04-03T17:56:25.003Z"
   },
   {
    "duration": 201,
    "start_time": "2023-04-03T17:56:32.736Z"
   },
   {
    "duration": 159,
    "start_time": "2023-04-03T17:56:39.306Z"
   },
   {
    "duration": 181,
    "start_time": "2023-04-03T17:56:42.320Z"
   },
   {
    "duration": 164,
    "start_time": "2023-04-03T17:56:44.914Z"
   },
   {
    "duration": 183,
    "start_time": "2023-04-03T17:56:49.125Z"
   },
   {
    "duration": 67,
    "start_time": "2023-04-03T18:02:36.643Z"
   },
   {
    "duration": 15,
    "start_time": "2023-04-03T18:02:40.534Z"
   },
   {
    "duration": 17,
    "start_time": "2023-04-03T18:02:49.666Z"
   },
   {
    "duration": 16,
    "start_time": "2023-04-03T18:03:24.227Z"
   },
   {
    "duration": 2382,
    "start_time": "2023-04-03T18:08:03.086Z"
   },
   {
    "duration": 9,
    "start_time": "2023-04-03T18:12:32.337Z"
   },
   {
    "duration": 283,
    "start_time": "2023-04-03T18:12:34.205Z"
   },
   {
    "duration": 9,
    "start_time": "2023-04-03T18:12:40.310Z"
   },
   {
    "duration": 285,
    "start_time": "2023-04-03T18:12:41.219Z"
   },
   {
    "duration": 7,
    "start_time": "2023-04-03T18:12:46.263Z"
   },
   {
    "duration": 282,
    "start_time": "2023-04-03T18:12:47.305Z"
   },
   {
    "duration": 9,
    "start_time": "2023-04-03T18:31:36.287Z"
   },
   {
    "duration": 7,
    "start_time": "2023-04-03T18:31:53.157Z"
   },
   {
    "duration": 41,
    "start_time": "2023-04-03T18:32:00.351Z"
   },
   {
    "duration": 33,
    "start_time": "2023-04-03T18:34:37.303Z"
   },
   {
    "duration": 34,
    "start_time": "2023-04-03T18:34:42.585Z"
   },
   {
    "duration": 1306,
    "start_time": "2023-04-03T18:34:58.681Z"
   },
   {
    "duration": 52,
    "start_time": "2023-04-03T18:34:59.989Z"
   },
   {
    "duration": 5,
    "start_time": "2023-04-03T18:35:00.043Z"
   },
   {
    "duration": 115,
    "start_time": "2023-04-03T18:35:00.050Z"
   },
   {
    "duration": 5,
    "start_time": "2023-04-03T18:35:00.168Z"
   },
   {
    "duration": 122,
    "start_time": "2023-04-03T18:35:00.176Z"
   },
   {
    "duration": 21,
    "start_time": "2023-04-03T18:35:00.300Z"
   },
   {
    "duration": 44,
    "start_time": "2023-04-03T18:35:00.324Z"
   },
   {
    "duration": 28,
    "start_time": "2023-04-03T18:35:00.370Z"
   },
   {
    "duration": 91,
    "start_time": "2023-04-03T18:35:00.401Z"
   },
   {
    "duration": 34,
    "start_time": "2023-04-03T18:35:00.495Z"
   },
   {
    "duration": 52,
    "start_time": "2023-04-03T18:35:00.532Z"
   },
   {
    "duration": 102,
    "start_time": "2023-04-03T18:35:00.587Z"
   },
   {
    "duration": 62,
    "start_time": "2023-04-03T18:35:00.694Z"
   },
   {
    "duration": 20,
    "start_time": "2023-04-03T18:35:00.759Z"
   },
   {
    "duration": 42,
    "start_time": "2023-04-03T18:35:00.781Z"
   },
   {
    "duration": 265,
    "start_time": "2023-04-03T18:35:00.824Z"
   },
   {
    "duration": 171,
    "start_time": "2023-04-03T18:35:01.091Z"
   },
   {
    "duration": 237,
    "start_time": "2023-04-03T18:35:01.265Z"
   },
   {
    "duration": 31,
    "start_time": "2023-04-03T18:35:01.505Z"
   },
   {
    "duration": 30,
    "start_time": "2023-04-03T18:35:01.538Z"
   },
   {
    "duration": 255,
    "start_time": "2023-04-03T18:35:01.570Z"
   },
   {
    "duration": 2419,
    "start_time": "2023-04-03T18:35:01.828Z"
   },
   {
    "duration": 13,
    "start_time": "2023-04-03T18:35:04.249Z"
   },
   {
    "duration": 391,
    "start_time": "2023-04-03T18:35:04.265Z"
   },
   {
    "duration": 414,
    "start_time": "2023-04-03T18:35:04.659Z"
   },
   {
    "duration": 171,
    "start_time": "2023-04-03T18:35:05.076Z"
   },
   {
    "duration": 12,
    "start_time": "2023-04-03T18:35:05.249Z"
   },
   {
    "duration": 27,
    "start_time": "2023-04-03T18:35:05.263Z"
   },
   {
    "duration": 14,
    "start_time": "2023-04-03T18:35:05.292Z"
   },
   {
    "duration": 28,
    "start_time": "2023-04-03T18:35:05.308Z"
   },
   {
    "duration": 41,
    "start_time": "2023-04-03T18:35:05.339Z"
   },
   {
    "duration": 314,
    "start_time": "2023-04-03T18:35:05.382Z"
   },
   {
    "duration": 411,
    "start_time": "2023-04-03T18:35:05.698Z"
   },
   {
    "duration": 33,
    "start_time": "2023-04-03T18:35:06.111Z"
   },
   {
    "duration": 314,
    "start_time": "2023-04-03T18:35:06.146Z"
   },
   {
    "duration": 388,
    "start_time": "2023-04-03T18:35:06.462Z"
   },
   {
    "duration": 264,
    "start_time": "2023-04-03T18:35:06.852Z"
   },
   {
    "duration": 19,
    "start_time": "2023-04-03T18:35:07.118Z"
   },
   {
    "duration": 17,
    "start_time": "2023-04-03T18:35:07.139Z"
   },
   {
    "duration": 17,
    "start_time": "2023-04-03T18:35:07.160Z"
   },
   {
    "duration": 74,
    "start_time": "2023-04-03T18:35:07.179Z"
   },
   {
    "duration": 85,
    "start_time": "2023-04-03T18:35:07.256Z"
   },
   {
    "duration": 40,
    "start_time": "2023-04-03T18:35:07.343Z"
   },
   {
    "duration": 52,
    "start_time": "2023-04-03T18:35:07.385Z"
   },
   {
    "duration": 23,
    "start_time": "2023-04-03T18:35:07.439Z"
   },
   {
    "duration": 8,
    "start_time": "2023-04-03T18:35:07.464Z"
   },
   {
    "duration": 71,
    "start_time": "2023-04-03T18:38:16.147Z"
   },
   {
    "duration": 16,
    "start_time": "2023-04-03T18:42:51.232Z"
   },
   {
    "duration": 6,
    "start_time": "2023-04-03T18:45:55.132Z"
   },
   {
    "duration": 1318,
    "start_time": "2023-04-03T18:53:43.480Z"
   },
   {
    "duration": 55,
    "start_time": "2023-04-03T18:53:44.800Z"
   },
   {
    "duration": 3,
    "start_time": "2023-04-03T18:53:44.857Z"
   },
   {
    "duration": 89,
    "start_time": "2023-04-03T18:53:44.862Z"
   },
   {
    "duration": 4,
    "start_time": "2023-04-03T18:53:44.954Z"
   },
   {
    "duration": 48,
    "start_time": "2023-04-03T18:53:44.960Z"
   },
   {
    "duration": 8,
    "start_time": "2023-04-03T18:53:45.011Z"
   },
   {
    "duration": 10,
    "start_time": "2023-04-03T18:53:45.024Z"
   },
   {
    "duration": 17,
    "start_time": "2023-04-03T18:53:45.037Z"
   },
   {
    "duration": 18,
    "start_time": "2023-04-03T18:53:45.056Z"
   },
   {
    "duration": 11,
    "start_time": "2023-04-03T18:53:45.076Z"
   },
   {
    "duration": 8,
    "start_time": "2023-04-03T18:53:45.089Z"
   },
   {
    "duration": 26,
    "start_time": "2023-04-03T18:53:45.100Z"
   },
   {
    "duration": 35,
    "start_time": "2023-04-03T18:53:45.130Z"
   },
   {
    "duration": 5,
    "start_time": "2023-04-03T18:53:45.167Z"
   },
   {
    "duration": 10,
    "start_time": "2023-04-03T18:53:45.173Z"
   },
   {
    "duration": 218,
    "start_time": "2023-04-03T18:53:45.185Z"
   },
   {
    "duration": 155,
    "start_time": "2023-04-03T18:53:45.406Z"
   },
   {
    "duration": 193,
    "start_time": "2023-04-03T18:53:45.564Z"
   },
   {
    "duration": 17,
    "start_time": "2023-04-03T18:53:45.759Z"
   },
   {
    "duration": 19,
    "start_time": "2023-04-03T18:53:45.778Z"
   },
   {
    "duration": 211,
    "start_time": "2023-04-03T18:53:45.824Z"
   },
   {
    "duration": 2316,
    "start_time": "2023-04-03T18:53:46.037Z"
   },
   {
    "duration": 10,
    "start_time": "2023-04-03T18:53:48.356Z"
   },
   {
    "duration": 347,
    "start_time": "2023-04-03T18:53:48.373Z"
   },
   {
    "duration": 340,
    "start_time": "2023-04-03T18:53:48.723Z"
   },
   {
    "duration": 153,
    "start_time": "2023-04-03T18:53:49.064Z"
   },
   {
    "duration": 11,
    "start_time": "2023-04-03T18:53:49.224Z"
   },
   {
    "duration": 14,
    "start_time": "2023-04-03T18:53:49.236Z"
   },
   {
    "duration": 12,
    "start_time": "2023-04-03T18:53:49.252Z"
   },
   {
    "duration": 15,
    "start_time": "2023-04-03T18:53:49.266Z"
   },
   {
    "duration": 45,
    "start_time": "2023-04-03T18:53:49.283Z"
   },
   {
    "duration": 301,
    "start_time": "2023-04-03T18:53:49.330Z"
   },
   {
    "duration": 381,
    "start_time": "2023-04-03T18:53:49.633Z"
   },
   {
    "duration": 21,
    "start_time": "2023-04-03T18:53:50.016Z"
   },
   {
    "duration": 275,
    "start_time": "2023-04-03T18:53:50.039Z"
   },
   {
    "duration": 427,
    "start_time": "2023-04-03T18:53:50.323Z"
   },
   {
    "duration": 263,
    "start_time": "2023-04-03T18:53:50.752Z"
   },
   {
    "duration": 22,
    "start_time": "2023-04-03T18:53:51.017Z"
   },
   {
    "duration": 23,
    "start_time": "2023-04-03T18:53:51.041Z"
   },
   {
    "duration": 28,
    "start_time": "2023-04-03T18:53:51.069Z"
   },
   {
    "duration": 46,
    "start_time": "2023-04-03T18:53:51.100Z"
   },
   {
    "duration": 20,
    "start_time": "2023-04-03T18:53:51.148Z"
   },
   {
    "duration": 13,
    "start_time": "2023-04-03T18:53:51.170Z"
   },
   {
    "duration": 8,
    "start_time": "2023-04-03T18:53:51.186Z"
   },
   {
    "duration": 14,
    "start_time": "2023-04-03T18:53:51.225Z"
   },
   {
    "duration": 10,
    "start_time": "2023-04-03T18:53:51.241Z"
   },
   {
    "duration": 6,
    "start_time": "2023-04-03T18:55:15.656Z"
   },
   {
    "duration": 1240,
    "start_time": "2023-04-03T18:59:27.732Z"
   },
   {
    "duration": 52,
    "start_time": "2023-04-03T18:59:28.974Z"
   },
   {
    "duration": 5,
    "start_time": "2023-04-03T18:59:29.028Z"
   },
   {
    "duration": 90,
    "start_time": "2023-04-03T18:59:29.034Z"
   },
   {
    "duration": 3,
    "start_time": "2023-04-03T18:59:29.127Z"
   },
   {
    "duration": 28,
    "start_time": "2023-04-03T18:59:29.132Z"
   },
   {
    "duration": 6,
    "start_time": "2023-04-03T18:59:29.162Z"
   },
   {
    "duration": 10,
    "start_time": "2023-04-03T18:59:29.171Z"
   },
   {
    "duration": 41,
    "start_time": "2023-04-03T18:59:29.184Z"
   },
   {
    "duration": 27,
    "start_time": "2023-04-03T18:59:29.228Z"
   },
   {
    "duration": 11,
    "start_time": "2023-04-03T18:59:29.257Z"
   },
   {
    "duration": 6,
    "start_time": "2023-04-03T18:59:29.270Z"
   },
   {
    "duration": 9,
    "start_time": "2023-04-03T18:59:29.278Z"
   },
   {
    "duration": 48,
    "start_time": "2023-04-03T18:59:29.290Z"
   },
   {
    "duration": 10,
    "start_time": "2023-04-03T18:59:29.340Z"
   },
   {
    "duration": 6,
    "start_time": "2023-04-03T18:59:29.352Z"
   },
   {
    "duration": 225,
    "start_time": "2023-04-03T18:59:29.360Z"
   },
   {
    "duration": 204,
    "start_time": "2023-04-03T18:59:29.587Z"
   },
   {
    "duration": 250,
    "start_time": "2023-04-03T18:59:29.793Z"
   },
   {
    "duration": 24,
    "start_time": "2023-04-03T18:59:30.045Z"
   },
   {
    "duration": 22,
    "start_time": "2023-04-03T18:59:30.071Z"
   },
   {
    "duration": 255,
    "start_time": "2023-04-03T18:59:30.096Z"
   },
   {
    "duration": 2485,
    "start_time": "2023-04-03T18:59:30.354Z"
   },
   {
    "duration": 10,
    "start_time": "2023-04-03T18:59:32.841Z"
   },
   {
    "duration": 347,
    "start_time": "2023-04-03T18:59:32.853Z"
   },
   {
    "duration": 383,
    "start_time": "2023-04-03T18:59:33.203Z"
   },
   {
    "duration": 184,
    "start_time": "2023-04-03T18:59:33.588Z"
   },
   {
    "duration": 14,
    "start_time": "2023-04-03T18:59:33.775Z"
   },
   {
    "duration": 34,
    "start_time": "2023-04-03T18:59:33.791Z"
   },
   {
    "duration": 12,
    "start_time": "2023-04-03T18:59:33.828Z"
   },
   {
    "duration": 19,
    "start_time": "2023-04-03T18:59:33.842Z"
   },
   {
    "duration": 16,
    "start_time": "2023-04-03T18:59:33.863Z"
   },
   {
    "duration": 332,
    "start_time": "2023-04-03T18:59:33.881Z"
   },
   {
    "duration": 409,
    "start_time": "2023-04-03T18:59:34.215Z"
   },
   {
    "duration": 21,
    "start_time": "2023-04-03T18:59:34.627Z"
   },
   {
    "duration": 363,
    "start_time": "2023-04-03T18:59:34.651Z"
   },
   {
    "duration": 450,
    "start_time": "2023-04-03T18:59:35.023Z"
   },
   {
    "duration": 339,
    "start_time": "2023-04-03T18:59:35.475Z"
   },
   {
    "duration": 25,
    "start_time": "2023-04-03T18:59:35.823Z"
   },
   {
    "duration": 41,
    "start_time": "2023-04-03T18:59:35.851Z"
   },
   {
    "duration": 37,
    "start_time": "2023-04-03T18:59:35.899Z"
   },
   {
    "duration": 48,
    "start_time": "2023-04-03T18:59:35.938Z"
   },
   {
    "duration": 55,
    "start_time": "2023-04-03T18:59:35.988Z"
   },
   {
    "duration": 23,
    "start_time": "2023-04-03T18:59:36.046Z"
   },
   {
    "duration": 30,
    "start_time": "2023-04-03T18:59:36.071Z"
   },
   {
    "duration": 17,
    "start_time": "2023-04-03T18:59:36.104Z"
   },
   {
    "duration": 11,
    "start_time": "2023-04-03T18:59:36.123Z"
   },
   {
    "duration": 1305,
    "start_time": "2023-04-03T19:11:37.470Z"
   },
   {
    "duration": 51,
    "start_time": "2023-04-03T19:11:38.777Z"
   },
   {
    "duration": 4,
    "start_time": "2023-04-03T19:11:38.830Z"
   },
   {
    "duration": 91,
    "start_time": "2023-04-03T19:11:38.836Z"
   },
   {
    "duration": 4,
    "start_time": "2023-04-03T19:11:38.931Z"
   },
   {
    "duration": 27,
    "start_time": "2023-04-03T19:11:38.938Z"
   },
   {
    "duration": 25,
    "start_time": "2023-04-03T19:11:38.967Z"
   },
   {
    "duration": 14,
    "start_time": "2023-04-03T19:11:38.994Z"
   },
   {
    "duration": 16,
    "start_time": "2023-04-03T19:11:39.010Z"
   },
   {
    "duration": 37,
    "start_time": "2023-04-03T19:11:39.028Z"
   },
   {
    "duration": 10,
    "start_time": "2023-04-03T19:11:39.067Z"
   },
   {
    "duration": 6,
    "start_time": "2023-04-03T19:11:39.080Z"
   },
   {
    "duration": 7,
    "start_time": "2023-04-03T19:11:39.088Z"
   },
   {
    "duration": 22,
    "start_time": "2023-04-03T19:11:39.099Z"
   },
   {
    "duration": 6,
    "start_time": "2023-04-03T19:11:39.123Z"
   },
   {
    "duration": 9,
    "start_time": "2023-04-03T19:11:39.131Z"
   },
   {
    "duration": 211,
    "start_time": "2023-04-03T19:11:39.143Z"
   },
   {
    "duration": 150,
    "start_time": "2023-04-03T19:11:39.356Z"
   },
   {
    "duration": 225,
    "start_time": "2023-04-03T19:11:39.509Z"
   },
   {
    "duration": 17,
    "start_time": "2023-04-03T19:11:39.736Z"
   },
   {
    "duration": 42,
    "start_time": "2023-04-03T19:11:39.754Z"
   },
   {
    "duration": 205,
    "start_time": "2023-04-03T19:11:39.797Z"
   },
   {
    "duration": 2210,
    "start_time": "2023-04-03T19:11:40.004Z"
   },
   {
    "duration": 8,
    "start_time": "2023-04-03T19:11:42.215Z"
   },
   {
    "duration": 280,
    "start_time": "2023-04-03T19:11:42.225Z"
   },
   {
    "duration": 323,
    "start_time": "2023-04-03T19:11:42.507Z"
   },
   {
    "duration": 151,
    "start_time": "2023-04-03T19:11:42.831Z"
   },
   {
    "duration": 13,
    "start_time": "2023-04-03T19:11:42.984Z"
   },
   {
    "duration": 11,
    "start_time": "2023-04-03T19:11:42.998Z"
   },
   {
    "duration": 11,
    "start_time": "2023-04-03T19:11:43.011Z"
   },
   {
    "duration": 9,
    "start_time": "2023-04-03T19:11:43.024Z"
   },
   {
    "duration": 10,
    "start_time": "2023-04-03T19:11:43.035Z"
   },
   {
    "duration": 297,
    "start_time": "2023-04-03T19:11:43.047Z"
   },
   {
    "duration": 352,
    "start_time": "2023-04-03T19:11:43.346Z"
   },
   {
    "duration": 15,
    "start_time": "2023-04-03T19:11:43.699Z"
   },
   {
    "duration": 256,
    "start_time": "2023-04-03T19:11:43.716Z"
   },
   {
    "duration": 334,
    "start_time": "2023-04-03T19:11:43.974Z"
   },
   {
    "duration": 304,
    "start_time": "2023-04-03T19:11:44.310Z"
   },
   {
    "duration": 16,
    "start_time": "2023-04-03T19:11:44.616Z"
   },
   {
    "duration": 18,
    "start_time": "2023-04-03T19:11:44.633Z"
   },
   {
    "duration": 47,
    "start_time": "2023-04-03T19:11:44.657Z"
   },
   {
    "duration": 41,
    "start_time": "2023-04-03T19:11:44.706Z"
   },
   {
    "duration": 49,
    "start_time": "2023-04-03T19:11:44.749Z"
   },
   {
    "duration": 12,
    "start_time": "2023-04-03T19:11:44.800Z"
   },
   {
    "duration": 7,
    "start_time": "2023-04-03T19:11:44.815Z"
   },
   {
    "duration": 13,
    "start_time": "2023-04-03T19:11:44.824Z"
   },
   {
    "duration": 6,
    "start_time": "2023-04-03T19:11:44.839Z"
   },
   {
    "duration": 90,
    "start_time": "2023-04-03T20:14:11.323Z"
   },
   {
    "duration": 51,
    "start_time": "2023-04-04T09:04:38.618Z"
   },
   {
    "duration": 1373,
    "start_time": "2023-04-04T09:04:43.999Z"
   },
   {
    "duration": 105,
    "start_time": "2023-04-04T09:04:45.374Z"
   },
   {
    "duration": 4,
    "start_time": "2023-04-04T09:04:45.481Z"
   },
   {
    "duration": 102,
    "start_time": "2023-04-04T09:04:45.487Z"
   },
   {
    "duration": 4,
    "start_time": "2023-04-04T09:04:45.592Z"
   },
   {
    "duration": 54,
    "start_time": "2023-04-04T09:04:45.598Z"
   },
   {
    "duration": 10,
    "start_time": "2023-04-04T09:04:45.654Z"
   },
   {
    "duration": 10,
    "start_time": "2023-04-04T09:04:45.666Z"
   },
   {
    "duration": 7,
    "start_time": "2023-04-04T09:04:45.678Z"
   },
   {
    "duration": 22,
    "start_time": "2023-04-04T09:04:45.687Z"
   },
   {
    "duration": 40,
    "start_time": "2023-04-04T09:04:45.710Z"
   },
   {
    "duration": 6,
    "start_time": "2023-04-04T09:04:45.752Z"
   },
   {
    "duration": 5,
    "start_time": "2023-04-04T09:04:45.761Z"
   },
   {
    "duration": 20,
    "start_time": "2023-04-04T09:04:45.769Z"
   },
   {
    "duration": 124,
    "start_time": "2023-04-04T09:04:45.791Z"
   },
   {
    "duration": 5,
    "start_time": "2023-04-04T09:04:45.916Z"
   },
   {
    "duration": 20,
    "start_time": "2023-04-04T09:04:45.923Z"
   },
   {
    "duration": 202,
    "start_time": "2023-04-04T09:04:45.945Z"
   },
   {
    "duration": 161,
    "start_time": "2023-04-04T09:04:46.149Z"
   },
   {
    "duration": 167,
    "start_time": "2023-04-04T09:04:46.315Z"
   },
   {
    "duration": 21,
    "start_time": "2023-04-04T09:04:46.484Z"
   },
   {
    "duration": 53,
    "start_time": "2023-04-04T09:04:46.507Z"
   },
   {
    "duration": 183,
    "start_time": "2023-04-04T09:04:46.562Z"
   },
   {
    "duration": 2076,
    "start_time": "2023-04-04T09:04:46.747Z"
   },
   {
    "duration": 15,
    "start_time": "2023-04-04T09:04:48.825Z"
   },
   {
    "duration": 281,
    "start_time": "2023-04-04T09:04:48.842Z"
   },
   {
    "duration": 283,
    "start_time": "2023-04-04T09:04:49.124Z"
   },
   {
    "duration": 181,
    "start_time": "2023-04-04T09:04:49.408Z"
   },
   {
    "duration": 10,
    "start_time": "2023-04-04T09:04:49.590Z"
   },
   {
    "duration": 18,
    "start_time": "2023-04-04T09:04:49.601Z"
   },
   {
    "duration": 21,
    "start_time": "2023-04-04T09:04:49.621Z"
   },
   {
    "duration": 13,
    "start_time": "2023-04-04T09:04:49.644Z"
   },
   {
    "duration": 12,
    "start_time": "2023-04-04T09:04:49.659Z"
   },
   {
    "duration": 284,
    "start_time": "2023-04-04T09:04:49.673Z"
   },
   {
    "duration": 337,
    "start_time": "2023-04-04T09:04:49.959Z"
   },
   {
    "duration": 15,
    "start_time": "2023-04-04T09:04:50.298Z"
   },
   {
    "duration": 234,
    "start_time": "2023-04-04T09:04:50.315Z"
   },
   {
    "duration": 320,
    "start_time": "2023-04-04T09:04:50.550Z"
   },
   {
    "duration": 219,
    "start_time": "2023-04-04T09:04:50.872Z"
   },
   {
    "duration": 17,
    "start_time": "2023-04-04T09:04:51.093Z"
   },
   {
    "duration": 33,
    "start_time": "2023-04-04T09:04:51.114Z"
   },
   {
    "duration": 16,
    "start_time": "2023-04-04T09:04:51.149Z"
   },
   {
    "duration": 24,
    "start_time": "2023-04-04T09:04:51.167Z"
   },
   {
    "duration": 53,
    "start_time": "2023-04-04T09:04:51.193Z"
   },
   {
    "duration": 10,
    "start_time": "2023-04-04T09:04:51.248Z"
   },
   {
    "duration": 14,
    "start_time": "2023-04-04T09:04:51.260Z"
   },
   {
    "duration": 46,
    "start_time": "2023-04-04T09:04:51.277Z"
   },
   {
    "duration": 16,
    "start_time": "2023-04-04T09:04:51.326Z"
   },
   {
    "duration": 17,
    "start_time": "2023-04-04T09:06:56.215Z"
   },
   {
    "duration": 15,
    "start_time": "2023-04-04T09:07:10.757Z"
   },
   {
    "duration": 82,
    "start_time": "2023-04-04T09:07:53.574Z"
   },
   {
    "duration": 164,
    "start_time": "2023-04-04T09:13:17.040Z"
   },
   {
    "duration": 7,
    "start_time": "2023-04-04T09:19:15.068Z"
   },
   {
    "duration": 6,
    "start_time": "2023-04-04T09:19:20.367Z"
   },
   {
    "duration": 7,
    "start_time": "2023-04-04T09:19:23.637Z"
   },
   {
    "duration": 7,
    "start_time": "2023-04-04T09:19:43.131Z"
   },
   {
    "duration": 78,
    "start_time": "2023-04-04T09:20:30.715Z"
   },
   {
    "duration": 19,
    "start_time": "2023-04-04T09:25:11.030Z"
   },
   {
    "duration": 0,
    "start_time": "2023-04-04T09:28:20.253Z"
   },
   {
    "duration": 4196,
    "start_time": "2023-04-04T09:28:25.053Z"
   },
   {
    "duration": 8,
    "start_time": "2023-04-04T09:28:51.670Z"
   },
   {
    "duration": 10,
    "start_time": "2023-04-04T09:28:55.066Z"
   },
   {
    "duration": 11,
    "start_time": "2023-04-04T09:29:20.997Z"
   },
   {
    "duration": 10,
    "start_time": "2023-04-04T09:29:26.352Z"
   },
   {
    "duration": 4090,
    "start_time": "2023-04-04T09:30:14.568Z"
   },
   {
    "duration": 12,
    "start_time": "2023-04-04T09:30:25.870Z"
   },
   {
    "duration": 10,
    "start_time": "2023-04-04T09:30:30.285Z"
   },
   {
    "duration": 10,
    "start_time": "2023-04-04T09:31:51.831Z"
   },
   {
    "duration": 10,
    "start_time": "2023-04-04T09:31:56.541Z"
   },
   {
    "duration": 11,
    "start_time": "2023-04-04T09:32:52.062Z"
   },
   {
    "duration": 10,
    "start_time": "2023-04-04T09:39:57.366Z"
   },
   {
    "duration": 16,
    "start_time": "2023-04-04T09:40:16.291Z"
   },
   {
    "duration": 12,
    "start_time": "2023-04-04T09:40:19.365Z"
   },
   {
    "duration": 8,
    "start_time": "2023-04-04T09:42:57.175Z"
   },
   {
    "duration": 8,
    "start_time": "2023-04-04T09:43:03.825Z"
   },
   {
    "duration": 8,
    "start_time": "2023-04-04T09:43:31.508Z"
   },
   {
    "duration": 8,
    "start_time": "2023-04-04T09:43:36.654Z"
   },
   {
    "duration": 9,
    "start_time": "2023-04-04T09:43:39.376Z"
   },
   {
    "duration": 8,
    "start_time": "2023-04-04T09:45:06.093Z"
   },
   {
    "duration": 7,
    "start_time": "2023-04-04T09:45:11.714Z"
   },
   {
    "duration": 73,
    "start_time": "2023-04-04T09:45:56.542Z"
   },
   {
    "duration": 72,
    "start_time": "2023-04-04T09:46:00.916Z"
   },
   {
    "duration": 5,
    "start_time": "2023-04-04T09:46:15.303Z"
   },
   {
    "duration": 6,
    "start_time": "2023-04-04T09:46:18.447Z"
   },
   {
    "duration": 17,
    "start_time": "2023-04-04T09:46:23.307Z"
   },
   {
    "duration": 14,
    "start_time": "2023-04-04T09:47:23.117Z"
   },
   {
    "duration": 3,
    "start_time": "2023-04-04T09:48:46.004Z"
   },
   {
    "duration": 15,
    "start_time": "2023-04-04T09:48:47.471Z"
   },
   {
    "duration": 13,
    "start_time": "2023-04-04T09:49:00.349Z"
   },
   {
    "duration": 72,
    "start_time": "2023-04-04T09:49:55.732Z"
   },
   {
    "duration": 1215,
    "start_time": "2023-04-04T09:50:12.741Z"
   },
   {
    "duration": 52,
    "start_time": "2023-04-04T09:50:13.958Z"
   },
   {
    "duration": 4,
    "start_time": "2023-04-04T09:50:14.011Z"
   },
   {
    "duration": 71,
    "start_time": "2023-04-04T09:50:14.017Z"
   },
   {
    "duration": 3,
    "start_time": "2023-04-04T09:50:14.091Z"
   },
   {
    "duration": 44,
    "start_time": "2023-04-04T09:50:14.096Z"
   },
   {
    "duration": 13,
    "start_time": "2023-04-04T09:50:14.142Z"
   },
   {
    "duration": 15,
    "start_time": "2023-04-04T09:50:14.157Z"
   },
   {
    "duration": 26,
    "start_time": "2023-04-04T09:50:14.174Z"
   },
   {
    "duration": 6,
    "start_time": "2023-04-04T09:50:14.202Z"
   },
   {
    "duration": 32,
    "start_time": "2023-04-04T09:50:14.209Z"
   },
   {
    "duration": 26,
    "start_time": "2023-04-04T09:50:14.243Z"
   },
   {
    "duration": 21,
    "start_time": "2023-04-04T09:50:14.271Z"
   },
   {
    "duration": 15,
    "start_time": "2023-04-04T09:50:14.296Z"
   },
   {
    "duration": 16,
    "start_time": "2023-04-04T09:50:14.313Z"
   },
   {
    "duration": 8,
    "start_time": "2023-04-04T09:50:14.331Z"
   },
   {
    "duration": 25,
    "start_time": "2023-04-04T09:50:14.340Z"
   },
   {
    "duration": 24,
    "start_time": "2023-04-04T09:50:14.367Z"
   },
   {
    "duration": 101,
    "start_time": "2023-04-04T09:50:14.393Z"
   },
   {
    "duration": 15,
    "start_time": "2023-04-04T09:50:14.496Z"
   },
   {
    "duration": 39,
    "start_time": "2023-04-04T09:50:14.513Z"
   },
   {
    "duration": 294,
    "start_time": "2023-04-04T09:50:14.554Z"
   },
   {
    "duration": 2016,
    "start_time": "2023-04-04T09:50:14.850Z"
   },
   {
    "duration": 8,
    "start_time": "2023-04-04T09:50:16.868Z"
   },
   {
    "duration": 374,
    "start_time": "2023-04-04T09:50:16.877Z"
   },
   {
    "duration": 275,
    "start_time": "2023-04-04T09:50:17.253Z"
   },
   {
    "duration": 144,
    "start_time": "2023-04-04T09:50:17.529Z"
   },
   {
    "duration": 10,
    "start_time": "2023-04-04T09:50:17.674Z"
   },
   {
    "duration": 15,
    "start_time": "2023-04-04T09:50:17.685Z"
   },
   {
    "duration": 20,
    "start_time": "2023-04-04T09:50:17.702Z"
   },
   {
    "duration": 39,
    "start_time": "2023-04-04T09:50:17.724Z"
   },
   {
    "duration": 20,
    "start_time": "2023-04-04T09:50:17.766Z"
   },
   {
    "duration": 253,
    "start_time": "2023-04-04T09:50:17.787Z"
   },
   {
    "duration": 311,
    "start_time": "2023-04-04T09:50:18.042Z"
   },
   {
    "duration": 14,
    "start_time": "2023-04-04T09:50:18.355Z"
   },
   {
    "duration": 217,
    "start_time": "2023-04-04T09:50:18.371Z"
   },
   {
    "duration": 214,
    "start_time": "2023-04-04T09:50:18.589Z"
   },
   {
    "duration": 214,
    "start_time": "2023-04-04T09:50:18.805Z"
   },
   {
    "duration": 23,
    "start_time": "2023-04-04T09:50:19.020Z"
   },
   {
    "duration": 15,
    "start_time": "2023-04-04T09:50:19.045Z"
   },
   {
    "duration": 14,
    "start_time": "2023-04-04T09:50:19.064Z"
   },
   {
    "duration": 31,
    "start_time": "2023-04-04T09:50:19.080Z"
   },
   {
    "duration": 39,
    "start_time": "2023-04-04T09:50:19.113Z"
   },
   {
    "duration": 26,
    "start_time": "2023-04-04T09:50:19.154Z"
   },
   {
    "duration": 11,
    "start_time": "2023-04-04T09:50:19.181Z"
   },
   {
    "duration": 26,
    "start_time": "2023-04-04T09:50:19.193Z"
   },
   {
    "duration": 12,
    "start_time": "2023-04-04T09:50:19.221Z"
   },
   {
    "duration": 1329,
    "start_time": "2023-04-04T09:58:36.434Z"
   },
   {
    "duration": 1215,
    "start_time": "2023-04-04T09:58:51.520Z"
   },
   {
    "duration": 59,
    "start_time": "2023-04-04T09:58:52.737Z"
   },
   {
    "duration": 3,
    "start_time": "2023-04-04T09:58:53.710Z"
   },
   {
    "duration": 62,
    "start_time": "2023-04-04T09:58:54.778Z"
   },
   {
    "duration": 5,
    "start_time": "2023-04-04T09:58:57.211Z"
   },
   {
    "duration": 120,
    "start_time": "2023-04-04T10:00:41.236Z"
   },
   {
    "duration": 1426,
    "start_time": "2023-04-04T10:00:49.830Z"
   },
   {
    "duration": 1291,
    "start_time": "2023-04-04T10:00:54.951Z"
   },
   {
    "duration": 7,
    "start_time": "2023-04-04T10:01:03.270Z"
   },
   {
    "duration": 9,
    "start_time": "2023-04-04T10:01:25.571Z"
   },
   {
    "duration": 7,
    "start_time": "2023-04-04T10:01:35.870Z"
   },
   {
    "duration": 1226,
    "start_time": "2023-04-04T10:02:34.921Z"
   },
   {
    "duration": 53,
    "start_time": "2023-04-04T10:02:36.149Z"
   },
   {
    "duration": 3,
    "start_time": "2023-04-04T10:02:36.204Z"
   },
   {
    "duration": 79,
    "start_time": "2023-04-04T10:02:36.209Z"
   },
   {
    "duration": 7,
    "start_time": "2023-04-04T10:02:36.291Z"
   },
   {
    "duration": 13,
    "start_time": "2023-04-04T10:02:36.300Z"
   },
   {
    "duration": 26,
    "start_time": "2023-04-04T10:02:36.315Z"
   },
   {
    "duration": 24,
    "start_time": "2023-04-04T10:02:36.343Z"
   },
   {
    "duration": 12,
    "start_time": "2023-04-04T10:02:36.368Z"
   },
   {
    "duration": 14,
    "start_time": "2023-04-04T10:02:36.382Z"
   },
   {
    "duration": 44,
    "start_time": "2023-04-04T10:02:36.397Z"
   },
   {
    "duration": 5,
    "start_time": "2023-04-04T10:02:36.443Z"
   },
   {
    "duration": 5,
    "start_time": "2023-04-04T10:02:36.449Z"
   },
   {
    "duration": 8,
    "start_time": "2023-04-04T10:02:36.456Z"
   },
   {
    "duration": 5,
    "start_time": "2023-04-04T10:02:36.466Z"
   },
   {
    "duration": 14,
    "start_time": "2023-04-04T10:02:36.473Z"
   },
   {
    "duration": 8,
    "start_time": "2023-04-04T10:02:36.488Z"
   },
   {
    "duration": 11,
    "start_time": "2023-04-04T10:02:36.498Z"
   },
   {
    "duration": 7,
    "start_time": "2023-04-04T10:02:36.541Z"
   },
   {
    "duration": 23,
    "start_time": "2023-04-04T10:02:36.549Z"
   },
   {
    "duration": 117,
    "start_time": "2023-04-04T10:02:36.573Z"
   },
   {
    "duration": 17,
    "start_time": "2023-04-04T10:02:36.691Z"
   },
   {
    "duration": 44,
    "start_time": "2023-04-04T10:02:36.710Z"
   },
   {
    "duration": 235,
    "start_time": "2023-04-04T10:02:36.756Z"
   },
   {
    "duration": 1896,
    "start_time": "2023-04-04T10:02:36.993Z"
   },
   {
    "duration": 9,
    "start_time": "2023-04-04T10:02:38.890Z"
   },
   {
    "duration": 402,
    "start_time": "2023-04-04T10:02:38.901Z"
   },
   {
    "duration": 322,
    "start_time": "2023-04-04T10:02:39.305Z"
   },
   {
    "duration": 133,
    "start_time": "2023-04-04T10:02:39.629Z"
   },
   {
    "duration": 10,
    "start_time": "2023-04-04T10:02:39.764Z"
   },
   {
    "duration": 16,
    "start_time": "2023-04-04T10:02:39.775Z"
   },
   {
    "duration": 10,
    "start_time": "2023-04-04T10:02:39.793Z"
   },
   {
    "duration": 15,
    "start_time": "2023-04-04T10:02:39.804Z"
   },
   {
    "duration": 25,
    "start_time": "2023-04-04T10:02:39.820Z"
   },
   {
    "duration": 250,
    "start_time": "2023-04-04T10:02:39.846Z"
   },
   {
    "duration": 337,
    "start_time": "2023-04-04T10:02:40.097Z"
   },
   {
    "duration": 17,
    "start_time": "2023-04-04T10:02:40.436Z"
   },
   {
    "duration": 262,
    "start_time": "2023-04-04T10:02:40.456Z"
   },
   {
    "duration": 212,
    "start_time": "2023-04-04T10:02:40.720Z"
   },
   {
    "duration": 226,
    "start_time": "2023-04-04T10:02:40.941Z"
   },
   {
    "duration": 14,
    "start_time": "2023-04-04T10:02:41.171Z"
   },
   {
    "duration": 14,
    "start_time": "2023-04-04T10:02:41.187Z"
   },
   {
    "duration": 20,
    "start_time": "2023-04-04T10:02:41.202Z"
   },
   {
    "duration": 26,
    "start_time": "2023-04-04T10:02:41.239Z"
   },
   {
    "duration": 16,
    "start_time": "2023-04-04T10:02:41.267Z"
   },
   {
    "duration": 8,
    "start_time": "2023-04-04T10:02:41.285Z"
   },
   {
    "duration": 7,
    "start_time": "2023-04-04T10:02:41.294Z"
   },
   {
    "duration": 38,
    "start_time": "2023-04-04T10:02:41.303Z"
   },
   {
    "duration": 5,
    "start_time": "2023-04-04T10:02:41.343Z"
   },
   {
    "duration": 82,
    "start_time": "2023-04-04T10:04:59.746Z"
   },
   {
    "duration": 147,
    "start_time": "2023-04-04T10:05:03.624Z"
   },
   {
    "duration": 88,
    "start_time": "2023-04-04T10:12:40.321Z"
   },
   {
    "duration": 86,
    "start_time": "2023-04-04T10:13:02.618Z"
   },
   {
    "duration": 6,
    "start_time": "2023-04-04T10:18:00.727Z"
   },
   {
    "duration": 5,
    "start_time": "2023-04-04T10:18:32.318Z"
   },
   {
    "duration": 123,
    "start_time": "2023-04-04T10:18:55.284Z"
   },
   {
    "duration": 5,
    "start_time": "2023-04-04T10:18:58.608Z"
   },
   {
    "duration": 72,
    "start_time": "2023-04-04T10:19:13.931Z"
   },
   {
    "duration": 70,
    "start_time": "2023-04-04T10:19:19.071Z"
   },
   {
    "duration": 6,
    "start_time": "2023-04-04T10:19:23.933Z"
   },
   {
    "duration": 5,
    "start_time": "2023-04-04T10:19:34.281Z"
   },
   {
    "duration": 6,
    "start_time": "2023-04-04T10:19:42.008Z"
   },
   {
    "duration": 6,
    "start_time": "2023-04-04T10:19:47.228Z"
   },
   {
    "duration": 4,
    "start_time": "2023-04-04T10:19:55.314Z"
   },
   {
    "duration": 23,
    "start_time": "2023-04-04T10:20:55.621Z"
   },
   {
    "duration": 85,
    "start_time": "2023-04-04T10:22:48.556Z"
   },
   {
    "duration": 85,
    "start_time": "2023-04-04T10:23:05.278Z"
   },
   {
    "duration": 1246,
    "start_time": "2023-04-04T10:23:10.402Z"
   },
   {
    "duration": 1346,
    "start_time": "2023-04-04T10:23:21.309Z"
   },
   {
    "duration": 85,
    "start_time": "2023-04-04T10:23:37.572Z"
   },
   {
    "duration": 109,
    "start_time": "2023-04-04T10:23:49.888Z"
   },
   {
    "duration": 23,
    "start_time": "2023-04-04T10:23:53.783Z"
   },
   {
    "duration": 11,
    "start_time": "2023-04-04T10:24:17.836Z"
   },
   {
    "duration": 24,
    "start_time": "2023-04-04T10:24:39.412Z"
   },
   {
    "duration": 28,
    "start_time": "2023-04-04T10:25:10.243Z"
   },
   {
    "duration": 11,
    "start_time": "2023-04-04T10:25:18.521Z"
   },
   {
    "duration": 11,
    "start_time": "2023-04-04T10:25:24.398Z"
   },
   {
    "duration": 58,
    "start_time": "2023-04-04T10:25:27.514Z"
   },
   {
    "duration": 38,
    "start_time": "2023-04-04T10:25:36.416Z"
   },
   {
    "duration": 40,
    "start_time": "2023-04-04T10:25:39.872Z"
   },
   {
    "duration": 12,
    "start_time": "2023-04-04T10:25:43.338Z"
   },
   {
    "duration": 11,
    "start_time": "2023-04-04T10:25:48.252Z"
   },
   {
    "duration": 23,
    "start_time": "2023-04-04T10:26:16.228Z"
   },
   {
    "duration": 10,
    "start_time": "2023-04-04T10:26:22.735Z"
   },
   {
    "duration": 24,
    "start_time": "2023-04-04T10:27:32.123Z"
   },
   {
    "duration": 11,
    "start_time": "2023-04-04T10:27:50.987Z"
   },
   {
    "duration": 17,
    "start_time": "2023-04-04T10:27:54.050Z"
   },
   {
    "duration": 26,
    "start_time": "2023-04-04T10:27:56.941Z"
   },
   {
    "duration": 27,
    "start_time": "2023-04-04T10:28:13.040Z"
   },
   {
    "duration": 26,
    "start_time": "2023-04-04T10:28:14.922Z"
   },
   {
    "duration": 26,
    "start_time": "2023-04-04T10:28:28.423Z"
   },
   {
    "duration": 11,
    "start_time": "2023-04-04T10:28:37.446Z"
   },
   {
    "duration": 11,
    "start_time": "2023-04-04T10:29:15.123Z"
   },
   {
    "duration": 12,
    "start_time": "2023-04-04T10:29:19.368Z"
   },
   {
    "duration": 11,
    "start_time": "2023-04-04T10:29:21.345Z"
   },
   {
    "duration": 27,
    "start_time": "2023-04-04T10:29:31.336Z"
   },
   {
    "duration": 28,
    "start_time": "2023-04-04T10:29:50.720Z"
   },
   {
    "duration": 24,
    "start_time": "2023-04-04T10:30:02.964Z"
   },
   {
    "duration": 27,
    "start_time": "2023-04-04T10:30:20.572Z"
   },
   {
    "duration": 24,
    "start_time": "2023-04-04T10:30:32.843Z"
   },
   {
    "duration": 27,
    "start_time": "2023-04-04T10:30:39.768Z"
   },
   {
    "duration": 36,
    "start_time": "2023-04-04T10:35:15.672Z"
   },
   {
    "duration": 26,
    "start_time": "2023-04-04T10:35:38.969Z"
   },
   {
    "duration": 66,
    "start_time": "2023-04-04T10:36:37.955Z"
   },
   {
    "duration": 20,
    "start_time": "2023-04-04T10:44:04.871Z"
   },
   {
    "duration": 18,
    "start_time": "2023-04-04T10:44:11.487Z"
   },
   {
    "duration": 17,
    "start_time": "2023-04-04T10:44:14.638Z"
   },
   {
    "duration": 27,
    "start_time": "2023-04-04T10:44:18.295Z"
   },
   {
    "duration": 18,
    "start_time": "2023-04-04T10:44:21.769Z"
   },
   {
    "duration": 292,
    "start_time": "2023-04-04T10:45:33.002Z"
   },
   {
    "duration": 20,
    "start_time": "2023-04-04T10:48:54.763Z"
   },
   {
    "duration": 17,
    "start_time": "2023-04-04T10:49:54.872Z"
   },
   {
    "duration": 37,
    "start_time": "2023-04-04T10:51:59.074Z"
   },
   {
    "duration": 35,
    "start_time": "2023-04-04T10:52:36.506Z"
   },
   {
    "duration": 21,
    "start_time": "2023-04-04T10:53:28.219Z"
   },
   {
    "duration": 12,
    "start_time": "2023-04-04T10:55:04.276Z"
   },
   {
    "duration": 34,
    "start_time": "2023-04-04T10:55:11.998Z"
   },
   {
    "duration": 12,
    "start_time": "2023-04-04T10:56:03.838Z"
   },
   {
    "duration": 14,
    "start_time": "2023-04-04T10:56:11.166Z"
   },
   {
    "duration": 7,
    "start_time": "2023-04-04T10:56:36.197Z"
   },
   {
    "duration": 20,
    "start_time": "2023-04-04T10:56:37.713Z"
   },
   {
    "duration": 1352,
    "start_time": "2023-04-04T10:56:47.527Z"
   },
   {
    "duration": 62,
    "start_time": "2023-04-04T10:56:48.882Z"
   },
   {
    "duration": 4,
    "start_time": "2023-04-04T10:56:48.948Z"
   },
   {
    "duration": 111,
    "start_time": "2023-04-04T10:56:48.956Z"
   },
   {
    "duration": 10,
    "start_time": "2023-04-04T10:56:49.069Z"
   },
   {
    "duration": 11,
    "start_time": "2023-04-04T10:56:49.081Z"
   },
   {
    "duration": 8,
    "start_time": "2023-04-04T10:56:49.094Z"
   },
   {
    "duration": 65,
    "start_time": "2023-04-04T10:56:49.104Z"
   },
   {
    "duration": 20,
    "start_time": "2023-04-04T10:56:49.174Z"
   },
   {
    "duration": 14,
    "start_time": "2023-04-04T10:56:49.195Z"
   },
   {
    "duration": 21,
    "start_time": "2023-04-04T10:56:49.211Z"
   },
   {
    "duration": 11,
    "start_time": "2023-04-04T10:56:49.233Z"
   },
   {
    "duration": 13,
    "start_time": "2023-04-04T10:56:49.247Z"
   },
   {
    "duration": 9,
    "start_time": "2023-04-04T10:56:49.262Z"
   },
   {
    "duration": 7,
    "start_time": "2023-04-04T10:56:49.273Z"
   },
   {
    "duration": 18,
    "start_time": "2023-04-04T10:56:49.281Z"
   },
   {
    "duration": 39,
    "start_time": "2023-04-04T10:56:49.301Z"
   },
   {
    "duration": 7,
    "start_time": "2023-04-04T10:56:49.342Z"
   },
   {
    "duration": 20,
    "start_time": "2023-04-04T10:56:49.350Z"
   },
   {
    "duration": 159,
    "start_time": "2023-04-04T10:56:49.372Z"
   },
   {
    "duration": 0,
    "start_time": "2023-04-04T10:56:49.534Z"
   },
   {
    "duration": 0,
    "start_time": "2023-04-04T10:56:49.536Z"
   },
   {
    "duration": 0,
    "start_time": "2023-04-04T10:56:49.537Z"
   },
   {
    "duration": 0,
    "start_time": "2023-04-04T10:56:49.539Z"
   },
   {
    "duration": 0,
    "start_time": "2023-04-04T10:56:49.539Z"
   },
   {
    "duration": 0,
    "start_time": "2023-04-04T10:56:49.540Z"
   },
   {
    "duration": 0,
    "start_time": "2023-04-04T10:56:49.543Z"
   },
   {
    "duration": 0,
    "start_time": "2023-04-04T10:56:49.545Z"
   },
   {
    "duration": 0,
    "start_time": "2023-04-04T10:56:49.546Z"
   },
   {
    "duration": 0,
    "start_time": "2023-04-04T10:56:49.547Z"
   },
   {
    "duration": 0,
    "start_time": "2023-04-04T10:56:49.549Z"
   },
   {
    "duration": 0,
    "start_time": "2023-04-04T10:56:49.551Z"
   },
   {
    "duration": 0,
    "start_time": "2023-04-04T10:56:49.553Z"
   },
   {
    "duration": 0,
    "start_time": "2023-04-04T10:56:49.554Z"
   },
   {
    "duration": 0,
    "start_time": "2023-04-04T10:56:49.556Z"
   },
   {
    "duration": 0,
    "start_time": "2023-04-04T10:56:49.557Z"
   },
   {
    "duration": 0,
    "start_time": "2023-04-04T10:56:49.559Z"
   },
   {
    "duration": 0,
    "start_time": "2023-04-04T10:56:49.561Z"
   },
   {
    "duration": 0,
    "start_time": "2023-04-04T10:56:49.562Z"
   },
   {
    "duration": 0,
    "start_time": "2023-04-04T10:56:49.564Z"
   },
   {
    "duration": 0,
    "start_time": "2023-04-04T10:56:49.565Z"
   },
   {
    "duration": 0,
    "start_time": "2023-04-04T10:56:49.567Z"
   },
   {
    "duration": 0,
    "start_time": "2023-04-04T10:56:49.569Z"
   },
   {
    "duration": 0,
    "start_time": "2023-04-04T10:56:49.570Z"
   },
   {
    "duration": 0,
    "start_time": "2023-04-04T10:56:49.572Z"
   },
   {
    "duration": 0,
    "start_time": "2023-04-04T10:56:49.573Z"
   },
   {
    "duration": 0,
    "start_time": "2023-04-04T10:56:49.575Z"
   },
   {
    "duration": 0,
    "start_time": "2023-04-04T10:56:49.576Z"
   },
   {
    "duration": 0,
    "start_time": "2023-04-04T10:56:49.578Z"
   },
   {
    "duration": 0,
    "start_time": "2023-04-04T10:56:49.579Z"
   },
   {
    "duration": 0,
    "start_time": "2023-04-04T10:56:49.581Z"
   },
   {
    "duration": 0,
    "start_time": "2023-04-04T10:56:49.583Z"
   },
   {
    "duration": 0,
    "start_time": "2023-04-04T10:56:49.584Z"
   },
   {
    "duration": 6,
    "start_time": "2023-04-04T10:59:05.136Z"
   },
   {
    "duration": 25,
    "start_time": "2023-04-04T10:59:06.982Z"
   },
   {
    "duration": 1333,
    "start_time": "2023-04-04T11:00:25.173Z"
   },
   {
    "duration": 69,
    "start_time": "2023-04-04T11:00:26.508Z"
   },
   {
    "duration": 3,
    "start_time": "2023-04-04T11:00:26.581Z"
   },
   {
    "duration": 110,
    "start_time": "2023-04-04T11:00:26.587Z"
   },
   {
    "duration": 9,
    "start_time": "2023-04-04T11:00:26.701Z"
   },
   {
    "duration": 27,
    "start_time": "2023-04-04T11:00:26.712Z"
   },
   {
    "duration": 18,
    "start_time": "2023-04-04T11:00:26.741Z"
   },
   {
    "duration": 37,
    "start_time": "2023-04-04T11:00:26.761Z"
   },
   {
    "duration": 25,
    "start_time": "2023-04-04T11:00:26.800Z"
   },
   {
    "duration": 33,
    "start_time": "2023-04-04T11:00:26.827Z"
   },
   {
    "duration": 30,
    "start_time": "2023-04-04T11:00:26.862Z"
   },
   {
    "duration": 7,
    "start_time": "2023-04-04T11:00:26.894Z"
   },
   {
    "duration": 8,
    "start_time": "2023-04-04T11:00:26.905Z"
   },
   {
    "duration": 28,
    "start_time": "2023-04-04T11:00:26.915Z"
   },
   {
    "duration": 11,
    "start_time": "2023-04-04T11:00:26.946Z"
   },
   {
    "duration": 13,
    "start_time": "2023-04-04T11:00:26.960Z"
   },
   {
    "duration": 29,
    "start_time": "2023-04-04T11:00:26.975Z"
   },
   {
    "duration": 42,
    "start_time": "2023-04-04T11:00:27.007Z"
   },
   {
    "duration": 12,
    "start_time": "2023-04-04T11:00:27.051Z"
   },
   {
    "duration": 7,
    "start_time": "2023-04-04T11:00:27.065Z"
   },
   {
    "duration": 12,
    "start_time": "2023-04-04T11:00:27.074Z"
   },
   {
    "duration": 67,
    "start_time": "2023-04-04T11:00:27.088Z"
   },
   {
    "duration": 17,
    "start_time": "2023-04-04T11:00:27.157Z"
   },
   {
    "duration": 11,
    "start_time": "2023-04-04T11:00:27.176Z"
   },
   {
    "duration": 151,
    "start_time": "2023-04-04T11:00:27.189Z"
   },
   {
    "duration": 22,
    "start_time": "2023-04-04T11:00:27.343Z"
   },
   {
    "duration": 26,
    "start_time": "2023-04-04T11:00:27.367Z"
   },
   {
    "duration": 239,
    "start_time": "2023-04-04T11:00:27.397Z"
   },
   {
    "duration": 2011,
    "start_time": "2023-04-04T11:00:27.640Z"
   },
   {
    "duration": 13,
    "start_time": "2023-04-04T11:00:29.654Z"
   },
   {
    "duration": 454,
    "start_time": "2023-04-04T11:00:29.669Z"
   },
   {
    "duration": 319,
    "start_time": "2023-04-04T11:00:30.125Z"
   },
   {
    "duration": 157,
    "start_time": "2023-04-04T11:00:30.446Z"
   },
   {
    "duration": 11,
    "start_time": "2023-04-04T11:00:30.605Z"
   },
   {
    "duration": 41,
    "start_time": "2023-04-04T11:00:30.617Z"
   },
   {
    "duration": 43,
    "start_time": "2023-04-04T11:00:30.661Z"
   },
   {
    "duration": 30,
    "start_time": "2023-04-04T11:00:30.707Z"
   },
   {
    "duration": 31,
    "start_time": "2023-04-04T11:00:30.739Z"
   },
   {
    "duration": 304,
    "start_time": "2023-04-04T11:00:30.772Z"
   },
   {
    "duration": 363,
    "start_time": "2023-04-04T11:00:31.080Z"
   },
   {
    "duration": 22,
    "start_time": "2023-04-04T11:00:31.445Z"
   },
   {
    "duration": 245,
    "start_time": "2023-04-04T11:00:31.469Z"
   },
   {
    "duration": 278,
    "start_time": "2023-04-04T11:00:31.716Z"
   },
   {
    "duration": 265,
    "start_time": "2023-04-04T11:00:31.996Z"
   },
   {
    "duration": 19,
    "start_time": "2023-04-04T11:00:32.262Z"
   },
   {
    "duration": 22,
    "start_time": "2023-04-04T11:00:32.283Z"
   },
   {
    "duration": 44,
    "start_time": "2023-04-04T11:00:32.307Z"
   },
   {
    "duration": 36,
    "start_time": "2023-04-04T11:00:32.353Z"
   },
   {
    "duration": 18,
    "start_time": "2023-04-04T11:00:32.390Z"
   },
   {
    "duration": 37,
    "start_time": "2023-04-04T11:00:32.410Z"
   },
   {
    "duration": 17,
    "start_time": "2023-04-04T11:00:32.449Z"
   },
   {
    "duration": 12,
    "start_time": "2023-04-04T11:00:32.468Z"
   },
   {
    "duration": 7,
    "start_time": "2023-04-04T11:00:32.482Z"
   },
   {
    "duration": 1416,
    "start_time": "2023-04-04T11:11:32.196Z"
   },
   {
    "duration": 1430,
    "start_time": "2023-04-04T11:11:51.919Z"
   },
   {
    "duration": 16,
    "start_time": "2023-04-04T11:12:02.313Z"
   },
   {
    "duration": 1229,
    "start_time": "2023-04-04T11:12:18.619Z"
   },
   {
    "duration": 64,
    "start_time": "2023-04-04T11:12:19.850Z"
   },
   {
    "duration": 3,
    "start_time": "2023-04-04T11:12:19.916Z"
   },
   {
    "duration": 72,
    "start_time": "2023-04-04T11:12:19.920Z"
   },
   {
    "duration": 7,
    "start_time": "2023-04-04T11:12:19.995Z"
   },
   {
    "duration": 26,
    "start_time": "2023-04-04T11:12:20.003Z"
   },
   {
    "duration": 4,
    "start_time": "2023-04-04T11:12:20.040Z"
   },
   {
    "duration": 24,
    "start_time": "2023-04-04T11:12:20.046Z"
   },
   {
    "duration": 12,
    "start_time": "2023-04-04T11:12:20.072Z"
   },
   {
    "duration": 22,
    "start_time": "2023-04-04T11:12:20.086Z"
   },
   {
    "duration": 40,
    "start_time": "2023-04-04T11:12:20.109Z"
   },
   {
    "duration": 6,
    "start_time": "2023-04-04T11:12:20.151Z"
   },
   {
    "duration": 7,
    "start_time": "2023-04-04T11:12:20.159Z"
   },
   {
    "duration": 25,
    "start_time": "2023-04-04T11:12:20.170Z"
   },
   {
    "duration": 31,
    "start_time": "2023-04-04T11:12:20.197Z"
   },
   {
    "duration": 15,
    "start_time": "2023-04-04T11:12:20.230Z"
   },
   {
    "duration": 25,
    "start_time": "2023-04-04T11:12:20.248Z"
   },
   {
    "duration": 43,
    "start_time": "2023-04-04T11:12:20.275Z"
   },
   {
    "duration": 11,
    "start_time": "2023-04-04T11:12:20.320Z"
   },
   {
    "duration": 19,
    "start_time": "2023-04-04T11:12:20.333Z"
   },
   {
    "duration": 8,
    "start_time": "2023-04-04T11:12:20.355Z"
   },
   {
    "duration": 57,
    "start_time": "2023-04-04T11:12:20.365Z"
   },
   {
    "duration": 13,
    "start_time": "2023-04-04T11:12:20.424Z"
   },
   {
    "duration": 7,
    "start_time": "2023-04-04T11:12:20.441Z"
   },
   {
    "duration": 139,
    "start_time": "2023-04-04T11:12:20.450Z"
   },
   {
    "duration": 14,
    "start_time": "2023-04-04T11:12:20.591Z"
   },
   {
    "duration": 1458,
    "start_time": "2023-04-04T11:12:20.607Z"
   },
   {
    "duration": 0,
    "start_time": "2023-04-04T11:12:22.068Z"
   },
   {
    "duration": 0,
    "start_time": "2023-04-04T11:12:22.070Z"
   },
   {
    "duration": 0,
    "start_time": "2023-04-04T11:12:22.071Z"
   },
   {
    "duration": 0,
    "start_time": "2023-04-04T11:12:22.072Z"
   },
   {
    "duration": 0,
    "start_time": "2023-04-04T11:12:22.074Z"
   },
   {
    "duration": 0,
    "start_time": "2023-04-04T11:12:22.075Z"
   },
   {
    "duration": 0,
    "start_time": "2023-04-04T11:12:22.076Z"
   },
   {
    "duration": 0,
    "start_time": "2023-04-04T11:12:22.079Z"
   },
   {
    "duration": 0,
    "start_time": "2023-04-04T11:12:22.080Z"
   },
   {
    "duration": 1,
    "start_time": "2023-04-04T11:12:22.081Z"
   },
   {
    "duration": 0,
    "start_time": "2023-04-04T11:12:22.082Z"
   },
   {
    "duration": 0,
    "start_time": "2023-04-04T11:12:22.084Z"
   },
   {
    "duration": 0,
    "start_time": "2023-04-04T11:12:22.085Z"
   },
   {
    "duration": 0,
    "start_time": "2023-04-04T11:12:22.087Z"
   },
   {
    "duration": 0,
    "start_time": "2023-04-04T11:12:22.089Z"
   },
   {
    "duration": 0,
    "start_time": "2023-04-04T11:12:22.090Z"
   },
   {
    "duration": 0,
    "start_time": "2023-04-04T11:12:22.092Z"
   },
   {
    "duration": 0,
    "start_time": "2023-04-04T11:12:22.093Z"
   },
   {
    "duration": 0,
    "start_time": "2023-04-04T11:12:22.094Z"
   },
   {
    "duration": 0,
    "start_time": "2023-04-04T11:12:22.095Z"
   },
   {
    "duration": 0,
    "start_time": "2023-04-04T11:12:22.096Z"
   },
   {
    "duration": 0,
    "start_time": "2023-04-04T11:12:22.097Z"
   },
   {
    "duration": 0,
    "start_time": "2023-04-04T11:12:22.098Z"
   },
   {
    "duration": 0,
    "start_time": "2023-04-04T11:12:22.099Z"
   },
   {
    "duration": 0,
    "start_time": "2023-04-04T11:12:22.100Z"
   },
   {
    "duration": 0,
    "start_time": "2023-04-04T11:12:22.101Z"
   },
   {
    "duration": 0,
    "start_time": "2023-04-04T11:12:22.102Z"
   },
   {
    "duration": 206,
    "start_time": "2023-04-04T11:14:10.468Z"
   },
   {
    "duration": 1254,
    "start_time": "2023-04-04T11:26:47.814Z"
   },
   {
    "duration": 53,
    "start_time": "2023-04-04T11:26:49.072Z"
   },
   {
    "duration": 4,
    "start_time": "2023-04-04T11:26:49.127Z"
   },
   {
    "duration": 85,
    "start_time": "2023-04-04T11:26:49.133Z"
   },
   {
    "duration": 5,
    "start_time": "2023-04-04T11:26:49.220Z"
   },
   {
    "duration": 34,
    "start_time": "2023-04-04T11:26:49.227Z"
   },
   {
    "duration": 6,
    "start_time": "2023-04-04T11:26:49.263Z"
   },
   {
    "duration": 39,
    "start_time": "2023-04-04T11:26:49.271Z"
   },
   {
    "duration": 17,
    "start_time": "2023-04-04T11:26:49.312Z"
   },
   {
    "duration": 22,
    "start_time": "2023-04-04T11:26:49.350Z"
   },
   {
    "duration": 26,
    "start_time": "2023-04-04T11:26:49.374Z"
   },
   {
    "duration": 6,
    "start_time": "2023-04-04T11:26:49.402Z"
   },
   {
    "duration": 5,
    "start_time": "2023-04-04T11:26:49.410Z"
   },
   {
    "duration": 23,
    "start_time": "2023-04-04T11:26:49.442Z"
   },
   {
    "duration": 7,
    "start_time": "2023-04-04T11:26:49.467Z"
   },
   {
    "duration": 6,
    "start_time": "2023-04-04T11:26:49.476Z"
   },
   {
    "duration": 26,
    "start_time": "2023-04-04T11:26:49.484Z"
   },
   {
    "duration": 55,
    "start_time": "2023-04-04T11:26:49.511Z"
   },
   {
    "duration": 11,
    "start_time": "2023-04-04T11:26:49.568Z"
   },
   {
    "duration": 17,
    "start_time": "2023-04-04T11:26:49.581Z"
   },
   {
    "duration": 15,
    "start_time": "2023-04-04T11:26:49.600Z"
   },
   {
    "duration": 55,
    "start_time": "2023-04-04T11:26:49.616Z"
   },
   {
    "duration": 15,
    "start_time": "2023-04-04T11:26:49.673Z"
   },
   {
    "duration": 18,
    "start_time": "2023-04-04T11:26:49.690Z"
   },
   {
    "duration": 129,
    "start_time": "2023-04-04T11:26:49.710Z"
   },
   {
    "duration": 35,
    "start_time": "2023-04-04T11:26:49.841Z"
   },
   {
    "duration": 173,
    "start_time": "2023-04-04T11:26:49.877Z"
   },
   {
    "duration": 13,
    "start_time": "2023-04-04T11:26:50.052Z"
   },
   {
    "duration": 43,
    "start_time": "2023-04-04T11:26:50.067Z"
   },
   {
    "duration": 189,
    "start_time": "2023-04-04T11:26:50.112Z"
   },
   {
    "duration": 2212,
    "start_time": "2023-04-04T11:26:50.303Z"
   },
   {
    "duration": 9,
    "start_time": "2023-04-04T11:26:52.517Z"
   },
   {
    "duration": 317,
    "start_time": "2023-04-04T11:26:52.546Z"
   },
   {
    "duration": 309,
    "start_time": "2023-04-04T11:26:52.865Z"
   },
   {
    "duration": 155,
    "start_time": "2023-04-04T11:26:53.175Z"
   },
   {
    "duration": 31,
    "start_time": "2023-04-04T11:26:53.331Z"
   },
   {
    "duration": 15,
    "start_time": "2023-04-04T11:26:53.364Z"
   },
   {
    "duration": 12,
    "start_time": "2023-04-04T11:26:53.381Z"
   },
   {
    "duration": 11,
    "start_time": "2023-04-04T11:26:53.395Z"
   },
   {
    "duration": 49,
    "start_time": "2023-04-04T11:26:53.408Z"
   },
   {
    "duration": 343,
    "start_time": "2023-04-04T11:26:53.463Z"
   },
   {
    "duration": 388,
    "start_time": "2023-04-04T11:26:53.808Z"
   },
   {
    "duration": 17,
    "start_time": "2023-04-04T11:26:54.198Z"
   },
   {
    "duration": 245,
    "start_time": "2023-04-04T11:26:54.216Z"
   },
   {
    "duration": 305,
    "start_time": "2023-04-04T11:26:54.463Z"
   },
   {
    "duration": 323,
    "start_time": "2023-04-04T11:26:54.769Z"
   },
   {
    "duration": 21,
    "start_time": "2023-04-04T11:26:55.094Z"
   },
   {
    "duration": 47,
    "start_time": "2023-04-04T11:26:55.116Z"
   },
   {
    "duration": 20,
    "start_time": "2023-04-04T11:26:55.165Z"
   },
   {
    "duration": 29,
    "start_time": "2023-04-04T11:26:55.187Z"
   },
   {
    "duration": 45,
    "start_time": "2023-04-04T11:26:55.218Z"
   },
   {
    "duration": 10,
    "start_time": "2023-04-04T11:26:55.265Z"
   },
   {
    "duration": 7,
    "start_time": "2023-04-04T11:26:55.277Z"
   },
   {
    "duration": 11,
    "start_time": "2023-04-04T11:26:55.285Z"
   },
   {
    "duration": 7,
    "start_time": "2023-04-04T11:26:55.298Z"
   },
   {
    "duration": 17,
    "start_time": "2023-04-04T11:29:08.789Z"
   },
   {
    "duration": 22,
    "start_time": "2023-04-04T11:29:50.758Z"
   },
   {
    "duration": 24,
    "start_time": "2023-04-04T11:30:26.257Z"
   },
   {
    "duration": 18,
    "start_time": "2023-04-04T11:38:10.390Z"
   },
   {
    "duration": 142,
    "start_time": "2023-04-04T11:40:22.360Z"
   },
   {
    "duration": 10,
    "start_time": "2023-04-04T11:41:21.309Z"
   },
   {
    "duration": 16,
    "start_time": "2023-04-04T11:41:28.119Z"
   },
   {
    "duration": 16,
    "start_time": "2023-04-04T11:41:39.688Z"
   },
   {
    "duration": 140,
    "start_time": "2023-04-04T11:43:36.709Z"
   },
   {
    "duration": 16,
    "start_time": "2023-04-04T11:43:42.216Z"
   },
   {
    "duration": 16,
    "start_time": "2023-04-04T11:43:58.691Z"
   },
   {
    "duration": 20,
    "start_time": "2023-04-04T11:47:55.556Z"
   },
   {
    "duration": 28,
    "start_time": "2023-04-04T11:48:05.922Z"
   },
   {
    "duration": 20,
    "start_time": "2023-04-04T11:48:08.413Z"
   },
   {
    "duration": 22,
    "start_time": "2023-04-04T11:48:25.959Z"
   },
   {
    "duration": 21,
    "start_time": "2023-04-04T11:48:50.855Z"
   },
   {
    "duration": 93,
    "start_time": "2023-04-04T11:49:42.519Z"
   },
   {
    "duration": 100,
    "start_time": "2023-04-04T11:49:45.235Z"
   },
   {
    "duration": 27,
    "start_time": "2023-04-04T11:49:48.835Z"
   },
   {
    "duration": 158,
    "start_time": "2023-04-04T11:50:03.126Z"
   },
   {
    "duration": 30,
    "start_time": "2023-04-04T11:50:11.851Z"
   },
   {
    "duration": 21,
    "start_time": "2023-04-04T11:50:34.898Z"
   },
   {
    "duration": 21,
    "start_time": "2023-04-04T11:50:40.099Z"
   },
   {
    "duration": 19,
    "start_time": "2023-04-04T11:51:37.598Z"
   },
   {
    "duration": 21,
    "start_time": "2023-04-04T11:51:47.354Z"
   },
   {
    "duration": 1371,
    "start_time": "2023-04-04T11:52:17.956Z"
   },
   {
    "duration": 1494,
    "start_time": "2023-04-04T11:52:22.925Z"
   },
   {
    "duration": 1476,
    "start_time": "2023-04-04T11:52:33.625Z"
   },
   {
    "duration": 29,
    "start_time": "2023-04-04T11:53:15.208Z"
   },
   {
    "duration": 89,
    "start_time": "2023-04-04T11:54:09.007Z"
   },
   {
    "duration": 13,
    "start_time": "2023-04-04T11:54:11.726Z"
   },
   {
    "duration": 24,
    "start_time": "2023-04-04T11:54:27.495Z"
   },
   {
    "duration": 13,
    "start_time": "2023-04-04T11:54:40.060Z"
   },
   {
    "duration": 18,
    "start_time": "2023-04-04T11:55:10.729Z"
   },
   {
    "duration": 42,
    "start_time": "2023-04-04T11:55:15.611Z"
   },
   {
    "duration": 13,
    "start_time": "2023-04-04T11:55:23.059Z"
   },
   {
    "duration": 43,
    "start_time": "2023-04-04T11:55:52.616Z"
   },
   {
    "duration": 12,
    "start_time": "2023-04-04T11:57:50.656Z"
   },
   {
    "duration": 36,
    "start_time": "2023-04-04T11:57:58.938Z"
   },
   {
    "duration": 20,
    "start_time": "2023-04-04T11:58:07.102Z"
   },
   {
    "duration": 20,
    "start_time": "2023-04-04T11:58:10.112Z"
   },
   {
    "duration": 22,
    "start_time": "2023-04-04T11:58:51.115Z"
   },
   {
    "duration": 1367,
    "start_time": "2023-04-04T11:59:27.499Z"
   },
   {
    "duration": 11,
    "start_time": "2023-04-04T12:02:54.870Z"
   },
   {
    "duration": 11,
    "start_time": "2023-04-04T12:03:23.567Z"
   },
   {
    "duration": 11,
    "start_time": "2023-04-04T12:03:52.828Z"
   },
   {
    "duration": 16,
    "start_time": "2023-04-04T12:04:04.341Z"
   },
   {
    "duration": 12,
    "start_time": "2023-04-04T12:04:11.860Z"
   },
   {
    "duration": 13,
    "start_time": "2023-04-04T12:04:12.869Z"
   },
   {
    "duration": 19,
    "start_time": "2023-04-04T12:04:50.972Z"
   },
   {
    "duration": 26,
    "start_time": "2023-04-04T12:05:10.627Z"
   },
   {
    "duration": 33,
    "start_time": "2023-04-04T12:05:22.065Z"
   },
   {
    "duration": 31,
    "start_time": "2023-04-04T12:05:42.627Z"
   },
   {
    "duration": 93,
    "start_time": "2023-04-04T12:10:17.404Z"
   },
   {
    "duration": 17,
    "start_time": "2023-04-04T12:10:25.205Z"
   },
   {
    "duration": 27,
    "start_time": "2023-04-04T12:10:38.596Z"
   },
   {
    "duration": 12,
    "start_time": "2023-04-04T12:11:37.311Z"
   },
   {
    "duration": 1327,
    "start_time": "2023-04-04T12:11:44.637Z"
   },
   {
    "duration": 1270,
    "start_time": "2023-04-04T12:11:50.610Z"
   },
   {
    "duration": 12,
    "start_time": "2023-04-04T12:12:10.697Z"
   },
   {
    "duration": 9,
    "start_time": "2023-04-04T12:12:31.816Z"
   },
   {
    "duration": 11,
    "start_time": "2023-04-04T12:12:35.206Z"
   },
   {
    "duration": 1386,
    "start_time": "2023-04-04T12:12:40.017Z"
   },
   {
    "duration": 4,
    "start_time": "2023-04-04T12:14:53.207Z"
   },
   {
    "duration": 38,
    "start_time": "2023-04-04T12:14:59.015Z"
   },
   {
    "duration": 1436,
    "start_time": "2023-04-04T12:15:53.541Z"
   },
   {
    "duration": 1496,
    "start_time": "2023-04-04T12:16:11.998Z"
   },
   {
    "duration": 1470,
    "start_time": "2023-04-04T12:16:35.421Z"
   },
   {
    "duration": 27,
    "start_time": "2023-04-04T12:16:48.699Z"
   },
   {
    "duration": 19,
    "start_time": "2023-04-04T12:17:33.664Z"
   },
   {
    "duration": 21,
    "start_time": "2023-04-04T12:19:27.402Z"
   },
   {
    "duration": 31,
    "start_time": "2023-04-04T12:19:30.939Z"
   },
   {
    "duration": 76,
    "start_time": "2023-04-04T12:24:09.351Z"
   },
   {
    "duration": 15,
    "start_time": "2023-04-04T12:24:13.099Z"
   },
   {
    "duration": 11,
    "start_time": "2023-04-04T12:25:03.796Z"
   },
   {
    "duration": 18,
    "start_time": "2023-04-04T12:26:15.210Z"
   },
   {
    "duration": 346,
    "start_time": "2023-04-04T12:26:21.447Z"
   },
   {
    "duration": 21,
    "start_time": "2023-04-04T12:26:48.708Z"
   },
   {
    "duration": 20,
    "start_time": "2023-04-04T12:26:53.996Z"
   },
   {
    "duration": 4,
    "start_time": "2023-04-04T12:27:35.803Z"
   },
   {
    "duration": 91,
    "start_time": "2023-04-04T12:31:21.297Z"
   },
   {
    "duration": 9,
    "start_time": "2023-04-04T12:32:54.591Z"
   },
   {
    "duration": 9,
    "start_time": "2023-04-04T12:33:12.759Z"
   },
   {
    "duration": 20,
    "start_time": "2023-04-04T12:33:35.968Z"
   },
   {
    "duration": 15,
    "start_time": "2023-04-04T12:35:58.391Z"
   },
   {
    "duration": 21,
    "start_time": "2023-04-04T12:36:31.694Z"
   },
   {
    "duration": 1159,
    "start_time": "2023-04-04T12:36:39.502Z"
   },
   {
    "duration": 50,
    "start_time": "2023-04-04T12:36:40.663Z"
   },
   {
    "duration": 4,
    "start_time": "2023-04-04T12:36:40.715Z"
   },
   {
    "duration": 71,
    "start_time": "2023-04-04T12:36:40.720Z"
   },
   {
    "duration": 4,
    "start_time": "2023-04-04T12:36:40.793Z"
   },
   {
    "duration": 25,
    "start_time": "2023-04-04T12:36:40.798Z"
   },
   {
    "duration": 14,
    "start_time": "2023-04-04T12:36:40.824Z"
   },
   {
    "duration": 61,
    "start_time": "2023-04-04T12:36:40.840Z"
   },
   {
    "duration": 29,
    "start_time": "2023-04-04T12:36:40.903Z"
   },
   {
    "duration": 44,
    "start_time": "2023-04-04T12:36:40.934Z"
   },
   {
    "duration": 18,
    "start_time": "2023-04-04T12:36:40.979Z"
   },
   {
    "duration": 5,
    "start_time": "2023-04-04T12:36:40.998Z"
   },
   {
    "duration": 27,
    "start_time": "2023-04-04T12:36:41.004Z"
   },
   {
    "duration": 10,
    "start_time": "2023-04-04T12:36:41.035Z"
   },
   {
    "duration": 32,
    "start_time": "2023-04-04T12:36:41.047Z"
   },
   {
    "duration": 5,
    "start_time": "2023-04-04T12:36:41.080Z"
   },
   {
    "duration": 16,
    "start_time": "2023-04-04T12:36:41.087Z"
   },
   {
    "duration": 18,
    "start_time": "2023-04-04T12:36:41.105Z"
   },
   {
    "duration": 15,
    "start_time": "2023-04-04T12:36:41.124Z"
   },
   {
    "duration": 6,
    "start_time": "2023-04-04T12:36:41.141Z"
   },
   {
    "duration": 7,
    "start_time": "2023-04-04T12:36:41.148Z"
   },
   {
    "duration": 28,
    "start_time": "2023-04-04T12:36:41.157Z"
   },
   {
    "duration": 11,
    "start_time": "2023-04-04T12:36:41.187Z"
   },
   {
    "duration": 6,
    "start_time": "2023-04-04T12:36:41.199Z"
   },
   {
    "duration": 107,
    "start_time": "2023-04-04T12:36:41.207Z"
   },
   {
    "duration": 25,
    "start_time": "2023-04-04T12:36:41.316Z"
   },
   {
    "duration": 168,
    "start_time": "2023-04-04T12:36:41.342Z"
   },
   {
    "duration": 16,
    "start_time": "2023-04-04T12:36:41.511Z"
   },
   {
    "duration": 32,
    "start_time": "2023-04-04T12:36:41.528Z"
   },
   {
    "duration": 4,
    "start_time": "2023-04-04T12:36:41.562Z"
   },
   {
    "duration": 19,
    "start_time": "2023-04-04T12:36:41.567Z"
   },
   {
    "duration": 10,
    "start_time": "2023-04-04T12:36:41.588Z"
   },
   {
    "duration": 148,
    "start_time": "2023-04-04T12:36:41.599Z"
   },
   {
    "duration": 0,
    "start_time": "2023-04-04T12:36:41.750Z"
   },
   {
    "duration": 0,
    "start_time": "2023-04-04T12:36:41.751Z"
   },
   {
    "duration": 0,
    "start_time": "2023-04-04T12:36:41.752Z"
   },
   {
    "duration": 0,
    "start_time": "2023-04-04T12:36:41.753Z"
   },
   {
    "duration": 0,
    "start_time": "2023-04-04T12:36:41.754Z"
   },
   {
    "duration": 0,
    "start_time": "2023-04-04T12:36:41.755Z"
   },
   {
    "duration": 0,
    "start_time": "2023-04-04T12:36:41.756Z"
   },
   {
    "duration": 0,
    "start_time": "2023-04-04T12:36:41.757Z"
   },
   {
    "duration": 0,
    "start_time": "2023-04-04T12:36:41.758Z"
   },
   {
    "duration": 0,
    "start_time": "2023-04-04T12:36:41.759Z"
   },
   {
    "duration": 0,
    "start_time": "2023-04-04T12:36:41.760Z"
   },
   {
    "duration": 0,
    "start_time": "2023-04-04T12:36:41.761Z"
   },
   {
    "duration": 0,
    "start_time": "2023-04-04T12:36:41.762Z"
   },
   {
    "duration": 0,
    "start_time": "2023-04-04T12:36:41.762Z"
   },
   {
    "duration": 0,
    "start_time": "2023-04-04T12:36:41.763Z"
   },
   {
    "duration": 0,
    "start_time": "2023-04-04T12:36:41.764Z"
   },
   {
    "duration": 0,
    "start_time": "2023-04-04T12:36:41.765Z"
   },
   {
    "duration": 0,
    "start_time": "2023-04-04T12:36:41.766Z"
   },
   {
    "duration": 0,
    "start_time": "2023-04-04T12:36:41.766Z"
   },
   {
    "duration": 0,
    "start_time": "2023-04-04T12:36:41.767Z"
   },
   {
    "duration": 0,
    "start_time": "2023-04-04T12:36:41.768Z"
   },
   {
    "duration": 0,
    "start_time": "2023-04-04T12:36:41.769Z"
   },
   {
    "duration": 1210,
    "start_time": "2023-04-04T12:37:51.199Z"
   },
   {
    "duration": 51,
    "start_time": "2023-04-04T12:37:52.412Z"
   },
   {
    "duration": 3,
    "start_time": "2023-04-04T12:37:52.465Z"
   },
   {
    "duration": 116,
    "start_time": "2023-04-04T12:37:52.470Z"
   },
   {
    "duration": 6,
    "start_time": "2023-04-04T12:37:52.589Z"
   },
   {
    "duration": 19,
    "start_time": "2023-04-04T12:37:52.596Z"
   },
   {
    "duration": 23,
    "start_time": "2023-04-04T12:37:52.617Z"
   },
   {
    "duration": 34,
    "start_time": "2023-04-04T12:37:52.642Z"
   },
   {
    "duration": 35,
    "start_time": "2023-04-04T12:37:52.678Z"
   },
   {
    "duration": 42,
    "start_time": "2023-04-04T12:37:52.715Z"
   },
   {
    "duration": 19,
    "start_time": "2023-04-04T12:37:52.759Z"
   },
   {
    "duration": 5,
    "start_time": "2023-04-04T12:37:52.780Z"
   },
   {
    "duration": 17,
    "start_time": "2023-04-04T12:37:52.786Z"
   },
   {
    "duration": 7,
    "start_time": "2023-04-04T12:37:52.806Z"
   },
   {
    "duration": 22,
    "start_time": "2023-04-04T12:37:52.814Z"
   },
   {
    "duration": 18,
    "start_time": "2023-04-04T12:37:52.837Z"
   },
   {
    "duration": 25,
    "start_time": "2023-04-04T12:37:52.856Z"
   },
   {
    "duration": 36,
    "start_time": "2023-04-04T12:37:52.883Z"
   },
   {
    "duration": 15,
    "start_time": "2023-04-04T12:37:52.921Z"
   },
   {
    "duration": 19,
    "start_time": "2023-04-04T12:37:52.938Z"
   },
   {
    "duration": 20,
    "start_time": "2023-04-04T12:37:52.958Z"
   },
   {
    "duration": 27,
    "start_time": "2023-04-04T12:37:52.979Z"
   },
   {
    "duration": 12,
    "start_time": "2023-04-04T12:37:53.007Z"
   },
   {
    "duration": 17,
    "start_time": "2023-04-04T12:37:53.021Z"
   },
   {
    "duration": 82,
    "start_time": "2023-04-04T12:37:53.040Z"
   },
   {
    "duration": 26,
    "start_time": "2023-04-04T12:37:53.124Z"
   },
   {
    "duration": 166,
    "start_time": "2023-04-04T12:37:53.152Z"
   },
   {
    "duration": 23,
    "start_time": "2023-04-04T12:37:53.320Z"
   },
   {
    "duration": 20,
    "start_time": "2023-04-04T12:37:53.344Z"
   },
   {
    "duration": 4,
    "start_time": "2023-04-04T12:37:53.365Z"
   },
   {
    "duration": 11,
    "start_time": "2023-04-04T12:37:53.370Z"
   },
   {
    "duration": 6,
    "start_time": "2023-04-04T12:37:53.383Z"
   },
   {
    "duration": 164,
    "start_time": "2023-04-04T12:37:53.391Z"
   },
   {
    "duration": 0,
    "start_time": "2023-04-04T12:37:53.558Z"
   },
   {
    "duration": 0,
    "start_time": "2023-04-04T12:37:53.559Z"
   },
   {
    "duration": 0,
    "start_time": "2023-04-04T12:37:53.561Z"
   },
   {
    "duration": 0,
    "start_time": "2023-04-04T12:37:53.562Z"
   },
   {
    "duration": 0,
    "start_time": "2023-04-04T12:37:53.563Z"
   },
   {
    "duration": 0,
    "start_time": "2023-04-04T12:37:53.565Z"
   },
   {
    "duration": 0,
    "start_time": "2023-04-04T12:37:53.566Z"
   },
   {
    "duration": 0,
    "start_time": "2023-04-04T12:37:53.567Z"
   },
   {
    "duration": 0,
    "start_time": "2023-04-04T12:37:53.568Z"
   },
   {
    "duration": 0,
    "start_time": "2023-04-04T12:37:53.569Z"
   },
   {
    "duration": 0,
    "start_time": "2023-04-04T12:37:53.570Z"
   },
   {
    "duration": 0,
    "start_time": "2023-04-04T12:37:53.571Z"
   },
   {
    "duration": 0,
    "start_time": "2023-04-04T12:37:53.572Z"
   },
   {
    "duration": 0,
    "start_time": "2023-04-04T12:37:53.574Z"
   },
   {
    "duration": 0,
    "start_time": "2023-04-04T12:37:53.575Z"
   },
   {
    "duration": 0,
    "start_time": "2023-04-04T12:37:53.576Z"
   },
   {
    "duration": 0,
    "start_time": "2023-04-04T12:37:53.577Z"
   },
   {
    "duration": 0,
    "start_time": "2023-04-04T12:37:53.578Z"
   },
   {
    "duration": 0,
    "start_time": "2023-04-04T12:37:53.579Z"
   },
   {
    "duration": 0,
    "start_time": "2023-04-04T12:37:53.580Z"
   },
   {
    "duration": 0,
    "start_time": "2023-04-04T12:37:53.581Z"
   },
   {
    "duration": 0,
    "start_time": "2023-04-04T12:37:53.582Z"
   },
   {
    "duration": 12,
    "start_time": "2023-04-04T12:39:00.903Z"
   },
   {
    "duration": 11,
    "start_time": "2023-04-04T12:39:10.250Z"
   },
   {
    "duration": 30,
    "start_time": "2023-04-04T12:51:09.597Z"
   },
   {
    "duration": 27,
    "start_time": "2023-04-04T12:51:28.152Z"
   },
   {
    "duration": 399,
    "start_time": "2023-04-04T12:51:47.299Z"
   },
   {
    "duration": 313,
    "start_time": "2023-04-04T12:52:10.680Z"
   },
   {
    "duration": 838,
    "start_time": "2023-04-04T12:54:32.094Z"
   },
   {
    "duration": 864,
    "start_time": "2023-04-04T12:54:54.257Z"
   },
   {
    "duration": 367,
    "start_time": "2023-04-04T12:55:36.006Z"
   },
   {
    "duration": 466,
    "start_time": "2023-04-04T12:55:48.137Z"
   },
   {
    "duration": 327,
    "start_time": "2023-04-04T12:56:36.524Z"
   },
   {
    "duration": 6,
    "start_time": "2023-04-04T12:58:36.780Z"
   },
   {
    "duration": 395,
    "start_time": "2023-04-04T12:58:39.389Z"
   },
   {
    "duration": 279,
    "start_time": "2023-04-04T13:07:39.330Z"
   },
   {
    "duration": 277,
    "start_time": "2023-04-04T13:07:49.136Z"
   },
   {
    "duration": 399,
    "start_time": "2023-04-04T15:56:36.647Z"
   },
   {
    "duration": 1213,
    "start_time": "2023-04-04T16:06:07.848Z"
   },
   {
    "duration": 51,
    "start_time": "2023-04-04T16:06:09.062Z"
   },
   {
    "duration": 3,
    "start_time": "2023-04-04T16:06:09.114Z"
   },
   {
    "duration": 86,
    "start_time": "2023-04-04T16:06:09.119Z"
   },
   {
    "duration": 5,
    "start_time": "2023-04-04T16:06:09.206Z"
   },
   {
    "duration": 33,
    "start_time": "2023-04-04T16:06:09.212Z"
   },
   {
    "duration": 39,
    "start_time": "2023-04-04T16:06:09.247Z"
   },
   {
    "duration": 37,
    "start_time": "2023-04-04T16:06:09.288Z"
   },
   {
    "duration": 20,
    "start_time": "2023-04-04T16:06:09.327Z"
   },
   {
    "duration": 27,
    "start_time": "2023-04-04T16:06:09.349Z"
   },
   {
    "duration": 24,
    "start_time": "2023-04-04T16:06:09.378Z"
   },
   {
    "duration": 6,
    "start_time": "2023-04-04T16:06:09.404Z"
   },
   {
    "duration": 18,
    "start_time": "2023-04-04T16:06:09.412Z"
   },
   {
    "duration": 17,
    "start_time": "2023-04-04T16:06:09.431Z"
   },
   {
    "duration": 19,
    "start_time": "2023-04-04T16:06:09.450Z"
   },
   {
    "duration": 18,
    "start_time": "2023-04-04T16:06:09.471Z"
   },
   {
    "duration": 22,
    "start_time": "2023-04-04T16:06:09.490Z"
   },
   {
    "duration": 39,
    "start_time": "2023-04-04T16:06:09.514Z"
   },
   {
    "duration": 8,
    "start_time": "2023-04-04T16:06:09.554Z"
   },
   {
    "duration": 5,
    "start_time": "2023-04-04T16:06:09.563Z"
   },
   {
    "duration": 20,
    "start_time": "2023-04-04T16:06:09.569Z"
   },
   {
    "duration": 28,
    "start_time": "2023-04-04T16:06:09.590Z"
   },
   {
    "duration": 22,
    "start_time": "2023-04-04T16:06:09.620Z"
   },
   {
    "duration": 6,
    "start_time": "2023-04-04T16:06:09.644Z"
   },
   {
    "duration": 105,
    "start_time": "2023-04-04T16:06:09.652Z"
   },
   {
    "duration": 14,
    "start_time": "2023-04-04T16:06:09.758Z"
   },
   {
    "duration": 170,
    "start_time": "2023-04-04T16:06:09.773Z"
   },
   {
    "duration": 18,
    "start_time": "2023-04-04T16:06:09.946Z"
   },
   {
    "duration": 20,
    "start_time": "2023-04-04T16:06:09.965Z"
   },
   {
    "duration": 11,
    "start_time": "2023-04-04T16:06:09.986Z"
   },
   {
    "duration": 7,
    "start_time": "2023-04-04T16:06:09.999Z"
   },
   {
    "duration": 380,
    "start_time": "2023-04-04T16:06:10.039Z"
   },
   {
    "duration": 354,
    "start_time": "2023-04-04T16:06:10.421Z"
   },
   {
    "duration": 115,
    "start_time": "2023-04-04T16:06:10.777Z"
   },
   {
    "duration": 0,
    "start_time": "2023-04-04T16:06:10.894Z"
   },
   {
    "duration": 0,
    "start_time": "2023-04-04T16:06:10.895Z"
   },
   {
    "duration": 0,
    "start_time": "2023-04-04T16:06:10.896Z"
   },
   {
    "duration": 0,
    "start_time": "2023-04-04T16:06:10.897Z"
   },
   {
    "duration": 0,
    "start_time": "2023-04-04T16:06:10.898Z"
   },
   {
    "duration": 0,
    "start_time": "2023-04-04T16:06:10.900Z"
   },
   {
    "duration": 0,
    "start_time": "2023-04-04T16:06:10.901Z"
   },
   {
    "duration": 0,
    "start_time": "2023-04-04T16:06:10.903Z"
   },
   {
    "duration": 0,
    "start_time": "2023-04-04T16:06:10.904Z"
   },
   {
    "duration": 0,
    "start_time": "2023-04-04T16:06:10.906Z"
   },
   {
    "duration": 0,
    "start_time": "2023-04-04T16:06:10.907Z"
   },
   {
    "duration": 0,
    "start_time": "2023-04-04T16:06:10.909Z"
   },
   {
    "duration": 0,
    "start_time": "2023-04-04T16:06:10.910Z"
   },
   {
    "duration": 0,
    "start_time": "2023-04-04T16:06:10.940Z"
   },
   {
    "duration": 0,
    "start_time": "2023-04-04T16:06:10.941Z"
   },
   {
    "duration": 0,
    "start_time": "2023-04-04T16:06:10.942Z"
   },
   {
    "duration": 0,
    "start_time": "2023-04-04T16:06:10.943Z"
   },
   {
    "duration": 0,
    "start_time": "2023-04-04T16:06:10.944Z"
   },
   {
    "duration": 0,
    "start_time": "2023-04-04T16:06:10.945Z"
   },
   {
    "duration": 0,
    "start_time": "2023-04-04T16:06:10.946Z"
   },
   {
    "duration": 131,
    "start_time": "2023-04-04T16:07:06.040Z"
   },
   {
    "duration": 187,
    "start_time": "2023-04-04T16:20:17.579Z"
   },
   {
    "duration": 310,
    "start_time": "2023-04-04T16:23:26.759Z"
   },
   {
    "duration": 283,
    "start_time": "2023-04-04T16:23:54.714Z"
   },
   {
    "duration": 201,
    "start_time": "2023-04-04T16:23:57.772Z"
   },
   {
    "duration": 181,
    "start_time": "2023-04-04T16:24:02.670Z"
   },
   {
    "duration": 200,
    "start_time": "2023-04-04T16:24:06.318Z"
   },
   {
    "duration": 260,
    "start_time": "2023-04-04T16:24:27.183Z"
   },
   {
    "duration": 134,
    "start_time": "2023-04-04T16:28:43.590Z"
   },
   {
    "duration": 300,
    "start_time": "2023-04-04T16:29:39.943Z"
   },
   {
    "duration": 12,
    "start_time": "2023-04-04T16:31:09.141Z"
   },
   {
    "duration": 16,
    "start_time": "2023-04-04T16:33:17.743Z"
   },
   {
    "duration": 9,
    "start_time": "2023-04-04T16:33:18.728Z"
   },
   {
    "duration": 10,
    "start_time": "2023-04-04T16:33:19.754Z"
   },
   {
    "duration": 12,
    "start_time": "2023-04-04T16:33:20.378Z"
   },
   {
    "duration": 11,
    "start_time": "2023-04-04T16:37:08.977Z"
   },
   {
    "duration": 249,
    "start_time": "2023-04-04T16:37:22.909Z"
   },
   {
    "duration": 336,
    "start_time": "2023-04-04T16:37:24.855Z"
   },
   {
    "duration": 22,
    "start_time": "2023-04-04T16:37:27.119Z"
   },
   {
    "duration": 321,
    "start_time": "2023-04-04T16:41:30.752Z"
   },
   {
    "duration": 18,
    "start_time": "2023-04-04T16:41:38.583Z"
   },
   {
    "duration": 384,
    "start_time": "2023-04-04T16:49:49.301Z"
   },
   {
    "duration": 276,
    "start_time": "2023-04-04T16:50:09.371Z"
   },
   {
    "duration": 272,
    "start_time": "2023-04-04T16:50:28.030Z"
   },
   {
    "duration": 294,
    "start_time": "2023-04-04T16:51:27.615Z"
   },
   {
    "duration": 271,
    "start_time": "2023-04-04T16:51:49.528Z"
   },
   {
    "duration": 273,
    "start_time": "2023-04-04T16:52:18.515Z"
   },
   {
    "duration": 260,
    "start_time": "2023-04-04T16:53:04.130Z"
   },
   {
    "duration": 266,
    "start_time": "2023-04-04T16:53:14.382Z"
   },
   {
    "duration": 267,
    "start_time": "2023-04-04T16:55:21.158Z"
   },
   {
    "duration": 273,
    "start_time": "2023-04-04T16:57:58.824Z"
   },
   {
    "duration": 272,
    "start_time": "2023-04-04T16:59:55.979Z"
   },
   {
    "duration": 277,
    "start_time": "2023-04-04T17:00:32.027Z"
   },
   {
    "duration": 267,
    "start_time": "2023-04-04T17:00:40.549Z"
   },
   {
    "duration": 282,
    "start_time": "2023-04-04T17:01:09.537Z"
   },
   {
    "duration": 376,
    "start_time": "2023-04-04T17:02:01.460Z"
   },
   {
    "duration": 12,
    "start_time": "2023-04-04T17:03:11.579Z"
   },
   {
    "duration": 11,
    "start_time": "2023-04-04T17:03:14.043Z"
   },
   {
    "duration": 13,
    "start_time": "2023-04-04T17:03:25.707Z"
   },
   {
    "duration": 11,
    "start_time": "2023-04-04T17:04:06.423Z"
   },
   {
    "duration": 13,
    "start_time": "2023-04-04T17:04:10.552Z"
   },
   {
    "duration": 13,
    "start_time": "2023-04-04T17:04:47.569Z"
   },
   {
    "duration": 13,
    "start_time": "2023-04-04T17:05:22.468Z"
   },
   {
    "duration": 15,
    "start_time": "2023-04-04T17:05:47.804Z"
   },
   {
    "duration": 254,
    "start_time": "2023-04-04T17:05:57.429Z"
   },
   {
    "duration": 90,
    "start_time": "2023-04-04T17:06:46.070Z"
   },
   {
    "duration": 261,
    "start_time": "2023-04-04T17:06:54.820Z"
   },
   {
    "duration": 293,
    "start_time": "2023-04-04T17:07:56.824Z"
   },
   {
    "duration": 284,
    "start_time": "2023-04-04T17:29:57.052Z"
   },
   {
    "duration": 287,
    "start_time": "2023-04-04T17:30:39.695Z"
   },
   {
    "duration": 279,
    "start_time": "2023-04-04T17:30:41.819Z"
   },
   {
    "duration": 17,
    "start_time": "2023-04-04T17:30:43.659Z"
   },
   {
    "duration": 17,
    "start_time": "2023-04-04T17:30:45.243Z"
   },
   {
    "duration": 19,
    "start_time": "2023-04-04T17:30:46.653Z"
   },
   {
    "duration": 14,
    "start_time": "2023-04-04T17:31:12.531Z"
   },
   {
    "duration": 15,
    "start_time": "2023-04-04T17:31:15.718Z"
   },
   {
    "duration": 18,
    "start_time": "2023-04-04T17:31:42.015Z"
   },
   {
    "duration": 407,
    "start_time": "2023-04-04T17:34:45.964Z"
   },
   {
    "duration": 597,
    "start_time": "2023-04-04T17:35:06.191Z"
   },
   {
    "duration": 307,
    "start_time": "2023-04-04T17:35:43.034Z"
   },
   {
    "duration": 315,
    "start_time": "2023-04-04T17:36:12.323Z"
   },
   {
    "duration": 19,
    "start_time": "2023-04-04T17:37:35.005Z"
   },
   {
    "duration": 291,
    "start_time": "2023-04-04T17:37:37.813Z"
   },
   {
    "duration": 14,
    "start_time": "2023-04-04T17:37:43.429Z"
   },
   {
    "duration": 17,
    "start_time": "2023-04-04T17:37:46.782Z"
   },
   {
    "duration": 304,
    "start_time": "2023-04-04T17:38:43.500Z"
   },
   {
    "duration": 17,
    "start_time": "2023-04-04T17:40:14.193Z"
   },
   {
    "duration": 14,
    "start_time": "2023-04-04T17:40:49.387Z"
   },
   {
    "duration": 18,
    "start_time": "2023-04-04T17:40:56.080Z"
   },
   {
    "duration": 335,
    "start_time": "2023-04-04T17:41:28.806Z"
   },
   {
    "duration": 5,
    "start_time": "2023-04-04T17:44:35.977Z"
   },
   {
    "duration": 10,
    "start_time": "2023-04-04T17:46:02.903Z"
   },
   {
    "duration": 68,
    "start_time": "2023-04-04T17:47:53.054Z"
   },
   {
    "duration": 24,
    "start_time": "2023-04-04T17:47:59.432Z"
   },
   {
    "duration": 81,
    "start_time": "2023-04-04T17:48:13.855Z"
   },
   {
    "duration": 18,
    "start_time": "2023-04-04T17:48:18.391Z"
   },
   {
    "duration": 6,
    "start_time": "2023-04-04T17:49:01.252Z"
   },
   {
    "duration": 8,
    "start_time": "2023-04-04T17:51:12.983Z"
   },
   {
    "duration": 14,
    "start_time": "2023-04-04T17:51:27.821Z"
   },
   {
    "duration": 6,
    "start_time": "2023-04-04T17:51:31.837Z"
   },
   {
    "duration": 19,
    "start_time": "2023-04-04T17:52:08.792Z"
   },
   {
    "duration": 6,
    "start_time": "2023-04-04T17:53:58.163Z"
   },
   {
    "duration": 383,
    "start_time": "2023-04-04T17:54:22.282Z"
   },
   {
    "duration": 20,
    "start_time": "2023-04-04T18:00:18.396Z"
   },
   {
    "duration": 23,
    "start_time": "2023-04-04T18:00:41.940Z"
   },
   {
    "duration": 16,
    "start_time": "2023-04-04T18:00:43.497Z"
   },
   {
    "duration": 19,
    "start_time": "2023-04-04T18:00:46.435Z"
   },
   {
    "duration": 16,
    "start_time": "2023-04-04T18:00:48.407Z"
   },
   {
    "duration": 77,
    "start_time": "2023-04-04T18:01:37.921Z"
   },
   {
    "duration": 13,
    "start_time": "2023-04-04T18:04:17.547Z"
   },
   {
    "duration": 12,
    "start_time": "2023-04-04T18:04:22.096Z"
   },
   {
    "duration": 7,
    "start_time": "2023-04-04T18:04:23.165Z"
   },
   {
    "duration": 17,
    "start_time": "2023-04-04T18:06:43.393Z"
   },
   {
    "duration": 320,
    "start_time": "2023-04-04T18:07:26.224Z"
   },
   {
    "duration": 69,
    "start_time": "2023-04-04T18:15:25.425Z"
   },
   {
    "duration": 18,
    "start_time": "2023-04-04T18:15:37.315Z"
   },
   {
    "duration": 19,
    "start_time": "2023-04-04T18:15:55.890Z"
   },
   {
    "duration": 17,
    "start_time": "2023-04-04T18:16:45.293Z"
   },
   {
    "duration": 11,
    "start_time": "2023-04-04T18:28:42.110Z"
   },
   {
    "duration": 12,
    "start_time": "2023-04-04T18:29:02.995Z"
   },
   {
    "duration": 10,
    "start_time": "2023-04-04T18:29:08.683Z"
   },
   {
    "duration": 26,
    "start_time": "2023-04-04T18:29:18.336Z"
   },
   {
    "duration": 15,
    "start_time": "2023-04-04T18:29:31.446Z"
   },
   {
    "duration": 7,
    "start_time": "2023-04-04T18:31:25.212Z"
   },
   {
    "duration": 1193,
    "start_time": "2023-04-04T18:33:32.578Z"
   },
   {
    "duration": 16,
    "start_time": "2023-04-04T18:34:03.666Z"
   },
   {
    "duration": 10,
    "start_time": "2023-04-04T18:34:18.329Z"
   },
   {
    "duration": 18,
    "start_time": "2023-04-04T18:34:21.499Z"
   },
   {
    "duration": 30,
    "start_time": "2023-04-04T18:34:42.335Z"
   },
   {
    "duration": 36,
    "start_time": "2023-04-04T18:34:43.726Z"
   },
   {
    "duration": 29,
    "start_time": "2023-04-04T18:34:52.330Z"
   },
   {
    "duration": 6,
    "start_time": "2023-04-04T18:34:53.385Z"
   },
   {
    "duration": 9,
    "start_time": "2023-04-04T18:35:30.990Z"
   },
   {
    "duration": 9,
    "start_time": "2023-04-04T18:35:39.567Z"
   },
   {
    "duration": 13,
    "start_time": "2023-04-04T18:35:42.183Z"
   },
   {
    "duration": 22,
    "start_time": "2023-04-04T18:37:05.948Z"
   },
   {
    "duration": 9,
    "start_time": "2023-04-04T18:37:40.398Z"
   },
   {
    "duration": 7,
    "start_time": "2023-04-04T18:37:44.062Z"
   },
   {
    "duration": 8,
    "start_time": "2023-04-04T18:37:49.791Z"
   },
   {
    "duration": 7,
    "start_time": "2023-04-04T18:38:01.673Z"
   },
   {
    "duration": 11,
    "start_time": "2023-04-04T18:38:02.860Z"
   },
   {
    "duration": 18,
    "start_time": "2023-04-04T18:38:57.163Z"
   },
   {
    "duration": 32,
    "start_time": "2023-04-04T18:42:57.537Z"
   },
   {
    "duration": 6,
    "start_time": "2023-04-04T18:43:00.574Z"
   },
   {
    "duration": 19,
    "start_time": "2023-04-04T18:43:32.538Z"
   },
   {
    "duration": 6,
    "start_time": "2023-04-04T18:43:34.586Z"
   },
   {
    "duration": 39,
    "start_time": "2023-04-04T18:43:49.667Z"
   },
   {
    "duration": 5,
    "start_time": "2023-04-04T18:43:52.224Z"
   },
   {
    "duration": 14,
    "start_time": "2023-04-04T18:43:59.624Z"
   },
   {
    "duration": 6,
    "start_time": "2023-04-04T18:44:01.099Z"
   },
   {
    "duration": 6,
    "start_time": "2023-04-04T18:45:07.504Z"
   },
   {
    "duration": 5,
    "start_time": "2023-04-04T18:45:11.667Z"
   },
   {
    "duration": 5,
    "start_time": "2023-04-04T18:45:15.892Z"
   },
   {
    "duration": 16,
    "start_time": "2023-04-04T18:48:23.069Z"
   },
   {
    "duration": 5,
    "start_time": "2023-04-04T18:48:33.276Z"
   },
   {
    "duration": 6,
    "start_time": "2023-04-04T18:48:42.117Z"
   },
   {
    "duration": 6,
    "start_time": "2023-04-04T18:48:46.127Z"
   },
   {
    "duration": 5,
    "start_time": "2023-04-04T18:48:47.790Z"
   },
   {
    "duration": 12,
    "start_time": "2023-04-04T18:55:06.120Z"
   },
   {
    "duration": 7,
    "start_time": "2023-04-04T18:55:11.067Z"
   },
   {
    "duration": 5,
    "start_time": "2023-04-04T18:56:10.400Z"
   },
   {
    "duration": 1243,
    "start_time": "2023-04-04T19:08:47.546Z"
   },
   {
    "duration": 73,
    "start_time": "2023-04-04T19:08:48.792Z"
   },
   {
    "duration": 4,
    "start_time": "2023-04-04T19:08:48.877Z"
   },
   {
    "duration": 116,
    "start_time": "2023-04-04T19:08:48.883Z"
   },
   {
    "duration": 5,
    "start_time": "2023-04-04T19:08:49.002Z"
   },
   {
    "duration": 10,
    "start_time": "2023-04-04T19:08:49.008Z"
   },
   {
    "duration": 3,
    "start_time": "2023-04-04T19:08:49.019Z"
   },
   {
    "duration": 60,
    "start_time": "2023-04-04T19:08:49.024Z"
   },
   {
    "duration": 17,
    "start_time": "2023-04-04T19:08:49.086Z"
   },
   {
    "duration": 19,
    "start_time": "2023-04-04T19:08:49.106Z"
   },
   {
    "duration": 31,
    "start_time": "2023-04-04T19:08:49.146Z"
   },
   {
    "duration": 7,
    "start_time": "2023-04-04T19:08:49.180Z"
   },
   {
    "duration": 6,
    "start_time": "2023-04-04T19:08:49.190Z"
   },
   {
    "duration": 10,
    "start_time": "2023-04-04T19:08:49.200Z"
   },
   {
    "duration": 7,
    "start_time": "2023-04-04T19:08:49.212Z"
   },
   {
    "duration": 50,
    "start_time": "2023-04-04T19:08:49.220Z"
   },
   {
    "duration": 22,
    "start_time": "2023-04-04T19:08:49.278Z"
   },
   {
    "duration": 20,
    "start_time": "2023-04-04T19:08:49.302Z"
   },
   {
    "duration": 10,
    "start_time": "2023-04-04T19:08:49.324Z"
   },
   {
    "duration": 7,
    "start_time": "2023-04-04T19:08:49.337Z"
   },
   {
    "duration": 14,
    "start_time": "2023-04-04T19:08:49.346Z"
   },
   {
    "duration": 30,
    "start_time": "2023-04-04T19:08:49.370Z"
   },
   {
    "duration": 13,
    "start_time": "2023-04-04T19:08:49.402Z"
   },
   {
    "duration": 7,
    "start_time": "2023-04-04T19:08:49.417Z"
   },
   {
    "duration": 165,
    "start_time": "2023-04-04T19:08:49.425Z"
   },
   {
    "duration": 16,
    "start_time": "2023-04-04T19:08:49.592Z"
   },
   {
    "duration": 201,
    "start_time": "2023-04-04T19:08:49.609Z"
   },
   {
    "duration": 17,
    "start_time": "2023-04-04T19:08:49.812Z"
   },
   {
    "duration": 46,
    "start_time": "2023-04-04T19:08:49.831Z"
   },
   {
    "duration": 18,
    "start_time": "2023-04-04T19:08:49.878Z"
   },
   {
    "duration": 8,
    "start_time": "2023-04-04T19:08:49.898Z"
   },
   {
    "duration": 414,
    "start_time": "2023-04-04T19:08:49.908Z"
   },
   {
    "duration": 397,
    "start_time": "2023-04-04T19:08:50.324Z"
   },
   {
    "duration": 259,
    "start_time": "2023-04-04T19:08:50.723Z"
   },
   {
    "duration": 10,
    "start_time": "2023-04-04T19:08:50.983Z"
   },
   {
    "duration": 17,
    "start_time": "2023-04-04T19:08:50.995Z"
   },
   {
    "duration": 348,
    "start_time": "2023-04-04T19:08:51.014Z"
   },
   {
    "duration": 24,
    "start_time": "2023-04-04T19:08:51.370Z"
   },
   {
    "duration": 9,
    "start_time": "2023-04-04T19:08:51.396Z"
   },
   {
    "duration": 481,
    "start_time": "2023-04-04T19:08:51.408Z"
   },
   {
    "duration": 18,
    "start_time": "2023-04-04T19:08:51.893Z"
   },
   {
    "duration": 399,
    "start_time": "2023-04-04T19:08:51.913Z"
   },
   {
    "duration": 33,
    "start_time": "2023-04-04T19:08:52.314Z"
   },
   {
    "duration": 22,
    "start_time": "2023-04-04T19:08:52.350Z"
   },
   {
    "duration": 7,
    "start_time": "2023-04-04T19:08:52.373Z"
   },
   {
    "duration": 18,
    "start_time": "2023-04-04T19:08:52.381Z"
   },
   {
    "duration": 14,
    "start_time": "2023-04-04T19:08:52.401Z"
   },
   {
    "duration": 7,
    "start_time": "2023-04-04T19:09:44.698Z"
   },
   {
    "duration": 1183,
    "start_time": "2023-04-04T19:09:49.666Z"
   },
   {
    "duration": 58,
    "start_time": "2023-04-04T19:09:50.851Z"
   },
   {
    "duration": 3,
    "start_time": "2023-04-04T19:09:50.911Z"
   },
   {
    "duration": 108,
    "start_time": "2023-04-04T19:09:50.915Z"
   },
   {
    "duration": 5,
    "start_time": "2023-04-04T19:09:51.025Z"
   },
   {
    "duration": 39,
    "start_time": "2023-04-04T19:09:51.032Z"
   },
   {
    "duration": 40,
    "start_time": "2023-04-04T19:09:51.073Z"
   },
   {
    "duration": 73,
    "start_time": "2023-04-04T19:09:51.115Z"
   },
   {
    "duration": 15,
    "start_time": "2023-04-04T19:09:51.189Z"
   },
   {
    "duration": 17,
    "start_time": "2023-04-04T19:09:51.206Z"
   },
   {
    "duration": 53,
    "start_time": "2023-04-04T19:09:51.225Z"
   },
   {
    "duration": 7,
    "start_time": "2023-04-04T19:09:51.280Z"
   },
   {
    "duration": 6,
    "start_time": "2023-04-04T19:09:51.289Z"
   },
   {
    "duration": 6,
    "start_time": "2023-04-04T19:09:51.298Z"
   },
   {
    "duration": 13,
    "start_time": "2023-04-04T19:09:51.306Z"
   },
   {
    "duration": 13,
    "start_time": "2023-04-04T19:09:51.320Z"
   },
   {
    "duration": 45,
    "start_time": "2023-04-04T19:09:51.335Z"
   },
   {
    "duration": 15,
    "start_time": "2023-04-04T19:09:51.381Z"
   },
   {
    "duration": 7,
    "start_time": "2023-04-04T19:09:51.398Z"
   },
   {
    "duration": 11,
    "start_time": "2023-04-04T19:09:51.407Z"
   },
   {
    "duration": 44,
    "start_time": "2023-04-04T19:09:51.419Z"
   },
   {
    "duration": 28,
    "start_time": "2023-04-04T19:09:51.471Z"
   },
   {
    "duration": 13,
    "start_time": "2023-04-04T19:09:51.501Z"
   },
   {
    "duration": 8,
    "start_time": "2023-04-04T19:09:51.516Z"
   },
   {
    "duration": 143,
    "start_time": "2023-04-04T19:09:51.526Z"
   },
   {
    "duration": 20,
    "start_time": "2023-04-04T19:09:51.670Z"
   },
   {
    "duration": 182,
    "start_time": "2023-04-04T19:09:51.692Z"
   },
   {
    "duration": 15,
    "start_time": "2023-04-04T19:09:51.876Z"
   },
   {
    "duration": 21,
    "start_time": "2023-04-04T19:09:51.893Z"
   },
   {
    "duration": 11,
    "start_time": "2023-04-04T19:09:51.915Z"
   },
   {
    "duration": 33,
    "start_time": "2023-04-04T19:09:51.928Z"
   },
   {
    "duration": 408,
    "start_time": "2023-04-04T19:09:51.962Z"
   },
   {
    "duration": 361,
    "start_time": "2023-04-04T19:09:52.372Z"
   },
   {
    "duration": 249,
    "start_time": "2023-04-04T19:09:52.734Z"
   },
   {
    "duration": 11,
    "start_time": "2023-04-04T19:09:52.985Z"
   },
   {
    "duration": 14,
    "start_time": "2023-04-04T19:09:52.998Z"
   },
   {
    "duration": 313,
    "start_time": "2023-04-04T19:09:53.013Z"
   },
   {
    "duration": 42,
    "start_time": "2023-04-04T19:09:53.328Z"
   },
   {
    "duration": 7,
    "start_time": "2023-04-04T19:09:53.372Z"
   },
   {
    "duration": 435,
    "start_time": "2023-04-04T19:09:53.380Z"
   },
   {
    "duration": 35,
    "start_time": "2023-04-04T19:09:53.819Z"
   },
   {
    "duration": 323,
    "start_time": "2023-04-04T19:09:53.856Z"
   },
   {
    "duration": 17,
    "start_time": "2023-04-04T19:09:54.181Z"
   },
   {
    "duration": 12,
    "start_time": "2023-04-04T19:09:54.200Z"
   },
   {
    "duration": 4,
    "start_time": "2023-04-04T19:09:54.214Z"
   },
   {
    "duration": 28,
    "start_time": "2023-04-04T19:09:54.250Z"
   },
   {
    "duration": 5,
    "start_time": "2023-04-04T19:09:54.279Z"
   },
   {
    "duration": 1299,
    "start_time": "2023-04-05T12:23:51.615Z"
   },
   {
    "duration": 50,
    "start_time": "2023-04-05T12:23:52.916Z"
   },
   {
    "duration": 3,
    "start_time": "2023-04-05T12:23:52.968Z"
   },
   {
    "duration": 90,
    "start_time": "2023-04-05T12:23:52.973Z"
   },
   {
    "duration": 5,
    "start_time": "2023-04-05T12:23:53.065Z"
   },
   {
    "duration": 10,
    "start_time": "2023-04-05T12:23:53.071Z"
   },
   {
    "duration": 5,
    "start_time": "2023-04-05T12:23:53.082Z"
   },
   {
    "duration": 55,
    "start_time": "2023-04-05T12:23:53.089Z"
   },
   {
    "duration": 14,
    "start_time": "2023-04-05T12:23:53.146Z"
   },
   {
    "duration": 20,
    "start_time": "2023-04-05T12:23:53.162Z"
   },
   {
    "duration": 28,
    "start_time": "2023-04-05T12:23:53.185Z"
   },
   {
    "duration": 6,
    "start_time": "2023-04-05T12:23:53.214Z"
   },
   {
    "duration": 6,
    "start_time": "2023-04-05T12:23:53.242Z"
   },
   {
    "duration": 8,
    "start_time": "2023-04-05T12:23:53.251Z"
   },
   {
    "duration": 13,
    "start_time": "2023-04-05T12:23:53.261Z"
   },
   {
    "duration": 7,
    "start_time": "2023-04-05T12:23:53.276Z"
   },
   {
    "duration": 20,
    "start_time": "2023-04-05T12:23:53.285Z"
   },
   {
    "duration": 52,
    "start_time": "2023-04-05T12:23:53.307Z"
   },
   {
    "duration": 9,
    "start_time": "2023-04-05T12:23:53.361Z"
   },
   {
    "duration": 9,
    "start_time": "2023-04-05T12:23:53.371Z"
   },
   {
    "duration": 12,
    "start_time": "2023-04-05T12:23:53.381Z"
   },
   {
    "duration": 64,
    "start_time": "2023-04-05T12:23:53.395Z"
   },
   {
    "duration": 11,
    "start_time": "2023-04-05T12:23:53.461Z"
   },
   {
    "duration": 18,
    "start_time": "2023-04-05T12:23:53.473Z"
   },
   {
    "duration": 116,
    "start_time": "2023-04-05T12:23:53.493Z"
   },
   {
    "duration": 37,
    "start_time": "2023-04-05T12:23:53.611Z"
   },
   {
    "duration": 200,
    "start_time": "2023-04-05T12:23:53.650Z"
   },
   {
    "duration": 19,
    "start_time": "2023-04-05T12:23:53.852Z"
   },
   {
    "duration": 23,
    "start_time": "2023-04-05T12:23:53.873Z"
   },
   {
    "duration": 14,
    "start_time": "2023-04-05T12:23:53.898Z"
   },
   {
    "duration": 11,
    "start_time": "2023-04-05T12:23:53.942Z"
   },
   {
    "duration": 477,
    "start_time": "2023-04-05T12:23:53.955Z"
   },
   {
    "duration": 421,
    "start_time": "2023-04-05T12:23:54.435Z"
   },
   {
    "duration": 251,
    "start_time": "2023-04-05T12:23:54.857Z"
   },
   {
    "duration": 11,
    "start_time": "2023-04-05T12:23:55.110Z"
   },
   {
    "duration": 30,
    "start_time": "2023-04-05T12:23:55.123Z"
   },
   {
    "duration": 314,
    "start_time": "2023-04-05T12:23:55.155Z"
   },
   {
    "duration": 33,
    "start_time": "2023-04-05T12:23:55.472Z"
   },
   {
    "duration": 9,
    "start_time": "2023-04-05T12:23:55.507Z"
   },
   {
    "duration": 502,
    "start_time": "2023-04-05T12:23:55.518Z"
   },
   {
    "duration": 35,
    "start_time": "2023-04-05T12:23:56.024Z"
   },
   {
    "duration": 371,
    "start_time": "2023-04-05T12:23:56.061Z"
   },
   {
    "duration": 31,
    "start_time": "2023-04-05T12:23:56.435Z"
   },
   {
    "duration": 14,
    "start_time": "2023-04-05T12:23:56.468Z"
   },
   {
    "duration": 6,
    "start_time": "2023-04-05T12:23:56.483Z"
   },
   {
    "duration": 34,
    "start_time": "2023-04-05T12:23:56.490Z"
   },
   {
    "duration": 17,
    "start_time": "2023-04-05T12:23:56.526Z"
   },
   {
    "duration": 121,
    "start_time": "2023-04-05T12:27:37.921Z"
   },
   {
    "duration": 16,
    "start_time": "2023-04-05T12:27:56.072Z"
   },
   {
    "duration": 1229,
    "start_time": "2023-04-05T12:28:03.228Z"
   },
   {
    "duration": 49,
    "start_time": "2023-04-05T12:28:04.459Z"
   },
   {
    "duration": 4,
    "start_time": "2023-04-05T12:28:04.510Z"
   },
   {
    "duration": 149,
    "start_time": "2023-04-05T12:28:04.516Z"
   },
   {
    "duration": 5,
    "start_time": "2023-04-05T12:28:04.668Z"
   },
   {
    "duration": 11,
    "start_time": "2023-04-05T12:28:04.675Z"
   },
   {
    "duration": 32,
    "start_time": "2023-04-05T12:28:04.741Z"
   },
   {
    "duration": 4,
    "start_time": "2023-04-05T12:28:04.774Z"
   },
   {
    "duration": 82,
    "start_time": "2023-04-05T12:28:04.780Z"
   },
   {
    "duration": 15,
    "start_time": "2023-04-05T12:28:04.866Z"
   },
   {
    "duration": 73,
    "start_time": "2023-04-05T12:28:04.883Z"
   },
   {
    "duration": 22,
    "start_time": "2023-04-05T12:28:04.958Z"
   },
   {
    "duration": 62,
    "start_time": "2023-04-05T12:28:04.983Z"
   },
   {
    "duration": 9,
    "start_time": "2023-04-05T12:28:05.048Z"
   },
   {
    "duration": 20,
    "start_time": "2023-04-05T12:28:05.059Z"
   },
   {
    "duration": 61,
    "start_time": "2023-04-05T12:28:05.081Z"
   },
   {
    "duration": 9,
    "start_time": "2023-04-05T12:28:05.144Z"
   },
   {
    "duration": 27,
    "start_time": "2023-04-05T12:28:05.155Z"
   },
   {
    "duration": 75,
    "start_time": "2023-04-05T12:28:05.184Z"
   },
   {
    "duration": 10,
    "start_time": "2023-04-05T12:28:05.261Z"
   },
   {
    "duration": 15,
    "start_time": "2023-04-05T12:28:05.273Z"
   },
   {
    "duration": 6,
    "start_time": "2023-04-05T12:28:05.340Z"
   },
   {
    "duration": 31,
    "start_time": "2023-04-05T12:28:05.348Z"
   },
   {
    "duration": 69,
    "start_time": "2023-04-05T12:28:05.381Z"
   },
   {
    "duration": 9,
    "start_time": "2023-04-05T12:28:05.452Z"
   },
   {
    "duration": 204,
    "start_time": "2023-04-05T12:28:05.463Z"
   },
   {
    "duration": 16,
    "start_time": "2023-04-05T12:28:05.669Z"
   },
   {
    "duration": 327,
    "start_time": "2023-04-05T12:28:05.743Z"
   },
   {
    "duration": 77,
    "start_time": "2023-04-05T12:28:06.072Z"
   },
   {
    "duration": 30,
    "start_time": "2023-04-05T12:28:06.151Z"
   },
   {
    "duration": 71,
    "start_time": "2023-04-05T12:28:06.183Z"
   },
   {
    "duration": 7,
    "start_time": "2023-04-05T12:28:06.256Z"
   },
   {
    "duration": 657,
    "start_time": "2023-04-05T12:28:06.265Z"
   },
   {
    "duration": 399,
    "start_time": "2023-04-05T12:28:06.923Z"
   },
   {
    "duration": 266,
    "start_time": "2023-04-05T12:28:07.324Z"
   },
   {
    "duration": 11,
    "start_time": "2023-04-05T12:28:07.592Z"
   },
   {
    "duration": 16,
    "start_time": "2023-04-05T12:28:07.605Z"
   },
   {
    "duration": 298,
    "start_time": "2023-04-05T12:28:07.642Z"
   },
   {
    "duration": 21,
    "start_time": "2023-04-05T12:28:07.942Z"
   },
   {
    "duration": 7,
    "start_time": "2023-04-05T12:28:07.965Z"
   },
   {
    "duration": 467,
    "start_time": "2023-04-05T12:28:07.974Z"
   },
   {
    "duration": 20,
    "start_time": "2023-04-05T12:28:08.442Z"
   },
   {
    "duration": 418,
    "start_time": "2023-04-05T12:28:08.464Z"
   },
   {
    "duration": 26,
    "start_time": "2023-04-05T12:28:08.884Z"
   },
   {
    "duration": 38,
    "start_time": "2023-04-05T12:28:08.912Z"
   },
   {
    "duration": 6,
    "start_time": "2023-04-05T12:28:08.952Z"
   },
   {
    "duration": 24,
    "start_time": "2023-04-05T12:28:08.960Z"
   },
   {
    "duration": 6,
    "start_time": "2023-04-05T12:28:08.986Z"
   },
   {
    "duration": 27,
    "start_time": "2023-04-05T13:08:06.386Z"
   },
   {
    "duration": 29,
    "start_time": "2023-04-05T13:08:22.352Z"
   },
   {
    "duration": 49,
    "start_time": "2023-04-06T13:44:37.066Z"
   },
   {
    "duration": 1178,
    "start_time": "2023-04-07T09:57:14.995Z"
   },
   {
    "duration": 90,
    "start_time": "2023-04-07T09:57:16.175Z"
   },
   {
    "duration": 3,
    "start_time": "2023-04-07T09:57:16.267Z"
   },
   {
    "duration": 79,
    "start_time": "2023-04-07T09:57:16.272Z"
   },
   {
    "duration": 5,
    "start_time": "2023-04-07T09:57:16.362Z"
   },
   {
    "duration": 8,
    "start_time": "2023-04-07T09:57:16.369Z"
   },
   {
    "duration": 19,
    "start_time": "2023-04-07T09:57:16.378Z"
   },
   {
    "duration": 3,
    "start_time": "2023-04-07T09:57:16.399Z"
   },
   {
    "duration": 24,
    "start_time": "2023-04-07T09:57:16.403Z"
   },
   {
    "duration": 43,
    "start_time": "2023-04-07T09:57:16.428Z"
   },
   {
    "duration": 15,
    "start_time": "2023-04-07T09:57:16.473Z"
   },
   {
    "duration": 18,
    "start_time": "2023-04-07T09:57:16.490Z"
   },
   {
    "duration": 6,
    "start_time": "2023-04-07T09:57:16.510Z"
   },
   {
    "duration": 7,
    "start_time": "2023-04-07T09:57:16.519Z"
   },
   {
    "duration": 42,
    "start_time": "2023-04-07T09:57:16.527Z"
   },
   {
    "duration": 13,
    "start_time": "2023-04-07T09:57:16.571Z"
   },
   {
    "duration": 6,
    "start_time": "2023-04-07T09:57:16.585Z"
   },
   {
    "duration": 21,
    "start_time": "2023-04-07T09:57:16.593Z"
   },
   {
    "duration": 17,
    "start_time": "2023-04-07T09:57:16.616Z"
   },
   {
    "duration": 27,
    "start_time": "2023-04-07T09:57:16.635Z"
   },
   {
    "duration": 5,
    "start_time": "2023-04-07T09:57:16.663Z"
   },
   {
    "duration": 6,
    "start_time": "2023-04-07T09:57:16.670Z"
   },
   {
    "duration": 27,
    "start_time": "2023-04-07T09:57:16.678Z"
   },
   {
    "duration": 12,
    "start_time": "2023-04-07T09:57:16.706Z"
   },
   {
    "duration": 42,
    "start_time": "2023-04-07T09:57:16.720Z"
   },
   {
    "duration": 99,
    "start_time": "2023-04-07T09:57:16.763Z"
   },
   {
    "duration": 14,
    "start_time": "2023-04-07T09:57:16.864Z"
   },
   {
    "duration": 171,
    "start_time": "2023-04-07T09:57:16.879Z"
   },
   {
    "duration": 23,
    "start_time": "2023-04-07T09:57:17.052Z"
   },
   {
    "duration": 19,
    "start_time": "2023-04-07T09:57:17.076Z"
   },
   {
    "duration": 10,
    "start_time": "2023-04-07T09:57:17.097Z"
   },
   {
    "duration": 26,
    "start_time": "2023-04-07T09:57:17.108Z"
   },
   {
    "duration": 32,
    "start_time": "2023-04-07T09:57:17.136Z"
   },
   {
    "duration": 391,
    "start_time": "2023-04-07T09:57:17.170Z"
   },
   {
    "duration": 357,
    "start_time": "2023-04-07T09:57:17.563Z"
   },
   {
    "duration": 238,
    "start_time": "2023-04-07T09:57:17.921Z"
   },
   {
    "duration": 10,
    "start_time": "2023-04-07T09:57:18.162Z"
   },
   {
    "duration": 13,
    "start_time": "2023-04-07T09:57:18.173Z"
   },
   {
    "duration": 284,
    "start_time": "2023-04-07T09:57:18.188Z"
   },
   {
    "duration": 21,
    "start_time": "2023-04-07T09:57:18.475Z"
   },
   {
    "duration": 7,
    "start_time": "2023-04-07T09:57:18.500Z"
   },
   {
    "duration": 427,
    "start_time": "2023-04-07T09:57:18.508Z"
   },
   {
    "duration": 26,
    "start_time": "2023-04-07T09:57:18.937Z"
   },
   {
    "duration": 323,
    "start_time": "2023-04-07T09:57:18.965Z"
   },
   {
    "duration": 19,
    "start_time": "2023-04-07T09:57:19.290Z"
   },
   {
    "duration": 14,
    "start_time": "2023-04-07T09:57:19.311Z"
   },
   {
    "duration": 5,
    "start_time": "2023-04-07T09:57:19.327Z"
   },
   {
    "duration": 14,
    "start_time": "2023-04-07T09:57:19.362Z"
   },
   {
    "duration": 5,
    "start_time": "2023-04-07T09:57:19.378Z"
   },
   {
    "duration": 170,
    "start_time": "2023-04-07T09:57:57.333Z"
   },
   {
    "duration": 216,
    "start_time": "2023-04-07T09:58:49.751Z"
   },
   {
    "duration": 214,
    "start_time": "2023-04-07T09:59:28.131Z"
   },
   {
    "duration": 13,
    "start_time": "2023-04-07T10:01:57.968Z"
   },
   {
    "duration": 12,
    "start_time": "2023-04-07T10:02:05.661Z"
   },
   {
    "duration": 1216,
    "start_time": "2023-04-07T10:05:06.867Z"
   },
   {
    "duration": 50,
    "start_time": "2023-04-07T10:05:08.085Z"
   },
   {
    "duration": 4,
    "start_time": "2023-04-07T10:05:08.137Z"
   },
   {
    "duration": 76,
    "start_time": "2023-04-07T10:05:08.143Z"
   },
   {
    "duration": 5,
    "start_time": "2023-04-07T10:05:08.222Z"
   },
   {
    "duration": 7,
    "start_time": "2023-04-07T10:05:08.229Z"
   },
   {
    "duration": 42,
    "start_time": "2023-04-07T10:05:08.238Z"
   },
   {
    "duration": 3,
    "start_time": "2023-04-07T10:05:08.282Z"
   },
   {
    "duration": 26,
    "start_time": "2023-04-07T10:05:08.287Z"
   },
   {
    "duration": 12,
    "start_time": "2023-04-07T10:05:08.315Z"
   },
   {
    "duration": 47,
    "start_time": "2023-04-07T10:05:08.329Z"
   },
   {
    "duration": 21,
    "start_time": "2023-04-07T10:05:08.377Z"
   },
   {
    "duration": 6,
    "start_time": "2023-04-07T10:05:08.399Z"
   },
   {
    "duration": 7,
    "start_time": "2023-04-07T10:05:08.407Z"
   },
   {
    "duration": 8,
    "start_time": "2023-04-07T10:05:08.416Z"
   },
   {
    "duration": 5,
    "start_time": "2023-04-07T10:05:08.425Z"
   },
   {
    "duration": 5,
    "start_time": "2023-04-07T10:05:08.432Z"
   },
   {
    "duration": 18,
    "start_time": "2023-04-07T10:05:08.461Z"
   },
   {
    "duration": 16,
    "start_time": "2023-04-07T10:05:08.481Z"
   },
   {
    "duration": 8,
    "start_time": "2023-04-07T10:05:08.498Z"
   },
   {
    "duration": 10,
    "start_time": "2023-04-07T10:05:08.508Z"
   },
   {
    "duration": 6,
    "start_time": "2023-04-07T10:05:08.519Z"
   },
   {
    "duration": 56,
    "start_time": "2023-04-07T10:05:08.526Z"
   },
   {
    "duration": 13,
    "start_time": "2023-04-07T10:05:08.584Z"
   },
   {
    "duration": 11,
    "start_time": "2023-04-07T10:05:08.599Z"
   },
   {
    "duration": 107,
    "start_time": "2023-04-07T10:05:08.611Z"
   },
   {
    "duration": 16,
    "start_time": "2023-04-07T10:05:08.720Z"
   },
   {
    "duration": 248,
    "start_time": "2023-04-07T10:05:08.737Z"
   },
   {
    "duration": 16,
    "start_time": "2023-04-07T10:05:08.987Z"
   },
   {
    "duration": 20,
    "start_time": "2023-04-07T10:05:09.005Z"
   },
   {
    "duration": 40,
    "start_time": "2023-04-07T10:05:09.027Z"
   },
   {
    "duration": 30,
    "start_time": "2023-04-07T10:05:09.069Z"
   },
   {
    "duration": 7,
    "start_time": "2023-04-07T10:05:09.101Z"
   },
   {
    "duration": 407,
    "start_time": "2023-04-07T10:05:09.110Z"
   },
   {
    "duration": 381,
    "start_time": "2023-04-07T10:05:09.519Z"
   },
   {
    "duration": 253,
    "start_time": "2023-04-07T10:05:09.902Z"
   },
   {
    "duration": 10,
    "start_time": "2023-04-07T10:05:10.162Z"
   },
   {
    "duration": 15,
    "start_time": "2023-04-07T10:05:10.174Z"
   },
   {
    "duration": 291,
    "start_time": "2023-04-07T10:05:10.190Z"
   },
   {
    "duration": 20,
    "start_time": "2023-04-07T10:05:10.482Z"
   },
   {
    "duration": 7,
    "start_time": "2023-04-07T10:05:10.505Z"
   },
   {
    "duration": 442,
    "start_time": "2023-04-07T10:05:10.514Z"
   },
   {
    "duration": 20,
    "start_time": "2023-04-07T10:05:10.957Z"
   },
   {
    "duration": 331,
    "start_time": "2023-04-07T10:05:10.979Z"
   },
   {
    "duration": 18,
    "start_time": "2023-04-07T10:05:11.312Z"
   },
   {
    "duration": 31,
    "start_time": "2023-04-07T10:05:11.331Z"
   },
   {
    "duration": 5,
    "start_time": "2023-04-07T10:05:11.364Z"
   },
   {
    "duration": 16,
    "start_time": "2023-04-07T10:05:11.371Z"
   },
   {
    "duration": 5,
    "start_time": "2023-04-07T10:05:11.389Z"
   },
   {
    "duration": 218,
    "start_time": "2023-04-07T10:05:34.856Z"
   },
   {
    "duration": 232,
    "start_time": "2023-04-07T10:05:59.622Z"
   },
   {
    "duration": 1135,
    "start_time": "2023-04-07T10:09:02.105Z"
   },
   {
    "duration": 51,
    "start_time": "2023-04-07T10:09:03.242Z"
   },
   {
    "duration": 3,
    "start_time": "2023-04-07T10:09:03.295Z"
   },
   {
    "duration": 79,
    "start_time": "2023-04-07T10:09:03.300Z"
   },
   {
    "duration": 5,
    "start_time": "2023-04-07T10:09:03.382Z"
   },
   {
    "duration": 11,
    "start_time": "2023-04-07T10:09:03.389Z"
   },
   {
    "duration": 21,
    "start_time": "2023-04-07T10:09:03.402Z"
   },
   {
    "duration": 3,
    "start_time": "2023-04-07T10:09:03.425Z"
   },
   {
    "duration": 26,
    "start_time": "2023-04-07T10:09:03.462Z"
   },
   {
    "duration": 11,
    "start_time": "2023-04-07T10:09:03.490Z"
   },
   {
    "duration": 15,
    "start_time": "2023-04-07T10:09:03.502Z"
   },
   {
    "duration": 44,
    "start_time": "2023-04-07T10:09:03.519Z"
   },
   {
    "duration": 6,
    "start_time": "2023-04-07T10:09:03.565Z"
   },
   {
    "duration": 6,
    "start_time": "2023-04-07T10:09:03.574Z"
   },
   {
    "duration": 12,
    "start_time": "2023-04-07T10:09:03.581Z"
   },
   {
    "duration": 6,
    "start_time": "2023-04-07T10:09:03.594Z"
   },
   {
    "duration": 36,
    "start_time": "2023-04-07T10:09:03.601Z"
   },
   {
    "duration": 28,
    "start_time": "2023-04-07T10:09:03.639Z"
   },
   {
    "duration": 20,
    "start_time": "2023-04-07T10:09:03.669Z"
   },
   {
    "duration": 8,
    "start_time": "2023-04-07T10:09:03.691Z"
   },
   {
    "duration": 5,
    "start_time": "2023-04-07T10:09:03.700Z"
   },
   {
    "duration": 16,
    "start_time": "2023-04-07T10:09:03.706Z"
   },
   {
    "duration": 40,
    "start_time": "2023-04-07T10:09:03.723Z"
   },
   {
    "duration": 11,
    "start_time": "2023-04-07T10:09:03.765Z"
   },
   {
    "duration": 11,
    "start_time": "2023-04-07T10:09:03.777Z"
   },
   {
    "duration": 108,
    "start_time": "2023-04-07T10:09:03.789Z"
   },
   {
    "duration": 15,
    "start_time": "2023-04-07T10:09:03.899Z"
   },
   {
    "duration": 235,
    "start_time": "2023-04-07T10:09:03.916Z"
   },
   {
    "duration": 24,
    "start_time": "2023-04-07T10:09:04.153Z"
   },
   {
    "duration": 21,
    "start_time": "2023-04-07T10:09:04.179Z"
   },
   {
    "duration": 10,
    "start_time": "2023-04-07T10:09:04.201Z"
   },
   {
    "duration": 53,
    "start_time": "2023-04-07T10:09:04.213Z"
   },
   {
    "duration": 6,
    "start_time": "2023-04-07T10:09:04.268Z"
   },
   {
    "duration": 419,
    "start_time": "2023-04-07T10:09:04.275Z"
   },
   {
    "duration": 314,
    "start_time": "2023-04-07T10:09:04.695Z"
   },
   {
    "duration": 264,
    "start_time": "2023-04-07T10:09:05.011Z"
   },
   {
    "duration": 10,
    "start_time": "2023-04-07T10:09:05.277Z"
   },
   {
    "duration": 14,
    "start_time": "2023-04-07T10:09:05.289Z"
   },
   {
    "duration": 308,
    "start_time": "2023-04-07T10:09:05.305Z"
   },
   {
    "duration": 20,
    "start_time": "2023-04-07T10:09:05.615Z"
   },
   {
    "duration": 25,
    "start_time": "2023-04-07T10:09:05.640Z"
   },
   {
    "duration": 393,
    "start_time": "2023-04-07T10:09:05.667Z"
   },
   {
    "duration": 20,
    "start_time": "2023-04-07T10:09:06.062Z"
   },
   {
    "duration": 328,
    "start_time": "2023-04-07T10:09:06.084Z"
   },
   {
    "duration": 18,
    "start_time": "2023-04-07T10:09:06.413Z"
   },
   {
    "duration": 28,
    "start_time": "2023-04-07T10:09:06.433Z"
   },
   {
    "duration": 5,
    "start_time": "2023-04-07T10:09:06.463Z"
   },
   {
    "duration": 15,
    "start_time": "2023-04-07T10:09:06.470Z"
   },
   {
    "duration": 11,
    "start_time": "2023-04-07T10:09:06.486Z"
   },
   {
    "duration": 317,
    "start_time": "2023-04-07T10:09:45.230Z"
   },
   {
    "duration": 310,
    "start_time": "2023-04-07T10:12:37.955Z"
   },
   {
    "duration": 319,
    "start_time": "2023-04-07T10:14:05.453Z"
   },
   {
    "duration": 327,
    "start_time": "2023-04-07T10:16:59.401Z"
   },
   {
    "duration": 423,
    "start_time": "2023-04-07T10:17:52.761Z"
   },
   {
    "duration": 251,
    "start_time": "2023-04-07T10:19:16.416Z"
   },
   {
    "duration": 215,
    "start_time": "2023-04-07T10:19:31.768Z"
   },
   {
    "duration": 195,
    "start_time": "2023-04-07T10:19:36.802Z"
   },
   {
    "duration": 172,
    "start_time": "2023-04-07T10:22:20.556Z"
   },
   {
    "duration": 179,
    "start_time": "2023-04-07T10:22:43.277Z"
   },
   {
    "duration": 201,
    "start_time": "2023-04-07T10:23:04.808Z"
   },
   {
    "duration": 199,
    "start_time": "2023-04-07T10:24:03.022Z"
   },
   {
    "duration": 4,
    "start_time": "2023-04-07T10:28:11.300Z"
   },
   {
    "duration": 33,
    "start_time": "2023-04-07T10:28:23.695Z"
   },
   {
    "duration": 4,
    "start_time": "2023-04-07T10:28:38.966Z"
   },
   {
    "duration": 197,
    "start_time": "2023-04-07T10:28:39.719Z"
   },
   {
    "duration": 87,
    "start_time": "2023-04-07T10:30:31.946Z"
   },
   {
    "duration": 88,
    "start_time": "2023-04-07T10:30:38.273Z"
   },
   {
    "duration": 5,
    "start_time": "2023-04-07T10:31:15.613Z"
   },
   {
    "duration": 4,
    "start_time": "2023-04-07T10:31:28.080Z"
   },
   {
    "duration": 8,
    "start_time": "2023-04-07T10:31:28.797Z"
   },
   {
    "duration": 194,
    "start_time": "2023-04-07T10:31:41.146Z"
   },
   {
    "duration": 4,
    "start_time": "2023-04-07T10:31:49.922Z"
   },
   {
    "duration": 275,
    "start_time": "2023-04-07T10:31:52.195Z"
   },
   {
    "duration": 4,
    "start_time": "2023-04-07T10:38:20.149Z"
   },
   {
    "duration": 200,
    "start_time": "2023-04-07T10:38:21.529Z"
   },
   {
    "duration": 4,
    "start_time": "2023-04-07T10:38:40.627Z"
   },
   {
    "duration": 199,
    "start_time": "2023-04-07T10:38:41.626Z"
   },
   {
    "duration": 193,
    "start_time": "2023-04-07T10:40:32.904Z"
   },
   {
    "duration": 5,
    "start_time": "2023-04-07T10:43:40.655Z"
   },
   {
    "duration": 460,
    "start_time": "2023-04-07T10:43:44.246Z"
   },
   {
    "duration": 6,
    "start_time": "2023-04-07T10:44:03.210Z"
   },
   {
    "duration": 388,
    "start_time": "2023-04-07T10:44:06.510Z"
   },
   {
    "duration": 7,
    "start_time": "2023-04-07T10:44:51.418Z"
   },
   {
    "duration": 396,
    "start_time": "2023-04-07T10:44:52.978Z"
   },
   {
    "duration": 385,
    "start_time": "2023-04-07T10:44:55.968Z"
   },
   {
    "duration": 5,
    "start_time": "2023-04-07T10:44:58.914Z"
   },
   {
    "duration": 520,
    "start_time": "2023-04-07T10:45:01.060Z"
   },
   {
    "duration": 1945,
    "start_time": "2023-04-07T10:48:12.458Z"
   },
   {
    "duration": 5,
    "start_time": "2023-04-07T10:48:35.238Z"
   },
   {
    "duration": 496,
    "start_time": "2023-04-07T10:48:36.735Z"
   },
   {
    "duration": 5,
    "start_time": "2023-04-07T10:49:01.505Z"
   },
   {
    "duration": 225,
    "start_time": "2023-04-07T10:49:02.576Z"
   },
   {
    "duration": 74,
    "start_time": "2023-04-07T10:49:05.910Z"
   },
   {
    "duration": 202,
    "start_time": "2023-04-07T10:49:06.710Z"
   },
   {
    "duration": 6,
    "start_time": "2023-04-07T10:49:13.773Z"
   },
   {
    "duration": 413,
    "start_time": "2023-04-07T10:49:17.365Z"
   },
   {
    "duration": 6,
    "start_time": "2023-04-07T10:51:17.610Z"
   },
   {
    "duration": 390,
    "start_time": "2023-04-07T10:51:18.526Z"
   },
   {
    "duration": 5,
    "start_time": "2023-04-07T10:52:16.410Z"
   },
   {
    "duration": 382,
    "start_time": "2023-04-07T10:52:17.814Z"
   },
   {
    "duration": 6,
    "start_time": "2023-04-07T10:52:34.963Z"
   },
   {
    "duration": 405,
    "start_time": "2023-04-07T10:52:36.151Z"
   },
   {
    "duration": 5,
    "start_time": "2023-04-07T10:53:13.365Z"
   },
   {
    "duration": 487,
    "start_time": "2023-04-07T10:53:14.160Z"
   },
   {
    "duration": 5,
    "start_time": "2023-04-07T10:54:26.355Z"
   },
   {
    "duration": 411,
    "start_time": "2023-04-07T10:54:27.700Z"
   },
   {
    "duration": 5,
    "start_time": "2023-04-07T10:54:36.827Z"
   },
   {
    "duration": 394,
    "start_time": "2023-04-07T10:54:37.722Z"
   },
   {
    "duration": 9,
    "start_time": "2023-04-07T10:54:47.221Z"
   },
   {
    "duration": 394,
    "start_time": "2023-04-07T10:54:47.839Z"
   },
   {
    "duration": 9,
    "start_time": "2023-04-07T10:54:55.270Z"
   },
   {
    "duration": 395,
    "start_time": "2023-04-07T10:54:56.110Z"
   },
   {
    "duration": 2012,
    "start_time": "2023-04-07T10:55:05.614Z"
   },
   {
    "duration": 220,
    "start_time": "2023-04-07T11:04:58.912Z"
   },
   {
    "duration": 17,
    "start_time": "2023-04-07T11:05:06.405Z"
   },
   {
    "duration": 345,
    "start_time": "2023-04-07T11:05:34.732Z"
   },
   {
    "duration": 14,
    "start_time": "2023-04-07T11:06:00.727Z"
   },
   {
    "duration": 8,
    "start_time": "2023-04-07T11:07:35.519Z"
   },
   {
    "duration": 16,
    "start_time": "2023-04-07T11:08:20.931Z"
   },
   {
    "duration": 329,
    "start_time": "2023-04-07T11:09:07.218Z"
   },
   {
    "duration": 13,
    "start_time": "2023-04-07T11:10:11.662Z"
   },
   {
    "duration": 20,
    "start_time": "2023-04-07T11:13:59.728Z"
   },
   {
    "duration": 18,
    "start_time": "2023-04-07T11:14:07.914Z"
   },
   {
    "duration": 16,
    "start_time": "2023-04-07T11:14:12.302Z"
   },
   {
    "duration": 13,
    "start_time": "2023-04-07T11:14:30.909Z"
   },
   {
    "duration": 277,
    "start_time": "2023-04-07T11:14:43.501Z"
   },
   {
    "duration": 159,
    "start_time": "2023-04-07T11:16:26.544Z"
   },
   {
    "duration": 18,
    "start_time": "2023-04-07T11:17:30.408Z"
   },
   {
    "duration": 17,
    "start_time": "2023-04-07T11:18:06.600Z"
   },
   {
    "duration": 9,
    "start_time": "2023-04-07T11:23:20.841Z"
   },
   {
    "duration": 8,
    "start_time": "2023-04-07T11:23:28.961Z"
   },
   {
    "duration": 272,
    "start_time": "2023-04-07T11:23:45.439Z"
   },
   {
    "duration": 255,
    "start_time": "2023-04-07T11:24:20.854Z"
   },
   {
    "duration": 14,
    "start_time": "2023-04-07T11:24:55.096Z"
   },
   {
    "duration": 337,
    "start_time": "2023-04-07T11:24:59.697Z"
   },
   {
    "duration": 159,
    "start_time": "2023-04-07T11:27:47.400Z"
   },
   {
    "duration": 130,
    "start_time": "2023-04-07T11:28:07.722Z"
   },
   {
    "duration": 17,
    "start_time": "2023-04-07T11:28:20.710Z"
   },
   {
    "duration": 12,
    "start_time": "2023-04-07T11:28:37.960Z"
   },
   {
    "duration": 138,
    "start_time": "2023-04-07T11:28:50.147Z"
   },
   {
    "duration": 10,
    "start_time": "2023-04-07T11:38:56.325Z"
   },
   {
    "duration": 252,
    "start_time": "2023-04-07T11:39:02.002Z"
   },
   {
    "duration": 121,
    "start_time": "2023-04-07T11:39:27.245Z"
   },
   {
    "duration": 242,
    "start_time": "2023-04-07T11:39:32.447Z"
   },
   {
    "duration": 432,
    "start_time": "2023-04-07T11:40:37.850Z"
   },
   {
    "duration": 505,
    "start_time": "2023-04-07T11:41:00.103Z"
   },
   {
    "duration": 298,
    "start_time": "2023-04-07T11:41:13.201Z"
   },
   {
    "duration": 334,
    "start_time": "2023-04-07T11:41:35.258Z"
   },
   {
    "duration": 339,
    "start_time": "2023-04-07T11:42:15.769Z"
   },
   {
    "duration": 77,
    "start_time": "2023-04-07T12:03:34.283Z"
   },
   {
    "duration": 129,
    "start_time": "2023-04-07T12:04:12.118Z"
   },
   {
    "duration": 79,
    "start_time": "2023-04-07T12:05:33.315Z"
   },
   {
    "duration": 92,
    "start_time": "2023-04-07T12:13:08.784Z"
   },
   {
    "duration": 369,
    "start_time": "2023-04-07T12:16:31.711Z"
   },
   {
    "duration": 438,
    "start_time": "2023-04-07T12:17:09.009Z"
   },
   {
    "duration": 329,
    "start_time": "2023-04-07T12:19:30.952Z"
   },
   {
    "duration": 1159,
    "start_time": "2023-04-07T22:33:32.402Z"
   },
   {
    "duration": 52,
    "start_time": "2023-04-07T22:33:33.563Z"
   },
   {
    "duration": 3,
    "start_time": "2023-04-07T22:33:33.616Z"
   },
   {
    "duration": 72,
    "start_time": "2023-04-07T22:33:33.621Z"
   },
   {
    "duration": 5,
    "start_time": "2023-04-07T22:33:33.694Z"
   },
   {
    "duration": 8,
    "start_time": "2023-04-07T22:33:33.701Z"
   },
   {
    "duration": 44,
    "start_time": "2023-04-07T22:33:33.711Z"
   },
   {
    "duration": 3,
    "start_time": "2023-04-07T22:33:33.757Z"
   },
   {
    "duration": 25,
    "start_time": "2023-04-07T22:33:33.762Z"
   },
   {
    "duration": 13,
    "start_time": "2023-04-07T22:33:33.790Z"
   },
   {
    "duration": 37,
    "start_time": "2023-04-07T22:33:33.805Z"
   },
   {
    "duration": 17,
    "start_time": "2023-04-07T22:33:33.844Z"
   },
   {
    "duration": 6,
    "start_time": "2023-04-07T22:33:33.863Z"
   },
   {
    "duration": 6,
    "start_time": "2023-04-07T22:33:33.871Z"
   },
   {
    "duration": 7,
    "start_time": "2023-04-07T22:33:33.879Z"
   },
   {
    "duration": 21,
    "start_time": "2023-04-07T22:33:33.887Z"
   },
   {
    "duration": 6,
    "start_time": "2023-04-07T22:33:33.909Z"
   },
   {
    "duration": 38,
    "start_time": "2023-04-07T22:33:33.916Z"
   },
   {
    "duration": 16,
    "start_time": "2023-04-07T22:33:33.955Z"
   },
   {
    "duration": 7,
    "start_time": "2023-04-07T22:33:33.972Z"
   },
   {
    "duration": 4,
    "start_time": "2023-04-07T22:33:33.981Z"
   },
   {
    "duration": 6,
    "start_time": "2023-04-07T22:33:33.987Z"
   },
   {
    "duration": 50,
    "start_time": "2023-04-07T22:33:33.994Z"
   },
   {
    "duration": 11,
    "start_time": "2023-04-07T22:33:34.045Z"
   },
   {
    "duration": 7,
    "start_time": "2023-04-07T22:33:34.058Z"
   },
   {
    "duration": 107,
    "start_time": "2023-04-07T22:33:34.067Z"
   },
   {
    "duration": 17,
    "start_time": "2023-04-07T22:33:34.176Z"
   },
   {
    "duration": 244,
    "start_time": "2023-04-07T22:33:34.197Z"
   },
   {
    "duration": 17,
    "start_time": "2023-04-07T22:33:34.442Z"
   },
   {
    "duration": 19,
    "start_time": "2023-04-07T22:33:34.461Z"
   },
   {
    "duration": 10,
    "start_time": "2023-04-07T22:33:34.482Z"
   },
   {
    "duration": 53,
    "start_time": "2023-04-07T22:33:34.494Z"
   },
   {
    "duration": 6,
    "start_time": "2023-04-07T22:33:34.549Z"
   },
   {
    "duration": 326,
    "start_time": "2023-04-07T22:33:34.556Z"
   },
   {
    "duration": 307,
    "start_time": "2023-04-07T22:33:34.883Z"
   },
   {
    "duration": 5,
    "start_time": "2023-04-07T22:33:35.192Z"
   },
   {
    "duration": 407,
    "start_time": "2023-04-07T22:33:35.198Z"
   },
   {
    "duration": 1948,
    "start_time": "2023-04-07T22:33:35.607Z"
   },
   {
    "duration": 14,
    "start_time": "2023-04-07T22:33:37.556Z"
   },
   {
    "duration": 305,
    "start_time": "2023-04-07T22:33:37.572Z"
   },
   {
    "duration": 399,
    "start_time": "2023-04-07T22:33:37.878Z"
   },
   {
    "duration": 19,
    "start_time": "2023-04-07T22:33:38.279Z"
   },
   {
    "duration": 14,
    "start_time": "2023-04-07T22:33:38.300Z"
   },
   {
    "duration": 304,
    "start_time": "2023-04-07T22:33:38.316Z"
   },
   {
    "duration": 26,
    "start_time": "2023-04-07T22:33:38.622Z"
   },
   {
    "duration": 319,
    "start_time": "2023-04-07T22:33:38.649Z"
   },
   {
    "duration": 18,
    "start_time": "2023-04-07T22:33:38.969Z"
   },
   {
    "duration": 13,
    "start_time": "2023-04-07T22:33:38.988Z"
   },
   {
    "duration": 5,
    "start_time": "2023-04-07T22:33:39.003Z"
   },
   {
    "duration": 42,
    "start_time": "2023-04-07T22:33:39.010Z"
   },
   {
    "duration": 5,
    "start_time": "2023-04-07T22:33:39.054Z"
   },
   {
    "duration": 1332,
    "start_time": "2023-04-08T09:08:17.465Z"
   },
   {
    "duration": 88,
    "start_time": "2023-04-08T09:08:18.799Z"
   },
   {
    "duration": 4,
    "start_time": "2023-04-08T09:08:18.889Z"
   },
   {
    "duration": 77,
    "start_time": "2023-04-08T09:08:18.894Z"
   },
   {
    "duration": 5,
    "start_time": "2023-04-08T09:08:18.973Z"
   },
   {
    "duration": 10,
    "start_time": "2023-04-08T09:08:18.980Z"
   },
   {
    "duration": 19,
    "start_time": "2023-04-08T09:08:18.992Z"
   },
   {
    "duration": 3,
    "start_time": "2023-04-08T09:08:19.013Z"
   },
   {
    "duration": 51,
    "start_time": "2023-04-08T09:08:19.017Z"
   },
   {
    "duration": 11,
    "start_time": "2023-04-08T09:08:19.070Z"
   },
   {
    "duration": 19,
    "start_time": "2023-04-08T09:08:19.083Z"
   },
   {
    "duration": 18,
    "start_time": "2023-04-08T09:08:19.104Z"
   },
   {
    "duration": 5,
    "start_time": "2023-04-08T09:08:19.124Z"
   },
   {
    "duration": 31,
    "start_time": "2023-04-08T09:08:19.132Z"
   },
   {
    "duration": 8,
    "start_time": "2023-04-08T09:08:19.165Z"
   },
   {
    "duration": 6,
    "start_time": "2023-04-08T09:08:19.175Z"
   },
   {
    "duration": 6,
    "start_time": "2023-04-08T09:08:19.182Z"
   },
   {
    "duration": 21,
    "start_time": "2023-04-08T09:08:19.190Z"
   },
   {
    "duration": 15,
    "start_time": "2023-04-08T09:08:19.213Z"
   },
   {
    "duration": 8,
    "start_time": "2023-04-08T09:08:19.261Z"
   },
   {
    "duration": 6,
    "start_time": "2023-04-08T09:08:19.271Z"
   },
   {
    "duration": 7,
    "start_time": "2023-04-08T09:08:19.278Z"
   },
   {
    "duration": 31,
    "start_time": "2023-04-08T09:08:19.286Z"
   },
   {
    "duration": 10,
    "start_time": "2023-04-08T09:08:19.319Z"
   },
   {
    "duration": 10,
    "start_time": "2023-04-08T09:08:19.362Z"
   },
   {
    "duration": 111,
    "start_time": "2023-04-08T09:08:19.374Z"
   },
   {
    "duration": 16,
    "start_time": "2023-04-08T09:08:19.487Z"
   },
   {
    "duration": 258,
    "start_time": "2023-04-08T09:08:19.504Z"
   },
   {
    "duration": 17,
    "start_time": "2023-04-08T09:08:19.763Z"
   },
   {
    "duration": 20,
    "start_time": "2023-04-08T09:08:19.782Z"
   },
   {
    "duration": 11,
    "start_time": "2023-04-08T09:08:19.804Z"
   },
   {
    "duration": 58,
    "start_time": "2023-04-08T09:08:19.817Z"
   },
   {
    "duration": 6,
    "start_time": "2023-04-08T09:08:19.877Z"
   },
   {
    "duration": 361,
    "start_time": "2023-04-08T09:08:19.884Z"
   },
   {
    "duration": 315,
    "start_time": "2023-04-08T09:08:20.247Z"
   },
   {
    "duration": 6,
    "start_time": "2023-04-08T09:08:20.564Z"
   },
   {
    "duration": 428,
    "start_time": "2023-04-08T09:08:20.572Z"
   },
   {
    "duration": 1965,
    "start_time": "2023-04-08T09:08:21.002Z"
   },
   {
    "duration": 13,
    "start_time": "2023-04-08T09:08:22.968Z"
   },
   {
    "duration": 306,
    "start_time": "2023-04-08T09:08:22.982Z"
   },
   {
    "duration": 418,
    "start_time": "2023-04-08T09:08:23.292Z"
   },
   {
    "duration": 21,
    "start_time": "2023-04-08T09:08:23.711Z"
   },
   {
    "duration": 8,
    "start_time": "2023-04-08T09:08:23.733Z"
   },
   {
    "duration": 426,
    "start_time": "2023-04-08T09:08:23.742Z"
   },
   {
    "duration": 26,
    "start_time": "2023-04-08T09:08:24.170Z"
   },
   {
    "duration": 384,
    "start_time": "2023-04-08T09:08:24.198Z"
   },
   {
    "duration": 21,
    "start_time": "2023-04-08T09:08:24.584Z"
   },
   {
    "duration": 15,
    "start_time": "2023-04-08T09:08:24.607Z"
   },
   {
    "duration": 5,
    "start_time": "2023-04-08T09:08:24.624Z"
   },
   {
    "duration": 42,
    "start_time": "2023-04-08T09:08:24.631Z"
   },
   {
    "duration": 6,
    "start_time": "2023-04-08T09:08:24.674Z"
   },
   {
    "duration": 6,
    "start_time": "2023-04-08T09:10:04.407Z"
   },
   {
    "duration": 322,
    "start_time": "2023-04-08T09:10:09.971Z"
   },
   {
    "duration": 308,
    "start_time": "2023-04-08T09:11:04.685Z"
   },
   {
    "duration": 6,
    "start_time": "2023-04-08T09:11:25.655Z"
   },
   {
    "duration": 381,
    "start_time": "2023-04-08T09:11:26.650Z"
   },
   {
    "duration": 2026,
    "start_time": "2023-04-08T09:11:29.375Z"
   },
   {
    "duration": 19,
    "start_time": "2023-04-08T09:12:37.281Z"
   },
   {
    "duration": 267,
    "start_time": "2023-04-08T09:12:40.174Z"
   },
   {
    "duration": 296,
    "start_time": "2023-04-08T09:12:45.930Z"
   },
   {
    "duration": 18,
    "start_time": "2023-04-08T09:13:02.337Z"
   },
   {
    "duration": 7,
    "start_time": "2023-04-08T09:13:05.182Z"
   },
   {
    "duration": 19,
    "start_time": "2023-04-08T09:13:22.456Z"
   },
   {
    "duration": 410,
    "start_time": "2023-04-08T09:13:25.834Z"
   },
   {
    "duration": 13,
    "start_time": "2023-04-08T09:14:01.203Z"
   },
   {
    "duration": 5,
    "start_time": "2023-04-08T09:14:05.761Z"
   },
   {
    "duration": 13,
    "start_time": "2023-04-08T09:14:12.607Z"
   },
   {
    "duration": 6,
    "start_time": "2023-04-08T09:14:17.831Z"
   },
   {
    "duration": 1144,
    "start_time": "2023-04-08T19:35:32.278Z"
   },
   {
    "duration": 57,
    "start_time": "2023-04-08T19:35:33.424Z"
   },
   {
    "duration": 4,
    "start_time": "2023-04-08T19:35:33.482Z"
   },
   {
    "duration": 91,
    "start_time": "2023-04-08T19:35:33.489Z"
   },
   {
    "duration": 7,
    "start_time": "2023-04-08T19:35:33.581Z"
   },
   {
    "duration": 11,
    "start_time": "2023-04-08T19:35:33.589Z"
   },
   {
    "duration": 37,
    "start_time": "2023-04-08T19:35:33.602Z"
   },
   {
    "duration": 3,
    "start_time": "2023-04-08T19:35:33.641Z"
   },
   {
    "duration": 27,
    "start_time": "2023-04-08T19:35:33.646Z"
   },
   {
    "duration": 14,
    "start_time": "2023-04-08T19:35:33.676Z"
   },
   {
    "duration": 22,
    "start_time": "2023-04-08T19:35:33.692Z"
   },
   {
    "duration": 18,
    "start_time": "2023-04-08T19:35:33.733Z"
   },
   {
    "duration": 6,
    "start_time": "2023-04-08T19:35:33.752Z"
   },
   {
    "duration": 6,
    "start_time": "2023-04-08T19:35:33.760Z"
   },
   {
    "duration": 26,
    "start_time": "2023-04-08T19:35:33.768Z"
   },
   {
    "duration": 6,
    "start_time": "2023-04-08T19:35:33.797Z"
   },
   {
    "duration": 10,
    "start_time": "2023-04-08T19:35:33.805Z"
   },
   {
    "duration": 25,
    "start_time": "2023-04-08T19:35:33.835Z"
   },
   {
    "duration": 18,
    "start_time": "2023-04-08T19:35:33.862Z"
   },
   {
    "duration": 7,
    "start_time": "2023-04-08T19:35:33.882Z"
   },
   {
    "duration": 12,
    "start_time": "2023-04-08T19:35:33.891Z"
   },
   {
    "duration": 30,
    "start_time": "2023-04-08T19:35:33.904Z"
   },
   {
    "duration": 34,
    "start_time": "2023-04-08T19:35:33.935Z"
   },
   {
    "duration": 10,
    "start_time": "2023-04-08T19:35:33.971Z"
   },
   {
    "duration": 21,
    "start_time": "2023-04-08T19:35:33.982Z"
   },
   {
    "duration": 104,
    "start_time": "2023-04-08T19:35:34.005Z"
   },
   {
    "duration": 29,
    "start_time": "2023-04-08T19:35:34.111Z"
   },
   {
    "duration": 228,
    "start_time": "2023-04-08T19:35:34.144Z"
   },
   {
    "duration": 16,
    "start_time": "2023-04-08T19:35:34.373Z"
   },
   {
    "duration": 18,
    "start_time": "2023-04-08T19:35:34.390Z"
   },
   {
    "duration": 30,
    "start_time": "2023-04-08T19:35:34.410Z"
   },
   {
    "duration": 29,
    "start_time": "2023-04-08T19:35:34.442Z"
   },
   {
    "duration": 6,
    "start_time": "2023-04-08T19:35:34.472Z"
   },
   {
    "duration": 301,
    "start_time": "2023-04-08T19:35:34.479Z"
   },
   {
    "duration": 294,
    "start_time": "2023-04-08T19:35:34.781Z"
   },
   {
    "duration": 7,
    "start_time": "2023-04-08T19:35:35.077Z"
   },
   {
    "duration": 392,
    "start_time": "2023-04-08T19:35:35.085Z"
   },
   {
    "duration": 2166,
    "start_time": "2023-04-08T19:35:35.479Z"
   },
   {
    "duration": 14,
    "start_time": "2023-04-08T19:35:37.647Z"
   },
   {
    "duration": 309,
    "start_time": "2023-04-08T19:35:37.663Z"
   },
   {
    "duration": 440,
    "start_time": "2023-04-08T19:35:37.974Z"
   },
   {
    "duration": 27,
    "start_time": "2023-04-08T19:35:38.416Z"
   },
   {
    "duration": 23,
    "start_time": "2023-04-08T19:35:38.445Z"
   },
   {
    "duration": 322,
    "start_time": "2023-04-08T19:35:38.469Z"
   },
   {
    "duration": 19,
    "start_time": "2023-04-08T19:35:38.793Z"
   },
   {
    "duration": 368,
    "start_time": "2023-04-08T19:35:38.814Z"
   },
   {
    "duration": 19,
    "start_time": "2023-04-08T19:35:39.184Z"
   },
   {
    "duration": 35,
    "start_time": "2023-04-08T19:35:39.206Z"
   },
   {
    "duration": 7,
    "start_time": "2023-04-08T19:35:39.243Z"
   },
   {
    "duration": 19,
    "start_time": "2023-04-08T19:35:39.251Z"
   },
   {
    "duration": 5,
    "start_time": "2023-04-08T19:35:39.272Z"
   },
   {
    "duration": 1100,
    "start_time": "2023-06-22T13:34:57.614Z"
   },
   {
    "duration": 90,
    "start_time": "2023-06-22T13:34:58.716Z"
   },
   {
    "duration": 3,
    "start_time": "2023-06-22T13:34:58.808Z"
   },
   {
    "duration": 97,
    "start_time": "2023-06-22T13:34:58.812Z"
   },
   {
    "duration": 6,
    "start_time": "2023-06-22T13:34:58.912Z"
   },
   {
    "duration": 33,
    "start_time": "2023-06-22T13:34:58.920Z"
   },
   {
    "duration": 30,
    "start_time": "2023-06-22T13:34:58.955Z"
   },
   {
    "duration": 16,
    "start_time": "2023-06-22T13:34:58.986Z"
   },
   {
    "duration": 33,
    "start_time": "2023-06-22T13:34:59.003Z"
   },
   {
    "duration": 18,
    "start_time": "2023-06-22T13:34:59.038Z"
   },
   {
    "duration": 30,
    "start_time": "2023-06-22T13:34:59.057Z"
   },
   {
    "duration": 25,
    "start_time": "2023-06-22T13:34:59.088Z"
   },
   {
    "duration": 8,
    "start_time": "2023-06-22T13:34:59.114Z"
   },
   {
    "duration": 12,
    "start_time": "2023-06-22T13:34:59.125Z"
   },
   {
    "duration": 41,
    "start_time": "2023-06-22T13:34:59.138Z"
   },
   {
    "duration": 13,
    "start_time": "2023-06-22T13:34:59.180Z"
   },
   {
    "duration": 17,
    "start_time": "2023-06-22T13:34:59.194Z"
   },
   {
    "duration": 29,
    "start_time": "2023-06-22T13:34:59.212Z"
   },
   {
    "duration": 45,
    "start_time": "2023-06-22T13:34:59.242Z"
   },
   {
    "duration": 22,
    "start_time": "2023-06-22T13:34:59.288Z"
   },
   {
    "duration": 8,
    "start_time": "2023-06-22T13:34:59.312Z"
   },
   {
    "duration": 24,
    "start_time": "2023-06-22T13:34:59.321Z"
   },
   {
    "duration": 28,
    "start_time": "2023-06-22T13:34:59.347Z"
   },
   {
    "duration": 9,
    "start_time": "2023-06-22T13:34:59.377Z"
   },
   {
    "duration": 28,
    "start_time": "2023-06-22T13:34:59.387Z"
   },
   {
    "duration": 103,
    "start_time": "2023-06-22T13:34:59.416Z"
   },
   {
    "duration": 19,
    "start_time": "2023-06-22T13:34:59.521Z"
   },
   {
    "duration": 230,
    "start_time": "2023-06-22T13:34:59.542Z"
   },
   {
    "duration": 59,
    "start_time": "2023-06-22T13:34:59.773Z"
   },
   {
    "duration": 18,
    "start_time": "2023-06-22T13:34:59.834Z"
   },
   {
    "duration": 10,
    "start_time": "2023-06-22T13:34:59.853Z"
   },
   {
    "duration": 80,
    "start_time": "2023-06-22T13:34:59.864Z"
   },
   {
    "duration": 7,
    "start_time": "2023-06-22T13:34:59.945Z"
   },
   {
    "duration": 626,
    "start_time": "2023-06-22T13:34:59.954Z"
   },
   {
    "duration": 539,
    "start_time": "2023-06-22T13:35:00.632Z"
   },
   {
    "duration": 5,
    "start_time": "2023-06-22T13:35:01.172Z"
   },
   {
    "duration": 538,
    "start_time": "2023-06-22T13:35:01.179Z"
   },
   {
    "duration": 1872,
    "start_time": "2023-06-22T13:35:01.719Z"
   },
   {
    "duration": 12,
    "start_time": "2023-06-22T13:35:03.593Z"
   },
   {
    "duration": 735,
    "start_time": "2023-06-22T13:35:03.607Z"
   },
   {
    "duration": 388,
    "start_time": "2023-06-22T13:35:04.346Z"
   },
   {
    "duration": 22,
    "start_time": "2023-06-22T13:35:04.735Z"
   },
   {
    "duration": 21,
    "start_time": "2023-06-22T13:35:04.760Z"
   },
   {
    "duration": 370,
    "start_time": "2023-06-22T13:35:04.782Z"
   },
   {
    "duration": 17,
    "start_time": "2023-06-22T13:35:05.154Z"
   },
   {
    "duration": 310,
    "start_time": "2023-06-22T13:35:05.173Z"
   },
   {
    "duration": 23,
    "start_time": "2023-06-22T13:35:05.485Z"
   },
   {
    "duration": 39,
    "start_time": "2023-06-22T13:35:05.510Z"
   },
   {
    "duration": 87,
    "start_time": "2023-06-22T13:35:05.551Z"
   },
   {
    "duration": 35,
    "start_time": "2023-06-22T13:35:05.640Z"
   },
   {
    "duration": 19,
    "start_time": "2023-06-22T13:35:05.677Z"
   }
  ],
  "kernelspec": {
   "display_name": "Python 3 (ipykernel)",
   "language": "python",
   "name": "python3"
  },
  "language_info": {
   "codemirror_mode": {
    "name": "ipython",
    "version": 3
   },
   "file_extension": ".py",
   "mimetype": "text/x-python",
   "name": "python",
   "nbconvert_exporter": "python",
   "pygments_lexer": "ipython3",
   "version": "3.9.5"
  },
  "toc": {
   "base_numbering": 1,
   "nav_menu": {},
   "number_sections": true,
   "sideBar": true,
   "skip_h1_title": true,
   "title_cell": "Table of Contents",
   "title_sidebar": "Contents",
   "toc_cell": false,
   "toc_position": {
    "height": "calc(100% - 180px)",
    "left": "10px",
    "top": "150px",
    "width": "191.938px"
   },
   "toc_section_display": true,
   "toc_window_display": true
  }
 },
 "nbformat": 4,
 "nbformat_minor": 2
}
