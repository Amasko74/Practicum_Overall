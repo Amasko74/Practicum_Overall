{
 "cells": [
  {
   "cell_type": "markdown",
   "metadata": {},
   "source": [
    "# Приоритизация гипотез и анализ результатов A/B-тестов  для увеличения выручки. "
   ]
  },
  {
   "cell_type": "markdown",
   "metadata": {},
   "source": [
    "Вы — аналитик крупного интернет-магазина. Вместе с отделом маркетинга вы подготовили список гипотез для увеличения выручки.\n",
    "Приоритизируйте гипотезы, запустите A/B-тест и проанализируйте результаты. \n",
    "\n",
    "\n",
    "# План:\n",
    "\n",
    "    1) Анализ общей информации о данных\n",
    "    2) Предобработка данных\n",
    "    3) Приоритизация гипотез.\n",
    "        - Примените фреймворк ICE для приоритизации гипотез. Отсортируйте их по убыванию приоритета.\n",
    "        - Примените фреймворк RICE для приоритизации гипотез. Отсортируйте их по убыванию приоритета.\n",
    "        - Укажите, как изменилась приоритизация гипотез при применении RICE вместо ICE. Объясните, почему так произошло.\n",
    "    4) Анализ A/B-теста\n",
    "        - Постройте график кумулятивной выручки по группам. Сделайте выводы и предположения.\n",
    "        - Постройте график кумулятивного среднего чека по группам. Сделайте выводы и предположения.\n",
    "        - Постройте график относительного изменения кумулятивного среднего чека группы B к группе A. Сделайте выводы и                       предположения.\n",
    "        - Постройте график кумулятивной конверсии по группам. Сделайте выводы и предположения.\n",
    "        - Постройте график относительного изменения кумулятивной конверсии группы B к группе A. Сделайте выводы и                           предположения.\n",
    "        - Постройте точечный график количества заказов по пользователям. Сделайте выводы и предположения.\n",
    "        - Посчитайте 95-й и 99-й перцентили количества заказов на пользователя. Выберите границу для определения аномальных                пользователей.\n",
    "        - Постройте точечный график стоимостей заказов. Сделайте выводы и предположения.\n",
    "        - Посчитайте 95-й и 99-й перцентили стоимости заказов. Выберите границу для определения аномальных заказов.\n",
    "        - Посчитайте статистическую значимость различий в конверсии между группами по «сырым» данным. Сделайте выводы и                      предположения.\n",
    "        - Посчитайте статистическую значимость различий в среднем чеке заказа между группами по «сырым» данным. Сделайте      выводы и предположения.\n",
    "        - Посчитайте статистическую значимость различий в конверсии между группами по «очищенным» данным. Сделайте выводы и                  предположения.\n",
    "        - Посчитайте статистическую значимость различий в среднем чеке заказа между группами по «очищенным» данным. Сделайте выводы и предположения.\n",
    "        - Примите решение по результатам теста и объясните его. Варианты решений:\n",
    "            1. Остановить тест, зафиксировать победу одной из групп.\n",
    "            2. Остановить тест, зафиксировать отсутствие различий между группами.\n",
    "            3. Продолжить тест."
   ]
  },
  {
   "cell_type": "markdown",
   "metadata": {},
   "source": [
    "## Общая информация о данных"
   ]
  },
  {
   "cell_type": "code",
   "execution_count": 1,
   "metadata": {},
   "outputs": [],
   "source": [
    "import pandas as pd\n",
    "from matplotlib import pyplot as plt\n",
    "import seaborn as sns\n",
    "import numpy as np\n",
    "import datetime as dt\n",
    "import scipy.stats as stats\n",
    "\n",
    "pd.options.display.max_colwidth = 130"
   ]
  },
  {
   "cell_type": "code",
   "execution_count": 2,
   "metadata": {},
   "outputs": [],
   "source": [
    "# прочитаем файлы:\n",
    "\n",
    "hypothesis = pd.read_csv('/datasets/hypothesis.csv')\n",
    "orders = pd.read_csv('/datasets/orders.csv')\n",
    "visitors = pd.read_csv('/datasets/visitors.csv')"
   ]
  },
  {
   "cell_type": "markdown",
   "metadata": {},
   "source": [
    "Изучим данные таблиц."
   ]
  },
  {
   "cell_type": "code",
   "execution_count": 3,
   "metadata": {},
   "outputs": [],
   "source": [
    "# небольшая функция, которой обычно пользуюсь...\n",
    "\n",
    "def df_info(df_name):\n",
    "    display(df_name.head(10))\n",
    "    display(df_name.info())\n",
    "    display(df_name.duplicated().sum())"
   ]
  },
  {
   "cell_type": "code",
   "execution_count": 4,
   "metadata": {},
   "outputs": [
    {
     "data": {
      "text/html": [
       "<div>\n",
       "<style scoped>\n",
       "    .dataframe tbody tr th:only-of-type {\n",
       "        vertical-align: middle;\n",
       "    }\n",
       "\n",
       "    .dataframe tbody tr th {\n",
       "        vertical-align: top;\n",
       "    }\n",
       "\n",
       "    .dataframe thead th {\n",
       "        text-align: right;\n",
       "    }\n",
       "</style>\n",
       "<table border=\"1\" class=\"dataframe\">\n",
       "  <thead>\n",
       "    <tr style=\"text-align: right;\">\n",
       "      <th></th>\n",
       "      <th>Hypothesis</th>\n",
       "      <th>Reach</th>\n",
       "      <th>Impact</th>\n",
       "      <th>Confidence</th>\n",
       "      <th>Efforts</th>\n",
       "    </tr>\n",
       "  </thead>\n",
       "  <tbody>\n",
       "    <tr>\n",
       "      <th>0</th>\n",
       "      <td>Добавить два новых канала привлечения трафика, что позволит привлекать на 30% больше пользователей</td>\n",
       "      <td>3</td>\n",
       "      <td>10</td>\n",
       "      <td>8</td>\n",
       "      <td>6</td>\n",
       "    </tr>\n",
       "    <tr>\n",
       "      <th>1</th>\n",
       "      <td>Запустить собственную службу доставки, что сократит срок доставки заказов</td>\n",
       "      <td>2</td>\n",
       "      <td>5</td>\n",
       "      <td>4</td>\n",
       "      <td>10</td>\n",
       "    </tr>\n",
       "    <tr>\n",
       "      <th>2</th>\n",
       "      <td>Добавить блоки рекомендаций товаров на сайт интернет магазина, чтобы повысить конверсию и средний чек заказа</td>\n",
       "      <td>8</td>\n",
       "      <td>3</td>\n",
       "      <td>7</td>\n",
       "      <td>3</td>\n",
       "    </tr>\n",
       "    <tr>\n",
       "      <th>3</th>\n",
       "      <td>Изменить структура категорий, что увеличит конверсию, т.к. пользователи быстрее найдут нужный товар</td>\n",
       "      <td>8</td>\n",
       "      <td>3</td>\n",
       "      <td>3</td>\n",
       "      <td>8</td>\n",
       "    </tr>\n",
       "    <tr>\n",
       "      <th>4</th>\n",
       "      <td>Изменить цвет фона главной страницы, чтобы увеличить вовлеченность пользователей</td>\n",
       "      <td>3</td>\n",
       "      <td>1</td>\n",
       "      <td>1</td>\n",
       "      <td>1</td>\n",
       "    </tr>\n",
       "    <tr>\n",
       "      <th>5</th>\n",
       "      <td>Добавить страницу отзывов клиентов о магазине, что позволит увеличить количество заказов</td>\n",
       "      <td>3</td>\n",
       "      <td>2</td>\n",
       "      <td>2</td>\n",
       "      <td>3</td>\n",
       "    </tr>\n",
       "    <tr>\n",
       "      <th>6</th>\n",
       "      <td>Показать на главной странице баннеры с актуальными акциями и распродажами, чтобы увеличить конверсию</td>\n",
       "      <td>5</td>\n",
       "      <td>3</td>\n",
       "      <td>8</td>\n",
       "      <td>3</td>\n",
       "    </tr>\n",
       "    <tr>\n",
       "      <th>7</th>\n",
       "      <td>Добавить форму подписки на все основные страницы, чтобы собрать базу клиентов для email-рассылок</td>\n",
       "      <td>10</td>\n",
       "      <td>7</td>\n",
       "      <td>8</td>\n",
       "      <td>5</td>\n",
       "    </tr>\n",
       "    <tr>\n",
       "      <th>8</th>\n",
       "      <td>Запустить акцию, дающую скидку на товар в день рождения</td>\n",
       "      <td>1</td>\n",
       "      <td>9</td>\n",
       "      <td>9</td>\n",
       "      <td>5</td>\n",
       "    </tr>\n",
       "  </tbody>\n",
       "</table>\n",
       "</div>"
      ],
      "text/plain": [
       "                                                                                                     Hypothesis  \\\n",
       "0            Добавить два новых канала привлечения трафика, что позволит привлекать на 30% больше пользователей   \n",
       "1                                     Запустить собственную службу доставки, что сократит срок доставки заказов   \n",
       "2  Добавить блоки рекомендаций товаров на сайт интернет магазина, чтобы повысить конверсию и средний чек заказа   \n",
       "3           Изменить структура категорий, что увеличит конверсию, т.к. пользователи быстрее найдут нужный товар   \n",
       "4                              Изменить цвет фона главной страницы, чтобы увеличить вовлеченность пользователей   \n",
       "5                      Добавить страницу отзывов клиентов о магазине, что позволит увеличить количество заказов   \n",
       "6          Показать на главной странице баннеры с актуальными акциями и распродажами, чтобы увеличить конверсию   \n",
       "7              Добавить форму подписки на все основные страницы, чтобы собрать базу клиентов для email-рассылок   \n",
       "8                                                       Запустить акцию, дающую скидку на товар в день рождения   \n",
       "\n",
       "   Reach  Impact  Confidence  Efforts  \n",
       "0      3      10           8        6  \n",
       "1      2       5           4       10  \n",
       "2      8       3           7        3  \n",
       "3      8       3           3        8  \n",
       "4      3       1           1        1  \n",
       "5      3       2           2        3  \n",
       "6      5       3           8        3  \n",
       "7     10       7           8        5  \n",
       "8      1       9           9        5  "
      ]
     },
     "metadata": {},
     "output_type": "display_data"
    },
    {
     "name": "stdout",
     "output_type": "stream",
     "text": [
      "<class 'pandas.core.frame.DataFrame'>\n",
      "RangeIndex: 9 entries, 0 to 8\n",
      "Data columns (total 5 columns):\n",
      " #   Column      Non-Null Count  Dtype \n",
      "---  ------      --------------  ----- \n",
      " 0   Hypothesis  9 non-null      object\n",
      " 1   Reach       9 non-null      int64 \n",
      " 2   Impact      9 non-null      int64 \n",
      " 3   Confidence  9 non-null      int64 \n",
      " 4   Efforts     9 non-null      int64 \n",
      "dtypes: int64(4), object(1)\n",
      "memory usage: 488.0+ bytes\n"
     ]
    },
    {
     "data": {
      "text/plain": [
       "None"
      ]
     },
     "metadata": {},
     "output_type": "display_data"
    },
    {
     "data": {
      "text/plain": [
       "0"
      ]
     },
     "metadata": {},
     "output_type": "display_data"
    }
   ],
   "source": [
    "df_info(hypothesis)"
   ]
  },
  {
   "cell_type": "markdown",
   "metadata": {},
   "source": [
    "Пропусков не наблюдается, типы данных так же в порядке, дубликатов нет. Оданако, нужно будет привести названия столбцов к нижнему регистру."
   ]
  },
  {
   "cell_type": "code",
   "execution_count": 5,
   "metadata": {},
   "outputs": [
    {
     "data": {
      "text/html": [
       "<div>\n",
       "<style scoped>\n",
       "    .dataframe tbody tr th:only-of-type {\n",
       "        vertical-align: middle;\n",
       "    }\n",
       "\n",
       "    .dataframe tbody tr th {\n",
       "        vertical-align: top;\n",
       "    }\n",
       "\n",
       "    .dataframe thead th {\n",
       "        text-align: right;\n",
       "    }\n",
       "</style>\n",
       "<table border=\"1\" class=\"dataframe\">\n",
       "  <thead>\n",
       "    <tr style=\"text-align: right;\">\n",
       "      <th></th>\n",
       "      <th>transactionId</th>\n",
       "      <th>visitorId</th>\n",
       "      <th>date</th>\n",
       "      <th>revenue</th>\n",
       "      <th>group</th>\n",
       "    </tr>\n",
       "  </thead>\n",
       "  <tbody>\n",
       "    <tr>\n",
       "      <th>0</th>\n",
       "      <td>3667963787</td>\n",
       "      <td>3312258926</td>\n",
       "      <td>2019-08-15</td>\n",
       "      <td>1650</td>\n",
       "      <td>B</td>\n",
       "    </tr>\n",
       "    <tr>\n",
       "      <th>1</th>\n",
       "      <td>2804400009</td>\n",
       "      <td>3642806036</td>\n",
       "      <td>2019-08-15</td>\n",
       "      <td>730</td>\n",
       "      <td>B</td>\n",
       "    </tr>\n",
       "    <tr>\n",
       "      <th>2</th>\n",
       "      <td>2961555356</td>\n",
       "      <td>4069496402</td>\n",
       "      <td>2019-08-15</td>\n",
       "      <td>400</td>\n",
       "      <td>A</td>\n",
       "    </tr>\n",
       "    <tr>\n",
       "      <th>3</th>\n",
       "      <td>3797467345</td>\n",
       "      <td>1196621759</td>\n",
       "      <td>2019-08-15</td>\n",
       "      <td>9759</td>\n",
       "      <td>B</td>\n",
       "    </tr>\n",
       "    <tr>\n",
       "      <th>4</th>\n",
       "      <td>2282983706</td>\n",
       "      <td>2322279887</td>\n",
       "      <td>2019-08-15</td>\n",
       "      <td>2308</td>\n",
       "      <td>B</td>\n",
       "    </tr>\n",
       "    <tr>\n",
       "      <th>5</th>\n",
       "      <td>182168103</td>\n",
       "      <td>935554773</td>\n",
       "      <td>2019-08-15</td>\n",
       "      <td>2210</td>\n",
       "      <td>B</td>\n",
       "    </tr>\n",
       "    <tr>\n",
       "      <th>6</th>\n",
       "      <td>398296753</td>\n",
       "      <td>2900797465</td>\n",
       "      <td>2019-08-15</td>\n",
       "      <td>1860</td>\n",
       "      <td>B</td>\n",
       "    </tr>\n",
       "    <tr>\n",
       "      <th>7</th>\n",
       "      <td>2626614568</td>\n",
       "      <td>78758296</td>\n",
       "      <td>2019-08-15</td>\n",
       "      <td>1044</td>\n",
       "      <td>A</td>\n",
       "    </tr>\n",
       "    <tr>\n",
       "      <th>8</th>\n",
       "      <td>1576988021</td>\n",
       "      <td>295230930</td>\n",
       "      <td>2019-08-15</td>\n",
       "      <td>13710</td>\n",
       "      <td>A</td>\n",
       "    </tr>\n",
       "    <tr>\n",
       "      <th>9</th>\n",
       "      <td>1506739906</td>\n",
       "      <td>1882260405</td>\n",
       "      <td>2019-08-15</td>\n",
       "      <td>1855</td>\n",
       "      <td>B</td>\n",
       "    </tr>\n",
       "  </tbody>\n",
       "</table>\n",
       "</div>"
      ],
      "text/plain": [
       "   transactionId   visitorId        date  revenue group\n",
       "0     3667963787  3312258926  2019-08-15     1650     B\n",
       "1     2804400009  3642806036  2019-08-15      730     B\n",
       "2     2961555356  4069496402  2019-08-15      400     A\n",
       "3     3797467345  1196621759  2019-08-15     9759     B\n",
       "4     2282983706  2322279887  2019-08-15     2308     B\n",
       "5      182168103   935554773  2019-08-15     2210     B\n",
       "6      398296753  2900797465  2019-08-15     1860     B\n",
       "7     2626614568    78758296  2019-08-15     1044     A\n",
       "8     1576988021   295230930  2019-08-15    13710     A\n",
       "9     1506739906  1882260405  2019-08-15     1855     B"
      ]
     },
     "metadata": {},
     "output_type": "display_data"
    },
    {
     "name": "stdout",
     "output_type": "stream",
     "text": [
      "<class 'pandas.core.frame.DataFrame'>\n",
      "RangeIndex: 1197 entries, 0 to 1196\n",
      "Data columns (total 5 columns):\n",
      " #   Column         Non-Null Count  Dtype \n",
      "---  ------         --------------  ----- \n",
      " 0   transactionId  1197 non-null   int64 \n",
      " 1   visitorId      1197 non-null   int64 \n",
      " 2   date           1197 non-null   object\n",
      " 3   revenue        1197 non-null   int64 \n",
      " 4   group          1197 non-null   object\n",
      "dtypes: int64(3), object(2)\n",
      "memory usage: 46.9+ KB\n"
     ]
    },
    {
     "data": {
      "text/plain": [
       "None"
      ]
     },
     "metadata": {},
     "output_type": "display_data"
    },
    {
     "data": {
      "text/plain": [
       "0"
      ]
     },
     "metadata": {},
     "output_type": "display_data"
    }
   ],
   "source": [
    "df_info(orders)"
   ]
  },
  {
   "cell_type": "markdown",
   "metadata": {},
   "source": [
    "Здесь, в целомтоже все в порядке, кроме столбца даты - его преобразуем в нужный тип. А названия столбцов transactionId и visitorId так же поменяем. transactionId изучим поподробнее на дубликаты."
   ]
  },
  {
   "cell_type": "code",
   "execution_count": 6,
   "metadata": {},
   "outputs": [
    {
     "data": {
      "text/html": [
       "<div>\n",
       "<style scoped>\n",
       "    .dataframe tbody tr th:only-of-type {\n",
       "        vertical-align: middle;\n",
       "    }\n",
       "\n",
       "    .dataframe tbody tr th {\n",
       "        vertical-align: top;\n",
       "    }\n",
       "\n",
       "    .dataframe thead th {\n",
       "        text-align: right;\n",
       "    }\n",
       "</style>\n",
       "<table border=\"1\" class=\"dataframe\">\n",
       "  <thead>\n",
       "    <tr style=\"text-align: right;\">\n",
       "      <th></th>\n",
       "      <th>date</th>\n",
       "      <th>group</th>\n",
       "      <th>visitors</th>\n",
       "    </tr>\n",
       "  </thead>\n",
       "  <tbody>\n",
       "    <tr>\n",
       "      <th>0</th>\n",
       "      <td>2019-08-01</td>\n",
       "      <td>A</td>\n",
       "      <td>719</td>\n",
       "    </tr>\n",
       "    <tr>\n",
       "      <th>1</th>\n",
       "      <td>2019-08-02</td>\n",
       "      <td>A</td>\n",
       "      <td>619</td>\n",
       "    </tr>\n",
       "    <tr>\n",
       "      <th>2</th>\n",
       "      <td>2019-08-03</td>\n",
       "      <td>A</td>\n",
       "      <td>507</td>\n",
       "    </tr>\n",
       "    <tr>\n",
       "      <th>3</th>\n",
       "      <td>2019-08-04</td>\n",
       "      <td>A</td>\n",
       "      <td>717</td>\n",
       "    </tr>\n",
       "    <tr>\n",
       "      <th>4</th>\n",
       "      <td>2019-08-05</td>\n",
       "      <td>A</td>\n",
       "      <td>756</td>\n",
       "    </tr>\n",
       "    <tr>\n",
       "      <th>5</th>\n",
       "      <td>2019-08-06</td>\n",
       "      <td>A</td>\n",
       "      <td>667</td>\n",
       "    </tr>\n",
       "    <tr>\n",
       "      <th>6</th>\n",
       "      <td>2019-08-07</td>\n",
       "      <td>A</td>\n",
       "      <td>644</td>\n",
       "    </tr>\n",
       "    <tr>\n",
       "      <th>7</th>\n",
       "      <td>2019-08-08</td>\n",
       "      <td>A</td>\n",
       "      <td>610</td>\n",
       "    </tr>\n",
       "    <tr>\n",
       "      <th>8</th>\n",
       "      <td>2019-08-09</td>\n",
       "      <td>A</td>\n",
       "      <td>617</td>\n",
       "    </tr>\n",
       "    <tr>\n",
       "      <th>9</th>\n",
       "      <td>2019-08-10</td>\n",
       "      <td>A</td>\n",
       "      <td>406</td>\n",
       "    </tr>\n",
       "  </tbody>\n",
       "</table>\n",
       "</div>"
      ],
      "text/plain": [
       "         date group  visitors\n",
       "0  2019-08-01     A       719\n",
       "1  2019-08-02     A       619\n",
       "2  2019-08-03     A       507\n",
       "3  2019-08-04     A       717\n",
       "4  2019-08-05     A       756\n",
       "5  2019-08-06     A       667\n",
       "6  2019-08-07     A       644\n",
       "7  2019-08-08     A       610\n",
       "8  2019-08-09     A       617\n",
       "9  2019-08-10     A       406"
      ]
     },
     "metadata": {},
     "output_type": "display_data"
    },
    {
     "name": "stdout",
     "output_type": "stream",
     "text": [
      "<class 'pandas.core.frame.DataFrame'>\n",
      "RangeIndex: 62 entries, 0 to 61\n",
      "Data columns (total 3 columns):\n",
      " #   Column    Non-Null Count  Dtype \n",
      "---  ------    --------------  ----- \n",
      " 0   date      62 non-null     object\n",
      " 1   group     62 non-null     object\n",
      " 2   visitors  62 non-null     int64 \n",
      "dtypes: int64(1), object(2)\n",
      "memory usage: 1.6+ KB\n"
     ]
    },
    {
     "data": {
      "text/plain": [
       "None"
      ]
     },
     "metadata": {},
     "output_type": "display_data"
    },
    {
     "data": {
      "text/plain": [
       "0"
      ]
     },
     "metadata": {},
     "output_type": "display_data"
    }
   ],
   "source": [
    "df_info(visitors)"
   ]
  },
  {
   "cell_type": "markdown",
   "metadata": {},
   "source": [
    "Здесь проблема только в типе данных даты."
   ]
  },
  {
   "cell_type": "markdown",
   "metadata": {},
   "source": [
    "**Вывод:**\n",
    "\n",
    "Данные находятся в хорошем состоянии, однако некоторые ньюансы по типам дат и названиям столбцов имеются. Будем исправлять.."
   ]
  },
  {
   "cell_type": "markdown",
   "metadata": {},
   "source": [
    "## Предобработка данных"
   ]
  },
  {
   "cell_type": "markdown",
   "metadata": {},
   "source": [
    "Сначала займемся датасетом hypothesis, приведем названия столбцов к нижнему регистру."
   ]
  },
  {
   "cell_type": "code",
   "execution_count": 7,
   "metadata": {},
   "outputs": [
    {
     "data": {
      "text/html": [
       "<div>\n",
       "<style scoped>\n",
       "    .dataframe tbody tr th:only-of-type {\n",
       "        vertical-align: middle;\n",
       "    }\n",
       "\n",
       "    .dataframe tbody tr th {\n",
       "        vertical-align: top;\n",
       "    }\n",
       "\n",
       "    .dataframe thead th {\n",
       "        text-align: right;\n",
       "    }\n",
       "</style>\n",
       "<table border=\"1\" class=\"dataframe\">\n",
       "  <thead>\n",
       "    <tr style=\"text-align: right;\">\n",
       "      <th></th>\n",
       "      <th>hypothesis</th>\n",
       "      <th>reach</th>\n",
       "      <th>impact</th>\n",
       "      <th>confidence</th>\n",
       "      <th>efforts</th>\n",
       "    </tr>\n",
       "  </thead>\n",
       "  <tbody>\n",
       "    <tr>\n",
       "      <th>0</th>\n",
       "      <td>Добавить два новых канала привлечения трафика, что позволит привлекать на 30% больше пользователей</td>\n",
       "      <td>3</td>\n",
       "      <td>10</td>\n",
       "      <td>8</td>\n",
       "      <td>6</td>\n",
       "    </tr>\n",
       "    <tr>\n",
       "      <th>1</th>\n",
       "      <td>Запустить собственную службу доставки, что сократит срок доставки заказов</td>\n",
       "      <td>2</td>\n",
       "      <td>5</td>\n",
       "      <td>4</td>\n",
       "      <td>10</td>\n",
       "    </tr>\n",
       "    <tr>\n",
       "      <th>2</th>\n",
       "      <td>Добавить блоки рекомендаций товаров на сайт интернет магазина, чтобы повысить конверсию и средний чек заказа</td>\n",
       "      <td>8</td>\n",
       "      <td>3</td>\n",
       "      <td>7</td>\n",
       "      <td>3</td>\n",
       "    </tr>\n",
       "    <tr>\n",
       "      <th>3</th>\n",
       "      <td>Изменить структура категорий, что увеличит конверсию, т.к. пользователи быстрее найдут нужный товар</td>\n",
       "      <td>8</td>\n",
       "      <td>3</td>\n",
       "      <td>3</td>\n",
       "      <td>8</td>\n",
       "    </tr>\n",
       "    <tr>\n",
       "      <th>4</th>\n",
       "      <td>Изменить цвет фона главной страницы, чтобы увеличить вовлеченность пользователей</td>\n",
       "      <td>3</td>\n",
       "      <td>1</td>\n",
       "      <td>1</td>\n",
       "      <td>1</td>\n",
       "    </tr>\n",
       "  </tbody>\n",
       "</table>\n",
       "</div>"
      ],
      "text/plain": [
       "                                                                                                     hypothesis  \\\n",
       "0            Добавить два новых канала привлечения трафика, что позволит привлекать на 30% больше пользователей   \n",
       "1                                     Запустить собственную службу доставки, что сократит срок доставки заказов   \n",
       "2  Добавить блоки рекомендаций товаров на сайт интернет магазина, чтобы повысить конверсию и средний чек заказа   \n",
       "3           Изменить структура категорий, что увеличит конверсию, т.к. пользователи быстрее найдут нужный товар   \n",
       "4                              Изменить цвет фона главной страницы, чтобы увеличить вовлеченность пользователей   \n",
       "\n",
       "   reach  impact  confidence  efforts  \n",
       "0      3      10           8        6  \n",
       "1      2       5           4       10  \n",
       "2      8       3           7        3  \n",
       "3      8       3           3        8  \n",
       "4      3       1           1        1  "
      ]
     },
     "execution_count": 7,
     "metadata": {},
     "output_type": "execute_result"
    }
   ],
   "source": [
    "hypothesis.columns = hypothesis.columns.str.lower()\n",
    "hypothesis.head()"
   ]
  },
  {
   "cell_type": "markdown",
   "metadata": {},
   "source": [
    "В данных orders заменим тип столбца date, поменяем названия двух столбцов и проверим на дубликаты колокну transactionId. Еще можно поспотреть наличие неявных дубликатов в столбце group."
   ]
  },
  {
   "cell_type": "code",
   "execution_count": 8,
   "metadata": {},
   "outputs": [
    {
     "name": "stdout",
     "output_type": "stream",
     "text": [
      "0\n",
      "['B' 'A']\n",
      "<class 'pandas.core.frame.DataFrame'>\n",
      "RangeIndex: 1197 entries, 0 to 1196\n",
      "Data columns (total 5 columns):\n",
      " #   Column          Non-Null Count  Dtype         \n",
      "---  ------          --------------  -----         \n",
      " 0   transaction_id  1197 non-null   int64         \n",
      " 1   visitor_id      1197 non-null   int64         \n",
      " 2   date            1197 non-null   datetime64[ns]\n",
      " 3   revenue         1197 non-null   int64         \n",
      " 4   group           1197 non-null   object        \n",
      "dtypes: datetime64[ns](1), int64(3), object(1)\n",
      "memory usage: 46.9+ KB\n",
      "None\n"
     ]
    },
    {
     "data": {
      "text/html": [
       "<div>\n",
       "<style scoped>\n",
       "    .dataframe tbody tr th:only-of-type {\n",
       "        vertical-align: middle;\n",
       "    }\n",
       "\n",
       "    .dataframe tbody tr th {\n",
       "        vertical-align: top;\n",
       "    }\n",
       "\n",
       "    .dataframe thead th {\n",
       "        text-align: right;\n",
       "    }\n",
       "</style>\n",
       "<table border=\"1\" class=\"dataframe\">\n",
       "  <thead>\n",
       "    <tr style=\"text-align: right;\">\n",
       "      <th></th>\n",
       "      <th>transaction_id</th>\n",
       "      <th>visitor_id</th>\n",
       "      <th>date</th>\n",
       "      <th>revenue</th>\n",
       "      <th>group</th>\n",
       "    </tr>\n",
       "  </thead>\n",
       "  <tbody>\n",
       "    <tr>\n",
       "      <th>0</th>\n",
       "      <td>3667963787</td>\n",
       "      <td>3312258926</td>\n",
       "      <td>2019-08-15</td>\n",
       "      <td>1650</td>\n",
       "      <td>B</td>\n",
       "    </tr>\n",
       "    <tr>\n",
       "      <th>1</th>\n",
       "      <td>2804400009</td>\n",
       "      <td>3642806036</td>\n",
       "      <td>2019-08-15</td>\n",
       "      <td>730</td>\n",
       "      <td>B</td>\n",
       "    </tr>\n",
       "    <tr>\n",
       "      <th>2</th>\n",
       "      <td>2961555356</td>\n",
       "      <td>4069496402</td>\n",
       "      <td>2019-08-15</td>\n",
       "      <td>400</td>\n",
       "      <td>A</td>\n",
       "    </tr>\n",
       "    <tr>\n",
       "      <th>3</th>\n",
       "      <td>3797467345</td>\n",
       "      <td>1196621759</td>\n",
       "      <td>2019-08-15</td>\n",
       "      <td>9759</td>\n",
       "      <td>B</td>\n",
       "    </tr>\n",
       "    <tr>\n",
       "      <th>4</th>\n",
       "      <td>2282983706</td>\n",
       "      <td>2322279887</td>\n",
       "      <td>2019-08-15</td>\n",
       "      <td>2308</td>\n",
       "      <td>B</td>\n",
       "    </tr>\n",
       "  </tbody>\n",
       "</table>\n",
       "</div>"
      ],
      "text/plain": [
       "   transaction_id  visitor_id       date  revenue group\n",
       "0      3667963787  3312258926 2019-08-15     1650     B\n",
       "1      2804400009  3642806036 2019-08-15      730     B\n",
       "2      2961555356  4069496402 2019-08-15      400     A\n",
       "3      3797467345  1196621759 2019-08-15     9759     B\n",
       "4      2282983706  2322279887 2019-08-15     2308     B"
      ]
     },
     "execution_count": 8,
     "metadata": {},
     "output_type": "execute_result"
    }
   ],
   "source": [
    "orders['date'] = pd.to_datetime(orders['date'],format='%Y-%m-%d')\n",
    "orders = orders.rename(columns={'transactionId':'transaction_id', 'visitorId':'visitor_id'})\n",
    "print(orders['transaction_id'].duplicated().sum())\n",
    "print(orders['group'].unique())\n",
    "print(orders.info())\n",
    "orders.head()"
   ]
  },
  {
   "cell_type": "markdown",
   "metadata": {},
   "source": [
    "В бд visitors заменим дату преобразуем в нужный тип и, опять же, проверим колонку group на наличие неявных дубликатов."
   ]
  },
  {
   "cell_type": "code",
   "execution_count": 9,
   "metadata": {},
   "outputs": [
    {
     "name": "stdout",
     "output_type": "stream",
     "text": [
      "['A' 'B']\n",
      "<class 'pandas.core.frame.DataFrame'>\n",
      "RangeIndex: 62 entries, 0 to 61\n",
      "Data columns (total 3 columns):\n",
      " #   Column    Non-Null Count  Dtype         \n",
      "---  ------    --------------  -----         \n",
      " 0   date      62 non-null     datetime64[ns]\n",
      " 1   group     62 non-null     object        \n",
      " 2   visitors  62 non-null     int64         \n",
      "dtypes: datetime64[ns](1), int64(1), object(1)\n",
      "memory usage: 1.6+ KB\n",
      "None\n"
     ]
    },
    {
     "data": {
      "text/html": [
       "<div>\n",
       "<style scoped>\n",
       "    .dataframe tbody tr th:only-of-type {\n",
       "        vertical-align: middle;\n",
       "    }\n",
       "\n",
       "    .dataframe tbody tr th {\n",
       "        vertical-align: top;\n",
       "    }\n",
       "\n",
       "    .dataframe thead th {\n",
       "        text-align: right;\n",
       "    }\n",
       "</style>\n",
       "<table border=\"1\" class=\"dataframe\">\n",
       "  <thead>\n",
       "    <tr style=\"text-align: right;\">\n",
       "      <th></th>\n",
       "      <th>date</th>\n",
       "      <th>group</th>\n",
       "      <th>visitors</th>\n",
       "    </tr>\n",
       "  </thead>\n",
       "  <tbody>\n",
       "    <tr>\n",
       "      <th>0</th>\n",
       "      <td>2019-08-01</td>\n",
       "      <td>A</td>\n",
       "      <td>719</td>\n",
       "    </tr>\n",
       "    <tr>\n",
       "      <th>1</th>\n",
       "      <td>2019-08-02</td>\n",
       "      <td>A</td>\n",
       "      <td>619</td>\n",
       "    </tr>\n",
       "    <tr>\n",
       "      <th>2</th>\n",
       "      <td>2019-08-03</td>\n",
       "      <td>A</td>\n",
       "      <td>507</td>\n",
       "    </tr>\n",
       "    <tr>\n",
       "      <th>3</th>\n",
       "      <td>2019-08-04</td>\n",
       "      <td>A</td>\n",
       "      <td>717</td>\n",
       "    </tr>\n",
       "    <tr>\n",
       "      <th>4</th>\n",
       "      <td>2019-08-05</td>\n",
       "      <td>A</td>\n",
       "      <td>756</td>\n",
       "    </tr>\n",
       "  </tbody>\n",
       "</table>\n",
       "</div>"
      ],
      "text/plain": [
       "        date group  visitors\n",
       "0 2019-08-01     A       719\n",
       "1 2019-08-02     A       619\n",
       "2 2019-08-03     A       507\n",
       "3 2019-08-04     A       717\n",
       "4 2019-08-05     A       756"
      ]
     },
     "execution_count": 9,
     "metadata": {},
     "output_type": "execute_result"
    }
   ],
   "source": [
    "visitors['date'] = pd.to_datetime(visitors['date'],format='%Y-%m-%d')\n",
    "print(visitors['group'].unique())\n",
    "print(visitors.info())\n",
    "visitors.head()"
   ]
  },
  {
   "cell_type": "markdown",
   "metadata": {},
   "source": [
    "**Вывод:**\n",
    "\n",
    "Провели все нужные нам преобразовние со всеми датасетами, а так же проверили данные на наличие неявных дубликатов, которые не обнаружили"
   ]
  },
  {
   "cell_type": "markdown",
   "metadata": {},
   "source": [
    "## Часть 1. Приоритизация гипотез."
   ]
  },
  {
   "cell_type": "markdown",
   "metadata": {},
   "source": [
    "### Применим фреймворк ICE для приоритизации гипотез. Отсортируем их по убыванию приоритета."
   ]
  },
  {
   "cell_type": "code",
   "execution_count": 10,
   "metadata": {},
   "outputs": [
    {
     "data": {
      "text/html": [
       "<div>\n",
       "<style scoped>\n",
       "    .dataframe tbody tr th:only-of-type {\n",
       "        vertical-align: middle;\n",
       "    }\n",
       "\n",
       "    .dataframe tbody tr th {\n",
       "        vertical-align: top;\n",
       "    }\n",
       "\n",
       "    .dataframe thead th {\n",
       "        text-align: right;\n",
       "    }\n",
       "</style>\n",
       "<table border=\"1\" class=\"dataframe\">\n",
       "  <thead>\n",
       "    <tr style=\"text-align: right;\">\n",
       "      <th></th>\n",
       "      <th>hypothesis</th>\n",
       "      <th>reach</th>\n",
       "      <th>impact</th>\n",
       "      <th>confidence</th>\n",
       "      <th>efforts</th>\n",
       "      <th>ICE</th>\n",
       "    </tr>\n",
       "  </thead>\n",
       "  <tbody>\n",
       "    <tr>\n",
       "      <th>8</th>\n",
       "      <td>Запустить акцию, дающую скидку на товар в день рождения</td>\n",
       "      <td>1</td>\n",
       "      <td>9</td>\n",
       "      <td>9</td>\n",
       "      <td>5</td>\n",
       "      <td>16.20</td>\n",
       "    </tr>\n",
       "    <tr>\n",
       "      <th>0</th>\n",
       "      <td>Добавить два новых канала привлечения трафика, что позволит привлекать на 30% больше пользователей</td>\n",
       "      <td>3</td>\n",
       "      <td>10</td>\n",
       "      <td>8</td>\n",
       "      <td>6</td>\n",
       "      <td>13.33</td>\n",
       "    </tr>\n",
       "    <tr>\n",
       "      <th>7</th>\n",
       "      <td>Добавить форму подписки на все основные страницы, чтобы собрать базу клиентов для email-рассылок</td>\n",
       "      <td>10</td>\n",
       "      <td>7</td>\n",
       "      <td>8</td>\n",
       "      <td>5</td>\n",
       "      <td>11.20</td>\n",
       "    </tr>\n",
       "    <tr>\n",
       "      <th>6</th>\n",
       "      <td>Показать на главной странице баннеры с актуальными акциями и распродажами, чтобы увеличить конверсию</td>\n",
       "      <td>5</td>\n",
       "      <td>3</td>\n",
       "      <td>8</td>\n",
       "      <td>3</td>\n",
       "      <td>8.00</td>\n",
       "    </tr>\n",
       "    <tr>\n",
       "      <th>2</th>\n",
       "      <td>Добавить блоки рекомендаций товаров на сайт интернет магазина, чтобы повысить конверсию и средний чек заказа</td>\n",
       "      <td>8</td>\n",
       "      <td>3</td>\n",
       "      <td>7</td>\n",
       "      <td>3</td>\n",
       "      <td>7.00</td>\n",
       "    </tr>\n",
       "    <tr>\n",
       "      <th>1</th>\n",
       "      <td>Запустить собственную службу доставки, что сократит срок доставки заказов</td>\n",
       "      <td>2</td>\n",
       "      <td>5</td>\n",
       "      <td>4</td>\n",
       "      <td>10</td>\n",
       "      <td>2.00</td>\n",
       "    </tr>\n",
       "    <tr>\n",
       "      <th>5</th>\n",
       "      <td>Добавить страницу отзывов клиентов о магазине, что позволит увеличить количество заказов</td>\n",
       "      <td>3</td>\n",
       "      <td>2</td>\n",
       "      <td>2</td>\n",
       "      <td>3</td>\n",
       "      <td>1.33</td>\n",
       "    </tr>\n",
       "    <tr>\n",
       "      <th>3</th>\n",
       "      <td>Изменить структура категорий, что увеличит конверсию, т.к. пользователи быстрее найдут нужный товар</td>\n",
       "      <td>8</td>\n",
       "      <td>3</td>\n",
       "      <td>3</td>\n",
       "      <td>8</td>\n",
       "      <td>1.12</td>\n",
       "    </tr>\n",
       "    <tr>\n",
       "      <th>4</th>\n",
       "      <td>Изменить цвет фона главной страницы, чтобы увеличить вовлеченность пользователей</td>\n",
       "      <td>3</td>\n",
       "      <td>1</td>\n",
       "      <td>1</td>\n",
       "      <td>1</td>\n",
       "      <td>1.00</td>\n",
       "    </tr>\n",
       "  </tbody>\n",
       "</table>\n",
       "</div>"
      ],
      "text/plain": [
       "                                                                                                     hypothesis  \\\n",
       "8                                                       Запустить акцию, дающую скидку на товар в день рождения   \n",
       "0            Добавить два новых канала привлечения трафика, что позволит привлекать на 30% больше пользователей   \n",
       "7              Добавить форму подписки на все основные страницы, чтобы собрать базу клиентов для email-рассылок   \n",
       "6          Показать на главной странице баннеры с актуальными акциями и распродажами, чтобы увеличить конверсию   \n",
       "2  Добавить блоки рекомендаций товаров на сайт интернет магазина, чтобы повысить конверсию и средний чек заказа   \n",
       "1                                     Запустить собственную службу доставки, что сократит срок доставки заказов   \n",
       "5                      Добавить страницу отзывов клиентов о магазине, что позволит увеличить количество заказов   \n",
       "3           Изменить структура категорий, что увеличит конверсию, т.к. пользователи быстрее найдут нужный товар   \n",
       "4                              Изменить цвет фона главной страницы, чтобы увеличить вовлеченность пользователей   \n",
       "\n",
       "   reach  impact  confidence  efforts    ICE  \n",
       "8      1       9           9        5  16.20  \n",
       "0      3      10           8        6  13.33  \n",
       "7     10       7           8        5  11.20  \n",
       "6      5       3           8        3   8.00  \n",
       "2      8       3           7        3   7.00  \n",
       "1      2       5           4       10   2.00  \n",
       "5      3       2           2        3   1.33  \n",
       "3      8       3           3        8   1.12  \n",
       "4      3       1           1        1   1.00  "
      ]
     },
     "execution_count": 10,
     "metadata": {},
     "output_type": "execute_result"
    }
   ],
   "source": [
    "hypothesis_ice = hypothesis.copy()\n",
    "hypothesis_ice['ICE'] = (hypothesis_ice['impact'] * hypothesis_ice['confidence']) / hypothesis_ice['efforts']\n",
    "hypothesis_ice['ICE'] = hypothesis_ice['ICE'].round(2)\n",
    "hypothesis_ice = hypothesis_ice.sort_values(by='ICE', ascending=False)\n",
    "hypothesis_ice"
   ]
  },
  {
   "cell_type": "markdown",
   "metadata": {},
   "source": [
    "### Применим фреймворк RICE для приоритизации гипотез. Отсортируем их по убыванию приоритета."
   ]
  },
  {
   "cell_type": "code",
   "execution_count": 11,
   "metadata": {},
   "outputs": [
    {
     "data": {
      "text/html": [
       "<div>\n",
       "<style scoped>\n",
       "    .dataframe tbody tr th:only-of-type {\n",
       "        vertical-align: middle;\n",
       "    }\n",
       "\n",
       "    .dataframe tbody tr th {\n",
       "        vertical-align: top;\n",
       "    }\n",
       "\n",
       "    .dataframe thead th {\n",
       "        text-align: right;\n",
       "    }\n",
       "</style>\n",
       "<table border=\"1\" class=\"dataframe\">\n",
       "  <thead>\n",
       "    <tr style=\"text-align: right;\">\n",
       "      <th></th>\n",
       "      <th>hypothesis</th>\n",
       "      <th>reach</th>\n",
       "      <th>impact</th>\n",
       "      <th>confidence</th>\n",
       "      <th>efforts</th>\n",
       "      <th>RICE</th>\n",
       "    </tr>\n",
       "  </thead>\n",
       "  <tbody>\n",
       "    <tr>\n",
       "      <th>7</th>\n",
       "      <td>Добавить форму подписки на все основные страницы, чтобы собрать базу клиентов для email-рассылок</td>\n",
       "      <td>10</td>\n",
       "      <td>7</td>\n",
       "      <td>8</td>\n",
       "      <td>5</td>\n",
       "      <td>112.0</td>\n",
       "    </tr>\n",
       "    <tr>\n",
       "      <th>2</th>\n",
       "      <td>Добавить блоки рекомендаций товаров на сайт интернет магазина, чтобы повысить конверсию и средний чек заказа</td>\n",
       "      <td>8</td>\n",
       "      <td>3</td>\n",
       "      <td>7</td>\n",
       "      <td>3</td>\n",
       "      <td>56.0</td>\n",
       "    </tr>\n",
       "    <tr>\n",
       "      <th>0</th>\n",
       "      <td>Добавить два новых канала привлечения трафика, что позволит привлекать на 30% больше пользователей</td>\n",
       "      <td>3</td>\n",
       "      <td>10</td>\n",
       "      <td>8</td>\n",
       "      <td>6</td>\n",
       "      <td>40.0</td>\n",
       "    </tr>\n",
       "    <tr>\n",
       "      <th>6</th>\n",
       "      <td>Показать на главной странице баннеры с актуальными акциями и распродажами, чтобы увеличить конверсию</td>\n",
       "      <td>5</td>\n",
       "      <td>3</td>\n",
       "      <td>8</td>\n",
       "      <td>3</td>\n",
       "      <td>40.0</td>\n",
       "    </tr>\n",
       "    <tr>\n",
       "      <th>8</th>\n",
       "      <td>Запустить акцию, дающую скидку на товар в день рождения</td>\n",
       "      <td>1</td>\n",
       "      <td>9</td>\n",
       "      <td>9</td>\n",
       "      <td>5</td>\n",
       "      <td>16.2</td>\n",
       "    </tr>\n",
       "    <tr>\n",
       "      <th>3</th>\n",
       "      <td>Изменить структура категорий, что увеличит конверсию, т.к. пользователи быстрее найдут нужный товар</td>\n",
       "      <td>8</td>\n",
       "      <td>3</td>\n",
       "      <td>3</td>\n",
       "      <td>8</td>\n",
       "      <td>9.0</td>\n",
       "    </tr>\n",
       "    <tr>\n",
       "      <th>1</th>\n",
       "      <td>Запустить собственную службу доставки, что сократит срок доставки заказов</td>\n",
       "      <td>2</td>\n",
       "      <td>5</td>\n",
       "      <td>4</td>\n",
       "      <td>10</td>\n",
       "      <td>4.0</td>\n",
       "    </tr>\n",
       "    <tr>\n",
       "      <th>5</th>\n",
       "      <td>Добавить страницу отзывов клиентов о магазине, что позволит увеличить количество заказов</td>\n",
       "      <td>3</td>\n",
       "      <td>2</td>\n",
       "      <td>2</td>\n",
       "      <td>3</td>\n",
       "      <td>4.0</td>\n",
       "    </tr>\n",
       "    <tr>\n",
       "      <th>4</th>\n",
       "      <td>Изменить цвет фона главной страницы, чтобы увеличить вовлеченность пользователей</td>\n",
       "      <td>3</td>\n",
       "      <td>1</td>\n",
       "      <td>1</td>\n",
       "      <td>1</td>\n",
       "      <td>3.0</td>\n",
       "    </tr>\n",
       "  </tbody>\n",
       "</table>\n",
       "</div>"
      ],
      "text/plain": [
       "                                                                                                     hypothesis  \\\n",
       "7              Добавить форму подписки на все основные страницы, чтобы собрать базу клиентов для email-рассылок   \n",
       "2  Добавить блоки рекомендаций товаров на сайт интернет магазина, чтобы повысить конверсию и средний чек заказа   \n",
       "0            Добавить два новых канала привлечения трафика, что позволит привлекать на 30% больше пользователей   \n",
       "6          Показать на главной странице баннеры с актуальными акциями и распродажами, чтобы увеличить конверсию   \n",
       "8                                                       Запустить акцию, дающую скидку на товар в день рождения   \n",
       "3           Изменить структура категорий, что увеличит конверсию, т.к. пользователи быстрее найдут нужный товар   \n",
       "1                                     Запустить собственную службу доставки, что сократит срок доставки заказов   \n",
       "5                      Добавить страницу отзывов клиентов о магазине, что позволит увеличить количество заказов   \n",
       "4                              Изменить цвет фона главной страницы, чтобы увеличить вовлеченность пользователей   \n",
       "\n",
       "   reach  impact  confidence  efforts   RICE  \n",
       "7     10       7           8        5  112.0  \n",
       "2      8       3           7        3   56.0  \n",
       "0      3      10           8        6   40.0  \n",
       "6      5       3           8        3   40.0  \n",
       "8      1       9           9        5   16.2  \n",
       "3      8       3           3        8    9.0  \n",
       "1      2       5           4       10    4.0  \n",
       "5      3       2           2        3    4.0  \n",
       "4      3       1           1        1    3.0  "
      ]
     },
     "execution_count": 11,
     "metadata": {},
     "output_type": "execute_result"
    }
   ],
   "source": [
    "hypothesis_rice = hypothesis.copy()\n",
    "hypothesis_rice['RICE'] = (hypothesis_rice['reach'] * hypothesis_rice['impact'] * hypothesis_rice['confidence']) / hypothesis_rice['efforts']\n",
    "hypothesis_rice['RICE'] = hypothesis_rice['RICE'].round(2)\n",
    "hypothesis_rice = hypothesis_rice.sort_values(by='RICE', ascending=False)\n",
    "hypothesis_rice"
   ]
  },
  {
   "cell_type": "markdown",
   "metadata": {},
   "source": [
    "**Выводы:**\n",
    "\n",
    "Следующие гипотизы оказались самыми приоритетными при использовании фреймворка ICE: \"Запустить акцию, дающую скидку на товар в день рождения\", \"Добавить два новых канала привлечения трафика, что позволит привлекать на 30% больше пользователей\", \"Добавить форму подписки на все основные страницы, чтобы собрать базу клиентов для email-рассылок\". При использовании фреймворка RICE наиболее приоритетные гипотезы - \"Добавить форму подписки на все основные страницы, чтобы собрать базу клиентов для email-рассылок\", \"Добавить блоки рекомендаций товаров на сайт интернет магазина, чтобы повысить конверсию и средний чек заказа\", \"Добавить два новых канала привлечения трафика, что позволит привлекать на 30% больше пользователей\", \"Показать на главной странице баннеры с актуальными акциями и распродажами, чтобы увеличить конверсию\".\n",
    "\n",
    "Результаты несколько отличаются из за того, что ICE не учитывает оценку количества пользователей, которых затронут изменения, а RICE - учитывает. Соответсвенно чем пользователей больше, тем приоритет гипотезы выше.\n",
    "\n",
    "Тем не менее гипотезы с индексами 7 и 0 в обоих случаях можно выделить приоритетными. "
   ]
  },
  {
   "cell_type": "markdown",
   "metadata": {},
   "source": [
    "## Часть 2. Анализ A/B-теста"
   ]
  },
  {
   "cell_type": "markdown",
   "metadata": {},
   "source": [
    "Для начала подготовим данные для последующей работы.\n",
    "\n",
    "У нас нет никаких данных, которые бы указывали, как пользователи делелились на  группы. Может быть такое, что пользователи попали в обе группы, что не есть хорошо. Проверим как у нас с эти дела."
   ]
  },
  {
   "cell_type": "code",
   "execution_count": 12,
   "metadata": {},
   "outputs": [
    {
     "name": "stdout",
     "output_type": "stream",
     "text": [
      "Дублирующиеся пользователи: 4.85 %\n"
     ]
    }
   ],
   "source": [
    "visitor_a = orders.query('group == \"A\"') \n",
    "visitor_b = orders.query('group == \"B\"') \n",
    "  \n",
    "visitor_intersections = list(np.intersect1d(visitor_a['visitor_id'], visitor_b['visitor_id']))\n",
    "\n",
    "print('Дублирующиеся пользователи:', round((len(visitor_intersections) / orders['visitor_id'].count() * 100), 2), '%')"
   ]
  },
  {
   "cell_type": "markdown",
   "metadata": {},
   "source": [
    "Итого, 4.85% дублирующихся пользователей которые могут исказить дальнейшие исследования, поэтому удалим записи о покупках этих пользователей."
   ]
  },
  {
   "cell_type": "code",
   "execution_count": 13,
   "metadata": {},
   "outputs": [],
   "source": [
    "orders = orders.query('visitor_id not in @visitor_intersections')"
   ]
  },
  {
   "cell_type": "markdown",
   "metadata": {},
   "source": [
    "Создадим массив уникальных пар значений дат и групп теста."
   ]
  },
  {
   "cell_type": "code",
   "execution_count": 14,
   "metadata": {},
   "outputs": [],
   "source": [
    "datesGroups = orders[['date','group']].drop_duplicates()"
   ]
  },
  {
   "cell_type": "markdown",
   "metadata": {},
   "source": [
    "Соберём агрегированные кумулятивные по дням данные о заказах в несколько действий. "
   ]
  },
  {
   "cell_type": "markdown",
   "metadata": {},
   "source": [
    "Получим строки таблицы orders, дата которых меньше или равна дате элемента из datesGroups, а группа теста равна группе из datesGroups. Проагрегируем значения. Вычислим максимальную дату. Для группы тоже рассчитаем максимум, и хотя она будет определённой, сделаем это, чтобы столбец 'group' не пропал из итогового вывода. Найдём число уникальных ID заказов и пользователей. Подсчитаем сумму средних чеков. Применим методы к каждой строке датафрейма и отсортируем результаты по столбцам 'date' и 'group'."
   ]
  },
  {
   "cell_type": "code",
   "execution_count": 15,
   "metadata": {},
   "outputs": [],
   "source": [
    "ordersAggregated = datesGroups.apply(lambda x: orders[np.logical_and(orders['date'] <= x['date'], orders['group'] == x['group'])]\\\n",
    ".agg({'date' : 'max', 'group' : 'max', 'transaction_id' : 'nunique', 'visitor_id' : 'nunique', 'revenue' : 'sum'}), axis=1).sort_values(by=['date','group'])"
   ]
  },
  {
   "cell_type": "markdown",
   "metadata": {},
   "source": [
    "Аналогично получим агрегированные кумулятивные по дням данные о посетителях интернет-магазина: "
   ]
  },
  {
   "cell_type": "code",
   "execution_count": 16,
   "metadata": {},
   "outputs": [],
   "source": [
    "visitorsAggregated = datesGroups.apply(lambda x: visitors[np.logical_and(visitors['date'] <= x['date'], visitors['group'] == x['group'])].agg({'date' : 'max', 'group' : 'max', 'visitors' : 'sum'}), axis=1).sort_values(by=['date','group'])"
   ]
  },
  {
   "cell_type": "markdown",
   "metadata": {},
   "source": [
    "Объединим обе таблицы в одну с понятными названиями столбцов."
   ]
  },
  {
   "cell_type": "code",
   "execution_count": 17,
   "metadata": {},
   "outputs": [
    {
     "data": {
      "text/html": [
       "<div>\n",
       "<style scoped>\n",
       "    .dataframe tbody tr th:only-of-type {\n",
       "        vertical-align: middle;\n",
       "    }\n",
       "\n",
       "    .dataframe tbody tr th {\n",
       "        vertical-align: top;\n",
       "    }\n",
       "\n",
       "    .dataframe thead th {\n",
       "        text-align: right;\n",
       "    }\n",
       "</style>\n",
       "<table border=\"1\" class=\"dataframe\">\n",
       "  <thead>\n",
       "    <tr style=\"text-align: right;\">\n",
       "      <th></th>\n",
       "      <th>date</th>\n",
       "      <th>group</th>\n",
       "      <th>orders</th>\n",
       "      <th>buyers</th>\n",
       "      <th>revenue</th>\n",
       "      <th>visitors</th>\n",
       "    </tr>\n",
       "  </thead>\n",
       "  <tbody>\n",
       "    <tr>\n",
       "      <th>0</th>\n",
       "      <td>2019-08-01</td>\n",
       "      <td>A</td>\n",
       "      <td>23</td>\n",
       "      <td>19</td>\n",
       "      <td>142779</td>\n",
       "      <td>719</td>\n",
       "    </tr>\n",
       "    <tr>\n",
       "      <th>1</th>\n",
       "      <td>2019-08-01</td>\n",
       "      <td>B</td>\n",
       "      <td>17</td>\n",
       "      <td>17</td>\n",
       "      <td>59758</td>\n",
       "      <td>713</td>\n",
       "    </tr>\n",
       "    <tr>\n",
       "      <th>2</th>\n",
       "      <td>2019-08-02</td>\n",
       "      <td>A</td>\n",
       "      <td>42</td>\n",
       "      <td>36</td>\n",
       "      <td>234381</td>\n",
       "      <td>1338</td>\n",
       "    </tr>\n",
       "    <tr>\n",
       "      <th>3</th>\n",
       "      <td>2019-08-02</td>\n",
       "      <td>B</td>\n",
       "      <td>40</td>\n",
       "      <td>39</td>\n",
       "      <td>221801</td>\n",
       "      <td>1294</td>\n",
       "    </tr>\n",
       "    <tr>\n",
       "      <th>4</th>\n",
       "      <td>2019-08-03</td>\n",
       "      <td>A</td>\n",
       "      <td>66</td>\n",
       "      <td>60</td>\n",
       "      <td>346854</td>\n",
       "      <td>1845</td>\n",
       "    </tr>\n",
       "  </tbody>\n",
       "</table>\n",
       "</div>"
      ],
      "text/plain": [
       "        date group  orders  buyers  revenue  visitors\n",
       "0 2019-08-01     A      23      19   142779       719\n",
       "1 2019-08-01     B      17      17    59758       713\n",
       "2 2019-08-02     A      42      36   234381      1338\n",
       "3 2019-08-02     B      40      39   221801      1294\n",
       "4 2019-08-03     A      66      60   346854      1845"
      ]
     },
     "execution_count": 17,
     "metadata": {},
     "output_type": "execute_result"
    }
   ],
   "source": [
    "cumulativeData = ordersAggregated.merge(visitorsAggregated, left_on=['date', 'group'], right_on=['date', 'group'])\n",
    "cumulativeData.columns = ['date', 'group', 'orders', 'buyers', 'revenue', 'visitors']\n",
    "\n",
    "cumulativeData.head(5) "
   ]
  },
  {
   "cell_type": "markdown",
   "metadata": {},
   "source": [
    "### Построим график кумулятивной выручки по группам. Сделаем выводы и предположения."
   ]
  },
  {
   "cell_type": "code",
   "execution_count": 18,
   "metadata": {},
   "outputs": [
    {
     "data": {
      "image/png": "[encoded data removed]",
      "text/plain": [
       "<Figure size 1080x720 with 1 Axes>"
      ]
     },
     "metadata": {
      "needs_background": "light"
     },
     "output_type": "display_data"
    }
   ],
   "source": [
    "# датафрейм с кумулятивным количеством заказов и кумулятивной выручкой по дням в группе А\n",
    "cumulativeRevenueA = cumulativeData[cumulativeData['group']=='A'][['date','revenue', 'orders']]\n",
    "\n",
    "# датафрейм с кумулятивным количеством заказов и кумулятивной выручкой по дням в группе B\n",
    "cumulativeRevenueB = cumulativeData[cumulativeData['group']=='B'][['date','revenue', 'orders']]\n",
    "\n",
    "# Увеличиваем размер всех графиков Matplotlib:\n",
    "plt.rcParams ['figure.figsize'] = [15, 10]\n",
    "\n",
    "# Строим график выручки группы А\n",
    "plt.plot(cumulativeRevenueA['date'], cumulativeRevenueA['revenue'], label='A')\n",
    "\n",
    "# Строим график выручки группы B\n",
    "plt.plot(cumulativeRevenueB['date'], cumulativeRevenueB['revenue'], label='B')\n",
    "\n",
    "plt.legend(loc=2)\n",
    "plt.title('График кумулятивной выручки по группам')\n",
    "plt.xlabel('Date', color='gray')\n",
    "plt.ylabel('Income',color='gray')\n",
    "plt.grid(True)\n",
    "plt.show()"
   ]
  },
  {
   "cell_type": "markdown",
   "metadata": {},
   "source": [
    "Вначале выручка почти равномерно увеличивается, однако графики выручки группы B после 17.08 резко растет. Это может сигнализировать о всплесках числа заказов, либо о появлении очень дорогих заказов в выборке. "
   ]
  },
  {
   "cell_type": "markdown",
   "metadata": {},
   "source": [
    "### Постройте график кумулятивного среднего чека по группам. Сделайте выводы и предположения."
   ]
  },
  {
   "cell_type": "code",
   "execution_count": 19,
   "metadata": {},
   "outputs": [
    {
     "data": {
      "image/png": "[encoded data removed]",
      "text/plain": [
       "<Figure size 1080x720 with 1 Axes>"
      ]
     },
     "metadata": {
      "needs_background": "light"
     },
     "output_type": "display_data"
    }
   ],
   "source": [
    "plt.plot(cumulativeRevenueA['date'], cumulativeRevenueA['revenue']/cumulativeRevenueA['orders'], label='A')\n",
    "plt.plot(cumulativeRevenueB['date'], cumulativeRevenueB['revenue']/cumulativeRevenueB['orders'], label='B')\n",
    "\n",
    "plt.legend(loc=2)\n",
    "plt.title('График кумулятивного среднего чека по группам')\n",
    "plt.xlabel('Date', color='gray')\n",
    "plt.ylabel('Average check',color='gray')\n",
    "plt.grid(True)\n",
    "plt.show()"
   ]
  },
  {
   "cell_type": "markdown",
   "metadata": {},
   "source": [
    "Средний чек сильно колеблется вначале, график группа А к середине теста становится более равномерным, но средний чек группы В продолжает колебаться. Возможно, резкий всплеск на графике означает, что в группу B попали крупные заказы. Тогда ей нужно больше данных, чтобы прийти к реальному среднему чеку и установиться на его уровне."
   ]
  },
  {
   "cell_type": "markdown",
   "metadata": {},
   "source": [
    "### Постройте график относительного изменения кумулятивного среднего чека группы B к группе A. Сделайте выводы и предположения."
   ]
  },
  {
   "cell_type": "code",
   "execution_count": 20,
   "metadata": {},
   "outputs": [
    {
     "data": {
      "image/png": "[encoded data removed]",
      "text/plain": [
       "<Figure size 1080x720 with 1 Axes>"
      ]
     },
     "metadata": {
      "needs_background": "light"
     },
     "output_type": "display_data"
    }
   ],
   "source": [
    "# собираем данные в одном датафрейме\n",
    "mergedCumulativeRevenue = cumulativeRevenueA.merge(cumulativeRevenueB, left_on='date', right_on='date', how='left', suffixes=['A', 'B'])\n",
    "\n",
    "# cтроим отношение средних чеков\n",
    "plt.plot(mergedCumulativeRevenue['date'], (mergedCumulativeRevenue['revenueB']/mergedCumulativeRevenue['ordersB'])/(mergedCumulativeRevenue['revenueA']/mergedCumulativeRevenue['ordersA'])-1)\n",
    "\n",
    "# добавляем ось X\n",
    "plt.axhline(y=0, color='black', linestyle='--') \n",
    "\n",
    "plt.title('График относительного изменения кумулятивного среднего чека группы B к группе A')\n",
    "plt.xlabel('Date', color='gray')\n",
    "plt.ylabel('Сumulative average check',color='gray')\n",
    "plt.grid(True)\n",
    "plt.show()"
   ]
  },
  {
   "cell_type": "markdown",
   "metadata": {},
   "source": [
    "В нескольких точках график различия между сегментами резко «скачет», что свидетельствует о крупных заказах и выбросах! "
   ]
  },
  {
   "cell_type": "markdown",
   "metadata": {},
   "source": [
    "### Постройте график кумулятивного среднего количества заказов на посетителя по группам. Сделайте выводы и предположения."
   ]
  },
  {
   "cell_type": "code",
   "execution_count": 21,
   "metadata": {},
   "outputs": [
    {
     "name": "stdout",
     "output_type": "stream",
     "text": [
      "<class 'pandas.core.frame.DataFrame'>\n",
      "Int64Index: 1016 entries, 0 to 1196\n",
      "Data columns (total 5 columns):\n",
      " #   Column          Non-Null Count  Dtype         \n",
      "---  ------          --------------  -----         \n",
      " 0   transaction_id  1016 non-null   int64         \n",
      " 1   visitor_id      1016 non-null   int64         \n",
      " 2   date            1016 non-null   datetime64[ns]\n",
      " 3   revenue         1016 non-null   int64         \n",
      " 4   group           1016 non-null   object        \n",
      "dtypes: datetime64[ns](1), int64(3), object(1)\n",
      "memory usage: 47.6+ KB\n"
     ]
    }
   ],
   "source": [
    "orders.info()"
   ]
  },
  {
   "cell_type": "code",
   "execution_count": 22,
   "metadata": {},
   "outputs": [
    {
     "data": {
      "image/png": "[encoded data removed]",
      "text/plain": [
       "<Figure size 1080x720 with 1 Axes>"
      ]
     },
     "metadata": {
      "needs_background": "light"
     },
     "output_type": "display_data"
    }
   ],
   "source": [
    "# считаем кумулятивную конверсию\n",
    "cumulativeData['conversion'] = cumulativeData['orders']/cumulativeData['visitors']\n",
    "\n",
    "# отделяем данные по группе A\n",
    "cumulativeDataA = cumulativeData[cumulativeData['group']=='A']\n",
    "\n",
    "# отделяем данные по группе B\n",
    "cumulativeDataB = cumulativeData[cumulativeData['group']=='B']\n",
    "\n",
    "# строим графики\n",
    "plt.plot(cumulativeDataA['date'], cumulativeDataA['conversion'], label='A')\n",
    "plt.plot(cumulativeDataB['date'], cumulativeDataB['conversion'], label='B')\n",
    "\n",
    "plt.legend()\n",
    "plt.title('График кумулятивного среднего количества заказов на посетителя по группам')\n",
    "plt.xlabel('Date', color='gray')\n",
    "plt.ylabel('Cumulative conversion',color='gray')\n",
    "plt.grid(True)\n",
    "plt.show()"
   ]
  },
  {
   "cell_type": "markdown",
   "metadata": {},
   "source": [
    "Конверсия группы А была больше группы B. Однако, очень скоро конверсия группы В вырвалась вперёд и зафиксировалась, а конверсия группы А просела и также зафиксировалась. Конверсия группы В выше, чем в группе А ,2.9% и 2.5% соответственно."
   ]
  },
  {
   "cell_type": "markdown",
   "metadata": {},
   "source": [
    "### Постройте график относительного изменения кумулятивного среднего количества заказов на посетителя группы B к группе A. Сделайте выводы и предположения."
   ]
  },
  {
   "cell_type": "code",
   "execution_count": 23,
   "metadata": {},
   "outputs": [
    {
     "data": {
      "image/png": "[encoded data removed]",
      "text/plain": [
       "<Figure size 1080x720 with 1 Axes>"
      ]
     },
     "metadata": {
      "needs_background": "light"
     },
     "output_type": "display_data"
    }
   ],
   "source": [
    "mergedCumulativeConversions = cumulativeDataA[['date','conversion']].merge(cumulativeDataB[['date','conversion']], left_on='date', right_on='date', how='left', suffixes=['A', 'B'])\n",
    "\n",
    "plt.plot(mergedCumulativeConversions['date'], mergedCumulativeConversions['conversionB']/mergedCumulativeConversions['conversionA']-1, label=\"Относительный прирост конверсии группы B относительно группы A\")\n",
    "\n",
    "plt.axhline(y=0, color='black', linestyle='--')\n",
    "plt.axhline(y=-0.1, color='grey', linestyle='--')\n",
    "\n",
    "plt.legend()\n",
    "plt.title('График относительного изменения кумулятивного среднего количества заказов на посетителя группы B к группе A')\n",
    "plt.xlabel('Date', color='gray')\n",
    "plt.ylabel('Cumulative conversion',color='gray')\n",
    "plt.grid(True)\n",
    "plt.show()"
   ]
  },
  {
   "cell_type": "markdown",
   "metadata": {},
   "source": [
    "В начале теста группа B группе A, затем вырвалась вперёд. Её конверсия постепено росла, но поотом начала колебаться около одного значения. Пока группа В выглядит интересней."
   ]
  },
  {
   "cell_type": "markdown",
   "metadata": {},
   "source": [
    "### Постройте точечный график количества заказов по пользователям. Сделайте выводы и предположения."
   ]
  },
  {
   "cell_type": "code",
   "execution_count": 24,
   "metadata": {},
   "outputs": [
    {
     "data": {
      "image/png": "[encoded data removed]",
      "text/plain": [
       "<Figure size 1080x720 with 1 Axes>"
      ]
     },
     "metadata": {
      "needs_background": "light"
     },
     "output_type": "display_data"
    },
    {
     "data": {
      "text/plain": [
       "array([1, 3, 2])"
      ]
     },
     "execution_count": 24,
     "metadata": {},
     "output_type": "execute_result"
    }
   ],
   "source": [
    "ordersByUsers = (\n",
    "    orders.groupby('visitor_id', as_index=False)\n",
    "    .agg({'transaction_id': 'nunique'})\n",
    ")\n",
    "ordersByUsers.columns = ['visitor_id', 'orders']\n",
    "\n",
    "plt.hist(ordersByUsers['orders']) \n",
    "\n",
    "plt.title('График количесвта заказов')\n",
    "plt.xlabel('Orders per person', color='gray')\n",
    "plt.ylabel('Number of orders',color='gray')\n",
    "plt.show()\n",
    "\n",
    "ordersByUsers['orders'].unique()"
   ]
  },
  {
   "cell_type": "markdown",
   "metadata": {},
   "source": [
    "Большинство покупателей заказывали только один раз. Доля пользователей с 2 и 3 заказами значительно меньше. Выбросов не наблюдается."
   ]
  },
  {
   "cell_type": "markdown",
   "metadata": {},
   "source": [
    "Построим точечную диаграмму числа заказов на одного пользователя: "
   ]
  },
  {
   "cell_type": "code",
   "execution_count": 25,
   "metadata": {},
   "outputs": [
    {
     "data": {
      "image/png": "[encoded data removed]",
      "text/plain": [
       "<Figure size 1080x720 with 1 Axes>"
      ]
     },
     "metadata": {
      "needs_background": "light"
     },
     "output_type": "display_data"
    }
   ],
   "source": [
    "x_values = pd.Series(range(0,len(ordersByUsers)))\n",
    "\n",
    "plt.scatter(x_values, ordersByUsers['orders']) \n",
    "\n",
    "\n",
    "plt.title('График количества заказов по пользователям')\n",
    "plt.xlabel('visitors', color='gray')\n",
    "plt.ylabel('Number of orders',color='gray')\n",
    "plt.grid(True)\n",
    "plt.show()"
   ]
  },
  {
   "cell_type": "markdown",
   "metadata": {},
   "source": [
    "Выводы подтверждаются: большинсвто пользователей с 1 заказом. "
   ]
  },
  {
   "cell_type": "markdown",
   "metadata": {},
   "source": [
    "### Посчитайте 95-й и 99-й перцентили количества заказов на пользователя. Выберите границу для определения аномальных пользователей."
   ]
  },
  {
   "cell_type": "code",
   "execution_count": 26,
   "metadata": {},
   "outputs": [
    {
     "name": "stdout",
     "output_type": "stream",
     "text": [
      "[1. 2.]\n"
     ]
    }
   ],
   "source": [
    "print(np.percentile(ordersByUsers['orders'], [95, 99]))"
   ]
  },
  {
   "cell_type": "markdown",
   "metadata": {},
   "source": [
    "Для количества заказов на одного пользователя 95 и 99 перцентили оказались равными 1 и 2 заказа на пользователя соответственно. Пологаю, что для удаления аномалий 2 заказа можно взять за нижнюю границу для значений количества заказов."
   ]
  },
  {
   "cell_type": "markdown",
   "metadata": {},
   "source": [
    "### Постройте точечный график стоимостей заказов. Сделайте выводы и предположения."
   ]
  },
  {
   "cell_type": "code",
   "execution_count": 27,
   "metadata": {},
   "outputs": [
    {
     "data": {
      "image/png": "[encoded data removed]",
      "text/plain": [
       "<Figure size 1080x720 with 1 Axes>"
      ]
     },
     "metadata": {
      "needs_background": "light"
     },
     "output_type": "display_data"
    }
   ],
   "source": [
    "plt.hist(orders['revenue']) \n",
    "\n",
    "plt.title('График стоимости заказов')\n",
    "plt.xlabel('revenue', color='gray')\n",
    "plt.ylabel('Number of orders',color='gray')\n",
    "plt.show()"
   ]
  },
  {
   "cell_type": "markdown",
   "metadata": {},
   "source": [
    "Наблюдаем аномальные значения."
   ]
  },
  {
   "cell_type": "code",
   "execution_count": 28,
   "metadata": {},
   "outputs": [
    {
     "data": {
      "text/plain": [
       "459          50\n",
       "584          50\n",
       "756          50\n",
       "933          60\n",
       "404          70\n",
       "         ...   \n",
       "743       67990\n",
       "744       86620\n",
       "1136      92550\n",
       "1196     202740\n",
       "425     1294500\n",
       "Name: revenue, Length: 1016, dtype: int64"
      ]
     },
     "execution_count": 28,
     "metadata": {},
     "output_type": "execute_result"
    }
   ],
   "source": [
    "orders['revenue'].sort_values()"
   ]
  },
  {
   "cell_type": "markdown",
   "metadata": {},
   "source": [
    "Уберем два значения с слишком большой ценой при построении графика."
   ]
  },
  {
   "cell_type": "code",
   "execution_count": 29,
   "metadata": {},
   "outputs": [
    {
     "data": {
      "image/png": "[encoded data removed]",
      "text/plain": [
       "<Figure size 1080x720 with 1 Axes>"
      ]
     },
     "metadata": {
      "needs_background": "light"
     },
     "output_type": "display_data"
    }
   ],
   "source": [
    "x_values = pd.Series(range(0,len(orders['revenue'])))\n",
    "\n",
    "sns.scatterplot(data=orders, x=x_values, y=orders.query('revenue < 202740')['revenue'])\n",
    "\n",
    "plt.title('Точечный график стоимостей заказов')\n",
    "plt.xlabel('visitors', color='gray')\n",
    "plt.ylabel('revenue',color='gray')\n",
    "plt.grid(True)\n",
    "plt.show()"
   ]
  },
  {
   "cell_type": "markdown",
   "metadata": {},
   "source": [
    "Всё, как предполагали: есть немного дорогих заказов. По графику можно выбрать границу аномальных заказов между от 40 000 рублей. Однако принято отсеивать от 1% до 5% наблюдений с крайними значениями. Для того, чтобы точно определить стоимость заказа, необходимо посчитать выборочные перцентели."
   ]
  },
  {
   "cell_type": "markdown",
   "metadata": {},
   "source": [
    "### Посчитайте 95-й и 99-й перцентили стоимости заказов. Выберите границу для определения аномальных заказов."
   ]
  },
  {
   "cell_type": "code",
   "execution_count": 30,
   "metadata": {},
   "outputs": [
    {
     "name": "stdout",
     "output_type": "stream",
     "text": [
      "[26785. 53904.]\n"
     ]
    }
   ],
   "source": [
    "print(np.percentile(orders['revenue'], [95, 99])) "
   ]
  },
  {
   "cell_type": "markdown",
   "metadata": {},
   "source": [
    "Не более 5% заказов дороже 26785 рублей и не более 1% дороже 53904 рублей. Берем границу аломальных заказов от 26785 рублей."
   ]
  },
  {
   "cell_type": "markdown",
   "metadata": {},
   "source": [
    "### Посчитайте статистическую значимость различий в среднем количестве заказов на посетителя между группами по «сырым» данным. Сделайте выводы и предположения."
   ]
  },
  {
   "cell_type": "markdown",
   "metadata": {},
   "source": [
    "Начнём с подготовки данных"
   ]
  },
  {
   "cell_type": "code",
   "execution_count": 31,
   "metadata": {},
   "outputs": [],
   "source": [
    "visitorsADaily = visitors[visitors['group'] == 'A'][['date', 'visitors']]\n",
    "visitorsADaily.columns = ['date', 'visitorsPerDateA']\n",
    "\n",
    "visitorsACummulative = visitorsADaily.apply(\n",
    "    lambda x: visitorsADaily[visitorsADaily['date'] <= x['date']].agg(\n",
    "        {'date': 'max', 'visitorsPerDateA': 'sum'}\n",
    "    ),\n",
    "    axis=1,\n",
    ")\n",
    "visitorsACummulative.columns = ['date', 'visitorsCummulativeA']\n",
    "\n",
    "visitorsBDaily = visitors[visitors['group'] == 'B'][['date', 'visitors']]\n",
    "visitorsBDaily.columns = ['date', 'visitorsPerDateB']\n",
    "\n",
    "visitorsBCummulative = visitorsBDaily.apply(\n",
    "    lambda x: visitorsBDaily[visitorsBDaily['date'] <= x['date']].agg(\n",
    "        {'date': 'max', 'visitorsPerDateB': 'sum'}\n",
    "    ),\n",
    "    axis=1,\n",
    ")\n",
    "visitorsBCummulative.columns = ['date', 'visitorsCummulativeB']\n",
    "\n",
    "ordersADaily = (\n",
    "    orders[orders['group'] == 'A'][['date', 'transaction_id', 'visitor_id', 'revenue']]\n",
    "    .groupby('date', as_index=False)\n",
    "    .agg({'transaction_id': pd.Series.nunique, 'revenue': 'sum'})\n",
    ")\n",
    "ordersADaily.columns = ['date', 'ordersPerDateA', 'revenuePerDateA']\n",
    "\n",
    "ordersACummulative = ordersADaily.apply(\n",
    "    lambda x: ordersADaily[ordersADaily['date'] <= x['date']].agg(\n",
    "        {'date': 'max', 'ordersPerDateA': 'sum', 'revenuePerDateA': 'sum'}\n",
    "    ),\n",
    "    axis=1,\n",
    ").sort_values(by=['date'])\n",
    "ordersACummulative.columns = [\n",
    "    'date',\n",
    "    'ordersCummulativeA',\n",
    "    'revenueCummulativeA',\n",
    "]\n",
    "\n",
    "ordersBDaily = (\n",
    "    orders[orders['group'] == 'B'][['date', 'transaction_id', 'visitor_id', 'revenue']]\n",
    "    .groupby('date', as_index=False)\n",
    "    .agg({'transaction_id': pd.Series.nunique, 'revenue': 'sum'})\n",
    ")\n",
    "ordersBDaily.columns = ['date', 'ordersPerDateB', 'revenuePerDateB']\n",
    "\n",
    "ordersBCummulative = ordersBDaily.apply(\n",
    "    lambda x: ordersBDaily[ordersBDaily['date'] <= x['date']].agg(\n",
    "        {'date': 'max', 'ordersPerDateB': 'sum', 'revenuePerDateB': 'sum'}\n",
    "    ),\n",
    "    axis=1,\n",
    ").sort_values(by=['date'])\n",
    "ordersBCummulative.columns = [\n",
    "    'date',\n",
    "    'ordersCummulativeB',\n",
    "    'revenueCummulativeB',\n",
    "]\n",
    "\n",
    "data = (\n",
    "    ordersADaily.merge(\n",
    "        ordersBDaily, left_on='date', right_on='date', how='left'\n",
    "    )\n",
    "    .merge(ordersACummulative, left_on='date', right_on='date', how='left')\n",
    "    .merge(ordersBCummulative, left_on='date', right_on='date', how='left')\n",
    "    .merge(visitorsADaily, left_on='date', right_on='date', how='left')\n",
    "    .merge(visitorsBDaily, left_on='date', right_on='date', how='left')\n",
    "    .merge(visitorsACummulative, left_on='date', right_on='date', how='left')\n",
    "    .merge(visitorsBCummulative, left_on='date', right_on='date', how='left')\n",
    ")"
   ]
  },
  {
   "cell_type": "markdown",
   "metadata": {},
   "source": [
    "Зададим статистические гипотизы:    \n",
    "    \n",
    "    H0: Количество заказов групп A и B равны, статистически значимых отличий нет.\n",
    "    H1: Количество заказов A и B различны, статистически значимые отличия есть."
   ]
  },
  {
   "cell_type": "markdown",
   "metadata": {},
   "source": [
    "Создадим переменные ordersByUsersA и ordersByUsersB, в них для пользователей, которые заказывали хотя бы 1 раз, укажем число совершённых заказов. Объявим переменные sampleA и sampleB, в которых пользователям из разных групп будет соответствовать количество заказов. Тем, кто ничего не заказал, будут соответствовать нули. Это нужно, чтобы подготовить выборки к проверке критерием Манна-Уитни. Применим критерий и отформатируем p-value, округлив его до трёх знаков после запятой."
   ]
  },
  {
   "cell_type": "code",
   "execution_count": 32,
   "metadata": {},
   "outputs": [
    {
     "name": "stdout",
     "output_type": "stream",
     "text": [
      "P-value: 0.011\n",
      "Различие в средних в пользу группы В: 0.160\n"
     ]
    }
   ],
   "source": [
    "ordersByUsersA = (\n",
    "    orders[orders['group'] == 'A']\n",
    "    .groupby('visitor_id', as_index=False)\n",
    "    .agg({'transaction_id': pd.Series.nunique})\n",
    ")\n",
    "ordersByUsersA.columns = ['visitor_id', 'orders']\n",
    "\n",
    "ordersByUsersB = (\n",
    "    orders[orders['group'] == 'B']\n",
    "    .groupby('visitor_id', as_index=False)\n",
    "    .agg({'transaction_id': pd.Series.nunique})\n",
    ")\n",
    "ordersByUsersB.columns = ['visitor_id', 'orders'] \n",
    "\n",
    "sampleA = pd.concat(\n",
    "    [\n",
    "        ordersByUsersA['orders'],\n",
    "        pd.Series(\n",
    "            0,\n",
    "            index=np.arange(\n",
    "                data['visitorsPerDateA'].sum() - len(ordersByUsersA['orders'])\n",
    "            ),\n",
    "            name='orders',\n",
    "        ),\n",
    "    ],\n",
    "    axis=0,\n",
    ")\n",
    "\n",
    "sampleB = pd.concat(\n",
    "    [\n",
    "        ordersByUsersB['orders'],\n",
    "        pd.Series(\n",
    "            0,\n",
    "            index=np.arange(\n",
    "                data['visitorsPerDateB'].sum() - len(ordersByUsersB['orders'])\n",
    "            ),\n",
    "            name='orders',\n",
    "        ),\n",
    "    ],\n",
    "    axis=0,\n",
    ")\n",
    "\n",
    "print('P-value:', \"{0:.3f}\".format(stats.mannwhitneyu(sampleA, sampleB)[1]))\n",
    "if (sampleB.mean() / sampleA.mean() - 1) > 0:\n",
    "    print('Различие в средних в пользу группы В:', \"{0:.3f}\".format(sampleB.mean() / sampleA.mean() - 1))\n",
    "else:\n",
    "    print('Различие в средних в пользу группы A:', \"{0:.3f}\".format(sampleB.mean() / sampleA.mean() - 1))"
   ]
  },
  {
   "cell_type": "markdown",
   "metadata": {},
   "source": [
    "При alpha=0.05 - P-value меньше, значит - наблюдаеются статистически значимые отличия между группами, нулевую гипотизу отвергаем.\n",
    "При этом относительное различие в среднес числе заказов между группами составляет почти 16%."
   ]
  },
  {
   "cell_type": "markdown",
   "metadata": {},
   "source": [
    "### Посчитайте статистическую значимость различий в среднем чеке заказа между группами по «сырым» данным. Сделайте выводы и предположения."
   ]
  },
  {
   "cell_type": "markdown",
   "metadata": {},
   "source": [
    "Зададим статистические гипотизы:\n",
    "\n",
    "    H0: Средние чеки групп A и B равны, статистически значимых отличий нет. \n",
    "    H1: Средние чеки групп A и B различны, статистически значимые отличия есть."
   ]
  },
  {
   "cell_type": "code",
   "execution_count": 33,
   "metadata": {},
   "outputs": [
    {
     "name": "stdout",
     "output_type": "stream",
     "text": [
      "P-value: 0.829\n",
      "Различие в средних в пользу группы В: 0.287\n"
     ]
    }
   ],
   "source": [
    "print('P-value:', \"{0:.3f}\".format(stats.mannwhitneyu(orders[orders['group']=='A']['revenue'], orders[orders['group']=='B']['revenue'])[1]))\n",
    "if (orders[orders['group']=='B']['revenue'].mean()/orders[orders['group']=='A']['revenue'].mean()-1) > 0:\n",
    "    print('Различие в средних в пользу группы В:', \"{0:.3f}\".format(orders[orders['group']=='B']['revenue'].mean()/orders[orders['group']=='A']['revenue'].mean()-1))\n",
    "else:\n",
    "    print('Различие в средних в пользу группы A:', \"{0:.3f}\".format(orders[orders['group']=='B']['revenue'].mean()/orders[orders['group']=='A']['revenue'].mean()-1))"
   ]
  },
  {
   "cell_type": "markdown",
   "metadata": {},
   "source": [
    "При alpha=0.05 - P-value значительно больше. Нулевую гипотизу принимаем, нет статистически значимых различий между группами в размере среднего чека. Средний чек группы B значительно выше среднего чека группы А на 28.7%."
   ]
  },
  {
   "cell_type": "markdown",
   "metadata": {},
   "source": [
    "### Посчитайте статистическую значимость различий в среднем количестве заказов на посетителя между группами по «очищенным» данным. Сделайте выводы и предположения."
   ]
  },
  {
   "cell_type": "markdown",
   "metadata": {},
   "source": [
    "Примем за аномальных пользователей тех, кто совершил от 5 заказов или совершил заказ дороже 20 000 рублей. Так мы уберём 5% пользователей с наибольшим числом заказов и от 1% до 5% пользователей с дорогими заказами. Сделаем срезы пользователей с числом заказов больше 4 — usersWithManyOrders и пользователей, совершивших заказы дороже 20 000 — usersWithExpensiveOrders. Объединим их в таблице abnormalUsers. \n",
    "Узнаем, сколько всего аномальных пользователей атрибутом shape."
   ]
  },
  {
   "cell_type": "code",
   "execution_count": 34,
   "metadata": {},
   "outputs": [
    {
     "name": "stdout",
     "output_type": "stream",
     "text": [
      "568     113298937\n",
      "1099    148427295\n",
      "928     204675465\n",
      "33      249864742\n",
      "684     358944393\n",
      "Name: visitor_id, dtype: int64\n",
      "58\n"
     ]
    }
   ],
   "source": [
    "usersWithManyOrders = pd.concat(\n",
    "    [\n",
    "        ordersByUsersA[ordersByUsersA['orders'] > np.percentile(ordersByUsers['orders'], 99)]['visitor_id'],\n",
    "        ordersByUsersB[ordersByUsersB['orders'] > np.percentile(ordersByUsers['orders'], 99)]['visitor_id'],\n",
    "    ],\n",
    "    axis=0,\n",
    ")\n",
    "usersWithExpensiveOrders = orders[orders['revenue'] > np.percentile(orders['revenue'], 95)]['visitor_id']\n",
    "abnormalUsers = (\n",
    "    pd.concat([usersWithManyOrders, usersWithExpensiveOrders], axis=0)\n",
    "    .drop_duplicates()\n",
    "    .sort_values()\n",
    ")\n",
    "print(abnormalUsers.head(5))\n",
    "print(abnormalUsers.shape[0]) "
   ]
  },
  {
   "cell_type": "markdown",
   "metadata": {},
   "source": [
    "Всего 58 аномальных пользователей. \n",
    "Узнаем, как их действия повлияли на результаты теста. Посчитаем статистическую значимость различий в среднем количестве заказов между группами теста по очищенным данным. Сначала подготовим выборки количества заказов по пользователям по группам теста:\n"
   ]
  },
  {
   "cell_type": "code",
   "execution_count": 35,
   "metadata": {},
   "outputs": [],
   "source": [
    "sampleAFiltered = pd.concat(\n",
    "    [\n",
    "        ordersByUsersA[\n",
    "            np.logical_not(ordersByUsersA['visitor_id'].isin(abnormalUsers))\n",
    "        ]['orders'],\n",
    "        pd.Series(\n",
    "            0,\n",
    "            index=np.arange(\n",
    "                data['visitorsPerDateA'].sum() - len(ordersByUsersA['orders'])\n",
    "            ),\n",
    "            name='orders',\n",
    "        ),\n",
    "    ],\n",
    "    axis=0,\n",
    ")\n",
    "\n",
    "sampleBFiltered = pd.concat(\n",
    "    [\n",
    "        ordersByUsersB[\n",
    "            np.logical_not(ordersByUsersB['visitor_id'].isin(abnormalUsers))\n",
    "        ]['orders'],\n",
    "        pd.Series(\n",
    "            0,\n",
    "            index=np.arange(\n",
    "                data['visitorsPerDateB'].sum() - len(ordersByUsersB['orders'])\n",
    "            ),\n",
    "            name='orders',\n",
    "        ),\n",
    "    ],\n",
    "    axis=0,\n",
    ") "
   ]
  },
  {
   "cell_type": "markdown",
   "metadata": {},
   "source": [
    "Зададим статистические гипотизы:\n",
    "\n",
    "    H0: Количество заказов групп A и B равны, статистически значимых отличий нет.\n",
    "    H1: Количество заказов A и B различны, статистически значимые отличия есть."
   ]
  },
  {
   "cell_type": "markdown",
   "metadata": {},
   "source": [
    "Применим статистический критерий Манна-Уитни к полученным выборкам:"
   ]
  },
  {
   "cell_type": "code",
   "execution_count": 36,
   "metadata": {},
   "outputs": [
    {
     "name": "stdout",
     "output_type": "stream",
     "text": [
      "P-value: 0.012\n",
      "Различие в средних в пользу группы В: 0.182\n"
     ]
    }
   ],
   "source": [
    "print('P-value:', \"{0:.3f}\".format(stats.mannwhitneyu(sampleAFiltered, sampleBFiltered)[1]))\n",
    "if (sampleBFiltered.mean()/sampleAFiltered.mean()-1) > 0:\n",
    "    print('Различие в средних в пользу группы В:', \"{0:.3f}\".format(sampleBFiltered.mean()/sampleAFiltered.mean()-1))\n",
    "else:\n",
    "    print('Различие в средних в пользу группы A:', \"{0:.3f}\".format(sampleBFiltered.mean()/sampleAFiltered.mean()-1))"
   ]
  },
  {
   "cell_type": "markdown",
   "metadata": {},
   "source": [
    "Конверсия почти не изменились, результаты по среднему количеству заказов практически так же, значит - нулевую гипотизу отвергаем. Произошло ли что-нибудь с результатами по среднему чеку?"
   ]
  },
  {
   "cell_type": "markdown",
   "metadata": {},
   "source": [
    "### Посчитайте статистическую значимость различий в среднем чеке заказа между группами по «очищенным» данным. Сделайте выводы и предположения."
   ]
  },
  {
   "cell_type": "markdown",
   "metadata": {},
   "source": [
    "Зададим статистические гипотизы:\n",
    "\n",
    "    H0: Средние чеки групп A и B равны, статистически значимых отличий нет. \n",
    "    H1: Средние чеки групп A и B различны, статистически значимые отличия есть."
   ]
  },
  {
   "cell_type": "code",
   "execution_count": 37,
   "metadata": {},
   "outputs": [
    {
     "name": "stdout",
     "output_type": "stream",
     "text": [
      "P-value:0.646\n",
      "Различие в средних в пользу группы A: -0.048\n"
     ]
    }
   ],
   "source": [
    "print( 'P-value:'\n",
    "    '{0:.3f}'.format(\n",
    "        stats.mannwhitneyu(\n",
    "            orders[\n",
    "                np.logical_and(\n",
    "                    orders['group'] == 'A',\n",
    "                    np.logical_not(orders['visitor_id'].isin(abnormalUsers)),\n",
    "                )\n",
    "            ]['revenue'],\n",
    "            orders[\n",
    "                np.logical_and(\n",
    "                    orders['group'] == 'B',\n",
    "                    np.logical_not(orders['visitor_id'].isin(abnormalUsers)),\n",
    "                )\n",
    "            ]['revenue'],\n",
    "        )[1]\n",
    "    )\n",
    ")\n",
    "\n",
    "if (orders[\n",
    "            np.logical_and(\n",
    "                orders['group'] == 'B',\n",
    "                np.logical_not(orders['visitor_id'].isin(abnormalUsers)),\n",
    "            )\n",
    "        ]['revenue'].mean()\n",
    "        / orders[\n",
    "            np.logical_and(\n",
    "                orders['group'] == 'A',\n",
    "                np.logical_not(orders['visitor_id'].isin(abnormalUsers)),\n",
    "            )\n",
    "        ]['revenue'].mean()\n",
    "        - 1) > 0:\n",
    "    print('Различие в средних в пользу группы A:',\n",
    "    \"{0:.3f}\".format(\n",
    "        orders[\n",
    "            np.logical_and(\n",
    "                orders['group'] == 'B',\n",
    "                np.logical_not(orders['visitor_id'].isin(abnormalUsers)),\n",
    "            )\n",
    "        ]['revenue'].mean()\n",
    "        / orders[\n",
    "            np.logical_and(\n",
    "                orders['group'] == 'A',\n",
    "                np.logical_not(orders['visitor_id'].isin(abnormalUsers)),\n",
    "            )\n",
    "        ]['revenue'].mean()\n",
    "        - 1\n",
    "    )\n",
    ") \n",
    "else:\n",
    "    print('Различие в средних в пользу группы A:',\n",
    "    \"{0:.3f}\".format(\n",
    "        orders[\n",
    "            np.logical_and(\n",
    "                orders['group'] == 'B',\n",
    "                np.logical_not(orders['visitor_id'].isin(abnormalUsers)),\n",
    "            )\n",
    "        ]['revenue'].mean()\n",
    "        / orders[\n",
    "            np.logical_and(\n",
    "                orders['group'] == 'A',\n",
    "                np.logical_not(orders['visitor_id'].isin(abnormalUsers)),\n",
    "            )\n",
    "        ]['revenue'].mean()\n",
    "        - 1\n",
    "    )\n",
    ") \n",
    "\n"
   ]
  },
  {
   "cell_type": "markdown",
   "metadata": {},
   "source": [
    "P-value уменьшился, но и разница между сегментами не просто сократилась, а теперь лидирует группа А, однако нулевая гипотиза все еще принимается. Аномалии сильно повлияли на результаты A/B-теста."
   ]
  },
  {
   "cell_type": "markdown",
   "metadata": {},
   "source": [
    "### Примите решение по результатам теста и объясните его. Варианты решений:\n",
    "1. Остановить тест, зафиксировать победу одной из групп.\n",
    "2. Остановить тест, зафиксировать отсутствие различий между группами.\n",
    "3. Продолжить тест."
   ]
  },
  {
   "cell_type": "markdown",
   "metadata": {},
   "source": [
    "Относительный выигрыш группы B над A равен 18,2% по \"очищенным\" и 16.0% по \"сырым\" данным.\n",
    "\n",
    "Средний чек группы B оказался на 4,8% ниже среднего чека группы A по \"очищенным\" данным, в то время как по \"сырым\" данным, он был больше 28.7%, что было связвно с выбросами значений.\n",
    "\n",
    "Пологаю, что нужно принять решение остановить тестирование и признать победу группы B т.к. группа B значительно лучше  группы A по в среднеиу числу заказов, а по среднему чеку группы примерно равны."
   ]
  }
 ],
 "metadata": {
  "ExecuteTimeLog": [
   {
    "duration": 1421,
    "start_time": "2023-04-05T10:32:24.638Z"
   },
   {
    "duration": 211,
    "start_time": "2023-04-05T10:32:26.062Z"
   },
   {
    "duration": 67,
    "start_time": "2023-04-05T10:33:21.188Z"
   },
   {
    "duration": 4,
    "start_time": "2023-04-05T10:33:23.264Z"
   },
   {
    "duration": 23,
    "start_time": "2023-04-05T10:33:54.472Z"
   },
   {
    "duration": 23,
    "start_time": "2023-04-05T10:34:26.575Z"
   },
   {
    "duration": 22,
    "start_time": "2023-04-05T10:34:28.031Z"
   },
   {
    "duration": 4,
    "start_time": "2023-04-05T10:35:56.235Z"
   },
   {
    "duration": 23,
    "start_time": "2023-04-05T10:35:58.525Z"
   },
   {
    "duration": 21,
    "start_time": "2023-04-05T10:36:03.481Z"
   },
   {
    "duration": 20,
    "start_time": "2023-04-05T10:36:04.571Z"
   },
   {
    "duration": 102,
    "start_time": "2023-04-05T10:50:08.200Z"
   },
   {
    "duration": 10,
    "start_time": "2023-04-05T10:50:14.324Z"
   },
   {
    "duration": 1292,
    "start_time": "2023-04-05T10:50:27.504Z"
   },
   {
    "duration": 62,
    "start_time": "2023-04-05T10:50:28.798Z"
   },
   {
    "duration": 5,
    "start_time": "2023-04-05T10:50:28.861Z"
   },
   {
    "duration": 37,
    "start_time": "2023-04-05T10:50:28.868Z"
   },
   {
    "duration": 20,
    "start_time": "2023-04-05T10:50:28.907Z"
   },
   {
    "duration": 19,
    "start_time": "2023-04-05T10:50:28.928Z"
   },
   {
    "duration": 121,
    "start_time": "2023-04-05T10:50:28.949Z"
   },
   {
    "duration": 14,
    "start_time": "2023-04-05T10:50:40.199Z"
   },
   {
    "duration": 8,
    "start_time": "2023-04-05T10:50:47.182Z"
   },
   {
    "duration": 9,
    "start_time": "2023-04-05T10:51:14.648Z"
   },
   {
    "duration": 1267,
    "start_time": "2023-04-05T10:51:18.800Z"
   },
   {
    "duration": 63,
    "start_time": "2023-04-05T10:51:20.070Z"
   },
   {
    "duration": 4,
    "start_time": "2023-04-05T10:51:20.134Z"
   },
   {
    "duration": 32,
    "start_time": "2023-04-05T10:51:20.139Z"
   },
   {
    "duration": 21,
    "start_time": "2023-04-05T10:51:20.173Z"
   },
   {
    "duration": 39,
    "start_time": "2023-04-05T10:51:20.196Z"
   },
   {
    "duration": 12,
    "start_time": "2023-04-05T10:51:20.237Z"
   },
   {
    "duration": 9,
    "start_time": "2023-04-05T10:51:25.674Z"
   },
   {
    "duration": 14,
    "start_time": "2023-04-05T10:56:08.142Z"
   },
   {
    "duration": 22,
    "start_time": "2023-04-05T10:56:55.394Z"
   },
   {
    "duration": 22,
    "start_time": "2023-04-05T10:57:04.148Z"
   },
   {
    "duration": 113,
    "start_time": "2023-04-05T10:59:45.876Z"
   },
   {
    "duration": 17,
    "start_time": "2023-04-05T10:59:51.184Z"
   },
   {
    "duration": 24,
    "start_time": "2023-04-05T10:59:56.889Z"
   },
   {
    "duration": 12,
    "start_time": "2023-04-05T11:01:12.725Z"
   },
   {
    "duration": 11,
    "start_time": "2023-04-05T11:01:16.027Z"
   },
   {
    "duration": 19,
    "start_time": "2023-04-05T11:04:31.270Z"
   },
   {
    "duration": 1270,
    "start_time": "2023-04-05T11:06:54.144Z"
   },
   {
    "duration": 15,
    "start_time": "2023-04-05T11:07:09.831Z"
   },
   {
    "duration": 12,
    "start_time": "2023-04-05T11:07:18.005Z"
   },
   {
    "duration": 11,
    "start_time": "2023-04-05T11:07:23.346Z"
   },
   {
    "duration": 12,
    "start_time": "2023-04-05T11:07:54.727Z"
   },
   {
    "duration": 12,
    "start_time": "2023-04-05T11:08:12.608Z"
   },
   {
    "duration": 13,
    "start_time": "2023-04-05T11:08:16.812Z"
   },
   {
    "duration": 15,
    "start_time": "2023-04-05T11:11:09.222Z"
   },
   {
    "duration": 15,
    "start_time": "2023-04-05T11:11:16.973Z"
   },
   {
    "duration": 12,
    "start_time": "2023-04-05T11:13:34.041Z"
   },
   {
    "duration": 5,
    "start_time": "2023-04-05T11:13:44.707Z"
   },
   {
    "duration": 13,
    "start_time": "2023-04-05T11:14:00.012Z"
   },
   {
    "duration": 2295,
    "start_time": "2023-04-05T11:15:16.329Z"
   },
   {
    "duration": 21,
    "start_time": "2023-04-05T11:15:40.396Z"
   },
   {
    "duration": 14,
    "start_time": "2023-04-05T11:18:44.092Z"
   },
   {
    "duration": 15,
    "start_time": "2023-04-05T11:19:02.461Z"
   },
   {
    "duration": 1220,
    "start_time": "2023-04-05T11:19:52.844Z"
   },
   {
    "duration": 62,
    "start_time": "2023-04-05T11:19:54.066Z"
   },
   {
    "duration": 3,
    "start_time": "2023-04-05T11:19:54.130Z"
   },
   {
    "duration": 38,
    "start_time": "2023-04-05T11:19:54.135Z"
   },
   {
    "duration": 24,
    "start_time": "2023-04-05T11:19:54.176Z"
   },
   {
    "duration": 34,
    "start_time": "2023-04-05T11:19:54.201Z"
   },
   {
    "duration": 13,
    "start_time": "2023-04-05T11:19:54.237Z"
   },
   {
    "duration": 48,
    "start_time": "2023-04-05T11:19:54.251Z"
   },
   {
    "duration": 18,
    "start_time": "2023-04-05T11:19:54.300Z"
   },
   {
    "duration": 29,
    "start_time": "2023-04-05T11:19:54.323Z"
   },
   {
    "duration": 14,
    "start_time": "2023-04-05T11:19:54.354Z"
   },
   {
    "duration": 3,
    "start_time": "2023-04-05T11:27:48.541Z"
   },
   {
    "duration": 14,
    "start_time": "2023-04-05T11:29:21.265Z"
   },
   {
    "duration": 15,
    "start_time": "2023-04-05T11:34:41.108Z"
   },
   {
    "duration": 1358,
    "start_time": "2023-04-05T11:36:34.653Z"
   },
   {
    "duration": 11,
    "start_time": "2023-04-05T11:36:48.157Z"
   },
   {
    "duration": 16,
    "start_time": "2023-04-05T11:37:00.781Z"
   },
   {
    "duration": 16,
    "start_time": "2023-04-05T11:39:25.288Z"
   },
   {
    "duration": 16,
    "start_time": "2023-04-05T11:39:29.562Z"
   },
   {
    "duration": 16,
    "start_time": "2023-04-05T11:39:40.436Z"
   },
   {
    "duration": 13,
    "start_time": "2023-04-05T11:39:52.582Z"
   },
   {
    "duration": 21,
    "start_time": "2023-04-05T11:40:01.408Z"
   },
   {
    "duration": 10,
    "start_time": "2023-04-05T11:40:06.124Z"
   },
   {
    "duration": 15,
    "start_time": "2023-04-05T11:40:49.601Z"
   },
   {
    "duration": 11,
    "start_time": "2023-04-05T11:41:17.256Z"
   },
   {
    "duration": 17,
    "start_time": "2023-04-05T11:41:31.392Z"
   },
   {
    "duration": 12,
    "start_time": "2023-04-05T11:42:05.254Z"
   },
   {
    "duration": 19,
    "start_time": "2023-04-05T11:42:31.018Z"
   },
   {
    "duration": 21,
    "start_time": "2023-04-05T11:42:35.019Z"
   },
   {
    "duration": 13,
    "start_time": "2023-04-05T11:42:42.601Z"
   },
   {
    "duration": 10,
    "start_time": "2023-04-05T11:46:07.670Z"
   },
   {
    "duration": 82,
    "start_time": "2023-04-05T11:46:22.109Z"
   },
   {
    "duration": 11,
    "start_time": "2023-04-05T11:46:25.760Z"
   },
   {
    "duration": 11,
    "start_time": "2023-04-05T11:46:31.629Z"
   },
   {
    "duration": 15,
    "start_time": "2023-04-05T11:47:00.552Z"
   },
   {
    "duration": 11,
    "start_time": "2023-04-05T11:47:28.990Z"
   },
   {
    "duration": 10,
    "start_time": "2023-04-05T11:47:56.080Z"
   },
   {
    "duration": 10,
    "start_time": "2023-04-05T11:50:29.788Z"
   },
   {
    "duration": 17,
    "start_time": "2023-04-05T11:50:57.708Z"
   },
   {
    "duration": 21,
    "start_time": "2023-04-05T11:51:01.619Z"
   },
   {
    "duration": 16,
    "start_time": "2023-04-05T11:51:07.840Z"
   },
   {
    "duration": 10,
    "start_time": "2023-04-05T11:51:13.736Z"
   },
   {
    "duration": 7,
    "start_time": "2023-04-05T11:55:13.597Z"
   },
   {
    "duration": 9,
    "start_time": "2023-04-05T11:55:25.107Z"
   },
   {
    "duration": 11,
    "start_time": "2023-04-05T11:55:26.391Z"
   },
   {
    "duration": 10,
    "start_time": "2023-04-05T20:06:51.764Z"
   },
   {
    "duration": 6,
    "start_time": "2023-04-05T20:06:56.594Z"
   },
   {
    "duration": 13,
    "start_time": "2023-04-05T20:07:06.293Z"
   },
   {
    "duration": 27,
    "start_time": "2023-04-05T20:14:38.935Z"
   },
   {
    "duration": 177,
    "start_time": "2023-04-05T20:14:57.417Z"
   },
   {
    "duration": 188,
    "start_time": "2023-04-05T20:15:27.493Z"
   },
   {
    "duration": 124,
    "start_time": "2023-04-05T20:18:28.097Z"
   },
   {
    "duration": 172,
    "start_time": "2023-04-05T20:18:32.193Z"
   },
   {
    "duration": 10,
    "start_time": "2023-04-05T20:21:53.453Z"
   },
   {
    "duration": 175,
    "start_time": "2023-04-05T20:26:17.949Z"
   },
   {
    "duration": 31,
    "start_time": "2023-04-05T20:28:17.300Z"
   },
   {
    "duration": 11,
    "start_time": "2023-04-05T20:29:50.965Z"
   },
   {
    "duration": 15,
    "start_time": "2023-04-05T20:32:00.848Z"
   },
   {
    "duration": 285,
    "start_time": "2023-04-05T20:32:40.715Z"
   },
   {
    "duration": 200,
    "start_time": "2023-04-05T20:40:40.516Z"
   },
   {
    "duration": 278,
    "start_time": "2023-04-05T20:42:48.395Z"
   },
   {
    "duration": 216,
    "start_time": "2023-04-05T20:44:51.821Z"
   },
   {
    "duration": 191,
    "start_time": "2023-04-05T20:46:02.953Z"
   },
   {
    "duration": 268,
    "start_time": "2023-04-05T20:46:40.223Z"
   },
   {
    "duration": 264,
    "start_time": "2023-04-05T20:47:23.628Z"
   },
   {
    "duration": 196,
    "start_time": "2023-04-05T20:47:27.086Z"
   },
   {
    "duration": 203,
    "start_time": "2023-04-05T20:47:31.253Z"
   },
   {
    "duration": 325,
    "start_time": "2023-04-05T20:49:36.332Z"
   },
   {
    "duration": 312,
    "start_time": "2023-04-05T20:49:54.634Z"
   },
   {
    "duration": 10,
    "start_time": "2023-04-05T20:52:22.301Z"
   },
   {
    "duration": 136,
    "start_time": "2023-04-05T20:54:59.771Z"
   },
   {
    "duration": 10,
    "start_time": "2023-04-05T20:55:11.369Z"
   },
   {
    "duration": 143,
    "start_time": "2023-04-05T20:55:15.525Z"
   },
   {
    "duration": 139,
    "start_time": "2023-04-05T20:57:03.059Z"
   },
   {
    "duration": 136,
    "start_time": "2023-04-05T20:58:15.070Z"
   },
   {
    "duration": 141,
    "start_time": "2023-04-05T20:59:18.950Z"
   },
   {
    "duration": 137,
    "start_time": "2023-04-05T20:59:25.792Z"
   },
   {
    "duration": 142,
    "start_time": "2023-04-05T20:59:57.208Z"
   },
   {
    "duration": 238,
    "start_time": "2023-04-05T21:02:36.238Z"
   },
   {
    "duration": 10,
    "start_time": "2023-04-05T21:03:36.322Z"
   },
   {
    "duration": 13,
    "start_time": "2023-04-05T21:03:43.113Z"
   },
   {
    "duration": 7,
    "start_time": "2023-04-05T21:05:21.934Z"
   },
   {
    "duration": 3654,
    "start_time": "2023-04-05T21:05:31.487Z"
   },
   {
    "duration": 138,
    "start_time": "2023-04-05T21:05:43.382Z"
   },
   {
    "duration": 10,
    "start_time": "2023-04-05T21:06:50.782Z"
   },
   {
    "duration": 136,
    "start_time": "2023-04-05T21:06:53.979Z"
   },
   {
    "duration": 15,
    "start_time": "2023-04-05T21:07:51.793Z"
   },
   {
    "duration": 141,
    "start_time": "2023-04-05T21:07:57.350Z"
   },
   {
    "duration": 154,
    "start_time": "2023-04-05T21:08:01.956Z"
   },
   {
    "duration": 159,
    "start_time": "2023-04-05T21:08:38.720Z"
   },
   {
    "duration": 148,
    "start_time": "2023-04-05T21:08:53.691Z"
   },
   {
    "duration": 147,
    "start_time": "2023-04-05T21:09:54.576Z"
   },
   {
    "duration": 150,
    "start_time": "2023-04-05T21:10:08.904Z"
   },
   {
    "duration": 138,
    "start_time": "2023-04-05T21:11:06.335Z"
   },
   {
    "duration": 5,
    "start_time": "2023-04-05T21:12:28.976Z"
   },
   {
    "duration": 5,
    "start_time": "2023-04-05T21:12:35.312Z"
   },
   {
    "duration": 5,
    "start_time": "2023-04-05T21:13:03.997Z"
   },
   {
    "duration": 5,
    "start_time": "2023-04-05T21:13:04.948Z"
   },
   {
    "duration": 9,
    "start_time": "2023-04-05T21:18:44.281Z"
   },
   {
    "duration": 134,
    "start_time": "2023-04-05T21:18:50.246Z"
   },
   {
    "duration": 10,
    "start_time": "2023-04-05T21:19:10.168Z"
   },
   {
    "duration": 131,
    "start_time": "2023-04-05T21:19:16.970Z"
   },
   {
    "duration": 213,
    "start_time": "2023-04-05T21:19:49.549Z"
   },
   {
    "duration": 133,
    "start_time": "2023-04-05T21:20:09.624Z"
   },
   {
    "duration": 4,
    "start_time": "2023-04-05T21:22:10.671Z"
   },
   {
    "duration": 5,
    "start_time": "2023-04-05T21:22:22.075Z"
   },
   {
    "duration": 90,
    "start_time": "2023-04-05T21:26:51.573Z"
   },
   {
    "duration": 125,
    "start_time": "2023-04-05T21:28:16.320Z"
   },
   {
    "duration": 10,
    "start_time": "2023-04-05T21:29:08.832Z"
   },
   {
    "duration": 16,
    "start_time": "2023-04-05T21:31:00.964Z"
   },
   {
    "duration": 17,
    "start_time": "2023-04-05T21:33:51.937Z"
   },
   {
    "duration": 110,
    "start_time": "2023-04-05T21:38:29.993Z"
   },
   {
    "duration": 1234,
    "start_time": "2023-04-05T21:42:59.473Z"
   },
   {
    "duration": 64,
    "start_time": "2023-04-05T21:43:00.709Z"
   },
   {
    "duration": 4,
    "start_time": "2023-04-05T21:43:00.775Z"
   },
   {
    "duration": 70,
    "start_time": "2023-04-05T21:43:00.780Z"
   },
   {
    "duration": 44,
    "start_time": "2023-04-05T21:43:00.852Z"
   },
   {
    "duration": 56,
    "start_time": "2023-04-05T21:43:00.897Z"
   },
   {
    "duration": 40,
    "start_time": "2023-04-05T21:43:00.955Z"
   },
   {
    "duration": 84,
    "start_time": "2023-04-05T21:43:00.997Z"
   },
   {
    "duration": 51,
    "start_time": "2023-04-05T21:43:01.083Z"
   },
   {
    "duration": 71,
    "start_time": "2023-04-05T21:43:01.136Z"
   },
   {
    "duration": 31,
    "start_time": "2023-04-05T21:43:01.210Z"
   },
   {
    "duration": 51,
    "start_time": "2023-04-05T21:43:01.243Z"
   },
   {
    "duration": 42,
    "start_time": "2023-04-05T21:43:01.296Z"
   },
   {
    "duration": 51,
    "start_time": "2023-04-05T21:43:01.341Z"
   },
   {
    "duration": 219,
    "start_time": "2023-04-05T21:43:01.394Z"
   },
   {
    "duration": 139,
    "start_time": "2023-04-05T21:43:01.615Z"
   },
   {
    "duration": 14,
    "start_time": "2023-04-05T21:43:01.756Z"
   },
   {
    "duration": 290,
    "start_time": "2023-04-05T21:43:01.772Z"
   },
   {
    "duration": 205,
    "start_time": "2023-04-05T21:43:02.064Z"
   },
   {
    "duration": 280,
    "start_time": "2023-04-05T21:43:02.271Z"
   },
   {
    "duration": 236,
    "start_time": "2023-04-05T21:43:02.553Z"
   },
   {
    "duration": 336,
    "start_time": "2023-04-05T21:43:02.791Z"
   },
   {
    "duration": 143,
    "start_time": "2023-04-05T21:43:03.129Z"
   },
   {
    "duration": 150,
    "start_time": "2023-04-05T21:43:03.273Z"
   },
   {
    "duration": 4,
    "start_time": "2023-04-05T21:43:03.425Z"
   },
   {
    "duration": 226,
    "start_time": "2023-04-05T21:43:03.431Z"
   },
   {
    "duration": 141,
    "start_time": "2023-04-05T21:43:03.658Z"
   },
   {
    "duration": 5,
    "start_time": "2023-04-05T21:43:03.800Z"
   },
   {
    "duration": 132,
    "start_time": "2023-04-05T21:43:03.806Z"
   },
   {
    "duration": 213,
    "start_time": "2023-04-05T21:43:03.940Z"
   },
   {
    "duration": 0,
    "start_time": "2023-04-05T21:43:04.155Z"
   },
   {
    "duration": 111,
    "start_time": "2023-04-05T21:43:36.213Z"
   },
   {
    "duration": 108,
    "start_time": "2023-04-05T21:44:44.260Z"
   },
   {
    "duration": 169,
    "start_time": "2023-04-05T21:45:14.372Z"
   },
   {
    "duration": 166,
    "start_time": "2023-04-05T21:45:39.212Z"
   },
   {
    "duration": 212,
    "start_time": "2023-04-05T21:45:50.884Z"
   },
   {
    "duration": 135,
    "start_time": "2023-04-05T21:45:59.943Z"
   },
   {
    "duration": 222,
    "start_time": "2023-04-05T21:46:27.755Z"
   },
   {
    "duration": 196,
    "start_time": "2023-04-05T21:46:30.318Z"
   },
   {
    "duration": 1215,
    "start_time": "2023-04-05T21:49:49.068Z"
   },
   {
    "duration": 75,
    "start_time": "2023-04-05T21:49:50.285Z"
   },
   {
    "duration": 4,
    "start_time": "2023-04-05T21:49:50.366Z"
   },
   {
    "duration": 41,
    "start_time": "2023-04-05T21:49:50.372Z"
   },
   {
    "duration": 22,
    "start_time": "2023-04-05T21:49:50.415Z"
   },
   {
    "duration": 19,
    "start_time": "2023-04-05T21:49:50.438Z"
   },
   {
    "duration": 12,
    "start_time": "2023-04-05T21:49:50.459Z"
   },
   {
    "duration": 60,
    "start_time": "2023-04-05T21:49:50.473Z"
   },
   {
    "duration": 20,
    "start_time": "2023-04-05T21:49:50.536Z"
   },
   {
    "duration": 23,
    "start_time": "2023-04-05T21:49:50.558Z"
   },
   {
    "duration": 17,
    "start_time": "2023-04-05T21:49:50.583Z"
   },
   {
    "duration": 33,
    "start_time": "2023-04-05T21:49:50.601Z"
   },
   {
    "duration": 20,
    "start_time": "2023-04-05T21:49:50.636Z"
   },
   {
    "duration": 22,
    "start_time": "2023-04-05T21:49:50.658Z"
   },
   {
    "duration": 213,
    "start_time": "2023-04-05T21:49:50.682Z"
   },
   {
    "duration": 151,
    "start_time": "2023-04-05T21:49:50.897Z"
   },
   {
    "duration": 16,
    "start_time": "2023-04-05T21:49:51.050Z"
   },
   {
    "duration": 297,
    "start_time": "2023-04-05T21:49:51.068Z"
   },
   {
    "duration": 203,
    "start_time": "2023-04-05T21:49:51.368Z"
   },
   {
    "duration": 266,
    "start_time": "2023-04-05T21:49:51.573Z"
   },
   {
    "duration": 222,
    "start_time": "2023-04-05T21:49:51.841Z"
   },
   {
    "duration": 296,
    "start_time": "2023-04-05T21:49:52.065Z"
   },
   {
    "duration": 160,
    "start_time": "2023-04-05T21:49:52.363Z"
   },
   {
    "duration": 163,
    "start_time": "2023-04-05T21:49:52.526Z"
   },
   {
    "duration": 6,
    "start_time": "2023-04-05T21:49:52.691Z"
   },
   {
    "duration": 266,
    "start_time": "2023-04-05T21:49:52.698Z"
   },
   {
    "duration": 156,
    "start_time": "2023-04-05T21:49:52.967Z"
   },
   {
    "duration": 4,
    "start_time": "2023-04-05T21:49:53.125Z"
   },
   {
    "duration": 252,
    "start_time": "2023-04-05T21:49:53.131Z"
   },
   {
    "duration": 187,
    "start_time": "2023-04-05T21:49:53.385Z"
   },
   {
    "duration": 11,
    "start_time": "2023-04-05T21:52:07.397Z"
   },
   {
    "duration": 3240,
    "start_time": "2023-04-05T21:57:30.502Z"
   },
   {
    "duration": 1924,
    "start_time": "2023-04-05T21:57:33.907Z"
   },
   {
    "duration": 1700,
    "start_time": "2023-04-05T21:57:48.216Z"
   },
   {
    "duration": 10,
    "start_time": "2023-04-05T21:58:12.737Z"
   },
   {
    "duration": 3248,
    "start_time": "2023-04-05T21:59:29.035Z"
   },
   {
    "duration": 9,
    "start_time": "2023-04-05T21:59:42.979Z"
   },
   {
    "duration": 24,
    "start_time": "2023-04-05T21:59:45.399Z"
   },
   {
    "duration": 16,
    "start_time": "2023-04-05T22:02:26.774Z"
   },
   {
    "duration": 1455,
    "start_time": "2023-04-06T11:01:36.315Z"
   },
   {
    "duration": 179,
    "start_time": "2023-04-06T11:01:37.771Z"
   },
   {
    "duration": 3,
    "start_time": "2023-04-06T11:01:37.952Z"
   },
   {
    "duration": 31,
    "start_time": "2023-04-06T11:01:37.956Z"
   },
   {
    "duration": 19,
    "start_time": "2023-04-06T11:01:37.990Z"
   },
   {
    "duration": 34,
    "start_time": "2023-04-06T11:01:38.010Z"
   },
   {
    "duration": 7,
    "start_time": "2023-04-06T11:01:38.045Z"
   },
   {
    "duration": 17,
    "start_time": "2023-04-06T11:01:38.053Z"
   },
   {
    "duration": 13,
    "start_time": "2023-04-06T11:01:38.071Z"
   },
   {
    "duration": 13,
    "start_time": "2023-04-06T11:01:38.085Z"
   },
   {
    "duration": 47,
    "start_time": "2023-04-06T11:01:38.099Z"
   },
   {
    "duration": 9,
    "start_time": "2023-04-06T11:01:38.147Z"
   },
   {
    "duration": 4,
    "start_time": "2023-04-06T11:01:38.158Z"
   },
   {
    "duration": 7,
    "start_time": "2023-04-06T11:01:38.165Z"
   },
   {
    "duration": 169,
    "start_time": "2023-04-06T11:01:38.174Z"
   },
   {
    "duration": 111,
    "start_time": "2023-04-06T11:01:38.345Z"
   },
   {
    "duration": 10,
    "start_time": "2023-04-06T11:01:38.457Z"
   },
   {
    "duration": 244,
    "start_time": "2023-04-06T11:01:38.469Z"
   },
   {
    "duration": 154,
    "start_time": "2023-04-06T11:01:38.715Z"
   },
   {
    "duration": 253,
    "start_time": "2023-04-06T11:01:38.870Z"
   },
   {
    "duration": 172,
    "start_time": "2023-04-06T11:01:39.125Z"
   },
   {
    "duration": 264,
    "start_time": "2023-04-06T11:01:39.298Z"
   },
   {
    "duration": 121,
    "start_time": "2023-04-06T11:01:39.563Z"
   },
   {
    "duration": 116,
    "start_time": "2023-04-06T11:01:39.685Z"
   },
   {
    "duration": 5,
    "start_time": "2023-04-06T11:01:39.803Z"
   },
   {
    "duration": 193,
    "start_time": "2023-04-06T11:01:39.809Z"
   },
   {
    "duration": 122,
    "start_time": "2023-04-06T11:01:40.003Z"
   },
   {
    "duration": 16,
    "start_time": "2023-04-06T11:01:40.126Z"
   },
   {
    "duration": 207,
    "start_time": "2023-04-06T11:01:40.143Z"
   },
   {
    "duration": 148,
    "start_time": "2023-04-06T11:01:40.352Z"
   },
   {
    "duration": 9,
    "start_time": "2023-04-06T11:01:40.502Z"
   },
   {
    "duration": 27,
    "start_time": "2023-04-06T11:01:40.513Z"
   },
   {
    "duration": 7,
    "start_time": "2023-04-06T11:01:40.542Z"
   },
   {
    "duration": 21,
    "start_time": "2023-04-06T11:01:40.550Z"
   },
   {
    "duration": 12,
    "start_time": "2023-04-06T11:01:40.572Z"
   },
   {
    "duration": 132,
    "start_time": "2023-04-06T11:20:18.670Z"
   },
   {
    "duration": 173,
    "start_time": "2023-04-06T11:20:28.732Z"
   },
   {
    "duration": 139,
    "start_time": "2023-04-06T11:20:34.818Z"
   },
   {
    "duration": 150,
    "start_time": "2023-04-06T11:20:45.109Z"
   },
   {
    "duration": 150,
    "start_time": "2023-04-06T11:21:11.911Z"
   },
   {
    "duration": 163,
    "start_time": "2023-04-06T11:23:37.897Z"
   },
   {
    "duration": 159,
    "start_time": "2023-04-06T11:23:53.231Z"
   },
   {
    "duration": 168,
    "start_time": "2023-04-06T11:24:45.874Z"
   },
   {
    "duration": 302,
    "start_time": "2023-04-06T11:26:40.199Z"
   },
   {
    "duration": 166,
    "start_time": "2023-04-06T11:26:48.206Z"
   },
   {
    "duration": 228,
    "start_time": "2023-04-06T11:26:51.891Z"
   },
   {
    "duration": 157,
    "start_time": "2023-04-06T11:26:57.574Z"
   },
   {
    "duration": 166,
    "start_time": "2023-04-06T11:27:03.297Z"
   },
   {
    "duration": 163,
    "start_time": "2023-04-06T11:27:12.630Z"
   },
   {
    "duration": 152,
    "start_time": "2023-04-06T11:27:19.201Z"
   },
   {
    "duration": 82,
    "start_time": "2023-04-06T11:28:30.989Z"
   },
   {
    "duration": 160,
    "start_time": "2023-04-06T11:28:34.274Z"
   },
   {
    "duration": 252,
    "start_time": "2023-04-06T11:29:55.413Z"
   },
   {
    "duration": 187,
    "start_time": "2023-04-06T11:30:16.118Z"
   },
   {
    "duration": 170,
    "start_time": "2023-04-06T11:30:19.594Z"
   },
   {
    "duration": 184,
    "start_time": "2023-04-06T11:31:39.840Z"
   },
   {
    "duration": 188,
    "start_time": "2023-04-06T11:32:19.293Z"
   },
   {
    "duration": 282,
    "start_time": "2023-04-06T11:32:23.078Z"
   },
   {
    "duration": 966,
    "start_time": "2023-04-06T11:32:28.988Z"
   },
   {
    "duration": 552,
    "start_time": "2023-04-06T11:32:36.629Z"
   },
   {
    "duration": 385,
    "start_time": "2023-04-06T11:32:41.491Z"
   },
   {
    "duration": 321,
    "start_time": "2023-04-06T11:32:47.462Z"
   },
   {
    "duration": 203,
    "start_time": "2023-04-06T11:33:15.091Z"
   },
   {
    "duration": 204,
    "start_time": "2023-04-06T11:34:20.583Z"
   },
   {
    "duration": 221,
    "start_time": "2023-04-06T11:34:45.036Z"
   },
   {
    "duration": 211,
    "start_time": "2023-04-06T11:35:21.430Z"
   },
   {
    "duration": 213,
    "start_time": "2023-04-06T11:35:51.585Z"
   },
   {
    "duration": 229,
    "start_time": "2023-04-06T11:37:05.630Z"
   },
   {
    "duration": 215,
    "start_time": "2023-04-06T11:37:21.737Z"
   },
   {
    "duration": 228,
    "start_time": "2023-04-06T11:37:29.234Z"
   },
   {
    "duration": 240,
    "start_time": "2023-04-06T11:37:36.100Z"
   },
   {
    "duration": 241,
    "start_time": "2023-04-06T11:37:43.074Z"
   },
   {
    "duration": 206,
    "start_time": "2023-04-06T11:37:48.692Z"
   },
   {
    "duration": 295,
    "start_time": "2023-04-06T11:37:50.788Z"
   },
   {
    "duration": 326,
    "start_time": "2023-04-06T11:50:18.022Z"
   },
   {
    "duration": 294,
    "start_time": "2023-04-06T11:50:25.780Z"
   },
   {
    "duration": 294,
    "start_time": "2023-04-06T11:51:47.297Z"
   },
   {
    "duration": 233,
    "start_time": "2023-04-06T11:56:29.577Z"
   },
   {
    "duration": 231,
    "start_time": "2023-04-06T11:57:55.895Z"
   },
   {
    "duration": 234,
    "start_time": "2023-04-06T11:58:03.298Z"
   },
   {
    "duration": 13,
    "start_time": "2023-04-06T11:58:36.023Z"
   },
   {
    "duration": 5,
    "start_time": "2023-04-06T12:00:18.592Z"
   },
   {
    "duration": 10,
    "start_time": "2023-04-06T12:00:36.401Z"
   },
   {
    "duration": 274,
    "start_time": "2023-04-06T12:02:19.774Z"
   },
   {
    "duration": 234,
    "start_time": "2023-04-06T12:02:29.782Z"
   },
   {
    "duration": 226,
    "start_time": "2023-04-06T12:04:09.478Z"
   },
   {
    "duration": 216,
    "start_time": "2023-04-06T12:04:13.474Z"
   },
   {
    "duration": 230,
    "start_time": "2023-04-06T12:04:17.443Z"
   },
   {
    "duration": 303,
    "start_time": "2023-04-06T12:04:23.380Z"
   },
   {
    "duration": 218,
    "start_time": "2023-04-06T12:04:28.310Z"
   },
   {
    "duration": 248,
    "start_time": "2023-04-06T12:04:31.975Z"
   },
   {
    "duration": 208,
    "start_time": "2023-04-06T12:04:34.911Z"
   },
   {
    "duration": 231,
    "start_time": "2023-04-06T12:04:39.569Z"
   },
   {
    "duration": 257,
    "start_time": "2023-04-06T12:07:01.065Z"
   },
   {
    "duration": 240,
    "start_time": "2023-04-06T12:07:15.583Z"
   },
   {
    "duration": 326,
    "start_time": "2023-04-06T12:07:36.010Z"
   },
   {
    "duration": 214,
    "start_time": "2023-04-06T12:07:38.143Z"
   },
   {
    "duration": 232,
    "start_time": "2023-04-06T12:07:51.518Z"
   },
   {
    "duration": 227,
    "start_time": "2023-04-06T12:08:08.038Z"
   },
   {
    "duration": 321,
    "start_time": "2023-04-06T12:12:47.589Z"
   },
   {
    "duration": 327,
    "start_time": "2023-04-06T12:13:03.173Z"
   },
   {
    "duration": 404,
    "start_time": "2023-04-06T12:13:26.995Z"
   },
   {
    "duration": 315,
    "start_time": "2023-04-06T12:13:32.090Z"
   },
   {
    "duration": 344,
    "start_time": "2023-04-06T12:13:37.097Z"
   },
   {
    "duration": 324,
    "start_time": "2023-04-06T12:14:10.696Z"
   },
   {
    "duration": 319,
    "start_time": "2023-04-06T12:14:31.082Z"
   },
   {
    "duration": 204,
    "start_time": "2023-04-06T12:18:24.513Z"
   },
   {
    "duration": 170,
    "start_time": "2023-04-06T12:18:47.011Z"
   },
   {
    "duration": 166,
    "start_time": "2023-04-06T12:20:28.236Z"
   },
   {
    "duration": 167,
    "start_time": "2023-04-06T12:21:14.910Z"
   },
   {
    "duration": 185,
    "start_time": "2023-04-06T12:21:30.485Z"
   },
   {
    "duration": 126,
    "start_time": "2023-04-06T12:23:01.598Z"
   },
   {
    "duration": 178,
    "start_time": "2023-04-06T12:24:17.198Z"
   },
   {
    "duration": 164,
    "start_time": "2023-04-06T12:24:21.614Z"
   },
   {
    "duration": 164,
    "start_time": "2023-04-06T12:26:00.819Z"
   },
   {
    "duration": 229,
    "start_time": "2023-04-06T12:32:39.326Z"
   },
   {
    "duration": 144,
    "start_time": "2023-04-06T12:32:56.713Z"
   },
   {
    "duration": 145,
    "start_time": "2023-04-06T12:33:09.328Z"
   },
   {
    "duration": 6,
    "start_time": "2023-04-06T12:33:24.682Z"
   },
   {
    "duration": 72,
    "start_time": "2023-04-06T12:33:55.915Z"
   },
   {
    "duration": 185,
    "start_time": "2023-04-06T12:34:19.294Z"
   },
   {
    "duration": 178,
    "start_time": "2023-04-06T12:34:22.145Z"
   },
   {
    "duration": 160,
    "start_time": "2023-04-06T12:38:11.339Z"
   },
   {
    "duration": 163,
    "start_time": "2023-04-06T12:38:25.602Z"
   },
   {
    "duration": 175,
    "start_time": "2023-04-06T12:39:15.596Z"
   },
   {
    "duration": 178,
    "start_time": "2023-04-06T12:40:23.385Z"
   },
   {
    "duration": 145,
    "start_time": "2023-04-06T12:56:39.831Z"
   },
   {
    "duration": 10,
    "start_time": "2023-04-06T13:18:22.088Z"
   },
   {
    "duration": 11,
    "start_time": "2023-04-06T13:18:51.979Z"
   },
   {
    "duration": 9,
    "start_time": "2023-04-06T13:19:13.487Z"
   },
   {
    "duration": 8,
    "start_time": "2023-04-06T13:19:18.386Z"
   },
   {
    "duration": 8,
    "start_time": "2023-04-06T13:19:37.516Z"
   },
   {
    "duration": 8,
    "start_time": "2023-04-06T13:19:57.574Z"
   },
   {
    "duration": 21,
    "start_time": "2023-04-06T13:20:49.100Z"
   },
   {
    "duration": 7,
    "start_time": "2023-04-06T13:20:53.621Z"
   },
   {
    "duration": 22,
    "start_time": "2023-04-06T13:20:55.049Z"
   },
   {
    "duration": 13,
    "start_time": "2023-04-06T13:23:05.890Z"
   },
   {
    "duration": 1096,
    "start_time": "2023-04-06T13:45:04.231Z"
   },
   {
    "duration": 64,
    "start_time": "2023-04-06T13:45:05.329Z"
   },
   {
    "duration": 3,
    "start_time": "2023-04-06T13:45:05.394Z"
   },
   {
    "duration": 56,
    "start_time": "2023-04-06T13:45:05.399Z"
   },
   {
    "duration": 24,
    "start_time": "2023-04-06T13:45:05.457Z"
   },
   {
    "duration": 41,
    "start_time": "2023-04-06T13:45:05.482Z"
   },
   {
    "duration": 18,
    "start_time": "2023-04-06T13:45:05.524Z"
   },
   {
    "duration": 47,
    "start_time": "2023-04-06T13:45:05.543Z"
   },
   {
    "duration": 22,
    "start_time": "2023-04-06T13:45:05.591Z"
   },
   {
    "duration": 20,
    "start_time": "2023-04-06T13:45:05.614Z"
   },
   {
    "duration": 11,
    "start_time": "2023-04-06T13:45:05.635Z"
   },
   {
    "duration": 34,
    "start_time": "2023-04-06T13:45:05.647Z"
   },
   {
    "duration": 46,
    "start_time": "2023-04-06T13:45:05.682Z"
   },
   {
    "duration": 17,
    "start_time": "2023-04-06T13:45:05.731Z"
   },
   {
    "duration": 156,
    "start_time": "2023-04-06T13:45:05.749Z"
   },
   {
    "duration": 115,
    "start_time": "2023-04-06T13:45:05.906Z"
   },
   {
    "duration": 18,
    "start_time": "2023-04-06T13:45:06.022Z"
   },
   {
    "duration": 271,
    "start_time": "2023-04-06T13:45:06.041Z"
   },
   {
    "duration": 238,
    "start_time": "2023-04-06T13:45:06.314Z"
   },
   {
    "duration": 358,
    "start_time": "2023-04-06T13:45:06.554Z"
   },
   {
    "duration": 10,
    "start_time": "2023-04-06T13:45:06.914Z"
   },
   {
    "duration": 277,
    "start_time": "2023-04-06T13:45:06.925Z"
   },
   {
    "duration": 364,
    "start_time": "2023-04-06T13:45:07.204Z"
   },
   {
    "duration": 181,
    "start_time": "2023-04-06T13:45:07.569Z"
   },
   {
    "duration": 187,
    "start_time": "2023-04-06T13:45:07.751Z"
   },
   {
    "duration": 4,
    "start_time": "2023-04-06T13:45:07.940Z"
   },
   {
    "duration": 228,
    "start_time": "2023-04-06T13:45:07.945Z"
   },
   {
    "duration": 5,
    "start_time": "2023-04-06T13:45:08.174Z"
   },
   {
    "duration": 192,
    "start_time": "2023-04-06T13:45:08.180Z"
   },
   {
    "duration": 4,
    "start_time": "2023-04-06T13:45:08.373Z"
   },
   {
    "duration": 208,
    "start_time": "2023-04-06T13:45:08.378Z"
   },
   {
    "duration": 156,
    "start_time": "2023-04-06T13:45:08.587Z"
   },
   {
    "duration": 10,
    "start_time": "2023-04-06T13:45:08.745Z"
   },
   {
    "duration": 10,
    "start_time": "2023-04-06T13:45:08.756Z"
   },
   {
    "duration": 8,
    "start_time": "2023-04-06T13:45:08.768Z"
   },
   {
    "duration": 19,
    "start_time": "2023-04-06T13:45:08.778Z"
   },
   {
    "duration": 43,
    "start_time": "2023-04-06T13:45:08.799Z"
   },
   {
    "duration": 1068,
    "start_time": "2023-04-06T13:45:39.764Z"
   },
   {
    "duration": 62,
    "start_time": "2023-04-06T13:45:40.834Z"
   },
   {
    "duration": 3,
    "start_time": "2023-04-06T13:45:40.897Z"
   },
   {
    "duration": 22,
    "start_time": "2023-04-06T13:45:40.901Z"
   },
   {
    "duration": 17,
    "start_time": "2023-04-06T13:45:40.924Z"
   },
   {
    "duration": 16,
    "start_time": "2023-04-06T13:45:40.942Z"
   },
   {
    "duration": 9,
    "start_time": "2023-04-06T13:45:40.960Z"
   },
   {
    "duration": 27,
    "start_time": "2023-04-06T13:45:40.971Z"
   },
   {
    "duration": 50,
    "start_time": "2023-04-06T13:45:40.999Z"
   },
   {
    "duration": 17,
    "start_time": "2023-04-06T13:45:41.051Z"
   },
   {
    "duration": 12,
    "start_time": "2023-04-06T13:45:41.070Z"
   },
   {
    "duration": 9,
    "start_time": "2023-04-06T13:45:41.083Z"
   },
   {
    "duration": 4,
    "start_time": "2023-04-06T13:45:41.093Z"
   },
   {
    "duration": 7,
    "start_time": "2023-04-06T13:45:41.098Z"
   },
   {
    "duration": 189,
    "start_time": "2023-04-06T13:45:41.106Z"
   },
   {
    "duration": 114,
    "start_time": "2023-04-06T13:45:41.296Z"
   },
   {
    "duration": 18,
    "start_time": "2023-04-06T13:45:41.412Z"
   },
   {
    "duration": 267,
    "start_time": "2023-04-06T13:45:41.441Z"
   },
   {
    "duration": 233,
    "start_time": "2023-04-06T13:45:41.710Z"
   },
   {
    "duration": 332,
    "start_time": "2023-04-06T13:45:41.944Z"
   },
   {
    "duration": 10,
    "start_time": "2023-04-06T13:45:42.277Z"
   },
   {
    "duration": 270,
    "start_time": "2023-04-06T13:45:42.288Z"
   },
   {
    "duration": 329,
    "start_time": "2023-04-06T13:45:42.560Z"
   },
   {
    "duration": 178,
    "start_time": "2023-04-06T13:45:42.891Z"
   },
   {
    "duration": 180,
    "start_time": "2023-04-06T13:45:43.070Z"
   },
   {
    "duration": 4,
    "start_time": "2023-04-06T13:45:43.252Z"
   },
   {
    "duration": 225,
    "start_time": "2023-04-06T13:45:43.257Z"
   },
   {
    "duration": 5,
    "start_time": "2023-04-06T13:45:43.485Z"
   },
   {
    "duration": 193,
    "start_time": "2023-04-06T13:45:43.492Z"
   },
   {
    "duration": 5,
    "start_time": "2023-04-06T13:45:43.687Z"
   },
   {
    "duration": 199,
    "start_time": "2023-04-06T13:45:43.694Z"
   },
   {
    "duration": 135,
    "start_time": "2023-04-06T13:45:43.895Z"
   },
   {
    "duration": 14,
    "start_time": "2023-04-06T13:45:44.032Z"
   },
   {
    "duration": 7,
    "start_time": "2023-04-06T13:45:44.048Z"
   },
   {
    "duration": 6,
    "start_time": "2023-04-06T13:45:44.057Z"
   },
   {
    "duration": 19,
    "start_time": "2023-04-06T13:45:44.064Z"
   },
   {
    "duration": 11,
    "start_time": "2023-04-06T13:45:44.084Z"
   },
   {
    "duration": 3,
    "start_time": "2023-04-06T13:46:05.536Z"
   },
   {
    "duration": 1084,
    "start_time": "2023-04-06T13:46:09.542Z"
   },
   {
    "duration": 65,
    "start_time": "2023-04-06T13:46:10.628Z"
   },
   {
    "duration": 2,
    "start_time": "2023-04-06T13:46:10.695Z"
   },
   {
    "duration": 20,
    "start_time": "2023-04-06T13:46:10.699Z"
   },
   {
    "duration": 17,
    "start_time": "2023-04-06T13:46:10.721Z"
   },
   {
    "duration": 16,
    "start_time": "2023-04-06T13:46:10.739Z"
   },
   {
    "duration": 7,
    "start_time": "2023-04-06T13:46:10.756Z"
   },
   {
    "duration": 29,
    "start_time": "2023-04-06T13:46:10.765Z"
   },
   {
    "duration": 14,
    "start_time": "2023-04-06T13:46:10.796Z"
   },
   {
    "duration": 30,
    "start_time": "2023-04-06T13:46:10.811Z"
   },
   {
    "duration": 12,
    "start_time": "2023-04-06T13:46:10.842Z"
   },
   {
    "duration": 11,
    "start_time": "2023-04-06T13:46:10.856Z"
   },
   {
    "duration": 5,
    "start_time": "2023-04-06T13:46:10.868Z"
   },
   {
    "duration": 9,
    "start_time": "2023-04-06T13:46:10.875Z"
   },
   {
    "duration": 169,
    "start_time": "2023-04-06T13:46:10.885Z"
   },
   {
    "duration": 114,
    "start_time": "2023-04-06T13:46:11.055Z"
   },
   {
    "duration": 10,
    "start_time": "2023-04-06T13:46:11.171Z"
   },
   {
    "duration": 250,
    "start_time": "2023-04-06T13:46:11.183Z"
   },
   {
    "duration": 232,
    "start_time": "2023-04-06T13:46:11.435Z"
   },
   {
    "duration": 314,
    "start_time": "2023-04-06T13:46:11.669Z"
   },
   {
    "duration": 10,
    "start_time": "2023-04-06T13:46:11.984Z"
   },
   {
    "duration": 271,
    "start_time": "2023-04-06T13:46:11.995Z"
   },
   {
    "duration": 331,
    "start_time": "2023-04-06T13:46:12.268Z"
   },
   {
    "duration": 172,
    "start_time": "2023-04-06T13:46:12.600Z"
   },
   {
    "duration": 187,
    "start_time": "2023-04-06T13:46:12.773Z"
   },
   {
    "duration": 5,
    "start_time": "2023-04-06T13:46:12.961Z"
   },
   {
    "duration": 228,
    "start_time": "2023-04-06T13:46:12.967Z"
   },
   {
    "duration": 5,
    "start_time": "2023-04-06T13:46:13.197Z"
   },
   {
    "duration": 193,
    "start_time": "2023-04-06T13:46:13.204Z"
   },
   {
    "duration": 4,
    "start_time": "2023-04-06T13:46:13.398Z"
   },
   {
    "duration": 205,
    "start_time": "2023-04-06T13:46:13.404Z"
   },
   {
    "duration": 158,
    "start_time": "2023-04-06T13:46:13.611Z"
   },
   {
    "duration": 10,
    "start_time": "2023-04-06T13:46:13.770Z"
   },
   {
    "duration": 12,
    "start_time": "2023-04-06T13:46:13.781Z"
   },
   {
    "duration": 8,
    "start_time": "2023-04-06T13:46:13.795Z"
   },
   {
    "duration": 43,
    "start_time": "2023-04-06T13:46:13.804Z"
   },
   {
    "duration": 13,
    "start_time": "2023-04-06T13:46:13.848Z"
   },
   {
    "duration": 4,
    "start_time": "2023-04-06T13:46:37.725Z"
   },
   {
    "duration": 1126,
    "start_time": "2023-04-06T13:46:41.635Z"
   },
   {
    "duration": 63,
    "start_time": "2023-04-06T13:46:42.763Z"
   },
   {
    "duration": 3,
    "start_time": "2023-04-06T13:46:42.828Z"
   },
   {
    "duration": 22,
    "start_time": "2023-04-06T13:46:42.832Z"
   },
   {
    "duration": 16,
    "start_time": "2023-04-06T13:46:42.856Z"
   },
   {
    "duration": 15,
    "start_time": "2023-04-06T13:46:42.874Z"
   },
   {
    "duration": 7,
    "start_time": "2023-04-06T13:46:42.890Z"
   },
   {
    "duration": 21,
    "start_time": "2023-04-06T13:46:42.940Z"
   },
   {
    "duration": 15,
    "start_time": "2023-04-06T13:46:42.962Z"
   },
   {
    "duration": 11,
    "start_time": "2023-04-06T13:46:42.978Z"
   },
   {
    "duration": 11,
    "start_time": "2023-04-06T13:46:42.990Z"
   },
   {
    "duration": 9,
    "start_time": "2023-04-06T13:46:43.040Z"
   },
   {
    "duration": 5,
    "start_time": "2023-04-06T13:46:43.051Z"
   },
   {
    "duration": 5,
    "start_time": "2023-04-06T13:46:43.058Z"
   },
   {
    "duration": 173,
    "start_time": "2023-04-06T13:46:43.065Z"
   },
   {
    "duration": 123,
    "start_time": "2023-04-06T13:46:43.240Z"
   },
   {
    "duration": 12,
    "start_time": "2023-04-06T13:46:43.365Z"
   },
   {
    "duration": 252,
    "start_time": "2023-04-06T13:46:43.378Z"
   },
   {
    "duration": 234,
    "start_time": "2023-04-06T13:46:43.632Z"
   },
   {
    "duration": 314,
    "start_time": "2023-04-06T13:46:43.867Z"
   },
   {
    "duration": 10,
    "start_time": "2023-04-06T13:46:44.183Z"
   },
   {
    "duration": 292,
    "start_time": "2023-04-06T13:46:44.194Z"
   },
   {
    "duration": 346,
    "start_time": "2023-04-06T13:46:44.488Z"
   },
   {
    "duration": 175,
    "start_time": "2023-04-06T13:46:44.836Z"
   },
   {
    "duration": 196,
    "start_time": "2023-04-06T13:46:45.012Z"
   },
   {
    "duration": 4,
    "start_time": "2023-04-06T13:46:45.210Z"
   },
   {
    "duration": 239,
    "start_time": "2023-04-06T13:46:45.216Z"
   },
   {
    "duration": 6,
    "start_time": "2023-04-06T13:46:45.457Z"
   },
   {
    "duration": 184,
    "start_time": "2023-04-06T13:46:45.464Z"
   },
   {
    "duration": 4,
    "start_time": "2023-04-06T13:46:45.649Z"
   },
   {
    "duration": 210,
    "start_time": "2023-04-06T13:46:45.655Z"
   },
   {
    "duration": 149,
    "start_time": "2023-04-06T13:46:45.866Z"
   },
   {
    "duration": 9,
    "start_time": "2023-04-06T13:46:46.016Z"
   },
   {
    "duration": 19,
    "start_time": "2023-04-06T13:46:46.026Z"
   },
   {
    "duration": 7,
    "start_time": "2023-04-06T13:46:46.046Z"
   },
   {
    "duration": 23,
    "start_time": "2023-04-06T13:46:46.054Z"
   },
   {
    "duration": 13,
    "start_time": "2023-04-06T13:46:46.078Z"
   },
   {
    "duration": 214,
    "start_time": "2023-04-06T13:47:02.093Z"
   },
   {
    "duration": 218,
    "start_time": "2023-04-06T13:47:11.266Z"
   },
   {
    "duration": 1077,
    "start_time": "2023-04-06T13:47:34.097Z"
   },
   {
    "duration": 66,
    "start_time": "2023-04-06T13:47:35.176Z"
   },
   {
    "duration": 3,
    "start_time": "2023-04-06T13:47:35.244Z"
   },
   {
    "duration": 23,
    "start_time": "2023-04-06T13:47:35.248Z"
   },
   {
    "duration": 16,
    "start_time": "2023-04-06T13:47:35.273Z"
   },
   {
    "duration": 14,
    "start_time": "2023-04-06T13:47:35.291Z"
   },
   {
    "duration": 9,
    "start_time": "2023-04-06T13:47:35.339Z"
   },
   {
    "duration": 24,
    "start_time": "2023-04-06T13:47:35.349Z"
   },
   {
    "duration": 17,
    "start_time": "2023-04-06T13:47:35.374Z"
   },
   {
    "duration": 14,
    "start_time": "2023-04-06T13:47:35.392Z"
   },
   {
    "duration": 36,
    "start_time": "2023-04-06T13:47:35.407Z"
   },
   {
    "duration": 11,
    "start_time": "2023-04-06T13:47:35.445Z"
   },
   {
    "duration": 5,
    "start_time": "2023-04-06T13:47:35.457Z"
   },
   {
    "duration": 5,
    "start_time": "2023-04-06T13:47:35.465Z"
   },
   {
    "duration": 190,
    "start_time": "2023-04-06T13:47:35.471Z"
   },
   {
    "duration": 116,
    "start_time": "2023-04-06T13:47:35.662Z"
   },
   {
    "duration": 14,
    "start_time": "2023-04-06T13:47:35.779Z"
   },
   {
    "duration": 263,
    "start_time": "2023-04-06T13:47:35.794Z"
   },
   {
    "duration": 241,
    "start_time": "2023-04-06T13:47:36.059Z"
   },
   {
    "duration": 354,
    "start_time": "2023-04-06T13:47:36.303Z"
   },
   {
    "duration": 9,
    "start_time": "2023-04-06T13:47:36.658Z"
   },
   {
    "duration": 265,
    "start_time": "2023-04-06T13:47:36.669Z"
   },
   {
    "duration": 381,
    "start_time": "2023-04-06T13:47:36.936Z"
   },
   {
    "duration": 172,
    "start_time": "2023-04-06T13:47:37.318Z"
   },
   {
    "duration": 186,
    "start_time": "2023-04-06T13:47:37.491Z"
   },
   {
    "duration": 3,
    "start_time": "2023-04-06T13:47:37.679Z"
   },
   {
    "duration": 174,
    "start_time": "2023-04-06T13:47:37.683Z"
   },
   {
    "duration": 5,
    "start_time": "2023-04-06T13:47:37.858Z"
   },
   {
    "duration": 111,
    "start_time": "2023-04-06T13:47:37.865Z"
   },
   {
    "duration": 0,
    "start_time": "2023-04-06T13:47:37.977Z"
   },
   {
    "duration": 0,
    "start_time": "2023-04-06T13:47:37.978Z"
   },
   {
    "duration": 0,
    "start_time": "2023-04-06T13:47:37.980Z"
   },
   {
    "duration": 0,
    "start_time": "2023-04-06T13:47:37.980Z"
   },
   {
    "duration": 0,
    "start_time": "2023-04-06T13:47:37.981Z"
   },
   {
    "duration": 0,
    "start_time": "2023-04-06T13:47:37.982Z"
   },
   {
    "duration": 0,
    "start_time": "2023-04-06T13:47:37.983Z"
   },
   {
    "duration": 0,
    "start_time": "2023-04-06T13:47:37.984Z"
   },
   {
    "duration": 1063,
    "start_time": "2023-04-06T13:48:14.864Z"
   },
   {
    "duration": 62,
    "start_time": "2023-04-06T13:48:15.928Z"
   },
   {
    "duration": 3,
    "start_time": "2023-04-06T13:48:15.991Z"
   },
   {
    "duration": 20,
    "start_time": "2023-04-06T13:48:15.995Z"
   },
   {
    "duration": 16,
    "start_time": "2023-04-06T13:48:16.017Z"
   },
   {
    "duration": 16,
    "start_time": "2023-04-06T13:48:16.034Z"
   },
   {
    "duration": 7,
    "start_time": "2023-04-06T13:48:16.051Z"
   },
   {
    "duration": 18,
    "start_time": "2023-04-06T13:48:16.060Z"
   },
   {
    "duration": 15,
    "start_time": "2023-04-06T13:48:16.079Z"
   },
   {
    "duration": 45,
    "start_time": "2023-04-06T13:48:16.095Z"
   },
   {
    "duration": 12,
    "start_time": "2023-04-06T13:48:16.142Z"
   },
   {
    "duration": 10,
    "start_time": "2023-04-06T13:48:16.156Z"
   },
   {
    "duration": 4,
    "start_time": "2023-04-06T13:48:16.167Z"
   },
   {
    "duration": 4,
    "start_time": "2023-04-06T13:48:16.174Z"
   },
   {
    "duration": 195,
    "start_time": "2023-04-06T13:48:16.179Z"
   },
   {
    "duration": 115,
    "start_time": "2023-04-06T13:48:16.376Z"
   },
   {
    "duration": 10,
    "start_time": "2023-04-06T13:48:16.493Z"
   },
   {
    "duration": 269,
    "start_time": "2023-04-06T13:48:16.505Z"
   },
   {
    "duration": 232,
    "start_time": "2023-04-06T13:48:16.776Z"
   },
   {
    "duration": 357,
    "start_time": "2023-04-06T13:48:17.010Z"
   },
   {
    "duration": 10,
    "start_time": "2023-04-06T13:48:17.369Z"
   },
   {
    "duration": 273,
    "start_time": "2023-04-06T13:48:17.381Z"
   },
   {
    "duration": 338,
    "start_time": "2023-04-06T13:48:17.656Z"
   },
   {
    "duration": 177,
    "start_time": "2023-04-06T13:48:17.995Z"
   },
   {
    "duration": 185,
    "start_time": "2023-04-06T13:48:18.173Z"
   },
   {
    "duration": 4,
    "start_time": "2023-04-06T13:48:18.359Z"
   },
   {
    "duration": 240,
    "start_time": "2023-04-06T13:48:18.364Z"
   },
   {
    "duration": 5,
    "start_time": "2023-04-06T13:48:18.606Z"
   },
   {
    "duration": 190,
    "start_time": "2023-04-06T13:48:18.613Z"
   },
   {
    "duration": 4,
    "start_time": "2023-04-06T13:48:18.805Z"
   },
   {
    "duration": 202,
    "start_time": "2023-04-06T13:48:18.810Z"
   },
   {
    "duration": 145,
    "start_time": "2023-04-06T13:48:19.014Z"
   },
   {
    "duration": 10,
    "start_time": "2023-04-06T13:48:19.161Z"
   },
   {
    "duration": 13,
    "start_time": "2023-04-06T13:48:19.172Z"
   },
   {
    "duration": 8,
    "start_time": "2023-04-06T13:48:19.187Z"
   },
   {
    "duration": 44,
    "start_time": "2023-04-06T13:48:19.197Z"
   },
   {
    "duration": 13,
    "start_time": "2023-04-06T13:48:19.243Z"
   },
   {
    "duration": 1054,
    "start_time": "2023-04-06T13:48:50.958Z"
   },
   {
    "duration": 62,
    "start_time": "2023-04-06T13:48:52.014Z"
   },
   {
    "duration": 3,
    "start_time": "2023-04-06T13:48:52.077Z"
   },
   {
    "duration": 35,
    "start_time": "2023-04-06T13:48:52.082Z"
   },
   {
    "duration": 16,
    "start_time": "2023-04-06T13:48:52.119Z"
   },
   {
    "duration": 159,
    "start_time": "2023-04-06T13:48:52.136Z"
   },
   {
    "duration": 8,
    "start_time": "2023-04-06T13:48:52.296Z"
   },
   {
    "duration": 24,
    "start_time": "2023-04-06T13:48:52.306Z"
   },
   {
    "duration": 18,
    "start_time": "2023-04-06T13:48:52.331Z"
   },
   {
    "duration": 13,
    "start_time": "2023-04-06T13:48:52.352Z"
   },
   {
    "duration": 13,
    "start_time": "2023-04-06T13:48:52.367Z"
   },
   {
    "duration": 9,
    "start_time": "2023-04-06T13:48:52.382Z"
   },
   {
    "duration": 8,
    "start_time": "2023-04-06T13:48:52.392Z"
   },
   {
    "duration": 7,
    "start_time": "2023-04-06T13:48:52.401Z"
   },
   {
    "duration": 186,
    "start_time": "2023-04-06T13:48:52.409Z"
   },
   {
    "duration": 126,
    "start_time": "2023-04-06T13:48:52.597Z"
   },
   {
    "duration": 21,
    "start_time": "2023-04-06T13:48:52.725Z"
   },
   {
    "duration": 277,
    "start_time": "2023-04-06T13:48:52.748Z"
   },
   {
    "duration": 230,
    "start_time": "2023-04-06T13:48:53.026Z"
   },
   {
    "duration": 312,
    "start_time": "2023-04-06T13:48:53.258Z"
   },
   {
    "duration": 9,
    "start_time": "2023-04-06T13:48:53.572Z"
   },
   {
    "duration": 259,
    "start_time": "2023-04-06T13:48:53.583Z"
   },
   {
    "duration": 346,
    "start_time": "2023-04-06T13:48:53.844Z"
   },
   {
    "duration": 178,
    "start_time": "2023-04-06T13:48:54.193Z"
   },
   {
    "duration": 195,
    "start_time": "2023-04-06T13:48:54.373Z"
   },
   {
    "duration": 4,
    "start_time": "2023-04-06T13:48:54.571Z"
   },
   {
    "duration": 241,
    "start_time": "2023-04-06T13:48:54.577Z"
   },
   {
    "duration": 6,
    "start_time": "2023-04-06T13:48:54.822Z"
   },
   {
    "duration": 185,
    "start_time": "2023-04-06T13:48:54.840Z"
   },
   {
    "duration": 12,
    "start_time": "2023-04-06T13:48:55.028Z"
   },
   {
    "duration": 205,
    "start_time": "2023-04-06T13:48:55.042Z"
   },
   {
    "duration": 229,
    "start_time": "2023-04-06T13:48:55.249Z"
   },
   {
    "duration": 0,
    "start_time": "2023-04-06T13:48:55.480Z"
   },
   {
    "duration": 0,
    "start_time": "2023-04-06T13:48:55.481Z"
   },
   {
    "duration": 0,
    "start_time": "2023-04-06T13:48:55.483Z"
   },
   {
    "duration": 0,
    "start_time": "2023-04-06T13:48:55.484Z"
   },
   {
    "duration": 0,
    "start_time": "2023-04-06T13:48:55.485Z"
   },
   {
    "duration": 1129,
    "start_time": "2023-04-06T13:49:52.600Z"
   },
   {
    "duration": 63,
    "start_time": "2023-04-06T13:49:53.731Z"
   },
   {
    "duration": 2,
    "start_time": "2023-04-06T13:49:53.796Z"
   },
   {
    "duration": 42,
    "start_time": "2023-04-06T13:49:53.800Z"
   },
   {
    "duration": 19,
    "start_time": "2023-04-06T13:49:53.845Z"
   },
   {
    "duration": 15,
    "start_time": "2023-04-06T13:49:53.865Z"
   },
   {
    "duration": 12,
    "start_time": "2023-04-06T13:49:53.882Z"
   },
   {
    "duration": 46,
    "start_time": "2023-04-06T13:49:53.895Z"
   },
   {
    "duration": 15,
    "start_time": "2023-04-06T13:49:53.942Z"
   },
   {
    "duration": 12,
    "start_time": "2023-04-06T13:49:53.959Z"
   },
   {
    "duration": 10,
    "start_time": "2023-04-06T13:49:53.972Z"
   },
   {
    "duration": 8,
    "start_time": "2023-04-06T13:49:53.983Z"
   },
   {
    "duration": 4,
    "start_time": "2023-04-06T13:49:53.993Z"
   },
   {
    "duration": 10,
    "start_time": "2023-04-06T13:49:53.999Z"
   },
   {
    "duration": 178,
    "start_time": "2023-04-06T13:49:54.010Z"
   },
   {
    "duration": 109,
    "start_time": "2023-04-06T13:49:54.190Z"
   },
   {
    "duration": 12,
    "start_time": "2023-04-06T13:49:54.301Z"
   },
   {
    "duration": 260,
    "start_time": "2023-04-06T13:49:54.315Z"
   },
   {
    "duration": 239,
    "start_time": "2023-04-06T13:49:54.576Z"
   },
   {
    "duration": 359,
    "start_time": "2023-04-06T13:49:54.817Z"
   },
   {
    "duration": 10,
    "start_time": "2023-04-06T13:49:55.178Z"
   },
   {
    "duration": 276,
    "start_time": "2023-04-06T13:49:55.190Z"
   },
   {
    "duration": 329,
    "start_time": "2023-04-06T13:49:55.467Z"
   },
   {
    "duration": 179,
    "start_time": "2023-04-06T13:49:55.798Z"
   },
   {
    "duration": 199,
    "start_time": "2023-04-06T13:49:55.979Z"
   },
   {
    "duration": 7,
    "start_time": "2023-04-06T13:49:56.180Z"
   },
   {
    "duration": 256,
    "start_time": "2023-04-06T13:49:56.188Z"
   },
   {
    "duration": 6,
    "start_time": "2023-04-06T13:49:56.445Z"
   },
   {
    "duration": 200,
    "start_time": "2023-04-06T13:49:56.452Z"
   },
   {
    "duration": 4,
    "start_time": "2023-04-06T13:49:56.653Z"
   },
   {
    "duration": 229,
    "start_time": "2023-04-06T13:49:56.659Z"
   },
   {
    "duration": 145,
    "start_time": "2023-04-06T13:49:56.889Z"
   },
   {
    "duration": 12,
    "start_time": "2023-04-06T13:49:57.036Z"
   },
   {
    "duration": 34,
    "start_time": "2023-04-06T13:49:57.049Z"
   },
   {
    "duration": 12,
    "start_time": "2023-04-06T13:49:57.084Z"
   },
   {
    "duration": 24,
    "start_time": "2023-04-06T13:49:57.098Z"
   },
   {
    "duration": 12,
    "start_time": "2023-04-06T13:49:57.124Z"
   },
   {
    "duration": 1322,
    "start_time": "2023-04-06T14:23:36.319Z"
   },
   {
    "duration": 85,
    "start_time": "2023-04-06T14:23:37.643Z"
   },
   {
    "duration": 3,
    "start_time": "2023-04-06T14:23:37.730Z"
   },
   {
    "duration": 35,
    "start_time": "2023-04-06T14:23:37.737Z"
   },
   {
    "duration": 36,
    "start_time": "2023-04-06T14:23:37.773Z"
   },
   {
    "duration": 34,
    "start_time": "2023-04-06T14:23:37.811Z"
   },
   {
    "duration": 10,
    "start_time": "2023-04-06T14:23:37.846Z"
   },
   {
    "duration": 78,
    "start_time": "2023-04-06T14:23:37.858Z"
   },
   {
    "duration": 74,
    "start_time": "2023-04-06T14:23:37.939Z"
   },
   {
    "duration": 22,
    "start_time": "2023-04-06T14:23:38.017Z"
   },
   {
    "duration": 64,
    "start_time": "2023-04-06T14:23:38.041Z"
   },
   {
    "duration": 23,
    "start_time": "2023-04-06T14:23:38.107Z"
   },
   {
    "duration": 34,
    "start_time": "2023-04-06T14:23:38.132Z"
   },
   {
    "duration": 37,
    "start_time": "2023-04-06T14:23:38.168Z"
   },
   {
    "duration": 328,
    "start_time": "2023-04-06T14:23:38.208Z"
   },
   {
    "duration": 391,
    "start_time": "2023-04-06T14:23:38.538Z"
   },
   {
    "duration": 75,
    "start_time": "2023-04-06T14:23:38.931Z"
   },
   {
    "duration": 629,
    "start_time": "2023-04-06T14:23:39.009Z"
   },
   {
    "duration": 883,
    "start_time": "2023-04-06T14:23:39.640Z"
   },
   {
    "duration": 671,
    "start_time": "2023-04-06T14:23:40.525Z"
   },
   {
    "duration": 22,
    "start_time": "2023-04-06T14:23:41.199Z"
   },
   {
    "duration": 893,
    "start_time": "2023-04-06T14:23:41.223Z"
   },
   {
    "duration": 816,
    "start_time": "2023-04-06T14:23:42.119Z"
   },
   {
    "duration": 562,
    "start_time": "2023-04-06T14:23:42.937Z"
   },
   {
    "duration": 612,
    "start_time": "2023-04-06T14:23:43.506Z"
   },
   {
    "duration": 5,
    "start_time": "2023-04-06T14:23:44.119Z"
   },
   {
    "duration": 673,
    "start_time": "2023-04-06T14:23:44.126Z"
   },
   {
    "duration": 9,
    "start_time": "2023-04-06T14:23:44.814Z"
   },
   {
    "duration": 585,
    "start_time": "2023-04-06T14:23:44.825Z"
   },
   {
    "duration": 4,
    "start_time": "2023-04-06T14:23:45.412Z"
   },
   {
    "duration": 683,
    "start_time": "2023-04-06T14:23:45.418Z"
   },
   {
    "duration": 585,
    "start_time": "2023-04-06T14:23:46.103Z"
   },
   {
    "duration": 22,
    "start_time": "2023-04-06T14:23:46.691Z"
   },
   {
    "duration": 14,
    "start_time": "2023-04-06T14:23:46.715Z"
   },
   {
    "duration": 30,
    "start_time": "2023-04-06T14:23:46.793Z"
   },
   {
    "duration": 83,
    "start_time": "2023-04-06T14:23:46.825Z"
   },
   {
    "duration": 20,
    "start_time": "2023-04-06T14:23:46.910Z"
   },
   {
    "duration": 79,
    "start_time": "2023-04-07T08:47:46.121Z"
   },
   {
    "duration": 1429,
    "start_time": "2023-04-07T08:55:40.635Z"
   },
   {
    "duration": 171,
    "start_time": "2023-04-07T08:55:42.066Z"
   },
   {
    "duration": 4,
    "start_time": "2023-04-07T08:55:42.239Z"
   },
   {
    "duration": 30,
    "start_time": "2023-04-07T08:55:42.244Z"
   },
   {
    "duration": 19,
    "start_time": "2023-04-07T08:55:42.277Z"
   },
   {
    "duration": 18,
    "start_time": "2023-04-07T08:55:42.298Z"
   },
   {
    "duration": 8,
    "start_time": "2023-04-07T08:55:42.317Z"
   },
   {
    "duration": 22,
    "start_time": "2023-04-07T08:55:42.362Z"
   },
   {
    "duration": 21,
    "start_time": "2023-04-07T08:55:42.386Z"
   },
   {
    "duration": 15,
    "start_time": "2023-04-07T08:55:42.409Z"
   },
   {
    "duration": 46,
    "start_time": "2023-04-07T08:55:42.426Z"
   },
   {
    "duration": 12,
    "start_time": "2023-04-07T08:55:42.474Z"
   },
   {
    "duration": 13,
    "start_time": "2023-04-07T08:55:42.488Z"
   },
   {
    "duration": 9,
    "start_time": "2023-04-07T08:55:42.504Z"
   },
   {
    "duration": 197,
    "start_time": "2023-04-07T08:55:42.515Z"
   },
   {
    "duration": 125,
    "start_time": "2023-04-07T08:55:42.714Z"
   },
   {
    "duration": 23,
    "start_time": "2023-04-07T08:55:42.840Z"
   },
   {
    "duration": 292,
    "start_time": "2023-04-07T08:55:42.864Z"
   },
   {
    "duration": 253,
    "start_time": "2023-04-07T08:55:43.157Z"
   },
   {
    "duration": 412,
    "start_time": "2023-04-07T08:55:43.412Z"
   },
   {
    "duration": 11,
    "start_time": "2023-04-07T08:55:43.826Z"
   },
   {
    "duration": 294,
    "start_time": "2023-04-07T08:55:43.839Z"
   },
   {
    "duration": 447,
    "start_time": "2023-04-07T08:55:44.136Z"
   },
   {
    "duration": 212,
    "start_time": "2023-04-07T08:55:44.585Z"
   },
   {
    "duration": 218,
    "start_time": "2023-04-07T08:55:44.799Z"
   },
   {
    "duration": 5,
    "start_time": "2023-04-07T08:55:45.018Z"
   },
   {
    "duration": 258,
    "start_time": "2023-04-07T08:55:45.024Z"
   },
   {
    "duration": 6,
    "start_time": "2023-04-07T08:55:45.284Z"
   },
   {
    "duration": 197,
    "start_time": "2023-04-07T08:55:45.291Z"
   },
   {
    "duration": 4,
    "start_time": "2023-04-07T08:55:45.490Z"
   },
   {
    "duration": 240,
    "start_time": "2023-04-07T08:55:45.496Z"
   },
   {
    "duration": 165,
    "start_time": "2023-04-07T08:55:45.737Z"
   },
   {
    "duration": 11,
    "start_time": "2023-04-07T08:55:45.904Z"
   },
   {
    "duration": 15,
    "start_time": "2023-04-07T08:55:45.917Z"
   },
   {
    "duration": 28,
    "start_time": "2023-04-07T08:55:45.934Z"
   },
   {
    "duration": 37,
    "start_time": "2023-04-07T08:55:45.964Z"
   },
   {
    "duration": 15,
    "start_time": "2023-04-07T08:55:46.003Z"
   },
   {
    "duration": 1249,
    "start_time": "2023-04-07T09:00:09.641Z"
   },
   {
    "duration": 62,
    "start_time": "2023-04-07T09:00:10.893Z"
   },
   {
    "duration": 3,
    "start_time": "2023-04-07T09:00:10.957Z"
   },
   {
    "duration": 30,
    "start_time": "2023-04-07T09:00:10.962Z"
   },
   {
    "duration": 22,
    "start_time": "2023-04-07T09:00:10.994Z"
   },
   {
    "duration": 51,
    "start_time": "2023-04-07T09:00:11.018Z"
   },
   {
    "duration": 8,
    "start_time": "2023-04-07T09:00:11.071Z"
   },
   {
    "duration": 24,
    "start_time": "2023-04-07T09:00:11.081Z"
   },
   {
    "duration": 18,
    "start_time": "2023-04-07T09:00:11.106Z"
   },
   {
    "duration": 50,
    "start_time": "2023-04-07T09:00:11.125Z"
   },
   {
    "duration": 25,
    "start_time": "2023-04-07T09:00:11.177Z"
   },
   {
    "duration": 13,
    "start_time": "2023-04-07T09:00:11.203Z"
   },
   {
    "duration": 9,
    "start_time": "2023-04-07T09:00:11.218Z"
   },
   {
    "duration": 8,
    "start_time": "2023-04-07T09:00:11.231Z"
   },
   {
    "duration": 209,
    "start_time": "2023-04-07T09:00:11.241Z"
   },
   {
    "duration": 147,
    "start_time": "2023-04-07T09:00:11.452Z"
   },
   {
    "duration": 15,
    "start_time": "2023-04-07T09:00:11.601Z"
   },
   {
    "duration": 362,
    "start_time": "2023-04-07T09:00:11.617Z"
   },
   {
    "duration": 266,
    "start_time": "2023-04-07T09:00:11.980Z"
   },
   {
    "duration": 373,
    "start_time": "2023-04-07T09:00:12.248Z"
   },
   {
    "duration": 12,
    "start_time": "2023-04-07T09:00:12.622Z"
   },
   {
    "duration": 366,
    "start_time": "2023-04-07T09:00:12.635Z"
   },
   {
    "duration": 350,
    "start_time": "2023-04-07T09:00:13.003Z"
   },
   {
    "duration": 211,
    "start_time": "2023-04-07T09:00:13.355Z"
   },
   {
    "duration": 230,
    "start_time": "2023-04-07T09:00:13.569Z"
   },
   {
    "duration": 4,
    "start_time": "2023-04-07T09:00:13.801Z"
   },
   {
    "duration": 311,
    "start_time": "2023-04-07T09:00:13.807Z"
   },
   {
    "duration": 7,
    "start_time": "2023-04-07T09:00:14.120Z"
   },
   {
    "duration": 218,
    "start_time": "2023-04-07T09:00:14.129Z"
   },
   {
    "duration": 4,
    "start_time": "2023-04-07T09:00:14.349Z"
   },
   {
    "duration": 235,
    "start_time": "2023-04-07T09:00:14.355Z"
   },
   {
    "duration": 151,
    "start_time": "2023-04-07T09:00:14.592Z"
   },
   {
    "duration": 22,
    "start_time": "2023-04-07T09:00:14.744Z"
   },
   {
    "duration": 9,
    "start_time": "2023-04-07T09:00:14.768Z"
   },
   {
    "duration": 9,
    "start_time": "2023-04-07T09:00:14.779Z"
   },
   {
    "duration": 24,
    "start_time": "2023-04-07T09:00:14.790Z"
   },
   {
    "duration": 45,
    "start_time": "2023-04-07T09:00:14.817Z"
   },
   {
    "duration": 166,
    "start_time": "2023-04-07T09:06:01.173Z"
   },
   {
    "duration": 170,
    "start_time": "2023-04-07T09:08:49.393Z"
   },
   {
    "duration": 151,
    "start_time": "2023-04-07T09:09:10.497Z"
   },
   {
    "duration": 4,
    "start_time": "2023-04-07T09:10:27.549Z"
   },
   {
    "duration": 4,
    "start_time": "2023-04-07T09:10:45.306Z"
   },
   {
    "duration": 11,
    "start_time": "2023-04-07T09:11:17.524Z"
   },
   {
    "duration": 11,
    "start_time": "2023-04-07T09:11:57.953Z"
   },
   {
    "duration": 1258,
    "start_time": "2023-04-07T09:12:53.757Z"
   },
   {
    "duration": 61,
    "start_time": "2023-04-07T09:12:55.017Z"
   },
   {
    "duration": 4,
    "start_time": "2023-04-07T09:12:55.080Z"
   },
   {
    "duration": 30,
    "start_time": "2023-04-07T09:12:55.086Z"
   },
   {
    "duration": 43,
    "start_time": "2023-04-07T09:12:55.119Z"
   },
   {
    "duration": 22,
    "start_time": "2023-04-07T09:12:55.165Z"
   },
   {
    "duration": 9,
    "start_time": "2023-04-07T09:12:55.189Z"
   },
   {
    "duration": 30,
    "start_time": "2023-04-07T09:12:55.200Z"
   },
   {
    "duration": 41,
    "start_time": "2023-04-07T09:12:55.231Z"
   },
   {
    "duration": 15,
    "start_time": "2023-04-07T09:12:55.274Z"
   },
   {
    "duration": 23,
    "start_time": "2023-04-07T09:12:55.290Z"
   },
   {
    "duration": 15,
    "start_time": "2023-04-07T09:12:55.315Z"
   },
   {
    "duration": 31,
    "start_time": "2023-04-07T09:12:55.332Z"
   },
   {
    "duration": 6,
    "start_time": "2023-04-07T09:12:55.366Z"
   },
   {
    "duration": 189,
    "start_time": "2023-04-07T09:12:55.374Z"
   },
   {
    "duration": 132,
    "start_time": "2023-04-07T09:12:55.565Z"
   },
   {
    "duration": 15,
    "start_time": "2023-04-07T09:12:55.699Z"
   },
   {
    "duration": 346,
    "start_time": "2023-04-07T09:12:55.716Z"
   },
   {
    "duration": 259,
    "start_time": "2023-04-07T09:12:56.063Z"
   },
   {
    "duration": 369,
    "start_time": "2023-04-07T09:12:56.324Z"
   },
   {
    "duration": 10,
    "start_time": "2023-04-07T09:12:56.695Z"
   },
   {
    "duration": 306,
    "start_time": "2023-04-07T09:12:56.707Z"
   },
   {
    "duration": 377,
    "start_time": "2023-04-07T09:12:57.015Z"
   },
   {
    "duration": 199,
    "start_time": "2023-04-07T09:12:57.394Z"
   },
   {
    "duration": 199,
    "start_time": "2023-04-07T09:12:57.594Z"
   },
   {
    "duration": 4,
    "start_time": "2023-04-07T09:12:57.795Z"
   },
   {
    "duration": 262,
    "start_time": "2023-04-07T09:12:57.800Z"
   },
   {
    "duration": 5,
    "start_time": "2023-04-07T09:12:58.064Z"
   },
   {
    "duration": 208,
    "start_time": "2023-04-07T09:12:58.071Z"
   },
   {
    "duration": 5,
    "start_time": "2023-04-07T09:12:58.280Z"
   },
   {
    "duration": 231,
    "start_time": "2023-04-07T09:12:58.287Z"
   },
   {
    "duration": 167,
    "start_time": "2023-04-07T09:12:58.519Z"
   },
   {
    "duration": 9,
    "start_time": "2023-04-07T09:12:58.688Z"
   },
   {
    "duration": 14,
    "start_time": "2023-04-07T09:12:58.699Z"
   },
   {
    "duration": 17,
    "start_time": "2023-04-07T09:12:58.715Z"
   },
   {
    "duration": 35,
    "start_time": "2023-04-07T09:12:58.733Z"
   },
   {
    "duration": 14,
    "start_time": "2023-04-07T09:12:58.770Z"
   },
   {
    "duration": 19,
    "start_time": "2023-04-07T09:21:36.738Z"
   },
   {
    "duration": 12,
    "start_time": "2023-04-07T09:21:43.493Z"
   },
   {
    "duration": 80,
    "start_time": "2023-04-07T09:24:38.376Z"
   },
   {
    "duration": 45,
    "start_time": "2023-04-07T09:32:51.887Z"
   },
   {
    "duration": 41,
    "start_time": "2023-04-07T09:33:04.784Z"
   },
   {
    "duration": 29,
    "start_time": "2023-04-07T09:36:47.586Z"
   },
   {
    "duration": 1224,
    "start_time": "2023-04-07T09:37:00.486Z"
   },
   {
    "duration": 63,
    "start_time": "2023-04-07T09:37:01.712Z"
   },
   {
    "duration": 4,
    "start_time": "2023-04-07T09:37:01.777Z"
   },
   {
    "duration": 74,
    "start_time": "2023-04-07T09:37:01.784Z"
   },
   {
    "duration": 21,
    "start_time": "2023-04-07T09:37:01.861Z"
   },
   {
    "duration": 19,
    "start_time": "2023-04-07T09:37:01.884Z"
   },
   {
    "duration": 12,
    "start_time": "2023-04-07T09:37:01.905Z"
   },
   {
    "duration": 53,
    "start_time": "2023-04-07T09:37:01.919Z"
   },
   {
    "duration": 22,
    "start_time": "2023-04-07T09:37:01.974Z"
   },
   {
    "duration": 39,
    "start_time": "2023-04-07T09:37:01.997Z"
   },
   {
    "duration": 21,
    "start_time": "2023-04-07T09:37:02.038Z"
   },
   {
    "duration": 37,
    "start_time": "2023-04-07T09:37:02.062Z"
   },
   {
    "duration": 75,
    "start_time": "2023-04-07T09:37:02.101Z"
   },
   {
    "duration": 44,
    "start_time": "2023-04-07T09:37:02.179Z"
   },
   {
    "duration": 180,
    "start_time": "2023-04-07T09:37:02.225Z"
   },
   {
    "duration": 135,
    "start_time": "2023-04-07T09:37:02.407Z"
   },
   {
    "duration": 40,
    "start_time": "2023-04-07T09:37:02.544Z"
   },
   {
    "duration": 359,
    "start_time": "2023-04-07T09:37:02.586Z"
   },
   {
    "duration": 262,
    "start_time": "2023-04-07T09:37:02.947Z"
   },
   {
    "duration": 339,
    "start_time": "2023-04-07T09:37:03.211Z"
   },
   {
    "duration": 19,
    "start_time": "2023-04-07T09:37:03.552Z"
   },
   {
    "duration": 325,
    "start_time": "2023-04-07T09:37:03.572Z"
   },
   {
    "duration": 393,
    "start_time": "2023-04-07T09:37:03.899Z"
   },
   {
    "duration": 206,
    "start_time": "2023-04-07T09:37:04.294Z"
   },
   {
    "duration": 207,
    "start_time": "2023-04-07T09:37:04.501Z"
   },
   {
    "duration": 5,
    "start_time": "2023-04-07T09:37:04.710Z"
   },
   {
    "duration": 260,
    "start_time": "2023-04-07T09:37:04.718Z"
   },
   {
    "duration": 7,
    "start_time": "2023-04-07T09:37:04.979Z"
   },
   {
    "duration": 203,
    "start_time": "2023-04-07T09:37:04.987Z"
   },
   {
    "duration": 5,
    "start_time": "2023-04-07T09:37:05.191Z"
   },
   {
    "duration": 248,
    "start_time": "2023-04-07T09:37:05.198Z"
   },
   {
    "duration": 169,
    "start_time": "2023-04-07T09:37:05.448Z"
   },
   {
    "duration": 12,
    "start_time": "2023-04-07T09:37:05.619Z"
   },
   {
    "duration": 21,
    "start_time": "2023-04-07T09:37:05.633Z"
   },
   {
    "duration": 19,
    "start_time": "2023-04-07T09:37:05.655Z"
   },
   {
    "duration": 35,
    "start_time": "2023-04-07T09:37:05.676Z"
   },
   {
    "duration": 20,
    "start_time": "2023-04-07T09:37:05.712Z"
   }
  ],
  "kernelspec": {
   "display_name": "Python 3 (ipykernel)",
   "language": "python",
   "name": "python3"
  },
  "language_info": {
   "codemirror_mode": {
    "name": "ipython",
    "version": 3
   },
   "file_extension": ".py",
   "mimetype": "text/x-python",
   "name": "python",
   "nbconvert_exporter": "python",
   "pygments_lexer": "ipython3",
   "version": "3.9.5"
  },
  "toc": {
   "base_numbering": 1,
   "nav_menu": {},
   "number_sections": true,
   "sideBar": true,
   "skip_h1_title": true,
   "title_cell": "Table of Contents",
   "title_sidebar": "Contents",
   "toc_cell": false,
   "toc_position": {},
   "toc_section_display": true,
   "toc_window_display": true
  }
 },
 "nbformat": 4,
 "nbformat_minor": 2
}
